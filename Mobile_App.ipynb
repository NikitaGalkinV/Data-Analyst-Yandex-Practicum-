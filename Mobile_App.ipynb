{
  "cells": [
    {
      "cell_type": "markdown",
      "metadata": {
        "id": "view-in-github",
        "colab_type": "text"
      },
      "source": [
        "<a href=\"https://colab.research.google.com/github/NikitaGalkinV/Data-Analyst-Yandex-Practicum-/blob/main/Mobile_App.ipynb\" target=\"_parent\"><img src=\"https://colab.research.google.com/assets/colab-badge.svg\" alt=\"Open In Colab\"/></a>"
      ]
    },
    {
      "cell_type": "markdown",
      "metadata": {
        "id": "QvasxJ9cjvlk"
      },
      "source": [
        "# Mobile application \"Unnecessary things\" - Selection of user groups based on behavior"
      ]
    },
    {
      "cell_type": "markdown",
      "metadata": {
        "id": "kP5RhDT1jvll"
      },
      "source": [
        "## Project description"
      ]
    },
    {
      "cell_type": "markdown",
      "metadata": {
        "id": "oSEgjJezjvlm"
      },
      "source": [
        "**Dashboard:** \n",
        "https://public.tableau.com/authoring/_16817484648260/sheet3#1"
      ]
    },
    {
      "cell_type": "markdown",
      "metadata": {
        "id": "fRVThhaDjvlm"
      },
      "source": [
        "<span style=\"font-size: 1.5em;\">Junk Stuff mobile app where users sell their junk items by posting them on the bulletin board.</span>\n",
        "\n",
        "\n",
        "**Goal:** Based on user groups, adapt the application to the target and adjacent audience, as well as improve the application in terms of user experience (UX)\n",
        "\n",
        "**Result:** which is the target (conversion and RR to be determined) - which is adjacent\n",
        "\n",
        "**Tasks:**\n",
        "- Select groups of users that differ in metrics\n",
        "     - retention rate\n",
        "     - App time\n",
        "     - Frequency of events\n",
        "     - Conversion to target action\n",
        "\n",
        "**Main questions:**\n",
        "- Users of which group tend to return to the mobile application frequently\n",
        "- Users of which group do the target event more often\n",
        "\n",
        "**Target action:** contacts show\n",
        "\n",
        "**Presentation of the research results:** to top management - a detailed description of the findings and easy-to-read accompanying graphics"
      ]
    },
    {
      "cell_type": "markdown",
      "metadata": {
        "id": "O4ydq42cjvlm"
      },
      "source": [
        "## Data Description"
      ]
    },
    {
      "cell_type": "markdown",
      "metadata": {
        "id": "6Puggyynjvlm"
      },
      "source": [
        "The dataset contains data about events that took place in the \"Unnecessary things\" mobile application. In it, users sell their unwanted items by posting them on the bulletin board.\n",
        "\n",
        "Dataset **mobile_dataset.csv** contains columns:\n",
        "\n",
        "- `event.time` - the time of the event\n",
        "- `event.name` — event name\n",
        "- `user.id` — user ID\n",
        "\n",
        "The dataset **mobile_sources.csv** contains the following columns:\n",
        "\n",
        "- `userId` — user ID\n",
        "- `source` is the source from which the user installed the application\n",
        "\n",
        "**Transcription of events:**\n",
        "\n",
        "- `advert_open` — opening an ad card\n",
        "- `photos_show` - view photos in the ad\n",
        "- `tips_show` - the user saw recommended ads\n",
        "- `tips_click` - the user clicked on the recommended ad\n",
        "- `contacts_show` and `show_contacts` - the user clicked on the \"view phone number\" button on the ad card\n",
        "- `contacts_call` - the user called the phone number on the announcement card\n",
        "- `map` — the user has opened a map of posted ads\n",
        "- `search_1` - `search_7` - various events related to site search\n",
        "- `favorites_add` — add ad to favorites"
      ]
    },
    {
      "cell_type": "markdown",
      "metadata": {
        "tags": [],
        "id": "vbIji1Jrjvln"
      },
      "source": [
        "## Data preprocessing"
      ]
    },
    {
      "cell_type": "markdown",
      "metadata": {
        "id": "dkbEzTa_jvln"
      },
      "source": [
        "### Import libraries, dataset"
      ]
    },
    {
      "cell_type": "code",
      "execution_count": null,
      "metadata": {
        "jupyter": {
          "source_hidden": true
        },
        "tags": [],
        "id": "oH6wwisbjvln"
      },
      "outputs": [],
      "source": [
        "import pandas as pd\n",
        "import numpy as np\n",
        "import seaborn as sns\n",
        "import matplotlib.pyplot as plt\n",
        "import datetime as dt\n",
        "from plotly.offline import download_plotlyjs, init_notebook_mode, plot, iplot\n",
        "import plotly.graph_objs as go\n",
        "import plotly.express as px\n",
        "import plotly.figure_factory as ff\n",
        "import math as mth\n",
        "import warnings\n",
        "from datetime import datetime, timedelta\n",
        "\n",
        "warnings.filterwarnings('ignore')\n",
        "pd.set_option('display.max_colwidth', -1)\n",
        "\n",
        "from plotly.subplots import make_subplots\n",
        "import scipy.stats as st\n",
        "from statsmodels.stats.proportion import proportions_ztest\n",
        "from scipy.stats import ttest_ind\n"
      ]
    },
    {
      "cell_type": "code",
      "execution_count": null,
      "metadata": {
        "jupyter": {
          "source_hidden": true
        },
        "tags": [],
        "id": "NmqyeOpijvlo",
        "outputId": "767d8753-1199-48cc-f3dd-9489cea405be"
      },
      "outputs": [
        {
          "data": {
            "text/html": [
              "<div>\n",
              "<style scoped>\n",
              "    .dataframe tbody tr th:only-of-type {\n",
              "        vertical-align: middle;\n",
              "    }\n",
              "\n",
              "    .dataframe tbody tr th {\n",
              "        vertical-align: top;\n",
              "    }\n",
              "\n",
              "    .dataframe thead th {\n",
              "        text-align: right;\n",
              "    }\n",
              "</style>\n",
              "<table border=\"1\" class=\"dataframe\">\n",
              "  <thead>\n",
              "    <tr style=\"text-align: right;\">\n",
              "      <th></th>\n",
              "      <th>userId</th>\n",
              "      <th>source</th>\n",
              "    </tr>\n",
              "  </thead>\n",
              "  <tbody>\n",
              "    <tr>\n",
              "      <th>0</th>\n",
              "      <td>020292ab-89bc-4156-9acf-68bc2783f894</td>\n",
              "      <td>other</td>\n",
              "    </tr>\n",
              "    <tr>\n",
              "      <th>1</th>\n",
              "      <td>cf7eda61-9349-469f-ac27-e5b6f5ec475c</td>\n",
              "      <td>yandex</td>\n",
              "    </tr>\n",
              "    <tr>\n",
              "      <th>2</th>\n",
              "      <td>8c356c42-3ba9-4cb6-80b8-3f868d0192c3</td>\n",
              "      <td>yandex</td>\n",
              "    </tr>\n",
              "    <tr>\n",
              "      <th>3</th>\n",
              "      <td>d9b06b47-0f36-419b-bbb0-3533e582a6cb</td>\n",
              "      <td>other</td>\n",
              "    </tr>\n",
              "    <tr>\n",
              "      <th>4</th>\n",
              "      <td>f32e1e2a-3027-4693-b793-b7b3ff274439</td>\n",
              "      <td>google</td>\n",
              "    </tr>\n",
              "    <tr>\n",
              "      <th>...</th>\n",
              "      <td>...</td>\n",
              "      <td>...</td>\n",
              "    </tr>\n",
              "    <tr>\n",
              "      <th>4288</th>\n",
              "      <td>b86fe56e-f2de-4f8a-b192-cd89a37ecd41</td>\n",
              "      <td>yandex</td>\n",
              "    </tr>\n",
              "    <tr>\n",
              "      <th>4289</th>\n",
              "      <td>424c0ae1-3ea3-4f1e-a814-6bac73e48ab1</td>\n",
              "      <td>yandex</td>\n",
              "    </tr>\n",
              "    <tr>\n",
              "      <th>4290</th>\n",
              "      <td>437a4cd4-9ba9-457f-8614-d142bc48fbeb</td>\n",
              "      <td>yandex</td>\n",
              "    </tr>\n",
              "    <tr>\n",
              "      <th>4291</th>\n",
              "      <td>c10055f0-0b47-477a-869e-d391b31fdf8f</td>\n",
              "      <td>yandex</td>\n",
              "    </tr>\n",
              "    <tr>\n",
              "      <th>4292</th>\n",
              "      <td>d157bffc-264d-4464-8220-1cc0c42f43a9</td>\n",
              "      <td>google</td>\n",
              "    </tr>\n",
              "  </tbody>\n",
              "</table>\n",
              "<p>4293 rows × 2 columns</p>\n",
              "</div>"
            ],
            "text/plain": [
              "                                    userId  source\n",
              "0     020292ab-89bc-4156-9acf-68bc2783f894  other \n",
              "1     cf7eda61-9349-469f-ac27-e5b6f5ec475c  yandex\n",
              "2     8c356c42-3ba9-4cb6-80b8-3f868d0192c3  yandex\n",
              "3     d9b06b47-0f36-419b-bbb0-3533e582a6cb  other \n",
              "4     f32e1e2a-3027-4693-b793-b7b3ff274439  google\n",
              "...                                    ...     ...\n",
              "4288  b86fe56e-f2de-4f8a-b192-cd89a37ecd41  yandex\n",
              "4289  424c0ae1-3ea3-4f1e-a814-6bac73e48ab1  yandex\n",
              "4290  437a4cd4-9ba9-457f-8614-d142bc48fbeb  yandex\n",
              "4291  c10055f0-0b47-477a-869e-d391b31fdf8f  yandex\n",
              "4292  d157bffc-264d-4464-8220-1cc0c42f43a9  google\n",
              "\n",
              "[4293 rows x 2 columns]"
            ]
          },
          "metadata": {},
          "output_type": "display_data"
        },
        {
          "data": {
            "text/html": [
              "<div>\n",
              "<style scoped>\n",
              "    .dataframe tbody tr th:only-of-type {\n",
              "        vertical-align: middle;\n",
              "    }\n",
              "\n",
              "    .dataframe tbody tr th {\n",
              "        vertical-align: top;\n",
              "    }\n",
              "\n",
              "    .dataframe thead th {\n",
              "        text-align: right;\n",
              "    }\n",
              "</style>\n",
              "<table border=\"1\" class=\"dataframe\">\n",
              "  <thead>\n",
              "    <tr style=\"text-align: right;\">\n",
              "      <th></th>\n",
              "      <th>event.time</th>\n",
              "      <th>event.name</th>\n",
              "      <th>user.id</th>\n",
              "    </tr>\n",
              "  </thead>\n",
              "  <tbody>\n",
              "    <tr>\n",
              "      <th>0</th>\n",
              "      <td>2019-10-07 00:00:00.431357</td>\n",
              "      <td>advert_open</td>\n",
              "      <td>020292ab-89bc-4156-9acf-68bc2783f894</td>\n",
              "    </tr>\n",
              "    <tr>\n",
              "      <th>1</th>\n",
              "      <td>2019-10-07 00:00:01.236320</td>\n",
              "      <td>tips_show</td>\n",
              "      <td>020292ab-89bc-4156-9acf-68bc2783f894</td>\n",
              "    </tr>\n",
              "    <tr>\n",
              "      <th>2</th>\n",
              "      <td>2019-10-07 00:00:02.245341</td>\n",
              "      <td>tips_show</td>\n",
              "      <td>cf7eda61-9349-469f-ac27-e5b6f5ec475c</td>\n",
              "    </tr>\n",
              "    <tr>\n",
              "      <th>3</th>\n",
              "      <td>2019-10-07 00:00:07.039334</td>\n",
              "      <td>tips_show</td>\n",
              "      <td>020292ab-89bc-4156-9acf-68bc2783f894</td>\n",
              "    </tr>\n",
              "    <tr>\n",
              "      <th>4</th>\n",
              "      <td>2019-10-07 00:00:56.319813</td>\n",
              "      <td>advert_open</td>\n",
              "      <td>cf7eda61-9349-469f-ac27-e5b6f5ec475c</td>\n",
              "    </tr>\n",
              "    <tr>\n",
              "      <th>...</th>\n",
              "      <td>...</td>\n",
              "      <td>...</td>\n",
              "      <td>...</td>\n",
              "    </tr>\n",
              "    <tr>\n",
              "      <th>74192</th>\n",
              "      <td>2019-11-03 23:53:29.534986</td>\n",
              "      <td>tips_show</td>\n",
              "      <td>28fccdf4-7b9e-42f5-bc73-439a265f20e9</td>\n",
              "    </tr>\n",
              "    <tr>\n",
              "      <th>74193</th>\n",
              "      <td>2019-11-03 23:54:00.407086</td>\n",
              "      <td>tips_show</td>\n",
              "      <td>28fccdf4-7b9e-42f5-bc73-439a265f20e9</td>\n",
              "    </tr>\n",
              "    <tr>\n",
              "      <th>74194</th>\n",
              "      <td>2019-11-03 23:56:57.041825</td>\n",
              "      <td>search_1</td>\n",
              "      <td>20850c8f-4135-4059-b13b-198d3ac59902</td>\n",
              "    </tr>\n",
              "    <tr>\n",
              "      <th>74195</th>\n",
              "      <td>2019-11-03 23:57:06.232189</td>\n",
              "      <td>tips_show</td>\n",
              "      <td>28fccdf4-7b9e-42f5-bc73-439a265f20e9</td>\n",
              "    </tr>\n",
              "    <tr>\n",
              "      <th>74196</th>\n",
              "      <td>2019-11-03 23:58:12.532487</td>\n",
              "      <td>tips_show</td>\n",
              "      <td>28fccdf4-7b9e-42f5-bc73-439a265f20e9</td>\n",
              "    </tr>\n",
              "  </tbody>\n",
              "</table>\n",
              "<p>74197 rows × 3 columns</p>\n",
              "</div>"
            ],
            "text/plain": [
              "                       event.time   event.name  \\\n",
              "0      2019-10-07 00:00:00.431357  advert_open   \n",
              "1      2019-10-07 00:00:01.236320  tips_show     \n",
              "2      2019-10-07 00:00:02.245341  tips_show     \n",
              "3      2019-10-07 00:00:07.039334  tips_show     \n",
              "4      2019-10-07 00:00:56.319813  advert_open   \n",
              "...                           ...          ...   \n",
              "74192  2019-11-03 23:53:29.534986  tips_show     \n",
              "74193  2019-11-03 23:54:00.407086  tips_show     \n",
              "74194  2019-11-03 23:56:57.041825  search_1      \n",
              "74195  2019-11-03 23:57:06.232189  tips_show     \n",
              "74196  2019-11-03 23:58:12.532487  tips_show     \n",
              "\n",
              "                                    user.id  \n",
              "0      020292ab-89bc-4156-9acf-68bc2783f894  \n",
              "1      020292ab-89bc-4156-9acf-68bc2783f894  \n",
              "2      cf7eda61-9349-469f-ac27-e5b6f5ec475c  \n",
              "3      020292ab-89bc-4156-9acf-68bc2783f894  \n",
              "4      cf7eda61-9349-469f-ac27-e5b6f5ec475c  \n",
              "...                                     ...  \n",
              "74192  28fccdf4-7b9e-42f5-bc73-439a265f20e9  \n",
              "74193  28fccdf4-7b9e-42f5-bc73-439a265f20e9  \n",
              "74194  20850c8f-4135-4059-b13b-198d3ac59902  \n",
              "74195  28fccdf4-7b9e-42f5-bc73-439a265f20e9  \n",
              "74196  28fccdf4-7b9e-42f5-bc73-439a265f20e9  \n",
              "\n",
              "[74197 rows x 3 columns]"
            ]
          },
          "metadata": {},
          "output_type": "display_data"
        }
      ],
      "source": [
        "mobile_sourсes = pd.read_csv('https://code.s3.yandex.net/datasets/mobile_soures.csv')\n",
        "mobile_dataset = pd.read_csv('https://code.s3.yandex.net/datasets/mobile_dataset.csv')\n",
        "\n",
        "display(mobile_sourсes)\n",
        "display(mobile_dataset)"
      ]
    },
    {
      "cell_type": "markdown",
      "metadata": {
        "id": "iNgSDPyZjvlp"
      },
      "source": [
        "### Check for gaps, duplicates and data types"
      ]
    },
    {
      "cell_type": "code",
      "execution_count": null,
      "metadata": {
        "scrolled": true,
        "id": "PeHTS5oFjvlp",
        "outputId": "0a18768e-9b1f-40e5-9dbb-18a917278722"
      },
      "outputs": [
        {
          "name": "stdout",
          "output_type": "stream",
          "text": [
            "<class 'pandas.core.frame.DataFrame'>\n",
            "RangeIndex: 4293 entries, 0 to 4292\n",
            "Data columns (total 2 columns):\n",
            " #   Column  Non-Null Count  Dtype \n",
            "---  ------  --------------  ----- \n",
            " 0   userId  4293 non-null   object\n",
            " 1   source  4293 non-null   object\n",
            "dtypes: object(2)\n",
            "memory usage: 67.2+ KB\n"
          ]
        }
      ],
      "source": [
        "mobile_sourсes.info()"
      ]
    },
    {
      "cell_type": "code",
      "execution_count": null,
      "metadata": {
        "id": "wCzbynH7jvlp",
        "outputId": "24db962d-fdd7-4ea6-b87c-f0951da5a2f4"
      },
      "outputs": [
        {
          "name": "stdout",
          "output_type": "stream",
          "text": [
            "<class 'pandas.core.frame.DataFrame'>\n",
            "RangeIndex: 74197 entries, 0 to 74196\n",
            "Data columns (total 3 columns):\n",
            " #   Column      Non-Null Count  Dtype \n",
            "---  ------      --------------  ----- \n",
            " 0   event.time  74197 non-null  object\n",
            " 1   event.name  74197 non-null  object\n",
            " 2   user.id     74197 non-null  object\n",
            "dtypes: object(3)\n",
            "memory usage: 1.7+ MB\n"
          ]
        }
      ],
      "source": [
        "mobile_dataset.info()"
      ]
    },
    {
      "cell_type": "code",
      "execution_count": null,
      "metadata": {
        "id": "54X1xT2ajvlp"
      },
      "outputs": [],
      "source": [
        "mobile_dataset.columns =['event_time', 'event_name', 'user_id']\n",
        "mobile_sourсes.columns = ['user_id', 'source']"
      ]
    },
    {
      "cell_type": "code",
      "execution_count": null,
      "metadata": {
        "id": "HaFKV_D6jvlp",
        "outputId": "e48703ac-1a3e-4cb5-bfc6-c6722a02daf7"
      },
      "outputs": [
        {
          "name": "stdout",
          "output_type": "stream",
          "text": [
            "Duplicates in data mobile_sourсes: 0\n",
            "Duplicates in data mobile_dataset: 0\n"
          ]
        }
      ],
      "source": [
        "print('Duplicates in data mobile_sourсes:',mobile_sourсes.duplicated().sum())\n",
        "print('Duplicates in data mobile_dataset:',mobile_dataset.duplicated().sum())\n"
      ]
    },
    {
      "cell_type": "code",
      "execution_count": null,
      "metadata": {
        "id": "zN3bG_AXjvlp",
        "outputId": "a3bdcb25-1405-4232-f375-3e4ba4a2b7e0"
      },
      "outputs": [
        {
          "name": "stdout",
          "output_type": "stream",
          "text": [
            "['advert_open' 'tips_show' 'map' 'contacts_show' 'search_4' 'search_5'\n",
            " 'tips_click' 'photos_show' 'search_1' 'search_2' 'search_3'\n",
            " 'favorites_add' 'contacts_call' 'search_6' 'search_7' 'show_contacts']\n"
          ]
        }
      ],
      "source": [
        "print(mobile_dataset['event_name'].unique())"
      ]
    },
    {
      "cell_type": "code",
      "execution_count": null,
      "metadata": {
        "id": "LkHLnrPQjvlq",
        "outputId": "702266dd-7270-4241-9dec-8d01d9bddb26"
      },
      "outputs": [
        {
          "data": {
            "text/html": [
              "<div>\n",
              "<style scoped>\n",
              "    .dataframe tbody tr th:only-of-type {\n",
              "        vertical-align: middle;\n",
              "    }\n",
              "\n",
              "    .dataframe tbody tr th {\n",
              "        vertical-align: top;\n",
              "    }\n",
              "\n",
              "    .dataframe thead th {\n",
              "        text-align: right;\n",
              "    }\n",
              "</style>\n",
              "<table border=\"1\" class=\"dataframe\">\n",
              "  <thead>\n",
              "    <tr style=\"text-align: right;\">\n",
              "      <th></th>\n",
              "      <th>event_time</th>\n",
              "      <th>event_name</th>\n",
              "      <th>user_id</th>\n",
              "      <th>source</th>\n",
              "    </tr>\n",
              "  </thead>\n",
              "  <tbody>\n",
              "    <tr>\n",
              "      <th>0</th>\n",
              "      <td>2019-10-07 00:00:00.431357</td>\n",
              "      <td>advert_open</td>\n",
              "      <td>020292ab-89bc-4156-9acf-68bc2783f894</td>\n",
              "      <td>other</td>\n",
              "    </tr>\n",
              "    <tr>\n",
              "      <th>1</th>\n",
              "      <td>2019-10-07 00:00:01.236320</td>\n",
              "      <td>tips_show</td>\n",
              "      <td>020292ab-89bc-4156-9acf-68bc2783f894</td>\n",
              "      <td>other</td>\n",
              "    </tr>\n",
              "    <tr>\n",
              "      <th>2</th>\n",
              "      <td>2019-10-07 00:00:02.245341</td>\n",
              "      <td>tips_show</td>\n",
              "      <td>cf7eda61-9349-469f-ac27-e5b6f5ec475c</td>\n",
              "      <td>yandex</td>\n",
              "    </tr>\n",
              "    <tr>\n",
              "      <th>3</th>\n",
              "      <td>2019-10-07 00:00:07.039334</td>\n",
              "      <td>tips_show</td>\n",
              "      <td>020292ab-89bc-4156-9acf-68bc2783f894</td>\n",
              "      <td>other</td>\n",
              "    </tr>\n",
              "    <tr>\n",
              "      <th>4</th>\n",
              "      <td>2019-10-07 00:00:56.319813</td>\n",
              "      <td>advert_open</td>\n",
              "      <td>cf7eda61-9349-469f-ac27-e5b6f5ec475c</td>\n",
              "      <td>yandex</td>\n",
              "    </tr>\n",
              "    <tr>\n",
              "      <th>...</th>\n",
              "      <td>...</td>\n",
              "      <td>...</td>\n",
              "      <td>...</td>\n",
              "      <td>...</td>\n",
              "    </tr>\n",
              "    <tr>\n",
              "      <th>74192</th>\n",
              "      <td>2019-11-03 23:53:29.534986</td>\n",
              "      <td>tips_show</td>\n",
              "      <td>28fccdf4-7b9e-42f5-bc73-439a265f20e9</td>\n",
              "      <td>google</td>\n",
              "    </tr>\n",
              "    <tr>\n",
              "      <th>74193</th>\n",
              "      <td>2019-11-03 23:54:00.407086</td>\n",
              "      <td>tips_show</td>\n",
              "      <td>28fccdf4-7b9e-42f5-bc73-439a265f20e9</td>\n",
              "      <td>google</td>\n",
              "    </tr>\n",
              "    <tr>\n",
              "      <th>74194</th>\n",
              "      <td>2019-11-03 23:56:57.041825</td>\n",
              "      <td>search_1</td>\n",
              "      <td>20850c8f-4135-4059-b13b-198d3ac59902</td>\n",
              "      <td>google</td>\n",
              "    </tr>\n",
              "    <tr>\n",
              "      <th>74195</th>\n",
              "      <td>2019-11-03 23:57:06.232189</td>\n",
              "      <td>tips_show</td>\n",
              "      <td>28fccdf4-7b9e-42f5-bc73-439a265f20e9</td>\n",
              "      <td>google</td>\n",
              "    </tr>\n",
              "    <tr>\n",
              "      <th>74196</th>\n",
              "      <td>2019-11-03 23:58:12.532487</td>\n",
              "      <td>tips_show</td>\n",
              "      <td>28fccdf4-7b9e-42f5-bc73-439a265f20e9</td>\n",
              "      <td>google</td>\n",
              "    </tr>\n",
              "  </tbody>\n",
              "</table>\n",
              "<p>74197 rows × 4 columns</p>\n",
              "</div>"
            ],
            "text/plain": [
              "                       event_time   event_name  \\\n",
              "0      2019-10-07 00:00:00.431357  advert_open   \n",
              "1      2019-10-07 00:00:01.236320  tips_show     \n",
              "2      2019-10-07 00:00:02.245341  tips_show     \n",
              "3      2019-10-07 00:00:07.039334  tips_show     \n",
              "4      2019-10-07 00:00:56.319813  advert_open   \n",
              "...                           ...          ...   \n",
              "74192  2019-11-03 23:53:29.534986  tips_show     \n",
              "74193  2019-11-03 23:54:00.407086  tips_show     \n",
              "74194  2019-11-03 23:56:57.041825  search_1      \n",
              "74195  2019-11-03 23:57:06.232189  tips_show     \n",
              "74196  2019-11-03 23:58:12.532487  tips_show     \n",
              "\n",
              "                                    user_id  source  \n",
              "0      020292ab-89bc-4156-9acf-68bc2783f894  other   \n",
              "1      020292ab-89bc-4156-9acf-68bc2783f894  other   \n",
              "2      cf7eda61-9349-469f-ac27-e5b6f5ec475c  yandex  \n",
              "3      020292ab-89bc-4156-9acf-68bc2783f894  other   \n",
              "4      cf7eda61-9349-469f-ac27-e5b6f5ec475c  yandex  \n",
              "...                                     ...     ...  \n",
              "74192  28fccdf4-7b9e-42f5-bc73-439a265f20e9  google  \n",
              "74193  28fccdf4-7b9e-42f5-bc73-439a265f20e9  google  \n",
              "74194  20850c8f-4135-4059-b13b-198d3ac59902  google  \n",
              "74195  28fccdf4-7b9e-42f5-bc73-439a265f20e9  google  \n",
              "74196  28fccdf4-7b9e-42f5-bc73-439a265f20e9  google  \n",
              "\n",
              "[74197 rows x 4 columns]"
            ]
          },
          "execution_count": 8,
          "metadata": {},
          "output_type": "execute_result"
        }
      ],
      "source": [
        "df_new = mobile_dataset.merge(mobile_sourсes, on='user_id', how='left')\n",
        "df_new"
      ]
    },
    {
      "cell_type": "code",
      "execution_count": null,
      "metadata": {
        "id": "OLw-5b_cjvlq"
      },
      "outputs": [],
      "source": [
        "df_new['event_time'] = pd.to_datetime(df_new['event_time'], format='%Y-%m-%d %H:%M:%S.%f')\n"
      ]
    },
    {
      "cell_type": "markdown",
      "metadata": {
        "id": "uImahbtljvlq"
      },
      "source": [
        "### Selection of groups (grouping) - events"
      ]
    },
    {
      "cell_type": "code",
      "execution_count": null,
      "metadata": {
        "scrolled": true,
        "id": "0hMo_a-ujvlq",
        "outputId": "6e44c93d-c4b3-4ac2-e142-dab9ba668b1a"
      },
      "outputs": [
        {
          "data": {
            "text/plain": [
              "tips_show        40055\n",
              "photos_show      10012\n",
              "advert_open      6164 \n",
              "contacts_show    4450 \n",
              "map              3881 \n",
              "search_1         3506 \n",
              "favorites_add    1417 \n",
              "search_5         1049 \n",
              "tips_click       814  \n",
              "search_4         701  \n",
              "contacts_call    541  \n",
              "search_3         522  \n",
              "search_6         460  \n",
              "search_2         324  \n",
              "search_7         222  \n",
              "show_contacts    79   \n",
              "Name: event_name, dtype: int64"
            ]
          },
          "execution_count": 10,
          "metadata": {},
          "output_type": "execute_result"
        }
      ],
      "source": [
        "df_new['event_name'].value_counts()"
      ]
    },
    {
      "cell_type": "code",
      "execution_count": null,
      "metadata": {
        "scrolled": true,
        "id": "WSgXHN_Sjvlq",
        "outputId": "018e5155-7461-4741-b254-03067b778a32"
      },
      "outputs": [
        {
          "data": {
            "text/plain": [
              "tips_show        40055\n",
              "photos_show      10012\n",
              "search           6784 \n",
              "advert_open      6164 \n",
              "show_contacts    4529 \n",
              "map              3881 \n",
              "favorites_add    1417 \n",
              "tips_click       814  \n",
              "contacts_call    541  \n",
              "Name: event_name, dtype: int64"
            ]
          },
          "execution_count": 11,
          "metadata": {},
          "output_type": "execute_result"
        }
      ],
      "source": [
        "# concatenate events with \"search\"\n",
        "df_new.loc[df_new['event_name'].str.contains('search'), 'event_name'] = 'search'\n",
        "\n",
        "# concatenate events with \"contacts_show\" and \"show_contacts\"\n",
        "df_new.loc[df_new['event_name'].isin(['contacts_show', 'show_contacts']), 'event_name'] = 'show_contacts'\n",
        "\n",
        "df_new['event_name'].value_counts()\n"
      ]
    },
    {
      "cell_type": "code",
      "execution_count": null,
      "metadata": {
        "id": "jb1rs0Jfjvlq",
        "outputId": "4665befe-e8bd-4839-a1c6-f3b525dfb255"
      },
      "outputs": [
        {
          "data": {
            "text/html": [
              "<div>\n",
              "<style scoped>\n",
              "    .dataframe tbody tr th:only-of-type {\n",
              "        vertical-align: middle;\n",
              "    }\n",
              "\n",
              "    .dataframe tbody tr th {\n",
              "        vertical-align: top;\n",
              "    }\n",
              "\n",
              "    .dataframe thead th {\n",
              "        text-align: right;\n",
              "    }\n",
              "</style>\n",
              "<table border=\"1\" class=\"dataframe\">\n",
              "  <thead>\n",
              "    <tr style=\"text-align: right;\">\n",
              "      <th></th>\n",
              "      <th>event_time</th>\n",
              "      <th>event_name</th>\n",
              "      <th>user_id</th>\n",
              "      <th>source</th>\n",
              "    </tr>\n",
              "  </thead>\n",
              "  <tbody>\n",
              "    <tr>\n",
              "      <th>0</th>\n",
              "      <td>2019-10-07 00:00:00.431357</td>\n",
              "      <td>advert_open</td>\n",
              "      <td>020292ab-89bc-4156-9acf-68bc2783f894</td>\n",
              "      <td>other</td>\n",
              "    </tr>\n",
              "    <tr>\n",
              "      <th>1</th>\n",
              "      <td>2019-10-07 00:00:01.236320</td>\n",
              "      <td>tips_show</td>\n",
              "      <td>020292ab-89bc-4156-9acf-68bc2783f894</td>\n",
              "      <td>other</td>\n",
              "    </tr>\n",
              "    <tr>\n",
              "      <th>2</th>\n",
              "      <td>2019-10-07 00:00:02.245341</td>\n",
              "      <td>tips_show</td>\n",
              "      <td>cf7eda61-9349-469f-ac27-e5b6f5ec475c</td>\n",
              "      <td>yandex</td>\n",
              "    </tr>\n",
              "    <tr>\n",
              "      <th>3</th>\n",
              "      <td>2019-10-07 00:00:07.039334</td>\n",
              "      <td>tips_show</td>\n",
              "      <td>020292ab-89bc-4156-9acf-68bc2783f894</td>\n",
              "      <td>other</td>\n",
              "    </tr>\n",
              "    <tr>\n",
              "      <th>4</th>\n",
              "      <td>2019-10-07 00:00:56.319813</td>\n",
              "      <td>advert_open</td>\n",
              "      <td>cf7eda61-9349-469f-ac27-e5b6f5ec475c</td>\n",
              "      <td>yandex</td>\n",
              "    </tr>\n",
              "    <tr>\n",
              "      <th>...</th>\n",
              "      <td>...</td>\n",
              "      <td>...</td>\n",
              "      <td>...</td>\n",
              "      <td>...</td>\n",
              "    </tr>\n",
              "    <tr>\n",
              "      <th>74192</th>\n",
              "      <td>2019-11-03 23:53:29.534986</td>\n",
              "      <td>tips_show</td>\n",
              "      <td>28fccdf4-7b9e-42f5-bc73-439a265f20e9</td>\n",
              "      <td>google</td>\n",
              "    </tr>\n",
              "    <tr>\n",
              "      <th>74193</th>\n",
              "      <td>2019-11-03 23:54:00.407086</td>\n",
              "      <td>tips_show</td>\n",
              "      <td>28fccdf4-7b9e-42f5-bc73-439a265f20e9</td>\n",
              "      <td>google</td>\n",
              "    </tr>\n",
              "    <tr>\n",
              "      <th>74194</th>\n",
              "      <td>2019-11-03 23:56:57.041825</td>\n",
              "      <td>search</td>\n",
              "      <td>20850c8f-4135-4059-b13b-198d3ac59902</td>\n",
              "      <td>google</td>\n",
              "    </tr>\n",
              "    <tr>\n",
              "      <th>74195</th>\n",
              "      <td>2019-11-03 23:57:06.232189</td>\n",
              "      <td>tips_show</td>\n",
              "      <td>28fccdf4-7b9e-42f5-bc73-439a265f20e9</td>\n",
              "      <td>google</td>\n",
              "    </tr>\n",
              "    <tr>\n",
              "      <th>74196</th>\n",
              "      <td>2019-11-03 23:58:12.532487</td>\n",
              "      <td>tips_show</td>\n",
              "      <td>28fccdf4-7b9e-42f5-bc73-439a265f20e9</td>\n",
              "      <td>google</td>\n",
              "    </tr>\n",
              "  </tbody>\n",
              "</table>\n",
              "<p>74197 rows × 4 columns</p>\n",
              "</div>"
            ],
            "text/plain": [
              "                      event_time   event_name  \\\n",
              "0     2019-10-07 00:00:00.431357  advert_open   \n",
              "1     2019-10-07 00:00:01.236320  tips_show     \n",
              "2     2019-10-07 00:00:02.245341  tips_show     \n",
              "3     2019-10-07 00:00:07.039334  tips_show     \n",
              "4     2019-10-07 00:00:56.319813  advert_open   \n",
              "...                          ...          ...   \n",
              "74192 2019-11-03 23:53:29.534986  tips_show     \n",
              "74193 2019-11-03 23:54:00.407086  tips_show     \n",
              "74194 2019-11-03 23:56:57.041825  search        \n",
              "74195 2019-11-03 23:57:06.232189  tips_show     \n",
              "74196 2019-11-03 23:58:12.532487  tips_show     \n",
              "\n",
              "                                    user_id  source  \n",
              "0      020292ab-89bc-4156-9acf-68bc2783f894  other   \n",
              "1      020292ab-89bc-4156-9acf-68bc2783f894  other   \n",
              "2      cf7eda61-9349-469f-ac27-e5b6f5ec475c  yandex  \n",
              "3      020292ab-89bc-4156-9acf-68bc2783f894  other   \n",
              "4      cf7eda61-9349-469f-ac27-e5b6f5ec475c  yandex  \n",
              "...                                     ...     ...  \n",
              "74192  28fccdf4-7b9e-42f5-bc73-439a265f20e9  google  \n",
              "74193  28fccdf4-7b9e-42f5-bc73-439a265f20e9  google  \n",
              "74194  20850c8f-4135-4059-b13b-198d3ac59902  google  \n",
              "74195  28fccdf4-7b9e-42f5-bc73-439a265f20e9  google  \n",
              "74196  28fccdf4-7b9e-42f5-bc73-439a265f20e9  google  \n",
              "\n",
              "[74197 rows x 4 columns]"
            ]
          },
          "execution_count": 12,
          "metadata": {},
          "output_type": "execute_result"
        }
      ],
      "source": [
        "df_new\n"
      ]
    },
    {
      "cell_type": "markdown",
      "metadata": {
        "id": "7JtKJL3Kjvlq"
      },
      "source": [
        "**Summary:**\n",
        "\n",
        "There are recurring events and single events that are written in different ways. For further correct calculations, it is necessary to combine them.\n",
        "Merged similar serach conjunctions into one group and replaced contacts_show', 'show_contacts with one common name"
      ]
    },
    {
      "cell_type": "markdown",
      "metadata": {
        "jp-MarkdownHeadingCollapsed": true,
        "tags": [],
        "id": "bs7oZGKijvlq"
      },
      "source": [
        "## EDA"
      ]
    },
    {
      "cell_type": "markdown",
      "metadata": {
        "tags": [],
        "id": "JFvE_OFtjvlr"
      },
      "source": [
        "### Retantion rate"
      ]
    },
    {
      "cell_type": "code",
      "execution_count": null,
      "metadata": {
        "id": "EplZ8sGDjvlr",
        "outputId": "4ecb8540-e728-422f-c725-000f1a4d0c64"
      },
      "outputs": [
        {
          "name": "stdout",
          "output_type": "stream",
          "text": [
            "Start date: 2019-10-07 00:00:00.431357\n",
            "End date: 2019-11-03 23:58:12.532487\n",
            "Days count: 27\n"
          ]
        }
      ],
      "source": [
        "start_date = df_new[\"event_time\"].min()\n",
        "end_date = df_new[\"event_time\"].max()\n",
        "\n",
        "days_diff = (end_date - start_date).days\n",
        "print(\"Start date:\", start_date)\n",
        "print(\"End date:\", end_date)\n",
        "print(\"Days count:\", days_diff)"
      ]
    },
    {
      "cell_type": "code",
      "execution_count": null,
      "metadata": {
        "id": "2EY9dmFGjvlr"
      },
      "outputs": [],
      "source": [
        "t_start = df_new.groupby('user_id')['event_time'].min()\n",
        "t_start.name = 'first_start_date'\n",
        "\n",
        "df_new = df_new.join(t_start, on='user_id')"
      ]
    },
    {
      "cell_type": "code",
      "execution_count": null,
      "metadata": {
        "id": "8gGPIt6njvlr"
      },
      "outputs": [],
      "source": [
        "df_new['start_event_week'] = df_new['first_start_date'].dt.isocalendar().week\n",
        "df_new['event_week'] = df_new['event_time'].dt.isocalendar().week\n",
        "df_new['cohort_lifetime'] = df_new['event_week'] - df_new['start_event_week']\n"
      ]
    },
    {
      "cell_type": "code",
      "execution_count": null,
      "metadata": {
        "id": "q-DaLazOjvlr"
      },
      "outputs": [],
      "source": [
        "# Group the data to get the number of users of each segment in the first and subsequent weeks\n",
        "cohorts = df_new.groupby(['start_event_week','cohort_lifetime']).agg({'user_id': 'nunique'}).reset_index()\n",
        "cohorts = cohorts.rename(columns={'user_id': 'user_cnt'})"
      ]
    },
    {
      "cell_type": "code",
      "execution_count": null,
      "metadata": {
        "id": "7UVoUixfjvlr"
      },
      "outputs": [],
      "source": [
        "t = cohorts[cohorts['cohort_lifetime']==0][['start_event_week', 'user_cnt']]\n",
        "cohorts = cohorts.merge(t, how='left', on='start_event_week', suffixes=('','_start'))\n",
        "cohorts['retention'] = cohorts['user_cnt'] / cohorts['user_cnt_start']"
      ]
    },
    {
      "cell_type": "code",
      "execution_count": null,
      "metadata": {
        "id": "T9si2G_Njvlr"
      },
      "outputs": [],
      "source": [
        "retention_pivot = cohorts.pivot_table(\n",
        "    index='start_event_week',\n",
        "    columns='cohort_lifetime',\n",
        "    values='retention',\n",
        "    aggfunc='sum'\n",
        ")"
      ]
    },
    {
      "cell_type": "code",
      "execution_count": null,
      "metadata": {
        "id": "iLJGYWeDjvlr",
        "outputId": "a325c23b-8bfa-417c-cb61-97c28567064a"
      },
      "outputs": [
        {
          "data": {
            "image/png": "[encoded data removed]",
            "text/plain": [
              "<Figure size 864x576 with 2 Axes>"
            ]
          },
          "metadata": {
            "needs_background": "light"
          },
          "output_type": "display_data"
        }
      ],
      "source": [
        "plt.figure(figsize=(12, 8))\n",
        "plt.title('Удержание пользователей в когортах')\n",
        "sns.heatmap(\n",
        "    retention_pivot,\n",
        "    annot=True,\n",
        "    fmt='.1%',\n",
        "    linewidths=0.5,\n",
        "    linecolor='white',\n",
        "    cmap='coolwarm'\n",
        ")\n",
        "plt.xlabel('Время жизни когорты, недели')\n",
        "plt.ylabel('Неделя первого посещения')\n",
        "plt.show()"
      ]
    },
    {
      "cell_type": "markdown",
      "metadata": {
        "id": "WfHo__BCjvls"
      },
      "source": [
        "**Summary:**\n",
        "\n",
        "The graph is built by weeks, as you can see the whole picture more holistically\n",
        "- I do not observe a strong drop in retention, it is worth continuing to observe\n",
        "\n",
        " "
      ]
    },
    {
      "cell_type": "markdown",
      "metadata": {
        "jp-MarkdownHeadingCollapsed": true,
        "tags": [],
        "id": "lN6nPYqfjvls"
      },
      "source": [
        "### Time spent in the app"
      ]
    },
    {
      "cell_type": "markdown",
      "metadata": {
        "id": "Ga7jc5NBjvls"
      },
      "source": [
        "#### Total time of users in the application"
      ]
    },
    {
      "cell_type": "code",
      "execution_count": null,
      "metadata": {
        "id": "KKQYZCUXjvls"
      },
      "outputs": [],
      "source": [
        "df_new = df_new.sort_values(['user_id', 'event_time'])\n"
      ]
    },
    {
      "cell_type": "code",
      "execution_count": null,
      "metadata": {
        "id": "_z0uQhVMjvls"
      },
      "outputs": [],
      "source": [
        "session_id = 0\n",
        "last_user = ''\n",
        "last_time = pd.to_datetime('1970-01-01 00:00:00.000000')\n",
        "\n",
        "for index, row in df_new.iterrows():\n",
        "    user_id = row['user_id']\n",
        "    event_time = row['event_time']\n",
        "    \n",
        "    if user_id != last_user or (event_time - last_time).total_seconds() > 1800:\n",
        "        session_id += 1\n",
        "    \n",
        "    df_new.at[index, 'session_id'] = session_id\n",
        "    last_user = user_id\n",
        "    last_time = event_time"
      ]
    },
    {
      "cell_type": "code",
      "execution_count": null,
      "metadata": {
        "scrolled": true,
        "id": "EkxSLe0Ljvls",
        "outputId": "ec1f0a45-c0aa-419f-fcca-09b1b6753b92"
      },
      "outputs": [
        {
          "name": "stdout",
          "output_type": "stream",
          "text": [
            "count    10368.000000\n",
            "mean     12.871277   \n",
            "std      19.859054   \n",
            "min      0.000000    \n",
            "25%      0.350000    \n",
            "50%      5.583333    \n",
            "75%      17.420833   \n",
            "max      321.966667  \n",
            "Name: event_time, dtype: float64\n"
          ]
        }
      ],
      "source": [
        "# Calculate the duration of each session\n",
        "session_durations = df_new.groupby(['user_id', 'session_id'])['event_time']\\\n",
        "                    .agg(lambda x: (x.max() - x.min()).seconds / 60)\n",
        "\n",
        "print(session_durations.describe())"
      ]
    },
    {
      "cell_type": "code",
      "execution_count": null,
      "metadata": {
        "id": "JT8UCpATjvls"
      },
      "outputs": [],
      "source": [
        "q1 = session_durations.quantile(0.25)\n",
        "\n",
        "# Remove short sessions\n",
        "session_durations_filtered = session_durations[session_durations >= q1]\n"
      ]
    },
    {
      "cell_type": "code",
      "execution_count": null,
      "metadata": {
        "id": "iv8rtigijvls",
        "outputId": "d22f85a6-dfbc-4a17-b3f8-ba7d276faf0f"
      },
      "outputs": [
        {
          "name": "stdout",
          "output_type": "stream",
          "text": [
            "Average time spent by users in the app: 12.87 minutes\n"
          ]
        }
      ],
      "source": [
        "mean_duration = session_durations.mean()\n",
        "print('Average time spent by users in the app: {:.2f} minutes'.format(mean_duration))"
      ]
    },
    {
      "cell_type": "markdown",
      "metadata": {
        "id": "IpoHW_a2jvls"
      },
      "source": [
        "### Visit frequency"
      ]
    },
    {
      "cell_type": "code",
      "execution_count": null,
      "metadata": {
        "id": "38nQH4Ywjvls",
        "outputId": "f78ecdd1-ae89-47bb-b1ca-34ed38debac1"
      },
      "outputs": [
        {
          "data": {
            "image/png": "[encoded data removed]",
            "text/plain": [
              "<Figure size 1152x648 with 1 Axes>"
            ]
          },
          "metadata": {
            "needs_background": "light"
          },
          "output_type": "display_data"
        }
      ],
      "source": [
        "df_new['date'] = df_new['event_time'].dt.date\n",
        "\n",
        "# group data by date and user_id and count the number of events\n",
        "app_usage_by_day = df_new.groupby(['date', 'user_id'])['event_name'].count()\n",
        "\n",
        "# group the data by date and calculate the total number of events per day\n",
        "app_usage_by_day = app_usage_by_day.groupby(level=0).sum()\n",
        "\n",
        "fig, ax = plt.subplots(figsize=(16, 9))\n",
        "\n",
        "app_usage_by_day.plot(ax=ax, marker='o', color='blue', linewidth=2)\n",
        "\n",
        "for i, label in enumerate(app_usage_by_day.values):\n",
        "    ax.annotate(label, (app_usage_by_day.index[i], label))\n",
        "\n",
        "ax.grid(True, color='lightgrey')\n",
        "\n",
        "ax.set_title('Частота посещений по дням', fontsize=16)\n",
        "ax.set_xlabel('Дата', fontsize=12)\n",
        "ax.set_ylabel('Частота посещений', fontsize=12)\n",
        "ax.tick_params(labelsize=10)\n",
        "\n",
        "plt.show()\n"
      ]
    },
    {
      "cell_type": "code",
      "execution_count": null,
      "metadata": {
        "id": "eAj6x0mjjvlt",
        "outputId": "6755cc68-0ed9-463c-ab4b-8ffe0aae9fcd"
      },
      "outputs": [
        {
          "data": {
            "image/png": "[encoded data removed]",
            "text/plain": [
              "<Figure size 1152x648 with 1 Axes>"
            ]
          },
          "metadata": {
            "needs_background": "light"
          },
          "output_type": "display_data"
        }
      ],
      "source": [
        "df_new['weekday'] = df_new['event_time'].dt.day_name()\n",
        "\n",
        "# group the data by day of the week and user_id and count the number of events\n",
        "app_usage_by_weekday = df_new.groupby(['weekday', 'user_id'])['event_name'].count()\n",
        "\n",
        "# group the data by day of the week and calculate the total number of events per day\n",
        "app_usage_by_weekday = app_usage_by_weekday.groupby(level=0).sum()\n",
        "\n",
        "# add a 7-day moving average\n",
        "app_usage_by_weekday_rolling = app_usage_by_weekday.rolling(window=7, min_periods=1).mean()\n",
        "\n",
        "fig, ax = plt.subplots(figsize=(16, 9))\n",
        "\n",
        "app_usage_by_weekday.plot(ax=ax, marker='o', color='blue', linewidth=2, label='Частота посещений')\n",
        "app_usage_by_weekday_rolling.plot(ax=ax, color='orange', linewidth=2, label='Скользящее среднее по 7 дням')\n",
        "\n",
        "for i, label in enumerate(app_usage_by_weekday.values):\n",
        "    ax.annotate(label, (i, label))\n",
        "\n",
        "ax.grid(True, color='lightgrey')\n",
        "\n",
        "ax.set_title('Частота посещений по дням недели', fontsize=16)\n",
        "ax.set_xlabel('День недели', fontsize=12)\n",
        "ax.set_ylabel('Частота посещений', fontsize=12)\n",
        "ax.tick_params(labelsize=10)\n",
        "ax.set_xticks(range(len(app_usage_by_weekday.index)))\n",
        "ax.set_xticklabels(app_usage_by_weekday.index)\n",
        "\n",
        "plt.legend(fontsize=12)\n",
        "\n",
        "plt.show()"
      ]
    },
    {
      "cell_type": "markdown",
      "metadata": {
        "id": "-YfD8fUOjvlt"
      },
      "source": [
        "### Conversion to target action (show_contacts)"
      ]
    },
    {
      "cell_type": "code",
      "execution_count": null,
      "metadata": {
        "id": "XU6r5_txjvlt",
        "outputId": "959d6640-5283-4bc0-f072-1245b095c57f"
      },
      "outputs": [
        {
          "name": "stdout",
          "output_type": "stream",
          "text": [
            "Conversion rate: 22.9%\n"
          ]
        }
      ],
      "source": [
        "# Count the number of unique users who completed the show_contacts target action\n",
        "show_contacts_users = df_new[df_new['event_name'] == 'show_contacts']['user_id'].nunique()\n",
        "\n",
        "# Divide by the total number of unique users in the dataframe\n",
        "total_users = df_new['user_id'].nunique()\n",
        "\n",
        "conversion_rate = show_contacts_users / total_users\n",
        "\n",
        "print(f\"Conversion rate: {conversion_rate:.1%}\")\n"
      ]
    },
    {
      "cell_type": "markdown",
      "metadata": {
        "id": "E56hYuChjvlt"
      },
      "source": [
        "**Summary:**\n",
        "\n",
        "- The overall RR shows a slight decline, you can look at the sources in more detail and understand where we are losing\n",
        "- Users show higher activity on weekdays\n",
        "- 1/5 users view contacts"
      ]
    },
    {
      "cell_type": "markdown",
      "metadata": {
        "id": "jvY6EIYHjvlt"
      },
      "source": [
        "## User segmentation based on actions"
      ]
    },
    {
      "cell_type": "markdown",
      "metadata": {
        "id": "wpDUaZYJjvlt"
      },
      "source": [
        "- We segment users by source, this will help to better understand where users come from and which acquisition channels are most effective, and can also help optimize marketing efforts and increase marketing ROI. Investing in marketing is the easiest solution at this stage.\n",
        "- Then you can study what actions are performed in the application with separation by sources and suggest improvements to certain functions\n",
        "- There is an assumption that a slight drop in RR is associated with certain sources, and not with a general drop in all sources\n",
        "- Most likely the conversion may also be different and some source with a low conversion will have an impact on the overall conversion"
      ]
    },
    {
      "cell_type": "markdown",
      "metadata": {
        "id": "niuIamnSjvlt"
      },
      "source": [
        "### Retention rate of users by source"
      ]
    },
    {
      "cell_type": "code",
      "execution_count": null,
      "metadata": {
        "id": "cuOPcfnLjvlt",
        "outputId": "ea01de2c-ec84-49a3-f723-3d3bfee7467b"
      },
      "outputs": [
        {
          "data": {
            "image/png": "[encoded data removed]",
            "text/plain": [
              "<Figure size 864x288 with 2 Axes>"
            ]
          },
          "metadata": {
            "needs_background": "light"
          },
          "output_type": "display_data"
        },
        {
          "data": {
            "image/png": "[encoded data removed]",
            "text/plain": [
              "<Figure size 864x288 with 2 Axes>"
            ]
          },
          "metadata": {
            "needs_background": "light"
          },
          "output_type": "display_data"
        },
        {
          "data": {
            "image/png": "[encoded data removed]",
            "text/plain": [
              "<Figure size 864x288 with 2 Axes>"
            ]
          },
          "metadata": {
            "needs_background": "light"
          },
          "output_type": "display_data"
        }
      ],
      "source": [
        "# Group the data to get the number of users of each segment in the first and subsequent weeks\n",
        "cohorts = df_new.groupby(['start_event_week', 'cohort_lifetime', 'source']).agg({'user_id': 'nunique'}).reset_index()\n",
        "cohorts = cohorts.rename(columns={'user_id': 'user_cnt'})\n",
        "\n",
        "t = cohorts[cohorts['cohort_lifetime'] == 0][['start_event_week', 'source', 'user_cnt']]\n",
        "cohorts = cohorts.merge(t, how='left', on=['start_event_week', 'source'], suffixes=('', '_start'))\n",
        "cohorts['retention'] = cohorts['user_cnt'] / cohorts['user_cnt_start']\n",
        "\n",
        "retention_pivot = cohorts.pivot_table(\n",
        "    index='start_event_week',\n",
        "    columns=['source', 'cohort_lifetime'],\n",
        "    values='retention',\n",
        "    aggfunc='sum'\n",
        ")\n",
        "\n",
        "# Customize the display of the heat map\n",
        "sources = cohorts['source'].unique()\n",
        "for source in sources:\n",
        "    retention_pivot_source = retention_pivot[source]\n",
        "    vmin = np.nanmin(retention_pivot.iloc[:, 1:].values)\n",
        "    \n",
        "    plt.figure(figsize=(12, 4))\n",
        "    plt.title(f'User retention in cohorts ({source})')\n",
        "    sns.heatmap(\n",
        "        retention_pivot_source,\n",
        "        annot=True,\n",
        "        fmt='.1%',\n",
        "        linewidths=0.5,\n",
        "        linecolor='white',\n",
        "        cmap='coolwarm',\n",
        "        vmin=vmin,\n",
        "        vmax=1.0\n",
        "    )\n",
        "    plt.xlabel('Lifetime of a cohort, weeks')\n",
        "    plt.ylabel('Week of first visit')\n",
        "    plt.show()\n",
        "\n"
      ]
    },
    {
      "cell_type": "markdown",
      "metadata": {
        "id": "3MJfXM9Cjvlu"
      },
      "source": [
        "### Конверсия группы"
      ]
    },
    {
      "cell_type": "code",
      "execution_count": null,
      "metadata": {
        "id": "PH06rSn_jvlu",
        "outputId": "8d8d32c6-32a6-49ec-c883-b9042228161a"
      },
      "outputs": [
        {
          "data": {
            "text/html": [
              "<div>\n",
              "<style scoped>\n",
              "    .dataframe tbody tr th:only-of-type {\n",
              "        vertical-align: middle;\n",
              "    }\n",
              "\n",
              "    .dataframe tbody tr th {\n",
              "        vertical-align: top;\n",
              "    }\n",
              "\n",
              "    .dataframe thead th {\n",
              "        text-align: right;\n",
              "    }\n",
              "</style>\n",
              "<table border=\"1\" class=\"dataframe\">\n",
              "  <thead>\n",
              "    <tr style=\"text-align: right;\">\n",
              "      <th>event_name</th>\n",
              "      <th>advert_open</th>\n",
              "      <th>contacts_call</th>\n",
              "      <th>favorites_add</th>\n",
              "      <th>map</th>\n",
              "      <th>photos_show</th>\n",
              "      <th>search</th>\n",
              "      <th>show_contacts</th>\n",
              "      <th>tips_click</th>\n",
              "      <th>tips_show</th>\n",
              "      <th>conversion</th>\n",
              "    </tr>\n",
              "    <tr>\n",
              "      <th>source</th>\n",
              "      <th></th>\n",
              "      <th></th>\n",
              "      <th></th>\n",
              "      <th></th>\n",
              "      <th></th>\n",
              "      <th></th>\n",
              "      <th></th>\n",
              "      <th></th>\n",
              "      <th></th>\n",
              "      <th></th>\n",
              "    </tr>\n",
              "  </thead>\n",
              "  <tbody>\n",
              "    <tr>\n",
              "      <th>google</th>\n",
              "      <td>1621</td>\n",
              "      <td>163</td>\n",
              "      <td>415</td>\n",
              "      <td>1028</td>\n",
              "      <td>3466</td>\n",
              "      <td>2144</td>\n",
              "      <td>1440</td>\n",
              "      <td>190</td>\n",
              "      <td>9978</td>\n",
              "      <td>0.671642</td>\n",
              "    </tr>\n",
              "    <tr>\n",
              "      <th>other</th>\n",
              "      <td>1918</td>\n",
              "      <td>152</td>\n",
              "      <td>259</td>\n",
              "      <td>910</td>\n",
              "      <td>2862</td>\n",
              "      <td>1958</td>\n",
              "      <td>1054</td>\n",
              "      <td>228</td>\n",
              "      <td>10125</td>\n",
              "      <td>0.538304</td>\n",
              "    </tr>\n",
              "    <tr>\n",
              "      <th>yandex</th>\n",
              "      <td>2625</td>\n",
              "      <td>226</td>\n",
              "      <td>743</td>\n",
              "      <td>1943</td>\n",
              "      <td>3684</td>\n",
              "      <td>2682</td>\n",
              "      <td>2035</td>\n",
              "      <td>396</td>\n",
              "      <td>19952</td>\n",
              "      <td>0.758762</td>\n",
              "    </tr>\n",
              "  </tbody>\n",
              "</table>\n",
              "</div>"
            ],
            "text/plain": [
              "event_name  advert_open  contacts_call  favorites_add   map  photos_show  \\\n",
              "source                                                                     \n",
              "google      1621         163            415            1028  3466          \n",
              "other       1918         152            259            910   2862          \n",
              "yandex      2625         226            743            1943  3684          \n",
              "\n",
              "event_name  search  show_contacts  tips_click  tips_show  conversion  \n",
              "source                                                                \n",
              "google      2144    1440           190         9978       0.671642    \n",
              "other       1958    1054           228         10125      0.538304    \n",
              "yandex      2682    2035           396         19952      0.758762    "
            ]
          },
          "execution_count": 29,
          "metadata": {},
          "output_type": "execute_result"
        }
      ],
      "source": [
        "# group data by source column and count the number of events for each group\n",
        "grouped = df_new.groupby('source')['event_name'].value_counts().unstack().fillna(0)\n",
        "\n",
        "grouped['conversion'] = grouped['show_contacts'] / grouped['search']\n",
        "\n",
        "grouped"
      ]
    },
    {
      "cell_type": "code",
      "execution_count": null,
      "metadata": {
        "id": "EtYKsnNejvlu",
        "outputId": "74c85a4e-9b67-4bb3-e80d-b994ba7b729e"
      },
      "outputs": [
        {
          "data": {
            "text/plain": [
              "source\n",
              "yandex    24.7\n",
              "google    24.4\n",
              "other     18.5\n",
              "Name: user_id, dtype: float64"
            ]
          },
          "execution_count": 30,
          "metadata": {},
          "output_type": "execute_result"
        }
      ],
      "source": [
        "show_contacts_df = df_new[df_new['event_name'] == 'show_contacts']\n",
        "\n",
        "grouped = show_contacts_df.groupby('source')['user_id'].nunique()\n",
        "\n",
        "conversion_rates = round(grouped / df_new.groupby('source')['user_id'].nunique() * 100,1).sort_values(ascending=False)\n",
        "\n",
        "conversion_rates\n"
      ]
    },
    {
      "cell_type": "code",
      "execution_count": null,
      "metadata": {
        "id": "c_bVJDSQjvlu",
        "outputId": "af998d2b-23e5-481d-dc74-f72e9d39f079"
      },
      "outputs": [
        {
          "data": {
            "image/png": "[encoded data removed]",
            "text/plain": [
              "<Figure size 864x432 with 1 Axes>"
            ]
          },
          "metadata": {
            "needs_background": "light"
          },
          "output_type": "display_data"
        }
      ],
      "source": [
        "\n",
        "plt.figure(figsize=(12, 6)) \n",
        "\n",
        "ax = sns.barplot(x=conversion_rates.index, y=conversion_rates.values, palette=\"rocket\") \n",
        "\n",
        "for index, value in enumerate(conversion_rates.values):\n",
        "    ax.text(index, value + 0.5, str(value)+'%', ha='center', fontsize=12)\n",
        "\n",
        "plt.title('Source Conversion', fontsize=18)\n",
        "plt.xlabel('Source', fontsize=14)\n",
        "plt.ylabel('Conversion (%)', fontsize=14)\n",
        "\n",
        "plt.xticks(rotation=45, fontsize=12) \n",
        "\n",
        "sns.despine() \n",
        "plt.show()"
      ]
    },
    {
      "cell_type": "markdown",
      "metadata": {
        "id": "9axcPSuNjvlu"
      },
      "source": [
        "- Yandex & Google have the same indicators both in RR and in conversion - these groups are targeted\n",
        "- Other sources show a higher retention rate, but the conversion to the target action is much lower, it is worth studying in more detail each other source - this group is adjacent"
      ]
    },
    {
      "cell_type": "markdown",
      "metadata": {
        "id": "VPQW_R63jvlu"
      },
      "source": [
        "## Testing statistical hypotheses"
      ]
    },
    {
      "cell_type": "markdown",
      "metadata": {
        "id": "7LSydkccjvlu"
      },
      "source": [
        "### Users who came from yandex and google show different conversion to contact views"
      ]
    },
    {
      "cell_type": "markdown",
      "metadata": {
        "id": "yplHsXhUjvlu"
      },
      "source": [
        "- H0: The conversion of users who came from Google is equal to the conversion of users who came from Yandex\n",
        "\n",
        "- H1: The conversion of users who came from Google is not equal to the conversion of users who came from Yandex"
      ]
    },
    {
      "cell_type": "code",
      "execution_count": null,
      "metadata": {
        "id": "u7OcGFmjjvlu",
        "outputId": "e016484e-e458-4fd6-ff93-ea2c12937874"
      },
      "outputs": [
        {
          "name": "stdout",
          "output_type": "stream",
          "text": [
            "source\n",
            "google    1129\n",
            "yandex    1934\n",
            "Name: user_id, dtype: int64\n"
          ]
        }
      ],
      "source": [
        "# Filter data by source and save only the necessary sources\n",
        "df_filtered = df_new[df_new['source'].isin(['google', 'yandex'])]\n",
        "\n",
        "# Group data by source and count the number of unique users\n",
        "users_by_source = df_filtered.groupby('source')['user_id'].nunique()\n",
        "\n",
        "print(users_by_source)"
      ]
    },
    {
      "cell_type": "code",
      "execution_count": null,
      "metadata": {
        "id": "HilJbCwcjvlv",
        "outputId": "be29c492-d1c2-4727-829d-15fdbc2de16e"
      },
      "outputs": [
        {
          "data": {
            "image/png": "[encoded data removed]",
            "text/plain": [
              "<Figure size 576x432 with 1 Axes>"
            ]
          },
          "metadata": {
            "needs_background": "light"
          },
          "output_type": "display_data"
        }
      ],
      "source": [
        "\n",
        "plt.figure(figsize=(8, 6)) \n",
        "\n",
        "ax = sns.barplot(x=users_by_source.index, y=users_by_source.values, palette=\"husl\") # создаем график\n",
        "\n",
        "for index, value in enumerate(users_by_source.values):\n",
        "    ax.text(index, value + 0.5, str(value), ha='center', fontsize=12)\n",
        "\n",
        "plt.title('Кол-во пользователей по источникам', fontsize=18)\n",
        "plt.xlabel('Источник', fontsize=14)\n",
        "plt.ylabel('Кол-во пользователей', fontsize=14)\n",
        "\n",
        "plt.xticks(rotation=45, fontsize=12) \n",
        "\n",
        "sns.despine() \n",
        "plt.show()"
      ]
    },
    {
      "cell_type": "code",
      "execution_count": null,
      "metadata": {
        "scrolled": true,
        "id": "r4K41JC1jvlv",
        "outputId": "8bcd6de7-80c8-41da-b972-18567192dbfb"
      },
      "outputs": [
        {
          "name": "stdout",
          "output_type": "stream",
          "text": [
            "p-value: 0.8244316027993777\n",
            "We failed to reject the null hypothesis: there is no significant difference between the conversion of google and yandex users\n"
          ]
        }
      ],
      "source": [
        "# calculation of conversion and number of users for each group\n",
        "source = df_new.groupby('source').user_id.nunique().reset_index()\n",
        "\n",
        "yandex_all = source.loc[source['source']=='yandex', 'user_id'].iloc[0]\n",
        "google_all = source.loc[source['source']=='google', 'user_id'].iloc[0]\n",
        "\n",
        "contacts_show = df_new[df_new.event_name=='show_contacts'].groupby('source').user_id.nunique().reset_index()\n",
        "\n",
        "contacts_google = contacts_show.loc[contacts_show['source']=='google', 'user_id'].iloc[0]\n",
        "contacts_yandex = contacts_show.loc[contacts_show['source']=='yandex', 'user_id'].iloc[0]\n",
        "\n",
        "# проведение z-теста\n",
        "alpha = 0.05\n",
        "\n",
        "successes = np.array([contacts_google, contacts_yandex])\n",
        "trials = np.array([google_all, yandex_all])\n",
        "\n",
        "p1 = successes[0] / trials[0]\n",
        "p2 = successes[1] / trials[1]\n",
        "\n",
        "p_combined = (successes[0] + successes[1]) / (trials[0] + trials[1])\n",
        "difference = p1 - p2\n",
        "z_value = difference / np.sqrt(p_combined * (1 - p_combined) * (1/trials[0] + 1/trials[1]))\n",
        "\n",
        "p_value = st.norm.sf(abs(z_value)) * 2\n",
        "\n",
        "print(\"p-value:\", p_value)\n",
        "\n",
        "if p_value < alpha:\n",
        "    print(\"We reject the null hypothesis: there is a significant difference between the conversion of google and yandex users\")\n",
        "else:\n",
        "    print(\"We failed to reject the null hypothesis: there is no significant difference between the conversion of google and yandex users\")\n",
        "    \n",
        "    \n"
      ]
    },
    {
      "cell_type": "markdown",
      "metadata": {
        "id": "InhX97cMjvlv"
      },
      "source": [
        "### Users who use recommendations and those who do not use recommendations show different conversion to the target action (contact view)"
      ]
    },
    {
      "cell_type": "markdown",
      "metadata": {
        "id": "aHGmXJ1Ojvlv"
      },
      "source": [
        "- H0: The conversion of users who use recommendations is equal to the conversion of users who do not use recommendations\n",
        "\n",
        "- H1: The conversion of users who use recommendations is not equal to the conversion of users who do not use recommendations"
      ]
    },
    {
      "cell_type": "code",
      "execution_count": null,
      "metadata": {
        "id": "ByYS0vAVjvlv",
        "outputId": "6ccc8196-82d9-4158-91ef-a460c20c10b4"
      },
      "outputs": [
        {
          "name": "stdout",
          "output_type": "stream",
          "text": [
            "516 465 2801 1492\n",
            "p-value: 2.7953508723109576e-21\n",
            "We reject the null hypothesis: there is a significant difference between the conversion of users who watch tips_show and those who do not\n"
          ]
        }
      ],
      "source": [
        "# Calculate conversion and number of users for each group\n",
        "tips_show_users = df_new[df_new['event_name'] == 'tips_show']['user_id'].nunique()\n",
        "no_tips_show_users = total_users - tips_show_users\n",
        "\n",
        "tips_show_show_contacts_users = df_new[df_new['event_name'] == 'show_contacts'][df_new['user_id'].isin(df_new[df_new['event_name'] == 'tips_show']['user_id'])]['user_id'].nunique()\n",
        "\n",
        "no_tips_show_show_contacts_users = show_contacts_users - tips_show_show_contacts_users\n",
        "\n",
        "# Performing a z-test\n",
        "alpha = 0.05\n",
        "\n",
        "successes = np.array([tips_show_show_contacts_users, no_tips_show_show_contacts_users])\n",
        "trials = np.array([tips_show_users, no_tips_show_users])\n",
        "\n",
        "p1 = successes[0] / trials[0]\n",
        "p2 = successes[1] / trials[1]\n",
        "\n",
        "\n",
        "\n",
        "print(successes[0], successes[1], trials[0], trials[1])\n",
        "\n",
        "p_combined = (successes[0] + successes[1]) / (trials[0] + trials[1])\n",
        "difference = p1 - p2\n",
        "z_value = difference / np.sqrt(p_combined * (1 - p_combined) * (1/trials[0] + 1/trials[1]))\n",
        "\n",
        "p_value = st.norm.sf(abs(z_value)) * 2\n",
        "\n",
        "\n",
        "print(\"p-value:\", p_value)\n",
        "\n",
        "if p_value < alpha:\n",
        "    print(\"We reject the null hypothesis: there is a significant difference between the conversion of users who watch tips_show and those who do not\")\n",
        "else:\n",
        "    print(\"We failed to reject the null hypothesis: there is no significant difference between the conversion of users who watch tips_show and those who do not\")\n",
        "    \n",
        "    "
      ]
    },
    {
      "cell_type": "markdown",
      "metadata": {
        "id": "_DHoZosajvlv"
      },
      "source": [
        "## Summary"
      ]
    },
    {
      "cell_type": "markdown",
      "metadata": {
        "id": "2gqBrDUvjvlv"
      },
      "source": [
        "**Summary:**\n",
        " \n",
        "- The dataset presents data for 27 days, the results do not show a strong drop in RR\n",
        "- The average time in the application is 14 minutes, but it is observed\n",
        "- The frequency of visits falls on Saturday, and on Monday, on the contrary, increases and stays high throughout the \"working week\"\n",
        "- Total conversion to target action 23%\n",
        "- Yandex and Google have almost the same indicators, while other sources have an advantage\n",
        "- Yandex and Google have the same conversion pattern again, while other sources have significantly lower conversion\n",
        "- There is no difference between the conversion of users from google and yandex\n",
        "- Users who watch tips_show have a higher conversion rate\n",
        "    \n",
        "**Offers:**\n",
        "\n",
        "- Continue to observe a slight decrease in RR\n",
        "- It is possible to send notifications on Saturday about new recommendations\n",
        "- Study in more detail the sources of \"other\" and find the most effective\n",
        "- Study the reasons for low conversions from other sources and also increase or decrease marketing costs\n",
        "- View the logic of tips_show for users, improve the principle of recommendations to users based on what recommendations they are watching"
      ]
    }
  ],
  "metadata": {
    "ExecuteTimeLog": [
      {
        "duration": 1599,
        "start_time": "2023-04-10T16:28:26.640Z"
      },
      {
        "duration": 168,
        "start_time": "2023-04-10T16:30:56.670Z"
      },
      {
        "duration": 1246,
        "start_time": "2023-04-10T16:31:02.120Z"
      },
      {
        "duration": 152,
        "start_time": "2023-04-10T16:31:03.368Z"
      },
      {
        "duration": 1413,
        "start_time": "2023-04-10T16:34:57.509Z"
      },
      {
        "duration": 238,
        "start_time": "2023-04-10T16:34:58.924Z"
      },
      {
        "duration": 397,
        "start_time": "2023-04-10T16:35:09.728Z"
      },
      {
        "duration": 237,
        "start_time": "2023-04-10T16:35:18.220Z"
      },
      {
        "duration": 11,
        "start_time": "2023-04-10T16:35:38.537Z"
      },
      {
        "duration": 23,
        "start_time": "2023-04-10T16:35:49.346Z"
      },
      {
        "duration": 10,
        "start_time": "2023-04-10T16:36:02.450Z"
      },
      {
        "duration": 17,
        "start_time": "2023-04-10T16:36:03.927Z"
      },
      {
        "duration": 245,
        "start_time": "2023-04-10T16:36:28.092Z"
      },
      {
        "duration": 6,
        "start_time": "2023-04-10T16:37:58.599Z"
      },
      {
        "duration": 6,
        "start_time": "2023-04-10T16:38:02.349Z"
      },
      {
        "duration": 6,
        "start_time": "2023-04-10T16:38:07.711Z"
      },
      {
        "duration": 33,
        "start_time": "2023-04-10T16:38:15.421Z"
      },
      {
        "duration": 36,
        "start_time": "2023-04-10T16:38:18.399Z"
      },
      {
        "duration": 13,
        "start_time": "2023-04-10T16:39:07.568Z"
      },
      {
        "duration": 121,
        "start_time": "2023-04-10T16:40:04.195Z"
      },
      {
        "duration": 5,
        "start_time": "2023-04-10T16:41:54.343Z"
      },
      {
        "duration": 16,
        "start_time": "2023-04-10T16:41:55.898Z"
      },
      {
        "duration": 6,
        "start_time": "2023-04-10T16:44:19.201Z"
      },
      {
        "duration": 34,
        "start_time": "2023-04-10T16:44:20.347Z"
      },
      {
        "duration": 26,
        "start_time": "2023-04-10T16:44:21.536Z"
      },
      {
        "duration": 1357,
        "start_time": "2023-04-10T16:44:43.434Z"
      },
      {
        "duration": 3,
        "start_time": "2023-04-10T16:46:17.698Z"
      },
      {
        "duration": 35,
        "start_time": "2023-04-10T16:46:19.063Z"
      },
      {
        "duration": 646,
        "start_time": "2023-04-10T16:46:20.020Z"
      },
      {
        "duration": 5,
        "start_time": "2023-04-10T16:47:31.581Z"
      },
      {
        "duration": 8,
        "start_time": "2023-04-10T16:49:33.776Z"
      },
      {
        "duration": 103,
        "start_time": "2023-04-10T16:50:41.036Z"
      },
      {
        "duration": 81,
        "start_time": "2023-04-10T16:51:02.169Z"
      },
      {
        "duration": 79,
        "start_time": "2023-04-10T16:51:21.173Z"
      },
      {
        "duration": 25,
        "start_time": "2023-04-10T16:54:27.556Z"
      },
      {
        "duration": 60,
        "start_time": "2023-04-11T16:39:29.900Z"
      },
      {
        "duration": 8,
        "start_time": "2023-04-11T16:39:36.981Z"
      },
      {
        "duration": 1595,
        "start_time": "2023-04-11T16:39:43.315Z"
      },
      {
        "duration": 394,
        "start_time": "2023-04-11T16:39:44.912Z"
      },
      {
        "duration": 12,
        "start_time": "2023-04-11T16:39:45.307Z"
      },
      {
        "duration": 26,
        "start_time": "2023-04-11T16:39:45.321Z"
      },
      {
        "duration": 5,
        "start_time": "2023-04-11T16:39:45.350Z"
      },
      {
        "duration": 78,
        "start_time": "2023-04-11T16:39:45.357Z"
      },
      {
        "duration": 7,
        "start_time": "2023-04-11T16:39:45.437Z"
      },
      {
        "duration": 44,
        "start_time": "2023-04-11T16:39:45.446Z"
      },
      {
        "duration": 638,
        "start_time": "2023-04-11T16:39:45.492Z"
      },
      {
        "duration": 11,
        "start_time": "2023-04-11T16:39:46.132Z"
      },
      {
        "duration": 47,
        "start_time": "2023-04-11T16:43:23.648Z"
      },
      {
        "duration": 69,
        "start_time": "2023-04-11T16:43:31.883Z"
      },
      {
        "duration": 189,
        "start_time": "2023-04-11T16:57:21.118Z"
      },
      {
        "duration": 131,
        "start_time": "2023-04-11T16:57:30.507Z"
      },
      {
        "duration": 7,
        "start_time": "2023-04-11T17:03:42.909Z"
      },
      {
        "duration": 43,
        "start_time": "2023-04-11T17:05:58.074Z"
      },
      {
        "duration": 26,
        "start_time": "2023-04-11T17:05:59.234Z"
      },
      {
        "duration": 247,
        "start_time": "2023-04-11T17:06:46.819Z"
      },
      {
        "duration": 1045,
        "start_time": "2023-04-11T17:08:28.561Z"
      },
      {
        "duration": 110,
        "start_time": "2023-04-11T17:11:59.281Z"
      },
      {
        "duration": 221,
        "start_time": "2023-04-11T17:12:00.210Z"
      },
      {
        "duration": 7,
        "start_time": "2023-04-11T17:17:34.545Z"
      },
      {
        "duration": 14,
        "start_time": "2023-04-11T17:20:05.647Z"
      },
      {
        "duration": 13,
        "start_time": "2023-04-11T17:20:21.514Z"
      },
      {
        "duration": 87,
        "start_time": "2023-04-11T17:20:26.243Z"
      },
      {
        "duration": 15,
        "start_time": "2023-04-11T17:20:38.630Z"
      },
      {
        "duration": 19,
        "start_time": "2023-04-11T17:20:45.919Z"
      },
      {
        "duration": 77,
        "start_time": "2023-04-11T17:20:51.265Z"
      },
      {
        "duration": 26,
        "start_time": "2023-04-11T17:23:29.300Z"
      },
      {
        "duration": 65,
        "start_time": "2023-04-11T17:27:16.604Z"
      },
      {
        "duration": 232,
        "start_time": "2023-04-11T17:27:17.720Z"
      },
      {
        "duration": 51,
        "start_time": "2023-04-11T17:27:28.663Z"
      },
      {
        "duration": 55,
        "start_time": "2023-04-11T17:27:29.503Z"
      },
      {
        "duration": 1395,
        "start_time": "2023-04-11T17:27:37.110Z"
      },
      {
        "duration": 313,
        "start_time": "2023-04-11T17:27:38.508Z"
      },
      {
        "duration": 11,
        "start_time": "2023-04-11T17:27:38.823Z"
      },
      {
        "duration": 20,
        "start_time": "2023-04-11T17:27:38.836Z"
      },
      {
        "duration": 7,
        "start_time": "2023-04-11T17:27:38.859Z"
      },
      {
        "duration": 39,
        "start_time": "2023-04-11T17:27:38.889Z"
      },
      {
        "duration": 7,
        "start_time": "2023-04-11T17:27:38.931Z"
      },
      {
        "duration": 59,
        "start_time": "2023-04-11T17:27:38.940Z"
      },
      {
        "duration": 735,
        "start_time": "2023-04-11T17:27:39.001Z"
      },
      {
        "duration": 13,
        "start_time": "2023-04-11T17:27:39.738Z"
      },
      {
        "duration": 63,
        "start_time": "2023-04-11T17:27:39.753Z"
      },
      {
        "duration": 137,
        "start_time": "2023-04-11T17:27:39.817Z"
      },
      {
        "duration": 0,
        "start_time": "2023-04-11T17:27:39.956Z"
      },
      {
        "duration": 0,
        "start_time": "2023-04-11T17:27:39.957Z"
      },
      {
        "duration": 0,
        "start_time": "2023-04-11T17:27:39.959Z"
      },
      {
        "duration": 0,
        "start_time": "2023-04-11T17:27:39.960Z"
      },
      {
        "duration": 1412,
        "start_time": "2023-04-11T17:29:02.046Z"
      },
      {
        "duration": 351,
        "start_time": "2023-04-11T17:29:03.461Z"
      },
      {
        "duration": 12,
        "start_time": "2023-04-11T17:29:03.814Z"
      },
      {
        "duration": 19,
        "start_time": "2023-04-11T17:29:03.828Z"
      },
      {
        "duration": 5,
        "start_time": "2023-04-11T17:29:03.849Z"
      },
      {
        "duration": 70,
        "start_time": "2023-04-11T17:29:03.855Z"
      },
      {
        "duration": 9,
        "start_time": "2023-04-11T17:29:03.927Z"
      },
      {
        "duration": 68,
        "start_time": "2023-04-11T17:29:03.939Z"
      },
      {
        "duration": 764,
        "start_time": "2023-04-11T17:29:04.009Z"
      },
      {
        "duration": 15,
        "start_time": "2023-04-11T17:29:04.775Z"
      },
      {
        "duration": 54,
        "start_time": "2023-04-11T17:29:04.791Z"
      },
      {
        "duration": 7,
        "start_time": "2023-04-11T17:29:04.846Z"
      },
      {
        "duration": 39,
        "start_time": "2023-04-11T17:29:04.855Z"
      },
      {
        "duration": 51,
        "start_time": "2023-04-11T17:29:04.900Z"
      },
      {
        "duration": 71,
        "start_time": "2023-04-11T17:29:04.953Z"
      },
      {
        "duration": 216,
        "start_time": "2023-04-11T17:29:05.026Z"
      },
      {
        "duration": 3263,
        "start_time": "2023-04-11T17:30:45.736Z"
      },
      {
        "duration": 122,
        "start_time": "2023-04-11T17:32:12.029Z"
      },
      {
        "duration": 63,
        "start_time": "2023-04-11T17:32:29.110Z"
      },
      {
        "duration": 1494,
        "start_time": "2023-04-11T17:32:49.123Z"
      },
      {
        "duration": 320,
        "start_time": "2023-04-11T17:32:50.619Z"
      },
      {
        "duration": 11,
        "start_time": "2023-04-11T17:32:50.941Z"
      },
      {
        "duration": 20,
        "start_time": "2023-04-11T17:32:50.954Z"
      },
      {
        "duration": 12,
        "start_time": "2023-04-11T17:32:50.992Z"
      },
      {
        "duration": 45,
        "start_time": "2023-04-11T17:32:51.008Z"
      },
      {
        "duration": 8,
        "start_time": "2023-04-11T17:32:51.055Z"
      },
      {
        "duration": 47,
        "start_time": "2023-04-11T17:32:51.064Z"
      },
      {
        "duration": 830,
        "start_time": "2023-04-11T17:32:51.114Z"
      },
      {
        "duration": 13,
        "start_time": "2023-04-11T17:32:51.947Z"
      },
      {
        "duration": 73,
        "start_time": "2023-04-11T17:32:51.962Z"
      },
      {
        "duration": 6,
        "start_time": "2023-04-11T17:32:52.036Z"
      },
      {
        "duration": 16,
        "start_time": "2023-04-11T17:32:52.044Z"
      },
      {
        "duration": 3184,
        "start_time": "2023-04-11T17:32:52.062Z"
      },
      {
        "duration": 69,
        "start_time": "2023-04-11T17:32:55.247Z"
      },
      {
        "duration": 17500,
        "start_time": "2023-04-11T17:32:55.319Z"
      },
      {
        "duration": 213,
        "start_time": "2023-04-11T17:34:29.967Z"
      },
      {
        "duration": 2430,
        "start_time": "2023-04-11T17:35:38.714Z"
      },
      {
        "duration": 361,
        "start_time": "2023-04-11T17:35:41.147Z"
      },
      {
        "duration": 12,
        "start_time": "2023-04-11T17:35:41.510Z"
      },
      {
        "duration": 19,
        "start_time": "2023-04-11T17:35:41.524Z"
      },
      {
        "duration": 4,
        "start_time": "2023-04-11T17:35:41.545Z"
      },
      {
        "duration": 64,
        "start_time": "2023-04-11T17:35:41.551Z"
      },
      {
        "duration": 9,
        "start_time": "2023-04-11T17:35:41.617Z"
      },
      {
        "duration": 41,
        "start_time": "2023-04-11T17:35:41.628Z"
      },
      {
        "duration": 782,
        "start_time": "2023-04-11T17:35:41.671Z"
      },
      {
        "duration": 10,
        "start_time": "2023-04-11T17:35:42.454Z"
      },
      {
        "duration": 66,
        "start_time": "2023-04-11T17:35:42.466Z"
      },
      {
        "duration": 6,
        "start_time": "2023-04-11T17:35:42.534Z"
      },
      {
        "duration": 15,
        "start_time": "2023-04-11T17:35:42.542Z"
      },
      {
        "duration": 65,
        "start_time": "2023-04-11T17:35:57.053Z"
      },
      {
        "duration": 2269,
        "start_time": "2023-04-11T17:36:12.613Z"
      },
      {
        "duration": 274,
        "start_time": "2023-04-11T17:36:14.884Z"
      },
      {
        "duration": 12,
        "start_time": "2023-04-11T17:36:15.160Z"
      },
      {
        "duration": 36,
        "start_time": "2023-04-11T17:36:15.174Z"
      },
      {
        "duration": 5,
        "start_time": "2023-04-11T17:36:15.213Z"
      },
      {
        "duration": 50,
        "start_time": "2023-04-11T17:36:15.220Z"
      },
      {
        "duration": 10,
        "start_time": "2023-04-11T17:36:15.291Z"
      },
      {
        "duration": 32,
        "start_time": "2023-04-11T17:36:15.303Z"
      },
      {
        "duration": 732,
        "start_time": "2023-04-11T17:36:15.337Z"
      },
      {
        "duration": 11,
        "start_time": "2023-04-11T17:36:16.072Z"
      },
      {
        "duration": 57,
        "start_time": "2023-04-11T17:36:16.089Z"
      },
      {
        "duration": 6,
        "start_time": "2023-04-11T17:36:16.148Z"
      },
      {
        "duration": 43,
        "start_time": "2023-04-11T17:36:16.156Z"
      },
      {
        "duration": 72,
        "start_time": "2023-04-11T17:36:36.628Z"
      },
      {
        "duration": 2402,
        "start_time": "2023-04-11T17:36:42.463Z"
      },
      {
        "duration": 283,
        "start_time": "2023-04-11T17:36:44.867Z"
      },
      {
        "duration": 12,
        "start_time": "2023-04-11T17:36:45.152Z"
      },
      {
        "duration": 39,
        "start_time": "2023-04-11T17:36:45.166Z"
      },
      {
        "duration": 3,
        "start_time": "2023-04-11T17:36:45.208Z"
      },
      {
        "duration": 54,
        "start_time": "2023-04-11T17:36:45.214Z"
      },
      {
        "duration": 19,
        "start_time": "2023-04-11T17:36:45.270Z"
      },
      {
        "duration": 30,
        "start_time": "2023-04-11T17:36:45.297Z"
      },
      {
        "duration": 732,
        "start_time": "2023-04-11T17:36:45.329Z"
      },
      {
        "duration": 11,
        "start_time": "2023-04-11T17:36:46.063Z"
      },
      {
        "duration": 45,
        "start_time": "2023-04-11T17:36:46.092Z"
      },
      {
        "duration": 6,
        "start_time": "2023-04-11T17:36:46.139Z"
      },
      {
        "duration": 16,
        "start_time": "2023-04-11T17:36:46.146Z"
      },
      {
        "duration": 73,
        "start_time": "2023-04-11T17:36:57.067Z"
      },
      {
        "duration": 2866,
        "start_time": "2023-04-11T17:37:19.112Z"
      },
      {
        "duration": 376,
        "start_time": "2023-04-11T17:37:21.980Z"
      },
      {
        "duration": 13,
        "start_time": "2023-04-11T17:37:22.358Z"
      },
      {
        "duration": 49,
        "start_time": "2023-04-11T17:37:22.373Z"
      },
      {
        "duration": 4,
        "start_time": "2023-04-11T17:37:22.426Z"
      },
      {
        "duration": 60,
        "start_time": "2023-04-11T17:37:22.432Z"
      },
      {
        "duration": 10,
        "start_time": "2023-04-11T17:37:22.500Z"
      },
      {
        "duration": 37,
        "start_time": "2023-04-11T17:37:22.515Z"
      },
      {
        "duration": 859,
        "start_time": "2023-04-11T17:37:22.554Z"
      },
      {
        "duration": 14,
        "start_time": "2023-04-11T17:37:23.416Z"
      },
      {
        "duration": 51,
        "start_time": "2023-04-11T17:37:23.431Z"
      },
      {
        "duration": 13,
        "start_time": "2023-04-11T17:37:23.483Z"
      },
      {
        "duration": 36,
        "start_time": "2023-04-11T17:37:23.498Z"
      },
      {
        "duration": 50,
        "start_time": "2023-04-11T17:48:16.114Z"
      },
      {
        "duration": 1631,
        "start_time": "2023-04-11T17:48:24.803Z"
      },
      {
        "duration": 278,
        "start_time": "2023-04-11T17:48:26.437Z"
      },
      {
        "duration": 11,
        "start_time": "2023-04-11T17:48:26.717Z"
      },
      {
        "duration": 24,
        "start_time": "2023-04-11T17:48:26.730Z"
      },
      {
        "duration": 4,
        "start_time": "2023-04-11T17:48:26.757Z"
      },
      {
        "duration": 56,
        "start_time": "2023-04-11T17:48:26.763Z"
      },
      {
        "duration": 9,
        "start_time": "2023-04-11T17:48:26.821Z"
      },
      {
        "duration": 31,
        "start_time": "2023-04-11T17:48:26.831Z"
      },
      {
        "duration": 743,
        "start_time": "2023-04-11T17:48:26.863Z"
      },
      {
        "duration": 13,
        "start_time": "2023-04-11T17:48:27.608Z"
      },
      {
        "duration": 57,
        "start_time": "2023-04-11T17:48:27.622Z"
      },
      {
        "duration": 146,
        "start_time": "2023-04-11T17:48:27.681Z"
      },
      {
        "duration": 0,
        "start_time": "2023-04-11T17:48:27.829Z"
      },
      {
        "duration": 0,
        "start_time": "2023-04-11T17:48:27.831Z"
      },
      {
        "duration": 0,
        "start_time": "2023-04-11T17:48:27.832Z"
      },
      {
        "duration": 18,
        "start_time": "2023-04-11T17:48:37.174Z"
      },
      {
        "duration": 38,
        "start_time": "2023-04-11T17:48:38.670Z"
      },
      {
        "duration": 30,
        "start_time": "2023-04-11T17:48:42.745Z"
      },
      {
        "duration": 35,
        "start_time": "2023-04-11T17:48:51.286Z"
      },
      {
        "duration": 1367,
        "start_time": "2023-04-11T17:49:46.507Z"
      },
      {
        "duration": 271,
        "start_time": "2023-04-11T17:49:47.877Z"
      },
      {
        "duration": 11,
        "start_time": "2023-04-11T17:49:48.150Z"
      },
      {
        "duration": 26,
        "start_time": "2023-04-11T17:49:48.163Z"
      },
      {
        "duration": 6,
        "start_time": "2023-04-11T17:49:48.199Z"
      },
      {
        "duration": 84,
        "start_time": "2023-04-11T17:49:48.208Z"
      },
      {
        "duration": 8,
        "start_time": "2023-04-11T17:49:48.303Z"
      },
      {
        "duration": 27,
        "start_time": "2023-04-11T17:49:48.314Z"
      },
      {
        "duration": 733,
        "start_time": "2023-04-11T17:49:48.343Z"
      },
      {
        "duration": 28,
        "start_time": "2023-04-11T17:49:49.078Z"
      },
      {
        "duration": 42,
        "start_time": "2023-04-11T17:49:49.107Z"
      },
      {
        "duration": 14,
        "start_time": "2023-04-11T17:49:49.151Z"
      },
      {
        "duration": 53,
        "start_time": "2023-04-11T17:49:49.167Z"
      },
      {
        "duration": 15,
        "start_time": "2023-04-11T17:49:49.221Z"
      },
      {
        "duration": 53,
        "start_time": "2023-04-11T17:50:13.208Z"
      },
      {
        "duration": 1716,
        "start_time": "2023-04-11T17:50:18.442Z"
      },
      {
        "duration": 361,
        "start_time": "2023-04-11T17:50:20.160Z"
      },
      {
        "duration": 16,
        "start_time": "2023-04-11T17:50:20.523Z"
      },
      {
        "duration": 31,
        "start_time": "2023-04-11T17:50:20.541Z"
      },
      {
        "duration": 12,
        "start_time": "2023-04-11T17:50:20.596Z"
      },
      {
        "duration": 49,
        "start_time": "2023-04-11T17:50:20.612Z"
      },
      {
        "duration": 8,
        "start_time": "2023-04-11T17:50:20.663Z"
      },
      {
        "duration": 51,
        "start_time": "2023-04-11T17:50:20.674Z"
      },
      {
        "duration": 812,
        "start_time": "2023-04-11T17:50:20.727Z"
      },
      {
        "duration": 11,
        "start_time": "2023-04-11T17:50:21.541Z"
      },
      {
        "duration": 72,
        "start_time": "2023-04-11T17:50:21.555Z"
      },
      {
        "duration": 6,
        "start_time": "2023-04-11T17:50:21.629Z"
      },
      {
        "duration": 15,
        "start_time": "2023-04-11T17:50:21.637Z"
      },
      {
        "duration": 56,
        "start_time": "2023-04-11T17:51:46.725Z"
      },
      {
        "duration": 1695,
        "start_time": "2023-04-11T17:51:58.644Z"
      },
      {
        "duration": 282,
        "start_time": "2023-04-11T17:52:00.342Z"
      },
      {
        "duration": 14,
        "start_time": "2023-04-11T17:52:00.626Z"
      },
      {
        "duration": 63,
        "start_time": "2023-04-11T17:52:00.642Z"
      },
      {
        "duration": 23,
        "start_time": "2023-04-11T17:52:00.707Z"
      },
      {
        "duration": 78,
        "start_time": "2023-04-11T17:52:00.732Z"
      },
      {
        "duration": 12,
        "start_time": "2023-04-11T17:52:00.811Z"
      },
      {
        "duration": 72,
        "start_time": "2023-04-11T17:52:00.825Z"
      },
      {
        "duration": 797,
        "start_time": "2023-04-11T17:52:00.899Z"
      },
      {
        "duration": 13,
        "start_time": "2023-04-11T17:52:01.699Z"
      },
      {
        "duration": 62,
        "start_time": "2023-04-11T17:52:01.714Z"
      },
      {
        "duration": 14,
        "start_time": "2023-04-11T17:52:01.778Z"
      },
      {
        "duration": 599,
        "start_time": "2023-04-11T17:52:01.794Z"
      },
      {
        "duration": 0,
        "start_time": "2023-04-11T17:52:02.395Z"
      },
      {
        "duration": 21,
        "start_time": "2023-04-11T17:53:36.867Z"
      },
      {
        "duration": 433,
        "start_time": "2023-04-11T17:54:05.534Z"
      },
      {
        "duration": 429,
        "start_time": "2023-04-11T17:54:41.904Z"
      },
      {
        "duration": 552,
        "start_time": "2023-04-11T17:55:10.202Z"
      },
      {
        "duration": 1423,
        "start_time": "2023-04-11T17:55:17.885Z"
      },
      {
        "duration": 323,
        "start_time": "2023-04-11T17:55:19.310Z"
      },
      {
        "duration": 17,
        "start_time": "2023-04-11T17:55:19.635Z"
      },
      {
        "duration": 44,
        "start_time": "2023-04-11T17:55:19.655Z"
      },
      {
        "duration": 5,
        "start_time": "2023-04-11T17:55:19.701Z"
      },
      {
        "duration": 50,
        "start_time": "2023-04-11T17:55:19.708Z"
      },
      {
        "duration": 32,
        "start_time": "2023-04-11T17:55:19.760Z"
      },
      {
        "duration": 34,
        "start_time": "2023-04-11T17:55:19.794Z"
      },
      {
        "duration": 927,
        "start_time": "2023-04-11T17:55:19.830Z"
      },
      {
        "duration": 11,
        "start_time": "2023-04-11T17:55:20.760Z"
      },
      {
        "duration": 57,
        "start_time": "2023-04-11T17:55:20.773Z"
      },
      {
        "duration": 8,
        "start_time": "2023-04-11T17:55:20.832Z"
      },
      {
        "duration": 1116,
        "start_time": "2023-04-11T17:55:20.842Z"
      },
      {
        "duration": 931,
        "start_time": "2023-04-11T17:55:21.961Z"
      },
      {
        "duration": 963,
        "start_time": "2023-04-11T17:56:15.368Z"
      },
      {
        "duration": 1421,
        "start_time": "2023-04-11T17:56:43.817Z"
      },
      {
        "duration": 98,
        "start_time": "2023-04-11T18:02:26.080Z"
      },
      {
        "duration": 1702,
        "start_time": "2023-04-11T18:02:36.572Z"
      },
      {
        "duration": 347,
        "start_time": "2023-04-11T18:02:38.276Z"
      },
      {
        "duration": 18,
        "start_time": "2023-04-11T18:02:38.625Z"
      },
      {
        "duration": 45,
        "start_time": "2023-04-11T18:02:38.645Z"
      },
      {
        "duration": 4,
        "start_time": "2023-04-11T18:02:38.694Z"
      },
      {
        "duration": 52,
        "start_time": "2023-04-11T18:02:38.700Z"
      },
      {
        "duration": 7,
        "start_time": "2023-04-11T18:02:38.755Z"
      },
      {
        "duration": 53,
        "start_time": "2023-04-11T18:02:38.764Z"
      },
      {
        "duration": 819,
        "start_time": "2023-04-11T18:02:38.819Z"
      },
      {
        "duration": 12,
        "start_time": "2023-04-11T18:02:39.640Z"
      },
      {
        "duration": 58,
        "start_time": "2023-04-11T18:02:39.654Z"
      },
      {
        "duration": 6,
        "start_time": "2023-04-11T18:02:39.714Z"
      },
      {
        "duration": 34,
        "start_time": "2023-04-11T18:02:39.723Z"
      },
      {
        "duration": 86,
        "start_time": "2023-04-11T18:03:40.376Z"
      },
      {
        "duration": 1518,
        "start_time": "2023-04-11T18:03:45.372Z"
      },
      {
        "duration": 278,
        "start_time": "2023-04-11T18:03:46.892Z"
      },
      {
        "duration": 17,
        "start_time": "2023-04-11T18:03:47.172Z"
      },
      {
        "duration": 18,
        "start_time": "2023-04-11T18:03:47.191Z"
      },
      {
        "duration": 3,
        "start_time": "2023-04-11T18:03:47.211Z"
      },
      {
        "duration": 39,
        "start_time": "2023-04-11T18:03:47.216Z"
      },
      {
        "duration": 36,
        "start_time": "2023-04-11T18:03:47.257Z"
      },
      {
        "duration": 41,
        "start_time": "2023-04-11T18:03:47.295Z"
      },
      {
        "duration": 686,
        "start_time": "2023-04-11T18:03:47.339Z"
      },
      {
        "duration": 11,
        "start_time": "2023-04-11T18:03:48.027Z"
      },
      {
        "duration": 59,
        "start_time": "2023-04-11T18:03:48.040Z"
      },
      {
        "duration": 6,
        "start_time": "2023-04-11T18:03:48.101Z"
      },
      {
        "duration": 25,
        "start_time": "2023-04-11T18:03:48.108Z"
      },
      {
        "duration": 55,
        "start_time": "2023-04-11T18:05:31.078Z"
      },
      {
        "duration": 1508,
        "start_time": "2023-04-11T18:05:37.550Z"
      },
      {
        "duration": 304,
        "start_time": "2023-04-11T18:05:39.060Z"
      },
      {
        "duration": 11,
        "start_time": "2023-04-11T18:05:39.366Z"
      },
      {
        "duration": 35,
        "start_time": "2023-04-11T18:05:39.380Z"
      },
      {
        "duration": 4,
        "start_time": "2023-04-11T18:05:39.417Z"
      },
      {
        "duration": 90,
        "start_time": "2023-04-11T18:05:39.424Z"
      },
      {
        "duration": 8,
        "start_time": "2023-04-11T18:05:39.517Z"
      },
      {
        "duration": 29,
        "start_time": "2023-04-11T18:05:39.527Z"
      },
      {
        "duration": 743,
        "start_time": "2023-04-11T18:05:39.558Z"
      },
      {
        "duration": 14,
        "start_time": "2023-04-11T18:05:40.304Z"
      },
      {
        "duration": 55,
        "start_time": "2023-04-11T18:05:40.322Z"
      },
      {
        "duration": 7,
        "start_time": "2023-04-11T18:05:40.390Z"
      },
      {
        "duration": 1383,
        "start_time": "2023-04-11T18:07:40.121Z"
      },
      {
        "duration": 692,
        "start_time": "2023-04-11T18:07:41.507Z"
      },
      {
        "duration": 12,
        "start_time": "2023-04-11T18:07:42.200Z"
      },
      {
        "duration": 20,
        "start_time": "2023-04-11T18:07:42.214Z"
      },
      {
        "duration": 4,
        "start_time": "2023-04-11T18:07:42.236Z"
      },
      {
        "duration": 72,
        "start_time": "2023-04-11T18:07:42.242Z"
      },
      {
        "duration": 7,
        "start_time": "2023-04-11T18:07:42.316Z"
      },
      {
        "duration": 31,
        "start_time": "2023-04-11T18:07:42.325Z"
      },
      {
        "duration": 707,
        "start_time": "2023-04-11T18:07:42.357Z"
      },
      {
        "duration": 23,
        "start_time": "2023-04-11T18:07:43.068Z"
      },
      {
        "duration": 40,
        "start_time": "2023-04-11T18:07:43.093Z"
      },
      {
        "duration": 5,
        "start_time": "2023-04-11T18:07:43.135Z"
      },
      {
        "duration": 365168,
        "start_time": "2023-04-11T18:07:43.142Z"
      },
      {
        "duration": 367619,
        "start_time": "2023-04-11T18:13:48.312Z"
      },
      {
        "duration": 3484,
        "start_time": "2023-04-11T18:20:06.644Z"
      },
      {
        "duration": 60,
        "start_time": "2023-04-15T19:35:36.909Z"
      },
      {
        "duration": 1709,
        "start_time": "2023-04-15T19:35:42.606Z"
      },
      {
        "duration": 468,
        "start_time": "2023-04-15T19:35:44.317Z"
      },
      {
        "duration": 12,
        "start_time": "2023-04-15T19:35:44.787Z"
      },
      {
        "duration": 32,
        "start_time": "2023-04-15T19:35:44.801Z"
      },
      {
        "duration": 17,
        "start_time": "2023-04-15T19:35:44.836Z"
      },
      {
        "duration": 63,
        "start_time": "2023-04-15T19:35:44.856Z"
      },
      {
        "duration": 7,
        "start_time": "2023-04-15T19:35:44.921Z"
      },
      {
        "duration": 56,
        "start_time": "2023-04-15T19:35:44.930Z"
      },
      {
        "duration": 1510,
        "start_time": "2023-04-15T19:35:44.988Z"
      },
      {
        "duration": 0,
        "start_time": "2023-04-15T19:35:46.500Z"
      },
      {
        "duration": 0,
        "start_time": "2023-04-15T19:35:46.503Z"
      },
      {
        "duration": 0,
        "start_time": "2023-04-15T19:35:46.504Z"
      },
      {
        "duration": 1470,
        "start_time": "2023-04-15T19:36:44.344Z"
      },
      {
        "duration": 283,
        "start_time": "2023-04-15T19:36:45.817Z"
      },
      {
        "duration": 12,
        "start_time": "2023-04-15T19:36:46.104Z"
      },
      {
        "duration": 46,
        "start_time": "2023-04-15T19:36:46.119Z"
      },
      {
        "duration": 7,
        "start_time": "2023-04-15T19:36:46.170Z"
      },
      {
        "duration": 59,
        "start_time": "2023-04-15T19:36:46.179Z"
      },
      {
        "duration": 16,
        "start_time": "2023-04-15T19:36:46.241Z"
      },
      {
        "duration": 42,
        "start_time": "2023-04-15T19:36:46.259Z"
      },
      {
        "duration": 34,
        "start_time": "2023-04-15T19:36:46.303Z"
      },
      {
        "duration": 41,
        "start_time": "2023-04-15T19:36:46.340Z"
      },
      {
        "duration": 63,
        "start_time": "2023-04-15T19:36:46.384Z"
      },
      {
        "duration": 1169,
        "start_time": "2023-04-15T19:36:46.448Z"
      },
      {
        "duration": 6,
        "start_time": "2023-04-15T19:37:10.915Z"
      },
      {
        "duration": 22,
        "start_time": "2023-04-15T19:37:24.955Z"
      },
      {
        "duration": 22,
        "start_time": "2023-04-15T19:37:29.267Z"
      },
      {
        "duration": 59,
        "start_time": "2023-04-16T09:56:28.934Z"
      },
      {
        "duration": 1423,
        "start_time": "2023-04-16T09:56:33.862Z"
      },
      {
        "duration": 427,
        "start_time": "2023-04-16T09:56:35.287Z"
      },
      {
        "duration": 10,
        "start_time": "2023-04-16T09:56:35.716Z"
      },
      {
        "duration": 47,
        "start_time": "2023-04-16T09:56:35.728Z"
      },
      {
        "duration": 16,
        "start_time": "2023-04-16T09:56:35.777Z"
      },
      {
        "duration": 56,
        "start_time": "2023-04-16T09:56:35.794Z"
      },
      {
        "duration": 8,
        "start_time": "2023-04-16T09:56:35.852Z"
      },
      {
        "duration": 24,
        "start_time": "2023-04-16T09:56:35.862Z"
      },
      {
        "duration": 35,
        "start_time": "2023-04-16T09:56:35.887Z"
      },
      {
        "duration": 14,
        "start_time": "2023-04-16T09:56:35.925Z"
      },
      {
        "duration": 76,
        "start_time": "2023-04-16T09:56:35.940Z"
      },
      {
        "duration": 5,
        "start_time": "2023-04-16T09:56:36.018Z"
      },
      {
        "duration": 137,
        "start_time": "2023-04-16T09:56:36.025Z"
      },
      {
        "duration": 13,
        "start_time": "2023-04-16T09:56:59.099Z"
      },
      {
        "duration": 16,
        "start_time": "2023-04-16T09:57:05.502Z"
      },
      {
        "duration": 28,
        "start_time": "2023-04-16T09:58:15.506Z"
      },
      {
        "duration": 15,
        "start_time": "2023-04-16T10:00:17.296Z"
      },
      {
        "duration": 1200,
        "start_time": "2023-04-16T10:03:10.140Z"
      },
      {
        "duration": 21,
        "start_time": "2023-04-16T10:03:58.755Z"
      },
      {
        "duration": 22,
        "start_time": "2023-04-16T10:04:07.834Z"
      },
      {
        "duration": 9,
        "start_time": "2023-04-16T10:04:09.299Z"
      },
      {
        "duration": 4,
        "start_time": "2023-04-16T10:04:12.501Z"
      },
      {
        "duration": 13,
        "start_time": "2023-04-16T10:05:01.857Z"
      },
      {
        "duration": 14,
        "start_time": "2023-04-16T10:05:06.997Z"
      },
      {
        "duration": 9,
        "start_time": "2023-04-16T10:06:32.176Z"
      },
      {
        "duration": 11,
        "start_time": "2023-04-16T10:06:40.265Z"
      },
      {
        "duration": 24,
        "start_time": "2023-04-16T10:07:06.054Z"
      },
      {
        "duration": 7,
        "start_time": "2023-04-16T10:07:27.035Z"
      },
      {
        "duration": 20,
        "start_time": "2023-04-16T10:07:59.874Z"
      },
      {
        "duration": 14,
        "start_time": "2023-04-16T10:08:10.814Z"
      },
      {
        "duration": 13,
        "start_time": "2023-04-16T10:09:59.147Z"
      },
      {
        "duration": 1280,
        "start_time": "2023-04-16T10:10:17.203Z"
      },
      {
        "duration": 279,
        "start_time": "2023-04-16T10:10:18.485Z"
      },
      {
        "duration": 10,
        "start_time": "2023-04-16T10:10:18.766Z"
      },
      {
        "duration": 19,
        "start_time": "2023-04-16T10:10:18.778Z"
      },
      {
        "duration": 3,
        "start_time": "2023-04-16T10:10:18.812Z"
      },
      {
        "duration": 49,
        "start_time": "2023-04-16T10:10:18.817Z"
      },
      {
        "duration": 8,
        "start_time": "2023-04-16T10:10:18.870Z"
      },
      {
        "duration": 43,
        "start_time": "2023-04-16T10:10:18.880Z"
      },
      {
        "duration": 24,
        "start_time": "2023-04-16T10:10:18.926Z"
      },
      {
        "duration": 25,
        "start_time": "2023-04-16T10:10:18.952Z"
      },
      {
        "duration": 76,
        "start_time": "2023-04-16T10:10:18.979Z"
      },
      {
        "duration": 6,
        "start_time": "2023-04-16T10:10:19.058Z"
      },
      {
        "duration": 49,
        "start_time": "2023-04-16T10:10:19.066Z"
      },
      {
        "duration": 29,
        "start_time": "2023-04-16T10:10:19.119Z"
      },
      {
        "duration": 4,
        "start_time": "2023-04-16T10:10:19.150Z"
      },
      {
        "duration": 26,
        "start_time": "2023-04-16T10:10:19.156Z"
      },
      {
        "duration": 29,
        "start_time": "2023-04-16T10:10:19.183Z"
      },
      {
        "duration": 129,
        "start_time": "2023-04-16T10:12:14.875Z"
      },
      {
        "duration": 9,
        "start_time": "2023-04-16T10:13:15.823Z"
      },
      {
        "duration": 1298,
        "start_time": "2023-04-16T10:14:08.677Z"
      },
      {
        "duration": 266,
        "start_time": "2023-04-16T10:14:09.977Z"
      },
      {
        "duration": 11,
        "start_time": "2023-04-16T10:14:10.245Z"
      },
      {
        "duration": 24,
        "start_time": "2023-04-16T10:14:10.257Z"
      },
      {
        "duration": 9,
        "start_time": "2023-04-16T10:14:10.284Z"
      },
      {
        "duration": 62,
        "start_time": "2023-04-16T10:14:10.295Z"
      },
      {
        "duration": 7,
        "start_time": "2023-04-16T10:14:10.359Z"
      },
      {
        "duration": 38,
        "start_time": "2023-04-16T10:14:10.367Z"
      },
      {
        "duration": 17,
        "start_time": "2023-04-16T10:14:10.407Z"
      },
      {
        "duration": 13,
        "start_time": "2023-04-16T10:14:10.426Z"
      },
      {
        "duration": 42,
        "start_time": "2023-04-16T10:14:10.440Z"
      },
      {
        "duration": 5,
        "start_time": "2023-04-16T10:14:10.484Z"
      },
      {
        "duration": 23,
        "start_time": "2023-04-16T10:14:10.511Z"
      },
      {
        "duration": 24,
        "start_time": "2023-04-16T10:14:10.536Z"
      },
      {
        "duration": 4,
        "start_time": "2023-04-16T10:14:10.562Z"
      },
      {
        "duration": 50,
        "start_time": "2023-04-16T10:14:10.567Z"
      },
      {
        "duration": 9,
        "start_time": "2023-04-16T10:14:10.619Z"
      },
      {
        "duration": 121,
        "start_time": "2023-04-16T10:14:10.629Z"
      },
      {
        "duration": 0,
        "start_time": "2023-04-16T10:14:10.751Z"
      },
      {
        "duration": 0,
        "start_time": "2023-04-16T10:14:10.753Z"
      },
      {
        "duration": 0,
        "start_time": "2023-04-16T10:14:10.754Z"
      },
      {
        "duration": 5,
        "start_time": "2023-04-16T10:14:27.678Z"
      },
      {
        "duration": 7,
        "start_time": "2023-04-16T10:14:29.312Z"
      },
      {
        "duration": 14,
        "start_time": "2023-04-16T10:14:31.633Z"
      },
      {
        "duration": 395,
        "start_time": "2023-04-16T10:14:32.904Z"
      },
      {
        "duration": 378,
        "start_time": "2023-04-16T10:19:53.895Z"
      },
      {
        "duration": 1308,
        "start_time": "2023-04-16T10:21:04.837Z"
      },
      {
        "duration": 276,
        "start_time": "2023-04-16T10:21:06.148Z"
      },
      {
        "duration": 15,
        "start_time": "2023-04-16T10:21:06.431Z"
      },
      {
        "duration": 26,
        "start_time": "2023-04-16T10:21:06.448Z"
      },
      {
        "duration": 3,
        "start_time": "2023-04-16T10:21:06.477Z"
      },
      {
        "duration": 58,
        "start_time": "2023-04-16T10:21:06.481Z"
      },
      {
        "duration": 7,
        "start_time": "2023-04-16T10:21:06.541Z"
      },
      {
        "duration": 29,
        "start_time": "2023-04-16T10:21:06.549Z"
      },
      {
        "duration": 18,
        "start_time": "2023-04-16T10:21:06.580Z"
      },
      {
        "duration": 20,
        "start_time": "2023-04-16T10:21:06.599Z"
      },
      {
        "duration": 54,
        "start_time": "2023-04-16T10:21:06.621Z"
      },
      {
        "duration": 5,
        "start_time": "2023-04-16T10:21:06.677Z"
      },
      {
        "duration": 39,
        "start_time": "2023-04-16T10:21:06.684Z"
      },
      {
        "duration": 28,
        "start_time": "2023-04-16T10:21:06.732Z"
      },
      {
        "duration": 25,
        "start_time": "2023-04-16T10:21:06.762Z"
      },
      {
        "duration": 10,
        "start_time": "2023-04-16T10:21:06.789Z"
      },
      {
        "duration": 274,
        "start_time": "2023-04-16T10:21:06.813Z"
      },
      {
        "duration": 24,
        "start_time": "2023-04-16T10:21:20.707Z"
      },
      {
        "duration": 346,
        "start_time": "2023-04-16T10:21:21.936Z"
      },
      {
        "duration": 28,
        "start_time": "2023-04-16T10:24:43.542Z"
      },
      {
        "duration": 12,
        "start_time": "2023-04-16T10:26:05.405Z"
      },
      {
        "duration": 3,
        "start_time": "2023-04-16T10:26:19.798Z"
      },
      {
        "duration": 34,
        "start_time": "2023-04-16T10:26:20.611Z"
      },
      {
        "duration": 41,
        "start_time": "2023-04-16T10:26:38.936Z"
      },
      {
        "duration": 1284,
        "start_time": "2023-04-16T10:26:47.552Z"
      },
      {
        "duration": 386,
        "start_time": "2023-04-16T10:26:48.838Z"
      },
      {
        "duration": 14,
        "start_time": "2023-04-16T10:26:49.226Z"
      },
      {
        "duration": 34,
        "start_time": "2023-04-16T10:26:49.242Z"
      },
      {
        "duration": 3,
        "start_time": "2023-04-16T10:26:49.279Z"
      },
      {
        "duration": 73,
        "start_time": "2023-04-16T10:26:49.284Z"
      },
      {
        "duration": 11,
        "start_time": "2023-04-16T10:26:49.359Z"
      },
      {
        "duration": 60,
        "start_time": "2023-04-16T10:26:49.372Z"
      },
      {
        "duration": 26,
        "start_time": "2023-04-16T10:26:49.434Z"
      },
      {
        "duration": 23,
        "start_time": "2023-04-16T10:26:49.463Z"
      },
      {
        "duration": 72,
        "start_time": "2023-04-16T10:26:49.488Z"
      },
      {
        "duration": 6,
        "start_time": "2023-04-16T10:26:49.563Z"
      },
      {
        "duration": 50,
        "start_time": "2023-04-16T10:26:49.571Z"
      },
      {
        "duration": 33,
        "start_time": "2023-04-16T10:26:49.625Z"
      },
      {
        "duration": 33,
        "start_time": "2023-04-16T10:26:49.660Z"
      },
      {
        "duration": 11,
        "start_time": "2023-04-16T10:26:49.712Z"
      },
      {
        "duration": 15,
        "start_time": "2023-04-16T10:26:49.725Z"
      },
      {
        "duration": 353,
        "start_time": "2023-04-16T10:26:49.741Z"
      },
      {
        "duration": 31,
        "start_time": "2023-04-16T10:26:50.096Z"
      },
      {
        "duration": 3,
        "start_time": "2023-04-16T10:26:50.129Z"
      },
      {
        "duration": 150,
        "start_time": "2023-04-16T10:26:50.133Z"
      },
      {
        "duration": 22,
        "start_time": "2023-04-16T10:29:58.301Z"
      },
      {
        "duration": 2135,
        "start_time": "2023-04-16T10:30:26.004Z"
      },
      {
        "duration": 380,
        "start_time": "2023-04-16T10:30:28.142Z"
      },
      {
        "duration": 11,
        "start_time": "2023-04-16T10:30:28.524Z"
      },
      {
        "duration": 21,
        "start_time": "2023-04-16T10:30:28.537Z"
      },
      {
        "duration": 3,
        "start_time": "2023-04-16T10:30:28.561Z"
      },
      {
        "duration": 60,
        "start_time": "2023-04-16T10:30:28.566Z"
      },
      {
        "duration": 7,
        "start_time": "2023-04-16T10:30:28.628Z"
      },
      {
        "duration": 34,
        "start_time": "2023-04-16T10:30:28.637Z"
      },
      {
        "duration": 23,
        "start_time": "2023-04-16T10:30:28.672Z"
      },
      {
        "duration": 30,
        "start_time": "2023-04-16T10:30:28.697Z"
      },
      {
        "duration": 46,
        "start_time": "2023-04-16T10:30:28.728Z"
      },
      {
        "duration": 12,
        "start_time": "2023-04-16T10:30:28.776Z"
      },
      {
        "duration": 31,
        "start_time": "2023-04-16T10:30:28.790Z"
      },
      {
        "duration": 36,
        "start_time": "2023-04-16T10:30:28.825Z"
      },
      {
        "duration": 51,
        "start_time": "2023-04-16T10:30:28.863Z"
      },
      {
        "duration": 37,
        "start_time": "2023-04-16T10:30:28.916Z"
      },
      {
        "duration": 13,
        "start_time": "2023-04-16T10:30:28.955Z"
      },
      {
        "duration": 17,
        "start_time": "2023-04-16T10:30:28.969Z"
      },
      {
        "duration": 374,
        "start_time": "2023-04-16T10:30:29.014Z"
      },
      {
        "duration": 35,
        "start_time": "2023-04-16T10:30:29.389Z"
      },
      {
        "duration": 76,
        "start_time": "2023-04-16T10:32:00.193Z"
      },
      {
        "duration": 117,
        "start_time": "2023-04-16T10:32:06.033Z"
      },
      {
        "duration": 34,
        "start_time": "2023-04-16T10:32:23.397Z"
      },
      {
        "duration": 25,
        "start_time": "2023-04-16T10:32:31.197Z"
      },
      {
        "duration": 1522,
        "start_time": "2023-04-16T10:32:37.032Z"
      },
      {
        "duration": 13,
        "start_time": "2023-04-16T10:35:03.023Z"
      },
      {
        "duration": 25,
        "start_time": "2023-04-16T10:36:16.386Z"
      },
      {
        "duration": 13,
        "start_time": "2023-04-16T10:40:04.584Z"
      },
      {
        "duration": 20,
        "start_time": "2023-04-16T10:41:13.741Z"
      },
      {
        "duration": 50,
        "start_time": "2023-04-16T10:41:36.891Z"
      },
      {
        "duration": 151,
        "start_time": "2023-04-16T10:41:39.190Z"
      },
      {
        "duration": 1280,
        "start_time": "2023-04-16T10:42:20.021Z"
      },
      {
        "duration": 313,
        "start_time": "2023-04-16T10:42:21.303Z"
      },
      {
        "duration": 11,
        "start_time": "2023-04-16T10:42:21.618Z"
      },
      {
        "duration": 45,
        "start_time": "2023-04-16T10:42:21.630Z"
      },
      {
        "duration": 4,
        "start_time": "2023-04-16T10:42:21.678Z"
      },
      {
        "duration": 40,
        "start_time": "2023-04-16T10:42:21.683Z"
      },
      {
        "duration": 7,
        "start_time": "2023-04-16T10:42:21.725Z"
      },
      {
        "duration": 32,
        "start_time": "2023-04-16T10:42:21.734Z"
      },
      {
        "duration": 19,
        "start_time": "2023-04-16T10:42:21.767Z"
      },
      {
        "duration": 29,
        "start_time": "2023-04-16T10:42:21.788Z"
      },
      {
        "duration": 56,
        "start_time": "2023-04-16T10:42:21.819Z"
      },
      {
        "duration": 15,
        "start_time": "2023-04-16T10:42:21.876Z"
      },
      {
        "duration": 24,
        "start_time": "2023-04-16T10:42:21.893Z"
      },
      {
        "duration": 29,
        "start_time": "2023-04-16T10:42:21.920Z"
      },
      {
        "duration": 25,
        "start_time": "2023-04-16T10:42:21.951Z"
      },
      {
        "duration": 34,
        "start_time": "2023-04-16T10:42:21.978Z"
      },
      {
        "duration": 10,
        "start_time": "2023-04-16T10:42:22.013Z"
      },
      {
        "duration": 23,
        "start_time": "2023-04-16T10:42:22.024Z"
      },
      {
        "duration": 378,
        "start_time": "2023-04-16T10:42:22.049Z"
      },
      {
        "duration": 27,
        "start_time": "2023-04-16T10:42:22.429Z"
      },
      {
        "duration": 107,
        "start_time": "2023-04-16T10:42:22.458Z"
      },
      {
        "duration": 161,
        "start_time": "2023-04-16T10:42:22.567Z"
      },
      {
        "duration": 196,
        "start_time": "2023-04-16T10:43:31.093Z"
      },
      {
        "duration": 66,
        "start_time": "2023-04-16T10:44:45.731Z"
      },
      {
        "duration": 60,
        "start_time": "2023-04-16T10:46:55.590Z"
      },
      {
        "duration": 1262,
        "start_time": "2023-04-16T10:47:10.293Z"
      },
      {
        "duration": 12,
        "start_time": "2023-04-16T10:49:41.345Z"
      },
      {
        "duration": 30,
        "start_time": "2023-04-16T10:49:57.431Z"
      },
      {
        "duration": 1267,
        "start_time": "2023-04-16T10:50:06.122Z"
      },
      {
        "duration": 232,
        "start_time": "2023-04-16T10:50:07.391Z"
      },
      {
        "duration": 10,
        "start_time": "2023-04-16T10:50:07.625Z"
      },
      {
        "duration": 21,
        "start_time": "2023-04-16T10:50:07.637Z"
      },
      {
        "duration": 4,
        "start_time": "2023-04-16T10:50:07.660Z"
      },
      {
        "duration": 61,
        "start_time": "2023-04-16T10:50:07.665Z"
      },
      {
        "duration": 7,
        "start_time": "2023-04-16T10:50:07.727Z"
      },
      {
        "duration": 26,
        "start_time": "2023-04-16T10:50:07.736Z"
      },
      {
        "duration": 19,
        "start_time": "2023-04-16T10:50:07.763Z"
      },
      {
        "duration": 33,
        "start_time": "2023-04-16T10:50:07.784Z"
      },
      {
        "duration": 57,
        "start_time": "2023-04-16T10:50:07.819Z"
      },
      {
        "duration": 13,
        "start_time": "2023-04-16T10:50:07.878Z"
      },
      {
        "duration": 23,
        "start_time": "2023-04-16T10:50:07.893Z"
      },
      {
        "duration": 45,
        "start_time": "2023-04-16T10:50:07.920Z"
      },
      {
        "duration": 48,
        "start_time": "2023-04-16T10:50:07.967Z"
      },
      {
        "duration": 53,
        "start_time": "2023-04-16T10:50:08.018Z"
      },
      {
        "duration": 20,
        "start_time": "2023-04-16T10:50:08.073Z"
      },
      {
        "duration": 30,
        "start_time": "2023-04-16T10:50:08.095Z"
      },
      {
        "duration": 374,
        "start_time": "2023-04-16T10:50:08.127Z"
      },
      {
        "duration": 26,
        "start_time": "2023-04-16T10:50:08.511Z"
      },
      {
        "duration": 137,
        "start_time": "2023-04-16T10:50:08.539Z"
      },
      {
        "duration": 0,
        "start_time": "2023-04-16T10:50:08.678Z"
      },
      {
        "duration": 0,
        "start_time": "2023-04-16T10:50:08.680Z"
      },
      {
        "duration": 1340,
        "start_time": "2023-04-16T10:50:57.948Z"
      },
      {
        "duration": 280,
        "start_time": "2023-04-16T10:50:59.290Z"
      },
      {
        "duration": 12,
        "start_time": "2023-04-16T10:50:59.571Z"
      },
      {
        "duration": 30,
        "start_time": "2023-04-16T10:50:59.584Z"
      },
      {
        "duration": 4,
        "start_time": "2023-04-16T10:50:59.616Z"
      },
      {
        "duration": 43,
        "start_time": "2023-04-16T10:50:59.621Z"
      },
      {
        "duration": 7,
        "start_time": "2023-04-16T10:50:59.665Z"
      },
      {
        "duration": 49,
        "start_time": "2023-04-16T10:50:59.674Z"
      },
      {
        "duration": 20,
        "start_time": "2023-04-16T10:50:59.724Z"
      },
      {
        "duration": 18,
        "start_time": "2023-04-16T10:50:59.745Z"
      },
      {
        "duration": 56,
        "start_time": "2023-04-16T10:50:59.764Z"
      },
      {
        "duration": 12,
        "start_time": "2023-04-16T10:50:59.822Z"
      },
      {
        "duration": 23,
        "start_time": "2023-04-16T10:50:59.836Z"
      },
      {
        "duration": 24,
        "start_time": "2023-04-16T10:50:59.863Z"
      },
      {
        "duration": 36,
        "start_time": "2023-04-16T10:50:59.891Z"
      },
      {
        "duration": 27,
        "start_time": "2023-04-16T10:50:59.930Z"
      },
      {
        "duration": 10,
        "start_time": "2023-04-16T10:50:59.959Z"
      },
      {
        "duration": 24,
        "start_time": "2023-04-16T10:50:59.971Z"
      },
      {
        "duration": 372,
        "start_time": "2023-04-16T10:50:59.996Z"
      },
      {
        "duration": 27,
        "start_time": "2023-04-16T10:51:00.369Z"
      },
      {
        "duration": 1468,
        "start_time": "2023-04-16T10:51:00.398Z"
      },
      {
        "duration": 0,
        "start_time": "2023-04-16T10:51:01.868Z"
      },
      {
        "duration": 0,
        "start_time": "2023-04-16T10:51:01.869Z"
      },
      {
        "duration": 7,
        "start_time": "2023-04-16T10:53:01.377Z"
      },
      {
        "duration": 27,
        "start_time": "2023-04-16T10:53:57.936Z"
      },
      {
        "duration": 91,
        "start_time": "2023-04-16T10:54:57.474Z"
      },
      {
        "duration": 181,
        "start_time": "2023-04-16T10:54:58.792Z"
      },
      {
        "duration": 288,
        "start_time": "2023-04-16T10:56:58.989Z"
      },
      {
        "duration": 1294,
        "start_time": "2023-04-16T10:57:06.707Z"
      },
      {
        "duration": 331,
        "start_time": "2023-04-16T10:57:08.003Z"
      },
      {
        "duration": 12,
        "start_time": "2023-04-16T10:57:08.335Z"
      },
      {
        "duration": 29,
        "start_time": "2023-04-16T10:57:08.348Z"
      },
      {
        "duration": 4,
        "start_time": "2023-04-16T10:57:08.379Z"
      },
      {
        "duration": 55,
        "start_time": "2023-04-16T10:57:08.384Z"
      },
      {
        "duration": 7,
        "start_time": "2023-04-16T10:57:08.440Z"
      },
      {
        "duration": 30,
        "start_time": "2023-04-16T10:57:08.449Z"
      },
      {
        "duration": 20,
        "start_time": "2023-04-16T10:57:08.480Z"
      },
      {
        "duration": 10,
        "start_time": "2023-04-16T10:57:08.511Z"
      },
      {
        "duration": 42,
        "start_time": "2023-04-16T10:57:08.523Z"
      },
      {
        "duration": 13,
        "start_time": "2023-04-16T10:57:08.567Z"
      },
      {
        "duration": 33,
        "start_time": "2023-04-16T10:57:08.581Z"
      },
      {
        "duration": 26,
        "start_time": "2023-04-16T10:57:08.616Z"
      },
      {
        "duration": 26,
        "start_time": "2023-04-16T10:57:08.644Z"
      },
      {
        "duration": 46,
        "start_time": "2023-04-16T10:57:08.671Z"
      },
      {
        "duration": 8,
        "start_time": "2023-04-16T10:57:08.719Z"
      },
      {
        "duration": 14,
        "start_time": "2023-04-16T10:57:08.729Z"
      },
      {
        "duration": 372,
        "start_time": "2023-04-16T10:57:08.745Z"
      },
      {
        "duration": 32,
        "start_time": "2023-04-16T10:57:09.124Z"
      },
      {
        "duration": 119,
        "start_time": "2023-04-16T10:57:09.158Z"
      },
      {
        "duration": 189,
        "start_time": "2023-04-16T10:57:09.279Z"
      },
      {
        "duration": 425,
        "start_time": "2023-04-16T10:57:09.470Z"
      },
      {
        "duration": 58,
        "start_time": "2023-04-16T11:00:44.452Z"
      },
      {
        "duration": 1236,
        "start_time": "2023-04-16T11:03:39.881Z"
      },
      {
        "duration": 1298,
        "start_time": "2023-04-16T11:03:55.126Z"
      },
      {
        "duration": 245,
        "start_time": "2023-04-16T11:03:56.426Z"
      },
      {
        "duration": 11,
        "start_time": "2023-04-16T11:03:56.672Z"
      },
      {
        "duration": 38,
        "start_time": "2023-04-16T11:03:56.685Z"
      },
      {
        "duration": 17,
        "start_time": "2023-04-16T11:03:56.727Z"
      },
      {
        "duration": 49,
        "start_time": "2023-04-16T11:03:56.745Z"
      },
      {
        "duration": 7,
        "start_time": "2023-04-16T11:03:56.796Z"
      },
      {
        "duration": 35,
        "start_time": "2023-04-16T11:03:56.804Z"
      },
      {
        "duration": 27,
        "start_time": "2023-04-16T11:03:56.840Z"
      },
      {
        "duration": 18,
        "start_time": "2023-04-16T11:03:56.869Z"
      },
      {
        "duration": 53,
        "start_time": "2023-04-16T11:03:56.889Z"
      },
      {
        "duration": 14,
        "start_time": "2023-04-16T11:03:56.944Z"
      },
      {
        "duration": 9,
        "start_time": "2023-04-16T11:03:56.960Z"
      },
      {
        "duration": 46,
        "start_time": "2023-04-16T11:03:56.973Z"
      },
      {
        "duration": 28,
        "start_time": "2023-04-16T11:03:57.021Z"
      },
      {
        "duration": 26,
        "start_time": "2023-04-16T11:03:57.052Z"
      },
      {
        "duration": 9,
        "start_time": "2023-04-16T11:03:57.079Z"
      },
      {
        "duration": 33,
        "start_time": "2023-04-16T11:03:57.090Z"
      },
      {
        "duration": 368,
        "start_time": "2023-04-16T11:03:57.125Z"
      },
      {
        "duration": 30,
        "start_time": "2023-04-16T11:03:57.495Z"
      },
      {
        "duration": 96,
        "start_time": "2023-04-16T11:03:57.528Z"
      },
      {
        "duration": 153,
        "start_time": "2023-04-16T11:03:57.626Z"
      },
      {
        "duration": 1420,
        "start_time": "2023-04-16T11:03:57.781Z"
      },
      {
        "duration": 1251,
        "start_time": "2023-04-16T11:13:27.506Z"
      },
      {
        "duration": 1308,
        "start_time": "2023-04-16T11:13:30.304Z"
      },
      {
        "duration": 1286,
        "start_time": "2023-04-16T11:13:41.928Z"
      },
      {
        "duration": 1349,
        "start_time": "2023-04-16T11:14:19.785Z"
      },
      {
        "duration": 327,
        "start_time": "2023-04-16T11:14:21.138Z"
      },
      {
        "duration": 13,
        "start_time": "2023-04-16T11:14:21.467Z"
      },
      {
        "duration": 35,
        "start_time": "2023-04-16T11:14:21.481Z"
      },
      {
        "duration": 3,
        "start_time": "2023-04-16T11:14:21.519Z"
      },
      {
        "duration": 40,
        "start_time": "2023-04-16T11:14:21.524Z"
      },
      {
        "duration": 8,
        "start_time": "2023-04-16T11:14:21.565Z"
      },
      {
        "duration": 51,
        "start_time": "2023-04-16T11:14:21.575Z"
      },
      {
        "duration": 21,
        "start_time": "2023-04-16T11:14:21.628Z"
      },
      {
        "duration": 14,
        "start_time": "2023-04-16T11:14:21.651Z"
      },
      {
        "duration": 71,
        "start_time": "2023-04-16T11:14:21.667Z"
      },
      {
        "duration": 11,
        "start_time": "2023-04-16T11:14:21.740Z"
      },
      {
        "duration": 6,
        "start_time": "2023-04-16T11:14:21.753Z"
      },
      {
        "duration": 57,
        "start_time": "2023-04-16T11:14:21.761Z"
      },
      {
        "duration": 26,
        "start_time": "2023-04-16T11:14:21.820Z"
      },
      {
        "duration": 26,
        "start_time": "2023-04-16T11:14:21.848Z"
      },
      {
        "duration": 9,
        "start_time": "2023-04-16T11:14:21.876Z"
      },
      {
        "duration": 14,
        "start_time": "2023-04-16T11:14:21.911Z"
      },
      {
        "duration": 384,
        "start_time": "2023-04-16T11:14:21.927Z"
      },
      {
        "duration": 29,
        "start_time": "2023-04-16T11:14:22.313Z"
      },
      {
        "duration": 1370,
        "start_time": "2023-04-16T11:14:22.343Z"
      },
      {
        "duration": 0,
        "start_time": "2023-04-16T11:14:23.715Z"
      },
      {
        "duration": 0,
        "start_time": "2023-04-16T11:14:23.717Z"
      },
      {
        "duration": 0,
        "start_time": "2023-04-16T11:14:23.719Z"
      },
      {
        "duration": 147,
        "start_time": "2023-04-16T11:15:25.725Z"
      },
      {
        "duration": 84,
        "start_time": "2023-04-16T11:15:28.105Z"
      },
      {
        "duration": 1251,
        "start_time": "2023-04-16T11:15:29.648Z"
      },
      {
        "duration": 1634,
        "start_time": "2023-04-16T11:16:09.327Z"
      },
      {
        "duration": 71,
        "start_time": "2023-04-16T11:16:29.719Z"
      },
      {
        "duration": 1459,
        "start_time": "2023-04-16T11:16:36.596Z"
      },
      {
        "duration": 11,
        "start_time": "2023-04-16T11:16:53.105Z"
      },
      {
        "duration": 13,
        "start_time": "2023-04-16T11:17:11.199Z"
      },
      {
        "duration": 1237,
        "start_time": "2023-04-16T11:17:27.057Z"
      },
      {
        "duration": 304,
        "start_time": "2023-04-16T11:17:28.297Z"
      },
      {
        "duration": 19,
        "start_time": "2023-04-16T11:17:28.603Z"
      },
      {
        "duration": 34,
        "start_time": "2023-04-16T11:17:28.624Z"
      },
      {
        "duration": 7,
        "start_time": "2023-04-16T11:17:28.661Z"
      },
      {
        "duration": 74,
        "start_time": "2023-04-16T11:17:28.671Z"
      },
      {
        "duration": 9,
        "start_time": "2023-04-16T11:17:28.747Z"
      },
      {
        "duration": 28,
        "start_time": "2023-04-16T11:17:28.758Z"
      },
      {
        "duration": 35,
        "start_time": "2023-04-16T11:17:28.788Z"
      },
      {
        "duration": 13,
        "start_time": "2023-04-16T11:17:28.825Z"
      },
      {
        "duration": 48,
        "start_time": "2023-04-16T11:17:28.840Z"
      },
      {
        "duration": 33,
        "start_time": "2023-04-16T11:17:28.890Z"
      },
      {
        "duration": 18,
        "start_time": "2023-04-16T11:17:28.925Z"
      },
      {
        "duration": 24,
        "start_time": "2023-04-16T11:17:28.945Z"
      },
      {
        "duration": 40,
        "start_time": "2023-04-16T11:17:28.971Z"
      },
      {
        "duration": 25,
        "start_time": "2023-04-16T11:17:29.013Z"
      },
      {
        "duration": 10,
        "start_time": "2023-04-16T11:17:29.040Z"
      },
      {
        "duration": 15,
        "start_time": "2023-04-16T11:17:29.052Z"
      },
      {
        "duration": 436,
        "start_time": "2023-04-16T11:17:29.068Z"
      },
      {
        "duration": 29,
        "start_time": "2023-04-16T11:17:29.506Z"
      },
      {
        "duration": 97,
        "start_time": "2023-04-16T11:17:29.537Z"
      },
      {
        "duration": 146,
        "start_time": "2023-04-16T11:17:29.636Z"
      },
      {
        "duration": 139,
        "start_time": "2023-04-16T11:17:29.783Z"
      },
      {
        "duration": 14,
        "start_time": "2023-04-16T11:17:29.924Z"
      },
      {
        "duration": 1447,
        "start_time": "2023-04-16T11:17:29.940Z"
      },
      {
        "duration": 83,
        "start_time": "2023-04-16T11:19:32.709Z"
      },
      {
        "duration": 70,
        "start_time": "2023-04-16T11:20:15.535Z"
      },
      {
        "duration": 16,
        "start_time": "2023-04-16T11:24:34.061Z"
      },
      {
        "duration": 2313,
        "start_time": "2023-04-16T11:24:45.631Z"
      },
      {
        "duration": 54,
        "start_time": "2023-04-16T11:27:59.459Z"
      },
      {
        "duration": 17,
        "start_time": "2023-04-16T11:28:14.287Z"
      },
      {
        "duration": 21,
        "start_time": "2023-04-16T11:31:28.351Z"
      },
      {
        "duration": 14,
        "start_time": "2023-04-16T11:42:48.626Z"
      },
      {
        "duration": 18,
        "start_time": "2023-04-16T11:43:01.617Z"
      },
      {
        "duration": 31,
        "start_time": "2023-04-16T11:43:16.652Z"
      },
      {
        "duration": 4234,
        "start_time": "2023-04-16T11:44:40.298Z"
      },
      {
        "duration": 1369,
        "start_time": "2023-04-16T11:45:39.439Z"
      },
      {
        "duration": 284,
        "start_time": "2023-04-16T11:45:40.812Z"
      },
      {
        "duration": 21,
        "start_time": "2023-04-16T11:45:41.098Z"
      },
      {
        "duration": 26,
        "start_time": "2023-04-16T11:45:41.122Z"
      },
      {
        "duration": 4,
        "start_time": "2023-04-16T11:45:41.149Z"
      },
      {
        "duration": 43,
        "start_time": "2023-04-16T11:45:41.155Z"
      },
      {
        "duration": 18,
        "start_time": "2023-04-16T11:45:41.200Z"
      },
      {
        "duration": 27,
        "start_time": "2023-04-16T11:45:41.222Z"
      },
      {
        "duration": 19,
        "start_time": "2023-04-16T11:45:41.251Z"
      },
      {
        "duration": 10,
        "start_time": "2023-04-16T11:45:41.273Z"
      },
      {
        "duration": 46,
        "start_time": "2023-04-16T11:45:41.318Z"
      },
      {
        "duration": 13,
        "start_time": "2023-04-16T11:45:41.366Z"
      },
      {
        "duration": 5,
        "start_time": "2023-04-16T11:45:41.381Z"
      },
      {
        "duration": 48,
        "start_time": "2023-04-16T11:45:41.387Z"
      },
      {
        "duration": 25,
        "start_time": "2023-04-16T11:45:41.437Z"
      },
      {
        "duration": 24,
        "start_time": "2023-04-16T11:45:41.463Z"
      },
      {
        "duration": 38,
        "start_time": "2023-04-16T11:45:41.488Z"
      },
      {
        "duration": 15,
        "start_time": "2023-04-16T11:45:41.527Z"
      },
      {
        "duration": 352,
        "start_time": "2023-04-16T11:45:41.544Z"
      },
      {
        "duration": 38,
        "start_time": "2023-04-16T11:45:41.898Z"
      },
      {
        "duration": 96,
        "start_time": "2023-04-16T11:45:41.937Z"
      },
      {
        "duration": 231,
        "start_time": "2023-04-16T11:45:42.034Z"
      },
      {
        "duration": 4354,
        "start_time": "2023-04-16T11:45:42.267Z"
      },
      {
        "duration": 122,
        "start_time": "2023-04-16T11:46:46.850Z"
      },
      {
        "duration": 13,
        "start_time": "2023-04-16T11:46:53.286Z"
      },
      {
        "duration": 1265,
        "start_time": "2023-04-16T11:46:57.309Z"
      },
      {
        "duration": 808,
        "start_time": "2023-04-16T11:47:12.082Z"
      },
      {
        "duration": 4710,
        "start_time": "2023-04-16T11:47:14.948Z"
      },
      {
        "duration": 1379,
        "start_time": "2023-04-16T11:47:33.529Z"
      },
      {
        "duration": 351,
        "start_time": "2023-04-16T11:47:34.911Z"
      },
      {
        "duration": 12,
        "start_time": "2023-04-16T11:47:35.264Z"
      },
      {
        "duration": 34,
        "start_time": "2023-04-16T11:47:35.278Z"
      },
      {
        "duration": 9,
        "start_time": "2023-04-16T11:47:35.317Z"
      },
      {
        "duration": 36,
        "start_time": "2023-04-16T11:47:35.328Z"
      },
      {
        "duration": 7,
        "start_time": "2023-04-16T11:47:35.365Z"
      },
      {
        "duration": 46,
        "start_time": "2023-04-16T11:47:35.374Z"
      },
      {
        "duration": 22,
        "start_time": "2023-04-16T11:47:35.422Z"
      },
      {
        "duration": 12,
        "start_time": "2023-04-16T11:47:35.446Z"
      },
      {
        "duration": 73,
        "start_time": "2023-04-16T11:47:35.460Z"
      },
      {
        "duration": 13,
        "start_time": "2023-04-16T11:47:35.535Z"
      },
      {
        "duration": 10,
        "start_time": "2023-04-16T11:47:35.550Z"
      },
      {
        "duration": 23,
        "start_time": "2023-04-16T11:47:35.564Z"
      },
      {
        "duration": 45,
        "start_time": "2023-04-16T11:47:35.589Z"
      },
      {
        "duration": 25,
        "start_time": "2023-04-16T11:47:35.635Z"
      },
      {
        "duration": 10,
        "start_time": "2023-04-16T11:47:35.662Z"
      },
      {
        "duration": 49,
        "start_time": "2023-04-16T11:47:35.674Z"
      },
      {
        "duration": 360,
        "start_time": "2023-04-16T11:47:35.727Z"
      },
      {
        "duration": 42,
        "start_time": "2023-04-16T11:47:36.089Z"
      },
      {
        "duration": 98,
        "start_time": "2023-04-16T11:47:36.133Z"
      },
      {
        "duration": 268,
        "start_time": "2023-04-16T11:47:36.233Z"
      },
      {
        "duration": 773,
        "start_time": "2023-04-16T11:47:36.502Z"
      },
      {
        "duration": 4346,
        "start_time": "2023-04-16T11:47:37.276Z"
      },
      {
        "duration": 56,
        "start_time": "2023-04-16T12:08:13.528Z"
      },
      {
        "duration": 51,
        "start_time": "2023-04-16T12:09:39.636Z"
      },
      {
        "duration": 125,
        "start_time": "2023-04-16T13:27:11.113Z"
      },
      {
        "duration": 65,
        "start_time": "2023-04-16T13:27:31.209Z"
      },
      {
        "duration": 55,
        "start_time": "2023-04-16T13:27:46.108Z"
      },
      {
        "duration": 1478,
        "start_time": "2023-04-16T13:27:57.015Z"
      },
      {
        "duration": 375,
        "start_time": "2023-04-16T13:27:58.495Z"
      },
      {
        "duration": 20,
        "start_time": "2023-04-16T13:27:58.872Z"
      },
      {
        "duration": 63,
        "start_time": "2023-04-16T13:27:58.895Z"
      },
      {
        "duration": 11,
        "start_time": "2023-04-16T13:27:58.960Z"
      },
      {
        "duration": 80,
        "start_time": "2023-04-16T13:27:58.974Z"
      },
      {
        "duration": 8,
        "start_time": "2023-04-16T13:27:59.057Z"
      },
      {
        "duration": 45,
        "start_time": "2023-04-16T13:27:59.068Z"
      },
      {
        "duration": 31,
        "start_time": "2023-04-16T13:27:59.116Z"
      },
      {
        "duration": 29,
        "start_time": "2023-04-16T13:27:59.152Z"
      },
      {
        "duration": 81,
        "start_time": "2023-04-16T13:27:59.184Z"
      },
      {
        "duration": 19,
        "start_time": "2023-04-16T13:27:59.267Z"
      },
      {
        "duration": 10,
        "start_time": "2023-04-16T13:27:59.288Z"
      },
      {
        "duration": 34,
        "start_time": "2023-04-16T13:27:59.313Z"
      },
      {
        "duration": 32,
        "start_time": "2023-04-16T13:27:59.348Z"
      },
      {
        "duration": 56,
        "start_time": "2023-04-16T13:27:59.383Z"
      },
      {
        "duration": 13,
        "start_time": "2023-04-16T13:27:59.442Z"
      },
      {
        "duration": 17,
        "start_time": "2023-04-16T13:27:59.458Z"
      },
      {
        "duration": 437,
        "start_time": "2023-04-16T13:27:59.477Z"
      },
      {
        "duration": 37,
        "start_time": "2023-04-16T13:27:59.916Z"
      },
      {
        "duration": 109,
        "start_time": "2023-04-16T13:27:59.957Z"
      },
      {
        "duration": 281,
        "start_time": "2023-04-16T13:28:00.069Z"
      },
      {
        "duration": 4439,
        "start_time": "2023-04-16T13:28:00.352Z"
      },
      {
        "duration": 114,
        "start_time": "2023-04-16T13:28:04.812Z"
      },
      {
        "duration": 143,
        "start_time": "2023-04-16T13:28:39.202Z"
      },
      {
        "duration": 54,
        "start_time": "2023-04-16T13:28:48.459Z"
      },
      {
        "duration": 1418,
        "start_time": "2023-04-16T13:29:10.002Z"
      },
      {
        "duration": 235,
        "start_time": "2023-04-16T13:29:11.422Z"
      },
      {
        "duration": 15,
        "start_time": "2023-04-16T13:29:11.660Z"
      },
      {
        "duration": 43,
        "start_time": "2023-04-16T13:29:11.677Z"
      },
      {
        "duration": 4,
        "start_time": "2023-04-16T13:29:11.722Z"
      },
      {
        "duration": 58,
        "start_time": "2023-04-16T13:29:11.728Z"
      },
      {
        "duration": 11,
        "start_time": "2023-04-16T13:29:11.788Z"
      },
      {
        "duration": 37,
        "start_time": "2023-04-16T13:29:11.802Z"
      },
      {
        "duration": 18,
        "start_time": "2023-04-16T13:29:11.841Z"
      },
      {
        "duration": 13,
        "start_time": "2023-04-16T13:29:11.861Z"
      },
      {
        "duration": 70,
        "start_time": "2023-04-16T13:29:11.877Z"
      },
      {
        "duration": 16,
        "start_time": "2023-04-16T13:29:11.951Z"
      },
      {
        "duration": 11,
        "start_time": "2023-04-16T13:29:11.969Z"
      },
      {
        "duration": 41,
        "start_time": "2023-04-16T13:29:11.984Z"
      },
      {
        "duration": 27,
        "start_time": "2023-04-16T13:29:12.029Z"
      },
      {
        "duration": 36,
        "start_time": "2023-04-16T13:29:12.059Z"
      },
      {
        "duration": 25,
        "start_time": "2023-04-16T13:29:12.098Z"
      },
      {
        "duration": 16,
        "start_time": "2023-04-16T13:29:12.125Z"
      },
      {
        "duration": 419,
        "start_time": "2023-04-16T13:29:12.143Z"
      },
      {
        "duration": 32,
        "start_time": "2023-04-16T13:29:12.564Z"
      },
      {
        "duration": 99,
        "start_time": "2023-04-16T13:29:12.612Z"
      },
      {
        "duration": 260,
        "start_time": "2023-04-16T13:29:12.714Z"
      },
      {
        "duration": 4173,
        "start_time": "2023-04-16T13:29:12.976Z"
      },
      {
        "duration": 93,
        "start_time": "2023-04-16T13:29:17.150Z"
      },
      {
        "duration": 53,
        "start_time": "2023-04-16T13:30:17.825Z"
      },
      {
        "duration": 79,
        "start_time": "2023-04-16T13:31:02.522Z"
      },
      {
        "duration": 207,
        "start_time": "2023-04-16T13:31:31.824Z"
      },
      {
        "duration": 78,
        "start_time": "2023-04-16T13:31:46.947Z"
      },
      {
        "duration": 37,
        "start_time": "2023-04-16T13:31:55.006Z"
      },
      {
        "duration": 15,
        "start_time": "2023-04-16T14:05:39.648Z"
      },
      {
        "duration": 19,
        "start_time": "2023-04-16T14:05:50.444Z"
      },
      {
        "duration": 30,
        "start_time": "2023-04-16T14:06:02.620Z"
      },
      {
        "duration": 4076,
        "start_time": "2023-04-16T14:06:25.836Z"
      },
      {
        "duration": 1367,
        "start_time": "2023-04-16T14:06:46.908Z"
      },
      {
        "duration": 336,
        "start_time": "2023-04-16T14:06:48.278Z"
      },
      {
        "duration": 13,
        "start_time": "2023-04-16T14:06:48.615Z"
      },
      {
        "duration": 135,
        "start_time": "2023-04-16T14:06:48.631Z"
      },
      {
        "duration": 4,
        "start_time": "2023-04-16T14:06:48.768Z"
      },
      {
        "duration": 45,
        "start_time": "2023-04-16T14:06:48.774Z"
      },
      {
        "duration": 6,
        "start_time": "2023-04-16T14:06:48.821Z"
      },
      {
        "duration": 36,
        "start_time": "2023-04-16T14:06:48.830Z"
      },
      {
        "duration": 44,
        "start_time": "2023-04-16T14:06:48.868Z"
      },
      {
        "duration": 12,
        "start_time": "2023-04-16T14:06:48.914Z"
      },
      {
        "duration": 40,
        "start_time": "2023-04-16T14:06:48.928Z"
      },
      {
        "duration": 12,
        "start_time": "2023-04-16T14:06:48.970Z"
      },
      {
        "duration": 28,
        "start_time": "2023-04-16T14:06:48.984Z"
      },
      {
        "duration": 38,
        "start_time": "2023-04-16T14:06:49.014Z"
      },
      {
        "duration": 36,
        "start_time": "2023-04-16T14:06:49.054Z"
      },
      {
        "duration": 46,
        "start_time": "2023-04-16T14:06:49.092Z"
      },
      {
        "duration": 11,
        "start_time": "2023-04-16T14:06:49.141Z"
      },
      {
        "duration": 20,
        "start_time": "2023-04-16T14:06:49.155Z"
      },
      {
        "duration": 421,
        "start_time": "2023-04-16T14:06:49.177Z"
      },
      {
        "duration": 31,
        "start_time": "2023-04-16T14:06:49.600Z"
      },
      {
        "duration": 102,
        "start_time": "2023-04-16T14:06:49.634Z"
      },
      {
        "duration": 230,
        "start_time": "2023-04-16T14:06:49.738Z"
      },
      {
        "duration": 4297,
        "start_time": "2023-04-16T14:06:49.970Z"
      },
      {
        "duration": 88,
        "start_time": "2023-04-16T14:06:54.269Z"
      },
      {
        "duration": 86,
        "start_time": "2023-04-16T14:06:54.358Z"
      },
      {
        "duration": 51,
        "start_time": "2023-04-16T14:11:57.676Z"
      },
      {
        "duration": 371,
        "start_time": "2023-04-16T14:12:10.163Z"
      },
      {
        "duration": 141,
        "start_time": "2023-04-16T14:13:37.528Z"
      },
      {
        "duration": 49,
        "start_time": "2023-04-16T14:15:47.916Z"
      },
      {
        "duration": 1444,
        "start_time": "2023-04-16T14:16:28.362Z"
      },
      {
        "duration": 1444,
        "start_time": "2023-04-16T14:16:38.708Z"
      },
      {
        "duration": 364,
        "start_time": "2023-04-16T14:16:40.154Z"
      },
      {
        "duration": 16,
        "start_time": "2023-04-16T14:16:40.520Z"
      },
      {
        "duration": 19,
        "start_time": "2023-04-16T14:16:40.539Z"
      },
      {
        "duration": 3,
        "start_time": "2023-04-16T14:16:40.561Z"
      },
      {
        "duration": 75,
        "start_time": "2023-04-16T14:16:40.566Z"
      },
      {
        "duration": 7,
        "start_time": "2023-04-16T14:16:40.643Z"
      },
      {
        "duration": 32,
        "start_time": "2023-04-16T14:16:40.652Z"
      },
      {
        "duration": 39,
        "start_time": "2023-04-16T14:16:40.686Z"
      },
      {
        "duration": 16,
        "start_time": "2023-04-16T14:16:40.728Z"
      },
      {
        "duration": 71,
        "start_time": "2023-04-16T14:16:40.747Z"
      },
      {
        "duration": 19,
        "start_time": "2023-04-16T14:16:40.820Z"
      },
      {
        "duration": 12,
        "start_time": "2023-04-16T14:16:40.841Z"
      },
      {
        "duration": 57,
        "start_time": "2023-04-16T14:16:40.855Z"
      },
      {
        "duration": 35,
        "start_time": "2023-04-16T14:16:40.915Z"
      },
      {
        "duration": 26,
        "start_time": "2023-04-16T14:16:40.952Z"
      },
      {
        "duration": 32,
        "start_time": "2023-04-16T14:16:40.980Z"
      },
      {
        "duration": 16,
        "start_time": "2023-04-16T14:16:41.014Z"
      },
      {
        "duration": 382,
        "start_time": "2023-04-16T14:16:41.032Z"
      },
      {
        "duration": 28,
        "start_time": "2023-04-16T14:16:41.416Z"
      },
      {
        "duration": 114,
        "start_time": "2023-04-16T14:16:41.446Z"
      },
      {
        "duration": 258,
        "start_time": "2023-04-16T14:16:41.562Z"
      },
      {
        "duration": 126,
        "start_time": "2023-04-16T14:16:41.823Z"
      },
      {
        "duration": 114,
        "start_time": "2023-04-16T14:16:41.953Z"
      },
      {
        "duration": 49,
        "start_time": "2023-04-16T14:16:42.069Z"
      },
      {
        "duration": 1353,
        "start_time": "2023-04-16T14:17:44.250Z"
      },
      {
        "duration": 1334,
        "start_time": "2023-04-16T14:17:53.434Z"
      },
      {
        "duration": 295,
        "start_time": "2023-04-16T14:17:54.770Z"
      },
      {
        "duration": 11,
        "start_time": "2023-04-16T14:17:55.068Z"
      },
      {
        "duration": 41,
        "start_time": "2023-04-16T14:17:55.081Z"
      },
      {
        "duration": 5,
        "start_time": "2023-04-16T14:17:55.125Z"
      },
      {
        "duration": 63,
        "start_time": "2023-04-16T14:17:55.131Z"
      },
      {
        "duration": 8,
        "start_time": "2023-04-16T14:17:55.196Z"
      },
      {
        "duration": 38,
        "start_time": "2023-04-16T14:17:55.205Z"
      },
      {
        "duration": 27,
        "start_time": "2023-04-16T14:17:55.245Z"
      },
      {
        "duration": 23,
        "start_time": "2023-04-16T14:17:55.273Z"
      },
      {
        "duration": 59,
        "start_time": "2023-04-16T14:17:55.299Z"
      },
      {
        "duration": 16,
        "start_time": "2023-04-16T14:17:55.360Z"
      },
      {
        "duration": 9,
        "start_time": "2023-04-16T14:17:55.378Z"
      },
      {
        "duration": 26,
        "start_time": "2023-04-16T14:17:55.414Z"
      },
      {
        "duration": 27,
        "start_time": "2023-04-16T14:17:55.443Z"
      },
      {
        "duration": 50,
        "start_time": "2023-04-16T14:17:55.472Z"
      },
      {
        "duration": 11,
        "start_time": "2023-04-16T14:17:55.524Z"
      },
      {
        "duration": 13,
        "start_time": "2023-04-16T14:17:55.538Z"
      },
      {
        "duration": 439,
        "start_time": "2023-04-16T14:17:55.553Z"
      },
      {
        "duration": 32,
        "start_time": "2023-04-16T14:17:55.993Z"
      },
      {
        "duration": 99,
        "start_time": "2023-04-16T14:17:56.027Z"
      },
      {
        "duration": 254,
        "start_time": "2023-04-16T14:17:56.128Z"
      },
      {
        "duration": 337,
        "start_time": "2023-04-16T14:17:56.384Z"
      },
      {
        "duration": 145,
        "start_time": "2023-04-16T14:17:56.723Z"
      },
      {
        "duration": 45,
        "start_time": "2023-04-16T14:17:56.869Z"
      },
      {
        "duration": 1741,
        "start_time": "2023-04-16T14:18:21.450Z"
      },
      {
        "duration": 1321,
        "start_time": "2023-04-16T14:18:35.043Z"
      },
      {
        "duration": 265,
        "start_time": "2023-04-16T14:18:36.366Z"
      },
      {
        "duration": 12,
        "start_time": "2023-04-16T14:18:36.633Z"
      },
      {
        "duration": 25,
        "start_time": "2023-04-16T14:18:36.646Z"
      },
      {
        "duration": 3,
        "start_time": "2023-04-16T14:18:36.674Z"
      },
      {
        "duration": 63,
        "start_time": "2023-04-16T14:18:36.679Z"
      },
      {
        "duration": 8,
        "start_time": "2023-04-16T14:18:36.744Z"
      },
      {
        "duration": 32,
        "start_time": "2023-04-16T14:18:36.753Z"
      },
      {
        "duration": 39,
        "start_time": "2023-04-16T14:18:36.786Z"
      },
      {
        "duration": 15,
        "start_time": "2023-04-16T14:18:36.827Z"
      },
      {
        "duration": 47,
        "start_time": "2023-04-16T14:18:36.844Z"
      },
      {
        "duration": 32,
        "start_time": "2023-04-16T14:18:36.892Z"
      },
      {
        "duration": 8,
        "start_time": "2023-04-16T14:18:36.926Z"
      },
      {
        "duration": 25,
        "start_time": "2023-04-16T14:18:36.937Z"
      },
      {
        "duration": 48,
        "start_time": "2023-04-16T14:18:36.964Z"
      },
      {
        "duration": 26,
        "start_time": "2023-04-16T14:18:37.013Z"
      },
      {
        "duration": 10,
        "start_time": "2023-04-16T14:18:37.040Z"
      },
      {
        "duration": 13,
        "start_time": "2023-04-16T14:18:37.052Z"
      },
      {
        "duration": 401,
        "start_time": "2023-04-16T14:18:37.067Z"
      },
      {
        "duration": 26,
        "start_time": "2023-04-16T14:18:37.470Z"
      },
      {
        "duration": 92,
        "start_time": "2023-04-16T14:18:37.498Z"
      },
      {
        "duration": 237,
        "start_time": "2023-04-16T14:18:37.591Z"
      },
      {
        "duration": 354,
        "start_time": "2023-04-16T14:18:37.830Z"
      },
      {
        "duration": 142,
        "start_time": "2023-04-16T14:18:38.186Z"
      },
      {
        "duration": 33,
        "start_time": "2023-04-16T14:18:38.330Z"
      },
      {
        "duration": 6,
        "start_time": "2023-04-16T14:19:06.227Z"
      },
      {
        "duration": 1382,
        "start_time": "2023-04-16T14:19:20.141Z"
      },
      {
        "duration": 1436,
        "start_time": "2023-04-16T14:19:28.475Z"
      },
      {
        "duration": 248,
        "start_time": "2023-04-16T14:19:29.913Z"
      },
      {
        "duration": 11,
        "start_time": "2023-04-16T14:19:30.162Z"
      },
      {
        "duration": 36,
        "start_time": "2023-04-16T14:19:30.175Z"
      },
      {
        "duration": 30,
        "start_time": "2023-04-16T14:19:30.214Z"
      },
      {
        "duration": 50,
        "start_time": "2023-04-16T14:19:30.246Z"
      },
      {
        "duration": 7,
        "start_time": "2023-04-16T14:19:30.299Z"
      },
      {
        "duration": 38,
        "start_time": "2023-04-16T14:19:30.308Z"
      },
      {
        "duration": 18,
        "start_time": "2023-04-16T14:19:30.348Z"
      },
      {
        "duration": 25,
        "start_time": "2023-04-16T14:19:30.368Z"
      },
      {
        "duration": 67,
        "start_time": "2023-04-16T14:19:30.394Z"
      },
      {
        "duration": 13,
        "start_time": "2023-04-16T14:19:30.463Z"
      },
      {
        "duration": 31,
        "start_time": "2023-04-16T14:19:30.478Z"
      },
      {
        "duration": 47,
        "start_time": "2023-04-16T14:19:30.512Z"
      },
      {
        "duration": 36,
        "start_time": "2023-04-16T14:19:30.564Z"
      },
      {
        "duration": 42,
        "start_time": "2023-04-16T14:19:30.603Z"
      },
      {
        "duration": 33,
        "start_time": "2023-04-16T14:19:30.647Z"
      },
      {
        "duration": 28,
        "start_time": "2023-04-16T14:19:30.682Z"
      },
      {
        "duration": 379,
        "start_time": "2023-04-16T14:19:30.712Z"
      },
      {
        "duration": 32,
        "start_time": "2023-04-16T14:19:31.093Z"
      },
      {
        "duration": 105,
        "start_time": "2023-04-16T14:19:31.127Z"
      },
      {
        "duration": 258,
        "start_time": "2023-04-16T14:19:31.234Z"
      },
      {
        "duration": 445,
        "start_time": "2023-04-16T14:19:31.494Z"
      },
      {
        "duration": 5,
        "start_time": "2023-04-16T14:19:31.941Z"
      },
      {
        "duration": 167,
        "start_time": "2023-04-16T14:19:31.948Z"
      },
      {
        "duration": 36,
        "start_time": "2023-04-16T14:19:32.117Z"
      },
      {
        "duration": 1355,
        "start_time": "2023-04-16T14:21:35.024Z"
      },
      {
        "duration": 1377,
        "start_time": "2023-04-16T14:21:42.925Z"
      },
      {
        "duration": 300,
        "start_time": "2023-04-16T14:21:44.304Z"
      },
      {
        "duration": 12,
        "start_time": "2023-04-16T14:21:44.606Z"
      },
      {
        "duration": 18,
        "start_time": "2023-04-16T14:21:44.620Z"
      },
      {
        "duration": 4,
        "start_time": "2023-04-16T14:21:44.640Z"
      },
      {
        "duration": 41,
        "start_time": "2023-04-16T14:21:44.645Z"
      },
      {
        "duration": 9,
        "start_time": "2023-04-16T14:21:44.712Z"
      },
      {
        "duration": 24,
        "start_time": "2023-04-16T14:21:44.723Z"
      },
      {
        "duration": 19,
        "start_time": "2023-04-16T14:21:44.749Z"
      },
      {
        "duration": 41,
        "start_time": "2023-04-16T14:21:44.770Z"
      },
      {
        "duration": 43,
        "start_time": "2023-04-16T14:21:44.814Z"
      },
      {
        "duration": 14,
        "start_time": "2023-04-16T14:21:44.859Z"
      },
      {
        "duration": 8,
        "start_time": "2023-04-16T14:21:44.876Z"
      },
      {
        "duration": 24,
        "start_time": "2023-04-16T14:21:44.912Z"
      },
      {
        "duration": 26,
        "start_time": "2023-04-16T14:21:44.937Z"
      },
      {
        "duration": 25,
        "start_time": "2023-04-16T14:21:44.964Z"
      },
      {
        "duration": 11,
        "start_time": "2023-04-16T14:21:45.011Z"
      },
      {
        "duration": 32,
        "start_time": "2023-04-16T14:21:45.024Z"
      },
      {
        "duration": 410,
        "start_time": "2023-04-16T14:21:45.059Z"
      },
      {
        "duration": 26,
        "start_time": "2023-04-16T14:21:45.471Z"
      },
      {
        "duration": 80,
        "start_time": "2023-04-16T14:21:45.512Z"
      },
      {
        "duration": 222,
        "start_time": "2023-04-16T14:21:45.594Z"
      },
      {
        "duration": 252,
        "start_time": "2023-04-16T14:21:45.818Z"
      },
      {
        "duration": 0,
        "start_time": "2023-04-16T14:21:46.071Z"
      },
      {
        "duration": 0,
        "start_time": "2023-04-16T14:21:46.073Z"
      },
      {
        "duration": 0,
        "start_time": "2023-04-16T14:21:46.073Z"
      },
      {
        "duration": 1272,
        "start_time": "2023-04-16T14:22:03.927Z"
      },
      {
        "duration": 1306,
        "start_time": "2023-04-16T14:22:10.578Z"
      },
      {
        "duration": 410,
        "start_time": "2023-04-16T14:22:11.886Z"
      },
      {
        "duration": 18,
        "start_time": "2023-04-16T14:22:12.298Z"
      },
      {
        "duration": 20,
        "start_time": "2023-04-16T14:22:12.317Z"
      },
      {
        "duration": 7,
        "start_time": "2023-04-16T14:22:12.339Z"
      },
      {
        "duration": 74,
        "start_time": "2023-04-16T14:22:12.348Z"
      },
      {
        "duration": 7,
        "start_time": "2023-04-16T14:22:12.424Z"
      },
      {
        "duration": 25,
        "start_time": "2023-04-16T14:22:12.433Z"
      },
      {
        "duration": 20,
        "start_time": "2023-04-16T14:22:12.460Z"
      },
      {
        "duration": 41,
        "start_time": "2023-04-16T14:22:12.481Z"
      },
      {
        "duration": 49,
        "start_time": "2023-04-16T14:22:12.524Z"
      },
      {
        "duration": 12,
        "start_time": "2023-04-16T14:22:12.575Z"
      },
      {
        "duration": 23,
        "start_time": "2023-04-16T14:22:12.589Z"
      },
      {
        "duration": 28,
        "start_time": "2023-04-16T14:22:12.615Z"
      },
      {
        "duration": 27,
        "start_time": "2023-04-16T14:22:12.644Z"
      },
      {
        "duration": 51,
        "start_time": "2023-04-16T14:22:12.673Z"
      },
      {
        "duration": 9,
        "start_time": "2023-04-16T14:22:12.725Z"
      },
      {
        "duration": 16,
        "start_time": "2023-04-16T14:22:12.736Z"
      },
      {
        "duration": 425,
        "start_time": "2023-04-16T14:22:12.754Z"
      },
      {
        "duration": 45,
        "start_time": "2023-04-16T14:22:13.181Z"
      },
      {
        "duration": 99,
        "start_time": "2023-04-16T14:22:13.228Z"
      },
      {
        "duration": 264,
        "start_time": "2023-04-16T14:22:13.329Z"
      },
      {
        "duration": 519,
        "start_time": "2023-04-16T14:22:13.595Z"
      },
      {
        "duration": 6,
        "start_time": "2023-04-16T14:22:14.116Z"
      },
      {
        "duration": 146,
        "start_time": "2023-04-16T14:22:14.124Z"
      },
      {
        "duration": 48,
        "start_time": "2023-04-16T14:22:14.272Z"
      },
      {
        "duration": 1421,
        "start_time": "2023-04-16T14:22:35.078Z"
      },
      {
        "duration": 384,
        "start_time": "2023-04-16T14:22:46.910Z"
      },
      {
        "duration": 396,
        "start_time": "2023-04-16T14:22:54.721Z"
      },
      {
        "duration": 370,
        "start_time": "2023-04-16T14:23:01.536Z"
      },
      {
        "duration": 399,
        "start_time": "2023-04-16T14:23:59.185Z"
      },
      {
        "duration": 64,
        "start_time": "2023-04-16T14:24:23.652Z"
      },
      {
        "duration": 52,
        "start_time": "2023-04-16T14:24:28.777Z"
      },
      {
        "duration": 383,
        "start_time": "2023-04-16T14:26:39.081Z"
      },
      {
        "duration": 379,
        "start_time": "2023-04-16T14:26:46.325Z"
      },
      {
        "duration": 24,
        "start_time": "2023-04-16T14:27:00.457Z"
      },
      {
        "duration": 1445,
        "start_time": "2023-04-16T14:28:12.067Z"
      },
      {
        "duration": 353,
        "start_time": "2023-04-16T14:28:13.523Z"
      },
      {
        "duration": 12,
        "start_time": "2023-04-16T14:28:13.877Z"
      },
      {
        "duration": 40,
        "start_time": "2023-04-16T14:28:13.892Z"
      },
      {
        "duration": 4,
        "start_time": "2023-04-16T14:28:13.935Z"
      },
      {
        "duration": 60,
        "start_time": "2023-04-16T14:28:13.940Z"
      },
      {
        "duration": 7,
        "start_time": "2023-04-16T14:28:14.001Z"
      },
      {
        "duration": 34,
        "start_time": "2023-04-16T14:28:14.014Z"
      },
      {
        "duration": 18,
        "start_time": "2023-04-16T14:28:14.050Z"
      },
      {
        "duration": 61,
        "start_time": "2023-04-16T14:28:14.071Z"
      },
      {
        "duration": 58,
        "start_time": "2023-04-16T14:28:14.133Z"
      },
      {
        "duration": 25,
        "start_time": "2023-04-16T14:28:14.193Z"
      },
      {
        "duration": 25,
        "start_time": "2023-04-16T14:28:14.220Z"
      },
      {
        "duration": 27,
        "start_time": "2023-04-16T14:28:14.246Z"
      },
      {
        "duration": 26,
        "start_time": "2023-04-16T14:28:14.275Z"
      },
      {
        "duration": 39,
        "start_time": "2023-04-16T14:28:14.303Z"
      },
      {
        "duration": 10,
        "start_time": "2023-04-16T14:28:14.344Z"
      },
      {
        "duration": 18,
        "start_time": "2023-04-16T14:28:14.356Z"
      },
      {
        "duration": 425,
        "start_time": "2023-04-16T14:28:14.376Z"
      },
      {
        "duration": 39,
        "start_time": "2023-04-16T14:28:14.803Z"
      },
      {
        "duration": 113,
        "start_time": "2023-04-16T14:28:14.844Z"
      },
      {
        "duration": 269,
        "start_time": "2023-04-16T14:28:14.959Z"
      },
      {
        "duration": 234,
        "start_time": "2023-04-16T14:28:15.232Z"
      },
      {
        "duration": 0,
        "start_time": "2023-04-16T14:28:15.517Z"
      },
      {
        "duration": 152,
        "start_time": "2023-04-16T14:28:29.532Z"
      },
      {
        "duration": 22,
        "start_time": "2023-04-16T14:28:47.109Z"
      },
      {
        "duration": 1518,
        "start_time": "2023-04-16T14:29:21.633Z"
      },
      {
        "duration": 279,
        "start_time": "2023-04-16T14:29:23.153Z"
      },
      {
        "duration": 12,
        "start_time": "2023-04-16T14:29:23.434Z"
      },
      {
        "duration": 25,
        "start_time": "2023-04-16T14:29:23.448Z"
      },
      {
        "duration": 4,
        "start_time": "2023-04-16T14:29:23.476Z"
      },
      {
        "duration": 71,
        "start_time": "2023-04-16T14:29:23.482Z"
      },
      {
        "duration": 7,
        "start_time": "2023-04-16T14:29:23.555Z"
      },
      {
        "duration": 49,
        "start_time": "2023-04-16T14:29:23.564Z"
      },
      {
        "duration": 25,
        "start_time": "2023-04-16T14:29:23.615Z"
      },
      {
        "duration": 13,
        "start_time": "2023-04-16T14:29:23.642Z"
      },
      {
        "duration": 75,
        "start_time": "2023-04-16T14:29:23.657Z"
      },
      {
        "duration": 13,
        "start_time": "2023-04-16T14:29:23.733Z"
      },
      {
        "duration": 12,
        "start_time": "2023-04-16T14:29:23.748Z"
      },
      {
        "duration": 60,
        "start_time": "2023-04-16T14:29:23.763Z"
      },
      {
        "duration": 32,
        "start_time": "2023-04-16T14:29:23.825Z"
      },
      {
        "duration": 29,
        "start_time": "2023-04-16T14:29:23.859Z"
      },
      {
        "duration": 34,
        "start_time": "2023-04-16T14:29:23.890Z"
      },
      {
        "duration": 17,
        "start_time": "2023-04-16T14:29:23.928Z"
      },
      {
        "duration": 454,
        "start_time": "2023-04-16T14:29:23.947Z"
      },
      {
        "duration": 48,
        "start_time": "2023-04-16T14:29:24.403Z"
      },
      {
        "duration": 125,
        "start_time": "2023-04-16T14:29:24.454Z"
      },
      {
        "duration": 224,
        "start_time": "2023-04-16T14:29:24.583Z"
      },
      {
        "duration": 334,
        "start_time": "2023-04-16T14:29:24.810Z"
      },
      {
        "duration": 0,
        "start_time": "2023-04-16T14:29:25.147Z"
      },
      {
        "duration": 11,
        "start_time": "2023-04-16T14:29:44.356Z"
      },
      {
        "duration": 1420,
        "start_time": "2023-04-16T14:29:51.829Z"
      },
      {
        "duration": 281,
        "start_time": "2023-04-16T14:29:53.252Z"
      },
      {
        "duration": 12,
        "start_time": "2023-04-16T14:29:53.536Z"
      },
      {
        "duration": 51,
        "start_time": "2023-04-16T14:29:53.550Z"
      },
      {
        "duration": 7,
        "start_time": "2023-04-16T14:29:53.603Z"
      },
      {
        "duration": 50,
        "start_time": "2023-04-16T14:29:53.613Z"
      },
      {
        "duration": 7,
        "start_time": "2023-04-16T14:29:53.665Z"
      },
      {
        "duration": 69,
        "start_time": "2023-04-16T14:29:53.674Z"
      },
      {
        "duration": 22,
        "start_time": "2023-04-16T14:29:53.745Z"
      },
      {
        "duration": 57,
        "start_time": "2023-04-16T14:29:53.770Z"
      },
      {
        "duration": 52,
        "start_time": "2023-04-16T14:29:53.828Z"
      },
      {
        "duration": 15,
        "start_time": "2023-04-16T14:29:53.882Z"
      },
      {
        "duration": 20,
        "start_time": "2023-04-16T14:29:53.899Z"
      },
      {
        "duration": 40,
        "start_time": "2023-04-16T14:29:53.924Z"
      },
      {
        "duration": 26,
        "start_time": "2023-04-16T14:29:53.966Z"
      },
      {
        "duration": 48,
        "start_time": "2023-04-16T14:29:53.994Z"
      },
      {
        "duration": 11,
        "start_time": "2023-04-16T14:29:54.044Z"
      },
      {
        "duration": 30,
        "start_time": "2023-04-16T14:29:54.056Z"
      },
      {
        "duration": 391,
        "start_time": "2023-04-16T14:29:54.088Z"
      },
      {
        "duration": 54,
        "start_time": "2023-04-16T14:29:54.481Z"
      },
      {
        "duration": 102,
        "start_time": "2023-04-16T14:29:54.536Z"
      },
      {
        "duration": 237,
        "start_time": "2023-04-16T14:29:54.640Z"
      },
      {
        "duration": 259,
        "start_time": "2023-04-16T14:29:54.879Z"
      },
      {
        "duration": 0,
        "start_time": "2023-04-16T14:29:55.140Z"
      },
      {
        "duration": 12,
        "start_time": "2023-04-16T14:30:20.352Z"
      },
      {
        "duration": 15,
        "start_time": "2023-04-16T14:30:34.832Z"
      },
      {
        "duration": 337,
        "start_time": "2023-04-16T14:31:00.661Z"
      },
      {
        "duration": 1458,
        "start_time": "2023-04-16T14:31:08.854Z"
      },
      {
        "duration": 351,
        "start_time": "2023-04-16T14:31:10.314Z"
      },
      {
        "duration": 11,
        "start_time": "2023-04-16T14:31:10.667Z"
      },
      {
        "duration": 44,
        "start_time": "2023-04-16T14:31:10.680Z"
      },
      {
        "duration": 4,
        "start_time": "2023-04-16T14:31:10.728Z"
      },
      {
        "duration": 42,
        "start_time": "2023-04-16T14:31:10.734Z"
      },
      {
        "duration": 8,
        "start_time": "2023-04-16T14:31:10.777Z"
      },
      {
        "duration": 62,
        "start_time": "2023-04-16T14:31:10.787Z"
      },
      {
        "duration": 26,
        "start_time": "2023-04-16T14:31:10.851Z"
      },
      {
        "duration": 39,
        "start_time": "2023-04-16T14:31:10.880Z"
      },
      {
        "duration": 46,
        "start_time": "2023-04-16T14:31:10.922Z"
      },
      {
        "duration": 48,
        "start_time": "2023-04-16T14:31:10.969Z"
      },
      {
        "duration": 9,
        "start_time": "2023-04-16T14:31:11.019Z"
      },
      {
        "duration": 25,
        "start_time": "2023-04-16T14:31:11.032Z"
      },
      {
        "duration": 25,
        "start_time": "2023-04-16T14:31:11.059Z"
      },
      {
        "duration": 53,
        "start_time": "2023-04-16T14:31:11.086Z"
      },
      {
        "duration": 10,
        "start_time": "2023-04-16T14:31:11.140Z"
      },
      {
        "duration": 23,
        "start_time": "2023-04-16T14:31:11.152Z"
      },
      {
        "duration": 403,
        "start_time": "2023-04-16T14:31:11.177Z"
      },
      {
        "duration": 49,
        "start_time": "2023-04-16T14:31:11.581Z"
      },
      {
        "duration": 99,
        "start_time": "2023-04-16T14:31:11.632Z"
      },
      {
        "duration": 232,
        "start_time": "2023-04-16T14:31:11.733Z"
      },
      {
        "duration": 463,
        "start_time": "2023-04-16T14:31:11.966Z"
      },
      {
        "duration": 137,
        "start_time": "2023-04-16T14:31:12.431Z"
      },
      {
        "duration": 1488,
        "start_time": "2023-04-16T14:31:27.636Z"
      },
      {
        "duration": 292,
        "start_time": "2023-04-16T14:31:29.133Z"
      },
      {
        "duration": 12,
        "start_time": "2023-04-16T14:31:29.430Z"
      },
      {
        "duration": 20,
        "start_time": "2023-04-16T14:31:29.444Z"
      },
      {
        "duration": 3,
        "start_time": "2023-04-16T14:31:29.467Z"
      },
      {
        "duration": 72,
        "start_time": "2023-04-16T14:31:29.472Z"
      },
      {
        "duration": 8,
        "start_time": "2023-04-16T14:31:29.546Z"
      },
      {
        "duration": 31,
        "start_time": "2023-04-16T14:31:29.556Z"
      },
      {
        "duration": 27,
        "start_time": "2023-04-16T14:31:29.611Z"
      },
      {
        "duration": 17,
        "start_time": "2023-04-16T14:31:29.641Z"
      },
      {
        "duration": 103,
        "start_time": "2023-04-16T14:31:29.660Z"
      },
      {
        "duration": 15,
        "start_time": "2023-04-16T14:31:29.765Z"
      },
      {
        "duration": 16,
        "start_time": "2023-04-16T14:31:29.782Z"
      },
      {
        "duration": 38,
        "start_time": "2023-04-16T14:31:29.814Z"
      },
      {
        "duration": 29,
        "start_time": "2023-04-16T14:31:29.855Z"
      },
      {
        "duration": 55,
        "start_time": "2023-04-16T14:31:29.886Z"
      },
      {
        "duration": 10,
        "start_time": "2023-04-16T14:31:29.943Z"
      },
      {
        "duration": 13,
        "start_time": "2023-04-16T14:31:29.955Z"
      },
      {
        "duration": 422,
        "start_time": "2023-04-16T14:31:29.970Z"
      },
      {
        "duration": 42,
        "start_time": "2023-04-16T14:31:30.395Z"
      },
      {
        "duration": 102,
        "start_time": "2023-04-16T14:31:30.438Z"
      },
      {
        "duration": 237,
        "start_time": "2023-04-16T14:31:30.542Z"
      },
      {
        "duration": 502,
        "start_time": "2023-04-16T14:31:30.781Z"
      },
      {
        "duration": 160,
        "start_time": "2023-04-16T14:31:31.285Z"
      },
      {
        "duration": 368,
        "start_time": "2023-04-16T14:31:43.475Z"
      },
      {
        "duration": 1391,
        "start_time": "2023-04-16T14:31:51.116Z"
      },
      {
        "duration": 274,
        "start_time": "2023-04-16T14:31:52.511Z"
      },
      {
        "duration": 26,
        "start_time": "2023-04-16T14:31:52.788Z"
      },
      {
        "duration": 36,
        "start_time": "2023-04-16T14:31:52.816Z"
      },
      {
        "duration": 6,
        "start_time": "2023-04-16T14:31:52.854Z"
      },
      {
        "duration": 85,
        "start_time": "2023-04-16T14:31:52.862Z"
      },
      {
        "duration": 7,
        "start_time": "2023-04-16T14:31:52.949Z"
      },
      {
        "duration": 28,
        "start_time": "2023-04-16T14:31:52.958Z"
      },
      {
        "duration": 47,
        "start_time": "2023-04-16T14:31:52.988Z"
      },
      {
        "duration": 38,
        "start_time": "2023-04-16T14:31:53.038Z"
      },
      {
        "duration": 56,
        "start_time": "2023-04-16T14:31:53.078Z"
      },
      {
        "duration": 14,
        "start_time": "2023-04-16T14:31:53.136Z"
      },
      {
        "duration": 12,
        "start_time": "2023-04-16T14:31:53.152Z"
      },
      {
        "duration": 47,
        "start_time": "2023-04-16T14:31:53.166Z"
      },
      {
        "duration": 26,
        "start_time": "2023-04-16T14:31:53.228Z"
      },
      {
        "duration": 26,
        "start_time": "2023-04-16T14:31:53.256Z"
      },
      {
        "duration": 10,
        "start_time": "2023-04-16T14:31:53.284Z"
      },
      {
        "duration": 33,
        "start_time": "2023-04-16T14:31:53.296Z"
      },
      {
        "duration": 365,
        "start_time": "2023-04-16T14:31:53.332Z"
      },
      {
        "duration": 38,
        "start_time": "2023-04-16T14:31:53.699Z"
      },
      {
        "duration": 116,
        "start_time": "2023-04-16T14:31:53.739Z"
      },
      {
        "duration": 225,
        "start_time": "2023-04-16T14:31:53.857Z"
      },
      {
        "duration": 408,
        "start_time": "2023-04-16T14:31:54.084Z"
      },
      {
        "duration": 0,
        "start_time": "2023-04-16T14:31:54.494Z"
      },
      {
        "duration": 15,
        "start_time": "2023-04-16T14:32:17.053Z"
      },
      {
        "duration": 1418,
        "start_time": "2023-04-16T14:32:28.434Z"
      },
      {
        "duration": 276,
        "start_time": "2023-04-16T14:32:29.855Z"
      },
      {
        "duration": 13,
        "start_time": "2023-04-16T14:32:30.134Z"
      },
      {
        "duration": 43,
        "start_time": "2023-04-16T14:32:30.149Z"
      },
      {
        "duration": 29,
        "start_time": "2023-04-16T14:32:30.195Z"
      },
      {
        "duration": 70,
        "start_time": "2023-04-16T14:32:30.228Z"
      },
      {
        "duration": 8,
        "start_time": "2023-04-16T14:32:30.300Z"
      },
      {
        "duration": 53,
        "start_time": "2023-04-16T14:32:30.310Z"
      },
      {
        "duration": 32,
        "start_time": "2023-04-16T14:32:30.365Z"
      },
      {
        "duration": 36,
        "start_time": "2023-04-16T14:32:30.399Z"
      },
      {
        "duration": 77,
        "start_time": "2023-04-16T14:32:30.438Z"
      },
      {
        "duration": 14,
        "start_time": "2023-04-16T14:32:30.524Z"
      },
      {
        "duration": 56,
        "start_time": "2023-04-16T14:32:30.540Z"
      },
      {
        "duration": 47,
        "start_time": "2023-04-16T14:32:30.600Z"
      },
      {
        "duration": 42,
        "start_time": "2023-04-16T14:32:30.649Z"
      },
      {
        "duration": 41,
        "start_time": "2023-04-16T14:32:30.693Z"
      },
      {
        "duration": 18,
        "start_time": "2023-04-16T14:32:30.736Z"
      },
      {
        "duration": 43,
        "start_time": "2023-04-16T14:32:30.756Z"
      },
      {
        "duration": 459,
        "start_time": "2023-04-16T14:32:30.801Z"
      },
      {
        "duration": 29,
        "start_time": "2023-04-16T14:32:31.262Z"
      },
      {
        "duration": 113,
        "start_time": "2023-04-16T14:32:31.294Z"
      },
      {
        "duration": 216,
        "start_time": "2023-04-16T14:32:31.418Z"
      },
      {
        "duration": 232,
        "start_time": "2023-04-16T14:32:31.636Z"
      },
      {
        "duration": 0,
        "start_time": "2023-04-16T14:32:31.870Z"
      },
      {
        "duration": 316,
        "start_time": "2023-04-16T14:33:12.464Z"
      },
      {
        "duration": 1357,
        "start_time": "2023-04-16T14:33:37.000Z"
      },
      {
        "duration": 1331,
        "start_time": "2023-04-16T14:33:49.183Z"
      },
      {
        "duration": 297,
        "start_time": "2023-04-16T14:33:50.516Z"
      },
      {
        "duration": 15,
        "start_time": "2023-04-16T14:33:50.815Z"
      },
      {
        "duration": 54,
        "start_time": "2023-04-16T14:33:50.833Z"
      },
      {
        "duration": 21,
        "start_time": "2023-04-16T14:33:50.890Z"
      },
      {
        "duration": 86,
        "start_time": "2023-04-16T14:33:50.913Z"
      },
      {
        "duration": 9,
        "start_time": "2023-04-16T14:33:51.002Z"
      },
      {
        "duration": 41,
        "start_time": "2023-04-16T14:33:51.013Z"
      },
      {
        "duration": 20,
        "start_time": "2023-04-16T14:33:51.056Z"
      },
      {
        "duration": 68,
        "start_time": "2023-04-16T14:33:51.079Z"
      },
      {
        "duration": 78,
        "start_time": "2023-04-16T14:33:51.149Z"
      },
      {
        "duration": 13,
        "start_time": "2023-04-16T14:33:51.229Z"
      },
      {
        "duration": 26,
        "start_time": "2023-04-16T14:33:51.244Z"
      },
      {
        "duration": 51,
        "start_time": "2023-04-16T14:33:51.272Z"
      },
      {
        "duration": 27,
        "start_time": "2023-04-16T14:33:51.325Z"
      },
      {
        "duration": 28,
        "start_time": "2023-04-16T14:33:51.354Z"
      },
      {
        "duration": 34,
        "start_time": "2023-04-16T14:33:51.384Z"
      },
      {
        "duration": 14,
        "start_time": "2023-04-16T14:33:51.420Z"
      },
      {
        "duration": 387,
        "start_time": "2023-04-16T14:33:51.436Z"
      },
      {
        "duration": 38,
        "start_time": "2023-04-16T14:33:51.826Z"
      },
      {
        "duration": 153,
        "start_time": "2023-04-16T14:33:51.866Z"
      },
      {
        "duration": 222,
        "start_time": "2023-04-16T14:33:52.022Z"
      },
      {
        "duration": 431,
        "start_time": "2023-04-16T14:33:52.246Z"
      },
      {
        "duration": 155,
        "start_time": "2023-04-16T14:33:52.679Z"
      },
      {
        "duration": 1747,
        "start_time": "2023-04-16T14:35:24.681Z"
      },
      {
        "duration": 13,
        "start_time": "2023-04-16T14:35:29.208Z"
      },
      {
        "duration": 1401,
        "start_time": "2023-04-16T14:35:42.115Z"
      },
      {
        "duration": 275,
        "start_time": "2023-04-16T14:35:43.518Z"
      },
      {
        "duration": 23,
        "start_time": "2023-04-16T14:35:43.794Z"
      },
      {
        "duration": 34,
        "start_time": "2023-04-16T14:35:43.819Z"
      },
      {
        "duration": 5,
        "start_time": "2023-04-16T14:35:43.856Z"
      },
      {
        "duration": 57,
        "start_time": "2023-04-16T14:35:43.863Z"
      },
      {
        "duration": 9,
        "start_time": "2023-04-16T14:35:43.922Z"
      },
      {
        "duration": 39,
        "start_time": "2023-04-16T14:35:43.934Z"
      },
      {
        "duration": 56,
        "start_time": "2023-04-16T14:35:43.975Z"
      },
      {
        "duration": 24,
        "start_time": "2023-04-16T14:35:44.033Z"
      },
      {
        "duration": 75,
        "start_time": "2023-04-16T14:35:44.059Z"
      },
      {
        "duration": 15,
        "start_time": "2023-04-16T14:35:44.136Z"
      },
      {
        "duration": 20,
        "start_time": "2023-04-16T14:35:44.153Z"
      },
      {
        "duration": 55,
        "start_time": "2023-04-16T14:35:44.176Z"
      },
      {
        "duration": 26,
        "start_time": "2023-04-16T14:35:44.233Z"
      },
      {
        "duration": 26,
        "start_time": "2023-04-16T14:35:44.261Z"
      },
      {
        "duration": 31,
        "start_time": "2023-04-16T14:35:44.289Z"
      },
      {
        "duration": 23,
        "start_time": "2023-04-16T14:35:44.322Z"
      },
      {
        "duration": 400,
        "start_time": "2023-04-16T14:35:44.347Z"
      },
      {
        "duration": 28,
        "start_time": "2023-04-16T14:35:44.749Z"
      },
      {
        "duration": 139,
        "start_time": "2023-04-16T14:35:44.779Z"
      },
      {
        "duration": 213,
        "start_time": "2023-04-16T14:35:44.920Z"
      },
      {
        "duration": 574,
        "start_time": "2023-04-16T14:35:45.135Z"
      },
      {
        "duration": 49,
        "start_time": "2023-04-16T14:35:45.711Z"
      },
      {
        "duration": 128,
        "start_time": "2023-04-16T14:36:13.448Z"
      },
      {
        "duration": 480,
        "start_time": "2023-04-16T14:36:18.724Z"
      },
      {
        "duration": 460,
        "start_time": "2023-04-16T14:36:33.828Z"
      },
      {
        "duration": 1057,
        "start_time": "2023-04-16T14:36:49.294Z"
      },
      {
        "duration": 393,
        "start_time": "2023-04-16T14:36:51.566Z"
      },
      {
        "duration": 559,
        "start_time": "2023-04-16T14:42:31.212Z"
      },
      {
        "duration": 524,
        "start_time": "2023-04-16T14:43:06.057Z"
      },
      {
        "duration": 15,
        "start_time": "2023-04-16T15:14:50.280Z"
      },
      {
        "duration": 46,
        "start_time": "2023-04-16T15:14:51.932Z"
      },
      {
        "duration": 1669,
        "start_time": "2023-04-16T15:14:52.780Z"
      },
      {
        "duration": 0,
        "start_time": "2023-04-16T15:14:54.451Z"
      },
      {
        "duration": 1446,
        "start_time": "2023-04-16T15:15:02.829Z"
      },
      {
        "duration": 380,
        "start_time": "2023-04-16T15:15:04.277Z"
      },
      {
        "duration": 12,
        "start_time": "2023-04-16T15:15:04.659Z"
      },
      {
        "duration": 44,
        "start_time": "2023-04-16T15:15:04.673Z"
      },
      {
        "duration": 11,
        "start_time": "2023-04-16T15:15:04.721Z"
      },
      {
        "duration": 47,
        "start_time": "2023-04-16T15:15:04.734Z"
      },
      {
        "duration": 37,
        "start_time": "2023-04-16T15:15:04.786Z"
      },
      {
        "duration": 34,
        "start_time": "2023-04-16T15:15:04.832Z"
      },
      {
        "duration": 37,
        "start_time": "2023-04-16T15:15:04.868Z"
      },
      {
        "duration": 33,
        "start_time": "2023-04-16T15:15:04.907Z"
      },
      {
        "duration": 66,
        "start_time": "2023-04-16T15:15:04.943Z"
      },
      {
        "duration": 67,
        "start_time": "2023-04-16T15:15:05.011Z"
      },
      {
        "duration": 10,
        "start_time": "2023-04-16T15:15:05.080Z"
      },
      {
        "duration": 53,
        "start_time": "2023-04-16T15:15:05.093Z"
      },
      {
        "duration": 27,
        "start_time": "2023-04-16T15:15:05.148Z"
      },
      {
        "duration": 43,
        "start_time": "2023-04-16T15:15:05.177Z"
      },
      {
        "duration": 12,
        "start_time": "2023-04-16T15:15:05.225Z"
      },
      {
        "duration": 33,
        "start_time": "2023-04-16T15:15:05.239Z"
      },
      {
        "duration": 408,
        "start_time": "2023-04-16T15:15:05.274Z"
      },
      {
        "duration": 55,
        "start_time": "2023-04-16T15:15:05.683Z"
      },
      {
        "duration": 10946,
        "start_time": "2023-04-16T15:15:05.740Z"
      },
      {
        "duration": 13,
        "start_time": "2023-04-16T15:15:16.688Z"
      },
      {
        "duration": 37,
        "start_time": "2023-04-16T15:15:16.712Z"
      },
      {
        "duration": 107,
        "start_time": "2023-04-16T15:15:16.750Z"
      },
      {
        "duration": 231,
        "start_time": "2023-04-16T15:15:16.859Z"
      },
      {
        "duration": 298,
        "start_time": "2023-04-16T15:15:17.092Z"
      },
      {
        "duration": 0,
        "start_time": "2023-04-16T15:15:17.392Z"
      },
      {
        "duration": 0,
        "start_time": "2023-04-16T15:15:17.393Z"
      },
      {
        "duration": 33,
        "start_time": "2023-04-16T15:16:06.134Z"
      },
      {
        "duration": 2788,
        "start_time": "2023-04-16T15:18:43.326Z"
      },
      {
        "duration": 2747,
        "start_time": "2023-04-16T15:18:48.502Z"
      },
      {
        "duration": 4203,
        "start_time": "2023-04-16T15:19:35.485Z"
      },
      {
        "duration": 6917,
        "start_time": "2023-04-16T15:24:21.197Z"
      },
      {
        "duration": 813,
        "start_time": "2023-04-16T15:26:30.242Z"
      },
      {
        "duration": 4,
        "start_time": "2023-04-16T15:28:22.123Z"
      },
      {
        "duration": 31,
        "start_time": "2023-04-16T15:28:29.103Z"
      },
      {
        "duration": 1375,
        "start_time": "2023-04-16T15:28:49.186Z"
      },
      {
        "duration": 347,
        "start_time": "2023-04-16T15:28:50.563Z"
      },
      {
        "duration": 15,
        "start_time": "2023-04-16T15:28:50.912Z"
      },
      {
        "duration": 83,
        "start_time": "2023-04-16T15:28:50.930Z"
      },
      {
        "duration": 22,
        "start_time": "2023-04-16T15:28:51.015Z"
      },
      {
        "duration": 93,
        "start_time": "2023-04-16T15:28:51.039Z"
      },
      {
        "duration": 24,
        "start_time": "2023-04-16T15:28:51.134Z"
      },
      {
        "duration": 71,
        "start_time": "2023-04-16T15:28:51.161Z"
      },
      {
        "duration": 21,
        "start_time": "2023-04-16T15:28:51.234Z"
      },
      {
        "duration": 28,
        "start_time": "2023-04-16T15:28:51.259Z"
      },
      {
        "duration": 77,
        "start_time": "2023-04-16T15:28:51.290Z"
      },
      {
        "duration": 12,
        "start_time": "2023-04-16T15:28:51.368Z"
      },
      {
        "duration": 21,
        "start_time": "2023-04-16T15:28:51.382Z"
      },
      {
        "duration": 25,
        "start_time": "2023-04-16T15:28:51.411Z"
      },
      {
        "duration": 27,
        "start_time": "2023-04-16T15:28:51.438Z"
      },
      {
        "duration": 50,
        "start_time": "2023-04-16T15:28:51.467Z"
      },
      {
        "duration": 11,
        "start_time": "2023-04-16T15:28:51.519Z"
      },
      {
        "duration": 16,
        "start_time": "2023-04-16T15:28:51.531Z"
      },
      {
        "duration": 434,
        "start_time": "2023-04-16T15:28:51.548Z"
      },
      {
        "duration": 53,
        "start_time": "2023-04-16T15:28:51.985Z"
      },
      {
        "duration": 10343,
        "start_time": "2023-04-16T15:28:52.041Z"
      },
      {
        "duration": 841,
        "start_time": "2023-04-16T15:29:02.386Z"
      },
      {
        "duration": 22,
        "start_time": "2023-04-16T15:29:03.228Z"
      },
      {
        "duration": 135,
        "start_time": "2023-04-16T15:29:03.252Z"
      },
      {
        "duration": 214,
        "start_time": "2023-04-16T15:29:03.389Z"
      },
      {
        "duration": 212,
        "start_time": "2023-04-16T15:29:03.605Z"
      },
      {
        "duration": 0,
        "start_time": "2023-04-16T15:29:03.819Z"
      },
      {
        "duration": 0,
        "start_time": "2023-04-16T15:29:03.820Z"
      },
      {
        "duration": 1320,
        "start_time": "2023-04-16T15:30:27.355Z"
      },
      {
        "duration": 11,
        "start_time": "2023-04-16T15:33:15.813Z"
      },
      {
        "duration": 15,
        "start_time": "2023-04-16T15:33:26.326Z"
      },
      {
        "duration": 14,
        "start_time": "2023-04-16T15:33:33.827Z"
      },
      {
        "duration": 12,
        "start_time": "2023-04-16T15:42:11.171Z"
      },
      {
        "duration": 208,
        "start_time": "2023-04-16T15:42:13.076Z"
      },
      {
        "duration": 23,
        "start_time": "2023-04-16T15:43:28.995Z"
      },
      {
        "duration": 13,
        "start_time": "2023-04-16T15:43:50.986Z"
      },
      {
        "duration": 38,
        "start_time": "2023-04-16T15:46:10.798Z"
      },
      {
        "duration": 38,
        "start_time": "2023-04-16T15:46:20.133Z"
      },
      {
        "duration": 1403,
        "start_time": "2023-04-16T15:46:24.817Z"
      },
      {
        "duration": 364,
        "start_time": "2023-04-16T15:46:26.222Z"
      },
      {
        "duration": 27,
        "start_time": "2023-04-16T15:46:26.588Z"
      },
      {
        "duration": 20,
        "start_time": "2023-04-16T15:46:26.618Z"
      },
      {
        "duration": 4,
        "start_time": "2023-04-16T15:46:26.641Z"
      },
      {
        "duration": 65,
        "start_time": "2023-04-16T15:46:26.647Z"
      },
      {
        "duration": 10,
        "start_time": "2023-04-16T15:46:26.714Z"
      },
      {
        "duration": 28,
        "start_time": "2023-04-16T15:46:26.726Z"
      },
      {
        "duration": 22,
        "start_time": "2023-04-16T15:46:26.755Z"
      },
      {
        "duration": 41,
        "start_time": "2023-04-16T15:46:26.778Z"
      },
      {
        "duration": 43,
        "start_time": "2023-04-16T15:46:26.822Z"
      },
      {
        "duration": 13,
        "start_time": "2023-04-16T15:46:26.868Z"
      },
      {
        "duration": 7,
        "start_time": "2023-04-16T15:46:26.911Z"
      },
      {
        "duration": 33,
        "start_time": "2023-04-16T15:46:26.922Z"
      },
      {
        "duration": 55,
        "start_time": "2023-04-16T15:46:26.957Z"
      },
      {
        "duration": 26,
        "start_time": "2023-04-16T15:46:27.014Z"
      },
      {
        "duration": 10,
        "start_time": "2023-04-16T15:46:27.042Z"
      },
      {
        "duration": 14,
        "start_time": "2023-04-16T15:46:27.054Z"
      },
      {
        "duration": 398,
        "start_time": "2023-04-16T15:46:27.070Z"
      },
      {
        "duration": 50,
        "start_time": "2023-04-16T15:46:27.470Z"
      },
      {
        "duration": 10338,
        "start_time": "2023-04-16T15:46:27.521Z"
      },
      {
        "duration": 1451,
        "start_time": "2023-04-16T15:46:37.861Z"
      },
      {
        "duration": 151,
        "start_time": "2023-04-16T15:46:39.315Z"
      },
      {
        "duration": 0,
        "start_time": "2023-04-16T15:46:39.468Z"
      },
      {
        "duration": 0,
        "start_time": "2023-04-16T15:46:39.469Z"
      },
      {
        "duration": 0,
        "start_time": "2023-04-16T15:46:39.470Z"
      },
      {
        "duration": 0,
        "start_time": "2023-04-16T15:46:39.471Z"
      },
      {
        "duration": 0,
        "start_time": "2023-04-16T15:46:39.473Z"
      },
      {
        "duration": 126,
        "start_time": "2023-04-16T15:47:18.822Z"
      },
      {
        "duration": 196,
        "start_time": "2023-04-16T15:47:19.996Z"
      },
      {
        "duration": 1177,
        "start_time": "2023-04-16T15:47:34.907Z"
      },
      {
        "duration": 77,
        "start_time": "2023-04-16T15:47:36.092Z"
      },
      {
        "duration": 74,
        "start_time": "2023-04-16T15:47:38.340Z"
      },
      {
        "duration": 17,
        "start_time": "2023-04-16T15:48:31.604Z"
      },
      {
        "duration": 19,
        "start_time": "2023-04-16T15:50:53.102Z"
      },
      {
        "duration": 18,
        "start_time": "2023-04-16T15:56:47.734Z"
      },
      {
        "duration": 12,
        "start_time": "2023-04-16T16:04:06.537Z"
      },
      {
        "duration": 13,
        "start_time": "2023-04-16T16:04:10.792Z"
      },
      {
        "duration": 12,
        "start_time": "2023-04-16T16:04:35.993Z"
      },
      {
        "duration": 1370,
        "start_time": "2023-04-16T16:04:53.919Z"
      },
      {
        "duration": 309,
        "start_time": "2023-04-16T16:04:55.291Z"
      },
      {
        "duration": 19,
        "start_time": "2023-04-16T16:04:55.602Z"
      },
      {
        "duration": 41,
        "start_time": "2023-04-16T16:04:55.623Z"
      },
      {
        "duration": 41,
        "start_time": "2023-04-16T16:04:55.667Z"
      },
      {
        "duration": 57,
        "start_time": "2023-04-16T16:04:55.710Z"
      },
      {
        "duration": 7,
        "start_time": "2023-04-16T16:04:55.769Z"
      },
      {
        "duration": 43,
        "start_time": "2023-04-16T16:04:55.778Z"
      },
      {
        "duration": 20,
        "start_time": "2023-04-16T16:04:55.823Z"
      },
      {
        "duration": 27,
        "start_time": "2023-04-16T16:04:55.845Z"
      },
      {
        "duration": 60,
        "start_time": "2023-04-16T16:04:55.874Z"
      },
      {
        "duration": 14,
        "start_time": "2023-04-16T16:04:55.936Z"
      },
      {
        "duration": 25,
        "start_time": "2023-04-16T16:04:55.951Z"
      },
      {
        "duration": 47,
        "start_time": "2023-04-16T16:04:55.979Z"
      },
      {
        "duration": 27,
        "start_time": "2023-04-16T16:04:56.028Z"
      },
      {
        "duration": 25,
        "start_time": "2023-04-16T16:04:56.057Z"
      },
      {
        "duration": 32,
        "start_time": "2023-04-16T16:04:56.084Z"
      },
      {
        "duration": 16,
        "start_time": "2023-04-16T16:04:56.118Z"
      },
      {
        "duration": 370,
        "start_time": "2023-04-16T16:04:56.136Z"
      },
      {
        "duration": 49,
        "start_time": "2023-04-16T16:04:56.511Z"
      },
      {
        "duration": 10404,
        "start_time": "2023-04-16T16:04:56.562Z"
      },
      {
        "duration": 1367,
        "start_time": "2023-04-16T16:05:06.969Z"
      },
      {
        "duration": 91,
        "start_time": "2023-04-16T16:05:08.337Z"
      },
      {
        "duration": 202,
        "start_time": "2023-04-16T16:05:08.430Z"
      },
      {
        "duration": 247,
        "start_time": "2023-04-16T16:05:08.634Z"
      },
      {
        "duration": 0,
        "start_time": "2023-04-16T16:05:08.913Z"
      },
      {
        "duration": 0,
        "start_time": "2023-04-16T16:05:08.914Z"
      },
      {
        "duration": 82,
        "start_time": "2023-04-16T16:07:09.830Z"
      },
      {
        "duration": 77,
        "start_time": "2023-04-16T16:07:11.130Z"
      },
      {
        "duration": 80,
        "start_time": "2023-04-16T16:07:19.615Z"
      },
      {
        "duration": 71,
        "start_time": "2023-04-16T16:07:21.036Z"
      },
      {
        "duration": 1340,
        "start_time": "2023-04-16T16:07:26.906Z"
      },
      {
        "duration": 264,
        "start_time": "2023-04-16T16:07:28.249Z"
      },
      {
        "duration": 11,
        "start_time": "2023-04-16T16:07:28.514Z"
      },
      {
        "duration": 36,
        "start_time": "2023-04-16T16:07:28.528Z"
      },
      {
        "duration": 4,
        "start_time": "2023-04-16T16:07:28.567Z"
      },
      {
        "duration": 55,
        "start_time": "2023-04-16T16:07:28.572Z"
      },
      {
        "duration": 8,
        "start_time": "2023-04-16T16:07:28.628Z"
      },
      {
        "duration": 26,
        "start_time": "2023-04-16T16:07:28.638Z"
      },
      {
        "duration": 46,
        "start_time": "2023-04-16T16:07:28.666Z"
      },
      {
        "duration": 12,
        "start_time": "2023-04-16T16:07:28.714Z"
      },
      {
        "duration": 51,
        "start_time": "2023-04-16T16:07:28.728Z"
      },
      {
        "duration": 34,
        "start_time": "2023-04-16T16:07:28.781Z"
      },
      {
        "duration": 36,
        "start_time": "2023-04-16T16:07:28.817Z"
      },
      {
        "duration": 25,
        "start_time": "2023-04-16T16:07:28.857Z"
      },
      {
        "duration": 27,
        "start_time": "2023-04-16T16:07:28.884Z"
      },
      {
        "duration": 37,
        "start_time": "2023-04-16T16:07:28.913Z"
      },
      {
        "duration": 11,
        "start_time": "2023-04-16T16:07:28.952Z"
      },
      {
        "duration": 18,
        "start_time": "2023-04-16T16:07:28.965Z"
      },
      {
        "duration": 397,
        "start_time": "2023-04-16T16:07:29.012Z"
      },
      {
        "duration": 42,
        "start_time": "2023-04-16T16:07:29.412Z"
      },
      {
        "duration": 10145,
        "start_time": "2023-04-16T16:07:29.456Z"
      },
      {
        "duration": 1333,
        "start_time": "2023-04-16T16:07:39.603Z"
      },
      {
        "duration": 96,
        "start_time": "2023-04-16T16:07:40.938Z"
      },
      {
        "duration": 223,
        "start_time": "2023-04-16T16:07:41.036Z"
      },
      {
        "duration": 291,
        "start_time": "2023-04-16T16:07:41.262Z"
      },
      {
        "duration": 0,
        "start_time": "2023-04-16T16:07:41.556Z"
      },
      {
        "duration": 0,
        "start_time": "2023-04-16T16:07:41.557Z"
      },
      {
        "duration": 175,
        "start_time": "2023-04-16T16:08:42.645Z"
      },
      {
        "duration": 77,
        "start_time": "2023-04-16T16:08:59.729Z"
      },
      {
        "duration": 23,
        "start_time": "2023-04-16T16:10:51.798Z"
      },
      {
        "duration": 80,
        "start_time": "2023-04-16T16:10:59.093Z"
      },
      {
        "duration": 79,
        "start_time": "2023-04-16T16:11:16.733Z"
      },
      {
        "duration": 89,
        "start_time": "2023-04-16T16:11:22.057Z"
      },
      {
        "duration": 1375,
        "start_time": "2023-04-16T16:12:41.715Z"
      },
      {
        "duration": 277,
        "start_time": "2023-04-16T16:12:43.094Z"
      },
      {
        "duration": 13,
        "start_time": "2023-04-16T16:12:43.373Z"
      },
      {
        "duration": 40,
        "start_time": "2023-04-16T16:12:43.387Z"
      },
      {
        "duration": 5,
        "start_time": "2023-04-16T16:12:43.430Z"
      },
      {
        "duration": 44,
        "start_time": "2023-04-16T16:12:43.436Z"
      },
      {
        "duration": 31,
        "start_time": "2023-04-16T16:12:43.482Z"
      },
      {
        "duration": 33,
        "start_time": "2023-04-16T16:12:43.515Z"
      },
      {
        "duration": 20,
        "start_time": "2023-04-16T16:12:43.551Z"
      },
      {
        "duration": 46,
        "start_time": "2023-04-16T16:12:43.573Z"
      },
      {
        "duration": 49,
        "start_time": "2023-04-16T16:12:43.621Z"
      },
      {
        "duration": 13,
        "start_time": "2023-04-16T16:12:43.672Z"
      },
      {
        "duration": 31,
        "start_time": "2023-04-16T16:12:43.688Z"
      },
      {
        "duration": 48,
        "start_time": "2023-04-16T16:12:43.723Z"
      },
      {
        "duration": 43,
        "start_time": "2023-04-16T16:12:43.773Z"
      },
      {
        "duration": 29,
        "start_time": "2023-04-16T16:12:43.818Z"
      },
      {
        "duration": 11,
        "start_time": "2023-04-16T16:12:43.849Z"
      },
      {
        "duration": 16,
        "start_time": "2023-04-16T16:12:43.862Z"
      },
      {
        "duration": 434,
        "start_time": "2023-04-16T16:12:43.881Z"
      },
      {
        "duration": 45,
        "start_time": "2023-04-16T16:12:44.317Z"
      },
      {
        "duration": 10235,
        "start_time": "2023-04-16T16:12:44.364Z"
      },
      {
        "duration": 1381,
        "start_time": "2023-04-16T16:12:54.601Z"
      },
      {
        "duration": 103,
        "start_time": "2023-04-16T16:12:55.984Z"
      },
      {
        "duration": 230,
        "start_time": "2023-04-16T16:12:56.088Z"
      },
      {
        "duration": 224,
        "start_time": "2023-04-16T16:12:56.320Z"
      },
      {
        "duration": 0,
        "start_time": "2023-04-16T16:12:56.546Z"
      },
      {
        "duration": 0,
        "start_time": "2023-04-16T16:12:56.548Z"
      },
      {
        "duration": 98,
        "start_time": "2023-04-16T16:15:08.615Z"
      },
      {
        "duration": 75,
        "start_time": "2023-04-16T16:15:15.998Z"
      },
      {
        "duration": 117,
        "start_time": "2023-04-16T16:15:19.031Z"
      },
      {
        "duration": 1417,
        "start_time": "2023-04-16T16:15:46.100Z"
      },
      {
        "duration": 1430,
        "start_time": "2023-04-16T16:15:57.653Z"
      },
      {
        "duration": 89,
        "start_time": "2023-04-16T16:16:03.537Z"
      },
      {
        "duration": 15,
        "start_time": "2023-04-16T16:17:38.735Z"
      },
      {
        "duration": 1354,
        "start_time": "2023-04-16T16:17:55.108Z"
      },
      {
        "duration": 450,
        "start_time": "2023-04-16T16:17:56.464Z"
      },
      {
        "duration": 17,
        "start_time": "2023-04-16T16:17:56.916Z"
      },
      {
        "duration": 83,
        "start_time": "2023-04-16T16:17:56.935Z"
      },
      {
        "duration": 4,
        "start_time": "2023-04-16T16:17:57.022Z"
      },
      {
        "duration": 120,
        "start_time": "2023-04-16T16:17:57.028Z"
      },
      {
        "duration": 63,
        "start_time": "2023-04-16T16:17:57.150Z"
      },
      {
        "duration": 27,
        "start_time": "2023-04-16T16:17:57.215Z"
      },
      {
        "duration": 85,
        "start_time": "2023-04-16T16:17:57.244Z"
      },
      {
        "duration": 14,
        "start_time": "2023-04-16T16:17:57.331Z"
      },
      {
        "duration": 97,
        "start_time": "2023-04-16T16:17:57.347Z"
      },
      {
        "duration": 69,
        "start_time": "2023-04-16T16:17:57.445Z"
      },
      {
        "duration": 19,
        "start_time": "2023-04-16T16:17:57.516Z"
      },
      {
        "duration": 83,
        "start_time": "2023-04-16T16:17:57.538Z"
      },
      {
        "duration": 28,
        "start_time": "2023-04-16T16:17:57.623Z"
      },
      {
        "duration": 83,
        "start_time": "2023-04-16T16:17:57.653Z"
      },
      {
        "duration": 13,
        "start_time": "2023-04-16T16:17:57.737Z"
      },
      {
        "duration": 74,
        "start_time": "2023-04-16T16:17:57.752Z"
      },
      {
        "duration": 718,
        "start_time": "2023-04-16T16:17:57.828Z"
      },
      {
        "duration": 102,
        "start_time": "2023-04-16T16:17:58.549Z"
      },
      {
        "duration": 10914,
        "start_time": "2023-04-16T16:17:58.653Z"
      },
      {
        "duration": 1333,
        "start_time": "2023-04-16T16:18:09.569Z"
      },
      {
        "duration": 123,
        "start_time": "2023-04-16T16:18:10.913Z"
      },
      {
        "duration": 0,
        "start_time": "2023-04-16T16:18:11.038Z"
      },
      {
        "duration": 0,
        "start_time": "2023-04-16T16:18:11.039Z"
      },
      {
        "duration": 0,
        "start_time": "2023-04-16T16:18:11.040Z"
      },
      {
        "duration": 0,
        "start_time": "2023-04-16T16:18:11.042Z"
      },
      {
        "duration": 56,
        "start_time": "2023-04-16T16:18:58.437Z"
      },
      {
        "duration": 78,
        "start_time": "2023-04-16T16:19:34.209Z"
      },
      {
        "duration": 74,
        "start_time": "2023-04-16T16:19:35.441Z"
      },
      {
        "duration": 221,
        "start_time": "2023-04-16T16:19:36.708Z"
      },
      {
        "duration": 20,
        "start_time": "2023-04-16T16:20:08.712Z"
      },
      {
        "duration": 14,
        "start_time": "2023-04-16T16:20:17.308Z"
      },
      {
        "duration": 56,
        "start_time": "2023-04-16T16:20:19.218Z"
      },
      {
        "duration": 12,
        "start_time": "2023-04-16T16:22:03.732Z"
      },
      {
        "duration": 20,
        "start_time": "2023-04-16T16:22:57.904Z"
      },
      {
        "duration": 1570,
        "start_time": "2023-04-16T16:23:03.502Z"
      },
      {
        "duration": 480,
        "start_time": "2023-04-16T16:23:05.075Z"
      },
      {
        "duration": 12,
        "start_time": "2023-04-16T16:23:05.556Z"
      },
      {
        "duration": 42,
        "start_time": "2023-04-16T16:23:05.570Z"
      },
      {
        "duration": 4,
        "start_time": "2023-04-16T16:23:05.616Z"
      },
      {
        "duration": 73,
        "start_time": "2023-04-16T16:23:05.623Z"
      },
      {
        "duration": 19,
        "start_time": "2023-04-16T16:23:05.699Z"
      },
      {
        "duration": 49,
        "start_time": "2023-04-16T16:23:05.721Z"
      },
      {
        "duration": 41,
        "start_time": "2023-04-16T16:23:05.772Z"
      },
      {
        "duration": 19,
        "start_time": "2023-04-16T16:23:05.816Z"
      },
      {
        "duration": 110,
        "start_time": "2023-04-16T16:23:05.837Z"
      },
      {
        "duration": 15,
        "start_time": "2023-04-16T16:23:05.949Z"
      },
      {
        "duration": 47,
        "start_time": "2023-04-16T16:23:05.966Z"
      },
      {
        "duration": 55,
        "start_time": "2023-04-16T16:23:06.017Z"
      },
      {
        "duration": 78,
        "start_time": "2023-04-16T16:23:06.073Z"
      },
      {
        "duration": 37,
        "start_time": "2023-04-16T16:23:06.153Z"
      },
      {
        "duration": 10,
        "start_time": "2023-04-16T16:23:06.193Z"
      },
      {
        "duration": 25,
        "start_time": "2023-04-16T16:23:06.214Z"
      },
      {
        "duration": 512,
        "start_time": "2023-04-16T16:23:06.242Z"
      },
      {
        "duration": 70,
        "start_time": "2023-04-16T16:23:06.756Z"
      },
      {
        "duration": 12538,
        "start_time": "2023-04-16T16:23:06.831Z"
      },
      {
        "duration": 1753,
        "start_time": "2023-04-16T16:23:19.375Z"
      },
      {
        "duration": 130,
        "start_time": "2023-04-16T16:23:21.130Z"
      },
      {
        "duration": 306,
        "start_time": "2023-04-16T16:23:21.263Z"
      },
      {
        "duration": 374,
        "start_time": "2023-04-16T16:23:21.577Z"
      },
      {
        "duration": 0,
        "start_time": "2023-04-16T16:23:21.954Z"
      },
      {
        "duration": 0,
        "start_time": "2023-04-16T16:23:21.956Z"
      },
      {
        "duration": 1561,
        "start_time": "2023-04-16T16:24:34.706Z"
      },
      {
        "duration": 430,
        "start_time": "2023-04-16T16:24:36.269Z"
      },
      {
        "duration": 21,
        "start_time": "2023-04-16T16:24:36.701Z"
      },
      {
        "duration": 32,
        "start_time": "2023-04-16T16:24:36.725Z"
      },
      {
        "duration": 4,
        "start_time": "2023-04-16T16:24:36.761Z"
      },
      {
        "duration": 81,
        "start_time": "2023-04-16T16:24:36.768Z"
      },
      {
        "duration": 9,
        "start_time": "2023-04-16T16:24:36.851Z"
      },
      {
        "duration": 25,
        "start_time": "2023-04-16T16:24:36.862Z"
      },
      {
        "duration": 47,
        "start_time": "2023-04-16T16:24:36.889Z"
      },
      {
        "duration": 21,
        "start_time": "2023-04-16T16:24:36.939Z"
      },
      {
        "duration": 101,
        "start_time": "2023-04-16T16:24:36.962Z"
      },
      {
        "duration": 13,
        "start_time": "2023-04-16T16:24:37.066Z"
      },
      {
        "duration": 9,
        "start_time": "2023-04-16T16:24:37.080Z"
      },
      {
        "duration": 63,
        "start_time": "2023-04-16T16:24:37.092Z"
      },
      {
        "duration": 30,
        "start_time": "2023-04-16T16:24:37.157Z"
      },
      {
        "duration": 52,
        "start_time": "2023-04-16T16:24:37.188Z"
      },
      {
        "duration": 12,
        "start_time": "2023-04-16T16:24:37.242Z"
      },
      {
        "duration": 16,
        "start_time": "2023-04-16T16:24:37.256Z"
      },
      {
        "duration": 477,
        "start_time": "2023-04-16T16:24:37.274Z"
      },
      {
        "duration": 76,
        "start_time": "2023-04-16T16:24:37.754Z"
      },
      {
        "duration": 12767,
        "start_time": "2023-04-16T16:24:37.832Z"
      },
      {
        "duration": 1734,
        "start_time": "2023-04-16T16:24:50.601Z"
      },
      {
        "duration": 158,
        "start_time": "2023-04-16T16:24:52.340Z"
      },
      {
        "duration": 0,
        "start_time": "2023-04-16T16:24:52.500Z"
      },
      {
        "duration": 0,
        "start_time": "2023-04-16T16:24:52.502Z"
      },
      {
        "duration": 0,
        "start_time": "2023-04-16T16:24:52.512Z"
      },
      {
        "duration": 0,
        "start_time": "2023-04-16T16:24:52.514Z"
      },
      {
        "duration": 0,
        "start_time": "2023-04-16T16:24:52.516Z"
      },
      {
        "duration": 107,
        "start_time": "2023-04-16T16:25:22.855Z"
      },
      {
        "duration": 240,
        "start_time": "2023-04-16T16:25:25.960Z"
      },
      {
        "duration": 1550,
        "start_time": "2023-04-16T16:25:57.899Z"
      },
      {
        "duration": 373,
        "start_time": "2023-04-16T16:25:59.452Z"
      },
      {
        "duration": 14,
        "start_time": "2023-04-16T16:25:59.830Z"
      },
      {
        "duration": 27,
        "start_time": "2023-04-16T16:25:59.846Z"
      },
      {
        "duration": 5,
        "start_time": "2023-04-16T16:25:59.876Z"
      },
      {
        "duration": 55,
        "start_time": "2023-04-16T16:25:59.912Z"
      },
      {
        "duration": 9,
        "start_time": "2023-04-16T16:25:59.969Z"
      },
      {
        "duration": 60,
        "start_time": "2023-04-16T16:25:59.980Z"
      },
      {
        "duration": 20,
        "start_time": "2023-04-16T16:26:00.042Z"
      },
      {
        "duration": 54,
        "start_time": "2023-04-16T16:26:00.064Z"
      },
      {
        "duration": 106,
        "start_time": "2023-04-16T16:26:00.125Z"
      },
      {
        "duration": 14,
        "start_time": "2023-04-16T16:26:00.233Z"
      },
      {
        "duration": 38,
        "start_time": "2023-04-16T16:26:00.248Z"
      },
      {
        "duration": 75,
        "start_time": "2023-04-16T16:26:00.289Z"
      },
      {
        "duration": 38,
        "start_time": "2023-04-16T16:26:00.366Z"
      },
      {
        "duration": 45,
        "start_time": "2023-04-16T16:26:00.406Z"
      },
      {
        "duration": 20,
        "start_time": "2023-04-16T16:26:00.453Z"
      },
      {
        "duration": 70,
        "start_time": "2023-04-16T16:26:00.476Z"
      },
      {
        "duration": 462,
        "start_time": "2023-04-16T16:26:00.549Z"
      },
      {
        "duration": 53,
        "start_time": "2023-04-16T16:26:01.014Z"
      },
      {
        "duration": 12402,
        "start_time": "2023-04-16T16:26:01.069Z"
      },
      {
        "duration": 1596,
        "start_time": "2023-04-16T16:26:13.473Z"
      },
      {
        "duration": 100,
        "start_time": "2023-04-16T16:26:15.071Z"
      },
      {
        "duration": 227,
        "start_time": "2023-04-16T16:26:15.173Z"
      },
      {
        "duration": 1400,
        "start_time": "2023-04-16T16:26:57.956Z"
      },
      {
        "duration": 256,
        "start_time": "2023-04-16T16:26:59.358Z"
      },
      {
        "duration": 14,
        "start_time": "2023-04-16T16:26:59.616Z"
      },
      {
        "duration": 22,
        "start_time": "2023-04-16T16:26:59.634Z"
      },
      {
        "duration": 5,
        "start_time": "2023-04-16T16:26:59.658Z"
      },
      {
        "duration": 97,
        "start_time": "2023-04-16T16:26:59.665Z"
      },
      {
        "duration": 8,
        "start_time": "2023-04-16T16:26:59.763Z"
      },
      {
        "duration": 49,
        "start_time": "2023-04-16T16:26:59.773Z"
      },
      {
        "duration": 21,
        "start_time": "2023-04-16T16:26:59.824Z"
      },
      {
        "duration": 23,
        "start_time": "2023-04-16T16:26:59.849Z"
      },
      {
        "duration": 145,
        "start_time": "2023-04-16T16:26:59.874Z"
      },
      {
        "duration": 14,
        "start_time": "2023-04-16T16:27:00.021Z"
      },
      {
        "duration": 26,
        "start_time": "2023-04-16T16:27:00.037Z"
      },
      {
        "duration": 113,
        "start_time": "2023-04-16T16:27:00.065Z"
      },
      {
        "duration": 37,
        "start_time": "2023-04-16T16:27:00.180Z"
      },
      {
        "duration": 39,
        "start_time": "2023-04-16T16:27:00.219Z"
      },
      {
        "duration": 95,
        "start_time": "2023-04-16T16:27:00.260Z"
      },
      {
        "duration": 47,
        "start_time": "2023-04-16T16:27:00.357Z"
      },
      {
        "duration": 459,
        "start_time": "2023-04-16T16:27:00.406Z"
      },
      {
        "duration": 63,
        "start_time": "2023-04-16T16:27:00.867Z"
      },
      {
        "duration": 10565,
        "start_time": "2023-04-16T16:27:00.931Z"
      },
      {
        "duration": 1502,
        "start_time": "2023-04-16T16:27:11.498Z"
      },
      {
        "duration": 80,
        "start_time": "2023-04-16T16:27:13.002Z"
      },
      {
        "duration": 233,
        "start_time": "2023-04-16T16:27:13.084Z"
      },
      {
        "duration": 233,
        "start_time": "2023-04-16T16:27:13.320Z"
      },
      {
        "duration": 0,
        "start_time": "2023-04-16T16:27:13.555Z"
      },
      {
        "duration": 0,
        "start_time": "2023-04-16T16:27:13.556Z"
      },
      {
        "duration": 108,
        "start_time": "2023-04-16T16:27:59.307Z"
      },
      {
        "duration": 88,
        "start_time": "2023-04-16T16:28:02.436Z"
      },
      {
        "duration": 443,
        "start_time": "2023-04-16T16:28:20.284Z"
      },
      {
        "duration": 525,
        "start_time": "2023-04-16T16:28:27.013Z"
      },
      {
        "duration": 1278,
        "start_time": "2023-04-16T16:28:33.255Z"
      },
      {
        "duration": 290,
        "start_time": "2023-04-16T16:28:34.535Z"
      },
      {
        "duration": 11,
        "start_time": "2023-04-16T16:28:34.828Z"
      },
      {
        "duration": 24,
        "start_time": "2023-04-16T16:28:34.842Z"
      },
      {
        "duration": 4,
        "start_time": "2023-04-16T16:28:34.868Z"
      },
      {
        "duration": 69,
        "start_time": "2023-04-16T16:28:34.874Z"
      },
      {
        "duration": 8,
        "start_time": "2023-04-16T16:28:34.945Z"
      },
      {
        "duration": 36,
        "start_time": "2023-04-16T16:28:34.955Z"
      },
      {
        "duration": 33,
        "start_time": "2023-04-16T16:28:34.993Z"
      },
      {
        "duration": 38,
        "start_time": "2023-04-16T16:28:35.030Z"
      },
      {
        "duration": 53,
        "start_time": "2023-04-16T16:28:35.070Z"
      },
      {
        "duration": 13,
        "start_time": "2023-04-16T16:28:35.126Z"
      },
      {
        "duration": 12,
        "start_time": "2023-04-16T16:28:35.141Z"
      },
      {
        "duration": 34,
        "start_time": "2023-04-16T16:28:35.155Z"
      },
      {
        "duration": 46,
        "start_time": "2023-04-16T16:28:35.190Z"
      },
      {
        "duration": 28,
        "start_time": "2023-04-16T16:28:35.238Z"
      },
      {
        "duration": 12,
        "start_time": "2023-04-16T16:28:35.268Z"
      },
      {
        "duration": 44,
        "start_time": "2023-04-16T16:28:35.282Z"
      },
      {
        "duration": 376,
        "start_time": "2023-04-16T16:28:35.328Z"
      },
      {
        "duration": 50,
        "start_time": "2023-04-16T16:28:35.706Z"
      },
      {
        "duration": 10133,
        "start_time": "2023-04-16T16:28:35.758Z"
      },
      {
        "duration": 1355,
        "start_time": "2023-04-16T16:28:45.892Z"
      },
      {
        "duration": 89,
        "start_time": "2023-04-16T16:28:47.249Z"
      },
      {
        "duration": 205,
        "start_time": "2023-04-16T16:28:47.341Z"
      },
      {
        "duration": 524,
        "start_time": "2023-04-16T16:28:47.548Z"
      },
      {
        "duration": 469,
        "start_time": "2023-04-16T16:28:48.074Z"
      },
      {
        "duration": 73,
        "start_time": "2023-04-16T16:28:48.545Z"
      },
      {
        "duration": 326,
        "start_time": "2023-04-16T16:28:56.310Z"
      },
      {
        "duration": 405,
        "start_time": "2023-04-16T16:30:29.610Z"
      },
      {
        "duration": 478,
        "start_time": "2023-04-16T16:30:32.234Z"
      },
      {
        "duration": 506,
        "start_time": "2023-04-16T16:30:51.639Z"
      },
      {
        "duration": 501,
        "start_time": "2023-04-16T16:31:30.014Z"
      },
      {
        "duration": 400,
        "start_time": "2023-04-16T16:32:22.350Z"
      },
      {
        "duration": 665,
        "start_time": "2023-04-16T16:32:32.635Z"
      },
      {
        "duration": 155,
        "start_time": "2023-04-16T16:33:04.035Z"
      },
      {
        "duration": 567,
        "start_time": "2023-04-16T16:33:08.434Z"
      },
      {
        "duration": 508,
        "start_time": "2023-04-16T16:33:17.180Z"
      },
      {
        "duration": 551,
        "start_time": "2023-04-16T16:33:22.630Z"
      },
      {
        "duration": 269,
        "start_time": "2023-04-16T16:33:44.342Z"
      },
      {
        "duration": 59,
        "start_time": "2023-04-16T16:33:54.825Z"
      },
      {
        "duration": 1356,
        "start_time": "2023-04-16T16:51:24.932Z"
      },
      {
        "duration": 25,
        "start_time": "2023-04-16T16:54:06.219Z"
      },
      {
        "duration": 28,
        "start_time": "2023-04-16T16:54:08.361Z"
      },
      {
        "duration": 84,
        "start_time": "2023-04-16T16:55:45.419Z"
      },
      {
        "duration": 79,
        "start_time": "2023-04-16T16:55:46.720Z"
      },
      {
        "duration": 15,
        "start_time": "2023-04-16T16:56:08.229Z"
      },
      {
        "duration": 95,
        "start_time": "2023-04-16T16:56:46.453Z"
      },
      {
        "duration": 113,
        "start_time": "2023-04-16T16:59:43.242Z"
      },
      {
        "duration": 86,
        "start_time": "2023-04-16T16:59:44.142Z"
      },
      {
        "duration": 25,
        "start_time": "2023-04-16T17:09:41.127Z"
      },
      {
        "duration": 97,
        "start_time": "2023-04-16T17:09:56.605Z"
      },
      {
        "duration": 78,
        "start_time": "2023-04-16T17:10:02.706Z"
      },
      {
        "duration": 129,
        "start_time": "2023-04-16T17:11:48.641Z"
      },
      {
        "duration": 139,
        "start_time": "2023-04-16T17:11:54.307Z"
      },
      {
        "duration": 86,
        "start_time": "2023-04-16T17:11:55.749Z"
      },
      {
        "duration": 150,
        "start_time": "2023-04-16T17:12:36.320Z"
      },
      {
        "duration": 134,
        "start_time": "2023-04-16T17:12:37.333Z"
      },
      {
        "duration": 125,
        "start_time": "2023-04-16T17:13:19.737Z"
      },
      {
        "duration": 6,
        "start_time": "2023-04-16T17:20:17.021Z"
      },
      {
        "duration": 631,
        "start_time": "2023-04-16T17:20:21.920Z"
      },
      {
        "duration": 799,
        "start_time": "2023-04-16T17:21:34.103Z"
      },
      {
        "duration": 493,
        "start_time": "2023-04-16T17:22:49.261Z"
      },
      {
        "duration": 81,
        "start_time": "2023-04-16T17:24:47.764Z"
      },
      {
        "duration": 1384,
        "start_time": "2023-04-16T17:24:49.722Z"
      },
      {
        "duration": 585,
        "start_time": "2023-04-16T17:25:05.727Z"
      },
      {
        "duration": 598,
        "start_time": "2023-04-16T17:25:12.053Z"
      },
      {
        "duration": 530,
        "start_time": "2023-04-16T17:26:34.031Z"
      },
      {
        "duration": 480,
        "start_time": "2023-04-16T17:26:57.255Z"
      },
      {
        "duration": 659,
        "start_time": "2023-04-16T17:27:01.119Z"
      },
      {
        "duration": 1148,
        "start_time": "2023-04-16T17:27:14.658Z"
      },
      {
        "duration": 1165,
        "start_time": "2023-04-16T17:28:12.064Z"
      },
      {
        "duration": 1299,
        "start_time": "2023-04-16T17:28:16.027Z"
      },
      {
        "duration": 1043,
        "start_time": "2023-04-16T17:28:27.327Z"
      },
      {
        "duration": 1328,
        "start_time": "2023-04-16T17:28:33.963Z"
      },
      {
        "duration": 459,
        "start_time": "2023-04-16T17:28:35.293Z"
      },
      {
        "duration": 17,
        "start_time": "2023-04-16T17:28:35.754Z"
      },
      {
        "duration": 45,
        "start_time": "2023-04-16T17:28:35.773Z"
      },
      {
        "duration": 4,
        "start_time": "2023-04-16T17:28:35.821Z"
      },
      {
        "duration": 77,
        "start_time": "2023-04-16T17:28:35.827Z"
      },
      {
        "duration": 12,
        "start_time": "2023-04-16T17:28:35.911Z"
      },
      {
        "duration": 28,
        "start_time": "2023-04-16T17:28:35.925Z"
      },
      {
        "duration": 23,
        "start_time": "2023-04-16T17:28:35.956Z"
      },
      {
        "duration": 15,
        "start_time": "2023-04-16T17:28:36.012Z"
      },
      {
        "duration": 53,
        "start_time": "2023-04-16T17:28:36.029Z"
      },
      {
        "duration": 34,
        "start_time": "2023-04-16T17:28:36.084Z"
      },
      {
        "duration": 10,
        "start_time": "2023-04-16T17:28:36.121Z"
      },
      {
        "duration": 27,
        "start_time": "2023-04-16T17:28:36.134Z"
      },
      {
        "duration": 71,
        "start_time": "2023-04-16T17:28:36.163Z"
      },
      {
        "duration": 28,
        "start_time": "2023-04-16T17:28:36.236Z"
      },
      {
        "duration": 11,
        "start_time": "2023-04-16T17:28:36.266Z"
      },
      {
        "duration": 41,
        "start_time": "2023-04-16T17:28:36.279Z"
      },
      {
        "duration": 387,
        "start_time": "2023-04-16T17:28:36.322Z"
      },
      {
        "duration": 47,
        "start_time": "2023-04-16T17:28:36.710Z"
      },
      {
        "duration": 10308,
        "start_time": "2023-04-16T17:28:36.759Z"
      },
      {
        "duration": 21,
        "start_time": "2023-04-16T17:28:47.069Z"
      },
      {
        "duration": 1411,
        "start_time": "2023-04-16T17:28:47.111Z"
      },
      {
        "duration": 96,
        "start_time": "2023-04-16T17:28:48.524Z"
      },
      {
        "duration": 218,
        "start_time": "2023-04-16T17:28:48.622Z"
      },
      {
        "duration": 696,
        "start_time": "2023-04-16T17:28:48.842Z"
      },
      {
        "duration": 298,
        "start_time": "2023-04-16T17:28:49.540Z"
      },
      {
        "duration": 74,
        "start_time": "2023-04-16T17:28:49.840Z"
      },
      {
        "duration": 1133,
        "start_time": "2023-04-16T17:28:49.916Z"
      },
      {
        "duration": 1021,
        "start_time": "2023-04-16T17:29:14.318Z"
      },
      {
        "duration": 583,
        "start_time": "2023-04-16T17:29:26.629Z"
      },
      {
        "duration": 1114,
        "start_time": "2023-04-16T17:30:01.645Z"
      },
      {
        "duration": 968,
        "start_time": "2023-04-16T17:30:41.280Z"
      },
      {
        "duration": 550,
        "start_time": "2023-04-16T17:30:51.362Z"
      },
      {
        "duration": 1104,
        "start_time": "2023-04-16T17:30:56.024Z"
      },
      {
        "duration": 185,
        "start_time": "2023-04-16T17:33:33.031Z"
      },
      {
        "duration": 41,
        "start_time": "2023-04-16T17:33:42.123Z"
      },
      {
        "duration": 12,
        "start_time": "2023-04-16T17:34:35.832Z"
      },
      {
        "duration": 62,
        "start_time": "2023-04-16T17:36:58.834Z"
      },
      {
        "duration": 46,
        "start_time": "2023-04-16T17:37:05.033Z"
      },
      {
        "duration": 1297,
        "start_time": "2023-04-16T17:37:09.930Z"
      },
      {
        "duration": 312,
        "start_time": "2023-04-16T17:37:11.230Z"
      },
      {
        "duration": 11,
        "start_time": "2023-04-16T17:37:11.544Z"
      },
      {
        "duration": 19,
        "start_time": "2023-04-16T17:37:11.557Z"
      },
      {
        "duration": 5,
        "start_time": "2023-04-16T17:37:11.611Z"
      },
      {
        "duration": 49,
        "start_time": "2023-04-16T17:37:11.618Z"
      },
      {
        "duration": 8,
        "start_time": "2023-04-16T17:37:11.669Z"
      },
      {
        "duration": 50,
        "start_time": "2023-04-16T17:37:11.679Z"
      },
      {
        "duration": 20,
        "start_time": "2023-04-16T17:37:11.731Z"
      },
      {
        "duration": 46,
        "start_time": "2023-04-16T17:37:11.752Z"
      },
      {
        "duration": 76,
        "start_time": "2023-04-16T17:37:11.800Z"
      },
      {
        "duration": 14,
        "start_time": "2023-04-16T17:37:11.878Z"
      },
      {
        "duration": 30,
        "start_time": "2023-04-16T17:37:11.894Z"
      },
      {
        "duration": 59,
        "start_time": "2023-04-16T17:37:11.929Z"
      },
      {
        "duration": 28,
        "start_time": "2023-04-16T17:37:11.991Z"
      },
      {
        "duration": 25,
        "start_time": "2023-04-16T17:37:12.021Z"
      },
      {
        "duration": 11,
        "start_time": "2023-04-16T17:37:12.048Z"
      },
      {
        "duration": 26,
        "start_time": "2023-04-16T17:37:12.061Z"
      },
      {
        "duration": 404,
        "start_time": "2023-04-16T17:37:12.089Z"
      },
      {
        "duration": 54,
        "start_time": "2023-04-16T17:37:12.495Z"
      },
      {
        "duration": 10381,
        "start_time": "2023-04-16T17:37:12.552Z"
      },
      {
        "duration": 28,
        "start_time": "2023-04-16T17:37:22.935Z"
      },
      {
        "duration": 1408,
        "start_time": "2023-04-16T17:37:22.965Z"
      },
      {
        "duration": 90,
        "start_time": "2023-04-16T17:37:24.375Z"
      },
      {
        "duration": 212,
        "start_time": "2023-04-16T17:37:24.467Z"
      },
      {
        "duration": 704,
        "start_time": "2023-04-16T17:37:24.683Z"
      },
      {
        "duration": 314,
        "start_time": "2023-04-16T17:37:25.390Z"
      },
      {
        "duration": 63,
        "start_time": "2023-04-16T17:37:25.706Z"
      },
      {
        "duration": 1073,
        "start_time": "2023-04-16T17:37:25.771Z"
      },
      {
        "duration": 179,
        "start_time": "2023-04-16T17:37:26.846Z"
      },
      {
        "duration": 101,
        "start_time": "2023-04-16T17:38:02.815Z"
      },
      {
        "duration": 123,
        "start_time": "2023-04-16T17:40:11.220Z"
      },
      {
        "duration": 61,
        "start_time": "2023-04-16T17:42:43.542Z"
      },
      {
        "duration": 67,
        "start_time": "2023-04-16T17:42:50.688Z"
      },
      {
        "duration": 132,
        "start_time": "2023-04-16T17:43:41.728Z"
      },
      {
        "duration": 64,
        "start_time": "2023-04-16T17:49:52.642Z"
      },
      {
        "duration": 68,
        "start_time": "2023-04-16T17:49:58.740Z"
      },
      {
        "duration": 1402,
        "start_time": "2023-04-16T17:50:27.027Z"
      },
      {
        "duration": 363,
        "start_time": "2023-04-16T17:50:28.432Z"
      },
      {
        "duration": 23,
        "start_time": "2023-04-16T17:50:28.797Z"
      },
      {
        "duration": 41,
        "start_time": "2023-04-16T17:50:28.823Z"
      },
      {
        "duration": 4,
        "start_time": "2023-04-16T17:50:28.867Z"
      },
      {
        "duration": 80,
        "start_time": "2023-04-16T17:50:28.874Z"
      },
      {
        "duration": 10,
        "start_time": "2023-04-16T17:50:28.959Z"
      },
      {
        "duration": 60,
        "start_time": "2023-04-16T17:50:28.972Z"
      },
      {
        "duration": 33,
        "start_time": "2023-04-16T17:50:29.035Z"
      },
      {
        "duration": 40,
        "start_time": "2023-04-16T17:50:29.072Z"
      },
      {
        "duration": 78,
        "start_time": "2023-04-16T17:50:29.115Z"
      },
      {
        "duration": 35,
        "start_time": "2023-04-16T17:50:29.196Z"
      },
      {
        "duration": 7,
        "start_time": "2023-04-16T17:50:29.233Z"
      },
      {
        "duration": 38,
        "start_time": "2023-04-16T17:50:29.242Z"
      },
      {
        "duration": 57,
        "start_time": "2023-04-16T17:50:29.283Z"
      },
      {
        "duration": 26,
        "start_time": "2023-04-16T17:50:29.342Z"
      },
      {
        "duration": 42,
        "start_time": "2023-04-16T17:50:29.370Z"
      },
      {
        "duration": 18,
        "start_time": "2023-04-16T17:50:29.414Z"
      },
      {
        "duration": 402,
        "start_time": "2023-04-16T17:50:29.435Z"
      },
      {
        "duration": 67,
        "start_time": "2023-04-16T17:50:29.845Z"
      },
      {
        "duration": 11046,
        "start_time": "2023-04-16T17:50:29.914Z"
      },
      {
        "duration": 22,
        "start_time": "2023-04-16T17:50:40.961Z"
      },
      {
        "duration": 1387,
        "start_time": "2023-04-16T17:50:40.985Z"
      },
      {
        "duration": 96,
        "start_time": "2023-04-16T17:50:42.374Z"
      },
      {
        "duration": 270,
        "start_time": "2023-04-16T17:50:42.471Z"
      },
      {
        "duration": 719,
        "start_time": "2023-04-16T17:50:42.742Z"
      },
      {
        "duration": 320,
        "start_time": "2023-04-16T17:50:43.464Z"
      },
      {
        "duration": 88,
        "start_time": "2023-04-16T17:50:43.787Z"
      },
      {
        "duration": 96,
        "start_time": "2023-04-16T17:50:43.877Z"
      },
      {
        "duration": 1097,
        "start_time": "2023-04-16T17:50:43.976Z"
      },
      {
        "duration": 151,
        "start_time": "2023-04-16T17:50:45.075Z"
      },
      {
        "duration": 144,
        "start_time": "2023-04-16T17:52:54.531Z"
      },
      {
        "duration": 36,
        "start_time": "2023-04-16T17:53:07.252Z"
      },
      {
        "duration": 13,
        "start_time": "2023-04-16T17:55:38.519Z"
      },
      {
        "duration": 28,
        "start_time": "2023-04-16T17:55:47.680Z"
      },
      {
        "duration": 35,
        "start_time": "2023-04-16T17:56:03.063Z"
      },
      {
        "duration": 14,
        "start_time": "2023-04-16T17:56:45.786Z"
      },
      {
        "duration": 24,
        "start_time": "2023-04-16T17:56:53.570Z"
      },
      {
        "duration": 14,
        "start_time": "2023-04-16T17:57:23.916Z"
      },
      {
        "duration": 25,
        "start_time": "2023-04-16T17:57:32.823Z"
      },
      {
        "duration": 14,
        "start_time": "2023-04-16T17:58:05.738Z"
      },
      {
        "duration": 32,
        "start_time": "2023-04-16T17:58:14.327Z"
      },
      {
        "duration": 27,
        "start_time": "2023-04-16T17:58:30.215Z"
      },
      {
        "duration": 33,
        "start_time": "2023-04-16T17:59:06.329Z"
      },
      {
        "duration": 37,
        "start_time": "2023-04-16T18:03:03.899Z"
      },
      {
        "duration": 36,
        "start_time": "2023-04-16T18:03:15.952Z"
      },
      {
        "duration": 15,
        "start_time": "2023-04-16T18:04:44.852Z"
      },
      {
        "duration": 34,
        "start_time": "2023-04-16T18:04:50.140Z"
      },
      {
        "duration": 41,
        "start_time": "2023-04-16T18:04:56.748Z"
      },
      {
        "duration": 1251,
        "start_time": "2023-04-16T18:07:33.503Z"
      },
      {
        "duration": 24,
        "start_time": "2023-04-16T18:07:44.711Z"
      },
      {
        "duration": 1230,
        "start_time": "2023-04-16T18:08:29.633Z"
      },
      {
        "duration": 1258,
        "start_time": "2023-04-16T18:08:39.211Z"
      },
      {
        "duration": 1474,
        "start_time": "2023-04-16T18:08:54.698Z"
      },
      {
        "duration": 450,
        "start_time": "2023-04-16T18:08:56.175Z"
      },
      {
        "duration": 12,
        "start_time": "2023-04-16T18:08:56.627Z"
      },
      {
        "duration": 34,
        "start_time": "2023-04-16T18:08:56.642Z"
      },
      {
        "duration": 19,
        "start_time": "2023-04-16T18:08:56.679Z"
      },
      {
        "duration": 92,
        "start_time": "2023-04-16T18:08:56.700Z"
      },
      {
        "duration": 8,
        "start_time": "2023-04-16T18:08:56.795Z"
      },
      {
        "duration": 85,
        "start_time": "2023-04-16T18:08:56.805Z"
      },
      {
        "duration": 53,
        "start_time": "2023-04-16T18:08:56.893Z"
      },
      {
        "duration": 18,
        "start_time": "2023-04-16T18:08:56.949Z"
      },
      {
        "duration": 83,
        "start_time": "2023-04-16T18:08:56.968Z"
      },
      {
        "duration": 22,
        "start_time": "2023-04-16T18:08:57.053Z"
      },
      {
        "duration": 6,
        "start_time": "2023-04-16T18:08:57.077Z"
      },
      {
        "duration": 40,
        "start_time": "2023-04-16T18:08:57.115Z"
      },
      {
        "duration": 29,
        "start_time": "2023-04-16T18:08:57.157Z"
      },
      {
        "duration": 28,
        "start_time": "2023-04-16T18:08:57.211Z"
      },
      {
        "duration": 13,
        "start_time": "2023-04-16T18:08:57.241Z"
      },
      {
        "duration": 14,
        "start_time": "2023-04-16T18:08:57.256Z"
      },
      {
        "duration": 434,
        "start_time": "2023-04-16T18:08:57.272Z"
      },
      {
        "duration": 64,
        "start_time": "2023-04-16T18:08:57.711Z"
      },
      {
        "duration": 11222,
        "start_time": "2023-04-16T18:08:57.777Z"
      },
      {
        "duration": 30,
        "start_time": "2023-04-16T18:09:09.001Z"
      },
      {
        "duration": 1472,
        "start_time": "2023-04-16T18:09:09.033Z"
      },
      {
        "duration": 79,
        "start_time": "2023-04-16T18:09:10.511Z"
      },
      {
        "duration": 261,
        "start_time": "2023-04-16T18:09:10.592Z"
      },
      {
        "duration": 652,
        "start_time": "2023-04-16T18:09:10.855Z"
      },
      {
        "duration": 269,
        "start_time": "2023-04-16T18:09:11.509Z"
      },
      {
        "duration": 61,
        "start_time": "2023-04-16T18:09:11.780Z"
      },
      {
        "duration": 69,
        "start_time": "2023-04-16T18:09:11.843Z"
      },
      {
        "duration": 1046,
        "start_time": "2023-04-16T18:09:11.914Z"
      },
      {
        "duration": 32,
        "start_time": "2023-04-16T18:09:12.962Z"
      },
      {
        "duration": 38,
        "start_time": "2023-04-16T18:09:13.013Z"
      },
      {
        "duration": 1339,
        "start_time": "2023-04-16T18:09:13.053Z"
      },
      {
        "duration": 7821,
        "start_time": "2023-04-16T18:10:23.230Z"
      },
      {
        "duration": 25,
        "start_time": "2023-04-16T18:10:40.095Z"
      },
      {
        "duration": 29,
        "start_time": "2023-04-16T18:10:52.144Z"
      },
      {
        "duration": 27,
        "start_time": "2023-04-16T18:11:01.713Z"
      },
      {
        "duration": 13,
        "start_time": "2023-04-16T18:26:35.809Z"
      },
      {
        "duration": 49,
        "start_time": "2023-04-16T18:26:40.717Z"
      },
      {
        "duration": 38,
        "start_time": "2023-04-16T18:26:56.412Z"
      },
      {
        "duration": 47,
        "start_time": "2023-04-16T18:26:59.433Z"
      },
      {
        "duration": 42,
        "start_time": "2023-04-16T18:27:08.606Z"
      },
      {
        "duration": 43,
        "start_time": "2023-04-16T18:27:19.821Z"
      },
      {
        "duration": 22,
        "start_time": "2023-04-16T18:27:22.911Z"
      },
      {
        "duration": 36,
        "start_time": "2023-04-16T18:28:36.021Z"
      },
      {
        "duration": 29,
        "start_time": "2023-04-16T18:29:57.133Z"
      },
      {
        "duration": 5,
        "start_time": "2023-04-16T18:30:06.203Z"
      },
      {
        "duration": 28,
        "start_time": "2023-04-16T18:30:59.414Z"
      },
      {
        "duration": 27,
        "start_time": "2023-04-16T18:32:35.611Z"
      },
      {
        "duration": 25,
        "start_time": "2023-04-16T18:34:06.017Z"
      },
      {
        "duration": 47,
        "start_time": "2023-04-16T18:34:35.980Z"
      },
      {
        "duration": 40,
        "start_time": "2023-04-16T18:35:35.950Z"
      },
      {
        "duration": 27,
        "start_time": "2023-04-16T18:35:46.913Z"
      },
      {
        "duration": 48,
        "start_time": "2023-04-16T18:35:53.935Z"
      },
      {
        "duration": 43,
        "start_time": "2023-04-16T18:36:28.688Z"
      },
      {
        "duration": 5,
        "start_time": "2023-04-16T18:36:39.681Z"
      },
      {
        "duration": 42,
        "start_time": "2023-04-16T18:37:02.248Z"
      },
      {
        "duration": 42,
        "start_time": "2023-04-16T18:37:16.106Z"
      },
      {
        "duration": 32,
        "start_time": "2023-04-16T18:37:22.028Z"
      },
      {
        "duration": 42,
        "start_time": "2023-04-16T18:37:27.610Z"
      },
      {
        "duration": 36,
        "start_time": "2023-04-16T18:58:25.887Z"
      },
      {
        "duration": 59,
        "start_time": "2023-04-16T19:18:26.843Z"
      },
      {
        "duration": 16,
        "start_time": "2023-04-16T19:18:28.337Z"
      },
      {
        "duration": 50,
        "start_time": "2023-04-16T19:21:14.944Z"
      },
      {
        "duration": 84,
        "start_time": "2023-04-16T19:21:22.852Z"
      },
      {
        "duration": 16,
        "start_time": "2023-04-16T19:21:23.636Z"
      },
      {
        "duration": 71,
        "start_time": "2023-04-16T19:25:49.082Z"
      },
      {
        "duration": 1372,
        "start_time": "2023-04-16T19:26:06.652Z"
      },
      {
        "duration": 544,
        "start_time": "2023-04-16T19:26:08.026Z"
      },
      {
        "duration": 11,
        "start_time": "2023-04-16T19:26:08.572Z"
      },
      {
        "duration": 38,
        "start_time": "2023-04-16T19:26:08.585Z"
      },
      {
        "duration": 8,
        "start_time": "2023-04-16T19:26:08.625Z"
      },
      {
        "duration": 41,
        "start_time": "2023-04-16T19:26:08.636Z"
      },
      {
        "duration": 8,
        "start_time": "2023-04-16T19:26:08.679Z"
      },
      {
        "duration": 56,
        "start_time": "2023-04-16T19:26:08.690Z"
      },
      {
        "duration": 20,
        "start_time": "2023-04-16T19:26:08.748Z"
      },
      {
        "duration": 14,
        "start_time": "2023-04-16T19:26:08.771Z"
      },
      {
        "duration": 88,
        "start_time": "2023-04-16T19:26:08.787Z"
      },
      {
        "duration": 14,
        "start_time": "2023-04-16T19:26:08.877Z"
      },
      {
        "duration": 26,
        "start_time": "2023-04-16T19:26:08.893Z"
      },
      {
        "duration": 37,
        "start_time": "2023-04-16T19:26:08.925Z"
      },
      {
        "duration": 28,
        "start_time": "2023-04-16T19:26:08.964Z"
      },
      {
        "duration": 63,
        "start_time": "2023-04-16T19:26:08.994Z"
      },
      {
        "duration": 12,
        "start_time": "2023-04-16T19:26:09.059Z"
      },
      {
        "duration": 47,
        "start_time": "2023-04-16T19:26:09.073Z"
      },
      {
        "duration": 376,
        "start_time": "2023-04-16T19:26:09.122Z"
      },
      {
        "duration": 58,
        "start_time": "2023-04-16T19:26:09.500Z"
      },
      {
        "duration": 11309,
        "start_time": "2023-04-16T19:26:09.560Z"
      },
      {
        "duration": 20,
        "start_time": "2023-04-16T19:26:20.871Z"
      },
      {
        "duration": 1572,
        "start_time": "2023-04-16T19:26:20.893Z"
      },
      {
        "duration": 99,
        "start_time": "2023-04-16T19:26:22.467Z"
      },
      {
        "duration": 250,
        "start_time": "2023-04-16T19:26:22.568Z"
      },
      {
        "duration": 753,
        "start_time": "2023-04-16T19:26:22.820Z"
      },
      {
        "duration": 315,
        "start_time": "2023-04-16T19:26:23.575Z"
      },
      {
        "duration": 54,
        "start_time": "2023-04-16T19:26:23.894Z"
      },
      {
        "duration": 1104,
        "start_time": "2023-04-16T19:26:23.950Z"
      },
      {
        "duration": 28,
        "start_time": "2023-04-16T19:26:25.055Z"
      },
      {
        "duration": 63,
        "start_time": "2023-04-16T19:26:25.085Z"
      },
      {
        "duration": 26,
        "start_time": "2023-04-16T19:26:25.149Z"
      },
      {
        "duration": 189,
        "start_time": "2023-04-16T19:26:25.177Z"
      },
      {
        "duration": 15,
        "start_time": "2023-04-16T19:27:28.736Z"
      },
      {
        "duration": 14,
        "start_time": "2023-04-16T19:27:38.984Z"
      },
      {
        "duration": 12,
        "start_time": "2023-04-16T19:28:18.378Z"
      },
      {
        "duration": 25,
        "start_time": "2023-04-16T19:28:29.627Z"
      },
      {
        "duration": 714,
        "start_time": "2023-04-16T19:28:31.251Z"
      },
      {
        "duration": 13,
        "start_time": "2023-04-16T19:28:40.925Z"
      },
      {
        "duration": 11,
        "start_time": "2023-04-16T19:29:45.047Z"
      },
      {
        "duration": 26,
        "start_time": "2023-04-16T19:29:50.479Z"
      },
      {
        "duration": 29,
        "start_time": "2023-04-16T19:29:55.170Z"
      },
      {
        "duration": 15,
        "start_time": "2023-04-16T19:29:56.748Z"
      },
      {
        "duration": 26,
        "start_time": "2023-04-16T19:30:06.373Z"
      },
      {
        "duration": 14,
        "start_time": "2023-04-16T19:30:48.357Z"
      },
      {
        "duration": 1468,
        "start_time": "2023-04-16T19:30:55.317Z"
      },
      {
        "duration": 318,
        "start_time": "2023-04-16T19:30:56.787Z"
      },
      {
        "duration": 21,
        "start_time": "2023-04-16T19:30:57.107Z"
      },
      {
        "duration": 29,
        "start_time": "2023-04-16T19:30:57.130Z"
      },
      {
        "duration": 4,
        "start_time": "2023-04-16T19:30:57.161Z"
      },
      {
        "duration": 80,
        "start_time": "2023-04-16T19:30:57.167Z"
      },
      {
        "duration": 7,
        "start_time": "2023-04-16T19:30:57.249Z"
      },
      {
        "duration": 37,
        "start_time": "2023-04-16T19:30:57.258Z"
      },
      {
        "duration": 46,
        "start_time": "2023-04-16T19:30:57.298Z"
      },
      {
        "duration": 19,
        "start_time": "2023-04-16T19:30:57.346Z"
      },
      {
        "duration": 79,
        "start_time": "2023-04-16T19:30:57.366Z"
      },
      {
        "duration": 14,
        "start_time": "2023-04-16T19:30:57.447Z"
      },
      {
        "duration": 11,
        "start_time": "2023-04-16T19:30:57.462Z"
      },
      {
        "duration": 49,
        "start_time": "2023-04-16T19:30:57.476Z"
      },
      {
        "duration": 30,
        "start_time": "2023-04-16T19:30:57.529Z"
      },
      {
        "duration": 28,
        "start_time": "2023-04-16T19:30:57.560Z"
      },
      {
        "duration": 33,
        "start_time": "2023-04-16T19:30:57.590Z"
      },
      {
        "duration": 26,
        "start_time": "2023-04-16T19:30:57.626Z"
      },
      {
        "duration": 405,
        "start_time": "2023-04-16T19:30:57.654Z"
      },
      {
        "duration": 62,
        "start_time": "2023-04-16T19:30:58.061Z"
      },
      {
        "duration": 11057,
        "start_time": "2023-04-16T19:30:58.129Z"
      },
      {
        "duration": 42,
        "start_time": "2023-04-16T19:31:09.188Z"
      },
      {
        "duration": 1312,
        "start_time": "2023-04-16T19:31:09.232Z"
      },
      {
        "duration": 92,
        "start_time": "2023-04-16T19:31:10.546Z"
      },
      {
        "duration": 208,
        "start_time": "2023-04-16T19:31:10.640Z"
      },
      {
        "duration": 632,
        "start_time": "2023-04-16T19:31:10.850Z"
      },
      {
        "duration": 276,
        "start_time": "2023-04-16T19:31:11.484Z"
      },
      {
        "duration": 29,
        "start_time": "2023-04-16T19:31:11.762Z"
      },
      {
        "duration": 1047,
        "start_time": "2023-04-16T19:31:11.793Z"
      },
      {
        "duration": 31,
        "start_time": "2023-04-16T19:31:12.842Z"
      },
      {
        "duration": 52,
        "start_time": "2023-04-16T19:31:12.875Z"
      },
      {
        "duration": 23,
        "start_time": "2023-04-16T19:31:12.929Z"
      },
      {
        "duration": 30,
        "start_time": "2023-04-16T19:31:12.954Z"
      },
      {
        "duration": 159,
        "start_time": "2023-04-16T19:31:12.986Z"
      },
      {
        "duration": 67,
        "start_time": "2023-04-16T19:31:50.353Z"
      },
      {
        "duration": 19,
        "start_time": "2023-04-16T19:31:57.084Z"
      },
      {
        "duration": 1444,
        "start_time": "2023-04-16T19:32:04.052Z"
      },
      {
        "duration": 337,
        "start_time": "2023-04-16T19:32:05.498Z"
      },
      {
        "duration": 12,
        "start_time": "2023-04-16T19:32:05.836Z"
      },
      {
        "duration": 24,
        "start_time": "2023-04-16T19:32:05.850Z"
      },
      {
        "duration": 3,
        "start_time": "2023-04-16T19:32:05.877Z"
      },
      {
        "duration": 75,
        "start_time": "2023-04-16T19:32:05.882Z"
      },
      {
        "duration": 7,
        "start_time": "2023-04-16T19:32:05.959Z"
      },
      {
        "duration": 65,
        "start_time": "2023-04-16T19:32:05.968Z"
      },
      {
        "duration": 19,
        "start_time": "2023-04-16T19:32:06.035Z"
      },
      {
        "duration": 28,
        "start_time": "2023-04-16T19:32:06.056Z"
      },
      {
        "duration": 91,
        "start_time": "2023-04-16T19:32:06.087Z"
      },
      {
        "duration": 22,
        "start_time": "2023-04-16T19:32:06.179Z"
      },
      {
        "duration": 33,
        "start_time": "2023-04-16T19:32:06.203Z"
      },
      {
        "duration": 102,
        "start_time": "2023-04-16T19:32:06.239Z"
      },
      {
        "duration": 27,
        "start_time": "2023-04-16T19:32:06.343Z"
      },
      {
        "duration": 47,
        "start_time": "2023-04-16T19:32:06.372Z"
      },
      {
        "duration": 13,
        "start_time": "2023-04-16T19:32:06.428Z"
      },
      {
        "duration": 18,
        "start_time": "2023-04-16T19:32:06.443Z"
      },
      {
        "duration": 410,
        "start_time": "2023-04-16T19:32:06.463Z"
      },
      {
        "duration": 58,
        "start_time": "2023-04-16T19:32:06.875Z"
      },
      {
        "duration": 11437,
        "start_time": "2023-04-16T19:32:06.935Z"
      },
      {
        "duration": 21,
        "start_time": "2023-04-16T19:32:18.374Z"
      },
      {
        "duration": 1707,
        "start_time": "2023-04-16T19:32:18.396Z"
      },
      {
        "duration": 85,
        "start_time": "2023-04-16T19:32:20.112Z"
      },
      {
        "duration": 224,
        "start_time": "2023-04-16T19:32:20.199Z"
      },
      {
        "duration": 673,
        "start_time": "2023-04-16T19:32:20.425Z"
      },
      {
        "duration": 292,
        "start_time": "2023-04-16T19:32:21.100Z"
      },
      {
        "duration": 45,
        "start_time": "2023-04-16T19:32:21.394Z"
      },
      {
        "duration": 1103,
        "start_time": "2023-04-16T19:32:21.442Z"
      },
      {
        "duration": 43,
        "start_time": "2023-04-16T19:32:22.548Z"
      },
      {
        "duration": 53,
        "start_time": "2023-04-16T19:32:22.611Z"
      },
      {
        "duration": 58,
        "start_time": "2023-04-16T19:32:22.666Z"
      },
      {
        "duration": 33,
        "start_time": "2023-04-16T19:32:22.726Z"
      },
      {
        "duration": 172,
        "start_time": "2023-04-16T19:32:22.761Z"
      },
      {
        "duration": 16,
        "start_time": "2023-04-16T19:32:36.973Z"
      },
      {
        "duration": 14,
        "start_time": "2023-04-16T19:32:39.249Z"
      },
      {
        "duration": 1329,
        "start_time": "2023-04-16T19:34:27.443Z"
      },
      {
        "duration": 1439,
        "start_time": "2023-04-16T19:34:36.837Z"
      },
      {
        "duration": 338,
        "start_time": "2023-04-16T19:34:38.279Z"
      },
      {
        "duration": 17,
        "start_time": "2023-04-16T19:34:38.619Z"
      },
      {
        "duration": 19,
        "start_time": "2023-04-16T19:34:38.639Z"
      },
      {
        "duration": 3,
        "start_time": "2023-04-16T19:34:38.661Z"
      },
      {
        "duration": 89,
        "start_time": "2023-04-16T19:34:38.665Z"
      },
      {
        "duration": 7,
        "start_time": "2023-04-16T19:34:38.756Z"
      },
      {
        "duration": 24,
        "start_time": "2023-04-16T19:34:38.764Z"
      },
      {
        "duration": 52,
        "start_time": "2023-04-16T19:34:38.790Z"
      },
      {
        "duration": 15,
        "start_time": "2023-04-16T19:34:38.845Z"
      },
      {
        "duration": 90,
        "start_time": "2023-04-16T19:34:38.863Z"
      },
      {
        "duration": 17,
        "start_time": "2023-04-16T19:34:38.955Z"
      },
      {
        "duration": 6,
        "start_time": "2023-04-16T19:34:38.975Z"
      },
      {
        "duration": 65,
        "start_time": "2023-04-16T19:34:38.984Z"
      },
      {
        "duration": 30,
        "start_time": "2023-04-16T19:34:39.052Z"
      },
      {
        "duration": 66,
        "start_time": "2023-04-16T19:34:39.084Z"
      },
      {
        "duration": 11,
        "start_time": "2023-04-16T19:34:39.152Z"
      },
      {
        "duration": 31,
        "start_time": "2023-04-16T19:34:39.165Z"
      },
      {
        "duration": 418,
        "start_time": "2023-04-16T19:34:39.198Z"
      },
      {
        "duration": 58,
        "start_time": "2023-04-16T19:34:39.619Z"
      },
      {
        "duration": 11491,
        "start_time": "2023-04-16T19:34:39.679Z"
      },
      {
        "duration": 20,
        "start_time": "2023-04-16T19:34:51.172Z"
      },
      {
        "duration": 1561,
        "start_time": "2023-04-16T19:34:51.194Z"
      },
      {
        "duration": 105,
        "start_time": "2023-04-16T19:34:52.757Z"
      },
      {
        "duration": 227,
        "start_time": "2023-04-16T19:34:52.863Z"
      },
      {
        "duration": 714,
        "start_time": "2023-04-16T19:34:53.092Z"
      },
      {
        "duration": 297,
        "start_time": "2023-04-16T19:34:53.808Z"
      },
      {
        "duration": 47,
        "start_time": "2023-04-16T19:34:54.107Z"
      },
      {
        "duration": 1084,
        "start_time": "2023-04-16T19:34:54.156Z"
      },
      {
        "duration": 31,
        "start_time": "2023-04-16T19:34:55.242Z"
      },
      {
        "duration": 74,
        "start_time": "2023-04-16T19:34:55.275Z"
      },
      {
        "duration": 26,
        "start_time": "2023-04-16T19:34:55.351Z"
      },
      {
        "duration": 71,
        "start_time": "2023-04-16T19:34:55.379Z"
      },
      {
        "duration": 1507,
        "start_time": "2023-04-16T19:34:55.452Z"
      },
      {
        "duration": 1201,
        "start_time": "2023-04-16T19:37:07.208Z"
      },
      {
        "duration": 4,
        "start_time": "2023-04-16T19:37:36.733Z"
      },
      {
        "duration": 8,
        "start_time": "2023-04-16T19:37:41.145Z"
      },
      {
        "duration": 5,
        "start_time": "2023-04-16T19:37:47.744Z"
      },
      {
        "duration": 4,
        "start_time": "2023-04-16T19:37:50.548Z"
      },
      {
        "duration": 4,
        "start_time": "2023-04-16T19:37:55.057Z"
      },
      {
        "duration": 6,
        "start_time": "2023-04-16T19:38:02.314Z"
      },
      {
        "duration": 32,
        "start_time": "2023-04-16T19:38:14.314Z"
      },
      {
        "duration": 7,
        "start_time": "2023-04-16T19:38:15.930Z"
      },
      {
        "duration": 42,
        "start_time": "2023-04-16T19:38:42.726Z"
      },
      {
        "duration": 5,
        "start_time": "2023-04-16T19:38:58.347Z"
      },
      {
        "duration": 1335,
        "start_time": "2023-04-16T19:39:02.623Z"
      },
      {
        "duration": 287,
        "start_time": "2023-04-16T19:39:03.960Z"
      },
      {
        "duration": 11,
        "start_time": "2023-04-16T19:39:04.249Z"
      },
      {
        "duration": 23,
        "start_time": "2023-04-16T19:39:04.262Z"
      },
      {
        "duration": 24,
        "start_time": "2023-04-16T19:39:04.288Z"
      },
      {
        "duration": 37,
        "start_time": "2023-04-16T19:39:04.313Z"
      },
      {
        "duration": 7,
        "start_time": "2023-04-16T19:39:04.352Z"
      },
      {
        "duration": 52,
        "start_time": "2023-04-16T19:39:04.360Z"
      },
      {
        "duration": 21,
        "start_time": "2023-04-16T19:39:04.414Z"
      },
      {
        "duration": 19,
        "start_time": "2023-04-16T19:39:04.437Z"
      },
      {
        "duration": 68,
        "start_time": "2023-04-16T19:39:04.459Z"
      },
      {
        "duration": 18,
        "start_time": "2023-04-16T19:39:04.529Z"
      },
      {
        "duration": 35,
        "start_time": "2023-04-16T19:39:04.548Z"
      },
      {
        "duration": 50,
        "start_time": "2023-04-16T19:39:04.588Z"
      },
      {
        "duration": 28,
        "start_time": "2023-04-16T19:39:04.640Z"
      },
      {
        "duration": 49,
        "start_time": "2023-04-16T19:39:04.670Z"
      },
      {
        "duration": 12,
        "start_time": "2023-04-16T19:39:04.721Z"
      },
      {
        "duration": 44,
        "start_time": "2023-04-16T19:39:04.735Z"
      },
      {
        "duration": 422,
        "start_time": "2023-04-16T19:39:04.781Z"
      },
      {
        "duration": 59,
        "start_time": "2023-04-16T19:39:05.205Z"
      },
      {
        "duration": 10973,
        "start_time": "2023-04-16T19:39:05.267Z"
      },
      {
        "duration": 19,
        "start_time": "2023-04-16T19:39:16.242Z"
      },
      {
        "duration": 1418,
        "start_time": "2023-04-16T19:39:16.263Z"
      },
      {
        "duration": 93,
        "start_time": "2023-04-16T19:39:17.683Z"
      },
      {
        "duration": 211,
        "start_time": "2023-04-16T19:39:17.778Z"
      },
      {
        "duration": 658,
        "start_time": "2023-04-16T19:39:17.991Z"
      },
      {
        "duration": 311,
        "start_time": "2023-04-16T19:39:18.651Z"
      },
      {
        "duration": 55,
        "start_time": "2023-04-16T19:39:18.965Z"
      },
      {
        "duration": 1095,
        "start_time": "2023-04-16T19:39:19.023Z"
      },
      {
        "duration": 34,
        "start_time": "2023-04-16T19:39:20.121Z"
      },
      {
        "duration": 57,
        "start_time": "2023-04-16T19:39:20.156Z"
      },
      {
        "duration": 30,
        "start_time": "2023-04-16T19:39:20.215Z"
      },
      {
        "duration": 38,
        "start_time": "2023-04-16T19:39:20.247Z"
      },
      {
        "duration": 44,
        "start_time": "2023-04-16T19:48:24.942Z"
      },
      {
        "duration": 76,
        "start_time": "2023-04-16T19:48:26.126Z"
      },
      {
        "duration": 166,
        "start_time": "2023-04-16T19:49:53.937Z"
      },
      {
        "duration": 55,
        "start_time": "2023-04-16T19:50:12.876Z"
      },
      {
        "duration": 57,
        "start_time": "2023-04-16T19:53:39.907Z"
      },
      {
        "duration": 60,
        "start_time": "2023-04-16T19:53:46.418Z"
      },
      {
        "duration": 41,
        "start_time": "2023-04-16T19:56:12.313Z"
      },
      {
        "duration": 1354,
        "start_time": "2023-04-16T19:56:24.320Z"
      },
      {
        "duration": 401,
        "start_time": "2023-04-16T19:56:25.676Z"
      },
      {
        "duration": 14,
        "start_time": "2023-04-16T19:56:26.079Z"
      },
      {
        "duration": 35,
        "start_time": "2023-04-16T19:56:26.095Z"
      },
      {
        "duration": 5,
        "start_time": "2023-04-16T19:56:26.134Z"
      },
      {
        "duration": 82,
        "start_time": "2023-04-16T19:56:26.141Z"
      },
      {
        "duration": 9,
        "start_time": "2023-04-16T19:56:26.225Z"
      },
      {
        "duration": 32,
        "start_time": "2023-04-16T19:56:26.236Z"
      },
      {
        "duration": 53,
        "start_time": "2023-04-16T19:56:26.270Z"
      },
      {
        "duration": 22,
        "start_time": "2023-04-16T19:56:26.325Z"
      },
      {
        "duration": 86,
        "start_time": "2023-04-16T19:56:26.349Z"
      },
      {
        "duration": 16,
        "start_time": "2023-04-16T19:56:26.437Z"
      },
      {
        "duration": 7,
        "start_time": "2023-04-16T19:56:26.455Z"
      },
      {
        "duration": 59,
        "start_time": "2023-04-16T19:56:26.467Z"
      },
      {
        "duration": 29,
        "start_time": "2023-04-16T19:56:26.528Z"
      },
      {
        "duration": 33,
        "start_time": "2023-04-16T19:56:26.559Z"
      },
      {
        "duration": 13,
        "start_time": "2023-04-16T19:56:26.613Z"
      },
      {
        "duration": 17,
        "start_time": "2023-04-16T19:56:26.628Z"
      },
      {
        "duration": 443,
        "start_time": "2023-04-16T19:56:26.647Z"
      },
      {
        "duration": 55,
        "start_time": "2023-04-16T19:56:27.092Z"
      },
      {
        "duration": 10255,
        "start_time": "2023-04-16T19:56:27.149Z"
      },
      {
        "duration": 23,
        "start_time": "2023-04-16T19:56:37.406Z"
      },
      {
        "duration": 1392,
        "start_time": "2023-04-16T19:56:37.431Z"
      },
      {
        "duration": 114,
        "start_time": "2023-04-16T19:56:38.825Z"
      },
      {
        "duration": 241,
        "start_time": "2023-04-16T19:56:38.942Z"
      },
      {
        "duration": 631,
        "start_time": "2023-04-16T19:56:39.185Z"
      },
      {
        "duration": 282,
        "start_time": "2023-04-16T19:56:39.818Z"
      },
      {
        "duration": 54,
        "start_time": "2023-04-16T19:56:40.101Z"
      },
      {
        "duration": 1018,
        "start_time": "2023-04-16T19:56:40.157Z"
      },
      {
        "duration": 40,
        "start_time": "2023-04-16T19:56:41.177Z"
      },
      {
        "duration": 29,
        "start_time": "2023-04-16T19:56:41.218Z"
      },
      {
        "duration": 26,
        "start_time": "2023-04-16T19:56:41.249Z"
      },
      {
        "duration": 68,
        "start_time": "2023-04-16T19:56:41.277Z"
      },
      {
        "duration": 157,
        "start_time": "2023-04-16T19:56:41.347Z"
      },
      {
        "duration": 13,
        "start_time": "2023-04-16T19:57:05.106Z"
      },
      {
        "duration": 75,
        "start_time": "2023-04-16T19:58:21.518Z"
      },
      {
        "duration": 20,
        "start_time": "2023-04-16T20:00:05.226Z"
      },
      {
        "duration": 1312,
        "start_time": "2023-04-16T20:00:13.912Z"
      },
      {
        "duration": 279,
        "start_time": "2023-04-16T20:00:15.226Z"
      },
      {
        "duration": 14,
        "start_time": "2023-04-16T20:00:15.507Z"
      },
      {
        "duration": 21,
        "start_time": "2023-04-16T20:00:15.522Z"
      },
      {
        "duration": 4,
        "start_time": "2023-04-16T20:00:15.545Z"
      },
      {
        "duration": 81,
        "start_time": "2023-04-16T20:00:15.551Z"
      },
      {
        "duration": 6,
        "start_time": "2023-04-16T20:00:15.634Z"
      },
      {
        "duration": 25,
        "start_time": "2023-04-16T20:00:15.642Z"
      },
      {
        "duration": 43,
        "start_time": "2023-04-16T20:00:15.669Z"
      },
      {
        "duration": 32,
        "start_time": "2023-04-16T20:00:15.714Z"
      },
      {
        "duration": 51,
        "start_time": "2023-04-16T20:00:15.748Z"
      },
      {
        "duration": 14,
        "start_time": "2023-04-16T20:00:15.800Z"
      },
      {
        "duration": 9,
        "start_time": "2023-04-16T20:00:15.816Z"
      },
      {
        "duration": 39,
        "start_time": "2023-04-16T20:00:15.828Z"
      },
      {
        "duration": 27,
        "start_time": "2023-04-16T20:00:15.869Z"
      },
      {
        "duration": 35,
        "start_time": "2023-04-16T20:00:15.898Z"
      },
      {
        "duration": 9,
        "start_time": "2023-04-16T20:00:15.935Z"
      },
      {
        "duration": 12,
        "start_time": "2023-04-16T20:00:15.946Z"
      },
      {
        "duration": 417,
        "start_time": "2023-04-16T20:00:15.960Z"
      },
      {
        "duration": 50,
        "start_time": "2023-04-16T20:00:16.378Z"
      },
      {
        "duration": 10146,
        "start_time": "2023-04-16T20:00:16.429Z"
      },
      {
        "duration": 19,
        "start_time": "2023-04-16T20:00:26.577Z"
      },
      {
        "duration": 1284,
        "start_time": "2023-04-16T20:00:26.598Z"
      },
      {
        "duration": 80,
        "start_time": "2023-04-16T20:00:27.884Z"
      },
      {
        "duration": 202,
        "start_time": "2023-04-16T20:00:27.966Z"
      },
      {
        "duration": 575,
        "start_time": "2023-04-16T20:00:28.170Z"
      },
      {
        "duration": 275,
        "start_time": "2023-04-16T20:00:28.747Z"
      },
      {
        "duration": 32,
        "start_time": "2023-04-16T20:00:29.025Z"
      },
      {
        "duration": 975,
        "start_time": "2023-04-16T20:00:29.059Z"
      },
      {
        "duration": 27,
        "start_time": "2023-04-16T20:00:30.036Z"
      },
      {
        "duration": 50,
        "start_time": "2023-04-16T20:00:30.065Z"
      },
      {
        "duration": 25,
        "start_time": "2023-04-16T20:00:30.116Z"
      },
      {
        "duration": 36,
        "start_time": "2023-04-16T20:00:30.143Z"
      },
      {
        "duration": 157,
        "start_time": "2023-04-16T20:00:30.181Z"
      },
      {
        "duration": 75,
        "start_time": "2023-04-16T20:02:50.434Z"
      },
      {
        "duration": 1214,
        "start_time": "2023-04-16T20:02:56.657Z"
      },
      {
        "duration": 32,
        "start_time": "2023-04-16T20:08:52.029Z"
      },
      {
        "duration": 46,
        "start_time": "2023-04-16T20:09:06.109Z"
      },
      {
        "duration": 45,
        "start_time": "2023-04-16T20:09:22.336Z"
      },
      {
        "duration": 1320,
        "start_time": "2023-04-16T20:09:28.132Z"
      },
      {
        "duration": 344,
        "start_time": "2023-04-16T20:09:29.453Z"
      },
      {
        "duration": 19,
        "start_time": "2023-04-16T20:09:29.799Z"
      },
      {
        "duration": 38,
        "start_time": "2023-04-16T20:09:29.820Z"
      },
      {
        "duration": 4,
        "start_time": "2023-04-16T20:09:29.861Z"
      },
      {
        "duration": 56,
        "start_time": "2023-04-16T20:09:29.866Z"
      },
      {
        "duration": 8,
        "start_time": "2023-04-16T20:09:29.924Z"
      },
      {
        "duration": 26,
        "start_time": "2023-04-16T20:09:29.933Z"
      },
      {
        "duration": 19,
        "start_time": "2023-04-16T20:09:29.960Z"
      },
      {
        "duration": 11,
        "start_time": "2023-04-16T20:09:30.012Z"
      },
      {
        "duration": 82,
        "start_time": "2023-04-16T20:09:30.025Z"
      },
      {
        "duration": 15,
        "start_time": "2023-04-16T20:09:30.109Z"
      },
      {
        "duration": 31,
        "start_time": "2023-04-16T20:09:30.125Z"
      },
      {
        "duration": 67,
        "start_time": "2023-04-16T20:09:30.160Z"
      },
      {
        "duration": 31,
        "start_time": "2023-04-16T20:09:30.229Z"
      },
      {
        "duration": 25,
        "start_time": "2023-04-16T20:09:30.262Z"
      },
      {
        "duration": 28,
        "start_time": "2023-04-16T20:09:30.289Z"
      },
      {
        "duration": 53,
        "start_time": "2023-04-16T20:09:30.319Z"
      },
      {
        "duration": 421,
        "start_time": "2023-04-16T20:09:30.374Z"
      },
      {
        "duration": 49,
        "start_time": "2023-04-16T20:09:30.797Z"
      },
      {
        "duration": 9808,
        "start_time": "2023-04-16T20:09:30.848Z"
      },
      {
        "duration": 23,
        "start_time": "2023-04-16T20:09:40.658Z"
      },
      {
        "duration": 1328,
        "start_time": "2023-04-16T20:09:40.683Z"
      },
      {
        "duration": 72,
        "start_time": "2023-04-16T20:09:42.013Z"
      },
      {
        "duration": 211,
        "start_time": "2023-04-16T20:09:42.087Z"
      },
      {
        "duration": 653,
        "start_time": "2023-04-16T20:09:42.300Z"
      },
      {
        "duration": 283,
        "start_time": "2023-04-16T20:09:42.955Z"
      },
      {
        "duration": 32,
        "start_time": "2023-04-16T20:09:43.241Z"
      },
      {
        "duration": 962,
        "start_time": "2023-04-16T20:09:43.276Z"
      },
      {
        "duration": 28,
        "start_time": "2023-04-16T20:09:44.241Z"
      },
      {
        "duration": 48,
        "start_time": "2023-04-16T20:09:44.271Z"
      },
      {
        "duration": 24,
        "start_time": "2023-04-16T20:09:44.321Z"
      },
      {
        "duration": 45,
        "start_time": "2023-04-16T20:09:44.347Z"
      },
      {
        "duration": 187,
        "start_time": "2023-04-16T20:09:44.394Z"
      },
      {
        "duration": 126,
        "start_time": "2023-04-16T20:09:48.444Z"
      },
      {
        "duration": 42,
        "start_time": "2023-04-16T20:11:12.257Z"
      },
      {
        "duration": 34,
        "start_time": "2023-04-16T20:13:45.027Z"
      },
      {
        "duration": 15,
        "start_time": "2023-04-16T20:13:46.225Z"
      },
      {
        "duration": 15,
        "start_time": "2023-04-16T20:14:03.333Z"
      },
      {
        "duration": 16,
        "start_time": "2023-04-16T20:14:06.832Z"
      },
      {
        "duration": 6,
        "start_time": "2023-04-16T20:14:08.358Z"
      },
      {
        "duration": 16,
        "start_time": "2023-04-16T20:14:47.849Z"
      },
      {
        "duration": 18,
        "start_time": "2023-04-16T20:14:48.762Z"
      },
      {
        "duration": 38,
        "start_time": "2023-04-16T20:15:03.324Z"
      },
      {
        "duration": 39,
        "start_time": "2023-04-16T20:15:16.728Z"
      },
      {
        "duration": 13,
        "start_time": "2023-04-16T20:15:27.843Z"
      },
      {
        "duration": 27,
        "start_time": "2023-04-16T20:15:29.209Z"
      },
      {
        "duration": 6,
        "start_time": "2023-04-16T20:15:31.028Z"
      },
      {
        "duration": 48,
        "start_time": "2023-04-16T20:18:05.726Z"
      },
      {
        "duration": 4,
        "start_time": "2023-04-16T20:18:24.424Z"
      },
      {
        "duration": 5,
        "start_time": "2023-04-16T20:18:30.611Z"
      },
      {
        "duration": 4,
        "start_time": "2023-04-16T20:19:06.571Z"
      },
      {
        "duration": 4,
        "start_time": "2023-04-16T20:19:07.960Z"
      },
      {
        "duration": 4,
        "start_time": "2023-04-16T20:19:38.618Z"
      },
      {
        "duration": 5,
        "start_time": "2023-04-16T20:19:44.301Z"
      },
      {
        "duration": 1323,
        "start_time": "2023-04-16T20:25:53.534Z"
      },
      {
        "duration": 361,
        "start_time": "2023-04-16T20:25:54.859Z"
      },
      {
        "duration": 12,
        "start_time": "2023-04-16T20:25:55.222Z"
      },
      {
        "duration": 23,
        "start_time": "2023-04-16T20:25:55.236Z"
      },
      {
        "duration": 4,
        "start_time": "2023-04-16T20:25:55.261Z"
      },
      {
        "duration": 70,
        "start_time": "2023-04-16T20:25:55.267Z"
      },
      {
        "duration": 7,
        "start_time": "2023-04-16T20:25:55.339Z"
      },
      {
        "duration": 37,
        "start_time": "2023-04-16T20:25:55.348Z"
      },
      {
        "duration": 28,
        "start_time": "2023-04-16T20:25:55.388Z"
      },
      {
        "duration": 23,
        "start_time": "2023-04-16T20:25:55.419Z"
      },
      {
        "duration": 53,
        "start_time": "2023-04-16T20:25:55.444Z"
      },
      {
        "duration": 15,
        "start_time": "2023-04-16T20:25:55.512Z"
      },
      {
        "duration": 12,
        "start_time": "2023-04-16T20:25:55.528Z"
      },
      {
        "duration": 28,
        "start_time": "2023-04-16T20:25:55.541Z"
      },
      {
        "duration": 47,
        "start_time": "2023-04-16T20:25:55.571Z"
      },
      {
        "duration": 25,
        "start_time": "2023-04-16T20:25:55.620Z"
      },
      {
        "duration": 9,
        "start_time": "2023-04-16T20:25:55.647Z"
      },
      {
        "duration": 14,
        "start_time": "2023-04-16T20:25:55.658Z"
      },
      {
        "duration": 401,
        "start_time": "2023-04-16T20:25:55.673Z"
      },
      {
        "duration": 53,
        "start_time": "2023-04-16T20:25:56.075Z"
      },
      {
        "duration": 9848,
        "start_time": "2023-04-16T20:25:56.130Z"
      },
      {
        "duration": 19,
        "start_time": "2023-04-16T20:26:05.980Z"
      },
      {
        "duration": 1274,
        "start_time": "2023-04-16T20:26:06.001Z"
      },
      {
        "duration": 87,
        "start_time": "2023-04-16T20:26:07.277Z"
      },
      {
        "duration": 204,
        "start_time": "2023-04-16T20:26:07.365Z"
      },
      {
        "duration": 559,
        "start_time": "2023-04-16T20:26:07.571Z"
      },
      {
        "duration": 267,
        "start_time": "2023-04-16T20:26:08.131Z"
      },
      {
        "duration": 30,
        "start_time": "2023-04-16T20:26:08.411Z"
      },
      {
        "duration": 1019,
        "start_time": "2023-04-16T20:26:08.443Z"
      },
      {
        "duration": 30,
        "start_time": "2023-04-16T20:26:09.464Z"
      },
      {
        "duration": 42,
        "start_time": "2023-04-16T20:26:09.496Z"
      },
      {
        "duration": 24,
        "start_time": "2023-04-16T20:26:09.539Z"
      },
      {
        "duration": 59,
        "start_time": "2023-04-16T20:26:09.565Z"
      },
      {
        "duration": 123,
        "start_time": "2023-04-16T20:26:09.626Z"
      },
      {
        "duration": 0,
        "start_time": "2023-04-16T20:26:09.751Z"
      },
      {
        "duration": 0,
        "start_time": "2023-04-16T20:26:09.752Z"
      },
      {
        "duration": 0,
        "start_time": "2023-04-16T20:26:09.753Z"
      },
      {
        "duration": 0,
        "start_time": "2023-04-16T20:26:09.755Z"
      },
      {
        "duration": 0,
        "start_time": "2023-04-16T20:26:09.756Z"
      },
      {
        "duration": 0,
        "start_time": "2023-04-16T20:26:09.757Z"
      },
      {
        "duration": 26,
        "start_time": "2023-04-16T20:26:57.721Z"
      },
      {
        "duration": 16,
        "start_time": "2023-04-16T20:26:59.229Z"
      },
      {
        "duration": 16,
        "start_time": "2023-04-16T20:27:00.417Z"
      },
      {
        "duration": 16,
        "start_time": "2023-04-16T20:27:01.467Z"
      },
      {
        "duration": 10,
        "start_time": "2023-04-16T20:27:03.014Z"
      },
      {
        "duration": 14,
        "start_time": "2023-04-16T20:27:48.655Z"
      },
      {
        "duration": 1435,
        "start_time": "2023-04-16T20:27:53.412Z"
      },
      {
        "duration": 412,
        "start_time": "2023-04-16T20:27:54.848Z"
      },
      {
        "duration": 57,
        "start_time": "2023-04-16T20:27:55.262Z"
      },
      {
        "duration": 34,
        "start_time": "2023-04-16T20:27:55.321Z"
      },
      {
        "duration": 16,
        "start_time": "2023-04-16T20:27:55.358Z"
      },
      {
        "duration": 55,
        "start_time": "2023-04-16T20:27:55.376Z"
      },
      {
        "duration": 9,
        "start_time": "2023-04-16T20:27:55.433Z"
      },
      {
        "duration": 52,
        "start_time": "2023-04-16T20:27:55.444Z"
      },
      {
        "duration": 29,
        "start_time": "2023-04-16T20:27:55.498Z"
      },
      {
        "duration": 41,
        "start_time": "2023-04-16T20:27:55.529Z"
      },
      {
        "duration": 74,
        "start_time": "2023-04-16T20:27:55.572Z"
      },
      {
        "duration": 16,
        "start_time": "2023-04-16T20:27:55.648Z"
      },
      {
        "duration": 29,
        "start_time": "2023-04-16T20:27:55.666Z"
      },
      {
        "duration": 43,
        "start_time": "2023-04-16T20:27:55.698Z"
      },
      {
        "duration": 26,
        "start_time": "2023-04-16T20:27:55.743Z"
      },
      {
        "duration": 40,
        "start_time": "2023-04-16T20:27:55.771Z"
      },
      {
        "duration": 12,
        "start_time": "2023-04-16T20:27:55.813Z"
      },
      {
        "duration": 20,
        "start_time": "2023-04-16T20:27:55.826Z"
      },
      {
        "duration": 401,
        "start_time": "2023-04-16T20:27:55.848Z"
      },
      {
        "duration": 42,
        "start_time": "2023-04-16T20:27:56.251Z"
      },
      {
        "duration": 10002,
        "start_time": "2023-04-16T20:27:56.295Z"
      },
      {
        "duration": 27,
        "start_time": "2023-04-16T20:28:06.299Z"
      },
      {
        "duration": 1316,
        "start_time": "2023-04-16T20:28:06.328Z"
      },
      {
        "duration": 83,
        "start_time": "2023-04-16T20:28:07.646Z"
      },
      {
        "duration": 203,
        "start_time": "2023-04-16T20:28:07.730Z"
      },
      {
        "duration": 581,
        "start_time": "2023-04-16T20:28:07.936Z"
      },
      {
        "duration": 275,
        "start_time": "2023-04-16T20:28:08.519Z"
      },
      {
        "duration": 44,
        "start_time": "2023-04-16T20:28:08.796Z"
      },
      {
        "duration": 976,
        "start_time": "2023-04-16T20:28:08.842Z"
      },
      {
        "duration": 26,
        "start_time": "2023-04-16T20:28:09.819Z"
      },
      {
        "duration": 41,
        "start_time": "2023-04-16T20:28:09.847Z"
      },
      {
        "duration": 36,
        "start_time": "2023-04-16T20:28:09.890Z"
      },
      {
        "duration": 34,
        "start_time": "2023-04-16T20:28:09.928Z"
      },
      {
        "duration": 22,
        "start_time": "2023-04-16T20:28:09.963Z"
      },
      {
        "duration": 35,
        "start_time": "2023-04-16T20:28:09.987Z"
      },
      {
        "duration": 14,
        "start_time": "2023-04-16T20:28:10.024Z"
      },
      {
        "duration": 25,
        "start_time": "2023-04-16T20:28:10.040Z"
      },
      {
        "duration": 7,
        "start_time": "2023-04-16T20:28:10.067Z"
      },
      {
        "duration": 12,
        "start_time": "2023-04-16T20:28:10.076Z"
      },
      {
        "duration": 66,
        "start_time": "2023-04-16T20:28:10.090Z"
      },
      {
        "duration": 18,
        "start_time": "2023-04-16T20:30:29.555Z"
      },
      {
        "duration": 18,
        "start_time": "2023-04-16T20:30:38.121Z"
      },
      {
        "duration": 14,
        "start_time": "2023-04-16T20:30:44.732Z"
      },
      {
        "duration": 53,
        "start_time": "2023-04-16T20:31:56.534Z"
      },
      {
        "duration": 50,
        "start_time": "2023-04-16T20:32:02.063Z"
      },
      {
        "duration": 56,
        "start_time": "2023-04-16T20:32:05.833Z"
      },
      {
        "duration": 50,
        "start_time": "2023-04-16T20:32:11.517Z"
      },
      {
        "duration": 54,
        "start_time": "2023-04-16T20:32:15.613Z"
      },
      {
        "duration": 50,
        "start_time": "2023-04-16T20:32:21.552Z"
      },
      {
        "duration": 63,
        "start_time": "2023-04-16T20:32:29.532Z"
      },
      {
        "duration": 48,
        "start_time": "2023-04-16T20:32:32.362Z"
      },
      {
        "duration": 1299,
        "start_time": "2023-04-16T20:32:41.727Z"
      },
      {
        "duration": 244,
        "start_time": "2023-04-16T20:32:43.028Z"
      },
      {
        "duration": 12,
        "start_time": "2023-04-16T20:32:43.274Z"
      },
      {
        "duration": 47,
        "start_time": "2023-04-16T20:32:43.288Z"
      },
      {
        "duration": 4,
        "start_time": "2023-04-16T20:32:43.338Z"
      },
      {
        "duration": 42,
        "start_time": "2023-04-16T20:32:43.343Z"
      },
      {
        "duration": 28,
        "start_time": "2023-04-16T20:32:43.387Z"
      },
      {
        "duration": 28,
        "start_time": "2023-04-16T20:32:43.416Z"
      },
      {
        "duration": 21,
        "start_time": "2023-04-16T20:32:43.445Z"
      },
      {
        "duration": 12,
        "start_time": "2023-04-16T20:32:43.468Z"
      },
      {
        "duration": 43,
        "start_time": "2023-04-16T20:32:43.512Z"
      },
      {
        "duration": 14,
        "start_time": "2023-04-16T20:32:43.557Z"
      },
      {
        "duration": 39,
        "start_time": "2023-04-16T20:32:43.573Z"
      },
      {
        "duration": 25,
        "start_time": "2023-04-16T20:32:43.616Z"
      },
      {
        "duration": 25,
        "start_time": "2023-04-16T20:32:43.643Z"
      },
      {
        "duration": 50,
        "start_time": "2023-04-16T20:32:43.670Z"
      },
      {
        "duration": 11,
        "start_time": "2023-04-16T20:32:43.722Z"
      },
      {
        "duration": 16,
        "start_time": "2023-04-16T20:32:43.734Z"
      },
      {
        "duration": 420,
        "start_time": "2023-04-16T20:32:43.752Z"
      },
      {
        "duration": 51,
        "start_time": "2023-04-16T20:32:44.173Z"
      },
      {
        "duration": 9977,
        "start_time": "2023-04-16T20:32:44.226Z"
      },
      {
        "duration": 24,
        "start_time": "2023-04-16T20:32:54.205Z"
      },
      {
        "duration": 1368,
        "start_time": "2023-04-16T20:32:54.231Z"
      },
      {
        "duration": 87,
        "start_time": "2023-04-16T20:32:55.602Z"
      },
      {
        "duration": 221,
        "start_time": "2023-04-16T20:32:55.691Z"
      },
      {
        "duration": 592,
        "start_time": "2023-04-16T20:32:55.914Z"
      },
      {
        "duration": 290,
        "start_time": "2023-04-16T20:32:56.508Z"
      },
      {
        "duration": 37,
        "start_time": "2023-04-16T20:32:56.800Z"
      },
      {
        "duration": 997,
        "start_time": "2023-04-16T20:32:56.839Z"
      },
      {
        "duration": 29,
        "start_time": "2023-04-16T20:32:57.838Z"
      },
      {
        "duration": 48,
        "start_time": "2023-04-16T20:32:57.868Z"
      },
      {
        "duration": 24,
        "start_time": "2023-04-16T20:32:57.917Z"
      },
      {
        "duration": 45,
        "start_time": "2023-04-16T20:32:57.943Z"
      },
      {
        "duration": 24,
        "start_time": "2023-04-16T20:32:58.012Z"
      },
      {
        "duration": 16,
        "start_time": "2023-04-16T20:32:58.038Z"
      },
      {
        "duration": 23,
        "start_time": "2023-04-16T20:32:58.056Z"
      },
      {
        "duration": 35,
        "start_time": "2023-04-16T20:32:58.082Z"
      },
      {
        "duration": 16,
        "start_time": "2023-04-16T20:32:58.119Z"
      },
      {
        "duration": 15,
        "start_time": "2023-04-16T20:32:58.137Z"
      },
      {
        "duration": 58,
        "start_time": "2023-04-16T20:32:58.154Z"
      },
      {
        "duration": 28,
        "start_time": "2023-04-16T20:34:14.270Z"
      },
      {
        "duration": 21,
        "start_time": "2023-04-16T20:34:18.820Z"
      },
      {
        "duration": 3,
        "start_time": "2023-04-16T20:34:34.714Z"
      },
      {
        "duration": 4,
        "start_time": "2023-04-16T20:34:38.659Z"
      },
      {
        "duration": 4,
        "start_time": "2023-04-16T20:34:41.312Z"
      },
      {
        "duration": 4,
        "start_time": "2023-04-16T20:34:48.513Z"
      },
      {
        "duration": 4,
        "start_time": "2023-04-16T20:34:56.774Z"
      },
      {
        "duration": 4,
        "start_time": "2023-04-16T20:35:12.529Z"
      },
      {
        "duration": 4,
        "start_time": "2023-04-16T20:35:17.516Z"
      },
      {
        "duration": 4,
        "start_time": "2023-04-16T20:35:21.606Z"
      },
      {
        "duration": 1429,
        "start_time": "2023-04-16T20:54:59.509Z"
      },
      {
        "duration": 1515,
        "start_time": "2023-04-17T11:28:41.949Z"
      },
      {
        "duration": 388,
        "start_time": "2023-04-17T11:28:43.466Z"
      },
      {
        "duration": 11,
        "start_time": "2023-04-17T11:28:43.856Z"
      },
      {
        "duration": 28,
        "start_time": "2023-04-17T11:28:43.869Z"
      },
      {
        "duration": 4,
        "start_time": "2023-04-17T11:28:43.899Z"
      },
      {
        "duration": 36,
        "start_time": "2023-04-17T11:28:43.905Z"
      },
      {
        "duration": 8,
        "start_time": "2023-04-17T11:28:43.943Z"
      },
      {
        "duration": 54,
        "start_time": "2023-04-17T11:28:43.953Z"
      },
      {
        "duration": 20,
        "start_time": "2023-04-17T11:28:44.008Z"
      },
      {
        "duration": 19,
        "start_time": "2023-04-17T11:28:44.030Z"
      },
      {
        "duration": 80,
        "start_time": "2023-04-17T11:28:44.051Z"
      },
      {
        "duration": 14,
        "start_time": "2023-04-17T11:28:44.132Z"
      },
      {
        "duration": 6,
        "start_time": "2023-04-17T11:28:44.148Z"
      },
      {
        "duration": 48,
        "start_time": "2023-04-17T11:28:44.158Z"
      },
      {
        "duration": 24,
        "start_time": "2023-04-17T11:28:44.208Z"
      },
      {
        "duration": 24,
        "start_time": "2023-04-17T11:28:44.235Z"
      },
      {
        "duration": 32,
        "start_time": "2023-04-17T11:28:44.261Z"
      },
      {
        "duration": 13,
        "start_time": "2023-04-17T11:28:44.295Z"
      },
      {
        "duration": 460,
        "start_time": "2023-04-17T11:28:44.310Z"
      },
      {
        "duration": 45,
        "start_time": "2023-04-17T11:28:44.772Z"
      },
      {
        "duration": 9937,
        "start_time": "2023-04-17T11:28:44.819Z"
      },
      {
        "duration": 1335,
        "start_time": "2023-04-17T11:28:54.758Z"
      },
      {
        "duration": 73,
        "start_time": "2023-04-17T11:28:56.094Z"
      },
      {
        "duration": 221,
        "start_time": "2023-04-17T11:28:56.169Z"
      },
      {
        "duration": 626,
        "start_time": "2023-04-17T11:28:56.392Z"
      },
      {
        "duration": 284,
        "start_time": "2023-04-17T11:28:57.020Z"
      },
      {
        "duration": 30,
        "start_time": "2023-04-17T11:28:57.306Z"
      },
      {
        "duration": 1114,
        "start_time": "2023-04-17T11:28:57.338Z"
      },
      {
        "duration": 38,
        "start_time": "2023-04-17T11:28:58.455Z"
      },
      {
        "duration": 31,
        "start_time": "2023-04-17T11:28:58.495Z"
      },
      {
        "duration": 24,
        "start_time": "2023-04-17T11:28:58.527Z"
      },
      {
        "duration": 58,
        "start_time": "2023-04-17T11:28:58.553Z"
      },
      {
        "duration": 51,
        "start_time": "2023-04-17T11:28:58.613Z"
      },
      {
        "duration": 21,
        "start_time": "2023-04-17T11:28:58.666Z"
      },
      {
        "duration": 5,
        "start_time": "2023-04-17T11:28:58.689Z"
      },
      {
        "duration": 49,
        "start_time": "2023-04-17T11:30:12.628Z"
      },
      {
        "duration": 58,
        "start_time": "2023-04-17T11:30:27.824Z"
      },
      {
        "duration": 1405,
        "start_time": "2023-04-17T11:30:42.504Z"
      },
      {
        "duration": 307,
        "start_time": "2023-04-17T11:30:43.911Z"
      },
      {
        "duration": 11,
        "start_time": "2023-04-17T11:30:44.220Z"
      },
      {
        "duration": 32,
        "start_time": "2023-04-17T11:30:44.233Z"
      },
      {
        "duration": 3,
        "start_time": "2023-04-17T11:30:44.267Z"
      },
      {
        "duration": 34,
        "start_time": "2023-04-17T11:30:44.285Z"
      },
      {
        "duration": 7,
        "start_time": "2023-04-17T11:30:44.320Z"
      },
      {
        "duration": 27,
        "start_time": "2023-04-17T11:30:44.329Z"
      },
      {
        "duration": 40,
        "start_time": "2023-04-17T11:30:44.358Z"
      },
      {
        "duration": 41,
        "start_time": "2023-04-17T11:30:44.400Z"
      },
      {
        "duration": 55,
        "start_time": "2023-04-17T11:30:44.443Z"
      },
      {
        "duration": 12,
        "start_time": "2023-04-17T11:30:44.500Z"
      },
      {
        "duration": 16,
        "start_time": "2023-04-17T11:30:44.513Z"
      },
      {
        "duration": 24,
        "start_time": "2023-04-17T11:30:44.532Z"
      },
      {
        "duration": 37,
        "start_time": "2023-04-17T11:30:44.558Z"
      },
      {
        "duration": 25,
        "start_time": "2023-04-17T11:30:44.598Z"
      },
      {
        "duration": 9,
        "start_time": "2023-04-17T11:30:44.625Z"
      },
      {
        "duration": 26,
        "start_time": "2023-04-17T11:30:44.636Z"
      },
      {
        "duration": 403,
        "start_time": "2023-04-17T11:30:44.664Z"
      },
      {
        "duration": 49,
        "start_time": "2023-04-17T11:30:45.070Z"
      },
      {
        "duration": 10392,
        "start_time": "2023-04-17T11:30:45.121Z"
      },
      {
        "duration": 1394,
        "start_time": "2023-04-17T11:30:55.515Z"
      },
      {
        "duration": 93,
        "start_time": "2023-04-17T11:30:56.910Z"
      },
      {
        "duration": 258,
        "start_time": "2023-04-17T11:30:57.005Z"
      },
      {
        "duration": 664,
        "start_time": "2023-04-17T11:30:57.265Z"
      },
      {
        "duration": 305,
        "start_time": "2023-04-17T11:30:57.931Z"
      },
      {
        "duration": 52,
        "start_time": "2023-04-17T11:30:58.239Z"
      },
      {
        "duration": 1045,
        "start_time": "2023-04-17T11:30:58.294Z"
      },
      {
        "duration": 27,
        "start_time": "2023-04-17T11:30:59.341Z"
      },
      {
        "duration": 45,
        "start_time": "2023-04-17T11:30:59.370Z"
      },
      {
        "duration": 24,
        "start_time": "2023-04-17T11:30:59.417Z"
      },
      {
        "duration": 59,
        "start_time": "2023-04-17T11:30:59.442Z"
      },
      {
        "duration": 49,
        "start_time": "2023-04-17T11:30:59.503Z"
      },
      {
        "duration": 4,
        "start_time": "2023-04-17T11:30:59.553Z"
      },
      {
        "duration": 28,
        "start_time": "2023-04-17T11:30:59.558Z"
      },
      {
        "duration": 49,
        "start_time": "2023-04-17T11:31:11.076Z"
      },
      {
        "duration": 48,
        "start_time": "2023-04-17T12:06:27.633Z"
      },
      {
        "duration": 51,
        "start_time": "2023-04-17T12:06:31.540Z"
      },
      {
        "duration": 26,
        "start_time": "2023-04-17T12:15:35.189Z"
      },
      {
        "duration": 26,
        "start_time": "2023-04-17T12:16:12.351Z"
      },
      {
        "duration": 26,
        "start_time": "2023-04-17T12:16:34.766Z"
      },
      {
        "duration": 1450,
        "start_time": "2023-04-17T12:16:42.468Z"
      },
      {
        "duration": 26,
        "start_time": "2023-04-17T12:17:02.713Z"
      },
      {
        "duration": 26,
        "start_time": "2023-04-17T12:17:12.754Z"
      },
      {
        "duration": 1155,
        "start_time": "2023-04-17T12:18:47.401Z"
      },
      {
        "duration": 34,
        "start_time": "2023-04-17T12:18:59.401Z"
      },
      {
        "duration": 1345,
        "start_time": "2023-04-17T12:48:55.414Z"
      },
      {
        "duration": 467,
        "start_time": "2023-04-17T12:48:56.761Z"
      },
      {
        "duration": 12,
        "start_time": "2023-04-17T12:48:57.230Z"
      },
      {
        "duration": 29,
        "start_time": "2023-04-17T12:48:57.244Z"
      },
      {
        "duration": 14,
        "start_time": "2023-04-17T12:48:57.275Z"
      },
      {
        "duration": 39,
        "start_time": "2023-04-17T12:48:57.291Z"
      },
      {
        "duration": 8,
        "start_time": "2023-04-17T12:48:57.331Z"
      },
      {
        "duration": 59,
        "start_time": "2023-04-17T12:48:57.340Z"
      },
      {
        "duration": 20,
        "start_time": "2023-04-17T12:48:57.400Z"
      },
      {
        "duration": 15,
        "start_time": "2023-04-17T12:48:57.423Z"
      },
      {
        "duration": 65,
        "start_time": "2023-04-17T12:48:57.440Z"
      },
      {
        "duration": 13,
        "start_time": "2023-04-17T12:48:57.506Z"
      },
      {
        "duration": 32,
        "start_time": "2023-04-17T12:48:57.521Z"
      },
      {
        "duration": 26,
        "start_time": "2023-04-17T12:48:57.555Z"
      },
      {
        "duration": 32,
        "start_time": "2023-04-17T12:48:57.585Z"
      },
      {
        "duration": 26,
        "start_time": "2023-04-17T12:48:57.620Z"
      },
      {
        "duration": 11,
        "start_time": "2023-04-17T12:48:57.648Z"
      },
      {
        "duration": 43,
        "start_time": "2023-04-17T12:48:57.660Z"
      },
      {
        "duration": 390,
        "start_time": "2023-04-17T12:48:57.705Z"
      },
      {
        "duration": 46,
        "start_time": "2023-04-17T12:48:58.097Z"
      },
      {
        "duration": 10425,
        "start_time": "2023-04-17T12:48:58.145Z"
      },
      {
        "duration": 1366,
        "start_time": "2023-04-17T12:49:08.572Z"
      },
      {
        "duration": 11473,
        "start_time": "2023-04-17T12:49:09.940Z"
      },
      {
        "duration": 127,
        "start_time": "2023-04-17T12:49:21.415Z"
      },
      {
        "duration": 98,
        "start_time": "2023-04-17T12:49:21.544Z"
      },
      {
        "duration": 494,
        "start_time": "2023-04-17T12:49:21.644Z"
      },
      {
        "duration": 272,
        "start_time": "2023-04-17T12:49:22.140Z"
      },
      {
        "duration": 30,
        "start_time": "2023-04-17T12:49:22.416Z"
      },
      {
        "duration": 1061,
        "start_time": "2023-04-17T12:49:22.448Z"
      },
      {
        "duration": 26,
        "start_time": "2023-04-17T12:49:23.511Z"
      },
      {
        "duration": 28,
        "start_time": "2023-04-17T12:49:23.539Z"
      },
      {
        "duration": 24,
        "start_time": "2023-04-17T12:49:23.586Z"
      },
      {
        "duration": 35,
        "start_time": "2023-04-17T12:49:23.612Z"
      },
      {
        "duration": 49,
        "start_time": "2023-04-17T12:49:23.649Z"
      },
      {
        "duration": 27,
        "start_time": "2023-04-17T12:49:23.699Z"
      },
      {
        "duration": 35,
        "start_time": "2023-04-17T12:49:23.728Z"
      },
      {
        "duration": 585,
        "start_time": "2023-04-17T12:51:55.676Z"
      },
      {
        "duration": 1433,
        "start_time": "2023-04-17T12:51:57.638Z"
      },
      {
        "duration": 12,
        "start_time": "2023-04-17T12:51:59.073Z"
      },
      {
        "duration": 536,
        "start_time": "2023-04-17T12:51:59.611Z"
      },
      {
        "duration": 1307,
        "start_time": "2023-04-17T12:52:08.273Z"
      },
      {
        "duration": 285,
        "start_time": "2023-04-17T12:52:09.582Z"
      },
      {
        "duration": 12,
        "start_time": "2023-04-17T12:52:09.868Z"
      },
      {
        "duration": 18,
        "start_time": "2023-04-17T12:52:09.885Z"
      },
      {
        "duration": 13,
        "start_time": "2023-04-17T12:52:09.905Z"
      },
      {
        "duration": 40,
        "start_time": "2023-04-17T12:52:09.920Z"
      },
      {
        "duration": 7,
        "start_time": "2023-04-17T12:52:09.962Z"
      },
      {
        "duration": 34,
        "start_time": "2023-04-17T12:52:09.986Z"
      },
      {
        "duration": 29,
        "start_time": "2023-04-17T12:52:10.022Z"
      },
      {
        "duration": 21,
        "start_time": "2023-04-17T12:52:10.054Z"
      },
      {
        "duration": 57,
        "start_time": "2023-04-17T12:52:10.077Z"
      },
      {
        "duration": 13,
        "start_time": "2023-04-17T12:52:10.137Z"
      },
      {
        "duration": 5,
        "start_time": "2023-04-17T12:52:10.152Z"
      },
      {
        "duration": 39,
        "start_time": "2023-04-17T12:52:10.159Z"
      },
      {
        "duration": 25,
        "start_time": "2023-04-17T12:52:10.200Z"
      },
      {
        "duration": 25,
        "start_time": "2023-04-17T12:52:10.227Z"
      },
      {
        "duration": 32,
        "start_time": "2023-04-17T12:52:10.254Z"
      },
      {
        "duration": 16,
        "start_time": "2023-04-17T12:52:10.288Z"
      },
      {
        "duration": 343,
        "start_time": "2023-04-17T12:52:10.306Z"
      },
      {
        "duration": 49,
        "start_time": "2023-04-17T12:52:10.651Z"
      },
      {
        "duration": 9685,
        "start_time": "2023-04-17T12:52:10.702Z"
      },
      {
        "duration": 1294,
        "start_time": "2023-04-17T12:52:20.388Z"
      },
      {
        "duration": 1301,
        "start_time": "2023-04-17T12:52:21.685Z"
      },
      {
        "duration": 7,
        "start_time": "2023-04-17T12:52:22.988Z"
      },
      {
        "duration": 588,
        "start_time": "2023-04-17T12:52:22.997Z"
      },
      {
        "duration": 0,
        "start_time": "2023-04-17T12:52:23.587Z"
      },
      {
        "duration": 0,
        "start_time": "2023-04-17T12:52:23.588Z"
      },
      {
        "duration": 0,
        "start_time": "2023-04-17T12:52:23.589Z"
      },
      {
        "duration": 0,
        "start_time": "2023-04-17T12:52:23.590Z"
      },
      {
        "duration": 0,
        "start_time": "2023-04-17T12:52:23.591Z"
      },
      {
        "duration": 0,
        "start_time": "2023-04-17T12:52:23.592Z"
      },
      {
        "duration": 0,
        "start_time": "2023-04-17T12:52:23.593Z"
      },
      {
        "duration": 0,
        "start_time": "2023-04-17T12:52:23.594Z"
      },
      {
        "duration": 0,
        "start_time": "2023-04-17T12:52:23.595Z"
      },
      {
        "duration": 0,
        "start_time": "2023-04-17T12:52:23.596Z"
      },
      {
        "duration": 0,
        "start_time": "2023-04-17T12:52:23.597Z"
      },
      {
        "duration": 0,
        "start_time": "2023-04-17T12:52:23.598Z"
      },
      {
        "duration": 0,
        "start_time": "2023-04-17T12:52:23.599Z"
      },
      {
        "duration": 13,
        "start_time": "2023-04-17T12:53:07.530Z"
      },
      {
        "duration": 1298,
        "start_time": "2023-04-17T12:53:08.830Z"
      },
      {
        "duration": 9,
        "start_time": "2023-04-17T12:53:10.130Z"
      },
      {
        "duration": 513,
        "start_time": "2023-04-17T12:53:10.875Z"
      },
      {
        "duration": 1388,
        "start_time": "2023-04-17T12:53:19.818Z"
      },
      {
        "duration": 257,
        "start_time": "2023-04-17T12:53:21.208Z"
      },
      {
        "duration": 11,
        "start_time": "2023-04-17T12:53:21.467Z"
      },
      {
        "duration": 26,
        "start_time": "2023-04-17T12:53:21.486Z"
      },
      {
        "duration": 14,
        "start_time": "2023-04-17T12:53:21.514Z"
      },
      {
        "duration": 49,
        "start_time": "2023-04-17T12:53:21.530Z"
      },
      {
        "duration": 7,
        "start_time": "2023-04-17T12:53:21.581Z"
      },
      {
        "duration": 37,
        "start_time": "2023-04-17T12:53:21.590Z"
      },
      {
        "duration": 21,
        "start_time": "2023-04-17T12:53:21.629Z"
      },
      {
        "duration": 37,
        "start_time": "2023-04-17T12:53:21.652Z"
      },
      {
        "duration": 54,
        "start_time": "2023-04-17T12:53:21.691Z"
      },
      {
        "duration": 17,
        "start_time": "2023-04-17T12:53:21.747Z"
      },
      {
        "duration": 20,
        "start_time": "2023-04-17T12:53:21.766Z"
      },
      {
        "duration": 24,
        "start_time": "2023-04-17T12:53:21.792Z"
      },
      {
        "duration": 28,
        "start_time": "2023-04-17T12:53:21.818Z"
      },
      {
        "duration": 46,
        "start_time": "2023-04-17T12:53:21.848Z"
      },
      {
        "duration": 10,
        "start_time": "2023-04-17T12:53:21.896Z"
      },
      {
        "duration": 13,
        "start_time": "2023-04-17T12:53:21.908Z"
      },
      {
        "duration": 380,
        "start_time": "2023-04-17T12:53:21.923Z"
      },
      {
        "duration": 43,
        "start_time": "2023-04-17T12:53:22.305Z"
      },
      {
        "duration": 10157,
        "start_time": "2023-04-17T12:53:22.350Z"
      },
      {
        "duration": 2270,
        "start_time": "2023-04-17T12:53:32.509Z"
      },
      {
        "duration": 13,
        "start_time": "2023-04-17T12:53:34.781Z"
      },
      {
        "duration": 1406,
        "start_time": "2023-04-17T12:53:34.796Z"
      },
      {
        "duration": 9,
        "start_time": "2023-04-17T12:53:36.204Z"
      },
      {
        "duration": 642,
        "start_time": "2023-04-17T12:53:36.215Z"
      },
      {
        "duration": 1,
        "start_time": "2023-04-17T12:53:36.858Z"
      },
      {
        "duration": 0,
        "start_time": "2023-04-17T12:53:36.860Z"
      },
      {
        "duration": 0,
        "start_time": "2023-04-17T12:53:36.861Z"
      },
      {
        "duration": 0,
        "start_time": "2023-04-17T12:53:36.863Z"
      },
      {
        "duration": 0,
        "start_time": "2023-04-17T12:53:36.865Z"
      },
      {
        "duration": 0,
        "start_time": "2023-04-17T12:53:36.866Z"
      },
      {
        "duration": 0,
        "start_time": "2023-04-17T12:53:36.868Z"
      },
      {
        "duration": 0,
        "start_time": "2023-04-17T12:53:36.886Z"
      },
      {
        "duration": 0,
        "start_time": "2023-04-17T12:53:36.887Z"
      },
      {
        "duration": 0,
        "start_time": "2023-04-17T12:53:36.889Z"
      },
      {
        "duration": 0,
        "start_time": "2023-04-17T12:53:36.891Z"
      },
      {
        "duration": 0,
        "start_time": "2023-04-17T12:53:36.892Z"
      },
      {
        "duration": 0,
        "start_time": "2023-04-17T12:53:36.894Z"
      },
      {
        "duration": 50,
        "start_time": "2023-04-17T12:54:11.816Z"
      },
      {
        "duration": 47,
        "start_time": "2023-04-17T12:55:43.535Z"
      },
      {
        "duration": 1340,
        "start_time": "2023-04-17T12:57:46.978Z"
      },
      {
        "duration": 503,
        "start_time": "2023-04-17T12:57:48.320Z"
      },
      {
        "duration": 12,
        "start_time": "2023-04-17T12:57:48.825Z"
      },
      {
        "duration": 59,
        "start_time": "2023-04-17T12:57:48.839Z"
      },
      {
        "duration": 3,
        "start_time": "2023-04-17T12:57:48.901Z"
      },
      {
        "duration": 45,
        "start_time": "2023-04-17T12:57:48.905Z"
      },
      {
        "duration": 7,
        "start_time": "2023-04-17T12:57:48.951Z"
      },
      {
        "duration": 68,
        "start_time": "2023-04-17T12:57:48.960Z"
      },
      {
        "duration": 18,
        "start_time": "2023-04-17T12:57:49.029Z"
      },
      {
        "duration": 12,
        "start_time": "2023-04-17T12:57:49.049Z"
      },
      {
        "duration": 53,
        "start_time": "2023-04-17T12:57:49.062Z"
      },
      {
        "duration": 11,
        "start_time": "2023-04-17T12:57:49.117Z"
      },
      {
        "duration": 17,
        "start_time": "2023-04-17T12:57:49.130Z"
      },
      {
        "duration": 34,
        "start_time": "2023-04-17T12:57:49.150Z"
      },
      {
        "duration": 24,
        "start_time": "2023-04-17T12:57:49.186Z"
      },
      {
        "duration": 24,
        "start_time": "2023-04-17T12:57:49.212Z"
      },
      {
        "duration": 8,
        "start_time": "2023-04-17T12:57:49.238Z"
      },
      {
        "duration": 19,
        "start_time": "2023-04-17T12:57:49.248Z"
      },
      {
        "duration": 380,
        "start_time": "2023-04-17T12:57:49.268Z"
      },
      {
        "duration": 46,
        "start_time": "2023-04-17T12:57:49.650Z"
      },
      {
        "duration": 10501,
        "start_time": "2023-04-17T12:57:49.698Z"
      },
      {
        "duration": 1332,
        "start_time": "2023-04-17T12:58:00.201Z"
      },
      {
        "duration": 3873,
        "start_time": "2023-04-17T12:58:01.534Z"
      },
      {
        "duration": 176,
        "start_time": "2023-04-17T12:58:05.410Z"
      },
      {
        "duration": 78,
        "start_time": "2023-04-17T12:58:05.588Z"
      },
      {
        "duration": 468,
        "start_time": "2023-04-17T12:58:05.685Z"
      },
      {
        "duration": 256,
        "start_time": "2023-04-17T12:58:06.155Z"
      },
      {
        "duration": 38,
        "start_time": "2023-04-17T12:58:06.413Z"
      },
      {
        "duration": 955,
        "start_time": "2023-04-17T12:58:06.453Z"
      },
      {
        "duration": 26,
        "start_time": "2023-04-17T12:58:07.410Z"
      },
      {
        "duration": 48,
        "start_time": "2023-04-17T12:58:07.438Z"
      },
      {
        "duration": 24,
        "start_time": "2023-04-17T12:58:07.488Z"
      },
      {
        "duration": 36,
        "start_time": "2023-04-17T12:58:07.514Z"
      },
      {
        "duration": 55,
        "start_time": "2023-04-17T12:58:07.551Z"
      },
      {
        "duration": 29,
        "start_time": "2023-04-17T12:58:07.608Z"
      },
      {
        "duration": 46,
        "start_time": "2023-04-17T12:58:07.639Z"
      },
      {
        "duration": 3709,
        "start_time": "2023-04-17T13:01:07.837Z"
      },
      {
        "duration": 3514,
        "start_time": "2023-04-17T13:01:21.911Z"
      },
      {
        "duration": 1036,
        "start_time": "2023-04-17T13:02:08.375Z"
      },
      {
        "duration": 44,
        "start_time": "2023-04-17T13:03:03.940Z"
      },
      {
        "duration": 1334,
        "start_time": "2023-04-17T13:03:28.879Z"
      },
      {
        "duration": 1533,
        "start_time": "2023-04-17T13:06:09.086Z"
      },
      {
        "duration": 0,
        "start_time": "2023-04-17T13:06:10.621Z"
      },
      {
        "duration": 1554,
        "start_time": "2023-04-17T13:06:11.215Z"
      },
      {
        "duration": 17,
        "start_time": "2023-04-17T13:06:12.966Z"
      },
      {
        "duration": 1371,
        "start_time": "2023-04-17T13:06:31.551Z"
      },
      {
        "duration": 323,
        "start_time": "2023-04-17T13:06:32.924Z"
      },
      {
        "duration": 11,
        "start_time": "2023-04-17T13:06:33.248Z"
      },
      {
        "duration": 31,
        "start_time": "2023-04-17T13:06:33.262Z"
      },
      {
        "duration": 4,
        "start_time": "2023-04-17T13:06:33.295Z"
      },
      {
        "duration": 38,
        "start_time": "2023-04-17T13:06:33.301Z"
      },
      {
        "duration": 8,
        "start_time": "2023-04-17T13:06:33.342Z"
      },
      {
        "duration": 55,
        "start_time": "2023-04-17T13:06:33.352Z"
      },
      {
        "duration": 23,
        "start_time": "2023-04-17T13:06:33.409Z"
      },
      {
        "duration": 15,
        "start_time": "2023-04-17T13:06:33.435Z"
      },
      {
        "duration": 60,
        "start_time": "2023-04-17T13:06:33.452Z"
      },
      {
        "duration": 14,
        "start_time": "2023-04-17T13:06:33.513Z"
      },
      {
        "duration": 5,
        "start_time": "2023-04-17T13:06:33.529Z"
      },
      {
        "duration": 33,
        "start_time": "2023-04-17T13:06:33.535Z"
      },
      {
        "duration": 39,
        "start_time": "2023-04-17T13:06:33.570Z"
      },
      {
        "duration": 26,
        "start_time": "2023-04-17T13:06:33.611Z"
      },
      {
        "duration": 10,
        "start_time": "2023-04-17T13:06:33.638Z"
      },
      {
        "duration": 44,
        "start_time": "2023-04-17T13:06:33.649Z"
      },
      {
        "duration": 365,
        "start_time": "2023-04-17T13:06:33.695Z"
      },
      {
        "duration": 49,
        "start_time": "2023-04-17T13:06:34.062Z"
      },
      {
        "duration": 10055,
        "start_time": "2023-04-17T13:06:34.113Z"
      },
      {
        "duration": 1320,
        "start_time": "2023-04-17T13:06:44.170Z"
      },
      {
        "duration": 1513,
        "start_time": "2023-04-17T13:06:45.492Z"
      },
      {
        "duration": 0,
        "start_time": "2023-04-17T13:06:47.008Z"
      },
      {
        "duration": 0,
        "start_time": "2023-04-17T13:06:47.009Z"
      },
      {
        "duration": 0,
        "start_time": "2023-04-17T13:06:47.010Z"
      },
      {
        "duration": 0,
        "start_time": "2023-04-17T13:06:47.011Z"
      },
      {
        "duration": 0,
        "start_time": "2023-04-17T13:06:47.013Z"
      },
      {
        "duration": 0,
        "start_time": "2023-04-17T13:06:47.014Z"
      },
      {
        "duration": 0,
        "start_time": "2023-04-17T13:06:47.015Z"
      },
      {
        "duration": 0,
        "start_time": "2023-04-17T13:06:47.016Z"
      },
      {
        "duration": 0,
        "start_time": "2023-04-17T13:06:47.017Z"
      },
      {
        "duration": 0,
        "start_time": "2023-04-17T13:06:47.019Z"
      },
      {
        "duration": 0,
        "start_time": "2023-04-17T13:06:47.020Z"
      },
      {
        "duration": 0,
        "start_time": "2023-04-17T13:06:47.022Z"
      },
      {
        "duration": 0,
        "start_time": "2023-04-17T13:06:47.024Z"
      },
      {
        "duration": 0,
        "start_time": "2023-04-17T13:06:47.025Z"
      },
      {
        "duration": 0,
        "start_time": "2023-04-17T13:06:47.027Z"
      },
      {
        "duration": 13,
        "start_time": "2023-04-17T13:07:50.878Z"
      },
      {
        "duration": 367,
        "start_time": "2023-04-17T13:10:28.633Z"
      },
      {
        "duration": 1364,
        "start_time": "2023-04-17T13:12:51.620Z"
      },
      {
        "duration": 286,
        "start_time": "2023-04-17T13:12:52.987Z"
      },
      {
        "duration": 18,
        "start_time": "2023-04-17T13:12:53.275Z"
      },
      {
        "duration": 31,
        "start_time": "2023-04-17T13:12:53.295Z"
      },
      {
        "duration": 24,
        "start_time": "2023-04-17T13:12:53.328Z"
      },
      {
        "duration": 59,
        "start_time": "2023-04-17T13:12:53.354Z"
      },
      {
        "duration": 12,
        "start_time": "2023-04-17T13:12:53.423Z"
      },
      {
        "duration": 30,
        "start_time": "2023-04-17T13:12:53.437Z"
      },
      {
        "duration": 24,
        "start_time": "2023-04-17T13:12:53.468Z"
      },
      {
        "duration": 18,
        "start_time": "2023-04-17T13:12:53.494Z"
      },
      {
        "duration": 43,
        "start_time": "2023-04-17T13:12:53.513Z"
      },
      {
        "duration": 32,
        "start_time": "2023-04-17T13:12:53.558Z"
      },
      {
        "duration": 16,
        "start_time": "2023-04-17T13:12:53.592Z"
      },
      {
        "duration": 33,
        "start_time": "2023-04-17T13:12:53.613Z"
      },
      {
        "duration": 40,
        "start_time": "2023-04-17T13:12:53.649Z"
      },
      {
        "duration": 25,
        "start_time": "2023-04-17T13:12:53.691Z"
      },
      {
        "duration": 9,
        "start_time": "2023-04-17T13:12:53.719Z"
      },
      {
        "duration": 15,
        "start_time": "2023-04-17T13:12:53.730Z"
      },
      {
        "duration": 398,
        "start_time": "2023-04-17T13:12:53.747Z"
      },
      {
        "duration": 71,
        "start_time": "2023-04-17T13:12:54.147Z"
      },
      {
        "duration": 10337,
        "start_time": "2023-04-17T13:12:54.220Z"
      },
      {
        "duration": 1378,
        "start_time": "2023-04-17T13:13:04.559Z"
      },
      {
        "duration": 95,
        "start_time": "2023-04-17T13:13:05.940Z"
      },
      {
        "duration": 225,
        "start_time": "2023-04-17T13:13:06.037Z"
      },
      {
        "duration": 208,
        "start_time": "2023-04-17T13:13:06.264Z"
      },
      {
        "duration": 0,
        "start_time": "2023-04-17T13:13:06.473Z"
      },
      {
        "duration": 0,
        "start_time": "2023-04-17T13:13:06.485Z"
      },
      {
        "duration": 0,
        "start_time": "2023-04-17T13:13:06.487Z"
      },
      {
        "duration": 0,
        "start_time": "2023-04-17T13:13:06.488Z"
      },
      {
        "duration": 0,
        "start_time": "2023-04-17T13:13:06.489Z"
      },
      {
        "duration": 0,
        "start_time": "2023-04-17T13:13:06.490Z"
      },
      {
        "duration": 0,
        "start_time": "2023-04-17T13:13:06.491Z"
      },
      {
        "duration": 0,
        "start_time": "2023-04-17T13:13:06.492Z"
      },
      {
        "duration": 0,
        "start_time": "2023-04-17T13:13:06.494Z"
      },
      {
        "duration": 0,
        "start_time": "2023-04-17T13:13:06.495Z"
      },
      {
        "duration": 0,
        "start_time": "2023-04-17T13:13:06.496Z"
      },
      {
        "duration": 104,
        "start_time": "2023-04-17T13:14:22.953Z"
      },
      {
        "duration": 90,
        "start_time": "2023-04-17T13:14:23.947Z"
      },
      {
        "duration": 1391,
        "start_time": "2023-04-17T13:14:47.340Z"
      },
      {
        "duration": 1393,
        "start_time": "2023-04-17T13:14:55.602Z"
      },
      {
        "duration": 73,
        "start_time": "2023-04-17T13:15:12.374Z"
      },
      {
        "duration": 64,
        "start_time": "2023-04-17T13:15:13.747Z"
      },
      {
        "duration": 1325,
        "start_time": "2023-04-17T13:15:29.630Z"
      },
      {
        "duration": 321,
        "start_time": "2023-04-17T13:15:30.957Z"
      },
      {
        "duration": 15,
        "start_time": "2023-04-17T13:15:31.279Z"
      },
      {
        "duration": 46,
        "start_time": "2023-04-17T13:15:31.295Z"
      },
      {
        "duration": 29,
        "start_time": "2023-04-17T13:15:31.345Z"
      },
      {
        "duration": 47,
        "start_time": "2023-04-17T13:15:31.376Z"
      },
      {
        "duration": 8,
        "start_time": "2023-04-17T13:15:31.424Z"
      },
      {
        "duration": 62,
        "start_time": "2023-04-17T13:15:31.433Z"
      },
      {
        "duration": 29,
        "start_time": "2023-04-17T13:15:31.497Z"
      },
      {
        "duration": 42,
        "start_time": "2023-04-17T13:15:31.528Z"
      },
      {
        "duration": 78,
        "start_time": "2023-04-17T13:15:31.572Z"
      },
      {
        "duration": 27,
        "start_time": "2023-04-17T13:15:31.651Z"
      },
      {
        "duration": 30,
        "start_time": "2023-04-17T13:15:31.680Z"
      },
      {
        "duration": 46,
        "start_time": "2023-04-17T13:15:31.714Z"
      },
      {
        "duration": 26,
        "start_time": "2023-04-17T13:15:31.762Z"
      },
      {
        "duration": 26,
        "start_time": "2023-04-17T13:15:31.790Z"
      },
      {
        "duration": 9,
        "start_time": "2023-04-17T13:15:31.818Z"
      },
      {
        "duration": 25,
        "start_time": "2023-04-17T13:15:31.829Z"
      },
      {
        "duration": 386,
        "start_time": "2023-04-17T13:15:31.855Z"
      },
      {
        "duration": 52,
        "start_time": "2023-04-17T13:15:32.243Z"
      },
      {
        "duration": 11677,
        "start_time": "2023-04-17T13:15:32.297Z"
      },
      {
        "duration": 1292,
        "start_time": "2023-04-17T13:15:43.976Z"
      },
      {
        "duration": 75,
        "start_time": "2023-04-17T13:15:45.270Z"
      },
      {
        "duration": 245,
        "start_time": "2023-04-17T13:15:45.347Z"
      },
      {
        "duration": 535,
        "start_time": "2023-04-17T13:15:45.594Z"
      },
      {
        "duration": 257,
        "start_time": "2023-04-17T13:15:46.131Z"
      },
      {
        "duration": 29,
        "start_time": "2023-04-17T13:15:46.389Z"
      },
      {
        "duration": 992,
        "start_time": "2023-04-17T13:15:46.420Z"
      },
      {
        "duration": 27,
        "start_time": "2023-04-17T13:15:47.413Z"
      },
      {
        "duration": 44,
        "start_time": "2023-04-17T13:15:47.442Z"
      },
      {
        "duration": 25,
        "start_time": "2023-04-17T13:15:47.488Z"
      },
      {
        "duration": 36,
        "start_time": "2023-04-17T13:15:47.515Z"
      },
      {
        "duration": 52,
        "start_time": "2023-04-17T13:15:47.553Z"
      },
      {
        "duration": 27,
        "start_time": "2023-04-17T13:15:47.606Z"
      },
      {
        "duration": 50,
        "start_time": "2023-04-17T13:15:47.635Z"
      },
      {
        "duration": 1243,
        "start_time": "2023-04-17T13:15:59.006Z"
      },
      {
        "duration": 83,
        "start_time": "2023-04-17T13:16:05.006Z"
      },
      {
        "duration": 70,
        "start_time": "2023-04-17T13:16:06.635Z"
      },
      {
        "duration": 228,
        "start_time": "2023-04-17T13:16:28.408Z"
      },
      {
        "duration": 4525,
        "start_time": "2023-04-17T13:20:02.558Z"
      },
      {
        "duration": 10,
        "start_time": "2023-04-17T13:35:08.751Z"
      },
      {
        "duration": 1341,
        "start_time": "2023-04-17T13:35:18.683Z"
      },
      {
        "duration": 290,
        "start_time": "2023-04-17T13:35:20.027Z"
      },
      {
        "duration": 17,
        "start_time": "2023-04-17T13:35:20.319Z"
      },
      {
        "duration": 22,
        "start_time": "2023-04-17T13:35:20.338Z"
      },
      {
        "duration": 22,
        "start_time": "2023-04-17T13:35:20.363Z"
      },
      {
        "duration": 48,
        "start_time": "2023-04-17T13:35:20.387Z"
      },
      {
        "duration": 8,
        "start_time": "2023-04-17T13:35:20.437Z"
      },
      {
        "duration": 40,
        "start_time": "2023-04-17T13:35:20.446Z"
      },
      {
        "duration": 18,
        "start_time": "2023-04-17T13:35:20.488Z"
      },
      {
        "duration": 23,
        "start_time": "2023-04-17T13:35:20.508Z"
      },
      {
        "duration": 47,
        "start_time": "2023-04-17T13:35:20.533Z"
      },
      {
        "duration": 13,
        "start_time": "2023-04-17T13:35:20.586Z"
      },
      {
        "duration": 6,
        "start_time": "2023-04-17T13:35:20.600Z"
      },
      {
        "duration": 24,
        "start_time": "2023-04-17T13:35:20.609Z"
      },
      {
        "duration": 51,
        "start_time": "2023-04-17T13:35:20.634Z"
      },
      {
        "duration": 25,
        "start_time": "2023-04-17T13:35:20.687Z"
      },
      {
        "duration": 9,
        "start_time": "2023-04-17T13:35:20.714Z"
      },
      {
        "duration": 18,
        "start_time": "2023-04-17T13:35:20.724Z"
      },
      {
        "duration": 386,
        "start_time": "2023-04-17T13:35:20.744Z"
      },
      {
        "duration": 39,
        "start_time": "2023-04-17T13:35:21.132Z"
      },
      {
        "duration": 10411,
        "start_time": "2023-04-17T13:35:21.173Z"
      },
      {
        "duration": 1358,
        "start_time": "2023-04-17T13:35:31.586Z"
      },
      {
        "duration": 4867,
        "start_time": "2023-04-17T13:35:32.946Z"
      },
      {
        "duration": 612,
        "start_time": "2023-04-17T13:35:37.815Z"
      },
      {
        "duration": 285,
        "start_time": "2023-04-17T13:35:38.429Z"
      },
      {
        "duration": 28,
        "start_time": "2023-04-17T13:35:38.716Z"
      },
      {
        "duration": 955,
        "start_time": "2023-04-17T13:35:38.746Z"
      },
      {
        "duration": 27,
        "start_time": "2023-04-17T13:35:39.702Z"
      },
      {
        "duration": 28,
        "start_time": "2023-04-17T13:35:39.730Z"
      },
      {
        "duration": 48,
        "start_time": "2023-04-17T13:35:39.759Z"
      },
      {
        "duration": 44,
        "start_time": "2023-04-17T13:35:39.809Z"
      },
      {
        "duration": 48,
        "start_time": "2023-04-17T13:35:39.855Z"
      },
      {
        "duration": 28,
        "start_time": "2023-04-17T13:35:39.905Z"
      },
      {
        "duration": 58,
        "start_time": "2023-04-17T13:35:39.935Z"
      },
      {
        "duration": 132,
        "start_time": "2023-04-17T13:35:39.995Z"
      },
      {
        "duration": 13,
        "start_time": "2023-04-17T13:36:29.645Z"
      },
      {
        "duration": 14,
        "start_time": "2023-04-17T13:36:57.529Z"
      },
      {
        "duration": 9,
        "start_time": "2023-04-17T13:37:44.518Z"
      },
      {
        "duration": 13,
        "start_time": "2023-04-17T13:37:49.550Z"
      },
      {
        "duration": 11,
        "start_time": "2023-04-17T13:38:09.454Z"
      },
      {
        "duration": 1370,
        "start_time": "2023-04-17T13:38:16.949Z"
      },
      {
        "duration": 348,
        "start_time": "2023-04-17T13:38:18.322Z"
      },
      {
        "duration": 20,
        "start_time": "2023-04-17T13:38:18.672Z"
      },
      {
        "duration": 26,
        "start_time": "2023-04-17T13:38:18.695Z"
      },
      {
        "duration": 4,
        "start_time": "2023-04-17T13:38:18.723Z"
      },
      {
        "duration": 67,
        "start_time": "2023-04-17T13:38:18.729Z"
      },
      {
        "duration": 10,
        "start_time": "2023-04-17T13:38:18.798Z"
      },
      {
        "duration": 23,
        "start_time": "2023-04-17T13:38:18.810Z"
      },
      {
        "duration": 18,
        "start_time": "2023-04-17T13:38:18.835Z"
      },
      {
        "duration": 35,
        "start_time": "2023-04-17T13:38:18.856Z"
      },
      {
        "duration": 39,
        "start_time": "2023-04-17T13:38:18.893Z"
      },
      {
        "duration": 13,
        "start_time": "2023-04-17T13:38:18.934Z"
      },
      {
        "duration": 5,
        "start_time": "2023-04-17T13:38:18.949Z"
      },
      {
        "duration": 44,
        "start_time": "2023-04-17T13:38:18.956Z"
      },
      {
        "duration": 25,
        "start_time": "2023-04-17T13:38:19.002Z"
      },
      {
        "duration": 23,
        "start_time": "2023-04-17T13:38:19.029Z"
      },
      {
        "duration": 31,
        "start_time": "2023-04-17T13:38:19.054Z"
      },
      {
        "duration": 14,
        "start_time": "2023-04-17T13:38:19.087Z"
      },
      {
        "duration": 334,
        "start_time": "2023-04-17T13:38:19.102Z"
      },
      {
        "duration": 52,
        "start_time": "2023-04-17T13:38:19.438Z"
      },
      {
        "duration": 9793,
        "start_time": "2023-04-17T13:38:19.492Z"
      },
      {
        "duration": 1474,
        "start_time": "2023-04-17T13:38:29.287Z"
      },
      {
        "duration": 4762,
        "start_time": "2023-04-17T13:38:30.763Z"
      },
      {
        "duration": 611,
        "start_time": "2023-04-17T13:38:35.526Z"
      },
      {
        "duration": 324,
        "start_time": "2023-04-17T13:38:36.140Z"
      },
      {
        "duration": 50,
        "start_time": "2023-04-17T13:38:36.467Z"
      },
      {
        "duration": 991,
        "start_time": "2023-04-17T13:38:36.520Z"
      },
      {
        "duration": 29,
        "start_time": "2023-04-17T13:38:37.514Z"
      },
      {
        "duration": 48,
        "start_time": "2023-04-17T13:38:37.544Z"
      },
      {
        "duration": 26,
        "start_time": "2023-04-17T13:38:37.594Z"
      },
      {
        "duration": 37,
        "start_time": "2023-04-17T13:38:37.621Z"
      },
      {
        "duration": 28,
        "start_time": "2023-04-17T13:38:37.686Z"
      },
      {
        "duration": 28,
        "start_time": "2023-04-17T13:38:37.716Z"
      },
      {
        "duration": 57,
        "start_time": "2023-04-17T13:38:37.745Z"
      },
      {
        "duration": 160,
        "start_time": "2023-04-17T13:38:37.804Z"
      },
      {
        "duration": 18,
        "start_time": "2023-04-17T13:38:59.484Z"
      },
      {
        "duration": 1261,
        "start_time": "2023-04-17T13:39:08.941Z"
      },
      {
        "duration": 335,
        "start_time": "2023-04-17T13:39:10.203Z"
      },
      {
        "duration": 14,
        "start_time": "2023-04-17T13:39:10.540Z"
      },
      {
        "duration": 35,
        "start_time": "2023-04-17T13:39:10.556Z"
      },
      {
        "duration": 7,
        "start_time": "2023-04-17T13:39:10.595Z"
      },
      {
        "duration": 36,
        "start_time": "2023-04-17T13:39:10.604Z"
      },
      {
        "duration": 7,
        "start_time": "2023-04-17T13:39:10.642Z"
      },
      {
        "duration": 46,
        "start_time": "2023-04-17T13:39:10.651Z"
      },
      {
        "duration": 19,
        "start_time": "2023-04-17T13:39:10.698Z"
      },
      {
        "duration": 12,
        "start_time": "2023-04-17T13:39:10.718Z"
      },
      {
        "duration": 66,
        "start_time": "2023-04-17T13:39:10.732Z"
      },
      {
        "duration": 13,
        "start_time": "2023-04-17T13:39:10.800Z"
      },
      {
        "duration": 18,
        "start_time": "2023-04-17T13:39:10.815Z"
      },
      {
        "duration": 31,
        "start_time": "2023-04-17T13:39:10.837Z"
      },
      {
        "duration": 33,
        "start_time": "2023-04-17T13:39:10.870Z"
      },
      {
        "duration": 26,
        "start_time": "2023-04-17T13:39:10.905Z"
      },
      {
        "duration": 9,
        "start_time": "2023-04-17T13:39:10.933Z"
      },
      {
        "duration": 31,
        "start_time": "2023-04-17T13:39:10.944Z"
      },
      {
        "duration": 351,
        "start_time": "2023-04-17T13:39:10.977Z"
      },
      {
        "duration": 42,
        "start_time": "2023-04-17T13:39:11.330Z"
      },
      {
        "duration": 9419,
        "start_time": "2023-04-17T13:39:11.373Z"
      },
      {
        "duration": 1274,
        "start_time": "2023-04-17T13:39:20.794Z"
      },
      {
        "duration": 4611,
        "start_time": "2023-04-17T13:39:22.070Z"
      },
      {
        "duration": 563,
        "start_time": "2023-04-17T13:39:26.683Z"
      },
      {
        "duration": 280,
        "start_time": "2023-04-17T13:39:27.248Z"
      },
      {
        "duration": 30,
        "start_time": "2023-04-17T13:39:27.529Z"
      },
      {
        "duration": 1004,
        "start_time": "2023-04-17T13:39:27.561Z"
      },
      {
        "duration": 38,
        "start_time": "2023-04-17T13:39:28.567Z"
      },
      {
        "duration": 29,
        "start_time": "2023-04-17T13:39:28.606Z"
      },
      {
        "duration": 24,
        "start_time": "2023-04-17T13:39:28.637Z"
      },
      {
        "duration": 34,
        "start_time": "2023-04-17T13:39:28.686Z"
      },
      {
        "duration": 25,
        "start_time": "2023-04-17T13:39:28.722Z"
      },
      {
        "duration": 51,
        "start_time": "2023-04-17T13:39:28.749Z"
      },
      {
        "duration": 31,
        "start_time": "2023-04-17T13:39:28.801Z"
      },
      {
        "duration": 138,
        "start_time": "2023-04-17T13:39:28.834Z"
      },
      {
        "duration": 20,
        "start_time": "2023-04-17T13:39:58.248Z"
      },
      {
        "duration": 1168,
        "start_time": "2023-04-17T13:41:10.599Z"
      },
      {
        "duration": 993,
        "start_time": "2023-04-17T13:41:13.749Z"
      },
      {
        "duration": 15,
        "start_time": "2023-04-17T13:42:42.406Z"
      },
      {
        "duration": 15,
        "start_time": "2023-04-17T13:45:23.068Z"
      },
      {
        "duration": 26,
        "start_time": "2023-04-17T13:45:43.836Z"
      },
      {
        "duration": 14,
        "start_time": "2023-04-17T13:46:20.011Z"
      },
      {
        "duration": 1365,
        "start_time": "2023-04-17T13:48:38.356Z"
      },
      {
        "duration": 299,
        "start_time": "2023-04-17T13:48:39.723Z"
      },
      {
        "duration": 11,
        "start_time": "2023-04-17T13:48:40.023Z"
      },
      {
        "duration": 22,
        "start_time": "2023-04-17T13:48:40.035Z"
      },
      {
        "duration": 3,
        "start_time": "2023-04-17T13:48:40.060Z"
      },
      {
        "duration": 51,
        "start_time": "2023-04-17T13:48:40.084Z"
      },
      {
        "duration": 7,
        "start_time": "2023-04-17T13:48:40.137Z"
      },
      {
        "duration": 39,
        "start_time": "2023-04-17T13:48:40.146Z"
      },
      {
        "duration": 27,
        "start_time": "2023-04-17T13:48:40.192Z"
      },
      {
        "duration": 12,
        "start_time": "2023-04-17T13:48:40.221Z"
      },
      {
        "duration": 90,
        "start_time": "2023-04-17T13:48:40.235Z"
      },
      {
        "duration": 12,
        "start_time": "2023-04-17T13:48:40.328Z"
      },
      {
        "duration": 5,
        "start_time": "2023-04-17T13:48:40.342Z"
      },
      {
        "duration": 52,
        "start_time": "2023-04-17T13:48:40.349Z"
      },
      {
        "duration": 35,
        "start_time": "2023-04-17T13:48:40.404Z"
      },
      {
        "duration": 29,
        "start_time": "2023-04-17T13:48:40.441Z"
      },
      {
        "duration": 28,
        "start_time": "2023-04-17T13:48:40.472Z"
      },
      {
        "duration": 30,
        "start_time": "2023-04-17T13:48:40.505Z"
      },
      {
        "duration": 414,
        "start_time": "2023-04-17T13:48:40.537Z"
      },
      {
        "duration": 57,
        "start_time": "2023-04-17T13:48:40.953Z"
      },
      {
        "duration": 9990,
        "start_time": "2023-04-17T13:48:41.012Z"
      },
      {
        "duration": 1353,
        "start_time": "2023-04-17T13:48:51.005Z"
      },
      {
        "duration": 4781,
        "start_time": "2023-04-17T13:48:52.360Z"
      },
      {
        "duration": 585,
        "start_time": "2023-04-17T13:48:57.143Z"
      },
      {
        "duration": 297,
        "start_time": "2023-04-17T13:48:57.730Z"
      },
      {
        "duration": 29,
        "start_time": "2023-04-17T13:48:58.029Z"
      },
      {
        "duration": 1064,
        "start_time": "2023-04-17T13:48:58.061Z"
      },
      {
        "duration": 27,
        "start_time": "2023-04-17T13:48:59.126Z"
      },
      {
        "duration": 44,
        "start_time": "2023-04-17T13:48:59.155Z"
      },
      {
        "duration": 21,
        "start_time": "2023-04-17T13:48:59.204Z"
      },
      {
        "duration": 34,
        "start_time": "2023-04-17T13:48:59.226Z"
      },
      {
        "duration": 47,
        "start_time": "2023-04-17T13:48:59.262Z"
      },
      {
        "duration": 26,
        "start_time": "2023-04-17T13:48:59.311Z"
      },
      {
        "duration": 55,
        "start_time": "2023-04-17T13:48:59.338Z"
      },
      {
        "duration": 34,
        "start_time": "2023-04-17T13:48:59.399Z"
      },
      {
        "duration": 4766,
        "start_time": "2023-04-17T14:32:39.016Z"
      },
      {
        "duration": 5004,
        "start_time": "2023-04-17T14:32:54.168Z"
      },
      {
        "duration": 318,
        "start_time": "2023-04-17T14:47:45.843Z"
      },
      {
        "duration": 449,
        "start_time": "2023-04-17T14:48:13.246Z"
      },
      {
        "duration": 84,
        "start_time": "2023-04-17T14:54:10.616Z"
      },
      {
        "duration": 113,
        "start_time": "2023-04-17T14:54:57.902Z"
      },
      {
        "duration": 146,
        "start_time": "2023-04-17T14:56:11.717Z"
      },
      {
        "duration": 164,
        "start_time": "2023-04-17T14:56:36.392Z"
      },
      {
        "duration": 136,
        "start_time": "2023-04-17T15:03:16.527Z"
      },
      {
        "duration": 259,
        "start_time": "2023-04-17T15:03:52.584Z"
      },
      {
        "duration": 173,
        "start_time": "2023-04-17T15:06:19.143Z"
      },
      {
        "duration": 363,
        "start_time": "2023-04-17T15:07:29.886Z"
      },
      {
        "duration": 248,
        "start_time": "2023-04-17T15:07:40.180Z"
      },
      {
        "duration": 163,
        "start_time": "2023-04-17T15:09:02.892Z"
      },
      {
        "duration": 5,
        "start_time": "2023-04-17T15:47:06.947Z"
      },
      {
        "duration": 4,
        "start_time": "2023-04-17T15:47:11.042Z"
      },
      {
        "duration": 76,
        "start_time": "2023-04-17T15:50:11.100Z"
      },
      {
        "duration": 1012,
        "start_time": "2023-04-17T15:50:24.587Z"
      },
      {
        "duration": 26,
        "start_time": "2023-04-17T15:50:41.151Z"
      },
      {
        "duration": 35,
        "start_time": "2023-04-17T15:51:04.087Z"
      },
      {
        "duration": 4772,
        "start_time": "2023-04-17T15:53:33.372Z"
      },
      {
        "duration": 1264,
        "start_time": "2023-04-17T15:53:46.803Z"
      },
      {
        "duration": 286,
        "start_time": "2023-04-17T15:53:48.069Z"
      },
      {
        "duration": 10,
        "start_time": "2023-04-17T15:53:48.357Z"
      },
      {
        "duration": 28,
        "start_time": "2023-04-17T15:53:48.368Z"
      },
      {
        "duration": 3,
        "start_time": "2023-04-17T15:53:48.398Z"
      },
      {
        "duration": 44,
        "start_time": "2023-04-17T15:53:48.403Z"
      },
      {
        "duration": 7,
        "start_time": "2023-04-17T15:53:48.449Z"
      },
      {
        "duration": 43,
        "start_time": "2023-04-17T15:53:48.458Z"
      },
      {
        "duration": 19,
        "start_time": "2023-04-17T15:53:48.503Z"
      },
      {
        "duration": 13,
        "start_time": "2023-04-17T15:53:48.524Z"
      },
      {
        "duration": 60,
        "start_time": "2023-04-17T15:53:48.538Z"
      },
      {
        "duration": 12,
        "start_time": "2023-04-17T15:53:48.600Z"
      },
      {
        "duration": 5,
        "start_time": "2023-04-17T15:53:48.614Z"
      },
      {
        "duration": 22,
        "start_time": "2023-04-17T15:53:48.623Z"
      },
      {
        "duration": 61,
        "start_time": "2023-04-17T15:53:48.647Z"
      },
      {
        "duration": 24,
        "start_time": "2023-04-17T15:53:48.710Z"
      },
      {
        "duration": 11,
        "start_time": "2023-04-17T15:53:48.735Z"
      },
      {
        "duration": 39,
        "start_time": "2023-04-17T15:53:48.747Z"
      },
      {
        "duration": 340,
        "start_time": "2023-04-17T15:53:48.788Z"
      },
      {
        "duration": 38,
        "start_time": "2023-04-17T15:53:49.130Z"
      },
      {
        "duration": 9523,
        "start_time": "2023-04-17T15:53:49.170Z"
      },
      {
        "duration": 1292,
        "start_time": "2023-04-17T15:53:58.695Z"
      },
      {
        "duration": 4591,
        "start_time": "2023-04-17T15:53:59.989Z"
      },
      {
        "duration": 542,
        "start_time": "2023-04-17T15:54:04.581Z"
      },
      {
        "duration": 257,
        "start_time": "2023-04-17T15:54:05.125Z"
      },
      {
        "duration": 28,
        "start_time": "2023-04-17T15:54:05.384Z"
      },
      {
        "duration": 35,
        "start_time": "2023-04-17T15:54:05.414Z"
      },
      {
        "duration": 946,
        "start_time": "2023-04-17T15:54:05.451Z"
      },
      {
        "duration": 25,
        "start_time": "2023-04-17T15:54:06.399Z"
      },
      {
        "duration": 29,
        "start_time": "2023-04-17T15:54:06.425Z"
      },
      {
        "duration": 173,
        "start_time": "2023-04-17T15:54:06.456Z"
      },
      {
        "duration": 24,
        "start_time": "2023-04-17T15:54:06.631Z"
      },
      {
        "duration": 147,
        "start_time": "2023-04-17T15:54:06.656Z"
      },
      {
        "duration": 35,
        "start_time": "2023-04-17T15:54:06.805Z"
      },
      {
        "duration": 46,
        "start_time": "2023-04-17T15:54:06.842Z"
      },
      {
        "duration": 26,
        "start_time": "2023-04-17T15:54:06.889Z"
      },
      {
        "duration": 31,
        "start_time": "2023-04-17T15:54:06.917Z"
      },
      {
        "duration": 1260,
        "start_time": "2023-04-17T16:23:18.599Z"
      },
      {
        "duration": 413,
        "start_time": "2023-04-17T16:23:19.862Z"
      },
      {
        "duration": 12,
        "start_time": "2023-04-17T16:23:20.277Z"
      },
      {
        "duration": 20,
        "start_time": "2023-04-17T16:23:20.291Z"
      },
      {
        "duration": 10,
        "start_time": "2023-04-17T16:23:20.314Z"
      },
      {
        "duration": 35,
        "start_time": "2023-04-17T16:23:20.325Z"
      },
      {
        "duration": 25,
        "start_time": "2023-04-17T16:23:20.362Z"
      },
      {
        "duration": 23,
        "start_time": "2023-04-17T16:23:20.389Z"
      },
      {
        "duration": 20,
        "start_time": "2023-04-17T16:23:20.414Z"
      },
      {
        "duration": 14,
        "start_time": "2023-04-17T16:23:20.436Z"
      },
      {
        "duration": 71,
        "start_time": "2023-04-17T16:23:20.453Z"
      },
      {
        "duration": 12,
        "start_time": "2023-04-17T16:23:20.526Z"
      },
      {
        "duration": 6,
        "start_time": "2023-04-17T16:23:20.540Z"
      },
      {
        "duration": 50,
        "start_time": "2023-04-17T16:23:20.551Z"
      },
      {
        "duration": 24,
        "start_time": "2023-04-17T16:23:20.602Z"
      },
      {
        "duration": 23,
        "start_time": "2023-04-17T16:23:20.628Z"
      },
      {
        "duration": 9,
        "start_time": "2023-04-17T16:23:20.653Z"
      },
      {
        "duration": 14,
        "start_time": "2023-04-17T16:23:20.684Z"
      },
      {
        "duration": 340,
        "start_time": "2023-04-17T16:23:20.700Z"
      },
      {
        "duration": 47,
        "start_time": "2023-04-17T16:23:21.042Z"
      },
      {
        "duration": 9162,
        "start_time": "2023-04-17T16:23:21.091Z"
      },
      {
        "duration": 1301,
        "start_time": "2023-04-17T16:23:30.255Z"
      },
      {
        "duration": 1256,
        "start_time": "2023-04-17T23:09:39.572Z"
      },
      {
        "duration": 412,
        "start_time": "2023-04-17T23:09:40.831Z"
      },
      {
        "duration": 9,
        "start_time": "2023-04-17T23:09:41.244Z"
      },
      {
        "duration": 15,
        "start_time": "2023-04-17T23:09:41.254Z"
      },
      {
        "duration": 2,
        "start_time": "2023-04-17T23:09:41.271Z"
      },
      {
        "duration": 53,
        "start_time": "2023-04-17T23:09:41.274Z"
      },
      {
        "duration": 6,
        "start_time": "2023-04-17T23:09:41.329Z"
      },
      {
        "duration": 19,
        "start_time": "2023-04-17T23:09:41.337Z"
      },
      {
        "duration": 16,
        "start_time": "2023-04-17T23:09:41.358Z"
      },
      {
        "duration": 10,
        "start_time": "2023-04-17T23:09:41.376Z"
      },
      {
        "duration": 62,
        "start_time": "2023-04-17T23:09:41.387Z"
      },
      {
        "duration": 11,
        "start_time": "2023-04-17T23:09:41.451Z"
      },
      {
        "duration": 5,
        "start_time": "2023-04-17T23:09:41.464Z"
      },
      {
        "duration": 22,
        "start_time": "2023-04-17T23:09:41.471Z"
      },
      {
        "duration": 35,
        "start_time": "2023-04-17T23:09:41.495Z"
      },
      {
        "duration": 22,
        "start_time": "2023-04-17T23:09:41.531Z"
      },
      {
        "duration": 7,
        "start_time": "2023-04-17T23:09:41.555Z"
      },
      {
        "duration": 12,
        "start_time": "2023-04-17T23:09:41.564Z"
      },
      {
        "duration": 357,
        "start_time": "2023-04-17T23:09:41.578Z"
      },
      {
        "duration": 37,
        "start_time": "2023-04-17T23:09:41.937Z"
      },
      {
        "duration": 9353,
        "start_time": "2023-04-17T23:09:41.975Z"
      },
      {
        "duration": 1346,
        "start_time": "2023-04-17T23:09:51.330Z"
      },
      {
        "duration": 5208,
        "start_time": "2023-04-17T23:09:52.678Z"
      },
      {
        "duration": 510,
        "start_time": "2023-04-17T23:09:57.888Z"
      },
      {
        "duration": 240,
        "start_time": "2023-04-17T23:09:58.399Z"
      },
      {
        "duration": 25,
        "start_time": "2023-04-17T23:09:58.640Z"
      },
      {
        "duration": 50,
        "start_time": "2023-04-17T23:09:58.667Z"
      },
      {
        "duration": 889,
        "start_time": "2023-04-17T23:09:58.719Z"
      },
      {
        "duration": 28,
        "start_time": "2023-04-17T23:09:59.610Z"
      },
      {
        "duration": 25,
        "start_time": "2023-04-17T23:09:59.639Z"
      },
      {
        "duration": 152,
        "start_time": "2023-04-17T23:09:59.665Z"
      },
      {
        "duration": 23,
        "start_time": "2023-04-17T23:09:59.819Z"
      },
      {
        "duration": 138,
        "start_time": "2023-04-17T23:09:59.843Z"
      },
      {
        "duration": 40,
        "start_time": "2023-04-17T23:09:59.982Z"
      },
      {
        "duration": 25,
        "start_time": "2023-04-17T23:10:00.024Z"
      },
      {
        "duration": 24,
        "start_time": "2023-04-17T23:10:00.051Z"
      },
      {
        "duration": 49,
        "start_time": "2023-04-17T23:10:00.077Z"
      },
      {
        "duration": 6,
        "start_time": "2023-04-17T23:13:45.163Z"
      },
      {
        "duration": 8,
        "start_time": "2023-04-17T23:13:51.102Z"
      },
      {
        "duration": 7,
        "start_time": "2023-04-17T23:15:18.809Z"
      },
      {
        "duration": 30,
        "start_time": "2023-04-17T23:19:02.626Z"
      },
      {
        "duration": 62,
        "start_time": "2023-04-18T08:24:16.715Z"
      },
      {
        "duration": 1576,
        "start_time": "2023-04-18T08:24:25.982Z"
      },
      {
        "duration": 425,
        "start_time": "2023-04-18T08:24:27.561Z"
      },
      {
        "duration": 13,
        "start_time": "2023-04-18T08:24:27.989Z"
      },
      {
        "duration": 20,
        "start_time": "2023-04-18T08:24:28.005Z"
      },
      {
        "duration": 3,
        "start_time": "2023-04-18T08:24:28.029Z"
      },
      {
        "duration": 72,
        "start_time": "2023-04-18T08:24:28.034Z"
      },
      {
        "duration": 11,
        "start_time": "2023-04-18T08:24:28.108Z"
      },
      {
        "duration": 37,
        "start_time": "2023-04-18T08:24:28.121Z"
      },
      {
        "duration": 41,
        "start_time": "2023-04-18T08:24:28.159Z"
      },
      {
        "duration": 14,
        "start_time": "2023-04-18T08:24:28.202Z"
      },
      {
        "duration": 44,
        "start_time": "2023-04-18T08:24:28.218Z"
      },
      {
        "duration": 36,
        "start_time": "2023-04-18T08:24:28.264Z"
      },
      {
        "duration": 5,
        "start_time": "2023-04-18T08:24:28.302Z"
      },
      {
        "duration": 25,
        "start_time": "2023-04-18T08:24:28.310Z"
      },
      {
        "duration": 55,
        "start_time": "2023-04-18T08:24:28.337Z"
      },
      {
        "duration": 25,
        "start_time": "2023-04-18T08:24:28.394Z"
      },
      {
        "duration": 10,
        "start_time": "2023-04-18T08:24:28.421Z"
      },
      {
        "duration": 16,
        "start_time": "2023-04-18T08:24:28.432Z"
      },
      {
        "duration": 441,
        "start_time": "2023-04-18T08:24:28.450Z"
      },
      {
        "duration": 44,
        "start_time": "2023-04-18T08:24:28.893Z"
      },
      {
        "duration": 11106,
        "start_time": "2023-04-18T08:24:28.939Z"
      },
      {
        "duration": 4,
        "start_time": "2023-04-18T08:24:40.046Z"
      },
      {
        "duration": 2573,
        "start_time": "2023-04-18T08:24:40.052Z"
      },
      {
        "duration": 5225,
        "start_time": "2023-04-18T08:24:42.627Z"
      },
      {
        "duration": 603,
        "start_time": "2023-04-18T08:24:47.854Z"
      },
      {
        "duration": 276,
        "start_time": "2023-04-18T08:24:48.459Z"
      },
      {
        "duration": 30,
        "start_time": "2023-04-18T08:24:48.737Z"
      },
      {
        "duration": 1056,
        "start_time": "2023-04-18T08:24:48.770Z"
      },
      {
        "duration": 28,
        "start_time": "2023-04-18T08:24:49.828Z"
      },
      {
        "duration": 49,
        "start_time": "2023-04-18T08:24:49.858Z"
      },
      {
        "duration": 232,
        "start_time": "2023-04-18T08:24:49.909Z"
      },
      {
        "duration": 32,
        "start_time": "2023-04-18T08:24:50.143Z"
      },
      {
        "duration": 164,
        "start_time": "2023-04-18T08:24:50.190Z"
      },
      {
        "duration": 58,
        "start_time": "2023-04-18T08:24:50.357Z"
      },
      {
        "duration": 34,
        "start_time": "2023-04-18T08:24:50.418Z"
      },
      {
        "duration": 56,
        "start_time": "2023-04-18T08:24:50.454Z"
      },
      {
        "duration": 43,
        "start_time": "2023-04-18T08:24:50.512Z"
      },
      {
        "duration": 123,
        "start_time": "2023-04-18T08:26:46.711Z"
      },
      {
        "duration": 18,
        "start_time": "2023-04-18T08:26:50.654Z"
      },
      {
        "duration": 1499,
        "start_time": "2023-04-18T08:28:30.265Z"
      },
      {
        "duration": 275,
        "start_time": "2023-04-18T08:28:31.766Z"
      },
      {
        "duration": 13,
        "start_time": "2023-04-18T08:28:32.042Z"
      },
      {
        "duration": 17,
        "start_time": "2023-04-18T08:28:32.057Z"
      },
      {
        "duration": 14,
        "start_time": "2023-04-18T08:28:32.075Z"
      },
      {
        "duration": 49,
        "start_time": "2023-04-18T08:28:32.091Z"
      },
      {
        "duration": 7,
        "start_time": "2023-04-18T08:28:32.141Z"
      },
      {
        "duration": 41,
        "start_time": "2023-04-18T08:28:32.150Z"
      },
      {
        "duration": 19,
        "start_time": "2023-04-18T08:28:32.193Z"
      },
      {
        "duration": 11,
        "start_time": "2023-04-18T08:28:32.215Z"
      },
      {
        "duration": 62,
        "start_time": "2023-04-18T08:28:32.228Z"
      },
      {
        "duration": 15,
        "start_time": "2023-04-18T08:28:32.292Z"
      },
      {
        "duration": 21,
        "start_time": "2023-04-18T08:28:32.309Z"
      },
      {
        "duration": 45,
        "start_time": "2023-04-18T08:28:32.332Z"
      },
      {
        "duration": 27,
        "start_time": "2023-04-18T08:28:32.379Z"
      },
      {
        "duration": 25,
        "start_time": "2023-04-18T08:28:32.408Z"
      },
      {
        "duration": 10,
        "start_time": "2023-04-18T08:28:32.435Z"
      },
      {
        "duration": 42,
        "start_time": "2023-04-18T08:28:32.447Z"
      },
      {
        "duration": 374,
        "start_time": "2023-04-18T08:28:32.491Z"
      },
      {
        "duration": 56,
        "start_time": "2023-04-18T08:28:32.866Z"
      },
      {
        "duration": 12398,
        "start_time": "2023-04-18T08:28:32.924Z"
      },
      {
        "duration": 121,
        "start_time": "2023-04-18T08:28:45.324Z"
      },
      {
        "duration": 1485,
        "start_time": "2023-04-18T08:28:45.446Z"
      },
      {
        "duration": 5580,
        "start_time": "2023-04-18T08:28:46.933Z"
      },
      {
        "duration": 597,
        "start_time": "2023-04-18T08:28:52.515Z"
      },
      {
        "duration": 279,
        "start_time": "2023-04-18T08:28:53.114Z"
      },
      {
        "duration": 40,
        "start_time": "2023-04-18T08:28:53.395Z"
      },
      {
        "duration": 1065,
        "start_time": "2023-04-18T08:28:53.440Z"
      },
      {
        "duration": 28,
        "start_time": "2023-04-18T08:28:54.507Z"
      },
      {
        "duration": 53,
        "start_time": "2023-04-18T08:28:54.537Z"
      },
      {
        "duration": 166,
        "start_time": "2023-04-18T08:28:54.592Z"
      },
      {
        "duration": 39,
        "start_time": "2023-04-18T08:28:54.759Z"
      },
      {
        "duration": 156,
        "start_time": "2023-04-18T08:28:54.800Z"
      },
      {
        "duration": 51,
        "start_time": "2023-04-18T08:28:54.958Z"
      },
      {
        "duration": 30,
        "start_time": "2023-04-18T08:28:55.011Z"
      },
      {
        "duration": 29,
        "start_time": "2023-04-18T08:28:55.042Z"
      },
      {
        "duration": 34,
        "start_time": "2023-04-18T08:28:55.090Z"
      },
      {
        "duration": 15,
        "start_time": "2023-04-18T08:29:08.935Z"
      },
      {
        "duration": 127,
        "start_time": "2023-04-18T08:29:27.202Z"
      },
      {
        "duration": 12,
        "start_time": "2023-04-18T08:29:31.242Z"
      },
      {
        "duration": 13,
        "start_time": "2023-04-18T08:29:41.661Z"
      },
      {
        "duration": 12,
        "start_time": "2023-04-18T08:29:54.037Z"
      },
      {
        "duration": 1408,
        "start_time": "2023-04-18T08:36:04.410Z"
      },
      {
        "duration": 330,
        "start_time": "2023-04-18T08:36:05.821Z"
      },
      {
        "duration": 12,
        "start_time": "2023-04-18T08:36:06.153Z"
      },
      {
        "duration": 32,
        "start_time": "2023-04-18T08:36:06.168Z"
      },
      {
        "duration": 4,
        "start_time": "2023-04-18T08:36:06.202Z"
      },
      {
        "duration": 42,
        "start_time": "2023-04-18T08:36:06.208Z"
      },
      {
        "duration": 7,
        "start_time": "2023-04-18T08:36:06.252Z"
      },
      {
        "duration": 51,
        "start_time": "2023-04-18T08:36:06.261Z"
      },
      {
        "duration": 20,
        "start_time": "2023-04-18T08:36:06.313Z"
      },
      {
        "duration": 23,
        "start_time": "2023-04-18T08:36:06.335Z"
      },
      {
        "duration": 50,
        "start_time": "2023-04-18T08:36:06.360Z"
      },
      {
        "duration": 13,
        "start_time": "2023-04-18T08:36:06.412Z"
      },
      {
        "duration": 13,
        "start_time": "2023-04-18T08:36:06.428Z"
      },
      {
        "duration": 47,
        "start_time": "2023-04-18T08:36:06.444Z"
      },
      {
        "duration": 33,
        "start_time": "2023-04-18T08:36:06.493Z"
      },
      {
        "duration": 25,
        "start_time": "2023-04-18T08:36:06.529Z"
      },
      {
        "duration": 10,
        "start_time": "2023-04-18T08:36:06.556Z"
      },
      {
        "duration": 34,
        "start_time": "2023-04-18T08:36:06.568Z"
      },
      {
        "duration": 372,
        "start_time": "2023-04-18T08:36:06.604Z"
      },
      {
        "duration": 49,
        "start_time": "2023-04-18T08:36:06.978Z"
      },
      {
        "duration": 12276,
        "start_time": "2023-04-18T08:36:07.029Z"
      },
      {
        "duration": 1766,
        "start_time": "2023-04-18T08:36:19.307Z"
      },
      {
        "duration": 1378,
        "start_time": "2023-04-18T08:36:53.985Z"
      },
      {
        "duration": 292,
        "start_time": "2023-04-18T08:36:55.365Z"
      },
      {
        "duration": 13,
        "start_time": "2023-04-18T08:36:55.658Z"
      },
      {
        "duration": 27,
        "start_time": "2023-04-18T08:36:55.673Z"
      },
      {
        "duration": 4,
        "start_time": "2023-04-18T08:36:55.702Z"
      },
      {
        "duration": 40,
        "start_time": "2023-04-18T08:36:55.708Z"
      },
      {
        "duration": 7,
        "start_time": "2023-04-18T08:36:55.750Z"
      },
      {
        "duration": 54,
        "start_time": "2023-04-18T08:36:55.759Z"
      },
      {
        "duration": 19,
        "start_time": "2023-04-18T08:36:55.815Z"
      },
      {
        "duration": 12,
        "start_time": "2023-04-18T08:36:55.837Z"
      },
      {
        "duration": 79,
        "start_time": "2023-04-18T08:36:55.851Z"
      },
      {
        "duration": 18,
        "start_time": "2023-04-18T08:36:55.932Z"
      },
      {
        "duration": 7,
        "start_time": "2023-04-18T08:36:55.952Z"
      },
      {
        "duration": 51,
        "start_time": "2023-04-18T08:36:55.960Z"
      },
      {
        "duration": 28,
        "start_time": "2023-04-18T08:36:56.012Z"
      },
      {
        "duration": 50,
        "start_time": "2023-04-18T08:36:56.042Z"
      },
      {
        "duration": 11,
        "start_time": "2023-04-18T08:36:56.095Z"
      },
      {
        "duration": 16,
        "start_time": "2023-04-18T08:36:56.109Z"
      },
      {
        "duration": 448,
        "start_time": "2023-04-18T08:36:56.127Z"
      },
      {
        "duration": 64,
        "start_time": "2023-04-18T08:36:56.577Z"
      },
      {
        "duration": 11229,
        "start_time": "2023-04-18T08:36:56.643Z"
      },
      {
        "duration": 1473,
        "start_time": "2023-04-18T08:37:07.874Z"
      },
      {
        "duration": 8,
        "start_time": "2023-04-18T08:37:09.349Z"
      },
      {
        "duration": 5459,
        "start_time": "2023-04-18T08:37:09.359Z"
      },
      {
        "duration": 596,
        "start_time": "2023-04-18T08:37:14.821Z"
      },
      {
        "duration": 274,
        "start_time": "2023-04-18T08:37:15.419Z"
      },
      {
        "duration": 32,
        "start_time": "2023-04-18T08:37:15.694Z"
      },
      {
        "duration": 1016,
        "start_time": "2023-04-18T08:37:15.730Z"
      },
      {
        "duration": 28,
        "start_time": "2023-04-18T08:37:16.748Z"
      },
      {
        "duration": 30,
        "start_time": "2023-04-18T08:37:16.790Z"
      },
      {
        "duration": 176,
        "start_time": "2023-04-18T08:37:16.822Z"
      },
      {
        "duration": 27,
        "start_time": "2023-04-18T08:37:17.000Z"
      },
      {
        "duration": 184,
        "start_time": "2023-04-18T08:37:17.029Z"
      },
      {
        "duration": 40,
        "start_time": "2023-04-18T08:37:17.215Z"
      },
      {
        "duration": 51,
        "start_time": "2023-04-18T08:37:17.257Z"
      },
      {
        "duration": 29,
        "start_time": "2023-04-18T08:37:17.311Z"
      },
      {
        "duration": 61,
        "start_time": "2023-04-18T08:37:17.342Z"
      },
      {
        "duration": 5520,
        "start_time": "2023-04-18T08:43:57.550Z"
      },
      {
        "duration": 5296,
        "start_time": "2023-04-18T08:44:07.266Z"
      },
      {
        "duration": 5146,
        "start_time": "2023-04-18T08:45:13.139Z"
      },
      {
        "duration": 5399,
        "start_time": "2023-04-18T08:45:26.659Z"
      },
      {
        "duration": 5570,
        "start_time": "2023-04-18T08:48:20.340Z"
      },
      {
        "duration": 5480,
        "start_time": "2023-04-18T08:48:34.841Z"
      },
      {
        "duration": 25,
        "start_time": "2023-04-18T08:49:12.853Z"
      },
      {
        "duration": 5621,
        "start_time": "2023-04-18T08:50:57.818Z"
      },
      {
        "duration": 2109,
        "start_time": "2023-04-18T08:53:31.567Z"
      },
      {
        "duration": 1540,
        "start_time": "2023-04-18T08:56:26.632Z"
      },
      {
        "duration": 1587,
        "start_time": "2023-04-18T08:57:27.325Z"
      },
      {
        "duration": 1684,
        "start_time": "2023-04-18T09:00:46.361Z"
      },
      {
        "duration": 1650,
        "start_time": "2023-04-18T09:00:54.364Z"
      },
      {
        "duration": 1604,
        "start_time": "2023-04-18T09:01:02.664Z"
      },
      {
        "duration": 1469,
        "start_time": "2023-04-18T09:01:20.043Z"
      },
      {
        "duration": 412,
        "start_time": "2023-04-18T09:01:21.514Z"
      },
      {
        "duration": 17,
        "start_time": "2023-04-18T09:01:21.928Z"
      },
      {
        "duration": 19,
        "start_time": "2023-04-18T09:01:21.948Z"
      },
      {
        "duration": 25,
        "start_time": "2023-04-18T09:01:21.969Z"
      },
      {
        "duration": 50,
        "start_time": "2023-04-18T09:01:22.004Z"
      },
      {
        "duration": 11,
        "start_time": "2023-04-18T09:01:22.056Z"
      },
      {
        "duration": 57,
        "start_time": "2023-04-18T09:01:22.070Z"
      },
      {
        "duration": 30,
        "start_time": "2023-04-18T09:01:22.129Z"
      },
      {
        "duration": 14,
        "start_time": "2023-04-18T09:01:22.162Z"
      },
      {
        "duration": 66,
        "start_time": "2023-04-18T09:01:22.177Z"
      },
      {
        "duration": 15,
        "start_time": "2023-04-18T09:01:22.245Z"
      },
      {
        "duration": 37,
        "start_time": "2023-04-18T09:01:22.263Z"
      },
      {
        "duration": 35,
        "start_time": "2023-04-18T09:01:22.302Z"
      },
      {
        "duration": 31,
        "start_time": "2023-04-18T09:01:22.339Z"
      },
      {
        "duration": 41,
        "start_time": "2023-04-18T09:01:22.372Z"
      },
      {
        "duration": 11,
        "start_time": "2023-04-18T09:01:22.415Z"
      },
      {
        "duration": 17,
        "start_time": "2023-04-18T09:01:22.428Z"
      },
      {
        "duration": 437,
        "start_time": "2023-04-18T09:01:22.447Z"
      },
      {
        "duration": 184,
        "start_time": "2023-04-18T09:01:22.886Z"
      },
      {
        "duration": 0,
        "start_time": "2023-04-18T09:01:23.072Z"
      },
      {
        "duration": 0,
        "start_time": "2023-04-18T09:01:23.073Z"
      },
      {
        "duration": 0,
        "start_time": "2023-04-18T09:01:23.074Z"
      },
      {
        "duration": 0,
        "start_time": "2023-04-18T09:01:23.076Z"
      },
      {
        "duration": 0,
        "start_time": "2023-04-18T09:01:23.077Z"
      },
      {
        "duration": 0,
        "start_time": "2023-04-18T09:01:23.078Z"
      },
      {
        "duration": 0,
        "start_time": "2023-04-18T09:01:23.079Z"
      },
      {
        "duration": 0,
        "start_time": "2023-04-18T09:01:23.088Z"
      },
      {
        "duration": 0,
        "start_time": "2023-04-18T09:01:23.089Z"
      },
      {
        "duration": 0,
        "start_time": "2023-04-18T09:01:23.090Z"
      },
      {
        "duration": 1,
        "start_time": "2023-04-18T09:01:23.092Z"
      },
      {
        "duration": 0,
        "start_time": "2023-04-18T09:01:23.098Z"
      },
      {
        "duration": 0,
        "start_time": "2023-04-18T09:01:23.098Z"
      },
      {
        "duration": 0,
        "start_time": "2023-04-18T09:01:23.099Z"
      },
      {
        "duration": 0,
        "start_time": "2023-04-18T09:01:23.102Z"
      },
      {
        "duration": 0,
        "start_time": "2023-04-18T09:01:23.107Z"
      },
      {
        "duration": 0,
        "start_time": "2023-04-18T09:01:23.108Z"
      },
      {
        "duration": 0,
        "start_time": "2023-04-18T09:01:23.109Z"
      },
      {
        "duration": 58,
        "start_time": "2023-04-18T09:01:35.249Z"
      },
      {
        "duration": 54,
        "start_time": "2023-04-18T09:02:07.869Z"
      },
      {
        "duration": 11780,
        "start_time": "2023-04-18T09:02:08.623Z"
      },
      {
        "duration": 2096,
        "start_time": "2023-04-18T09:02:20.406Z"
      },
      {
        "duration": 127,
        "start_time": "2023-04-18T09:02:30.918Z"
      },
      {
        "duration": 16,
        "start_time": "2023-04-18T09:02:37.945Z"
      },
      {
        "duration": 31,
        "start_time": "2023-04-18T09:02:48.274Z"
      },
      {
        "duration": 1457,
        "start_time": "2023-04-18T09:02:56.840Z"
      },
      {
        "duration": 853,
        "start_time": "2023-04-18T09:02:58.302Z"
      },
      {
        "duration": 13,
        "start_time": "2023-04-18T09:02:59.157Z"
      },
      {
        "duration": 36,
        "start_time": "2023-04-18T09:02:59.173Z"
      },
      {
        "duration": 5,
        "start_time": "2023-04-18T09:02:59.211Z"
      },
      {
        "duration": 52,
        "start_time": "2023-04-18T09:02:59.218Z"
      },
      {
        "duration": 27,
        "start_time": "2023-04-18T09:02:59.272Z"
      },
      {
        "duration": 37,
        "start_time": "2023-04-18T09:02:59.300Z"
      },
      {
        "duration": 32,
        "start_time": "2023-04-18T09:02:59.340Z"
      },
      {
        "duration": 16,
        "start_time": "2023-04-18T09:02:59.390Z"
      },
      {
        "duration": 83,
        "start_time": "2023-04-18T09:02:59.409Z"
      },
      {
        "duration": 14,
        "start_time": "2023-04-18T09:02:59.505Z"
      },
      {
        "duration": 6,
        "start_time": "2023-04-18T09:02:59.522Z"
      },
      {
        "duration": 26,
        "start_time": "2023-04-18T09:02:59.531Z"
      },
      {
        "duration": 48,
        "start_time": "2023-04-18T09:02:59.559Z"
      },
      {
        "duration": 32,
        "start_time": "2023-04-18T09:02:59.610Z"
      },
      {
        "duration": 12,
        "start_time": "2023-04-18T09:02:59.644Z"
      },
      {
        "duration": 53,
        "start_time": "2023-04-18T09:02:59.658Z"
      },
      {
        "duration": 483,
        "start_time": "2023-04-18T09:02:59.713Z"
      },
      {
        "duration": 102,
        "start_time": "2023-04-18T09:03:00.198Z"
      },
      {
        "duration": 13368,
        "start_time": "2023-04-18T09:03:00.304Z"
      },
      {
        "duration": 1590,
        "start_time": "2023-04-18T09:03:13.674Z"
      },
      {
        "duration": 116,
        "start_time": "2023-04-18T09:03:15.266Z"
      },
      {
        "duration": 146,
        "start_time": "2023-04-18T09:03:15.389Z"
      },
      {
        "duration": 0,
        "start_time": "2023-04-18T09:03:15.538Z"
      },
      {
        "duration": 0,
        "start_time": "2023-04-18T09:03:15.540Z"
      },
      {
        "duration": 0,
        "start_time": "2023-04-18T09:03:15.542Z"
      },
      {
        "duration": 0,
        "start_time": "2023-04-18T09:03:15.544Z"
      },
      {
        "duration": 0,
        "start_time": "2023-04-18T09:03:15.545Z"
      },
      {
        "duration": 0,
        "start_time": "2023-04-18T09:03:15.548Z"
      },
      {
        "duration": 0,
        "start_time": "2023-04-18T09:03:15.549Z"
      },
      {
        "duration": 0,
        "start_time": "2023-04-18T09:03:15.551Z"
      },
      {
        "duration": 0,
        "start_time": "2023-04-18T09:03:15.553Z"
      },
      {
        "duration": 0,
        "start_time": "2023-04-18T09:03:15.555Z"
      },
      {
        "duration": 0,
        "start_time": "2023-04-18T09:03:15.556Z"
      },
      {
        "duration": 0,
        "start_time": "2023-04-18T09:03:15.558Z"
      },
      {
        "duration": 0,
        "start_time": "2023-04-18T09:03:15.589Z"
      },
      {
        "duration": 0,
        "start_time": "2023-04-18T09:03:15.591Z"
      },
      {
        "duration": 0,
        "start_time": "2023-04-18T09:03:15.592Z"
      },
      {
        "duration": 0,
        "start_time": "2023-04-18T09:03:15.593Z"
      },
      {
        "duration": 42,
        "start_time": "2023-04-18T09:03:42.826Z"
      },
      {
        "duration": 11806,
        "start_time": "2023-04-18T09:03:43.642Z"
      },
      {
        "duration": 15,
        "start_time": "2023-04-18T09:03:55.450Z"
      },
      {
        "duration": 18,
        "start_time": "2023-04-18T09:04:21.221Z"
      },
      {
        "duration": 1560,
        "start_time": "2023-04-18T09:04:30.148Z"
      },
      {
        "duration": 411,
        "start_time": "2023-04-18T09:04:31.711Z"
      },
      {
        "duration": 78,
        "start_time": "2023-04-18T09:04:32.125Z"
      },
      {
        "duration": 24,
        "start_time": "2023-04-18T09:04:32.205Z"
      },
      {
        "duration": 12,
        "start_time": "2023-04-18T09:04:32.232Z"
      },
      {
        "duration": 108,
        "start_time": "2023-04-18T09:04:32.290Z"
      },
      {
        "duration": 11,
        "start_time": "2023-04-18T09:04:32.400Z"
      },
      {
        "duration": 94,
        "start_time": "2023-04-18T09:04:32.413Z"
      },
      {
        "duration": 87,
        "start_time": "2023-04-18T09:04:32.509Z"
      },
      {
        "duration": 14,
        "start_time": "2023-04-18T09:04:32.602Z"
      },
      {
        "duration": 120,
        "start_time": "2023-04-18T09:04:32.618Z"
      },
      {
        "duration": 21,
        "start_time": "2023-04-18T09:04:32.789Z"
      },
      {
        "duration": 7,
        "start_time": "2023-04-18T09:04:32.812Z"
      },
      {
        "duration": 92,
        "start_time": "2023-04-18T09:04:32.824Z"
      },
      {
        "duration": 92,
        "start_time": "2023-04-18T09:04:32.918Z"
      },
      {
        "duration": 87,
        "start_time": "2023-04-18T09:04:33.013Z"
      },
      {
        "duration": 13,
        "start_time": "2023-04-18T09:04:33.101Z"
      },
      {
        "duration": 16,
        "start_time": "2023-04-18T09:04:33.116Z"
      },
      {
        "duration": 708,
        "start_time": "2023-04-18T09:04:33.193Z"
      },
      {
        "duration": 94,
        "start_time": "2023-04-18T09:04:33.914Z"
      },
      {
        "duration": 11726,
        "start_time": "2023-04-18T09:04:34.010Z"
      },
      {
        "duration": 1571,
        "start_time": "2023-04-18T09:04:45.738Z"
      },
      {
        "duration": 129,
        "start_time": "2023-04-18T09:04:47.311Z"
      },
      {
        "duration": 0,
        "start_time": "2023-04-18T09:04:47.442Z"
      },
      {
        "duration": 0,
        "start_time": "2023-04-18T09:04:47.443Z"
      },
      {
        "duration": 0,
        "start_time": "2023-04-18T09:04:47.445Z"
      },
      {
        "duration": 0,
        "start_time": "2023-04-18T09:04:47.447Z"
      },
      {
        "duration": 0,
        "start_time": "2023-04-18T09:04:47.448Z"
      },
      {
        "duration": 0,
        "start_time": "2023-04-18T09:04:47.450Z"
      },
      {
        "duration": 0,
        "start_time": "2023-04-18T09:04:47.451Z"
      },
      {
        "duration": 0,
        "start_time": "2023-04-18T09:04:47.452Z"
      },
      {
        "duration": 0,
        "start_time": "2023-04-18T09:04:47.453Z"
      },
      {
        "duration": 0,
        "start_time": "2023-04-18T09:04:47.454Z"
      },
      {
        "duration": 0,
        "start_time": "2023-04-18T09:04:47.456Z"
      },
      {
        "duration": 0,
        "start_time": "2023-04-18T09:04:47.495Z"
      },
      {
        "duration": 0,
        "start_time": "2023-04-18T09:04:47.497Z"
      },
      {
        "duration": 1,
        "start_time": "2023-04-18T09:04:47.498Z"
      },
      {
        "duration": 1597,
        "start_time": "2023-04-18T09:04:57.713Z"
      },
      {
        "duration": 1465,
        "start_time": "2023-04-18T09:04:59.312Z"
      },
      {
        "duration": 1560,
        "start_time": "2023-04-18T09:05:04.715Z"
      },
      {
        "duration": 124,
        "start_time": "2023-04-18T09:05:06.278Z"
      },
      {
        "duration": 14,
        "start_time": "2023-04-18T09:05:23.229Z"
      },
      {
        "duration": 30,
        "start_time": "2023-04-18T09:05:35.911Z"
      },
      {
        "duration": 1441,
        "start_time": "2023-04-18T09:05:43.079Z"
      },
      {
        "duration": 335,
        "start_time": "2023-04-18T09:05:44.522Z"
      },
      {
        "duration": 12,
        "start_time": "2023-04-18T09:05:44.859Z"
      },
      {
        "duration": 37,
        "start_time": "2023-04-18T09:05:44.873Z"
      },
      {
        "duration": 13,
        "start_time": "2023-04-18T09:05:44.914Z"
      },
      {
        "duration": 49,
        "start_time": "2023-04-18T09:05:44.929Z"
      },
      {
        "duration": 8,
        "start_time": "2023-04-18T09:05:44.981Z"
      },
      {
        "duration": 54,
        "start_time": "2023-04-18T09:05:45.001Z"
      },
      {
        "duration": 20,
        "start_time": "2023-04-18T09:05:45.058Z"
      },
      {
        "duration": 33,
        "start_time": "2023-04-18T09:05:45.080Z"
      },
      {
        "duration": 43,
        "start_time": "2023-04-18T09:05:45.115Z"
      },
      {
        "duration": 15,
        "start_time": "2023-04-18T09:05:45.160Z"
      },
      {
        "duration": 30,
        "start_time": "2023-04-18T09:05:45.177Z"
      },
      {
        "duration": 27,
        "start_time": "2023-04-18T09:05:45.212Z"
      },
      {
        "duration": 38,
        "start_time": "2023-04-18T09:05:45.241Z"
      },
      {
        "duration": 39,
        "start_time": "2023-04-18T09:05:45.281Z"
      },
      {
        "duration": 10,
        "start_time": "2023-04-18T09:05:45.322Z"
      },
      {
        "duration": 21,
        "start_time": "2023-04-18T09:05:45.334Z"
      },
      {
        "duration": 406,
        "start_time": "2023-04-18T09:05:45.357Z"
      },
      {
        "duration": 57,
        "start_time": "2023-04-18T09:05:45.765Z"
      },
      {
        "duration": 11653,
        "start_time": "2023-04-18T09:05:45.824Z"
      },
      {
        "duration": 1604,
        "start_time": "2023-04-18T09:05:57.479Z"
      },
      {
        "duration": 36,
        "start_time": "2023-04-18T09:05:59.084Z"
      },
      {
        "duration": 218,
        "start_time": "2023-04-18T09:05:59.123Z"
      },
      {
        "duration": 0,
        "start_time": "2023-04-18T09:05:59.343Z"
      },
      {
        "duration": 0,
        "start_time": "2023-04-18T09:05:59.345Z"
      },
      {
        "duration": 0,
        "start_time": "2023-04-18T09:05:59.347Z"
      },
      {
        "duration": 0,
        "start_time": "2023-04-18T09:05:59.348Z"
      },
      {
        "duration": 0,
        "start_time": "2023-04-18T09:05:59.350Z"
      },
      {
        "duration": 0,
        "start_time": "2023-04-18T09:05:59.351Z"
      },
      {
        "duration": 0,
        "start_time": "2023-04-18T09:05:59.353Z"
      },
      {
        "duration": 0,
        "start_time": "2023-04-18T09:05:59.354Z"
      },
      {
        "duration": 0,
        "start_time": "2023-04-18T09:05:59.356Z"
      },
      {
        "duration": 0,
        "start_time": "2023-04-18T09:05:59.358Z"
      },
      {
        "duration": 0,
        "start_time": "2023-04-18T09:05:59.359Z"
      },
      {
        "duration": 0,
        "start_time": "2023-04-18T09:05:59.360Z"
      },
      {
        "duration": 0,
        "start_time": "2023-04-18T09:05:59.389Z"
      },
      {
        "duration": 0,
        "start_time": "2023-04-18T09:05:59.390Z"
      },
      {
        "duration": 0,
        "start_time": "2023-04-18T09:05:59.391Z"
      },
      {
        "duration": 0,
        "start_time": "2023-04-18T09:05:59.392Z"
      },
      {
        "duration": 43,
        "start_time": "2023-04-18T09:06:27.241Z"
      },
      {
        "duration": 13304,
        "start_time": "2023-04-18T09:06:28.015Z"
      },
      {
        "duration": 26,
        "start_time": "2023-04-18T09:06:41.321Z"
      },
      {
        "duration": 1878,
        "start_time": "2023-04-18T09:06:50.382Z"
      },
      {
        "duration": 9,
        "start_time": "2023-04-18T09:06:52.263Z"
      },
      {
        "duration": 112,
        "start_time": "2023-04-18T09:07:09.280Z"
      },
      {
        "duration": 1626,
        "start_time": "2023-04-18T09:07:13.821Z"
      },
      {
        "duration": 9,
        "start_time": "2023-04-18T09:07:16.116Z"
      },
      {
        "duration": 1540,
        "start_time": "2023-04-18T09:18:07.320Z"
      },
      {
        "duration": 1512,
        "start_time": "2023-04-18T09:19:31.565Z"
      },
      {
        "duration": 1551,
        "start_time": "2023-04-18T09:20:13.585Z"
      },
      {
        "duration": 5,
        "start_time": "2023-04-18T09:20:59.623Z"
      },
      {
        "duration": 8,
        "start_time": "2023-04-18T09:27:00.473Z"
      },
      {
        "duration": 6,
        "start_time": "2023-04-18T09:27:01.729Z"
      },
      {
        "duration": 13,
        "start_time": "2023-04-18T09:27:06.918Z"
      },
      {
        "duration": 13,
        "start_time": "2023-04-18T09:27:15.626Z"
      },
      {
        "duration": 7,
        "start_time": "2023-04-18T09:27:46.032Z"
      },
      {
        "duration": 1615,
        "start_time": "2023-04-18T09:28:44.455Z"
      },
      {
        "duration": 328,
        "start_time": "2023-04-18T09:28:46.073Z"
      },
      {
        "duration": 12,
        "start_time": "2023-04-18T09:28:46.403Z"
      },
      {
        "duration": 19,
        "start_time": "2023-04-18T09:28:46.418Z"
      },
      {
        "duration": 5,
        "start_time": "2023-04-18T09:28:46.439Z"
      },
      {
        "duration": 77,
        "start_time": "2023-04-18T09:28:46.446Z"
      },
      {
        "duration": 11,
        "start_time": "2023-04-18T09:28:46.526Z"
      },
      {
        "duration": 66,
        "start_time": "2023-04-18T09:28:46.539Z"
      },
      {
        "duration": 21,
        "start_time": "2023-04-18T09:28:46.608Z"
      },
      {
        "duration": 15,
        "start_time": "2023-04-18T09:28:46.633Z"
      },
      {
        "duration": 85,
        "start_time": "2023-04-18T09:28:46.650Z"
      },
      {
        "duration": 15,
        "start_time": "2023-04-18T09:28:46.737Z"
      },
      {
        "duration": 6,
        "start_time": "2023-04-18T09:28:46.754Z"
      },
      {
        "duration": 63,
        "start_time": "2023-04-18T09:28:46.762Z"
      },
      {
        "duration": 36,
        "start_time": "2023-04-18T09:28:46.827Z"
      },
      {
        "duration": 48,
        "start_time": "2023-04-18T09:28:46.865Z"
      },
      {
        "duration": 12,
        "start_time": "2023-04-18T09:28:46.915Z"
      },
      {
        "duration": 17,
        "start_time": "2023-04-18T09:28:46.929Z"
      },
      {
        "duration": 472,
        "start_time": "2023-04-18T09:28:46.948Z"
      },
      {
        "duration": 48,
        "start_time": "2023-04-18T09:28:47.423Z"
      },
      {
        "duration": 14423,
        "start_time": "2023-04-18T09:28:47.473Z"
      },
      {
        "duration": 1655,
        "start_time": "2023-04-18T09:29:01.898Z"
      },
      {
        "duration": 6,
        "start_time": "2023-04-18T09:29:03.555Z"
      },
      {
        "duration": 11,
        "start_time": "2023-04-18T09:29:03.563Z"
      },
      {
        "duration": 10,
        "start_time": "2023-04-18T09:29:03.588Z"
      },
      {
        "duration": 5817,
        "start_time": "2023-04-18T09:29:03.600Z"
      },
      {
        "duration": 649,
        "start_time": "2023-04-18T09:29:09.420Z"
      },
      {
        "duration": 338,
        "start_time": "2023-04-18T09:29:10.073Z"
      },
      {
        "duration": 46,
        "start_time": "2023-04-18T09:29:10.414Z"
      },
      {
        "duration": 1371,
        "start_time": "2023-04-18T09:29:10.463Z"
      },
      {
        "duration": 52,
        "start_time": "2023-04-18T09:29:11.836Z"
      },
      {
        "duration": 53,
        "start_time": "2023-04-18T09:29:11.891Z"
      },
      {
        "duration": 224,
        "start_time": "2023-04-18T09:29:11.947Z"
      },
      {
        "duration": 46,
        "start_time": "2023-04-18T09:29:12.175Z"
      },
      {
        "duration": 224,
        "start_time": "2023-04-18T09:29:12.224Z"
      },
      {
        "duration": 63,
        "start_time": "2023-04-18T09:29:12.450Z"
      },
      {
        "duration": 53,
        "start_time": "2023-04-18T09:29:12.515Z"
      },
      {
        "duration": 45,
        "start_time": "2023-04-18T09:29:12.573Z"
      },
      {
        "duration": 70,
        "start_time": "2023-04-18T09:29:12.620Z"
      },
      {
        "duration": 6,
        "start_time": "2023-04-18T09:29:32.926Z"
      },
      {
        "duration": 5519,
        "start_time": "2023-04-18T09:32:57.469Z"
      },
      {
        "duration": 425,
        "start_time": "2023-04-18T09:40:00.871Z"
      },
      {
        "duration": 271,
        "start_time": "2023-04-18T09:43:42.157Z"
      },
      {
        "duration": 306,
        "start_time": "2023-04-18T09:44:53.948Z"
      },
      {
        "duration": 276,
        "start_time": "2023-04-18T09:44:59.246Z"
      },
      {
        "duration": 403,
        "start_time": "2023-04-18T09:45:02.675Z"
      },
      {
        "duration": 1565,
        "start_time": "2023-04-18T09:45:09.855Z"
      },
      {
        "duration": 346,
        "start_time": "2023-04-18T09:45:11.422Z"
      },
      {
        "duration": 12,
        "start_time": "2023-04-18T09:45:11.770Z"
      },
      {
        "duration": 19,
        "start_time": "2023-04-18T09:45:11.790Z"
      },
      {
        "duration": 16,
        "start_time": "2023-04-18T09:45:11.811Z"
      },
      {
        "duration": 65,
        "start_time": "2023-04-18T09:45:11.828Z"
      },
      {
        "duration": 10,
        "start_time": "2023-04-18T09:45:11.896Z"
      },
      {
        "duration": 47,
        "start_time": "2023-04-18T09:45:11.908Z"
      },
      {
        "duration": 33,
        "start_time": "2023-04-18T09:45:11.956Z"
      },
      {
        "duration": 19,
        "start_time": "2023-04-18T09:45:11.992Z"
      },
      {
        "duration": 50,
        "start_time": "2023-04-18T09:45:12.013Z"
      },
      {
        "duration": 14,
        "start_time": "2023-04-18T09:45:12.065Z"
      },
      {
        "duration": 41,
        "start_time": "2023-04-18T09:45:12.081Z"
      },
      {
        "duration": 40,
        "start_time": "2023-04-18T09:45:12.123Z"
      },
      {
        "duration": 28,
        "start_time": "2023-04-18T09:45:12.165Z"
      },
      {
        "duration": 26,
        "start_time": "2023-04-18T09:45:12.195Z"
      },
      {
        "duration": 11,
        "start_time": "2023-04-18T09:45:12.223Z"
      },
      {
        "duration": 15,
        "start_time": "2023-04-18T09:45:12.236Z"
      },
      {
        "duration": 399,
        "start_time": "2023-04-18T09:45:12.253Z"
      },
      {
        "duration": 54,
        "start_time": "2023-04-18T09:45:12.654Z"
      },
      {
        "duration": 12967,
        "start_time": "2023-04-18T09:45:12.710Z"
      },
      {
        "duration": 1502,
        "start_time": "2023-04-18T09:45:25.679Z"
      },
      {
        "duration": 11,
        "start_time": "2023-04-18T09:45:27.183Z"
      },
      {
        "duration": 11,
        "start_time": "2023-04-18T09:45:27.196Z"
      },
      {
        "duration": 5562,
        "start_time": "2023-04-18T09:45:27.209Z"
      },
      {
        "duration": 555,
        "start_time": "2023-04-18T09:45:32.773Z"
      },
      {
        "duration": 284,
        "start_time": "2023-04-18T09:45:33.331Z"
      },
      {
        "duration": 288,
        "start_time": "2023-04-18T09:45:33.619Z"
      },
      {
        "duration": 40,
        "start_time": "2023-04-18T09:45:33.909Z"
      },
      {
        "duration": 1065,
        "start_time": "2023-04-18T09:45:33.951Z"
      },
      {
        "duration": 29,
        "start_time": "2023-04-18T09:45:35.017Z"
      },
      {
        "duration": 42,
        "start_time": "2023-04-18T09:45:35.048Z"
      },
      {
        "duration": 163,
        "start_time": "2023-04-18T09:45:35.092Z"
      },
      {
        "duration": 34,
        "start_time": "2023-04-18T09:45:35.257Z"
      },
      {
        "duration": 158,
        "start_time": "2023-04-18T09:45:35.293Z"
      },
      {
        "duration": 52,
        "start_time": "2023-04-18T09:45:35.453Z"
      },
      {
        "duration": 29,
        "start_time": "2023-04-18T09:45:35.507Z"
      },
      {
        "duration": 28,
        "start_time": "2023-04-18T09:45:35.538Z"
      },
      {
        "duration": 50,
        "start_time": "2023-04-18T09:45:35.567Z"
      },
      {
        "duration": 314,
        "start_time": "2023-04-18T09:46:43.615Z"
      },
      {
        "duration": 306,
        "start_time": "2023-04-18T09:48:19.223Z"
      },
      {
        "duration": 158,
        "start_time": "2023-04-18T09:53:42.532Z"
      },
      {
        "duration": 259,
        "start_time": "2023-04-18T09:53:46.819Z"
      },
      {
        "duration": 32,
        "start_time": "2023-04-18T09:54:06.023Z"
      },
      {
        "duration": 152,
        "start_time": "2023-04-18T09:54:08.926Z"
      },
      {
        "duration": 4,
        "start_time": "2023-04-18T09:58:46.223Z"
      },
      {
        "duration": 4,
        "start_time": "2023-04-18T09:58:56.121Z"
      },
      {
        "duration": 4,
        "start_time": "2023-04-18T09:59:05.536Z"
      },
      {
        "duration": 48,
        "start_time": "2023-04-18T10:00:29.228Z"
      },
      {
        "duration": 46,
        "start_time": "2023-04-18T10:00:33.122Z"
      },
      {
        "duration": 4,
        "start_time": "2023-04-18T10:00:38.298Z"
      },
      {
        "duration": 4,
        "start_time": "2023-04-18T10:00:39.332Z"
      },
      {
        "duration": 5,
        "start_time": "2023-04-18T10:00:40.633Z"
      },
      {
        "duration": 3,
        "start_time": "2023-04-18T10:00:46.215Z"
      },
      {
        "duration": 4,
        "start_time": "2023-04-18T10:00:53.064Z"
      },
      {
        "duration": 46,
        "start_time": "2023-04-18T10:01:08.247Z"
      },
      {
        "duration": 5,
        "start_time": "2023-04-18T10:01:13.790Z"
      },
      {
        "duration": 5,
        "start_time": "2023-04-18T10:01:15.343Z"
      },
      {
        "duration": 4,
        "start_time": "2023-04-18T10:01:17.015Z"
      },
      {
        "duration": 4,
        "start_time": "2023-04-18T10:01:18.126Z"
      },
      {
        "duration": 1471,
        "start_time": "2023-04-18T10:01:25.243Z"
      },
      {
        "duration": 390,
        "start_time": "2023-04-18T10:01:26.717Z"
      },
      {
        "duration": 14,
        "start_time": "2023-04-18T10:01:27.109Z"
      },
      {
        "duration": 47,
        "start_time": "2023-04-18T10:01:27.126Z"
      },
      {
        "duration": 4,
        "start_time": "2023-04-18T10:01:27.177Z"
      },
      {
        "duration": 53,
        "start_time": "2023-04-18T10:01:27.189Z"
      },
      {
        "duration": 12,
        "start_time": "2023-04-18T10:01:27.244Z"
      },
      {
        "duration": 60,
        "start_time": "2023-04-18T10:01:27.258Z"
      },
      {
        "duration": 32,
        "start_time": "2023-04-18T10:01:27.321Z"
      },
      {
        "duration": 42,
        "start_time": "2023-04-18T10:01:27.355Z"
      },
      {
        "duration": 73,
        "start_time": "2023-04-18T10:01:27.400Z"
      },
      {
        "duration": 20,
        "start_time": "2023-04-18T10:01:27.488Z"
      },
      {
        "duration": 7,
        "start_time": "2023-04-18T10:01:27.510Z"
      },
      {
        "duration": 30,
        "start_time": "2023-04-18T10:01:27.522Z"
      },
      {
        "duration": 54,
        "start_time": "2023-04-18T10:01:27.555Z"
      },
      {
        "duration": 27,
        "start_time": "2023-04-18T10:01:27.612Z"
      },
      {
        "duration": 14,
        "start_time": "2023-04-18T10:01:27.641Z"
      },
      {
        "duration": 40,
        "start_time": "2023-04-18T10:01:27.657Z"
      },
      {
        "duration": 396,
        "start_time": "2023-04-18T10:01:27.699Z"
      },
      {
        "duration": 46,
        "start_time": "2023-04-18T10:01:28.097Z"
      },
      {
        "duration": 12884,
        "start_time": "2023-04-18T10:01:28.146Z"
      },
      {
        "duration": 1682,
        "start_time": "2023-04-18T10:01:41.033Z"
      },
      {
        "duration": 7,
        "start_time": "2023-04-18T10:01:42.717Z"
      },
      {
        "duration": 7,
        "start_time": "2023-04-18T10:01:42.727Z"
      },
      {
        "duration": 6298,
        "start_time": "2023-04-18T10:01:42.736Z"
      },
      {
        "duration": 599,
        "start_time": "2023-04-18T10:01:49.037Z"
      },
      {
        "duration": 379,
        "start_time": "2023-04-18T10:01:49.638Z"
      },
      {
        "duration": 31,
        "start_time": "2023-04-18T10:01:50.020Z"
      },
      {
        "duration": 1221,
        "start_time": "2023-04-18T10:01:50.053Z"
      },
      {
        "duration": 49,
        "start_time": "2023-04-18T10:01:51.277Z"
      },
      {
        "duration": 34,
        "start_time": "2023-04-18T10:01:51.328Z"
      },
      {
        "duration": 193,
        "start_time": "2023-04-18T10:01:51.364Z"
      },
      {
        "duration": 38,
        "start_time": "2023-04-18T10:01:51.559Z"
      },
      {
        "duration": 185,
        "start_time": "2023-04-18T10:01:51.599Z"
      },
      {
        "duration": 59,
        "start_time": "2023-04-18T10:01:51.790Z"
      },
      {
        "duration": 62,
        "start_time": "2023-04-18T10:01:51.851Z"
      },
      {
        "duration": 42,
        "start_time": "2023-04-18T10:01:51.916Z"
      },
      {
        "duration": 62,
        "start_time": "2023-04-18T10:01:51.970Z"
      },
      {
        "duration": 7,
        "start_time": "2023-04-18T10:01:52.034Z"
      },
      {
        "duration": 41,
        "start_time": "2023-04-18T10:01:52.044Z"
      },
      {
        "duration": 15,
        "start_time": "2023-04-18T10:01:52.090Z"
      },
      {
        "duration": 18,
        "start_time": "2023-04-18T10:01:52.107Z"
      },
      {
        "duration": 4,
        "start_time": "2023-04-18T10:03:24.376Z"
      },
      {
        "duration": 4,
        "start_time": "2023-04-18T10:03:29.465Z"
      },
      {
        "duration": 4,
        "start_time": "2023-04-18T10:03:37.861Z"
      },
      {
        "duration": 7,
        "start_time": "2023-04-18T10:04:30.714Z"
      },
      {
        "duration": 5,
        "start_time": "2023-04-18T10:04:34.838Z"
      },
      {
        "duration": 48,
        "start_time": "2023-04-18T10:05:05.919Z"
      },
      {
        "duration": 1474,
        "start_time": "2023-04-18T10:05:11.028Z"
      },
      {
        "duration": 514,
        "start_time": "2023-04-18T10:05:12.505Z"
      },
      {
        "duration": 12,
        "start_time": "2023-04-18T10:05:13.021Z"
      },
      {
        "duration": 36,
        "start_time": "2023-04-18T10:05:13.035Z"
      },
      {
        "duration": 17,
        "start_time": "2023-04-18T10:05:13.074Z"
      },
      {
        "duration": 53,
        "start_time": "2023-04-18T10:05:13.093Z"
      },
      {
        "duration": 8,
        "start_time": "2023-04-18T10:05:13.148Z"
      },
      {
        "duration": 47,
        "start_time": "2023-04-18T10:05:13.157Z"
      },
      {
        "duration": 29,
        "start_time": "2023-04-18T10:05:13.206Z"
      },
      {
        "duration": 21,
        "start_time": "2023-04-18T10:05:13.237Z"
      },
      {
        "duration": 94,
        "start_time": "2023-04-18T10:05:13.261Z"
      },
      {
        "duration": 15,
        "start_time": "2023-04-18T10:05:13.357Z"
      },
      {
        "duration": 14,
        "start_time": "2023-04-18T10:05:13.374Z"
      },
      {
        "duration": 37,
        "start_time": "2023-04-18T10:05:13.393Z"
      },
      {
        "duration": 29,
        "start_time": "2023-04-18T10:05:13.432Z"
      },
      {
        "duration": 45,
        "start_time": "2023-04-18T10:05:13.463Z"
      },
      {
        "duration": 11,
        "start_time": "2023-04-18T10:05:13.510Z"
      },
      {
        "duration": 28,
        "start_time": "2023-04-18T10:05:13.523Z"
      },
      {
        "duration": 432,
        "start_time": "2023-04-18T10:05:13.554Z"
      },
      {
        "duration": 49,
        "start_time": "2023-04-18T10:05:13.990Z"
      },
      {
        "duration": 11194,
        "start_time": "2023-04-18T10:05:14.041Z"
      },
      {
        "duration": 1444,
        "start_time": "2023-04-18T10:05:25.237Z"
      },
      {
        "duration": 9,
        "start_time": "2023-04-18T10:05:26.683Z"
      },
      {
        "duration": 6,
        "start_time": "2023-04-18T10:05:26.694Z"
      },
      {
        "duration": 5338,
        "start_time": "2023-04-18T10:05:26.701Z"
      },
      {
        "duration": 544,
        "start_time": "2023-04-18T10:05:32.041Z"
      },
      {
        "duration": 320,
        "start_time": "2023-04-18T10:05:32.586Z"
      },
      {
        "duration": 32,
        "start_time": "2023-04-18T10:05:32.909Z"
      },
      {
        "duration": 1011,
        "start_time": "2023-04-18T10:05:32.943Z"
      },
      {
        "duration": 41,
        "start_time": "2023-04-18T10:05:33.956Z"
      },
      {
        "duration": 30,
        "start_time": "2023-04-18T10:05:33.999Z"
      },
      {
        "duration": 166,
        "start_time": "2023-04-18T10:05:34.031Z"
      },
      {
        "duration": 25,
        "start_time": "2023-04-18T10:05:34.199Z"
      },
      {
        "duration": 163,
        "start_time": "2023-04-18T10:05:34.226Z"
      },
      {
        "duration": 35,
        "start_time": "2023-04-18T10:05:34.391Z"
      },
      {
        "duration": 28,
        "start_time": "2023-04-18T10:05:34.428Z"
      },
      {
        "duration": 48,
        "start_time": "2023-04-18T10:05:34.458Z"
      },
      {
        "duration": 44,
        "start_time": "2023-04-18T10:05:34.508Z"
      },
      {
        "duration": 4,
        "start_time": "2023-04-18T10:05:34.554Z"
      },
      {
        "duration": 30,
        "start_time": "2023-04-18T10:05:34.560Z"
      },
      {
        "duration": 4,
        "start_time": "2023-04-18T10:05:34.594Z"
      },
      {
        "duration": 8,
        "start_time": "2023-04-18T10:05:34.600Z"
      },
      {
        "duration": 21,
        "start_time": "2023-04-18T10:05:34.609Z"
      },
      {
        "duration": 27,
        "start_time": "2023-04-18T10:05:34.632Z"
      },
      {
        "duration": 8,
        "start_time": "2023-04-18T10:05:34.661Z"
      },
      {
        "duration": 16,
        "start_time": "2023-04-18T10:05:34.671Z"
      },
      {
        "duration": 9,
        "start_time": "2023-04-18T10:05:34.688Z"
      },
      {
        "duration": 4,
        "start_time": "2023-04-18T10:07:25.441Z"
      },
      {
        "duration": 5,
        "start_time": "2023-04-18T10:07:29.250Z"
      },
      {
        "duration": 4,
        "start_time": "2023-04-18T10:07:39.668Z"
      },
      {
        "duration": 5,
        "start_time": "2023-04-18T10:07:45.626Z"
      },
      {
        "duration": 1303,
        "start_time": "2023-04-18T10:07:54.928Z"
      },
      {
        "duration": 246,
        "start_time": "2023-04-18T10:07:56.233Z"
      },
      {
        "duration": 16,
        "start_time": "2023-04-18T10:07:56.480Z"
      },
      {
        "duration": 19,
        "start_time": "2023-04-18T10:07:56.498Z"
      },
      {
        "duration": 3,
        "start_time": "2023-04-18T10:07:56.519Z"
      },
      {
        "duration": 39,
        "start_time": "2023-04-18T10:07:56.523Z"
      },
      {
        "duration": 28,
        "start_time": "2023-04-18T10:07:56.564Z"
      },
      {
        "duration": 25,
        "start_time": "2023-04-18T10:07:56.594Z"
      },
      {
        "duration": 19,
        "start_time": "2023-04-18T10:07:56.621Z"
      },
      {
        "duration": 10,
        "start_time": "2023-04-18T10:07:56.642Z"
      },
      {
        "duration": 71,
        "start_time": "2023-04-18T10:07:56.654Z"
      },
      {
        "duration": 13,
        "start_time": "2023-04-18T10:07:56.726Z"
      },
      {
        "duration": 5,
        "start_time": "2023-04-18T10:07:56.741Z"
      },
      {
        "duration": 46,
        "start_time": "2023-04-18T10:07:56.750Z"
      },
      {
        "duration": 28,
        "start_time": "2023-04-18T10:07:56.798Z"
      },
      {
        "duration": 26,
        "start_time": "2023-04-18T10:07:56.827Z"
      },
      {
        "duration": 10,
        "start_time": "2023-04-18T10:07:56.855Z"
      },
      {
        "duration": 36,
        "start_time": "2023-04-18T10:07:56.866Z"
      },
      {
        "duration": 358,
        "start_time": "2023-04-18T10:07:56.903Z"
      },
      {
        "duration": 53,
        "start_time": "2023-04-18T10:07:57.263Z"
      },
      {
        "duration": 11165,
        "start_time": "2023-04-18T10:07:57.318Z"
      },
      {
        "duration": 1475,
        "start_time": "2023-04-18T10:08:08.484Z"
      },
      {
        "duration": 5,
        "start_time": "2023-04-18T10:08:09.961Z"
      },
      {
        "duration": 5,
        "start_time": "2023-04-18T10:08:09.968Z"
      },
      {
        "duration": 5445,
        "start_time": "2023-04-18T10:08:09.974Z"
      },
      {
        "duration": 566,
        "start_time": "2023-04-18T10:08:15.421Z"
      },
      {
        "duration": 337,
        "start_time": "2023-04-18T10:08:15.989Z"
      },
      {
        "duration": 31,
        "start_time": "2023-04-18T10:08:16.328Z"
      },
      {
        "duration": 1061,
        "start_time": "2023-04-18T10:08:16.362Z"
      },
      {
        "duration": 30,
        "start_time": "2023-04-18T10:08:17.425Z"
      },
      {
        "duration": 50,
        "start_time": "2023-04-18T10:08:17.458Z"
      },
      {
        "duration": 171,
        "start_time": "2023-04-18T10:08:17.510Z"
      },
      {
        "duration": 27,
        "start_time": "2023-04-18T10:08:17.684Z"
      },
      {
        "duration": 166,
        "start_time": "2023-04-18T10:08:17.713Z"
      },
      {
        "duration": 45,
        "start_time": "2023-04-18T10:08:17.881Z"
      },
      {
        "duration": 5,
        "start_time": "2023-04-18T10:08:17.928Z"
      },
      {
        "duration": 7,
        "start_time": "2023-04-18T10:08:17.935Z"
      },
      {
        "duration": 13,
        "start_time": "2023-04-18T10:08:17.945Z"
      },
      {
        "duration": 30,
        "start_time": "2023-04-18T10:08:17.960Z"
      },
      {
        "duration": 28,
        "start_time": "2023-04-18T10:08:17.992Z"
      },
      {
        "duration": 27,
        "start_time": "2023-04-18T10:08:18.024Z"
      },
      {
        "duration": 70,
        "start_time": "2023-04-18T10:08:18.053Z"
      },
      {
        "duration": 3,
        "start_time": "2023-04-18T10:08:18.125Z"
      },
      {
        "duration": 9,
        "start_time": "2023-04-18T10:08:18.130Z"
      },
      {
        "duration": 8,
        "start_time": "2023-04-18T10:08:18.141Z"
      },
      {
        "duration": 9,
        "start_time": "2023-04-18T10:08:18.150Z"
      },
      {
        "duration": 29,
        "start_time": "2023-04-18T10:08:18.161Z"
      },
      {
        "duration": 6,
        "start_time": "2023-04-18T10:08:18.192Z"
      },
      {
        "duration": 6,
        "start_time": "2023-04-18T10:08:18.200Z"
      },
      {
        "duration": 6,
        "start_time": "2023-04-18T10:08:18.208Z"
      },
      {
        "duration": 12,
        "start_time": "2023-04-18T10:08:18.216Z"
      },
      {
        "duration": 4,
        "start_time": "2023-04-18T10:08:45.959Z"
      },
      {
        "duration": 126,
        "start_time": "2023-04-18T10:10:55.984Z"
      },
      {
        "duration": 24,
        "start_time": "2023-04-18T10:11:05.843Z"
      },
      {
        "duration": 12,
        "start_time": "2023-04-18T10:12:24.323Z"
      },
      {
        "duration": 1528,
        "start_time": "2023-04-18T10:12:32.353Z"
      },
      {
        "duration": 30,
        "start_time": "2023-04-18T10:12:33.883Z"
      },
      {
        "duration": 43,
        "start_time": "2023-04-18T10:12:46.611Z"
      },
      {
        "duration": 25,
        "start_time": "2023-04-18T10:12:48.080Z"
      },
      {
        "duration": 4,
        "start_time": "2023-04-18T10:12:50.431Z"
      },
      {
        "duration": 4,
        "start_time": "2023-04-18T10:12:51.794Z"
      },
      {
        "duration": 4,
        "start_time": "2023-04-18T10:12:53.015Z"
      },
      {
        "duration": 4,
        "start_time": "2023-04-18T10:12:54.356Z"
      },
      {
        "duration": 5,
        "start_time": "2023-04-18T10:12:55.829Z"
      },
      {
        "duration": 5,
        "start_time": "2023-04-18T10:12:56.927Z"
      },
      {
        "duration": 4,
        "start_time": "2023-04-18T10:12:58.058Z"
      },
      {
        "duration": 4,
        "start_time": "2023-04-18T10:12:59.112Z"
      },
      {
        "duration": 4,
        "start_time": "2023-04-18T10:13:00.469Z"
      },
      {
        "duration": 1788,
        "start_time": "2023-04-18T10:13:06.630Z"
      },
      {
        "duration": 310,
        "start_time": "2023-04-18T10:13:08.420Z"
      },
      {
        "duration": 12,
        "start_time": "2023-04-18T10:13:08.731Z"
      },
      {
        "duration": 45,
        "start_time": "2023-04-18T10:13:08.746Z"
      },
      {
        "duration": 3,
        "start_time": "2023-04-18T10:13:08.793Z"
      },
      {
        "duration": 73,
        "start_time": "2023-04-18T10:13:08.798Z"
      },
      {
        "duration": 8,
        "start_time": "2023-04-18T10:13:08.872Z"
      },
      {
        "duration": 27,
        "start_time": "2023-04-18T10:13:08.881Z"
      },
      {
        "duration": 20,
        "start_time": "2023-04-18T10:13:08.909Z"
      },
      {
        "duration": 11,
        "start_time": "2023-04-18T10:13:08.932Z"
      },
      {
        "duration": 52,
        "start_time": "2023-04-18T10:13:08.945Z"
      },
      {
        "duration": 14,
        "start_time": "2023-04-18T10:13:08.999Z"
      },
      {
        "duration": 21,
        "start_time": "2023-04-18T10:13:09.015Z"
      },
      {
        "duration": 26,
        "start_time": "2023-04-18T10:13:09.038Z"
      },
      {
        "duration": 27,
        "start_time": "2023-04-18T10:13:09.066Z"
      },
      {
        "duration": 25,
        "start_time": "2023-04-18T10:13:09.095Z"
      },
      {
        "duration": 10,
        "start_time": "2023-04-18T10:13:09.122Z"
      },
      {
        "duration": 16,
        "start_time": "2023-04-18T10:13:09.134Z"
      },
      {
        "duration": 448,
        "start_time": "2023-04-18T10:13:09.152Z"
      },
      {
        "duration": 108,
        "start_time": "2023-04-18T10:13:09.602Z"
      },
      {
        "duration": 11736,
        "start_time": "2023-04-18T10:13:09.712Z"
      },
      {
        "duration": 1512,
        "start_time": "2023-04-18T10:13:21.450Z"
      },
      {
        "duration": 5,
        "start_time": "2023-04-18T10:13:22.964Z"
      },
      {
        "duration": 9,
        "start_time": "2023-04-18T10:13:22.971Z"
      },
      {
        "duration": 5195,
        "start_time": "2023-04-18T10:13:22.990Z"
      },
      {
        "duration": 594,
        "start_time": "2023-04-18T10:13:28.187Z"
      },
      {
        "duration": 316,
        "start_time": "2023-04-18T10:13:28.783Z"
      },
      {
        "duration": 29,
        "start_time": "2023-04-18T10:13:29.105Z"
      },
      {
        "duration": 1004,
        "start_time": "2023-04-18T10:13:29.136Z"
      },
      {
        "duration": 28,
        "start_time": "2023-04-18T10:13:30.142Z"
      },
      {
        "duration": 49,
        "start_time": "2023-04-18T10:13:30.172Z"
      },
      {
        "duration": 194,
        "start_time": "2023-04-18T10:13:30.223Z"
      },
      {
        "duration": 26,
        "start_time": "2023-04-18T10:13:30.419Z"
      },
      {
        "duration": 174,
        "start_time": "2023-04-18T10:13:30.447Z"
      },
      {
        "duration": 41,
        "start_time": "2023-04-18T10:13:30.623Z"
      },
      {
        "duration": 51,
        "start_time": "2023-04-18T10:13:30.666Z"
      },
      {
        "duration": 43,
        "start_time": "2023-04-18T10:13:30.719Z"
      },
      {
        "duration": 97,
        "start_time": "2023-04-18T10:13:30.764Z"
      },
      {
        "duration": 64,
        "start_time": "2023-04-18T10:13:30.863Z"
      },
      {
        "duration": 26,
        "start_time": "2023-04-18T10:13:30.929Z"
      },
      {
        "duration": 39,
        "start_time": "2023-04-18T10:13:30.958Z"
      },
      {
        "duration": 33,
        "start_time": "2023-04-18T10:13:30.999Z"
      },
      {
        "duration": 33,
        "start_time": "2023-04-18T10:13:31.035Z"
      },
      {
        "duration": 42,
        "start_time": "2023-04-18T10:13:31.070Z"
      },
      {
        "duration": 37,
        "start_time": "2023-04-18T10:13:31.114Z"
      },
      {
        "duration": 22,
        "start_time": "2023-04-18T10:13:31.153Z"
      },
      {
        "duration": 34,
        "start_time": "2023-04-18T10:13:31.178Z"
      },
      {
        "duration": 33,
        "start_time": "2023-04-18T10:13:31.214Z"
      },
      {
        "duration": 23,
        "start_time": "2023-04-18T10:13:31.250Z"
      },
      {
        "duration": 31,
        "start_time": "2023-04-18T10:13:31.275Z"
      },
      {
        "duration": 4,
        "start_time": "2023-04-18T10:14:54.334Z"
      },
      {
        "duration": 4,
        "start_time": "2023-04-18T10:15:25.427Z"
      },
      {
        "duration": 5,
        "start_time": "2023-04-18T10:15:36.186Z"
      },
      {
        "duration": 4,
        "start_time": "2023-04-18T10:15:47.919Z"
      },
      {
        "duration": 4,
        "start_time": "2023-04-18T10:15:55.420Z"
      },
      {
        "duration": 5,
        "start_time": "2023-04-18T10:16:00.227Z"
      },
      {
        "duration": 4,
        "start_time": "2023-04-18T10:16:46.929Z"
      },
      {
        "duration": 5,
        "start_time": "2023-04-18T10:17:51.573Z"
      },
      {
        "duration": 4,
        "start_time": "2023-04-18T10:17:56.939Z"
      },
      {
        "duration": 5,
        "start_time": "2023-04-18T10:18:16.226Z"
      },
      {
        "duration": 4,
        "start_time": "2023-04-18T10:18:30.851Z"
      },
      {
        "duration": 46,
        "start_time": "2023-04-18T10:19:47.080Z"
      },
      {
        "duration": 4,
        "start_time": "2023-04-18T10:20:18.424Z"
      },
      {
        "duration": 4,
        "start_time": "2023-04-18T10:20:19.833Z"
      },
      {
        "duration": 3,
        "start_time": "2023-04-18T10:21:04.846Z"
      },
      {
        "duration": 45,
        "start_time": "2023-04-18T10:21:59.084Z"
      },
      {
        "duration": 18,
        "start_time": "2023-04-18T10:22:42.811Z"
      },
      {
        "duration": 32,
        "start_time": "2023-04-18T10:22:43.929Z"
      },
      {
        "duration": 18,
        "start_time": "2023-04-18T10:22:45.419Z"
      },
      {
        "duration": 28,
        "start_time": "2023-04-18T10:22:48.127Z"
      },
      {
        "duration": 33,
        "start_time": "2023-04-18T10:22:49.129Z"
      },
      {
        "duration": 28,
        "start_time": "2023-04-18T10:23:00.771Z"
      },
      {
        "duration": 44,
        "start_time": "2023-04-18T10:23:12.274Z"
      },
      {
        "duration": 197,
        "start_time": "2023-04-18T10:36:38.846Z"
      },
      {
        "duration": 58,
        "start_time": "2023-04-18T10:37:16.328Z"
      },
      {
        "duration": 52,
        "start_time": "2023-04-18T10:39:00.456Z"
      },
      {
        "duration": 1909,
        "start_time": "2023-04-18T10:39:19.129Z"
      },
      {
        "duration": 392,
        "start_time": "2023-04-18T10:39:21.042Z"
      },
      {
        "duration": 14,
        "start_time": "2023-04-18T10:39:21.439Z"
      },
      {
        "duration": 43,
        "start_time": "2023-04-18T10:39:21.457Z"
      },
      {
        "duration": 4,
        "start_time": "2023-04-18T10:39:21.503Z"
      },
      {
        "duration": 62,
        "start_time": "2023-04-18T10:39:21.510Z"
      },
      {
        "duration": 12,
        "start_time": "2023-04-18T10:39:21.590Z"
      },
      {
        "duration": 44,
        "start_time": "2023-04-18T10:39:21.610Z"
      },
      {
        "duration": 52,
        "start_time": "2023-04-18T10:39:21.658Z"
      },
      {
        "duration": 20,
        "start_time": "2023-04-18T10:39:21.715Z"
      },
      {
        "duration": 73,
        "start_time": "2023-04-18T10:39:21.738Z"
      },
      {
        "duration": 16,
        "start_time": "2023-04-18T10:39:21.813Z"
      },
      {
        "duration": 22,
        "start_time": "2023-04-18T10:39:21.831Z"
      },
      {
        "duration": 43,
        "start_time": "2023-04-18T10:39:21.855Z"
      },
      {
        "duration": 38,
        "start_time": "2023-04-18T10:39:21.901Z"
      },
      {
        "duration": 47,
        "start_time": "2023-04-18T10:39:21.941Z"
      },
      {
        "duration": 11,
        "start_time": "2023-04-18T10:39:21.990Z"
      },
      {
        "duration": 17,
        "start_time": "2023-04-18T10:39:22.003Z"
      },
      {
        "duration": 798,
        "start_time": "2023-04-18T10:39:22.022Z"
      },
      {
        "duration": 106,
        "start_time": "2023-04-18T10:39:22.823Z"
      },
      {
        "duration": 13789,
        "start_time": "2023-04-18T10:39:22.938Z"
      },
      {
        "duration": 1545,
        "start_time": "2023-04-18T10:39:36.729Z"
      },
      {
        "duration": 6,
        "start_time": "2023-04-18T10:39:38.276Z"
      },
      {
        "duration": 5,
        "start_time": "2023-04-18T10:39:38.289Z"
      },
      {
        "duration": 6527,
        "start_time": "2023-04-18T10:39:38.295Z"
      },
      {
        "duration": 655,
        "start_time": "2023-04-18T10:39:44.824Z"
      },
      {
        "duration": 377,
        "start_time": "2023-04-18T10:39:45.481Z"
      },
      {
        "duration": 58,
        "start_time": "2023-04-18T10:39:45.863Z"
      },
      {
        "duration": 1215,
        "start_time": "2023-04-18T10:39:45.924Z"
      },
      {
        "duration": 48,
        "start_time": "2023-04-18T10:39:47.141Z"
      },
      {
        "duration": 43,
        "start_time": "2023-04-18T10:39:47.192Z"
      },
      {
        "duration": 260,
        "start_time": "2023-04-18T10:39:47.237Z"
      },
      {
        "duration": 32,
        "start_time": "2023-04-18T10:39:47.499Z"
      },
      {
        "duration": 177,
        "start_time": "2023-04-18T10:39:47.535Z"
      },
      {
        "duration": 52,
        "start_time": "2023-04-18T10:39:47.714Z"
      },
      {
        "duration": 60,
        "start_time": "2023-04-18T10:39:47.768Z"
      },
      {
        "duration": 35,
        "start_time": "2023-04-18T10:39:47.830Z"
      },
      {
        "duration": 217,
        "start_time": "2023-04-18T10:39:47.868Z"
      },
      {
        "duration": 0,
        "start_time": "2023-04-18T10:39:48.094Z"
      },
      {
        "duration": 0,
        "start_time": "2023-04-18T10:39:48.096Z"
      },
      {
        "duration": 0,
        "start_time": "2023-04-18T10:39:48.097Z"
      },
      {
        "duration": 0,
        "start_time": "2023-04-18T10:39:48.100Z"
      },
      {
        "duration": 0,
        "start_time": "2023-04-18T10:39:48.101Z"
      },
      {
        "duration": 0,
        "start_time": "2023-04-18T10:39:48.104Z"
      },
      {
        "duration": 0,
        "start_time": "2023-04-18T10:39:48.105Z"
      },
      {
        "duration": 0,
        "start_time": "2023-04-18T10:39:48.106Z"
      },
      {
        "duration": 0,
        "start_time": "2023-04-18T10:39:48.107Z"
      },
      {
        "duration": 0,
        "start_time": "2023-04-18T10:39:48.107Z"
      },
      {
        "duration": 0,
        "start_time": "2023-04-18T10:39:48.109Z"
      },
      {
        "duration": 0,
        "start_time": "2023-04-18T10:39:48.111Z"
      },
      {
        "duration": 0,
        "start_time": "2023-04-18T10:39:48.113Z"
      },
      {
        "duration": 0,
        "start_time": "2023-04-18T10:39:48.114Z"
      },
      {
        "duration": 0,
        "start_time": "2023-04-18T10:39:48.119Z"
      },
      {
        "duration": 0,
        "start_time": "2023-04-18T10:39:48.124Z"
      },
      {
        "duration": 0,
        "start_time": "2023-04-18T10:39:48.125Z"
      },
      {
        "duration": 0,
        "start_time": "2023-04-18T10:39:48.128Z"
      },
      {
        "duration": 0,
        "start_time": "2023-04-18T10:39:48.131Z"
      },
      {
        "duration": 20,
        "start_time": "2023-04-18T10:41:08.913Z"
      },
      {
        "duration": 61,
        "start_time": "2023-04-18T10:41:40.532Z"
      },
      {
        "duration": 5,
        "start_time": "2023-04-18T10:41:50.220Z"
      },
      {
        "duration": 5,
        "start_time": "2023-04-18T10:42:03.785Z"
      },
      {
        "duration": 45,
        "start_time": "2023-04-18T10:42:52.643Z"
      },
      {
        "duration": 75,
        "start_time": "2023-04-18T10:42:56.316Z"
      },
      {
        "duration": 5,
        "start_time": "2023-04-18T10:43:30.869Z"
      },
      {
        "duration": 5,
        "start_time": "2023-04-18T10:43:40.788Z"
      },
      {
        "duration": 54,
        "start_time": "2023-04-18T10:44:07.887Z"
      },
      {
        "duration": 4,
        "start_time": "2023-04-18T10:44:16.528Z"
      },
      {
        "duration": 5,
        "start_time": "2023-04-18T10:44:18.216Z"
      },
      {
        "duration": 5,
        "start_time": "2023-04-18T10:44:20.757Z"
      },
      {
        "duration": 4,
        "start_time": "2023-04-18T10:44:24.864Z"
      },
      {
        "duration": 4,
        "start_time": "2023-04-18T10:44:25.857Z"
      },
      {
        "duration": 4,
        "start_time": "2023-04-18T10:44:26.849Z"
      },
      {
        "duration": 4,
        "start_time": "2023-04-18T10:44:27.815Z"
      },
      {
        "duration": 5,
        "start_time": "2023-04-18T10:44:39.063Z"
      },
      {
        "duration": 5,
        "start_time": "2023-04-18T10:44:46.280Z"
      },
      {
        "duration": 1530,
        "start_time": "2023-04-18T10:48:28.728Z"
      },
      {
        "duration": 318,
        "start_time": "2023-04-18T10:48:30.260Z"
      },
      {
        "duration": 22,
        "start_time": "2023-04-18T10:48:30.581Z"
      },
      {
        "duration": 63,
        "start_time": "2023-04-18T10:48:30.607Z"
      },
      {
        "duration": 28,
        "start_time": "2023-04-18T10:48:30.674Z"
      },
      {
        "duration": 83,
        "start_time": "2023-04-18T10:48:30.704Z"
      },
      {
        "duration": 14,
        "start_time": "2023-04-18T10:48:30.789Z"
      },
      {
        "duration": 97,
        "start_time": "2023-04-18T10:48:30.806Z"
      },
      {
        "duration": 33,
        "start_time": "2023-04-18T10:48:30.905Z"
      },
      {
        "duration": 53,
        "start_time": "2023-04-18T10:48:30.941Z"
      },
      {
        "duration": 87,
        "start_time": "2023-04-18T10:48:30.995Z"
      },
      {
        "duration": 31,
        "start_time": "2023-04-18T10:48:31.084Z"
      },
      {
        "duration": 40,
        "start_time": "2023-04-18T10:48:31.117Z"
      },
      {
        "duration": 66,
        "start_time": "2023-04-18T10:48:31.162Z"
      },
      {
        "duration": 39,
        "start_time": "2023-04-18T10:48:31.231Z"
      },
      {
        "duration": 38,
        "start_time": "2023-04-18T10:48:31.273Z"
      },
      {
        "duration": 11,
        "start_time": "2023-04-18T10:48:31.313Z"
      },
      {
        "duration": 33,
        "start_time": "2023-04-18T10:48:31.326Z"
      },
      {
        "duration": 439,
        "start_time": "2023-04-18T10:48:31.361Z"
      },
      {
        "duration": 49,
        "start_time": "2023-04-18T10:48:31.802Z"
      },
      {
        "duration": 10695,
        "start_time": "2023-04-18T10:48:31.853Z"
      },
      {
        "duration": 1500,
        "start_time": "2023-04-18T10:48:42.550Z"
      },
      {
        "duration": 7,
        "start_time": "2023-04-18T10:48:44.052Z"
      },
      {
        "duration": 13,
        "start_time": "2023-04-18T10:48:44.061Z"
      },
      {
        "duration": 5361,
        "start_time": "2023-04-18T10:48:44.077Z"
      },
      {
        "duration": 648,
        "start_time": "2023-04-18T10:48:49.440Z"
      },
      {
        "duration": 323,
        "start_time": "2023-04-18T10:48:50.090Z"
      },
      {
        "duration": 34,
        "start_time": "2023-04-18T10:48:50.415Z"
      },
      {
        "duration": 1074,
        "start_time": "2023-04-18T10:48:50.450Z"
      },
      {
        "duration": 31,
        "start_time": "2023-04-18T10:48:51.526Z"
      },
      {
        "duration": 51,
        "start_time": "2023-04-18T10:48:51.559Z"
      },
      {
        "duration": 193,
        "start_time": "2023-04-18T10:48:51.612Z"
      },
      {
        "duration": 27,
        "start_time": "2023-04-18T10:48:51.806Z"
      },
      {
        "duration": 181,
        "start_time": "2023-04-18T10:48:51.835Z"
      },
      {
        "duration": 38,
        "start_time": "2023-04-18T10:48:52.018Z"
      },
      {
        "duration": 49,
        "start_time": "2023-04-18T10:48:52.058Z"
      },
      {
        "duration": 28,
        "start_time": "2023-04-18T10:48:52.109Z"
      },
      {
        "duration": 19,
        "start_time": "2023-04-18T10:48:52.139Z"
      },
      {
        "duration": 194,
        "start_time": "2023-04-18T10:48:52.160Z"
      },
      {
        "duration": 57,
        "start_time": "2023-04-18T10:51:05.125Z"
      },
      {
        "duration": 31,
        "start_time": "2023-04-18T10:51:13.926Z"
      },
      {
        "duration": 29,
        "start_time": "2023-04-18T10:51:14.912Z"
      },
      {
        "duration": 5,
        "start_time": "2023-04-18T10:51:27.953Z"
      },
      {
        "duration": 4,
        "start_time": "2023-04-18T10:51:36.845Z"
      },
      {
        "duration": 5,
        "start_time": "2023-04-18T10:51:42.526Z"
      },
      {
        "duration": 5,
        "start_time": "2023-04-18T10:51:47.872Z"
      },
      {
        "duration": 4,
        "start_time": "2023-04-18T10:51:54.024Z"
      },
      {
        "duration": 47,
        "start_time": "2023-04-18T10:52:20.826Z"
      },
      {
        "duration": 36,
        "start_time": "2023-04-18T10:52:23.352Z"
      },
      {
        "duration": 29,
        "start_time": "2023-04-18T10:52:25.723Z"
      },
      {
        "duration": 4,
        "start_time": "2023-04-18T10:52:27.321Z"
      },
      {
        "duration": 33,
        "start_time": "2023-04-18T10:52:31.063Z"
      },
      {
        "duration": 4,
        "start_time": "2023-04-18T10:52:37.502Z"
      },
      {
        "duration": 68,
        "start_time": "2023-04-18T10:53:36.669Z"
      },
      {
        "duration": 4,
        "start_time": "2023-04-18T10:54:00.353Z"
      },
      {
        "duration": 5,
        "start_time": "2023-04-18T10:54:04.225Z"
      },
      {
        "duration": 36,
        "start_time": "2023-04-18T11:53:18.241Z"
      },
      {
        "duration": 5353,
        "start_time": "2023-04-18T12:26:37.850Z"
      },
      {
        "duration": 5563,
        "start_time": "2023-04-18T12:26:56.035Z"
      },
      {
        "duration": 1454,
        "start_time": "2023-04-18T12:27:07.933Z"
      },
      {
        "duration": 286,
        "start_time": "2023-04-18T12:27:09.389Z"
      },
      {
        "duration": 18,
        "start_time": "2023-04-18T12:27:09.677Z"
      },
      {
        "duration": 21,
        "start_time": "2023-04-18T12:27:09.697Z"
      },
      {
        "duration": 4,
        "start_time": "2023-04-18T12:27:09.721Z"
      },
      {
        "duration": 64,
        "start_time": "2023-04-18T12:27:09.726Z"
      },
      {
        "duration": 8,
        "start_time": "2023-04-18T12:27:09.791Z"
      },
      {
        "duration": 29,
        "start_time": "2023-04-18T12:27:09.801Z"
      },
      {
        "duration": 20,
        "start_time": "2023-04-18T12:27:09.832Z"
      },
      {
        "duration": 38,
        "start_time": "2023-04-18T12:27:09.854Z"
      },
      {
        "duration": 54,
        "start_time": "2023-04-18T12:27:09.894Z"
      },
      {
        "duration": 19,
        "start_time": "2023-04-18T12:27:09.950Z"
      },
      {
        "duration": 7,
        "start_time": "2023-04-18T12:27:09.990Z"
      },
      {
        "duration": 27,
        "start_time": "2023-04-18T12:27:10.001Z"
      },
      {
        "duration": 29,
        "start_time": "2023-04-18T12:27:10.030Z"
      },
      {
        "duration": 27,
        "start_time": "2023-04-18T12:27:10.088Z"
      },
      {
        "duration": 11,
        "start_time": "2023-04-18T12:27:10.117Z"
      },
      {
        "duration": 15,
        "start_time": "2023-04-18T12:27:10.130Z"
      },
      {
        "duration": 410,
        "start_time": "2023-04-18T12:27:10.147Z"
      },
      {
        "duration": 58,
        "start_time": "2023-04-18T12:27:10.560Z"
      },
      {
        "duration": 11615,
        "start_time": "2023-04-18T12:27:10.620Z"
      },
      {
        "duration": 1587,
        "start_time": "2023-04-18T12:27:22.237Z"
      },
      {
        "duration": 6,
        "start_time": "2023-04-18T12:27:23.826Z"
      },
      {
        "duration": 38,
        "start_time": "2023-04-18T12:27:23.834Z"
      },
      {
        "duration": 5465,
        "start_time": "2023-04-18T12:27:23.874Z"
      },
      {
        "duration": 649,
        "start_time": "2023-04-18T12:27:29.342Z"
      },
      {
        "duration": 341,
        "start_time": "2023-04-18T12:27:29.993Z"
      },
      {
        "duration": 33,
        "start_time": "2023-04-18T12:27:30.336Z"
      },
      {
        "duration": 1115,
        "start_time": "2023-04-18T12:27:30.372Z"
      },
      {
        "duration": 35,
        "start_time": "2023-04-18T12:27:31.490Z"
      },
      {
        "duration": 52,
        "start_time": "2023-04-18T12:27:31.527Z"
      },
      {
        "duration": 230,
        "start_time": "2023-04-18T12:27:31.581Z"
      },
      {
        "duration": 29,
        "start_time": "2023-04-18T12:27:31.814Z"
      },
      {
        "duration": 184,
        "start_time": "2023-04-18T12:27:31.845Z"
      },
      {
        "duration": 41,
        "start_time": "2023-04-18T12:27:32.031Z"
      },
      {
        "duration": 67,
        "start_time": "2023-04-18T12:27:32.074Z"
      },
      {
        "duration": 5,
        "start_time": "2023-04-18T12:29:33.938Z"
      },
      {
        "duration": 5509,
        "start_time": "2023-04-18T12:31:00.035Z"
      },
      {
        "duration": 12,
        "start_time": "2023-04-18T12:31:08.928Z"
      },
      {
        "duration": 2684,
        "start_time": "2023-04-18T12:32:27.252Z"
      },
      {
        "duration": 50,
        "start_time": "2023-04-18T12:34:44.022Z"
      },
      {
        "duration": 51,
        "start_time": "2023-04-18T12:35:02.652Z"
      },
      {
        "duration": 4,
        "start_time": "2023-04-18T12:35:09.657Z"
      },
      {
        "duration": 10,
        "start_time": "2023-04-18T12:35:16.688Z"
      },
      {
        "duration": 4,
        "start_time": "2023-04-18T12:35:26.962Z"
      },
      {
        "duration": 5,
        "start_time": "2023-04-18T12:35:31.830Z"
      },
      {
        "duration": 4,
        "start_time": "2023-04-18T12:35:41.831Z"
      },
      {
        "duration": 5,
        "start_time": "2023-04-18T12:35:49.216Z"
      },
      {
        "duration": 4,
        "start_time": "2023-04-18T12:37:23.312Z"
      },
      {
        "duration": 4,
        "start_time": "2023-04-18T12:37:27.138Z"
      },
      {
        "duration": 5,
        "start_time": "2023-04-18T12:37:35.469Z"
      },
      {
        "duration": 1490,
        "start_time": "2023-04-18T12:37:46.355Z"
      },
      {
        "duration": 382,
        "start_time": "2023-04-18T12:37:47.847Z"
      },
      {
        "duration": 14,
        "start_time": "2023-04-18T12:37:48.231Z"
      },
      {
        "duration": 29,
        "start_time": "2023-04-18T12:37:48.247Z"
      },
      {
        "duration": 10,
        "start_time": "2023-04-18T12:37:48.279Z"
      },
      {
        "duration": 45,
        "start_time": "2023-04-18T12:37:48.291Z"
      },
      {
        "duration": 7,
        "start_time": "2023-04-18T12:37:48.338Z"
      },
      {
        "duration": 57,
        "start_time": "2023-04-18T12:37:48.347Z"
      },
      {
        "duration": 21,
        "start_time": "2023-04-18T12:37:48.406Z"
      },
      {
        "duration": 13,
        "start_time": "2023-04-18T12:37:48.429Z"
      },
      {
        "duration": 74,
        "start_time": "2023-04-18T12:37:48.444Z"
      },
      {
        "duration": 13,
        "start_time": "2023-04-18T12:37:48.520Z"
      },
      {
        "duration": 5,
        "start_time": "2023-04-18T12:37:48.535Z"
      },
      {
        "duration": 58,
        "start_time": "2023-04-18T12:37:48.543Z"
      },
      {
        "duration": 28,
        "start_time": "2023-04-18T12:37:48.606Z"
      },
      {
        "duration": 26,
        "start_time": "2023-04-18T12:37:48.635Z"
      },
      {
        "duration": 9,
        "start_time": "2023-04-18T12:37:48.663Z"
      },
      {
        "duration": 26,
        "start_time": "2023-04-18T12:37:48.688Z"
      },
      {
        "duration": 394,
        "start_time": "2023-04-18T12:37:48.715Z"
      },
      {
        "duration": 47,
        "start_time": "2023-04-18T12:37:49.111Z"
      },
      {
        "duration": 11639,
        "start_time": "2023-04-18T12:37:49.160Z"
      },
      {
        "duration": 1692,
        "start_time": "2023-04-18T12:38:00.801Z"
      },
      {
        "duration": 9,
        "start_time": "2023-04-18T12:38:02.495Z"
      },
      {
        "duration": 30,
        "start_time": "2023-04-18T12:38:02.506Z"
      },
      {
        "duration": 2884,
        "start_time": "2023-04-18T12:38:02.538Z"
      },
      {
        "duration": 13,
        "start_time": "2023-04-18T12:38:05.424Z"
      },
      {
        "duration": 642,
        "start_time": "2023-04-18T12:38:05.438Z"
      },
      {
        "duration": 343,
        "start_time": "2023-04-18T12:38:06.082Z"
      },
      {
        "duration": 35,
        "start_time": "2023-04-18T12:38:06.428Z"
      },
      {
        "duration": 1163,
        "start_time": "2023-04-18T12:38:06.465Z"
      },
      {
        "duration": 32,
        "start_time": "2023-04-18T12:38:07.630Z"
      },
      {
        "duration": 56,
        "start_time": "2023-04-18T12:38:07.665Z"
      },
      {
        "duration": 246,
        "start_time": "2023-04-18T12:38:07.722Z"
      },
      {
        "duration": 32,
        "start_time": "2023-04-18T12:38:07.970Z"
      },
      {
        "duration": 195,
        "start_time": "2023-04-18T12:38:08.004Z"
      },
      {
        "duration": 49,
        "start_time": "2023-04-18T12:38:08.202Z"
      },
      {
        "duration": 5,
        "start_time": "2023-04-18T12:38:08.253Z"
      },
      {
        "duration": 27,
        "start_time": "2023-04-18T12:38:08.261Z"
      },
      {
        "duration": 4,
        "start_time": "2023-04-18T12:38:08.305Z"
      },
      {
        "duration": 73,
        "start_time": "2023-04-18T12:38:08.311Z"
      },
      {
        "duration": 4,
        "start_time": "2023-04-18T12:38:08.388Z"
      },
      {
        "duration": 17,
        "start_time": "2023-04-18T12:38:08.394Z"
      },
      {
        "duration": 16,
        "start_time": "2023-04-18T12:38:08.415Z"
      },
      {
        "duration": 5,
        "start_time": "2023-04-18T12:38:25.524Z"
      },
      {
        "duration": 46,
        "start_time": "2023-04-18T12:38:37.867Z"
      },
      {
        "duration": 5,
        "start_time": "2023-04-18T12:38:39.312Z"
      },
      {
        "duration": 5,
        "start_time": "2023-04-18T12:38:48.126Z"
      },
      {
        "duration": 4,
        "start_time": "2023-04-18T12:38:57.343Z"
      },
      {
        "duration": 54,
        "start_time": "2023-04-18T12:38:58.811Z"
      },
      {
        "duration": 5,
        "start_time": "2023-04-18T12:38:59.924Z"
      },
      {
        "duration": 5,
        "start_time": "2023-04-18T12:39:02.124Z"
      },
      {
        "duration": 5,
        "start_time": "2023-04-18T12:39:43.716Z"
      },
      {
        "duration": 41,
        "start_time": "2023-04-18T12:39:45.459Z"
      },
      {
        "duration": 5,
        "start_time": "2023-04-18T12:39:46.839Z"
      },
      {
        "duration": 54,
        "start_time": "2023-04-18T12:39:49.067Z"
      },
      {
        "duration": 5,
        "start_time": "2023-04-18T12:39:56.373Z"
      },
      {
        "duration": 47,
        "start_time": "2023-04-18T12:39:57.613Z"
      },
      {
        "duration": 4,
        "start_time": "2023-04-18T12:39:58.575Z"
      },
      {
        "duration": 4,
        "start_time": "2023-04-18T12:41:47.572Z"
      },
      {
        "duration": 4,
        "start_time": "2023-04-18T12:41:57.228Z"
      },
      {
        "duration": 4,
        "start_time": "2023-04-18T12:42:03.627Z"
      },
      {
        "duration": 1635,
        "start_time": "2023-04-18T12:42:09.727Z"
      },
      {
        "duration": 338,
        "start_time": "2023-04-18T12:42:11.365Z"
      },
      {
        "duration": 16,
        "start_time": "2023-04-18T12:42:11.708Z"
      },
      {
        "duration": 33,
        "start_time": "2023-04-18T12:42:11.726Z"
      },
      {
        "duration": 5,
        "start_time": "2023-04-18T12:42:11.762Z"
      },
      {
        "duration": 60,
        "start_time": "2023-04-18T12:42:11.770Z"
      },
      {
        "duration": 8,
        "start_time": "2023-04-18T12:42:11.832Z"
      },
      {
        "duration": 58,
        "start_time": "2023-04-18T12:42:11.842Z"
      },
      {
        "duration": 25,
        "start_time": "2023-04-18T12:42:11.910Z"
      },
      {
        "duration": 17,
        "start_time": "2023-04-18T12:42:11.937Z"
      },
      {
        "duration": 56,
        "start_time": "2023-04-18T12:42:11.956Z"
      },
      {
        "duration": 14,
        "start_time": "2023-04-18T12:42:12.014Z"
      },
      {
        "duration": 24,
        "start_time": "2023-04-18T12:42:12.030Z"
      },
      {
        "duration": 43,
        "start_time": "2023-04-18T12:42:12.057Z"
      },
      {
        "duration": 28,
        "start_time": "2023-04-18T12:42:12.104Z"
      },
      {
        "duration": 26,
        "start_time": "2023-04-18T12:42:12.134Z"
      },
      {
        "duration": 10,
        "start_time": "2023-04-18T12:42:12.162Z"
      },
      {
        "duration": 27,
        "start_time": "2023-04-18T12:42:12.174Z"
      },
      {
        "duration": 378,
        "start_time": "2023-04-18T12:42:12.203Z"
      },
      {
        "duration": 55,
        "start_time": "2023-04-18T12:42:12.583Z"
      },
      {
        "duration": 11779,
        "start_time": "2023-04-18T12:42:12.640Z"
      },
      {
        "duration": 1505,
        "start_time": "2023-04-18T12:42:24.421Z"
      },
      {
        "duration": 6,
        "start_time": "2023-04-18T12:42:25.929Z"
      },
      {
        "duration": 27,
        "start_time": "2023-04-18T12:42:25.937Z"
      },
      {
        "duration": 2898,
        "start_time": "2023-04-18T12:42:25.967Z"
      },
      {
        "duration": 14,
        "start_time": "2023-04-18T12:42:28.866Z"
      },
      {
        "duration": 583,
        "start_time": "2023-04-18T12:42:28.882Z"
      },
      {
        "duration": 350,
        "start_time": "2023-04-18T12:42:29.468Z"
      },
      {
        "duration": 35,
        "start_time": "2023-04-18T12:42:29.820Z"
      },
      {
        "duration": 1150,
        "start_time": "2023-04-18T12:42:29.857Z"
      },
      {
        "duration": 36,
        "start_time": "2023-04-18T12:42:31.010Z"
      },
      {
        "duration": 65,
        "start_time": "2023-04-18T12:42:31.049Z"
      },
      {
        "duration": 204,
        "start_time": "2023-04-18T12:42:31.117Z"
      },
      {
        "duration": 26,
        "start_time": "2023-04-18T12:42:31.323Z"
      },
      {
        "duration": 178,
        "start_time": "2023-04-18T12:42:31.351Z"
      },
      {
        "duration": 38,
        "start_time": "2023-04-18T12:42:31.530Z"
      },
      {
        "duration": 33,
        "start_time": "2023-04-18T12:42:31.569Z"
      },
      {
        "duration": 11,
        "start_time": "2023-04-18T12:42:31.605Z"
      },
      {
        "duration": 15,
        "start_time": "2023-04-18T12:42:31.618Z"
      },
      {
        "duration": 37,
        "start_time": "2023-04-18T12:42:31.635Z"
      },
      {
        "duration": 60,
        "start_time": "2023-04-18T12:42:31.676Z"
      },
      {
        "duration": 6,
        "start_time": "2023-04-18T12:42:31.738Z"
      },
      {
        "duration": 9,
        "start_time": "2023-04-18T12:42:31.746Z"
      },
      {
        "duration": 8,
        "start_time": "2023-04-18T12:42:31.757Z"
      },
      {
        "duration": 39,
        "start_time": "2023-04-18T12:42:31.767Z"
      },
      {
        "duration": 5,
        "start_time": "2023-04-18T12:42:31.808Z"
      },
      {
        "duration": 6,
        "start_time": "2023-04-18T12:42:31.815Z"
      },
      {
        "duration": 5,
        "start_time": "2023-04-18T12:42:31.823Z"
      },
      {
        "duration": 51,
        "start_time": "2023-04-18T12:44:16.027Z"
      },
      {
        "duration": 55,
        "start_time": "2023-04-18T12:44:19.463Z"
      },
      {
        "duration": 1426,
        "start_time": "2023-04-18T12:44:25.624Z"
      },
      {
        "duration": 318,
        "start_time": "2023-04-18T12:44:27.052Z"
      },
      {
        "duration": 27,
        "start_time": "2023-04-18T12:44:27.371Z"
      },
      {
        "duration": 31,
        "start_time": "2023-04-18T12:44:27.401Z"
      },
      {
        "duration": 4,
        "start_time": "2023-04-18T12:44:27.435Z"
      },
      {
        "duration": 70,
        "start_time": "2023-04-18T12:44:27.441Z"
      },
      {
        "duration": 9,
        "start_time": "2023-04-18T12:44:27.518Z"
      },
      {
        "duration": 31,
        "start_time": "2023-04-18T12:44:27.528Z"
      },
      {
        "duration": 33,
        "start_time": "2023-04-18T12:44:27.560Z"
      },
      {
        "duration": 17,
        "start_time": "2023-04-18T12:44:27.597Z"
      },
      {
        "duration": 45,
        "start_time": "2023-04-18T12:44:27.617Z"
      },
      {
        "duration": 35,
        "start_time": "2023-04-18T12:44:27.664Z"
      },
      {
        "duration": 19,
        "start_time": "2023-04-18T12:44:27.701Z"
      },
      {
        "duration": 25,
        "start_time": "2023-04-18T12:44:27.722Z"
      },
      {
        "duration": 26,
        "start_time": "2023-04-18T12:44:27.749Z"
      },
      {
        "duration": 44,
        "start_time": "2023-04-18T12:44:27.777Z"
      },
      {
        "duration": 10,
        "start_time": "2023-04-18T12:44:27.823Z"
      },
      {
        "duration": 14,
        "start_time": "2023-04-18T12:44:27.835Z"
      },
      {
        "duration": 435,
        "start_time": "2023-04-18T12:44:27.850Z"
      },
      {
        "duration": 53,
        "start_time": "2023-04-18T12:44:28.287Z"
      },
      {
        "duration": 11958,
        "start_time": "2023-04-18T12:44:28.342Z"
      },
      {
        "duration": 1634,
        "start_time": "2023-04-18T12:44:40.303Z"
      },
      {
        "duration": 6,
        "start_time": "2023-04-18T12:44:41.939Z"
      },
      {
        "duration": 5,
        "start_time": "2023-04-18T12:44:41.947Z"
      },
      {
        "duration": 3095,
        "start_time": "2023-04-18T12:44:41.954Z"
      },
      {
        "duration": 17,
        "start_time": "2023-04-18T12:44:45.051Z"
      },
      {
        "duration": 657,
        "start_time": "2023-04-18T12:44:45.070Z"
      },
      {
        "duration": 350,
        "start_time": "2023-04-18T12:44:45.730Z"
      },
      {
        "duration": 45,
        "start_time": "2023-04-18T12:44:46.082Z"
      },
      {
        "duration": 1083,
        "start_time": "2023-04-18T12:44:46.129Z"
      },
      {
        "duration": 39,
        "start_time": "2023-04-18T12:44:47.214Z"
      },
      {
        "duration": 61,
        "start_time": "2023-04-18T12:44:47.255Z"
      },
      {
        "duration": 184,
        "start_time": "2023-04-18T12:44:47.322Z"
      },
      {
        "duration": 31,
        "start_time": "2023-04-18T12:44:47.508Z"
      },
      {
        "duration": 175,
        "start_time": "2023-04-18T12:44:47.541Z"
      },
      {
        "duration": 40,
        "start_time": "2023-04-18T12:44:47.726Z"
      },
      {
        "duration": 5,
        "start_time": "2023-04-18T12:44:47.768Z"
      },
      {
        "duration": 5,
        "start_time": "2023-04-18T12:44:47.774Z"
      },
      {
        "duration": 14,
        "start_time": "2023-04-18T12:44:47.781Z"
      },
      {
        "duration": 20,
        "start_time": "2023-04-18T12:44:47.796Z"
      },
      {
        "duration": 49,
        "start_time": "2023-04-18T12:44:47.819Z"
      },
      {
        "duration": 4,
        "start_time": "2023-04-18T12:44:47.870Z"
      },
      {
        "duration": 11,
        "start_time": "2023-04-18T12:44:47.898Z"
      },
      {
        "duration": 6,
        "start_time": "2023-04-18T12:44:47.913Z"
      },
      {
        "duration": 5,
        "start_time": "2023-04-18T12:44:47.926Z"
      },
      {
        "duration": 5,
        "start_time": "2023-04-18T12:44:47.935Z"
      },
      {
        "duration": 8,
        "start_time": "2023-04-18T12:44:47.942Z"
      },
      {
        "duration": 5,
        "start_time": "2023-04-18T12:44:47.952Z"
      },
      {
        "duration": 60,
        "start_time": "2023-04-18T12:45:23.920Z"
      },
      {
        "duration": 49,
        "start_time": "2023-04-18T12:45:28.131Z"
      },
      {
        "duration": 57,
        "start_time": "2023-04-18T12:45:32.629Z"
      },
      {
        "duration": 64,
        "start_time": "2023-04-18T12:46:48.779Z"
      },
      {
        "duration": 62,
        "start_time": "2023-04-18T12:49:10.770Z"
      },
      {
        "duration": 52,
        "start_time": "2023-04-18T12:49:14.921Z"
      },
      {
        "duration": 53,
        "start_time": "2023-04-18T12:49:20.839Z"
      },
      {
        "duration": 47,
        "start_time": "2023-04-18T12:50:57.024Z"
      },
      {
        "duration": 78,
        "start_time": "2023-04-18T12:51:10.970Z"
      },
      {
        "duration": 48,
        "start_time": "2023-04-18T12:51:19.529Z"
      },
      {
        "duration": 19,
        "start_time": "2023-04-18T12:51:27.185Z"
      },
      {
        "duration": 8,
        "start_time": "2023-04-18T12:51:34.925Z"
      },
      {
        "duration": 46,
        "start_time": "2023-04-18T12:52:32.530Z"
      },
      {
        "duration": 1487,
        "start_time": "2023-04-18T12:52:57.830Z"
      },
      {
        "duration": 449,
        "start_time": "2023-04-18T12:52:59.319Z"
      },
      {
        "duration": 20,
        "start_time": "2023-04-18T12:52:59.770Z"
      },
      {
        "duration": 28,
        "start_time": "2023-04-18T12:52:59.797Z"
      },
      {
        "duration": 4,
        "start_time": "2023-04-18T12:52:59.828Z"
      },
      {
        "duration": 62,
        "start_time": "2023-04-18T12:52:59.834Z"
      },
      {
        "duration": 15,
        "start_time": "2023-04-18T12:52:59.898Z"
      },
      {
        "duration": 32,
        "start_time": "2023-04-18T12:52:59.916Z"
      },
      {
        "duration": 56,
        "start_time": "2023-04-18T12:52:59.950Z"
      },
      {
        "duration": 20,
        "start_time": "2023-04-18T12:53:00.010Z"
      },
      {
        "duration": 54,
        "start_time": "2023-04-18T12:53:00.032Z"
      },
      {
        "duration": 41,
        "start_time": "2023-04-18T12:53:00.088Z"
      },
      {
        "duration": 31,
        "start_time": "2023-04-18T12:53:00.131Z"
      },
      {
        "duration": 62,
        "start_time": "2023-04-18T12:53:00.167Z"
      },
      {
        "duration": 46,
        "start_time": "2023-04-18T12:53:00.231Z"
      },
      {
        "duration": 52,
        "start_time": "2023-04-18T12:53:00.279Z"
      },
      {
        "duration": 12,
        "start_time": "2023-04-18T12:53:00.334Z"
      },
      {
        "duration": 58,
        "start_time": "2023-04-18T12:53:00.347Z"
      },
      {
        "duration": 509,
        "start_time": "2023-04-18T12:53:00.411Z"
      },
      {
        "duration": 54,
        "start_time": "2023-04-18T12:53:00.923Z"
      },
      {
        "duration": 14139,
        "start_time": "2023-04-18T12:53:00.979Z"
      },
      {
        "duration": 1533,
        "start_time": "2023-04-18T12:53:15.120Z"
      },
      {
        "duration": 7,
        "start_time": "2023-04-18T12:53:16.655Z"
      },
      {
        "duration": 5,
        "start_time": "2023-04-18T12:53:16.664Z"
      },
      {
        "duration": 6415,
        "start_time": "2023-04-18T12:53:16.692Z"
      },
      {
        "duration": 17,
        "start_time": "2023-04-18T12:53:23.109Z"
      },
      {
        "duration": 1682,
        "start_time": "2023-04-18T12:53:23.128Z"
      },
      {
        "duration": 1025,
        "start_time": "2023-04-18T12:53:24.813Z"
      },
      {
        "duration": 72,
        "start_time": "2023-04-18T12:53:25.840Z"
      },
      {
        "duration": 1109,
        "start_time": "2023-04-18T12:53:25.916Z"
      },
      {
        "duration": 31,
        "start_time": "2023-04-18T12:53:27.027Z"
      },
      {
        "duration": 62,
        "start_time": "2023-04-18T12:53:27.060Z"
      },
      {
        "duration": 194,
        "start_time": "2023-04-18T12:53:27.124Z"
      },
      {
        "duration": 33,
        "start_time": "2023-04-18T12:53:27.322Z"
      },
      {
        "duration": 189,
        "start_time": "2023-04-18T12:53:27.357Z"
      },
      {
        "duration": 63,
        "start_time": "2023-04-18T12:53:27.549Z"
      },
      {
        "duration": 5,
        "start_time": "2023-04-18T12:53:27.614Z"
      },
      {
        "duration": 5,
        "start_time": "2023-04-18T12:53:27.622Z"
      },
      {
        "duration": 8,
        "start_time": "2023-04-18T12:53:27.629Z"
      },
      {
        "duration": 7,
        "start_time": "2023-04-18T12:53:27.639Z"
      },
      {
        "duration": 98,
        "start_time": "2023-04-18T12:53:27.651Z"
      },
      {
        "duration": 4,
        "start_time": "2023-04-18T12:56:05.225Z"
      },
      {
        "duration": 5,
        "start_time": "2023-04-18T12:56:10.020Z"
      },
      {
        "duration": 52,
        "start_time": "2023-04-18T12:58:14.033Z"
      },
      {
        "duration": 58,
        "start_time": "2023-04-18T12:58:45.528Z"
      },
      {
        "duration": 55,
        "start_time": "2023-04-18T13:02:16.282Z"
      },
      {
        "duration": 62,
        "start_time": "2023-04-18T13:02:20.472Z"
      },
      {
        "duration": 56,
        "start_time": "2023-04-18T13:02:26.072Z"
      },
      {
        "duration": 9,
        "start_time": "2023-04-18T13:02:41.628Z"
      },
      {
        "duration": 50,
        "start_time": "2023-04-18T13:02:47.130Z"
      },
      {
        "duration": 4,
        "start_time": "2023-04-18T13:02:48.175Z"
      },
      {
        "duration": 58,
        "start_time": "2023-04-18T13:03:19.742Z"
      },
      {
        "duration": 4,
        "start_time": "2023-04-18T13:03:21.078Z"
      },
      {
        "duration": 1516,
        "start_time": "2023-04-18T13:03:31.618Z"
      },
      {
        "duration": 294,
        "start_time": "2023-04-18T13:03:33.136Z"
      },
      {
        "duration": 12,
        "start_time": "2023-04-18T13:03:33.433Z"
      },
      {
        "duration": 26,
        "start_time": "2023-04-18T13:03:33.447Z"
      },
      {
        "duration": 3,
        "start_time": "2023-04-18T13:03:33.476Z"
      },
      {
        "duration": 43,
        "start_time": "2023-04-18T13:03:33.491Z"
      },
      {
        "duration": 7,
        "start_time": "2023-04-18T13:03:33.536Z"
      },
      {
        "duration": 56,
        "start_time": "2023-04-18T13:03:33.545Z"
      },
      {
        "duration": 23,
        "start_time": "2023-04-18T13:03:33.603Z"
      },
      {
        "duration": 15,
        "start_time": "2023-04-18T13:03:33.628Z"
      },
      {
        "duration": 67,
        "start_time": "2023-04-18T13:03:33.645Z"
      },
      {
        "duration": 14,
        "start_time": "2023-04-18T13:03:33.714Z"
      },
      {
        "duration": 17,
        "start_time": "2023-04-18T13:03:33.730Z"
      },
      {
        "duration": 42,
        "start_time": "2023-04-18T13:03:33.751Z"
      },
      {
        "duration": 30,
        "start_time": "2023-04-18T13:03:33.797Z"
      },
      {
        "duration": 28,
        "start_time": "2023-04-18T13:03:33.829Z"
      },
      {
        "duration": 13,
        "start_time": "2023-04-18T13:03:33.859Z"
      },
      {
        "duration": 21,
        "start_time": "2023-04-18T13:03:33.895Z"
      },
      {
        "duration": 437,
        "start_time": "2023-04-18T13:03:33.918Z"
      },
      {
        "duration": 59,
        "start_time": "2023-04-18T13:03:34.357Z"
      },
      {
        "duration": 11255,
        "start_time": "2023-04-18T13:03:34.418Z"
      },
      {
        "duration": 1680,
        "start_time": "2023-04-18T13:03:45.675Z"
      },
      {
        "duration": 7,
        "start_time": "2023-04-18T13:03:47.358Z"
      },
      {
        "duration": 16,
        "start_time": "2023-04-18T13:03:47.367Z"
      },
      {
        "duration": 3138,
        "start_time": "2023-04-18T13:03:47.389Z"
      },
      {
        "duration": 18,
        "start_time": "2023-04-18T13:03:50.529Z"
      },
      {
        "duration": 696,
        "start_time": "2023-04-18T13:03:50.549Z"
      },
      {
        "duration": 367,
        "start_time": "2023-04-18T13:03:51.248Z"
      },
      {
        "duration": 35,
        "start_time": "2023-04-18T13:03:51.622Z"
      },
      {
        "duration": 1109,
        "start_time": "2023-04-18T13:03:51.659Z"
      },
      {
        "duration": 52,
        "start_time": "2023-04-18T13:03:52.770Z"
      },
      {
        "duration": 35,
        "start_time": "2023-04-18T13:03:52.824Z"
      },
      {
        "duration": 194,
        "start_time": "2023-04-18T13:03:52.861Z"
      },
      {
        "duration": 34,
        "start_time": "2023-04-18T13:03:53.058Z"
      },
      {
        "duration": 160,
        "start_time": "2023-04-18T13:03:53.101Z"
      },
      {
        "duration": 48,
        "start_time": "2023-04-18T13:03:53.262Z"
      },
      {
        "duration": 49,
        "start_time": "2023-04-18T13:03:53.312Z"
      },
      {
        "duration": 3,
        "start_time": "2023-04-18T13:03:53.363Z"
      },
      {
        "duration": 5,
        "start_time": "2023-04-18T13:04:05.847Z"
      },
      {
        "duration": 4,
        "start_time": "2023-04-18T13:04:15.138Z"
      },
      {
        "duration": 6,
        "start_time": "2023-04-18T13:04:18.733Z"
      },
      {
        "duration": 4,
        "start_time": "2023-04-18T13:04:24.866Z"
      },
      {
        "duration": 5,
        "start_time": "2023-04-18T13:04:38.139Z"
      },
      {
        "duration": 5,
        "start_time": "2023-04-18T13:05:05.271Z"
      },
      {
        "duration": 5,
        "start_time": "2023-04-18T13:05:20.624Z"
      },
      {
        "duration": 5,
        "start_time": "2023-04-18T13:05:23.413Z"
      },
      {
        "duration": 5,
        "start_time": "2023-04-18T13:05:27.568Z"
      },
      {
        "duration": 4,
        "start_time": "2023-04-18T13:05:29.958Z"
      },
      {
        "duration": 48,
        "start_time": "2023-04-18T13:05:45.539Z"
      },
      {
        "duration": 52,
        "start_time": "2023-04-18T13:05:50.355Z"
      },
      {
        "duration": 3,
        "start_time": "2023-04-18T13:05:51.771Z"
      },
      {
        "duration": 5,
        "start_time": "2023-04-18T13:05:53.725Z"
      },
      {
        "duration": 5,
        "start_time": "2023-04-18T13:06:26.121Z"
      },
      {
        "duration": 4,
        "start_time": "2023-04-18T13:08:29.267Z"
      },
      {
        "duration": 6,
        "start_time": "2023-04-18T13:08:37.814Z"
      },
      {
        "duration": 46,
        "start_time": "2023-04-18T13:08:40.314Z"
      },
      {
        "duration": 4,
        "start_time": "2023-04-18T13:08:41.220Z"
      },
      {
        "duration": 5,
        "start_time": "2023-04-18T13:08:42.178Z"
      },
      {
        "duration": 46,
        "start_time": "2023-04-18T13:08:55.718Z"
      },
      {
        "duration": 5,
        "start_time": "2023-04-18T13:09:04.715Z"
      },
      {
        "duration": 195,
        "start_time": "2023-04-18T13:09:18.768Z"
      },
      {
        "duration": 53,
        "start_time": "2023-04-18T13:09:34.619Z"
      },
      {
        "duration": 7,
        "start_time": "2023-04-18T13:09:44.458Z"
      },
      {
        "duration": 14,
        "start_time": "2023-04-18T13:09:54.813Z"
      },
      {
        "duration": 18,
        "start_time": "2023-04-18T13:09:59.607Z"
      },
      {
        "duration": 6,
        "start_time": "2023-04-18T13:10:09.576Z"
      },
      {
        "duration": 58,
        "start_time": "2023-04-18T13:11:07.726Z"
      },
      {
        "duration": 65,
        "start_time": "2023-04-18T13:11:10.356Z"
      },
      {
        "duration": 56,
        "start_time": "2023-04-18T13:11:12.514Z"
      },
      {
        "duration": 58,
        "start_time": "2023-04-18T13:11:14.607Z"
      },
      {
        "duration": 55,
        "start_time": "2023-04-18T13:11:18.013Z"
      },
      {
        "duration": 50,
        "start_time": "2023-04-18T13:11:21.524Z"
      },
      {
        "duration": 5,
        "start_time": "2023-04-18T13:11:30.147Z"
      },
      {
        "duration": 5,
        "start_time": "2023-04-18T13:13:22.459Z"
      },
      {
        "duration": 0,
        "start_time": "2023-04-18T13:14:13.586Z"
      },
      {
        "duration": 0,
        "start_time": "2023-04-18T13:14:13.587Z"
      },
      {
        "duration": 1480,
        "start_time": "2023-04-18T13:14:22.118Z"
      },
      {
        "duration": 387,
        "start_time": "2023-04-18T13:14:23.609Z"
      },
      {
        "duration": 22,
        "start_time": "2023-04-18T13:14:24.004Z"
      },
      {
        "duration": 21,
        "start_time": "2023-04-18T13:14:24.028Z"
      },
      {
        "duration": 3,
        "start_time": "2023-04-18T13:14:24.052Z"
      },
      {
        "duration": 57,
        "start_time": "2023-04-18T13:14:24.057Z"
      },
      {
        "duration": 9,
        "start_time": "2023-04-18T13:14:24.117Z"
      },
      {
        "duration": 31,
        "start_time": "2023-04-18T13:14:24.127Z"
      },
      {
        "duration": 52,
        "start_time": "2023-04-18T13:14:24.160Z"
      },
      {
        "duration": 14,
        "start_time": "2023-04-18T13:14:24.215Z"
      },
      {
        "duration": 50,
        "start_time": "2023-04-18T13:14:24.231Z"
      },
      {
        "duration": 35,
        "start_time": "2023-04-18T13:14:24.282Z"
      },
      {
        "duration": 5,
        "start_time": "2023-04-18T13:14:24.319Z"
      },
      {
        "duration": 25,
        "start_time": "2023-04-18T13:14:24.327Z"
      },
      {
        "duration": 46,
        "start_time": "2023-04-18T13:14:24.354Z"
      },
      {
        "duration": 36,
        "start_time": "2023-04-18T13:14:24.401Z"
      },
      {
        "duration": 12,
        "start_time": "2023-04-18T13:14:24.439Z"
      },
      {
        "duration": 43,
        "start_time": "2023-04-18T13:14:24.453Z"
      },
      {
        "duration": 406,
        "start_time": "2023-04-18T13:14:24.498Z"
      },
      {
        "duration": 57,
        "start_time": "2023-04-18T13:14:24.906Z"
      },
      {
        "duration": 12716,
        "start_time": "2023-04-18T13:14:24.964Z"
      },
      {
        "duration": 1774,
        "start_time": "2023-04-18T13:14:37.682Z"
      },
      {
        "duration": 7,
        "start_time": "2023-04-18T13:14:39.458Z"
      },
      {
        "duration": 42,
        "start_time": "2023-04-18T13:14:39.467Z"
      },
      {
        "duration": 3300,
        "start_time": "2023-04-18T13:14:39.511Z"
      },
      {
        "duration": 21,
        "start_time": "2023-04-18T13:14:42.814Z"
      },
      {
        "duration": 657,
        "start_time": "2023-04-18T13:14:42.837Z"
      },
      {
        "duration": 379,
        "start_time": "2023-04-18T13:14:43.496Z"
      },
      {
        "duration": 56,
        "start_time": "2023-04-18T13:14:43.877Z"
      },
      {
        "duration": 1209,
        "start_time": "2023-04-18T13:14:43.935Z"
      },
      {
        "duration": 28,
        "start_time": "2023-04-18T13:14:45.146Z"
      },
      {
        "duration": 52,
        "start_time": "2023-04-18T13:14:45.175Z"
      },
      {
        "duration": 189,
        "start_time": "2023-04-18T13:14:45.229Z"
      },
      {
        "duration": 25,
        "start_time": "2023-04-18T13:14:45.421Z"
      },
      {
        "duration": 185,
        "start_time": "2023-04-18T13:14:45.448Z"
      },
      {
        "duration": 36,
        "start_time": "2023-04-18T13:14:45.635Z"
      },
      {
        "duration": 71,
        "start_time": "2023-04-18T13:14:45.673Z"
      },
      {
        "duration": 5498,
        "start_time": "2023-04-18T13:14:45.746Z"
      },
      {
        "duration": 112,
        "start_time": "2023-04-18T13:15:19.710Z"
      },
      {
        "duration": 47,
        "start_time": "2023-04-18T13:15:23.126Z"
      },
      {
        "duration": 4,
        "start_time": "2023-04-18T13:15:30.024Z"
      },
      {
        "duration": 56,
        "start_time": "2023-04-18T13:15:42.651Z"
      },
      {
        "duration": 57,
        "start_time": "2023-04-18T13:16:14.675Z"
      },
      {
        "duration": 4,
        "start_time": "2023-04-18T13:16:15.518Z"
      },
      {
        "duration": 54,
        "start_time": "2023-04-18T13:16:25.121Z"
      },
      {
        "duration": 66,
        "start_time": "2023-04-18T13:16:40.751Z"
      },
      {
        "duration": 56,
        "start_time": "2023-04-18T13:16:45.114Z"
      },
      {
        "duration": 62,
        "start_time": "2023-04-18T13:16:55.918Z"
      },
      {
        "duration": 1536,
        "start_time": "2023-04-18T13:17:02.743Z"
      },
      {
        "duration": 330,
        "start_time": "2023-04-18T13:17:04.281Z"
      },
      {
        "duration": 14,
        "start_time": "2023-04-18T13:17:04.614Z"
      },
      {
        "duration": 28,
        "start_time": "2023-04-18T13:17:04.630Z"
      },
      {
        "duration": 4,
        "start_time": "2023-04-18T13:17:04.660Z"
      },
      {
        "duration": 61,
        "start_time": "2023-04-18T13:17:04.666Z"
      },
      {
        "duration": 8,
        "start_time": "2023-04-18T13:17:04.729Z"
      },
      {
        "duration": 27,
        "start_time": "2023-04-18T13:17:04.738Z"
      },
      {
        "duration": 52,
        "start_time": "2023-04-18T13:17:04.767Z"
      },
      {
        "duration": 18,
        "start_time": "2023-04-18T13:17:04.821Z"
      },
      {
        "duration": 61,
        "start_time": "2023-04-18T13:17:04.841Z"
      },
      {
        "duration": 18,
        "start_time": "2023-04-18T13:17:04.904Z"
      },
      {
        "duration": 25,
        "start_time": "2023-04-18T13:17:04.925Z"
      },
      {
        "duration": 63,
        "start_time": "2023-04-18T13:17:04.953Z"
      },
      {
        "duration": 28,
        "start_time": "2023-04-18T13:17:05.018Z"
      },
      {
        "duration": 27,
        "start_time": "2023-04-18T13:17:05.048Z"
      },
      {
        "duration": 18,
        "start_time": "2023-04-18T13:17:05.093Z"
      },
      {
        "duration": 18,
        "start_time": "2023-04-18T13:17:05.113Z"
      },
      {
        "duration": 438,
        "start_time": "2023-04-18T13:17:05.133Z"
      },
      {
        "duration": 69,
        "start_time": "2023-04-18T13:17:05.573Z"
      },
      {
        "duration": 12877,
        "start_time": "2023-04-18T13:17:05.644Z"
      },
      {
        "duration": 1723,
        "start_time": "2023-04-18T13:17:18.525Z"
      },
      {
        "duration": 6,
        "start_time": "2023-04-18T13:17:20.251Z"
      },
      {
        "duration": 42,
        "start_time": "2023-04-18T13:17:20.260Z"
      },
      {
        "duration": 3248,
        "start_time": "2023-04-18T13:17:20.309Z"
      },
      {
        "duration": 11,
        "start_time": "2023-04-18T13:17:23.559Z"
      },
      {
        "duration": 667,
        "start_time": "2023-04-18T13:17:23.572Z"
      },
      {
        "duration": 370,
        "start_time": "2023-04-18T13:17:24.242Z"
      },
      {
        "duration": 34,
        "start_time": "2023-04-18T13:17:24.614Z"
      },
      {
        "duration": 1189,
        "start_time": "2023-04-18T13:17:24.650Z"
      },
      {
        "duration": 29,
        "start_time": "2023-04-18T13:17:25.842Z"
      },
      {
        "duration": 60,
        "start_time": "2023-04-18T13:17:25.874Z"
      },
      {
        "duration": 209,
        "start_time": "2023-04-18T13:17:25.936Z"
      },
      {
        "duration": 55,
        "start_time": "2023-04-18T13:17:26.148Z"
      },
      {
        "duration": 253,
        "start_time": "2023-04-18T13:17:26.208Z"
      },
      {
        "duration": 62,
        "start_time": "2023-04-18T13:17:26.463Z"
      },
      {
        "duration": 245,
        "start_time": "2023-04-18T13:17:26.528Z"
      },
      {
        "duration": 0,
        "start_time": "2023-04-18T13:17:26.774Z"
      },
      {
        "duration": 50,
        "start_time": "2023-04-18T13:17:49.627Z"
      },
      {
        "duration": 5,
        "start_time": "2023-04-18T13:17:51.372Z"
      },
      {
        "duration": 4,
        "start_time": "2023-04-18T13:17:52.435Z"
      },
      {
        "duration": 4,
        "start_time": "2023-04-18T13:18:02.043Z"
      },
      {
        "duration": 64,
        "start_time": "2023-04-18T13:18:10.913Z"
      },
      {
        "duration": 50,
        "start_time": "2023-04-18T13:18:16.421Z"
      },
      {
        "duration": 76,
        "start_time": "2023-04-18T13:18:21.423Z"
      },
      {
        "duration": 4,
        "start_time": "2023-04-18T13:18:26.361Z"
      },
      {
        "duration": 61,
        "start_time": "2023-04-18T13:18:38.622Z"
      },
      {
        "duration": 98,
        "start_time": "2023-04-18T13:18:41.075Z"
      },
      {
        "duration": 50,
        "start_time": "2023-04-18T13:18:44.715Z"
      },
      {
        "duration": 4,
        "start_time": "2023-04-18T13:18:48.730Z"
      },
      {
        "duration": 5,
        "start_time": "2023-04-18T13:18:49.655Z"
      },
      {
        "duration": 5,
        "start_time": "2023-04-18T13:18:51.618Z"
      },
      {
        "duration": 4,
        "start_time": "2023-04-18T13:18:59.423Z"
      },
      {
        "duration": 10,
        "start_time": "2023-04-18T13:19:00.807Z"
      },
      {
        "duration": 6,
        "start_time": "2023-04-18T13:19:05.511Z"
      },
      {
        "duration": 10,
        "start_time": "2023-04-18T13:19:32.207Z"
      },
      {
        "duration": 8,
        "start_time": "2023-04-18T13:20:21.207Z"
      },
      {
        "duration": 5,
        "start_time": "2023-04-18T13:20:22.037Z"
      },
      {
        "duration": 12,
        "start_time": "2023-04-18T13:20:24.603Z"
      },
      {
        "duration": 50,
        "start_time": "2023-04-18T13:22:22.336Z"
      },
      {
        "duration": 48,
        "start_time": "2023-04-18T13:28:12.348Z"
      },
      {
        "duration": 54,
        "start_time": "2023-04-18T13:32:03.455Z"
      },
      {
        "duration": 47,
        "start_time": "2023-04-18T13:32:13.731Z"
      },
      {
        "duration": 4,
        "start_time": "2023-04-18T13:32:24.651Z"
      },
      {
        "duration": 6,
        "start_time": "2023-04-18T13:33:10.923Z"
      },
      {
        "duration": 4,
        "start_time": "2023-04-18T13:33:23.256Z"
      },
      {
        "duration": 1415,
        "start_time": "2023-04-18T13:33:31.893Z"
      },
      {
        "duration": 504,
        "start_time": "2023-04-18T13:33:33.310Z"
      },
      {
        "duration": 12,
        "start_time": "2023-04-18T13:33:33.816Z"
      },
      {
        "duration": 21,
        "start_time": "2023-04-18T13:33:33.830Z"
      },
      {
        "duration": 4,
        "start_time": "2023-04-18T13:33:33.853Z"
      },
      {
        "duration": 65,
        "start_time": "2023-04-18T13:33:33.858Z"
      },
      {
        "duration": 7,
        "start_time": "2023-04-18T13:33:33.925Z"
      },
      {
        "duration": 27,
        "start_time": "2023-04-18T13:33:33.933Z"
      },
      {
        "duration": 43,
        "start_time": "2023-04-18T13:33:33.961Z"
      },
      {
        "duration": 14,
        "start_time": "2023-04-18T13:33:34.007Z"
      },
      {
        "duration": 44,
        "start_time": "2023-04-18T13:33:34.023Z"
      },
      {
        "duration": 37,
        "start_time": "2023-04-18T13:33:34.068Z"
      },
      {
        "duration": 6,
        "start_time": "2023-04-18T13:33:34.107Z"
      },
      {
        "duration": 30,
        "start_time": "2023-04-18T13:33:34.115Z"
      },
      {
        "duration": 29,
        "start_time": "2023-04-18T13:33:34.147Z"
      },
      {
        "duration": 43,
        "start_time": "2023-04-18T13:33:34.178Z"
      },
      {
        "duration": 10,
        "start_time": "2023-04-18T13:33:34.223Z"
      },
      {
        "duration": 13,
        "start_time": "2023-04-18T13:33:34.235Z"
      },
      {
        "duration": 408,
        "start_time": "2023-04-18T13:33:34.249Z"
      },
      {
        "duration": 57,
        "start_time": "2023-04-18T13:33:34.658Z"
      },
      {
        "duration": 12183,
        "start_time": "2023-04-18T13:33:34.717Z"
      },
      {
        "duration": 1460,
        "start_time": "2023-04-18T13:33:46.902Z"
      },
      {
        "duration": 5,
        "start_time": "2023-04-18T13:33:48.364Z"
      },
      {
        "duration": 11,
        "start_time": "2023-04-18T13:33:48.371Z"
      },
      {
        "duration": 2868,
        "start_time": "2023-04-18T13:33:48.389Z"
      },
      {
        "duration": 17,
        "start_time": "2023-04-18T13:33:51.260Z"
      },
      {
        "duration": 626,
        "start_time": "2023-04-18T13:33:51.292Z"
      },
      {
        "duration": 331,
        "start_time": "2023-04-18T13:33:51.922Z"
      },
      {
        "duration": 52,
        "start_time": "2023-04-18T13:33:52.256Z"
      },
      {
        "duration": 1064,
        "start_time": "2023-04-18T13:33:52.310Z"
      },
      {
        "duration": 37,
        "start_time": "2023-04-18T13:33:53.375Z"
      },
      {
        "duration": 31,
        "start_time": "2023-04-18T13:33:53.413Z"
      },
      {
        "duration": 186,
        "start_time": "2023-04-18T13:33:53.445Z"
      },
      {
        "duration": 26,
        "start_time": "2023-04-18T13:33:53.635Z"
      },
      {
        "duration": 175,
        "start_time": "2023-04-18T13:33:53.664Z"
      },
      {
        "duration": 56,
        "start_time": "2023-04-18T13:33:53.841Z"
      },
      {
        "duration": 7,
        "start_time": "2023-04-18T13:33:53.905Z"
      },
      {
        "duration": 14,
        "start_time": "2023-04-18T13:33:53.914Z"
      },
      {
        "duration": 50,
        "start_time": "2023-04-18T13:33:53.930Z"
      },
      {
        "duration": 5,
        "start_time": "2023-04-18T13:34:24.302Z"
      },
      {
        "duration": 5,
        "start_time": "2023-04-18T13:34:29.108Z"
      },
      {
        "duration": 4,
        "start_time": "2023-04-18T13:34:40.335Z"
      },
      {
        "duration": 4,
        "start_time": "2023-04-18T13:34:44.044Z"
      },
      {
        "duration": 5,
        "start_time": "2023-04-18T13:34:49.602Z"
      },
      {
        "duration": 4,
        "start_time": "2023-04-18T13:34:53.442Z"
      },
      {
        "duration": 7,
        "start_time": "2023-04-18T13:35:42.005Z"
      },
      {
        "duration": 4,
        "start_time": "2023-04-18T13:35:57.263Z"
      },
      {
        "duration": 4,
        "start_time": "2023-04-18T13:36:02.616Z"
      },
      {
        "duration": 7,
        "start_time": "2023-04-18T13:36:10.731Z"
      },
      {
        "duration": 4,
        "start_time": "2023-04-18T13:36:25.313Z"
      },
      {
        "duration": 5,
        "start_time": "2023-04-18T13:36:32.402Z"
      },
      {
        "duration": 8,
        "start_time": "2023-04-18T13:37:05.028Z"
      },
      {
        "duration": 1442,
        "start_time": "2023-04-18T13:37:10.942Z"
      },
      {
        "duration": 8,
        "start_time": "2023-04-18T13:37:17.102Z"
      },
      {
        "duration": 1395,
        "start_time": "2023-04-18T13:38:00.318Z"
      },
      {
        "duration": 1415,
        "start_time": "2023-04-18T13:38:21.923Z"
      },
      {
        "duration": 273,
        "start_time": "2023-04-18T13:38:23.340Z"
      },
      {
        "duration": 12,
        "start_time": "2023-04-18T13:38:23.615Z"
      },
      {
        "duration": 22,
        "start_time": "2023-04-18T13:38:23.630Z"
      },
      {
        "duration": 5,
        "start_time": "2023-04-18T13:38:23.654Z"
      },
      {
        "duration": 64,
        "start_time": "2023-04-18T13:38:23.661Z"
      },
      {
        "duration": 7,
        "start_time": "2023-04-18T13:38:23.728Z"
      },
      {
        "duration": 39,
        "start_time": "2023-04-18T13:38:23.737Z"
      },
      {
        "duration": 24,
        "start_time": "2023-04-18T13:38:23.778Z"
      },
      {
        "duration": 12,
        "start_time": "2023-04-18T13:38:23.804Z"
      },
      {
        "duration": 46,
        "start_time": "2023-04-18T13:38:23.817Z"
      },
      {
        "duration": 36,
        "start_time": "2023-04-18T13:38:23.864Z"
      },
      {
        "duration": 7,
        "start_time": "2023-04-18T13:38:23.902Z"
      },
      {
        "duration": 31,
        "start_time": "2023-04-18T13:38:23.914Z"
      },
      {
        "duration": 48,
        "start_time": "2023-04-18T13:38:23.947Z"
      },
      {
        "duration": 28,
        "start_time": "2023-04-18T13:38:23.998Z"
      },
      {
        "duration": 10,
        "start_time": "2023-04-18T13:38:24.027Z"
      },
      {
        "duration": 23,
        "start_time": "2023-04-18T13:38:24.039Z"
      },
      {
        "duration": 389,
        "start_time": "2023-04-18T13:38:24.063Z"
      },
      {
        "duration": 51,
        "start_time": "2023-04-18T13:38:24.454Z"
      },
      {
        "duration": 10537,
        "start_time": "2023-04-18T13:38:24.507Z"
      },
      {
        "duration": 1433,
        "start_time": "2023-04-18T13:38:35.046Z"
      },
      {
        "duration": 9,
        "start_time": "2023-04-18T13:38:36.482Z"
      },
      {
        "duration": 7,
        "start_time": "2023-04-18T13:38:36.493Z"
      },
      {
        "duration": 2795,
        "start_time": "2023-04-18T13:38:36.502Z"
      },
      {
        "duration": 13,
        "start_time": "2023-04-18T13:38:39.298Z"
      },
      {
        "duration": 576,
        "start_time": "2023-04-18T13:38:39.312Z"
      },
      {
        "duration": 328,
        "start_time": "2023-04-18T13:38:39.890Z"
      },
      {
        "duration": 32,
        "start_time": "2023-04-18T13:38:40.219Z"
      },
      {
        "duration": 993,
        "start_time": "2023-04-18T13:38:40.253Z"
      },
      {
        "duration": 29,
        "start_time": "2023-04-18T13:38:41.247Z"
      },
      {
        "duration": 31,
        "start_time": "2023-04-18T13:38:41.290Z"
      },
      {
        "duration": 173,
        "start_time": "2023-04-18T13:38:41.323Z"
      },
      {
        "duration": 28,
        "start_time": "2023-04-18T13:38:41.498Z"
      },
      {
        "duration": 189,
        "start_time": "2023-04-18T13:38:41.527Z"
      },
      {
        "duration": 39,
        "start_time": "2023-04-18T13:38:41.718Z"
      },
      {
        "duration": 64,
        "start_time": "2023-04-18T13:38:41.759Z"
      },
      {
        "duration": 1525,
        "start_time": "2023-04-18T13:38:41.825Z"
      },
      {
        "duration": 1249,
        "start_time": "2023-04-18T13:39:20.818Z"
      },
      {
        "duration": 1307,
        "start_time": "2023-04-18T13:39:29.543Z"
      },
      {
        "duration": 7,
        "start_time": "2023-04-18T13:39:35.818Z"
      },
      {
        "duration": 5,
        "start_time": "2023-04-18T13:39:45.423Z"
      },
      {
        "duration": 5,
        "start_time": "2023-04-18T13:39:51.426Z"
      },
      {
        "duration": 4,
        "start_time": "2023-04-18T13:39:57.666Z"
      },
      {
        "duration": 5,
        "start_time": "2023-04-18T13:40:06.345Z"
      },
      {
        "duration": 7,
        "start_time": "2023-04-18T13:40:39.796Z"
      },
      {
        "duration": 54,
        "start_time": "2023-04-18T13:40:52.196Z"
      },
      {
        "duration": 8,
        "start_time": "2023-04-18T13:40:59.022Z"
      },
      {
        "duration": 4,
        "start_time": "2023-04-18T13:41:12.522Z"
      },
      {
        "duration": 5,
        "start_time": "2023-04-18T13:41:19.118Z"
      },
      {
        "duration": 1455,
        "start_time": "2023-04-18T13:41:28.493Z"
      },
      {
        "duration": 317,
        "start_time": "2023-04-18T13:41:29.951Z"
      },
      {
        "duration": 14,
        "start_time": "2023-04-18T13:41:30.270Z"
      },
      {
        "duration": 52,
        "start_time": "2023-04-18T13:41:30.290Z"
      },
      {
        "duration": 57,
        "start_time": "2023-04-18T13:41:30.345Z"
      },
      {
        "duration": 113,
        "start_time": "2023-04-18T13:41:30.404Z"
      },
      {
        "duration": 9,
        "start_time": "2023-04-18T13:41:30.519Z"
      },
      {
        "duration": 86,
        "start_time": "2023-04-18T13:41:30.530Z"
      },
      {
        "duration": 99,
        "start_time": "2023-04-18T13:41:30.618Z"
      },
      {
        "duration": 77,
        "start_time": "2023-04-18T13:41:30.720Z"
      },
      {
        "duration": 190,
        "start_time": "2023-04-18T13:41:30.800Z"
      },
      {
        "duration": 41,
        "start_time": "2023-04-18T13:41:30.992Z"
      },
      {
        "duration": 58,
        "start_time": "2023-04-18T13:41:31.034Z"
      },
      {
        "duration": 93,
        "start_time": "2023-04-18T13:41:31.097Z"
      },
      {
        "duration": 31,
        "start_time": "2023-04-18T13:41:31.192Z"
      },
      {
        "duration": 89,
        "start_time": "2023-04-18T13:41:31.226Z"
      },
      {
        "duration": 11,
        "start_time": "2023-04-18T13:41:31.318Z"
      },
      {
        "duration": 67,
        "start_time": "2023-04-18T13:41:31.331Z"
      },
      {
        "duration": 891,
        "start_time": "2023-04-18T13:41:31.401Z"
      },
      {
        "duration": 119,
        "start_time": "2023-04-18T13:41:32.295Z"
      },
      {
        "duration": 10976,
        "start_time": "2023-04-18T13:41:32.416Z"
      },
      {
        "duration": 1546,
        "start_time": "2023-04-18T13:41:43.394Z"
      },
      {
        "duration": 6,
        "start_time": "2023-04-18T13:41:44.942Z"
      },
      {
        "duration": 6,
        "start_time": "2023-04-18T13:41:44.950Z"
      },
      {
        "duration": 2749,
        "start_time": "2023-04-18T13:41:44.959Z"
      },
      {
        "duration": 12,
        "start_time": "2023-04-18T13:41:47.710Z"
      },
      {
        "duration": 618,
        "start_time": "2023-04-18T13:41:47.724Z"
      },
      {
        "duration": 329,
        "start_time": "2023-04-18T13:41:48.344Z"
      },
      {
        "duration": 37,
        "start_time": "2023-04-18T13:41:48.675Z"
      },
      {
        "duration": 1112,
        "start_time": "2023-04-18T13:41:48.714Z"
      },
      {
        "duration": 29,
        "start_time": "2023-04-18T13:41:49.828Z"
      },
      {
        "duration": 53,
        "start_time": "2023-04-18T13:41:49.859Z"
      },
      {
        "duration": 173,
        "start_time": "2023-04-18T13:41:49.914Z"
      },
      {
        "duration": 26,
        "start_time": "2023-04-18T13:41:50.089Z"
      },
      {
        "duration": 175,
        "start_time": "2023-04-18T13:41:50.117Z"
      },
      {
        "duration": 39,
        "start_time": "2023-04-18T13:41:50.294Z"
      },
      {
        "duration": 76,
        "start_time": "2023-04-18T13:41:50.335Z"
      },
      {
        "duration": 189,
        "start_time": "2023-04-18T13:41:50.413Z"
      },
      {
        "duration": 0,
        "start_time": "2023-04-18T13:41:50.604Z"
      },
      {
        "duration": 5,
        "start_time": "2023-04-18T13:42:06.893Z"
      },
      {
        "duration": 5,
        "start_time": "2023-04-18T13:42:15.032Z"
      },
      {
        "duration": 26,
        "start_time": "2023-04-18T13:42:21.697Z"
      },
      {
        "duration": 23,
        "start_time": "2023-04-18T13:42:23.186Z"
      },
      {
        "duration": 7,
        "start_time": "2023-04-18T13:42:40.194Z"
      },
      {
        "duration": 5,
        "start_time": "2023-04-18T13:42:50.718Z"
      },
      {
        "duration": 53,
        "start_time": "2023-04-18T13:42:53.060Z"
      },
      {
        "duration": 5,
        "start_time": "2023-04-18T13:42:54.757Z"
      },
      {
        "duration": 42,
        "start_time": "2023-04-18T13:43:08.002Z"
      },
      {
        "duration": 5,
        "start_time": "2023-04-18T13:43:09.995Z"
      },
      {
        "duration": 5,
        "start_time": "2023-04-18T13:43:13.992Z"
      },
      {
        "duration": 5,
        "start_time": "2023-04-18T13:43:20.398Z"
      },
      {
        "duration": 41,
        "start_time": "2023-04-18T13:43:28.721Z"
      },
      {
        "duration": 5,
        "start_time": "2023-04-18T13:43:34.158Z"
      },
      {
        "duration": 6,
        "start_time": "2023-04-18T13:43:40.225Z"
      },
      {
        "duration": 39,
        "start_time": "2023-04-18T13:43:59.845Z"
      },
      {
        "duration": 5,
        "start_time": "2023-04-18T13:44:08.085Z"
      },
      {
        "duration": 6,
        "start_time": "2023-04-18T13:44:15.894Z"
      },
      {
        "duration": 6,
        "start_time": "2023-04-18T13:44:19.875Z"
      },
      {
        "duration": 7,
        "start_time": "2023-04-18T13:44:22.646Z"
      },
      {
        "duration": 6,
        "start_time": "2023-04-18T13:44:24.992Z"
      },
      {
        "duration": 15,
        "start_time": "2023-04-18T13:44:28.017Z"
      },
      {
        "duration": 15,
        "start_time": "2023-04-18T13:44:30.337Z"
      },
      {
        "duration": 17,
        "start_time": "2023-04-18T13:44:33.092Z"
      },
      {
        "duration": 5,
        "start_time": "2023-04-18T13:44:36.465Z"
      },
      {
        "duration": 6,
        "start_time": "2023-04-18T13:44:43.120Z"
      },
      {
        "duration": 41,
        "start_time": "2023-04-18T13:44:46.487Z"
      },
      {
        "duration": 6,
        "start_time": "2023-04-18T13:44:57.489Z"
      },
      {
        "duration": 11,
        "start_time": "2023-04-18T13:45:06.513Z"
      },
      {
        "duration": 14,
        "start_time": "2023-04-18T13:45:56.295Z"
      },
      {
        "duration": 19,
        "start_time": "2023-04-18T13:46:00.814Z"
      },
      {
        "duration": 87,
        "start_time": "2023-04-18T13:46:13.534Z"
      },
      {
        "duration": 82,
        "start_time": "2023-04-18T13:46:15.393Z"
      },
      {
        "duration": 56,
        "start_time": "2023-04-18T13:46:18.199Z"
      },
      {
        "duration": 4,
        "start_time": "2023-04-18T13:46:23.863Z"
      },
      {
        "duration": 1462,
        "start_time": "2023-04-18T13:50:09.163Z"
      },
      {
        "duration": 472,
        "start_time": "2023-04-18T13:50:10.627Z"
      },
      {
        "duration": 13,
        "start_time": "2023-04-18T13:50:11.100Z"
      },
      {
        "duration": 33,
        "start_time": "2023-04-18T13:50:11.115Z"
      },
      {
        "duration": 4,
        "start_time": "2023-04-18T13:50:11.150Z"
      },
      {
        "duration": 62,
        "start_time": "2023-04-18T13:50:11.155Z"
      },
      {
        "duration": 8,
        "start_time": "2023-04-18T13:50:11.219Z"
      },
      {
        "duration": 31,
        "start_time": "2023-04-18T13:50:11.229Z"
      },
      {
        "duration": 47,
        "start_time": "2023-04-18T13:50:11.262Z"
      },
      {
        "duration": 17,
        "start_time": "2023-04-18T13:50:11.311Z"
      },
      {
        "duration": 72,
        "start_time": "2023-04-18T13:50:11.330Z"
      },
      {
        "duration": 16,
        "start_time": "2023-04-18T13:50:11.404Z"
      },
      {
        "duration": 10,
        "start_time": "2023-04-18T13:50:11.422Z"
      },
      {
        "duration": 58,
        "start_time": "2023-04-18T13:50:11.436Z"
      },
      {
        "duration": 30,
        "start_time": "2023-04-18T13:50:11.496Z"
      },
      {
        "duration": 28,
        "start_time": "2023-04-18T13:50:11.528Z"
      },
      {
        "duration": 37,
        "start_time": "2023-04-18T13:50:11.558Z"
      },
      {
        "duration": 18,
        "start_time": "2023-04-18T13:50:11.597Z"
      },
      {
        "duration": 445,
        "start_time": "2023-04-18T13:50:11.617Z"
      },
      {
        "duration": 61,
        "start_time": "2023-04-18T13:50:12.063Z"
      },
      {
        "duration": 11451,
        "start_time": "2023-04-18T13:50:12.126Z"
      },
      {
        "duration": 1560,
        "start_time": "2023-04-18T13:50:23.579Z"
      },
      {
        "duration": 7,
        "start_time": "2023-04-18T13:50:25.141Z"
      },
      {
        "duration": 8,
        "start_time": "2023-04-18T13:50:25.149Z"
      },
      {
        "duration": 2894,
        "start_time": "2023-04-18T13:50:25.160Z"
      },
      {
        "duration": 14,
        "start_time": "2023-04-18T13:50:28.056Z"
      },
      {
        "duration": 579,
        "start_time": "2023-04-18T13:50:28.072Z"
      },
      {
        "duration": 336,
        "start_time": "2023-04-18T13:50:28.653Z"
      },
      {
        "duration": 32,
        "start_time": "2023-04-18T13:50:28.991Z"
      },
      {
        "duration": 1069,
        "start_time": "2023-04-18T13:50:29.025Z"
      },
      {
        "duration": 32,
        "start_time": "2023-04-18T13:50:30.096Z"
      },
      {
        "duration": 98,
        "start_time": "2023-04-18T13:50:30.130Z"
      },
      {
        "duration": 187,
        "start_time": "2023-04-18T13:50:30.230Z"
      },
      {
        "duration": 29,
        "start_time": "2023-04-18T13:50:30.419Z"
      },
      {
        "duration": 183,
        "start_time": "2023-04-18T13:50:30.450Z"
      },
      {
        "duration": 60,
        "start_time": "2023-04-18T13:50:30.635Z"
      },
      {
        "duration": 60,
        "start_time": "2023-04-18T13:50:30.697Z"
      },
      {
        "duration": 527,
        "start_time": "2023-04-18T14:34:30.723Z"
      },
      {
        "duration": 1490,
        "start_time": "2023-04-18T16:09:48.369Z"
      },
      {
        "duration": 364,
        "start_time": "2023-04-18T16:09:49.862Z"
      },
      {
        "duration": 25,
        "start_time": "2023-04-18T16:09:50.231Z"
      },
      {
        "duration": 33,
        "start_time": "2023-04-18T16:09:50.258Z"
      },
      {
        "duration": 24,
        "start_time": "2023-04-18T16:09:50.293Z"
      },
      {
        "duration": 65,
        "start_time": "2023-04-18T16:09:50.319Z"
      },
      {
        "duration": 7,
        "start_time": "2023-04-18T16:09:50.386Z"
      },
      {
        "duration": 68,
        "start_time": "2023-04-18T16:09:50.396Z"
      },
      {
        "duration": 28,
        "start_time": "2023-04-18T16:09:50.469Z"
      },
      {
        "duration": 34,
        "start_time": "2023-04-18T16:09:50.498Z"
      },
      {
        "duration": 77,
        "start_time": "2023-04-18T16:09:50.534Z"
      },
      {
        "duration": 15,
        "start_time": "2023-04-18T16:09:50.613Z"
      },
      {
        "duration": 30,
        "start_time": "2023-04-18T16:09:50.630Z"
      },
      {
        "duration": 41,
        "start_time": "2023-04-18T16:09:50.662Z"
      },
      {
        "duration": 29,
        "start_time": "2023-04-18T16:09:50.705Z"
      },
      {
        "duration": 31,
        "start_time": "2023-04-18T16:09:50.736Z"
      },
      {
        "duration": 17,
        "start_time": "2023-04-18T16:09:50.769Z"
      },
      {
        "duration": 20,
        "start_time": "2023-04-18T16:09:50.788Z"
      },
      {
        "duration": 417,
        "start_time": "2023-04-18T16:09:50.810Z"
      },
      {
        "duration": 63,
        "start_time": "2023-04-18T16:09:51.229Z"
      },
      {
        "duration": 11210,
        "start_time": "2023-04-18T16:09:51.294Z"
      },
      {
        "duration": 1481,
        "start_time": "2023-04-18T16:10:02.507Z"
      },
      {
        "duration": 6,
        "start_time": "2023-04-18T16:10:03.990Z"
      },
      {
        "duration": 13,
        "start_time": "2023-04-18T16:10:03.998Z"
      },
      {
        "duration": 3281,
        "start_time": "2023-04-18T16:10:04.013Z"
      },
      {
        "duration": 48,
        "start_time": "2023-04-18T16:10:07.297Z"
      },
      {
        "duration": 612,
        "start_time": "2023-04-18T16:10:07.353Z"
      },
      {
        "duration": 354,
        "start_time": "2023-04-18T16:10:07.967Z"
      },
      {
        "duration": 45,
        "start_time": "2023-04-18T16:10:08.324Z"
      },
      {
        "duration": 1150,
        "start_time": "2023-04-18T16:10:08.372Z"
      },
      {
        "duration": 41,
        "start_time": "2023-04-18T16:10:09.524Z"
      },
      {
        "duration": 33,
        "start_time": "2023-04-18T16:10:09.568Z"
      },
      {
        "duration": 194,
        "start_time": "2023-04-18T16:10:09.603Z"
      },
      {
        "duration": 50,
        "start_time": "2023-04-18T16:10:09.799Z"
      },
      {
        "duration": 158,
        "start_time": "2023-04-18T16:10:09.851Z"
      },
      {
        "duration": 57,
        "start_time": "2023-04-18T16:10:10.011Z"
      },
      {
        "duration": 78,
        "start_time": "2023-04-18T16:10:10.071Z"
      },
      {
        "duration": 1524,
        "start_time": "2023-04-18T16:48:03.929Z"
      },
      {
        "duration": 315,
        "start_time": "2023-04-18T16:48:05.456Z"
      },
      {
        "duration": 11,
        "start_time": "2023-04-18T16:48:05.772Z"
      },
      {
        "duration": 32,
        "start_time": "2023-04-18T16:48:05.785Z"
      },
      {
        "duration": 4,
        "start_time": "2023-04-18T16:48:05.819Z"
      },
      {
        "duration": 53,
        "start_time": "2023-04-18T16:48:05.824Z"
      },
      {
        "duration": 7,
        "start_time": "2023-04-18T16:48:05.879Z"
      },
      {
        "duration": 34,
        "start_time": "2023-04-18T16:48:05.887Z"
      },
      {
        "duration": 23,
        "start_time": "2023-04-18T16:48:05.923Z"
      },
      {
        "duration": 40,
        "start_time": "2023-04-18T16:48:05.950Z"
      },
      {
        "duration": 47,
        "start_time": "2023-04-18T16:48:05.992Z"
      },
      {
        "duration": 13,
        "start_time": "2023-04-18T16:48:06.041Z"
      },
      {
        "duration": 13,
        "start_time": "2023-04-18T16:48:06.055Z"
      },
      {
        "duration": 36,
        "start_time": "2023-04-18T16:48:06.070Z"
      },
      {
        "duration": 30,
        "start_time": "2023-04-18T16:48:06.108Z"
      },
      {
        "duration": 25,
        "start_time": "2023-04-18T16:48:06.140Z"
      },
      {
        "duration": 10,
        "start_time": "2023-04-18T16:48:06.166Z"
      },
      {
        "duration": 13,
        "start_time": "2023-04-18T16:48:06.177Z"
      },
      {
        "duration": 429,
        "start_time": "2023-04-18T16:48:06.191Z"
      },
      {
        "duration": 46,
        "start_time": "2023-04-18T16:48:06.622Z"
      },
      {
        "duration": 10004,
        "start_time": "2023-04-18T16:48:06.670Z"
      },
      {
        "duration": 1323,
        "start_time": "2023-04-18T16:48:16.676Z"
      },
      {
        "duration": 4,
        "start_time": "2023-04-18T16:48:18.001Z"
      },
      {
        "duration": 32,
        "start_time": "2023-04-18T16:48:18.007Z"
      },
      {
        "duration": 2706,
        "start_time": "2023-04-18T16:48:18.042Z"
      },
      {
        "duration": 13,
        "start_time": "2023-04-18T16:48:20.749Z"
      },
      {
        "duration": 568,
        "start_time": "2023-04-18T16:48:20.763Z"
      },
      {
        "duration": 314,
        "start_time": "2023-04-18T16:48:21.335Z"
      },
      {
        "duration": 31,
        "start_time": "2023-04-18T16:48:21.651Z"
      },
      {
        "duration": 1081,
        "start_time": "2023-04-18T16:48:21.683Z"
      },
      {
        "duration": 27,
        "start_time": "2023-04-18T16:48:22.766Z"
      },
      {
        "duration": 46,
        "start_time": "2023-04-18T16:48:22.794Z"
      },
      {
        "duration": 150,
        "start_time": "2023-04-18T16:48:22.842Z"
      },
      {
        "duration": 36,
        "start_time": "2023-04-18T16:48:22.994Z"
      },
      {
        "duration": 158,
        "start_time": "2023-04-18T16:48:23.032Z"
      },
      {
        "duration": 46,
        "start_time": "2023-04-18T16:48:23.192Z"
      },
      {
        "duration": 44,
        "start_time": "2023-04-18T16:48:23.240Z"
      },
      {
        "duration": 6,
        "start_time": "2023-04-18T16:58:39.410Z"
      },
      {
        "duration": 6,
        "start_time": "2023-04-18T16:59:24.501Z"
      }
    ],
    "kernelspec": {
      "display_name": "Python 3 (ipykernel)",
      "language": "python",
      "name": "python3"
    },
    "language_info": {
      "codemirror_mode": {
        "name": "ipython",
        "version": 3
      },
      "file_extension": ".py",
      "mimetype": "text/x-python",
      "name": "python",
      "nbconvert_exporter": "python",
      "pygments_lexer": "ipython3",
      "version": "3.9.12"
    },
    "toc": {
      "base_numbering": 1,
      "nav_menu": {},
      "number_sections": true,
      "sideBar": true,
      "skip_h1_title": true,
      "title_cell": "Table of Contents",
      "title_sidebar": "Contents",
      "toc_cell": false,
      "toc_position": {
        "height": "calc(100% - 180px)",
        "left": "10px",
        "top": "150px",
        "width": "302.427px"
      },
      "toc_section_display": true,
      "toc_window_display": true
    },
    "toc-autonumbering": true,
    "colab": {
      "provenance": [],
      "include_colab_link": true
    }
  },
  "nbformat": 4,
  "nbformat_minor": 0
}