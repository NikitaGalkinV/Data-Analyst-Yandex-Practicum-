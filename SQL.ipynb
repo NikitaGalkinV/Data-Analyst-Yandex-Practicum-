{
  "cells": [
    {
      "cell_type": "markdown",
      "metadata": {
        "id": "view-in-github",
        "colab_type": "text"
      },
      "source": [
        "<a href=\"https://colab.research.google.com/github/NikitaGalkinV/Data-Analyst-Yandex-Practicum-/blob/main/SQL.ipynb\" target=\"_parent\"><img src=\"https://colab.research.google.com/assets/colab-badge.svg\" alt=\"Open In Colab\"/></a>"
      ]
    },
    {
      "cell_type": "markdown",
      "metadata": {
        "id": "_Jku3IT-lWaO"
      },
      "source": [
        "<div style=\"border:solid green 2px; padding: 20px\">\n",
        "    \n",
        "<b>Никита, привет! Это Александр Матвеевский</b> Я рад тебя видеть на финальном спринте (SQL).\n",
        "\n",
        "---\n",
        "\n",
        "Я буду красить комментарии цветом, пожалуйста, не удаляй их:\n",
        "\n",
        "<div class=\"alert alert-block alert-danger\">✍\n",
        "    \n",
        "\n",
        "__Комментарий от тимлида №1__\n",
        "\n",
        "Такой комментарий нужно исправить обязательно, он критически влияет на удачное выполнение проекта.\n",
        "</div>\n",
        "    \n",
        "---\n",
        "\n",
        "<div class=\"alert alert-block alert-warning\">📝\n",
        "    \n",
        "\n",
        "__Комментарий от тимлида №1__\n",
        "\n",
        "\n",
        "Такой комментарий является рекомендацией или советом. Можешь использовать их на своё усмотрение.\n",
        "</div>\n",
        "\n",
        "---\n",
        "\n",
        "<div class=\"alert alert-block alert-success\">✔️\n",
        "    \n",
        "\n",
        "__Комментарий от тимлида №1__\n",
        "\n",
        "Такой комментарий  говорит о том, что было сделано что-то качественное и правильное =)\n",
        "</div>\n",
        "    \n",
        "---\n",
        "    \n",
        "Предлагаю работать над проектом в диалоге: если у тебя возникают вопросы — пиши об этом в пачке, не стесняйся. Так же, мне будет легче отследить изменения, если ты выделишь свои комментарии:   \n",
        "    \n",
        "<div class=\"alert alert-info\"> <b>Комментарии студента:</b> Например, вот так.</div>\n",
        "    \n",
        "    \n",
        "---"
      ]
    },
    {
      "cell_type": "markdown",
      "metadata": {
        "id": "7IHCOGXtlWaQ"
      },
      "source": [
        "# Проект по SQL\n"
      ]
    },
    {
      "cell_type": "markdown",
      "metadata": {
        "id": "E7hUSorelWaQ"
      },
      "source": [
        "## Описание проекта"
      ]
    },
    {
      "cell_type": "markdown",
      "metadata": {
        "id": "RgqJG-BnlWaQ"
      },
      "source": [
        "Ваша компания купила крупный сервис для чтения книг по подписке. В ней — информация о книгах, издательствах, авторах, а также пользовательские обзоры книг. Эти данные помогут сформулировать ценностное предложение для нового продукта.\n",
        "\n",
        "\n",
        "**Цель:** проанализировать базу данных"
      ]
    },
    {
      "cell_type": "markdown",
      "metadata": {
        "id": "m7FJalYvlWaR"
      },
      "source": [
        "## Описание данных"
      ]
    },
    {
      "cell_type": "markdown",
      "metadata": {
        "id": "3l6JCJXPlWaR"
      },
      "source": [
        "**Таблица books**\n",
        "\n",
        "Содержит данные о книгах:\n",
        "- book_id — идентификатор книги;\n",
        "- author_id — идентификатор автора;\n",
        "- title — название книги;\n",
        "- num_pages — количество страниц;\n",
        "- publication_date — дата публикации книги;\n",
        "- publisher_id — идентификатор издателя.\n",
        "\n",
        "**Таблица authors**\n",
        "\n",
        "Содержит данные об авторах:\n",
        "- author_id — идентификатор автора;\n",
        "- author — имя автора.\n",
        "\n",
        "**Таблица publishers**\n",
        "\n",
        "Содержит данные об издательствах:\n",
        "- publisher_id — идентификатор издательства;\n",
        "- publisher — название издательства;\n",
        "\n",
        "**Таблица ratings**\n",
        "\n",
        "Содержит данные о пользовательских оценках книг:\n",
        "- rating_id — идентификатор оценки;\n",
        "- book_id — идентификатор книги;\n",
        "- username — имя пользователя, оставившего оценку;\n",
        "- rating — оценка книги.\n",
        "\n",
        "**Таблица reviews**\n",
        "\n",
        "Содержит данные о пользовательских обзорах:\n",
        "- review_id — идентификатор обзора;\n",
        "- book_id — идентификатор книги;\n",
        "- username — имя автора обзора;\n",
        "- text — текст обзора.\n",
        "\n",
        "![image-2.png](attachment:image-2.png)"
      ]
    },
    {
      "cell_type": "markdown",
      "metadata": {
        "id": "gVvoMcMMlWaR"
      },
      "source": [
        "<div class=\"alert alert-block alert-success\">✔️\n",
        "    \n",
        "\n",
        "__Комментарий от тимлида №1__\n",
        "\n",
        "Здорово, что не забываешь про оформление проекта\n",
        "</div>"
      ]
    },
    {
      "cell_type": "markdown",
      "metadata": {
        "id": "ahoePfFLlWaR"
      },
      "source": []
    },
    {
      "cell_type": "markdown",
      "metadata": {
        "id": "oKkMxiyUlWaR"
      },
      "source": [
        "## Исследование данных"
      ]
    },
    {
      "cell_type": "code",
      "execution_count": null,
      "metadata": {
        "id": "Tq6KgxtilWaR"
      },
      "outputs": [],
      "source": [
        "import pandas as pd\n",
        "import sqlalchemy\n",
        "from sqlalchemy import create_engine "
      ]
    },
    {
      "cell_type": "code",
      "execution_count": null,
      "metadata": {
        "scrolled": false,
        "id": "I7T_NyrjlWaS"
      },
      "outputs": [],
      "source": [
        "# устанавливаем параметры\n",
        "db_config = {'user': 'praktikum_student', # имя пользователя\n",
        "'pwd': 'Sdf4$2;d-d30pp', # пароль\n",
        "'host': 'rc1b-wcoijxj3yxfsf3fs.mdb.yandexcloud.net',\n",
        "'port': 6432, # порт подключения\n",
        "'db': 'data-analyst-final-project-db'} # название базы данных\n",
        "connection_string = 'postgresql://{}:{}@{}:{}/{}'.format(db_config['user'],\n",
        " db_config['pwd'],\n",
        " db_config['host'],\n",
        " db_config['port'],\n",
        " db_config['db'])\n",
        "# сохраняем коннектор\n",
        "\n",
        "engine = create_engine(connection_string, connect_args={'sslmode':'require'}) \n"
      ]
    },
    {
      "cell_type": "code",
      "execution_count": null,
      "metadata": {
        "id": "qBSMnzeolWaS"
      },
      "outputs": [],
      "source": [
        "def get_dataset(query, con):\n",
        "    engine = sqlalchemy.create_engine(con)\n",
        "    df = pd.read_sql(query, engine)\n",
        "    return df"
      ]
    },
    {
      "cell_type": "code",
      "execution_count": null,
      "metadata": {
        "id": "_zgcZucLlWaS"
      },
      "outputs": [],
      "source": [
        "\n",
        "def load_and_print_dataset(query, name):   \n",
        "    df = get_dataset(query, connection_string)\n",
        "    print(name)\n",
        "    display(df)\n",
        "    print(\"–––––––––––––––––––––––––––––––––––––––––––––––––\")\n",
        "    display(df.info())\n",
        "    print(\"–––––––––––––––––––––––––––––––––––––––––––––––––\")\n",
        "    display(df.describe(include='all'))\n",
        "\n"
      ]
    },
    {
      "cell_type": "code",
      "execution_count": null,
      "metadata": {
        "scrolled": true,
        "id": "UqzHMtt1lWaS",
        "outputId": "8d9ad12c-3bb8-4d63-b059-767edf8fcab2"
      },
      "outputs": [
        {
          "name": "stdout",
          "output_type": "stream",
          "text": [
            "Книги\n"
          ]
        },
        {
          "data": {
            "text/html": [
              "<div>\n",
              "<style scoped>\n",
              "    .dataframe tbody tr th:only-of-type {\n",
              "        vertical-align: middle;\n",
              "    }\n",
              "\n",
              "    .dataframe tbody tr th {\n",
              "        vertical-align: top;\n",
              "    }\n",
              "\n",
              "    .dataframe thead th {\n",
              "        text-align: right;\n",
              "    }\n",
              "</style>\n",
              "<table border=\"1\" class=\"dataframe\">\n",
              "  <thead>\n",
              "    <tr style=\"text-align: right;\">\n",
              "      <th></th>\n",
              "      <th>book_id</th>\n",
              "      <th>author_id</th>\n",
              "      <th>title</th>\n",
              "      <th>num_pages</th>\n",
              "      <th>publication_date</th>\n",
              "      <th>publisher_id</th>\n",
              "    </tr>\n",
              "  </thead>\n",
              "  <tbody>\n",
              "    <tr>\n",
              "      <th>0</th>\n",
              "      <td>1</td>\n",
              "      <td>546</td>\n",
              "      <td>'Salem's Lot</td>\n",
              "      <td>594</td>\n",
              "      <td>2005-11-01</td>\n",
              "      <td>93</td>\n",
              "    </tr>\n",
              "    <tr>\n",
              "      <th>1</th>\n",
              "      <td>2</td>\n",
              "      <td>465</td>\n",
              "      <td>1 000 Places to See Before You Die</td>\n",
              "      <td>992</td>\n",
              "      <td>2003-05-22</td>\n",
              "      <td>336</td>\n",
              "    </tr>\n",
              "    <tr>\n",
              "      <th>2</th>\n",
              "      <td>3</td>\n",
              "      <td>407</td>\n",
              "      <td>13 Little Blue Envelopes (Little Blue Envelope...</td>\n",
              "      <td>322</td>\n",
              "      <td>2010-12-21</td>\n",
              "      <td>135</td>\n",
              "    </tr>\n",
              "    <tr>\n",
              "      <th>3</th>\n",
              "      <td>4</td>\n",
              "      <td>82</td>\n",
              "      <td>1491: New Revelations of the Americas Before C...</td>\n",
              "      <td>541</td>\n",
              "      <td>2006-10-10</td>\n",
              "      <td>309</td>\n",
              "    </tr>\n",
              "    <tr>\n",
              "      <th>4</th>\n",
              "      <td>5</td>\n",
              "      <td>125</td>\n",
              "      <td>1776</td>\n",
              "      <td>386</td>\n",
              "      <td>2006-07-04</td>\n",
              "      <td>268</td>\n",
              "    </tr>\n",
              "    <tr>\n",
              "      <th>...</th>\n",
              "      <td>...</td>\n",
              "      <td>...</td>\n",
              "      <td>...</td>\n",
              "      <td>...</td>\n",
              "      <td>...</td>\n",
              "      <td>...</td>\n",
              "    </tr>\n",
              "    <tr>\n",
              "      <th>995</th>\n",
              "      <td>996</td>\n",
              "      <td>571</td>\n",
              "      <td>Wyrd Sisters (Discworld  #6; Witches #2)</td>\n",
              "      <td>265</td>\n",
              "      <td>2001-02-06</td>\n",
              "      <td>147</td>\n",
              "    </tr>\n",
              "    <tr>\n",
              "      <th>996</th>\n",
              "      <td>997</td>\n",
              "      <td>454</td>\n",
              "      <td>Xenocide (Ender's Saga  #3)</td>\n",
              "      <td>592</td>\n",
              "      <td>1996-07-15</td>\n",
              "      <td>297</td>\n",
              "    </tr>\n",
              "    <tr>\n",
              "      <th>997</th>\n",
              "      <td>998</td>\n",
              "      <td>201</td>\n",
              "      <td>Year of Wonders</td>\n",
              "      <td>358</td>\n",
              "      <td>2002-04-30</td>\n",
              "      <td>212</td>\n",
              "    </tr>\n",
              "    <tr>\n",
              "      <th>998</th>\n",
              "      <td>999</td>\n",
              "      <td>94</td>\n",
              "      <td>You Suck (A Love Story  #2)</td>\n",
              "      <td>328</td>\n",
              "      <td>2007-01-16</td>\n",
              "      <td>331</td>\n",
              "    </tr>\n",
              "    <tr>\n",
              "      <th>999</th>\n",
              "      <td>1000</td>\n",
              "      <td>509</td>\n",
              "      <td>Zen and the Art of Motorcycle Maintenance: An ...</td>\n",
              "      <td>540</td>\n",
              "      <td>2006-04-25</td>\n",
              "      <td>143</td>\n",
              "    </tr>\n",
              "  </tbody>\n",
              "</table>\n",
              "<p>1000 rows × 6 columns</p>\n",
              "</div>"
            ],
            "text/plain": [
              "     book_id  author_id                                              title  \\\n",
              "0          1        546                                       'Salem's Lot   \n",
              "1          2        465                 1 000 Places to See Before You Die   \n",
              "2          3        407  13 Little Blue Envelopes (Little Blue Envelope...   \n",
              "3          4         82  1491: New Revelations of the Americas Before C...   \n",
              "4          5        125                                               1776   \n",
              "..       ...        ...                                                ...   \n",
              "995      996        571           Wyrd Sisters (Discworld  #6; Witches #2)   \n",
              "996      997        454                        Xenocide (Ender's Saga  #3)   \n",
              "997      998        201                                    Year of Wonders   \n",
              "998      999         94                        You Suck (A Love Story  #2)   \n",
              "999     1000        509  Zen and the Art of Motorcycle Maintenance: An ...   \n",
              "\n",
              "     num_pages publication_date  publisher_id  \n",
              "0          594       2005-11-01            93  \n",
              "1          992       2003-05-22           336  \n",
              "2          322       2010-12-21           135  \n",
              "3          541       2006-10-10           309  \n",
              "4          386       2006-07-04           268  \n",
              "..         ...              ...           ...  \n",
              "995        265       2001-02-06           147  \n",
              "996        592       1996-07-15           297  \n",
              "997        358       2002-04-30           212  \n",
              "998        328       2007-01-16           331  \n",
              "999        540       2006-04-25           143  \n",
              "\n",
              "[1000 rows x 6 columns]"
            ]
          },
          "metadata": {},
          "output_type": "display_data"
        },
        {
          "name": "stdout",
          "output_type": "stream",
          "text": [
            "–––––––––––––––––––––––––––––––––––––––––––––––––\n",
            "<class 'pandas.core.frame.DataFrame'>\n",
            "RangeIndex: 1000 entries, 0 to 999\n",
            "Data columns (total 6 columns):\n",
            " #   Column            Non-Null Count  Dtype \n",
            "---  ------            --------------  ----- \n",
            " 0   book_id           1000 non-null   int64 \n",
            " 1   author_id         1000 non-null   int64 \n",
            " 2   title             1000 non-null   object\n",
            " 3   num_pages         1000 non-null   int64 \n",
            " 4   publication_date  1000 non-null   object\n",
            " 5   publisher_id      1000 non-null   int64 \n",
            "dtypes: int64(4), object(2)\n",
            "memory usage: 47.0+ KB\n"
          ]
        },
        {
          "data": {
            "text/plain": [
              "None"
            ]
          },
          "metadata": {},
          "output_type": "display_data"
        },
        {
          "name": "stdout",
          "output_type": "stream",
          "text": [
            "–––––––––––––––––––––––––––––––––––––––––––––––––\n"
          ]
        },
        {
          "data": {
            "text/html": [
              "<div>\n",
              "<style scoped>\n",
              "    .dataframe tbody tr th:only-of-type {\n",
              "        vertical-align: middle;\n",
              "    }\n",
              "\n",
              "    .dataframe tbody tr th {\n",
              "        vertical-align: top;\n",
              "    }\n",
              "\n",
              "    .dataframe thead th {\n",
              "        text-align: right;\n",
              "    }\n",
              "</style>\n",
              "<table border=\"1\" class=\"dataframe\">\n",
              "  <thead>\n",
              "    <tr style=\"text-align: right;\">\n",
              "      <th></th>\n",
              "      <th>book_id</th>\n",
              "      <th>author_id</th>\n",
              "      <th>title</th>\n",
              "      <th>num_pages</th>\n",
              "      <th>publication_date</th>\n",
              "      <th>publisher_id</th>\n",
              "    </tr>\n",
              "  </thead>\n",
              "  <tbody>\n",
              "    <tr>\n",
              "      <th>count</th>\n",
              "      <td>1000.000000</td>\n",
              "      <td>1000.000000</td>\n",
              "      <td>1000</td>\n",
              "      <td>1000.00000</td>\n",
              "      <td>1000</td>\n",
              "      <td>1000.000000</td>\n",
              "    </tr>\n",
              "    <tr>\n",
              "      <th>unique</th>\n",
              "      <td>NaN</td>\n",
              "      <td>NaN</td>\n",
              "      <td>999</td>\n",
              "      <td>NaN</td>\n",
              "      <td>618</td>\n",
              "      <td>NaN</td>\n",
              "    </tr>\n",
              "    <tr>\n",
              "      <th>top</th>\n",
              "      <td>NaN</td>\n",
              "      <td>NaN</td>\n",
              "      <td>Memoirs of a Geisha</td>\n",
              "      <td>NaN</td>\n",
              "      <td>2004-06-01</td>\n",
              "      <td>NaN</td>\n",
              "    </tr>\n",
              "    <tr>\n",
              "      <th>freq</th>\n",
              "      <td>NaN</td>\n",
              "      <td>NaN</td>\n",
              "      <td>2</td>\n",
              "      <td>NaN</td>\n",
              "      <td>10</td>\n",
              "      <td>NaN</td>\n",
              "    </tr>\n",
              "    <tr>\n",
              "      <th>mean</th>\n",
              "      <td>500.500000</td>\n",
              "      <td>320.417000</td>\n",
              "      <td>NaN</td>\n",
              "      <td>389.11100</td>\n",
              "      <td>NaN</td>\n",
              "      <td>171.270000</td>\n",
              "    </tr>\n",
              "    <tr>\n",
              "      <th>std</th>\n",
              "      <td>288.819436</td>\n",
              "      <td>181.620172</td>\n",
              "      <td>NaN</td>\n",
              "      <td>229.39014</td>\n",
              "      <td>NaN</td>\n",
              "      <td>99.082685</td>\n",
              "    </tr>\n",
              "    <tr>\n",
              "      <th>min</th>\n",
              "      <td>1.000000</td>\n",
              "      <td>1.000000</td>\n",
              "      <td>NaN</td>\n",
              "      <td>14.00000</td>\n",
              "      <td>NaN</td>\n",
              "      <td>1.000000</td>\n",
              "    </tr>\n",
              "    <tr>\n",
              "      <th>25%</th>\n",
              "      <td>250.750000</td>\n",
              "      <td>162.750000</td>\n",
              "      <td>NaN</td>\n",
              "      <td>249.00000</td>\n",
              "      <td>NaN</td>\n",
              "      <td>83.000000</td>\n",
              "    </tr>\n",
              "    <tr>\n",
              "      <th>50%</th>\n",
              "      <td>500.500000</td>\n",
              "      <td>316.500000</td>\n",
              "      <td>NaN</td>\n",
              "      <td>352.00000</td>\n",
              "      <td>NaN</td>\n",
              "      <td>177.500000</td>\n",
              "    </tr>\n",
              "    <tr>\n",
              "      <th>75%</th>\n",
              "      <td>750.250000</td>\n",
              "      <td>481.000000</td>\n",
              "      <td>NaN</td>\n",
              "      <td>453.00000</td>\n",
              "      <td>NaN</td>\n",
              "      <td>258.000000</td>\n",
              "    </tr>\n",
              "    <tr>\n",
              "      <th>max</th>\n",
              "      <td>1000.000000</td>\n",
              "      <td>636.000000</td>\n",
              "      <td>NaN</td>\n",
              "      <td>2690.00000</td>\n",
              "      <td>NaN</td>\n",
              "      <td>340.000000</td>\n",
              "    </tr>\n",
              "  </tbody>\n",
              "</table>\n",
              "</div>"
            ],
            "text/plain": [
              "            book_id    author_id                title   num_pages  \\\n",
              "count   1000.000000  1000.000000                 1000  1000.00000   \n",
              "unique          NaN          NaN                  999         NaN   \n",
              "top             NaN          NaN  Memoirs of a Geisha         NaN   \n",
              "freq            NaN          NaN                    2         NaN   \n",
              "mean     500.500000   320.417000                  NaN   389.11100   \n",
              "std      288.819436   181.620172                  NaN   229.39014   \n",
              "min        1.000000     1.000000                  NaN    14.00000   \n",
              "25%      250.750000   162.750000                  NaN   249.00000   \n",
              "50%      500.500000   316.500000                  NaN   352.00000   \n",
              "75%      750.250000   481.000000                  NaN   453.00000   \n",
              "max     1000.000000   636.000000                  NaN  2690.00000   \n",
              "\n",
              "       publication_date  publisher_id  \n",
              "count              1000   1000.000000  \n",
              "unique              618           NaN  \n",
              "top          2004-06-01           NaN  \n",
              "freq                 10           NaN  \n",
              "mean                NaN    171.270000  \n",
              "std                 NaN     99.082685  \n",
              "min                 NaN      1.000000  \n",
              "25%                 NaN     83.000000  \n",
              "50%                 NaN    177.500000  \n",
              "75%                 NaN    258.000000  \n",
              "max                 NaN    340.000000  "
            ]
          },
          "metadata": {},
          "output_type": "display_data"
        }
      ],
      "source": [
        "# загрузка и вывод датасета books\n",
        "query_books = \"SELECT * FROM books\"\n",
        "load_and_print_dataset(query_books, 'Книги')\n"
      ]
    },
    {
      "cell_type": "code",
      "execution_count": null,
      "metadata": {
        "scrolled": true,
        "id": "WDuu4QZXlWaS",
        "outputId": "cbe11bfc-b0c5-4af0-a879-355aeb198f06"
      },
      "outputs": [
        {
          "name": "stdout",
          "output_type": "stream",
          "text": [
            "Авторы\n"
          ]
        },
        {
          "data": {
            "text/html": [
              "<div>\n",
              "<style scoped>\n",
              "    .dataframe tbody tr th:only-of-type {\n",
              "        vertical-align: middle;\n",
              "    }\n",
              "\n",
              "    .dataframe tbody tr th {\n",
              "        vertical-align: top;\n",
              "    }\n",
              "\n",
              "    .dataframe thead th {\n",
              "        text-align: right;\n",
              "    }\n",
              "</style>\n",
              "<table border=\"1\" class=\"dataframe\">\n",
              "  <thead>\n",
              "    <tr style=\"text-align: right;\">\n",
              "      <th></th>\n",
              "      <th>author_id</th>\n",
              "      <th>author</th>\n",
              "    </tr>\n",
              "  </thead>\n",
              "  <tbody>\n",
              "    <tr>\n",
              "      <th>0</th>\n",
              "      <td>1</td>\n",
              "      <td>A.S. Byatt</td>\n",
              "    </tr>\n",
              "    <tr>\n",
              "      <th>1</th>\n",
              "      <td>2</td>\n",
              "      <td>Aesop/Laura Harris/Laura Gibbs</td>\n",
              "    </tr>\n",
              "    <tr>\n",
              "      <th>2</th>\n",
              "      <td>3</td>\n",
              "      <td>Agatha Christie</td>\n",
              "    </tr>\n",
              "    <tr>\n",
              "      <th>3</th>\n",
              "      <td>4</td>\n",
              "      <td>Alan Brennert</td>\n",
              "    </tr>\n",
              "    <tr>\n",
              "      <th>4</th>\n",
              "      <td>5</td>\n",
              "      <td>Alan Moore/David   Lloyd</td>\n",
              "    </tr>\n",
              "    <tr>\n",
              "      <th>...</th>\n",
              "      <td>...</td>\n",
              "      <td>...</td>\n",
              "    </tr>\n",
              "    <tr>\n",
              "      <th>631</th>\n",
              "      <td>632</td>\n",
              "      <td>William Strunk Jr./E.B. White</td>\n",
              "    </tr>\n",
              "    <tr>\n",
              "      <th>632</th>\n",
              "      <td>633</td>\n",
              "      <td>Zadie Smith</td>\n",
              "    </tr>\n",
              "    <tr>\n",
              "      <th>633</th>\n",
              "      <td>634</td>\n",
              "      <td>Zilpha Keatley Snyder</td>\n",
              "    </tr>\n",
              "    <tr>\n",
              "      <th>634</th>\n",
              "      <td>635</td>\n",
              "      <td>Zora Neale Hurston</td>\n",
              "    </tr>\n",
              "    <tr>\n",
              "      <th>635</th>\n",
              "      <td>636</td>\n",
              "      <td>Åsne Seierstad/Ingrid Christopherson</td>\n",
              "    </tr>\n",
              "  </tbody>\n",
              "</table>\n",
              "<p>636 rows × 2 columns</p>\n",
              "</div>"
            ],
            "text/plain": [
              "     author_id                                author\n",
              "0            1                            A.S. Byatt\n",
              "1            2        Aesop/Laura Harris/Laura Gibbs\n",
              "2            3                       Agatha Christie\n",
              "3            4                         Alan Brennert\n",
              "4            5              Alan Moore/David   Lloyd\n",
              "..         ...                                   ...\n",
              "631        632         William Strunk Jr./E.B. White\n",
              "632        633                           Zadie Smith\n",
              "633        634                 Zilpha Keatley Snyder\n",
              "634        635                    Zora Neale Hurston\n",
              "635        636  Åsne Seierstad/Ingrid Christopherson\n",
              "\n",
              "[636 rows x 2 columns]"
            ]
          },
          "metadata": {},
          "output_type": "display_data"
        },
        {
          "name": "stdout",
          "output_type": "stream",
          "text": [
            "–––––––––––––––––––––––––––––––––––––––––––––––––\n",
            "<class 'pandas.core.frame.DataFrame'>\n",
            "RangeIndex: 636 entries, 0 to 635\n",
            "Data columns (total 2 columns):\n",
            " #   Column     Non-Null Count  Dtype \n",
            "---  ------     --------------  ----- \n",
            " 0   author_id  636 non-null    int64 \n",
            " 1   author     636 non-null    object\n",
            "dtypes: int64(1), object(1)\n",
            "memory usage: 10.1+ KB\n"
          ]
        },
        {
          "data": {
            "text/plain": [
              "None"
            ]
          },
          "metadata": {},
          "output_type": "display_data"
        },
        {
          "name": "stdout",
          "output_type": "stream",
          "text": [
            "–––––––––––––––––––––––––––––––––––––––––––––––––\n"
          ]
        },
        {
          "data": {
            "text/html": [
              "<div>\n",
              "<style scoped>\n",
              "    .dataframe tbody tr th:only-of-type {\n",
              "        vertical-align: middle;\n",
              "    }\n",
              "\n",
              "    .dataframe tbody tr th {\n",
              "        vertical-align: top;\n",
              "    }\n",
              "\n",
              "    .dataframe thead th {\n",
              "        text-align: right;\n",
              "    }\n",
              "</style>\n",
              "<table border=\"1\" class=\"dataframe\">\n",
              "  <thead>\n",
              "    <tr style=\"text-align: right;\">\n",
              "      <th></th>\n",
              "      <th>author_id</th>\n",
              "      <th>author</th>\n",
              "    </tr>\n",
              "  </thead>\n",
              "  <tbody>\n",
              "    <tr>\n",
              "      <th>count</th>\n",
              "      <td>636.000000</td>\n",
              "      <td>636</td>\n",
              "    </tr>\n",
              "    <tr>\n",
              "      <th>unique</th>\n",
              "      <td>NaN</td>\n",
              "      <td>636</td>\n",
              "    </tr>\n",
              "    <tr>\n",
              "      <th>top</th>\n",
              "      <td>NaN</td>\n",
              "      <td>Umberto Eco/Girolamo De Michele/Alastair McEwe...</td>\n",
              "    </tr>\n",
              "    <tr>\n",
              "      <th>freq</th>\n",
              "      <td>NaN</td>\n",
              "      <td>1</td>\n",
              "    </tr>\n",
              "    <tr>\n",
              "      <th>mean</th>\n",
              "      <td>318.500000</td>\n",
              "      <td>NaN</td>\n",
              "    </tr>\n",
              "    <tr>\n",
              "      <th>std</th>\n",
              "      <td>183.741666</td>\n",
              "      <td>NaN</td>\n",
              "    </tr>\n",
              "    <tr>\n",
              "      <th>min</th>\n",
              "      <td>1.000000</td>\n",
              "      <td>NaN</td>\n",
              "    </tr>\n",
              "    <tr>\n",
              "      <th>25%</th>\n",
              "      <td>159.750000</td>\n",
              "      <td>NaN</td>\n",
              "    </tr>\n",
              "    <tr>\n",
              "      <th>50%</th>\n",
              "      <td>318.500000</td>\n",
              "      <td>NaN</td>\n",
              "    </tr>\n",
              "    <tr>\n",
              "      <th>75%</th>\n",
              "      <td>477.250000</td>\n",
              "      <td>NaN</td>\n",
              "    </tr>\n",
              "    <tr>\n",
              "      <th>max</th>\n",
              "      <td>636.000000</td>\n",
              "      <td>NaN</td>\n",
              "    </tr>\n",
              "  </tbody>\n",
              "</table>\n",
              "</div>"
            ],
            "text/plain": [
              "         author_id                                             author\n",
              "count   636.000000                                                636\n",
              "unique         NaN                                                636\n",
              "top            NaN  Umberto Eco/Girolamo De Michele/Alastair McEwe...\n",
              "freq           NaN                                                  1\n",
              "mean    318.500000                                                NaN\n",
              "std     183.741666                                                NaN\n",
              "min       1.000000                                                NaN\n",
              "25%     159.750000                                                NaN\n",
              "50%     318.500000                                                NaN\n",
              "75%     477.250000                                                NaN\n",
              "max     636.000000                                                NaN"
            ]
          },
          "metadata": {},
          "output_type": "display_data"
        }
      ],
      "source": [
        "\n",
        "# загрузка и вывод датасета authors\n",
        "query_authors = \"SELECT * FROM authors\"\n",
        "load_and_print_dataset(query_authors, 'Авторы')\n"
      ]
    },
    {
      "cell_type": "code",
      "execution_count": null,
      "metadata": {
        "scrolled": true,
        "id": "m6Fr_I41lWaS",
        "outputId": "50a628db-e6ae-4228-d194-d50f863026c8"
      },
      "outputs": [
        {
          "name": "stdout",
          "output_type": "stream",
          "text": [
            "Издатели\n"
          ]
        },
        {
          "data": {
            "text/html": [
              "<div>\n",
              "<style scoped>\n",
              "    .dataframe tbody tr th:only-of-type {\n",
              "        vertical-align: middle;\n",
              "    }\n",
              "\n",
              "    .dataframe tbody tr th {\n",
              "        vertical-align: top;\n",
              "    }\n",
              "\n",
              "    .dataframe thead th {\n",
              "        text-align: right;\n",
              "    }\n",
              "</style>\n",
              "<table border=\"1\" class=\"dataframe\">\n",
              "  <thead>\n",
              "    <tr style=\"text-align: right;\">\n",
              "      <th></th>\n",
              "      <th>publisher_id</th>\n",
              "      <th>publisher</th>\n",
              "    </tr>\n",
              "  </thead>\n",
              "  <tbody>\n",
              "    <tr>\n",
              "      <th>0</th>\n",
              "      <td>1</td>\n",
              "      <td>Ace</td>\n",
              "    </tr>\n",
              "    <tr>\n",
              "      <th>1</th>\n",
              "      <td>2</td>\n",
              "      <td>Ace Book</td>\n",
              "    </tr>\n",
              "    <tr>\n",
              "      <th>2</th>\n",
              "      <td>3</td>\n",
              "      <td>Ace Books</td>\n",
              "    </tr>\n",
              "    <tr>\n",
              "      <th>3</th>\n",
              "      <td>4</td>\n",
              "      <td>Ace Hardcover</td>\n",
              "    </tr>\n",
              "    <tr>\n",
              "      <th>4</th>\n",
              "      <td>5</td>\n",
              "      <td>Addison Wesley Publishing Company</td>\n",
              "    </tr>\n",
              "    <tr>\n",
              "      <th>...</th>\n",
              "      <td>...</td>\n",
              "      <td>...</td>\n",
              "    </tr>\n",
              "    <tr>\n",
              "      <th>335</th>\n",
              "      <td>336</td>\n",
              "      <td>Workman Publishing Company</td>\n",
              "    </tr>\n",
              "    <tr>\n",
              "      <th>336</th>\n",
              "      <td>337</td>\n",
              "      <td>Wyatt Book</td>\n",
              "    </tr>\n",
              "    <tr>\n",
              "      <th>337</th>\n",
              "      <td>338</td>\n",
              "      <td>Yale University Press</td>\n",
              "    </tr>\n",
              "    <tr>\n",
              "      <th>338</th>\n",
              "      <td>339</td>\n",
              "      <td>Yearling</td>\n",
              "    </tr>\n",
              "    <tr>\n",
              "      <th>339</th>\n",
              "      <td>340</td>\n",
              "      <td>Yearling Books</td>\n",
              "    </tr>\n",
              "  </tbody>\n",
              "</table>\n",
              "<p>340 rows × 2 columns</p>\n",
              "</div>"
            ],
            "text/plain": [
              "     publisher_id                          publisher\n",
              "0               1                                Ace\n",
              "1               2                           Ace Book\n",
              "2               3                          Ace Books\n",
              "3               4                      Ace Hardcover\n",
              "4               5  Addison Wesley Publishing Company\n",
              "..            ...                                ...\n",
              "335           336         Workman Publishing Company\n",
              "336           337                         Wyatt Book\n",
              "337           338              Yale University Press\n",
              "338           339                           Yearling\n",
              "339           340                     Yearling Books\n",
              "\n",
              "[340 rows x 2 columns]"
            ]
          },
          "metadata": {},
          "output_type": "display_data"
        },
        {
          "name": "stdout",
          "output_type": "stream",
          "text": [
            "–––––––––––––––––––––––––––––––––––––––––––––––––\n",
            "<class 'pandas.core.frame.DataFrame'>\n",
            "RangeIndex: 340 entries, 0 to 339\n",
            "Data columns (total 2 columns):\n",
            " #   Column        Non-Null Count  Dtype \n",
            "---  ------        --------------  ----- \n",
            " 0   publisher_id  340 non-null    int64 \n",
            " 1   publisher     340 non-null    object\n",
            "dtypes: int64(1), object(1)\n",
            "memory usage: 5.4+ KB\n"
          ]
        },
        {
          "data": {
            "text/plain": [
              "None"
            ]
          },
          "metadata": {},
          "output_type": "display_data"
        },
        {
          "name": "stdout",
          "output_type": "stream",
          "text": [
            "–––––––––––––––––––––––––––––––––––––––––––––––––\n"
          ]
        },
        {
          "data": {
            "text/html": [
              "<div>\n",
              "<style scoped>\n",
              "    .dataframe tbody tr th:only-of-type {\n",
              "        vertical-align: middle;\n",
              "    }\n",
              "\n",
              "    .dataframe tbody tr th {\n",
              "        vertical-align: top;\n",
              "    }\n",
              "\n",
              "    .dataframe thead th {\n",
              "        text-align: right;\n",
              "    }\n",
              "</style>\n",
              "<table border=\"1\" class=\"dataframe\">\n",
              "  <thead>\n",
              "    <tr style=\"text-align: right;\">\n",
              "      <th></th>\n",
              "      <th>publisher_id</th>\n",
              "      <th>publisher</th>\n",
              "    </tr>\n",
              "  </thead>\n",
              "  <tbody>\n",
              "    <tr>\n",
              "      <th>count</th>\n",
              "      <td>340.000000</td>\n",
              "      <td>340</td>\n",
              "    </tr>\n",
              "    <tr>\n",
              "      <th>unique</th>\n",
              "      <td>NaN</td>\n",
              "      <td>340</td>\n",
              "    </tr>\n",
              "    <tr>\n",
              "      <th>top</th>\n",
              "      <td>NaN</td>\n",
              "      <td>Random House Anchor</td>\n",
              "    </tr>\n",
              "    <tr>\n",
              "      <th>freq</th>\n",
              "      <td>NaN</td>\n",
              "      <td>1</td>\n",
              "    </tr>\n",
              "    <tr>\n",
              "      <th>mean</th>\n",
              "      <td>170.500000</td>\n",
              "      <td>NaN</td>\n",
              "    </tr>\n",
              "    <tr>\n",
              "      <th>std</th>\n",
              "      <td>98.293777</td>\n",
              "      <td>NaN</td>\n",
              "    </tr>\n",
              "    <tr>\n",
              "      <th>min</th>\n",
              "      <td>1.000000</td>\n",
              "      <td>NaN</td>\n",
              "    </tr>\n",
              "    <tr>\n",
              "      <th>25%</th>\n",
              "      <td>85.750000</td>\n",
              "      <td>NaN</td>\n",
              "    </tr>\n",
              "    <tr>\n",
              "      <th>50%</th>\n",
              "      <td>170.500000</td>\n",
              "      <td>NaN</td>\n",
              "    </tr>\n",
              "    <tr>\n",
              "      <th>75%</th>\n",
              "      <td>255.250000</td>\n",
              "      <td>NaN</td>\n",
              "    </tr>\n",
              "    <tr>\n",
              "      <th>max</th>\n",
              "      <td>340.000000</td>\n",
              "      <td>NaN</td>\n",
              "    </tr>\n",
              "  </tbody>\n",
              "</table>\n",
              "</div>"
            ],
            "text/plain": [
              "        publisher_id            publisher\n",
              "count     340.000000                  340\n",
              "unique           NaN                  340\n",
              "top              NaN  Random House Anchor\n",
              "freq             NaN                    1\n",
              "mean      170.500000                  NaN\n",
              "std        98.293777                  NaN\n",
              "min         1.000000                  NaN\n",
              "25%        85.750000                  NaN\n",
              "50%       170.500000                  NaN\n",
              "75%       255.250000                  NaN\n",
              "max       340.000000                  NaN"
            ]
          },
          "metadata": {},
          "output_type": "display_data"
        }
      ],
      "source": [
        "\n",
        "# загрузка и вывод датасета publishers\n",
        "query_publishers = \"SELECT * FROM publishers\"\n",
        "load_and_print_dataset(query_publishers, 'Издатели')\n"
      ]
    },
    {
      "cell_type": "code",
      "execution_count": null,
      "metadata": {
        "scrolled": true,
        "id": "yam7VNv-lWaS",
        "outputId": "71db7ca7-4411-4552-ffe1-9b2fdcecb4dc"
      },
      "outputs": [
        {
          "name": "stdout",
          "output_type": "stream",
          "text": [
            "Рейтинг\n"
          ]
        },
        {
          "data": {
            "text/html": [
              "<div>\n",
              "<style scoped>\n",
              "    .dataframe tbody tr th:only-of-type {\n",
              "        vertical-align: middle;\n",
              "    }\n",
              "\n",
              "    .dataframe tbody tr th {\n",
              "        vertical-align: top;\n",
              "    }\n",
              "\n",
              "    .dataframe thead th {\n",
              "        text-align: right;\n",
              "    }\n",
              "</style>\n",
              "<table border=\"1\" class=\"dataframe\">\n",
              "  <thead>\n",
              "    <tr style=\"text-align: right;\">\n",
              "      <th></th>\n",
              "      <th>rating_id</th>\n",
              "      <th>book_id</th>\n",
              "      <th>username</th>\n",
              "      <th>rating</th>\n",
              "    </tr>\n",
              "  </thead>\n",
              "  <tbody>\n",
              "    <tr>\n",
              "      <th>0</th>\n",
              "      <td>1</td>\n",
              "      <td>1</td>\n",
              "      <td>ryanfranco</td>\n",
              "      <td>4</td>\n",
              "    </tr>\n",
              "    <tr>\n",
              "      <th>1</th>\n",
              "      <td>2</td>\n",
              "      <td>1</td>\n",
              "      <td>grantpatricia</td>\n",
              "      <td>2</td>\n",
              "    </tr>\n",
              "    <tr>\n",
              "      <th>2</th>\n",
              "      <td>3</td>\n",
              "      <td>1</td>\n",
              "      <td>brandtandrea</td>\n",
              "      <td>5</td>\n",
              "    </tr>\n",
              "    <tr>\n",
              "      <th>3</th>\n",
              "      <td>4</td>\n",
              "      <td>2</td>\n",
              "      <td>lorichen</td>\n",
              "      <td>3</td>\n",
              "    </tr>\n",
              "    <tr>\n",
              "      <th>4</th>\n",
              "      <td>5</td>\n",
              "      <td>2</td>\n",
              "      <td>mariokeller</td>\n",
              "      <td>2</td>\n",
              "    </tr>\n",
              "    <tr>\n",
              "      <th>...</th>\n",
              "      <td>...</td>\n",
              "      <td>...</td>\n",
              "      <td>...</td>\n",
              "      <td>...</td>\n",
              "    </tr>\n",
              "    <tr>\n",
              "      <th>6451</th>\n",
              "      <td>6452</td>\n",
              "      <td>1000</td>\n",
              "      <td>carolrodriguez</td>\n",
              "      <td>4</td>\n",
              "    </tr>\n",
              "    <tr>\n",
              "      <th>6452</th>\n",
              "      <td>6453</td>\n",
              "      <td>1000</td>\n",
              "      <td>wendy18</td>\n",
              "      <td>4</td>\n",
              "    </tr>\n",
              "    <tr>\n",
              "      <th>6453</th>\n",
              "      <td>6454</td>\n",
              "      <td>1000</td>\n",
              "      <td>jarvispaul</td>\n",
              "      <td>5</td>\n",
              "    </tr>\n",
              "    <tr>\n",
              "      <th>6454</th>\n",
              "      <td>6455</td>\n",
              "      <td>1000</td>\n",
              "      <td>zross</td>\n",
              "      <td>2</td>\n",
              "    </tr>\n",
              "    <tr>\n",
              "      <th>6455</th>\n",
              "      <td>6456</td>\n",
              "      <td>1000</td>\n",
              "      <td>fharris</td>\n",
              "      <td>5</td>\n",
              "    </tr>\n",
              "  </tbody>\n",
              "</table>\n",
              "<p>6456 rows × 4 columns</p>\n",
              "</div>"
            ],
            "text/plain": [
              "      rating_id  book_id        username  rating\n",
              "0             1        1      ryanfranco       4\n",
              "1             2        1   grantpatricia       2\n",
              "2             3        1    brandtandrea       5\n",
              "3             4        2        lorichen       3\n",
              "4             5        2     mariokeller       2\n",
              "...         ...      ...             ...     ...\n",
              "6451       6452     1000  carolrodriguez       4\n",
              "6452       6453     1000         wendy18       4\n",
              "6453       6454     1000      jarvispaul       5\n",
              "6454       6455     1000           zross       2\n",
              "6455       6456     1000         fharris       5\n",
              "\n",
              "[6456 rows x 4 columns]"
            ]
          },
          "metadata": {},
          "output_type": "display_data"
        },
        {
          "name": "stdout",
          "output_type": "stream",
          "text": [
            "–––––––––––––––––––––––––––––––––––––––––––––––––\n",
            "<class 'pandas.core.frame.DataFrame'>\n",
            "RangeIndex: 6456 entries, 0 to 6455\n",
            "Data columns (total 4 columns):\n",
            " #   Column     Non-Null Count  Dtype \n",
            "---  ------     --------------  ----- \n",
            " 0   rating_id  6456 non-null   int64 \n",
            " 1   book_id    6456 non-null   int64 \n",
            " 2   username   6456 non-null   object\n",
            " 3   rating     6456 non-null   int64 \n",
            "dtypes: int64(3), object(1)\n",
            "memory usage: 201.9+ KB\n"
          ]
        },
        {
          "data": {
            "text/plain": [
              "None"
            ]
          },
          "metadata": {},
          "output_type": "display_data"
        },
        {
          "name": "stdout",
          "output_type": "stream",
          "text": [
            "–––––––––––––––––––––––––––––––––––––––––––––––––\n"
          ]
        },
        {
          "data": {
            "text/html": [
              "<div>\n",
              "<style scoped>\n",
              "    .dataframe tbody tr th:only-of-type {\n",
              "        vertical-align: middle;\n",
              "    }\n",
              "\n",
              "    .dataframe tbody tr th {\n",
              "        vertical-align: top;\n",
              "    }\n",
              "\n",
              "    .dataframe thead th {\n",
              "        text-align: right;\n",
              "    }\n",
              "</style>\n",
              "<table border=\"1\" class=\"dataframe\">\n",
              "  <thead>\n",
              "    <tr style=\"text-align: right;\">\n",
              "      <th></th>\n",
              "      <th>rating_id</th>\n",
              "      <th>book_id</th>\n",
              "      <th>username</th>\n",
              "      <th>rating</th>\n",
              "    </tr>\n",
              "  </thead>\n",
              "  <tbody>\n",
              "    <tr>\n",
              "      <th>count</th>\n",
              "      <td>6456.000000</td>\n",
              "      <td>6456.000000</td>\n",
              "      <td>6456</td>\n",
              "      <td>6456.000000</td>\n",
              "    </tr>\n",
              "    <tr>\n",
              "      <th>unique</th>\n",
              "      <td>NaN</td>\n",
              "      <td>NaN</td>\n",
              "      <td>160</td>\n",
              "      <td>NaN</td>\n",
              "    </tr>\n",
              "    <tr>\n",
              "      <th>top</th>\n",
              "      <td>NaN</td>\n",
              "      <td>NaN</td>\n",
              "      <td>paul88</td>\n",
              "      <td>NaN</td>\n",
              "    </tr>\n",
              "    <tr>\n",
              "      <th>freq</th>\n",
              "      <td>NaN</td>\n",
              "      <td>NaN</td>\n",
              "      <td>56</td>\n",
              "      <td>NaN</td>\n",
              "    </tr>\n",
              "    <tr>\n",
              "      <th>mean</th>\n",
              "      <td>3228.500000</td>\n",
              "      <td>510.574195</td>\n",
              "      <td>NaN</td>\n",
              "      <td>3.928284</td>\n",
              "    </tr>\n",
              "    <tr>\n",
              "      <th>std</th>\n",
              "      <td>1863.831001</td>\n",
              "      <td>284.141636</td>\n",
              "      <td>NaN</td>\n",
              "      <td>0.943303</td>\n",
              "    </tr>\n",
              "    <tr>\n",
              "      <th>min</th>\n",
              "      <td>1.000000</td>\n",
              "      <td>1.000000</td>\n",
              "      <td>NaN</td>\n",
              "      <td>1.000000</td>\n",
              "    </tr>\n",
              "    <tr>\n",
              "      <th>25%</th>\n",
              "      <td>1614.750000</td>\n",
              "      <td>291.000000</td>\n",
              "      <td>NaN</td>\n",
              "      <td>3.000000</td>\n",
              "    </tr>\n",
              "    <tr>\n",
              "      <th>50%</th>\n",
              "      <td>3228.500000</td>\n",
              "      <td>506.000000</td>\n",
              "      <td>NaN</td>\n",
              "      <td>4.000000</td>\n",
              "    </tr>\n",
              "    <tr>\n",
              "      <th>75%</th>\n",
              "      <td>4842.250000</td>\n",
              "      <td>750.000000</td>\n",
              "      <td>NaN</td>\n",
              "      <td>5.000000</td>\n",
              "    </tr>\n",
              "    <tr>\n",
              "      <th>max</th>\n",
              "      <td>6456.000000</td>\n",
              "      <td>1000.000000</td>\n",
              "      <td>NaN</td>\n",
              "      <td>5.000000</td>\n",
              "    </tr>\n",
              "  </tbody>\n",
              "</table>\n",
              "</div>"
            ],
            "text/plain": [
              "          rating_id      book_id username       rating\n",
              "count   6456.000000  6456.000000     6456  6456.000000\n",
              "unique          NaN          NaN      160          NaN\n",
              "top             NaN          NaN   paul88          NaN\n",
              "freq            NaN          NaN       56          NaN\n",
              "mean    3228.500000   510.574195      NaN     3.928284\n",
              "std     1863.831001   284.141636      NaN     0.943303\n",
              "min        1.000000     1.000000      NaN     1.000000\n",
              "25%     1614.750000   291.000000      NaN     3.000000\n",
              "50%     3228.500000   506.000000      NaN     4.000000\n",
              "75%     4842.250000   750.000000      NaN     5.000000\n",
              "max     6456.000000  1000.000000      NaN     5.000000"
            ]
          },
          "metadata": {},
          "output_type": "display_data"
        }
      ],
      "source": [
        "\n",
        "# загрузка и вывод датасета ratings\n",
        "query_ratings = \"SELECT * FROM ratings\"\n",
        "load_and_print_dataset(query_ratings, 'Рейтинг')\n"
      ]
    },
    {
      "cell_type": "code",
      "execution_count": null,
      "metadata": {
        "scrolled": true,
        "id": "HgldVbFhlWaS",
        "outputId": "936a91d5-06fe-4591-b1c8-251ccbb148be"
      },
      "outputs": [
        {
          "name": "stdout",
          "output_type": "stream",
          "text": [
            "Отзывы\n"
          ]
        },
        {
          "data": {
            "text/html": [
              "<div>\n",
              "<style scoped>\n",
              "    .dataframe tbody tr th:only-of-type {\n",
              "        vertical-align: middle;\n",
              "    }\n",
              "\n",
              "    .dataframe tbody tr th {\n",
              "        vertical-align: top;\n",
              "    }\n",
              "\n",
              "    .dataframe thead th {\n",
              "        text-align: right;\n",
              "    }\n",
              "</style>\n",
              "<table border=\"1\" class=\"dataframe\">\n",
              "  <thead>\n",
              "    <tr style=\"text-align: right;\">\n",
              "      <th></th>\n",
              "      <th>review_id</th>\n",
              "      <th>book_id</th>\n",
              "      <th>username</th>\n",
              "      <th>text</th>\n",
              "    </tr>\n",
              "  </thead>\n",
              "  <tbody>\n",
              "    <tr>\n",
              "      <th>0</th>\n",
              "      <td>1</td>\n",
              "      <td>1</td>\n",
              "      <td>brandtandrea</td>\n",
              "      <td>Mention society tell send professor analysis. ...</td>\n",
              "    </tr>\n",
              "    <tr>\n",
              "      <th>1</th>\n",
              "      <td>2</td>\n",
              "      <td>1</td>\n",
              "      <td>ryanfranco</td>\n",
              "      <td>Foot glass pretty audience hit themselves. Amo...</td>\n",
              "    </tr>\n",
              "    <tr>\n",
              "      <th>2</th>\n",
              "      <td>3</td>\n",
              "      <td>2</td>\n",
              "      <td>lorichen</td>\n",
              "      <td>Listen treat keep worry. Miss husband tax but ...</td>\n",
              "    </tr>\n",
              "    <tr>\n",
              "      <th>3</th>\n",
              "      <td>4</td>\n",
              "      <td>3</td>\n",
              "      <td>johnsonamanda</td>\n",
              "      <td>Finally month interesting blue could nature cu...</td>\n",
              "    </tr>\n",
              "    <tr>\n",
              "      <th>4</th>\n",
              "      <td>5</td>\n",
              "      <td>3</td>\n",
              "      <td>scotttamara</td>\n",
              "      <td>Nation purpose heavy give wait song will. List...</td>\n",
              "    </tr>\n",
              "    <tr>\n",
              "      <th>...</th>\n",
              "      <td>...</td>\n",
              "      <td>...</td>\n",
              "      <td>...</td>\n",
              "      <td>...</td>\n",
              "    </tr>\n",
              "    <tr>\n",
              "      <th>2788</th>\n",
              "      <td>2789</td>\n",
              "      <td>999</td>\n",
              "      <td>martinadam</td>\n",
              "      <td>Later hospital turn easy community. Fact same ...</td>\n",
              "    </tr>\n",
              "    <tr>\n",
              "      <th>2789</th>\n",
              "      <td>2790</td>\n",
              "      <td>1000</td>\n",
              "      <td>wknight</td>\n",
              "      <td>Change lose answer close pressure. Spend so now.</td>\n",
              "    </tr>\n",
              "    <tr>\n",
              "      <th>2790</th>\n",
              "      <td>2791</td>\n",
              "      <td>1000</td>\n",
              "      <td>carolrodriguez</td>\n",
              "      <td>Authority go who television entire hair guy po...</td>\n",
              "    </tr>\n",
              "    <tr>\n",
              "      <th>2791</th>\n",
              "      <td>2792</td>\n",
              "      <td>1000</td>\n",
              "      <td>wendy18</td>\n",
              "      <td>Or western offer wonder ask. More hear phone f...</td>\n",
              "    </tr>\n",
              "    <tr>\n",
              "      <th>2792</th>\n",
              "      <td>2793</td>\n",
              "      <td>1000</td>\n",
              "      <td>jarvispaul</td>\n",
              "      <td>Republican staff bit eat material measure plan...</td>\n",
              "    </tr>\n",
              "  </tbody>\n",
              "</table>\n",
              "<p>2793 rows × 4 columns</p>\n",
              "</div>"
            ],
            "text/plain": [
              "      review_id  book_id        username  \\\n",
              "0             1        1    brandtandrea   \n",
              "1             2        1      ryanfranco   \n",
              "2             3        2        lorichen   \n",
              "3             4        3   johnsonamanda   \n",
              "4             5        3     scotttamara   \n",
              "...         ...      ...             ...   \n",
              "2788       2789      999      martinadam   \n",
              "2789       2790     1000         wknight   \n",
              "2790       2791     1000  carolrodriguez   \n",
              "2791       2792     1000         wendy18   \n",
              "2792       2793     1000      jarvispaul   \n",
              "\n",
              "                                                   text  \n",
              "0     Mention society tell send professor analysis. ...  \n",
              "1     Foot glass pretty audience hit themselves. Amo...  \n",
              "2     Listen treat keep worry. Miss husband tax but ...  \n",
              "3     Finally month interesting blue could nature cu...  \n",
              "4     Nation purpose heavy give wait song will. List...  \n",
              "...                                                 ...  \n",
              "2788  Later hospital turn easy community. Fact same ...  \n",
              "2789   Change lose answer close pressure. Spend so now.  \n",
              "2790  Authority go who television entire hair guy po...  \n",
              "2791  Or western offer wonder ask. More hear phone f...  \n",
              "2792  Republican staff bit eat material measure plan...  \n",
              "\n",
              "[2793 rows x 4 columns]"
            ]
          },
          "metadata": {},
          "output_type": "display_data"
        },
        {
          "name": "stdout",
          "output_type": "stream",
          "text": [
            "–––––––––––––––––––––––––––––––––––––––––––––––––\n",
            "<class 'pandas.core.frame.DataFrame'>\n",
            "RangeIndex: 2793 entries, 0 to 2792\n",
            "Data columns (total 4 columns):\n",
            " #   Column     Non-Null Count  Dtype \n",
            "---  ------     --------------  ----- \n",
            " 0   review_id  2793 non-null   int64 \n",
            " 1   book_id    2793 non-null   int64 \n",
            " 2   username   2793 non-null   object\n",
            " 3   text       2793 non-null   object\n",
            "dtypes: int64(2), object(2)\n",
            "memory usage: 87.4+ KB\n"
          ]
        },
        {
          "data": {
            "text/plain": [
              "None"
            ]
          },
          "metadata": {},
          "output_type": "display_data"
        },
        {
          "name": "stdout",
          "output_type": "stream",
          "text": [
            "–––––––––––––––––––––––––––––––––––––––––––––––––\n"
          ]
        },
        {
          "data": {
            "text/html": [
              "<div>\n",
              "<style scoped>\n",
              "    .dataframe tbody tr th:only-of-type {\n",
              "        vertical-align: middle;\n",
              "    }\n",
              "\n",
              "    .dataframe tbody tr th {\n",
              "        vertical-align: top;\n",
              "    }\n",
              "\n",
              "    .dataframe thead th {\n",
              "        text-align: right;\n",
              "    }\n",
              "</style>\n",
              "<table border=\"1\" class=\"dataframe\">\n",
              "  <thead>\n",
              "    <tr style=\"text-align: right;\">\n",
              "      <th></th>\n",
              "      <th>review_id</th>\n",
              "      <th>book_id</th>\n",
              "      <th>username</th>\n",
              "      <th>text</th>\n",
              "    </tr>\n",
              "  </thead>\n",
              "  <tbody>\n",
              "    <tr>\n",
              "      <th>count</th>\n",
              "      <td>2793.000000</td>\n",
              "      <td>2793.000000</td>\n",
              "      <td>2793</td>\n",
              "      <td>2793</td>\n",
              "    </tr>\n",
              "    <tr>\n",
              "      <th>unique</th>\n",
              "      <td>NaN</td>\n",
              "      <td>NaN</td>\n",
              "      <td>160</td>\n",
              "      <td>2793</td>\n",
              "    </tr>\n",
              "    <tr>\n",
              "      <th>top</th>\n",
              "      <td>NaN</td>\n",
              "      <td>NaN</td>\n",
              "      <td>susan85</td>\n",
              "      <td>Foot alone blood anyone building. Also confere...</td>\n",
              "    </tr>\n",
              "    <tr>\n",
              "      <th>freq</th>\n",
              "      <td>NaN</td>\n",
              "      <td>NaN</td>\n",
              "      <td>29</td>\n",
              "      <td>1</td>\n",
              "    </tr>\n",
              "    <tr>\n",
              "      <th>mean</th>\n",
              "      <td>1397.000000</td>\n",
              "      <td>504.693161</td>\n",
              "      <td>NaN</td>\n",
              "      <td>NaN</td>\n",
              "    </tr>\n",
              "    <tr>\n",
              "      <th>std</th>\n",
              "      <td>806.413976</td>\n",
              "      <td>288.472931</td>\n",
              "      <td>NaN</td>\n",
              "      <td>NaN</td>\n",
              "    </tr>\n",
              "    <tr>\n",
              "      <th>min</th>\n",
              "      <td>1.000000</td>\n",
              "      <td>1.000000</td>\n",
              "      <td>NaN</td>\n",
              "      <td>NaN</td>\n",
              "    </tr>\n",
              "    <tr>\n",
              "      <th>25%</th>\n",
              "      <td>699.000000</td>\n",
              "      <td>259.000000</td>\n",
              "      <td>NaN</td>\n",
              "      <td>NaN</td>\n",
              "    </tr>\n",
              "    <tr>\n",
              "      <th>50%</th>\n",
              "      <td>1397.000000</td>\n",
              "      <td>505.000000</td>\n",
              "      <td>NaN</td>\n",
              "      <td>NaN</td>\n",
              "    </tr>\n",
              "    <tr>\n",
              "      <th>75%</th>\n",
              "      <td>2095.000000</td>\n",
              "      <td>753.000000</td>\n",
              "      <td>NaN</td>\n",
              "      <td>NaN</td>\n",
              "    </tr>\n",
              "    <tr>\n",
              "      <th>max</th>\n",
              "      <td>2793.000000</td>\n",
              "      <td>1000.000000</td>\n",
              "      <td>NaN</td>\n",
              "      <td>NaN</td>\n",
              "    </tr>\n",
              "  </tbody>\n",
              "</table>\n",
              "</div>"
            ],
            "text/plain": [
              "          review_id      book_id username  \\\n",
              "count   2793.000000  2793.000000     2793   \n",
              "unique          NaN          NaN      160   \n",
              "top             NaN          NaN  susan85   \n",
              "freq            NaN          NaN       29   \n",
              "mean    1397.000000   504.693161      NaN   \n",
              "std      806.413976   288.472931      NaN   \n",
              "min        1.000000     1.000000      NaN   \n",
              "25%      699.000000   259.000000      NaN   \n",
              "50%     1397.000000   505.000000      NaN   \n",
              "75%     2095.000000   753.000000      NaN   \n",
              "max     2793.000000  1000.000000      NaN   \n",
              "\n",
              "                                                     text  \n",
              "count                                                2793  \n",
              "unique                                               2793  \n",
              "top     Foot alone blood anyone building. Also confere...  \n",
              "freq                                                    1  \n",
              "mean                                                  NaN  \n",
              "std                                                   NaN  \n",
              "min                                                   NaN  \n",
              "25%                                                   NaN  \n",
              "50%                                                   NaN  \n",
              "75%                                                   NaN  \n",
              "max                                                   NaN  "
            ]
          },
          "metadata": {},
          "output_type": "display_data"
        }
      ],
      "source": [
        "\n",
        "# загрузка и вывод датасета reviews\n",
        "query_reviews = \"SELECT * FROM reviews\"\n",
        "load_and_print_dataset(query_reviews, 'Отзывы')"
      ]
    },
    {
      "cell_type": "markdown",
      "metadata": {
        "id": "0yCh98SplWaS"
      },
      "source": [
        "**Вывод:**\n",
        "\n",
        "- В данных отсутствуют пропуски\n",
        "- Всего было выпущено 1000 книг на 636 авторов с средним кол-вом страниц 230 - это достаточно маленькая база\n",
        "- Всего 340 издательств\n",
        "- Медиана рейтинга 3.9, в базе довольно хорошие книги (но это не точно)\n",
        "- Пользователи оставили почти 2800 отзывов, для выбора книг это будет очень полезно"
      ]
    },
    {
      "cell_type": "markdown",
      "metadata": {
        "id": "0gE90cQ7lWaS"
      },
      "source": [
        "<div class=\"alert alert-block alert-success\">✔️\n",
        "    \n",
        "\n",
        "__Комментарий от тимлида №1__\n",
        "\n",
        "Отлично первый взгляд на данные есть. Ты корректно выгрузил данные и посмотрел их содержимое\n",
        "</div>"
      ]
    },
    {
      "cell_type": "markdown",
      "metadata": {
        "id": "Uj6JYBi1lWaT"
      },
      "source": [
        "### Количество книг, которые вышли после 1 января 2000 года"
      ]
    },
    {
      "cell_type": "code",
      "execution_count": null,
      "metadata": {
        "id": "LBjLgrWGlWaT"
      },
      "outputs": [],
      "source": [
        "\n",
        "def load_and_print_dataset(query):   \n",
        "    df = get_dataset(query, connection_string)\n",
        "    display(df)\n",
        "\n"
      ]
    },
    {
      "cell_type": "code",
      "execution_count": null,
      "metadata": {
        "scrolled": true,
        "id": "lJeiiFXnlWaT",
        "outputId": "b3c73347-047c-4c05-e84f-b644b18417ff"
      },
      "outputs": [
        {
          "data": {
            "text/html": [
              "<div>\n",
              "<style scoped>\n",
              "    .dataframe tbody tr th:only-of-type {\n",
              "        vertical-align: middle;\n",
              "    }\n",
              "\n",
              "    .dataframe tbody tr th {\n",
              "        vertical-align: top;\n",
              "    }\n",
              "\n",
              "    .dataframe thead th {\n",
              "        text-align: right;\n",
              "    }\n",
              "</style>\n",
              "<table border=\"1\" class=\"dataframe\">\n",
              "  <thead>\n",
              "    <tr style=\"text-align: right;\">\n",
              "      <th></th>\n",
              "      <th>count</th>\n",
              "    </tr>\n",
              "  </thead>\n",
              "  <tbody>\n",
              "    <tr>\n",
              "      <th>0</th>\n",
              "      <td>819</td>\n",
              "    </tr>\n",
              "  </tbody>\n",
              "</table>\n",
              "</div>"
            ],
            "text/plain": [
              "   count\n",
              "0    819"
            ]
          },
          "metadata": {},
          "output_type": "display_data"
        }
      ],
      "source": [
        "# загрузка и вывод датасета books\n",
        "ss = '''\n",
        "           SELECT COUNT(book_id) \n",
        "           FROM books\n",
        "           WHERE publication_date > '2000-01-01'; \n",
        "        '''\n",
        "\n",
        "load_and_print_dataset(ss)"
      ]
    },
    {
      "cell_type": "markdown",
      "metadata": {
        "id": "k3u1oX8zlWaT"
      },
      "source": [
        "**Вывод:**\n",
        "\n",
        "- Было выпушено 819 книг, что на 181 меньше от общего кол-ва"
      ]
    },
    {
      "cell_type": "markdown",
      "metadata": {
        "id": "W-7jEpwSlWaT"
      },
      "source": [
        "<div class=\"alert alert-block alert-success\">✔️\n",
        "    \n",
        "\n",
        "__Комментарий от тимлида №1__\n",
        "\n",
        "Расчёт верный\n",
        "</div>"
      ]
    },
    {
      "cell_type": "markdown",
      "metadata": {
        "id": "_qhev7KmlWaT"
      },
      "source": []
    },
    {
      "cell_type": "markdown",
      "metadata": {
        "id": "2lqo7f8elWaT"
      },
      "source": [
        "### Количество обзоров и средняя оценка для каждой книги"
      ]
    },
    {
      "cell_type": "code",
      "execution_count": null,
      "metadata": {
        "id": "-z-IZWyolWaT",
        "outputId": "825611d8-e6b4-4924-8ff4-b92bce1fd601"
      },
      "outputs": [
        {
          "data": {
            "text/html": [
              "<div>\n",
              "<style scoped>\n",
              "    .dataframe tbody tr th:only-of-type {\n",
              "        vertical-align: middle;\n",
              "    }\n",
              "\n",
              "    .dataframe tbody tr th {\n",
              "        vertical-align: top;\n",
              "    }\n",
              "\n",
              "    .dataframe thead th {\n",
              "        text-align: right;\n",
              "    }\n",
              "</style>\n",
              "<table border=\"1\" class=\"dataframe\">\n",
              "  <thead>\n",
              "    <tr style=\"text-align: right;\">\n",
              "      <th></th>\n",
              "      <th>book_id</th>\n",
              "      <th>title</th>\n",
              "      <th>count_review</th>\n",
              "      <th>avg_ratings</th>\n",
              "    </tr>\n",
              "  </thead>\n",
              "  <tbody>\n",
              "    <tr>\n",
              "      <th>0</th>\n",
              "      <td>948</td>\n",
              "      <td>Twilight (Twilight  #1)</td>\n",
              "      <td>7</td>\n",
              "      <td>3.66</td>\n",
              "    </tr>\n",
              "    <tr>\n",
              "      <th>1</th>\n",
              "      <td>302</td>\n",
              "      <td>Harry Potter and the Prisoner of Azkaban (Harr...</td>\n",
              "      <td>6</td>\n",
              "      <td>4.41</td>\n",
              "    </tr>\n",
              "    <tr>\n",
              "      <th>2</th>\n",
              "      <td>299</td>\n",
              "      <td>Harry Potter and the Chamber of Secrets (Harry...</td>\n",
              "      <td>6</td>\n",
              "      <td>4.29</td>\n",
              "    </tr>\n",
              "    <tr>\n",
              "      <th>3</th>\n",
              "      <td>656</td>\n",
              "      <td>The Book Thief</td>\n",
              "      <td>6</td>\n",
              "      <td>4.26</td>\n",
              "    </tr>\n",
              "    <tr>\n",
              "      <th>4</th>\n",
              "      <td>734</td>\n",
              "      <td>The Glass Castle</td>\n",
              "      <td>6</td>\n",
              "      <td>4.21</td>\n",
              "    </tr>\n",
              "    <tr>\n",
              "      <th>...</th>\n",
              "      <td>...</td>\n",
              "      <td>...</td>\n",
              "      <td>...</td>\n",
              "      <td>...</td>\n",
              "    </tr>\n",
              "    <tr>\n",
              "      <th>995</th>\n",
              "      <td>191</td>\n",
              "      <td>Disney's Beauty and the Beast (A Little Golden...</td>\n",
              "      <td>0</td>\n",
              "      <td>4.00</td>\n",
              "    </tr>\n",
              "    <tr>\n",
              "      <th>996</th>\n",
              "      <td>387</td>\n",
              "      <td>Leonardo's Notebooks</td>\n",
              "      <td>0</td>\n",
              "      <td>4.00</td>\n",
              "    </tr>\n",
              "    <tr>\n",
              "      <th>997</th>\n",
              "      <td>221</td>\n",
              "      <td>Essential Tales and Poems</td>\n",
              "      <td>0</td>\n",
              "      <td>4.00</td>\n",
              "    </tr>\n",
              "    <tr>\n",
              "      <th>998</th>\n",
              "      <td>83</td>\n",
              "      <td>Anne Rice's The Vampire Lestat: A Graphic Novel</td>\n",
              "      <td>0</td>\n",
              "      <td>3.67</td>\n",
              "    </tr>\n",
              "    <tr>\n",
              "      <th>999</th>\n",
              "      <td>808</td>\n",
              "      <td>The Natural Way to Draw</td>\n",
              "      <td>0</td>\n",
              "      <td>3.00</td>\n",
              "    </tr>\n",
              "  </tbody>\n",
              "</table>\n",
              "<p>1000 rows × 4 columns</p>\n",
              "</div>"
            ],
            "text/plain": [
              "     book_id                                              title  count_review  \\\n",
              "0        948                            Twilight (Twilight  #1)             7   \n",
              "1        302  Harry Potter and the Prisoner of Azkaban (Harr...             6   \n",
              "2        299  Harry Potter and the Chamber of Secrets (Harry...             6   \n",
              "3        656                                     The Book Thief             6   \n",
              "4        734                                   The Glass Castle             6   \n",
              "..       ...                                                ...           ...   \n",
              "995      191  Disney's Beauty and the Beast (A Little Golden...             0   \n",
              "996      387                               Leonardo's Notebooks             0   \n",
              "997      221                          Essential Tales and Poems             0   \n",
              "998       83    Anne Rice's The Vampire Lestat: A Graphic Novel             0   \n",
              "999      808                            The Natural Way to Draw             0   \n",
              "\n",
              "     avg_ratings  \n",
              "0           3.66  \n",
              "1           4.41  \n",
              "2           4.29  \n",
              "3           4.26  \n",
              "4           4.21  \n",
              "..           ...  \n",
              "995         4.00  \n",
              "996         4.00  \n",
              "997         4.00  \n",
              "998         3.67  \n",
              "999         3.00  \n",
              "\n",
              "[1000 rows x 4 columns]"
            ]
          },
          "metadata": {},
          "output_type": "display_data"
        }
      ],
      "source": [
        "dd = '''\n",
        "    SELECT books.book_id,\n",
        "            books.title, \n",
        "            COUNT(DISTINCT reviews.review_id) AS count_review,  \n",
        "            ROUND(AVG(ratings.rating),2) AS avg_ratings         \n",
        "    FROM books\n",
        "    LEFT JOIN ratings ON ratings.book_id = books.book_id \n",
        "    LEFT JOIN reviews ON reviews.book_id = books.book_id \n",
        "    GROUP BY books.book_id\n",
        "    ORDER BY count_review DESC,avg_ratings DESC;\n",
        "'''   \n",
        "load_and_print_dataset(dd)"
      ]
    },
    {
      "cell_type": "markdown",
      "metadata": {
        "id": "fFp0mBchlWaT"
      },
      "source": [
        "**Вывод:**\n",
        "\n",
        "- Сумерки и гарри поттер имеет больше всего отзывов и рейтинг"
      ]
    },
    {
      "cell_type": "markdown",
      "metadata": {
        "id": "YOqY6kbulWaT"
      },
      "source": [
        "<div class=\"alert alert-block alert-success\">✔️\n",
        "    \n",
        "\n",
        "__Комментарий от тимлида №1__\n",
        "\n",
        "Грамотный шаг, что добавил колонку с названием книг\n",
        "</div>"
      ]
    },
    {
      "cell_type": "markdown",
      "metadata": {
        "id": "JOemYN4KlWaT"
      },
      "source": [
        "### Издательство, которое выпустило наибольшее число книг толще 50 страниц (исключение из анализа брошюр)"
      ]
    },
    {
      "cell_type": "code",
      "execution_count": null,
      "metadata": {
        "id": "P3qHfGwllWaT",
        "outputId": "cd9717ef-5756-46dd-b83e-077920127867"
      },
      "outputs": [
        {
          "data": {
            "text/html": [
              "<div>\n",
              "<style scoped>\n",
              "    .dataframe tbody tr th:only-of-type {\n",
              "        vertical-align: middle;\n",
              "    }\n",
              "\n",
              "    .dataframe tbody tr th {\n",
              "        vertical-align: top;\n",
              "    }\n",
              "\n",
              "    .dataframe thead th {\n",
              "        text-align: right;\n",
              "    }\n",
              "</style>\n",
              "<table border=\"1\" class=\"dataframe\">\n",
              "  <thead>\n",
              "    <tr style=\"text-align: right;\">\n",
              "      <th></th>\n",
              "      <th>publisher</th>\n",
              "      <th>books_published</th>\n",
              "    </tr>\n",
              "  </thead>\n",
              "  <tbody>\n",
              "    <tr>\n",
              "      <th>0</th>\n",
              "      <td>Penguin Books</td>\n",
              "      <td>42</td>\n",
              "    </tr>\n",
              "  </tbody>\n",
              "</table>\n",
              "</div>"
            ],
            "text/plain": [
              "       publisher  books_published\n",
              "0  Penguin Books               42"
            ]
          },
          "metadata": {},
          "output_type": "display_data"
        }
      ],
      "source": [
        "aa = '''\n",
        "      SELECT p.publisher, \n",
        "          COUNT(b.book_id) AS books_published\n",
        "      FROM publishers AS p\n",
        "      INNER JOIN books AS b ON p.publisher_id = b.publisher_id\n",
        "      WHERE b.num_pages > 50\n",
        "      GROUP BY p.publisher_id\n",
        "      ORDER BY books_published DESC\n",
        "      LIMIT 1;\n",
        "        '''\n",
        "load_and_print_dataset(aa)"
      ]
    },
    {
      "cell_type": "markdown",
      "metadata": {
        "id": "-WblCmBslWaT"
      },
      "source": [
        "**Вывод:**\n",
        "\n",
        "- Penguin Books\tвыпустило больше всего книг"
      ]
    },
    {
      "cell_type": "markdown",
      "metadata": {
        "id": "YiQ0DgiGlWaT"
      },
      "source": [
        "<div class=\"alert alert-block alert-success\">✔️\n",
        "    \n",
        "\n",
        "__Комментарий от тимлида №1__\n",
        "\n",
        "Согласен с результатом. Действительно данное издательство является лидером по выпущенным книгам\n",
        "</div>"
      ]
    },
    {
      "cell_type": "markdown",
      "metadata": {
        "id": "uW6iqvNClWaT"
      },
      "source": []
    },
    {
      "cell_type": "markdown",
      "metadata": {
        "id": "jodnTdMmlWaT"
      },
      "source": [
        "### Автор с самой высокой средней оценкой книг (только книги с 50 и более оценками)"
      ]
    },
    {
      "cell_type": "code",
      "execution_count": null,
      "metadata": {
        "id": "Ke-jt4GRlWaT",
        "outputId": "454672f7-39b4-4c17-c405-218b0679faf2"
      },
      "outputs": [
        {
          "data": {
            "text/html": [
              "<div>\n",
              "<style scoped>\n",
              "    .dataframe tbody tr th:only-of-type {\n",
              "        vertical-align: middle;\n",
              "    }\n",
              "\n",
              "    .dataframe tbody tr th {\n",
              "        vertical-align: top;\n",
              "    }\n",
              "\n",
              "    .dataframe thead th {\n",
              "        text-align: right;\n",
              "    }\n",
              "</style>\n",
              "<table border=\"1\" class=\"dataframe\">\n",
              "  <thead>\n",
              "    <tr style=\"text-align: right;\">\n",
              "      <th></th>\n",
              "      <th>author</th>\n",
              "      <th>avg_books_rating</th>\n",
              "    </tr>\n",
              "  </thead>\n",
              "  <tbody>\n",
              "    <tr>\n",
              "      <th>0</th>\n",
              "      <td>J.K. Rowling/Mary GrandPré</td>\n",
              "      <td>4.29</td>\n",
              "    </tr>\n",
              "  </tbody>\n",
              "</table>\n",
              "</div>"
            ],
            "text/plain": [
              "                       author  avg_books_rating\n",
              "0  J.K. Rowling/Mary GrandPré              4.29"
            ]
          },
          "metadata": {},
          "output_type": "display_data"
        }
      ],
      "source": [
        "query = '''\n",
        "        SELECT a.author, \n",
        "                ROUND(AVG(r.rating), 2) AS avg_books_rating\n",
        "        FROM books AS b\n",
        "        INNER JOIN authors AS a ON b.author_id = a.author_id\n",
        "        LEFT OUTER JOIN ratings AS r ON b.book_id = r.book_id\n",
        "        GROUP BY a.author\n",
        "        HAVING COUNT(r.rating) > 50\n",
        "        ORDER BY AVG(r.rating) DESC\n",
        "        LIMIT 1;\n",
        "        '''\n",
        "load_and_print_dataset(query)"
      ]
    },
    {
      "cell_type": "markdown",
      "metadata": {
        "id": "24bn17nalWaT"
      },
      "source": [
        "**Вывод:**\n",
        "\n",
        "- J.K. Rowling/Mary GrandPré имеет средний рейтинг 4.3 - нужно скупить все книги изданные и черновики данного автора"
      ]
    },
    {
      "cell_type": "markdown",
      "metadata": {
        "id": "hzirhtHhlWaT"
      },
      "source": [
        "<div class=\"alert alert-block alert-success\">✔️\n",
        "    \n",
        "\n",
        "__Комментарий от тимлида №1__\n",
        "    \n",
        "После стольких лет? Всегда...\n",
        "\n",
        "![image.png](attachment:image.png)"
      ]
    },
    {
      "cell_type": "markdown",
      "metadata": {
        "id": "5EjgUVnQlWaT"
      },
      "source": []
    },
    {
      "cell_type": "markdown",
      "metadata": {
        "id": "0nvn72vAlWaT"
      },
      "source": [
        "### Среднее количество обзоров от пользователей, которые поставили больше 50 оценок"
      ]
    },
    {
      "cell_type": "code",
      "execution_count": null,
      "metadata": {
        "id": "QSGv9izclWaT",
        "outputId": "484ea810-ff03-477b-ebc2-e2f997482c31"
      },
      "outputs": [
        {
          "data": {
            "text/html": [
              "<div>\n",
              "<style scoped>\n",
              "    .dataframe tbody tr th:only-of-type {\n",
              "        vertical-align: middle;\n",
              "    }\n",
              "\n",
              "    .dataframe tbody tr th {\n",
              "        vertical-align: top;\n",
              "    }\n",
              "\n",
              "    .dataframe thead th {\n",
              "        text-align: right;\n",
              "    }\n",
              "</style>\n",
              "<table border=\"1\" class=\"dataframe\">\n",
              "  <thead>\n",
              "    <tr style=\"text-align: right;\">\n",
              "      <th></th>\n",
              "      <th>avg_review_count</th>\n",
              "    </tr>\n",
              "  </thead>\n",
              "  <tbody>\n",
              "    <tr>\n",
              "      <th>0</th>\n",
              "      <td>24.0</td>\n",
              "    </tr>\n",
              "  </tbody>\n",
              "</table>\n",
              "</div>"
            ],
            "text/plain": [
              "   avg_review_count\n",
              "0              24.0"
            ]
          },
          "metadata": {},
          "output_type": "display_data"
        }
      ],
      "source": [
        "vv = '''\n",
        "        SELECT ROUND(AVG(review_count)) AS avg_review_count\n",
        "        FROM (SELECT username,\n",
        "              COUNT(review_id) AS review_count\n",
        "              FROM reviews\n",
        "              WHERE username in (SELECT username\n",
        "                                 FROM ratings\n",
        "                                 GROUP BY username\n",
        "                                 HAVING COUNT(rating_id) > 50)\n",
        "              GROUP BY username) AS rc;\n",
        "        '''\n",
        "\n",
        "load_and_print_dataset(vv)"
      ]
    },
    {
      "cell_type": "markdown",
      "metadata": {
        "id": "NU2jVJXllWaU"
      },
      "source": [
        "**Вывод:**\n",
        "\n",
        "- Среднее кол-во обзоров от пользователей - 24"
      ]
    },
    {
      "cell_type": "markdown",
      "metadata": {
        "id": "SMe3BVZglWaU"
      },
      "source": [
        "<div class=\"alert alert-block alert-success\">✔️\n",
        "    \n",
        "\n",
        "__Комментарий от тимлида №1__\n",
        "\n",
        "Ты корректно отобрал пользователей и рассчитал их показатели."
      ]
    },
    {
      "cell_type": "markdown",
      "metadata": {
        "id": "IZLlSdrklWaU"
      },
      "source": []
    },
    {
      "cell_type": "markdown",
      "metadata": {
        "id": "hiTJQ_xclWaU"
      },
      "source": [
        "### Вывод"
      ]
    },
    {
      "cell_type": "markdown",
      "metadata": {
        "id": "pBl022b9lWaU"
      },
      "source": [
        "**Вывод:**\n",
        "\n",
        "- Пользователи прояляют хорошую активность\n",
        "- Необходимо увеличить кол-во книг в базе, обязательно стоит добавить больше книг авторов с хорошим рейтингом\n",
        "- Penguin Books выпустило больше всего книг\n",
        "- Среднее кол-во обзоров от пользователей - 24\n",
        "- J.K. Rowling/Mary GrandPré имеет средний рейтинг 4.3 - нужно скупить все книги изданные и черновики данного автора\n",
        "- "
      ]
    },
    {
      "cell_type": "markdown",
      "metadata": {
        "id": "_ArJu_16lWaU"
      },
      "source": [
        "<div class=\"alert alert-block alert-success\">✔️\n",
        "    \n",
        "\n",
        "__Комментарий от тимлида №1__\n",
        "\n",
        "Получилась хорошая работа, развернутый итоговый вывод придает ей вид законченного проекта. Поздравляю с окончанием курса! У тебя получилось справиться со всеми задачами. \n",
        "</div>"
      ]
    },
    {
      "cell_type": "code",
      "execution_count": null,
      "metadata": {
        "id": "J0ECPirMlWaU"
      },
      "outputs": [],
      "source": []
    }
  ],
  "metadata": {
    "ExecuteTimeLog": [
      {
        "duration": 523,
        "start_time": "2023-04-21T16:30:53.264Z"
      },
      {
        "duration": 48,
        "start_time": "2023-04-21T16:30:54.075Z"
      },
      {
        "duration": 6386,
        "start_time": "2023-04-21T16:31:28.309Z"
      },
      {
        "duration": 12,
        "start_time": "2023-04-21T16:31:34.742Z"
      },
      {
        "duration": 311,
        "start_time": "2023-04-21T16:31:42.370Z"
      },
      {
        "duration": 4,
        "start_time": "2023-04-21T16:32:25.152Z"
      },
      {
        "duration": 4,
        "start_time": "2023-04-21T16:32:52.018Z"
      },
      {
        "duration": 3,
        "start_time": "2023-04-21T16:41:57.715Z"
      },
      {
        "duration": 75,
        "start_time": "2023-04-21T16:41:58.617Z"
      },
      {
        "duration": 9,
        "start_time": "2023-04-21T16:42:29.967Z"
      },
      {
        "duration": 3,
        "start_time": "2023-04-21T16:42:31.190Z"
      },
      {
        "duration": 18,
        "start_time": "2023-04-21T16:42:32.040Z"
      },
      {
        "duration": 3,
        "start_time": "2023-04-21T16:42:42.014Z"
      },
      {
        "duration": 7,
        "start_time": "2023-04-21T16:42:42.831Z"
      },
      {
        "duration": 3,
        "start_time": "2023-04-21T16:42:44.191Z"
      },
      {
        "duration": 9,
        "start_time": "2023-04-21T16:42:45.079Z"
      },
      {
        "duration": 9,
        "start_time": "2023-04-21T16:42:47.649Z"
      },
      {
        "duration": 6,
        "start_time": "2023-04-21T16:43:35.443Z"
      },
      {
        "duration": 520,
        "start_time": "2023-04-21T16:43:43.965Z"
      },
      {
        "duration": 5133,
        "start_time": "2023-04-21T16:43:44.487Z"
      },
      {
        "duration": 4,
        "start_time": "2023-04-21T16:43:49.621Z"
      },
      {
        "duration": 106,
        "start_time": "2023-04-21T16:43:49.627Z"
      },
      {
        "duration": 3,
        "start_time": "2023-04-21T16:44:53.811Z"
      },
      {
        "duration": 8,
        "start_time": "2023-04-21T16:44:55.992Z"
      },
      {
        "duration": 4,
        "start_time": "2023-04-21T16:45:41.959Z"
      },
      {
        "duration": 9,
        "start_time": "2023-04-21T16:45:42.778Z"
      },
      {
        "duration": 3,
        "start_time": "2023-04-21T16:45:52.985Z"
      },
      {
        "duration": 9,
        "start_time": "2023-04-21T16:45:53.841Z"
      },
      {
        "duration": 3,
        "start_time": "2023-04-21T16:46:08.206Z"
      },
      {
        "duration": 2,
        "start_time": "2023-04-21T16:48:20.413Z"
      },
      {
        "duration": 18,
        "start_time": "2023-04-21T16:48:21.532Z"
      },
      {
        "duration": 44,
        "start_time": "2023-04-21T16:48:33.014Z"
      },
      {
        "duration": 3,
        "start_time": "2023-04-21T16:48:40.886Z"
      },
      {
        "duration": 3,
        "start_time": "2023-04-21T16:48:41.809Z"
      },
      {
        "duration": 1304,
        "start_time": "2023-04-21T16:48:42.685Z"
      },
      {
        "duration": 1232,
        "start_time": "2023-04-21T16:48:57.221Z"
      },
      {
        "duration": 1350,
        "start_time": "2023-04-21T16:49:29.975Z"
      },
      {
        "duration": 285,
        "start_time": "2023-04-21T16:50:36.217Z"
      },
      {
        "duration": 1290,
        "start_time": "2023-04-21T16:50:49.135Z"
      },
      {
        "duration": 4,
        "start_time": "2023-04-21T16:52:32.844Z"
      },
      {
        "duration": 5,
        "start_time": "2023-04-21T16:52:51.042Z"
      },
      {
        "duration": 7,
        "start_time": "2023-04-21T16:52:53.087Z"
      },
      {
        "duration": 4,
        "start_time": "2023-04-21T16:53:32.825Z"
      },
      {
        "duration": 254,
        "start_time": "2023-04-21T16:53:45.375Z"
      },
      {
        "duration": 274,
        "start_time": "2023-04-21T16:54:06.271Z"
      },
      {
        "duration": 303,
        "start_time": "2023-04-21T16:54:19.530Z"
      },
      {
        "duration": 283,
        "start_time": "2023-04-21T16:54:28.133Z"
      },
      {
        "duration": 249,
        "start_time": "2023-04-21T16:54:37.587Z"
      },
      {
        "duration": 257,
        "start_time": "2023-04-21T16:54:45.001Z"
      },
      {
        "duration": 3,
        "start_time": "2023-04-21T16:55:02.832Z"
      },
      {
        "duration": 6,
        "start_time": "2023-04-21T16:55:03.841Z"
      },
      {
        "duration": 4,
        "start_time": "2023-04-21T16:55:06.035Z"
      },
      {
        "duration": 7,
        "start_time": "2023-04-21T16:55:06.995Z"
      },
      {
        "duration": 6,
        "start_time": "2023-04-21T16:55:16.709Z"
      },
      {
        "duration": 4,
        "start_time": "2023-04-21T16:55:22.826Z"
      },
      {
        "duration": 7,
        "start_time": "2023-04-21T16:55:24.539Z"
      },
      {
        "duration": 493,
        "start_time": "2023-04-21T16:55:28.436Z"
      },
      {
        "duration": 3,
        "start_time": "2023-04-21T16:55:28.931Z"
      },
      {
        "duration": 9,
        "start_time": "2023-04-21T16:55:28.935Z"
      },
      {
        "duration": 5908,
        "start_time": "2023-04-21T16:55:28.946Z"
      },
      {
        "duration": 298,
        "start_time": "2023-04-21T16:55:34.856Z"
      },
      {
        "duration": 279,
        "start_time": "2023-04-21T16:55:35.155Z"
      },
      {
        "duration": 315,
        "start_time": "2023-04-21T16:55:35.436Z"
      },
      {
        "duration": 63,
        "start_time": "2023-04-21T16:55:35.752Z"
      },
      {
        "duration": 305,
        "start_time": "2023-04-21T16:55:59.384Z"
      },
      {
        "duration": 267,
        "start_time": "2023-04-21T16:56:02.591Z"
      },
      {
        "duration": 7,
        "start_time": "2023-04-21T17:03:33.431Z"
      },
      {
        "duration": 9,
        "start_time": "2023-04-21T17:04:30.618Z"
      },
      {
        "duration": 7,
        "start_time": "2023-04-21T17:04:35.597Z"
      },
      {
        "duration": 8,
        "start_time": "2023-04-21T17:05:25.195Z"
      },
      {
        "duration": 3,
        "start_time": "2023-04-21T17:06:08.413Z"
      },
      {
        "duration": 3,
        "start_time": "2023-04-21T17:06:09.215Z"
      },
      {
        "duration": 6,
        "start_time": "2023-04-21T17:06:10.064Z"
      },
      {
        "duration": 340,
        "start_time": "2023-04-21T17:06:11.717Z"
      },
      {
        "duration": 518,
        "start_time": "2023-04-21T17:06:16.620Z"
      },
      {
        "duration": 3,
        "start_time": "2023-04-21T17:06:17.141Z"
      },
      {
        "duration": 5016,
        "start_time": "2023-04-21T17:06:17.146Z"
      },
      {
        "duration": 66,
        "start_time": "2023-04-21T17:06:22.164Z"
      },
      {
        "duration": 0,
        "start_time": "2023-04-21T17:06:22.232Z"
      },
      {
        "duration": 0,
        "start_time": "2023-04-21T17:06:22.233Z"
      },
      {
        "duration": 0,
        "start_time": "2023-04-21T17:06:22.235Z"
      },
      {
        "duration": 0,
        "start_time": "2023-04-21T17:06:22.236Z"
      },
      {
        "duration": 0,
        "start_time": "2023-04-21T17:06:22.237Z"
      },
      {
        "duration": 3,
        "start_time": "2023-04-21T17:06:41.132Z"
      },
      {
        "duration": 4,
        "start_time": "2023-04-21T17:06:41.928Z"
      },
      {
        "duration": 3,
        "start_time": "2023-04-21T17:06:42.977Z"
      },
      {
        "duration": 3,
        "start_time": "2023-04-21T17:06:43.801Z"
      },
      {
        "duration": 329,
        "start_time": "2023-04-21T17:06:45.051Z"
      },
      {
        "duration": 510,
        "start_time": "2023-04-21T17:06:50.327Z"
      },
      {
        "duration": 6040,
        "start_time": "2023-04-21T17:06:50.839Z"
      },
      {
        "duration": 2,
        "start_time": "2023-04-21T17:06:56.881Z"
      },
      {
        "duration": 13,
        "start_time": "2023-04-21T17:06:56.884Z"
      },
      {
        "duration": 269,
        "start_time": "2023-04-21T17:06:56.899Z"
      },
      {
        "duration": 290,
        "start_time": "2023-04-21T17:06:57.170Z"
      },
      {
        "duration": 267,
        "start_time": "2023-04-21T17:06:57.461Z"
      },
      {
        "duration": 289,
        "start_time": "2023-04-21T17:06:57.729Z"
      },
      {
        "duration": 309,
        "start_time": "2023-04-21T17:06:58.020Z"
      },
      {
        "duration": 71,
        "start_time": "2023-04-21T17:06:58.331Z"
      },
      {
        "duration": 3,
        "start_time": "2023-04-21T17:09:31.593Z"
      },
      {
        "duration": 9,
        "start_time": "2023-04-21T17:09:33.679Z"
      },
      {
        "duration": 525,
        "start_time": "2023-04-21T17:09:55.130Z"
      },
      {
        "duration": 5457,
        "start_time": "2023-04-21T17:09:55.656Z"
      },
      {
        "duration": 3,
        "start_time": "2023-04-21T17:10:01.115Z"
      },
      {
        "duration": 27,
        "start_time": "2023-04-21T17:10:01.120Z"
      },
      {
        "duration": 312,
        "start_time": "2023-04-21T17:10:01.149Z"
      },
      {
        "duration": 287,
        "start_time": "2023-04-21T17:10:01.463Z"
      },
      {
        "duration": 290,
        "start_time": "2023-04-21T17:10:01.751Z"
      },
      {
        "duration": 274,
        "start_time": "2023-04-21T17:10:02.042Z"
      },
      {
        "duration": 263,
        "start_time": "2023-04-21T17:10:02.318Z"
      },
      {
        "duration": 3,
        "start_time": "2023-04-21T17:10:02.583Z"
      },
      {
        "duration": 143,
        "start_time": "2023-04-21T17:10:02.587Z"
      },
      {
        "duration": 53,
        "start_time": "2023-04-21T17:10:45.411Z"
      },
      {
        "duration": 7,
        "start_time": "2023-04-21T17:10:53.787Z"
      },
      {
        "duration": 11,
        "start_time": "2023-04-21T17:11:11.144Z"
      },
      {
        "duration": 10,
        "start_time": "2023-04-21T17:11:24.541Z"
      },
      {
        "duration": 286,
        "start_time": "2023-04-21T17:11:41.565Z"
      },
      {
        "duration": 6,
        "start_time": "2023-04-21T17:11:44.953Z"
      },
      {
        "duration": 285,
        "start_time": "2023-04-21T17:11:45.716Z"
      },
      {
        "duration": 3,
        "start_time": "2023-04-21T17:11:56.033Z"
      },
      {
        "duration": 270,
        "start_time": "2023-04-21T17:11:56.937Z"
      },
      {
        "duration": 3,
        "start_time": "2023-04-21T17:12:01.786Z"
      },
      {
        "duration": 289,
        "start_time": "2023-04-21T17:12:02.653Z"
      },
      {
        "duration": 307,
        "start_time": "2023-04-21T17:12:35.563Z"
      },
      {
        "duration": 375,
        "start_time": "2023-04-21T17:14:07.003Z"
      },
      {
        "duration": 282,
        "start_time": "2023-04-21T17:14:26.708Z"
      },
      {
        "duration": 255,
        "start_time": "2023-04-21T17:14:41.583Z"
      },
      {
        "duration": 290,
        "start_time": "2023-04-21T17:15:56.854Z"
      },
      {
        "duration": 322,
        "start_time": "2023-04-21T17:15:59.252Z"
      },
      {
        "duration": 258,
        "start_time": "2023-04-21T17:16:01.085Z"
      },
      {
        "duration": 236,
        "start_time": "2023-04-21T17:16:24.207Z"
      },
      {
        "duration": 232,
        "start_time": "2023-04-21T17:16:29.130Z"
      },
      {
        "duration": 372,
        "start_time": "2023-04-21T17:17:41.335Z"
      },
      {
        "duration": 333,
        "start_time": "2023-04-21T17:17:51.708Z"
      },
      {
        "duration": 220,
        "start_time": "2023-04-21T17:17:56.515Z"
      },
      {
        "duration": 242,
        "start_time": "2023-04-21T17:18:42.574Z"
      },
      {
        "duration": 372,
        "start_time": "2023-04-21T17:19:22.815Z"
      },
      {
        "duration": 264,
        "start_time": "2023-04-21T17:19:24.681Z"
      },
      {
        "duration": 380,
        "start_time": "2023-04-21T17:20:31.503Z"
      },
      {
        "duration": 258,
        "start_time": "2023-04-21T17:20:35.904Z"
      },
      {
        "duration": 262,
        "start_time": "2023-04-21T17:21:17.009Z"
      },
      {
        "duration": 306,
        "start_time": "2023-04-21T17:21:51.450Z"
      },
      {
        "duration": 239,
        "start_time": "2023-04-21T17:22:08.402Z"
      },
      {
        "duration": 277,
        "start_time": "2023-04-21T17:22:10.924Z"
      },
      {
        "duration": 309,
        "start_time": "2023-04-21T17:22:20.705Z"
      },
      {
        "duration": 293,
        "start_time": "2023-04-21T17:24:32.520Z"
      },
      {
        "duration": 232,
        "start_time": "2023-04-21T17:29:14.908Z"
      },
      {
        "duration": 237,
        "start_time": "2023-04-21T17:29:15.793Z"
      },
      {
        "duration": 233,
        "start_time": "2023-04-21T17:31:12.801Z"
      },
      {
        "duration": 271,
        "start_time": "2023-04-21T17:31:15.004Z"
      },
      {
        "duration": 233,
        "start_time": "2023-04-21T17:31:21.597Z"
      },
      {
        "duration": 266,
        "start_time": "2023-04-21T17:33:52.323Z"
      },
      {
        "duration": 231,
        "start_time": "2023-04-21T17:34:13.310Z"
      },
      {
        "duration": 8,
        "start_time": "2023-04-21T17:46:28.831Z"
      },
      {
        "duration": 7,
        "start_time": "2023-04-21T17:46:37.264Z"
      },
      {
        "duration": 501,
        "start_time": "2023-04-21T17:46:48.769Z"
      },
      {
        "duration": 5689,
        "start_time": "2023-04-21T17:46:49.272Z"
      },
      {
        "duration": 3,
        "start_time": "2023-04-21T17:46:54.962Z"
      },
      {
        "duration": 39,
        "start_time": "2023-04-21T17:46:54.967Z"
      },
      {
        "duration": 320,
        "start_time": "2023-04-21T17:46:55.008Z"
      },
      {
        "duration": 286,
        "start_time": "2023-04-21T17:46:55.329Z"
      },
      {
        "duration": 269,
        "start_time": "2023-04-21T17:46:55.616Z"
      },
      {
        "duration": 260,
        "start_time": "2023-04-21T17:46:55.887Z"
      },
      {
        "duration": 256,
        "start_time": "2023-04-21T17:46:56.149Z"
      },
      {
        "duration": 2,
        "start_time": "2023-04-21T17:46:56.406Z"
      },
      {
        "duration": 269,
        "start_time": "2023-04-21T17:46:56.410Z"
      },
      {
        "duration": 268,
        "start_time": "2023-04-21T17:46:56.681Z"
      },
      {
        "duration": 241,
        "start_time": "2023-04-21T17:46:56.951Z"
      },
      {
        "duration": 245,
        "start_time": "2023-04-21T17:46:57.194Z"
      },
      {
        "duration": 261,
        "start_time": "2023-04-21T17:46:57.441Z"
      },
      {
        "duration": 71,
        "start_time": "2023-04-21T17:47:24.419Z"
      },
      {
        "duration": 543,
        "start_time": "2023-04-21T17:47:39.018Z"
      },
      {
        "duration": 6263,
        "start_time": "2023-04-21T17:47:39.563Z"
      },
      {
        "duration": 3,
        "start_time": "2023-04-21T17:47:45.828Z"
      },
      {
        "duration": 31,
        "start_time": "2023-04-21T17:47:45.832Z"
      },
      {
        "duration": 313,
        "start_time": "2023-04-21T17:47:45.865Z"
      },
      {
        "duration": 311,
        "start_time": "2023-04-21T17:47:46.179Z"
      },
      {
        "duration": 306,
        "start_time": "2023-04-21T17:47:46.491Z"
      },
      {
        "duration": 298,
        "start_time": "2023-04-21T17:47:46.799Z"
      },
      {
        "duration": 310,
        "start_time": "2023-04-21T17:47:47.098Z"
      },
      {
        "duration": 3,
        "start_time": "2023-04-21T17:47:47.409Z"
      },
      {
        "duration": 299,
        "start_time": "2023-04-21T17:47:47.414Z"
      },
      {
        "duration": 303,
        "start_time": "2023-04-21T17:47:47.715Z"
      },
      {
        "duration": 265,
        "start_time": "2023-04-21T17:47:48.020Z"
      },
      {
        "duration": 251,
        "start_time": "2023-04-21T17:47:48.288Z"
      },
      {
        "duration": 252,
        "start_time": "2023-04-21T17:47:48.541Z"
      },
      {
        "duration": 5,
        "start_time": "2023-04-21T17:48:21.386Z"
      },
      {
        "duration": 307,
        "start_time": "2023-04-21T17:48:22.470Z"
      },
      {
        "duration": 467,
        "start_time": "2023-04-21T17:48:33.798Z"
      },
      {
        "duration": 4806,
        "start_time": "2023-04-21T17:48:34.267Z"
      },
      {
        "duration": 2,
        "start_time": "2023-04-21T17:48:39.075Z"
      },
      {
        "duration": 7,
        "start_time": "2023-04-21T17:48:39.079Z"
      },
      {
        "duration": 274,
        "start_time": "2023-04-21T17:48:39.088Z"
      },
      {
        "duration": 244,
        "start_time": "2023-04-21T17:48:39.363Z"
      },
      {
        "duration": 245,
        "start_time": "2023-04-21T17:48:39.608Z"
      },
      {
        "duration": 256,
        "start_time": "2023-04-21T17:48:39.855Z"
      },
      {
        "duration": 249,
        "start_time": "2023-04-21T17:48:40.113Z"
      },
      {
        "duration": 3,
        "start_time": "2023-04-21T17:48:40.364Z"
      },
      {
        "duration": 240,
        "start_time": "2023-04-21T17:48:40.368Z"
      },
      {
        "duration": 261,
        "start_time": "2023-04-21T17:48:40.610Z"
      },
      {
        "duration": 245,
        "start_time": "2023-04-21T17:48:40.872Z"
      },
      {
        "duration": 232,
        "start_time": "2023-04-21T17:48:41.119Z"
      },
      {
        "duration": 236,
        "start_time": "2023-04-21T17:48:41.353Z"
      },
      {
        "duration": 4,
        "start_time": "2023-04-21T17:49:01.200Z"
      },
      {
        "duration": 359,
        "start_time": "2023-04-21T17:49:02.125Z"
      },
      {
        "duration": 293,
        "start_time": "2023-04-21T17:49:14.785Z"
      },
      {
        "duration": 362,
        "start_time": "2023-04-21T17:49:23.511Z"
      },
      {
        "duration": 347,
        "start_time": "2023-04-21T17:49:27.024Z"
      },
      {
        "duration": 469,
        "start_time": "2023-04-21T17:49:32.566Z"
      },
      {
        "duration": 5976,
        "start_time": "2023-04-21T17:49:33.037Z"
      },
      {
        "duration": 2,
        "start_time": "2023-04-21T17:49:39.015Z"
      },
      {
        "duration": 7,
        "start_time": "2023-04-21T17:49:39.018Z"
      },
      {
        "duration": 345,
        "start_time": "2023-04-21T17:49:39.026Z"
      },
      {
        "duration": 279,
        "start_time": "2023-04-21T17:49:39.373Z"
      },
      {
        "duration": 257,
        "start_time": "2023-04-21T17:49:39.654Z"
      },
      {
        "duration": 349,
        "start_time": "2023-04-21T17:49:39.913Z"
      },
      {
        "duration": 315,
        "start_time": "2023-04-21T17:49:40.264Z"
      },
      {
        "duration": 3,
        "start_time": "2023-04-21T17:49:40.581Z"
      },
      {
        "duration": 263,
        "start_time": "2023-04-21T17:49:40.586Z"
      },
      {
        "duration": 282,
        "start_time": "2023-04-21T17:49:40.851Z"
      },
      {
        "duration": 259,
        "start_time": "2023-04-21T17:49:41.136Z"
      },
      {
        "duration": 259,
        "start_time": "2023-04-21T17:49:41.397Z"
      },
      {
        "duration": 250,
        "start_time": "2023-04-21T17:49:41.658Z"
      },
      {
        "duration": 460,
        "start_time": "2023-04-22T00:34:47.889Z"
      },
      {
        "duration": 12724,
        "start_time": "2023-04-22T00:34:48.351Z"
      },
      {
        "duration": 3,
        "start_time": "2023-04-22T00:35:01.077Z"
      },
      {
        "duration": 38,
        "start_time": "2023-04-22T00:35:01.082Z"
      },
      {
        "duration": 476,
        "start_time": "2023-04-22T00:35:01.121Z"
      },
      {
        "duration": 268,
        "start_time": "2023-04-22T00:35:01.599Z"
      },
      {
        "duration": 247,
        "start_time": "2023-04-22T00:35:01.869Z"
      },
      {
        "duration": 305,
        "start_time": "2023-04-22T00:35:02.117Z"
      },
      {
        "duration": 306,
        "start_time": "2023-04-22T00:35:02.424Z"
      },
      {
        "duration": 3,
        "start_time": "2023-04-22T00:35:02.733Z"
      },
      {
        "duration": 265,
        "start_time": "2023-04-22T00:35:02.738Z"
      },
      {
        "duration": 265,
        "start_time": "2023-04-22T00:35:03.005Z"
      },
      {
        "duration": 222,
        "start_time": "2023-04-22T00:35:03.272Z"
      },
      {
        "duration": 236,
        "start_time": "2023-04-22T00:35:03.496Z"
      },
      {
        "duration": 233,
        "start_time": "2023-04-22T00:35:03.734Z"
      }
    ],
    "kernelspec": {
      "display_name": "Python 3 (ipykernel)",
      "language": "python",
      "name": "python3"
    },
    "language_info": {
      "codemirror_mode": {
        "name": "ipython",
        "version": 3
      },
      "file_extension": ".py",
      "mimetype": "text/x-python",
      "name": "python",
      "nbconvert_exporter": "python",
      "pygments_lexer": "ipython3",
      "version": "3.9.5"
    },
    "toc": {
      "base_numbering": 1,
      "nav_menu": {},
      "number_sections": true,
      "sideBar": true,
      "skip_h1_title": true,
      "title_cell": "Table of Contents",
      "title_sidebar": "Contents",
      "toc_cell": false,
      "toc_position": {},
      "toc_section_display": true,
      "toc_window_display": true
    },
    "colab": {
      "provenance": [],
      "include_colab_link": true
    }
  },
  "nbformat": 4,
  "nbformat_minor": 0
}