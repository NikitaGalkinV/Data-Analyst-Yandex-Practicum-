{
  "cells": [
    {
      "cell_type": "markdown",
      "metadata": {
        "id": "view-in-github",
        "colab_type": "text"
      },
      "source": [
        "<a href=\"https://colab.research.google.com/github/NikitaGalkinV/Data-Analyst-Yandex-Practicum-/blob/main/AB_test.ipynb\" target=\"_parent\"><img src=\"https://colab.research.google.com/assets/colab-badge.svg\" alt=\"Open In Colab\"/></a>"
      ]
    },
    {
      "cell_type": "markdown",
      "metadata": {
        "id": "ppeTsyoNAWBw"
      },
      "source": [
        "# Project A/B testing"
      ]
    },
    {
      "cell_type": "markdown",
      "metadata": {
        "id": "Ts9ZOPCkAWB8"
      },
      "source": [
        "## Project Description"
      ]
    },
    {
      "cell_type": "markdown",
      "metadata": {
        "id": "1UpYxqNSAWB8"
      },
      "source": [
        "**Task:** evaluate the results of an A/B test. You have a dataset with user actions, the terms of reference, and several auxiliary datasets at your disposal.\n",
        "\n",
        "- Evaluate the correctness of the test.\n",
        "- Analyze test results.\n",
        "- Check the intersection of the test audience with the competing test;\n",
        "- Check the coincidence of the test and marketing events, other problems of the time limits of the test."
      ]
    },
    {
      "cell_type": "markdown",
      "metadata": {
        "id": "YVFdJYIuAWB9"
      },
      "source": [
        "**Plan:**\n",
        "\n",
        "- Load data, fill missing data, analysis\n",
        "- Correctness of the test\n",
        "- EDA\n",
        "- Statistical difference of fractions (z-criterion)\n",
        "- Summary"
      ]
    },
    {
      "cell_type": "markdown",
      "metadata": {
        "id": "_ZzaidZ6AWB9"
      },
      "source": [
        "## Data description"
      ]
    },
    {
      "cell_type": "markdown",
      "metadata": {
        "id": "JGZD7p2jAWB9"
      },
      "source": [
        "**ab_project_marketing_events.csv** - marketing events calendar for 2020;\n",
        "\n",
        "File structure:\n",
        "  \n",
        "- name - name of the marketing event;\n",
        "- regions - regions in which the advertising campaign will be held;\n",
        "- start_dt - date when the campaign will start;\n",
        "- end_dt - date when the campaign ends.\n",
        "\n",
        "**final_ab_new_users.csv** - all users who registered in the online store from December 7 till December 21, 2020;\n",
        "\n",
        "File structure:\n",
        "\n",
        "- user_id - user ID;\n",
        "- first_date - date of registration;\n",
        "- region - region of the user;\n",
        "- device - device from which the registration took place.\n",
        "\n",
        "**final_ab_events.csv** - all events of new users in the period from December 7, 2020 to January 4, 2021;\n",
        "\n",
        "File structure:\n",
        "- user_id - user ID;\n",
        "- event_dt - date and time of the event;\n",
        "- event_name - type of event;\n",
        "- details - additional data about the event. For example, for purchases, purchase, this field stores the cost of purchase in dollars.\n",
        "\n",
        "**final_ab_participants.csv** - table of test participants.\n",
        "\n",
        "Structure of the file:\n",
        "- user_id - user ID;\n",
        "- ab_test - test name;\n",
        "- group - group of user."
      ]
    },
    {
      "cell_type": "markdown",
      "metadata": {
        "id": "Xm_0LPaBAWB9"
      },
      "source": [
        "## Data preprocessing"
      ]
    },
    {
      "cell_type": "markdown",
      "metadata": {
        "id": "TzIxTMpcAWB9"
      },
      "source": [
        "### Importing libraries and datasets"
      ]
    },
    {
      "cell_type": "code",
      "execution_count": null,
      "metadata": {
        "id": "1ahaZNg_AWB-",
        "outputId": "8641a329-9eb1-44b1-d623-b3007106e442"
      },
      "outputs": [
        {
          "name": "stdout",
          "output_type": "stream",
          "text": [
            "Requirement already satisfied: Kaleido in /Users/nikitagalkin/opt/anaconda3/lib/python3.9/site-packages (0.2.1)\n",
            "Requirement already satisfied: kaleido in /Users/nikitagalkin/opt/anaconda3/lib/python3.9/site-packages (0.2.1)\n"
          ]
        }
      ],
      "source": [
        "import pandas as pd\n",
        "from datetime import datetime\n",
        "import matplotlib.pyplot as plt\n",
        "import seaborn as sns\n",
        "from plotly import graph_objects as go\n",
        "from scipy import stats as st\n",
        "import numpy as np\n",
        "import plotly.io as pio\n",
        "pio.renderers.default = 'png'\n",
        "from scipy.stats import norm\n",
        "!pip install Kaleido\n",
        "!pip install -U kaleido"
      ]
    },
    {
      "cell_type": "code",
      "execution_count": null,
      "metadata": {
        "id": "n9ZWpVnlAWB_"
      },
      "outputs": [],
      "source": [
        "marketing_events = pd.read_csv(\"/Users/nikitagalkin/Downloads/ab_project_marketing_events.csv\")\n",
        "new_users = pd.read_csv(\"/Users/nikitagalkin/Downloads/final_ab_new_users.csv\")\n",
        "events = pd.read_csv(\"/Users/nikitagalkin/Downloads/final_ab_events.csv\")\n",
        "participants = pd.read_csv(\"/Users/nikitagalkin/Downloads/final_ab_participants.csv\")\n"
      ]
    },
    {
      "cell_type": "markdown",
      "metadata": {
        "id": "2lH_1nKdAWB_"
      },
      "source": [
        "### Preprocessing gaps, changing data types, removing duplicates"
      ]
    },
    {
      "cell_type": "code",
      "execution_count": null,
      "metadata": {
        "id": "6lae0PHxAWB_"
      },
      "outputs": [],
      "source": [
        "def info(df):\n",
        "    display(df.head())\n",
        "    print(\"–––––––––––––––––––––––––––––––––––––––––––––––––\")\n",
        "    display(df.info())\n",
        "    print(\"–––––––––––––––––––––––––––––––––––––––––––––––––\")\n",
        "    display(df.describe(include='all'))"
      ]
    },
    {
      "cell_type": "markdown",
      "metadata": {
        "id": "WXkt09wBAWB_"
      },
      "source": [
        "#### Marketing Events Calendar (2020)"
      ]
    },
    {
      "cell_type": "code",
      "execution_count": null,
      "metadata": {
        "id": "e7mP4uWpAWB_",
        "outputId": "e3a47c83-9e03-45fb-868b-d40191775409"
      },
      "outputs": [
        {
          "data": {
            "text/html": [
              "<div>\n",
              "<style scoped>\n",
              "    .dataframe tbody tr th:only-of-type {\n",
              "        vertical-align: middle;\n",
              "    }\n",
              "\n",
              "    .dataframe tbody tr th {\n",
              "        vertical-align: top;\n",
              "    }\n",
              "\n",
              "    .dataframe thead th {\n",
              "        text-align: right;\n",
              "    }\n",
              "</style>\n",
              "<table border=\"1\" class=\"dataframe\">\n",
              "  <thead>\n",
              "    <tr style=\"text-align: right;\">\n",
              "      <th></th>\n",
              "      <th>name</th>\n",
              "      <th>regions</th>\n",
              "      <th>start_dt</th>\n",
              "      <th>finish_dt</th>\n",
              "    </tr>\n",
              "  </thead>\n",
              "  <tbody>\n",
              "    <tr>\n",
              "      <th>0</th>\n",
              "      <td>Christmas&amp;New Year Promo</td>\n",
              "      <td>EU, N.America</td>\n",
              "      <td>2020-12-25</td>\n",
              "      <td>2021-01-03</td>\n",
              "    </tr>\n",
              "    <tr>\n",
              "      <th>1</th>\n",
              "      <td>St. Valentine's Day Giveaway</td>\n",
              "      <td>EU, CIS, APAC, N.America</td>\n",
              "      <td>2020-02-14</td>\n",
              "      <td>2020-02-16</td>\n",
              "    </tr>\n",
              "    <tr>\n",
              "      <th>2</th>\n",
              "      <td>St. Patric's Day Promo</td>\n",
              "      <td>EU, N.America</td>\n",
              "      <td>2020-03-17</td>\n",
              "      <td>2020-03-19</td>\n",
              "    </tr>\n",
              "    <tr>\n",
              "      <th>3</th>\n",
              "      <td>Easter Promo</td>\n",
              "      <td>EU, CIS, APAC, N.America</td>\n",
              "      <td>2020-04-12</td>\n",
              "      <td>2020-04-19</td>\n",
              "    </tr>\n",
              "    <tr>\n",
              "      <th>4</th>\n",
              "      <td>4th of July Promo</td>\n",
              "      <td>N.America</td>\n",
              "      <td>2020-07-04</td>\n",
              "      <td>2020-07-11</td>\n",
              "    </tr>\n",
              "  </tbody>\n",
              "</table>\n",
              "</div>"
            ],
            "text/plain": [
              "                           name                   regions    start_dt  \\\n",
              "0      Christmas&New Year Promo             EU, N.America  2020-12-25   \n",
              "1  St. Valentine's Day Giveaway  EU, CIS, APAC, N.America  2020-02-14   \n",
              "2        St. Patric's Day Promo             EU, N.America  2020-03-17   \n",
              "3                  Easter Promo  EU, CIS, APAC, N.America  2020-04-12   \n",
              "4             4th of July Promo                 N.America  2020-07-04   \n",
              "\n",
              "    finish_dt  \n",
              "0  2021-01-03  \n",
              "1  2020-02-16  \n",
              "2  2020-03-19  \n",
              "3  2020-04-19  \n",
              "4  2020-07-11  "
            ]
          },
          "metadata": {},
          "output_type": "display_data"
        },
        {
          "name": "stdout",
          "output_type": "stream",
          "text": [
            "–––––––––––––––––––––––––––––––––––––––––––––––––\n",
            "<class 'pandas.core.frame.DataFrame'>\n",
            "RangeIndex: 14 entries, 0 to 13\n",
            "Data columns (total 4 columns):\n",
            " #   Column     Non-Null Count  Dtype \n",
            "---  ------     --------------  ----- \n",
            " 0   name       14 non-null     object\n",
            " 1   regions    14 non-null     object\n",
            " 2   start_dt   14 non-null     object\n",
            " 3   finish_dt  14 non-null     object\n",
            "dtypes: object(4)\n",
            "memory usage: 576.0+ bytes\n"
          ]
        },
        {
          "data": {
            "text/plain": [
              "None"
            ]
          },
          "metadata": {},
          "output_type": "display_data"
        },
        {
          "name": "stdout",
          "output_type": "stream",
          "text": [
            "–––––––––––––––––––––––––––––––––––––––––––––––––\n"
          ]
        },
        {
          "data": {
            "text/html": [
              "<div>\n",
              "<style scoped>\n",
              "    .dataframe tbody tr th:only-of-type {\n",
              "        vertical-align: middle;\n",
              "    }\n",
              "\n",
              "    .dataframe tbody tr th {\n",
              "        vertical-align: top;\n",
              "    }\n",
              "\n",
              "    .dataframe thead th {\n",
              "        text-align: right;\n",
              "    }\n",
              "</style>\n",
              "<table border=\"1\" class=\"dataframe\">\n",
              "  <thead>\n",
              "    <tr style=\"text-align: right;\">\n",
              "      <th></th>\n",
              "      <th>name</th>\n",
              "      <th>regions</th>\n",
              "      <th>start_dt</th>\n",
              "      <th>finish_dt</th>\n",
              "    </tr>\n",
              "  </thead>\n",
              "  <tbody>\n",
              "    <tr>\n",
              "      <th>count</th>\n",
              "      <td>14</td>\n",
              "      <td>14</td>\n",
              "      <td>14</td>\n",
              "      <td>14</td>\n",
              "    </tr>\n",
              "    <tr>\n",
              "      <th>unique</th>\n",
              "      <td>14</td>\n",
              "      <td>6</td>\n",
              "      <td>14</td>\n",
              "      <td>14</td>\n",
              "    </tr>\n",
              "    <tr>\n",
              "      <th>top</th>\n",
              "      <td>Christmas&amp;New Year Promo</td>\n",
              "      <td>APAC</td>\n",
              "      <td>2020-12-25</td>\n",
              "      <td>2021-01-03</td>\n",
              "    </tr>\n",
              "    <tr>\n",
              "      <th>freq</th>\n",
              "      <td>1</td>\n",
              "      <td>4</td>\n",
              "      <td>1</td>\n",
              "      <td>1</td>\n",
              "    </tr>\n",
              "  </tbody>\n",
              "</table>\n",
              "</div>"
            ],
            "text/plain": [
              "                            name regions    start_dt   finish_dt\n",
              "count                         14      14          14          14\n",
              "unique                        14       6          14          14\n",
              "top     Christmas&New Year Promo    APAC  2020-12-25  2021-01-03\n",
              "freq                           1       4           1           1"
            ]
          },
          "metadata": {},
          "output_type": "display_data"
        }
      ],
      "source": [
        "info(marketing_events)"
      ]
    },
    {
      "cell_type": "code",
      "execution_count": null,
      "metadata": {
        "id": "lrfy0_nvAWCA",
        "outputId": "fc70af84-a626-4346-caa3-e0a2285c28f2"
      },
      "outputs": [
        {
          "name": "stdout",
          "output_type": "stream",
          "text": [
            "Duplicates in marketing_events: 0\n",
            "\n"
          ]
        },
        {
          "data": {
            "text/plain": [
              "0             Christmas&New Year Promo\n",
              "1         St. Valentine's Day Giveaway\n",
              "2               St. Patric's Day Promo\n",
              "3                         Easter Promo\n",
              "4                    4th of July Promo\n",
              "5            Black Friday Ads Campaign\n",
              "6               Chinese New Year Promo\n",
              "7     Labor day (May 1st) Ads Campaign\n",
              "8      International Women's Day Promo\n",
              "9      Victory Day CIS (May 9th) Event\n",
              "10           CIS New Year Gift Lottery\n",
              "11       Dragon Boat Festival Giveaway\n",
              "12             Single's Day Gift Promo\n",
              "13               Chinese Moon Festival\n",
              "Name: name, dtype: object"
            ]
          },
          "metadata": {},
          "output_type": "display_data"
        }
      ],
      "source": [
        "marketing_events['start_dt'] = pd.to_datetime(marketing_events['start_dt'])\n",
        "marketing_events['finish_dt'] = pd.to_datetime(marketing_events['finish_dt'])\n",
        "\n",
        "print('Duplicates in marketing_events:' ,marketing_events.duplicated().sum())\n",
        "print()\n",
        "\n",
        "display(marketing_events['name'])\n"
      ]
    },
    {
      "cell_type": "markdown",
      "metadata": {
        "id": "XnehlFw3AWCA"
      },
      "source": [
        "####  All users registered in the online store from 7 to 21 December 2020"
      ]
    },
    {
      "cell_type": "code",
      "execution_count": null,
      "metadata": {
        "scrolled": true,
        "id": "ZDCkqtkOAWCA",
        "outputId": "bf587e46-c84d-4b8e-e141-23e2b2ceb283"
      },
      "outputs": [
        {
          "data": {
            "text/html": [
              "<div>\n",
              "<style scoped>\n",
              "    .dataframe tbody tr th:only-of-type {\n",
              "        vertical-align: middle;\n",
              "    }\n",
              "\n",
              "    .dataframe tbody tr th {\n",
              "        vertical-align: top;\n",
              "    }\n",
              "\n",
              "    .dataframe thead th {\n",
              "        text-align: right;\n",
              "    }\n",
              "</style>\n",
              "<table border=\"1\" class=\"dataframe\">\n",
              "  <thead>\n",
              "    <tr style=\"text-align: right;\">\n",
              "      <th></th>\n",
              "      <th>user_id</th>\n",
              "      <th>first_date</th>\n",
              "      <th>region</th>\n",
              "      <th>device</th>\n",
              "    </tr>\n",
              "  </thead>\n",
              "  <tbody>\n",
              "    <tr>\n",
              "      <th>0</th>\n",
              "      <td>D72A72121175D8BE</td>\n",
              "      <td>2020-12-07</td>\n",
              "      <td>EU</td>\n",
              "      <td>PC</td>\n",
              "    </tr>\n",
              "    <tr>\n",
              "      <th>1</th>\n",
              "      <td>F1C668619DFE6E65</td>\n",
              "      <td>2020-12-07</td>\n",
              "      <td>N.America</td>\n",
              "      <td>Android</td>\n",
              "    </tr>\n",
              "    <tr>\n",
              "      <th>2</th>\n",
              "      <td>2E1BF1D4C37EA01F</td>\n",
              "      <td>2020-12-07</td>\n",
              "      <td>EU</td>\n",
              "      <td>PC</td>\n",
              "    </tr>\n",
              "    <tr>\n",
              "      <th>3</th>\n",
              "      <td>50734A22C0C63768</td>\n",
              "      <td>2020-12-07</td>\n",
              "      <td>EU</td>\n",
              "      <td>iPhone</td>\n",
              "    </tr>\n",
              "    <tr>\n",
              "      <th>4</th>\n",
              "      <td>E1BDDCE0DAFA2679</td>\n",
              "      <td>2020-12-07</td>\n",
              "      <td>N.America</td>\n",
              "      <td>iPhone</td>\n",
              "    </tr>\n",
              "  </tbody>\n",
              "</table>\n",
              "</div>"
            ],
            "text/plain": [
              "            user_id  first_date     region   device\n",
              "0  D72A72121175D8BE  2020-12-07         EU       PC\n",
              "1  F1C668619DFE6E65  2020-12-07  N.America  Android\n",
              "2  2E1BF1D4C37EA01F  2020-12-07         EU       PC\n",
              "3  50734A22C0C63768  2020-12-07         EU   iPhone\n",
              "4  E1BDDCE0DAFA2679  2020-12-07  N.America   iPhone"
            ]
          },
          "metadata": {},
          "output_type": "display_data"
        },
        {
          "name": "stdout",
          "output_type": "stream",
          "text": [
            "–––––––––––––––––––––––––––––––––––––––––––––––––\n",
            "<class 'pandas.core.frame.DataFrame'>\n",
            "RangeIndex: 61733 entries, 0 to 61732\n",
            "Data columns (total 4 columns):\n",
            " #   Column      Non-Null Count  Dtype \n",
            "---  ------      --------------  ----- \n",
            " 0   user_id     61733 non-null  object\n",
            " 1   first_date  61733 non-null  object\n",
            " 2   region      61733 non-null  object\n",
            " 3   device      61733 non-null  object\n",
            "dtypes: object(4)\n",
            "memory usage: 1.9+ MB\n"
          ]
        },
        {
          "data": {
            "text/plain": [
              "None"
            ]
          },
          "metadata": {},
          "output_type": "display_data"
        },
        {
          "name": "stdout",
          "output_type": "stream",
          "text": [
            "–––––––––––––––––––––––––––––––––––––––––––––––––\n"
          ]
        },
        {
          "data": {
            "text/html": [
              "<div>\n",
              "<style scoped>\n",
              "    .dataframe tbody tr th:only-of-type {\n",
              "        vertical-align: middle;\n",
              "    }\n",
              "\n",
              "    .dataframe tbody tr th {\n",
              "        vertical-align: top;\n",
              "    }\n",
              "\n",
              "    .dataframe thead th {\n",
              "        text-align: right;\n",
              "    }\n",
              "</style>\n",
              "<table border=\"1\" class=\"dataframe\">\n",
              "  <thead>\n",
              "    <tr style=\"text-align: right;\">\n",
              "      <th></th>\n",
              "      <th>user_id</th>\n",
              "      <th>first_date</th>\n",
              "      <th>region</th>\n",
              "      <th>device</th>\n",
              "    </tr>\n",
              "  </thead>\n",
              "  <tbody>\n",
              "    <tr>\n",
              "      <th>count</th>\n",
              "      <td>61733</td>\n",
              "      <td>61733</td>\n",
              "      <td>61733</td>\n",
              "      <td>61733</td>\n",
              "    </tr>\n",
              "    <tr>\n",
              "      <th>unique</th>\n",
              "      <td>61733</td>\n",
              "      <td>17</td>\n",
              "      <td>4</td>\n",
              "      <td>4</td>\n",
              "    </tr>\n",
              "    <tr>\n",
              "      <th>top</th>\n",
              "      <td>D72A72121175D8BE</td>\n",
              "      <td>2020-12-21</td>\n",
              "      <td>EU</td>\n",
              "      <td>Android</td>\n",
              "    </tr>\n",
              "    <tr>\n",
              "      <th>freq</th>\n",
              "      <td>1</td>\n",
              "      <td>6290</td>\n",
              "      <td>46270</td>\n",
              "      <td>27520</td>\n",
              "    </tr>\n",
              "  </tbody>\n",
              "</table>\n",
              "</div>"
            ],
            "text/plain": [
              "                 user_id  first_date region   device\n",
              "count              61733       61733  61733    61733\n",
              "unique             61733          17      4        4\n",
              "top     D72A72121175D8BE  2020-12-21     EU  Android\n",
              "freq                   1        6290  46270    27520"
            ]
          },
          "metadata": {},
          "output_type": "display_data"
        }
      ],
      "source": [
        "info(new_users)"
      ]
    },
    {
      "cell_type": "code",
      "execution_count": null,
      "metadata": {
        "id": "ouUESPA8AWCA",
        "outputId": "9ea818b3-e6c7-4965-cf6e-28144f447ed9"
      },
      "outputs": [
        {
          "name": "stdout",
          "output_type": "stream",
          "text": [
            "Duplicates in new_users: 0\n",
            "\n",
            "Regions: ['EU' 'N.America' 'APAC' 'CIS']\n"
          ]
        }
      ],
      "source": [
        "new_users['first_date'] = pd.to_datetime(new_users['first_date'])\n",
        "\n",
        "print('Duplicates in new_users:' ,new_users.duplicated().sum())\n",
        "print()\n",
        "\n",
        "print('Regions:', new_users['region'].unique())\n"
      ]
    },
    {
      "cell_type": "markdown",
      "metadata": {
        "id": "VVhifCHcAWCA"
      },
      "source": [
        "#### All new user events between December 7, 2020 and January 4, 2021"
      ]
    },
    {
      "cell_type": "code",
      "execution_count": null,
      "metadata": {
        "scrolled": true,
        "id": "2ed8pJfNAWCA",
        "outputId": "d9a14dca-0ad2-486a-b37f-fc610164ce96"
      },
      "outputs": [
        {
          "data": {
            "text/html": [
              "<div>\n",
              "<style scoped>\n",
              "    .dataframe tbody tr th:only-of-type {\n",
              "        vertical-align: middle;\n",
              "    }\n",
              "\n",
              "    .dataframe tbody tr th {\n",
              "        vertical-align: top;\n",
              "    }\n",
              "\n",
              "    .dataframe thead th {\n",
              "        text-align: right;\n",
              "    }\n",
              "</style>\n",
              "<table border=\"1\" class=\"dataframe\">\n",
              "  <thead>\n",
              "    <tr style=\"text-align: right;\">\n",
              "      <th></th>\n",
              "      <th>user_id</th>\n",
              "      <th>event_dt</th>\n",
              "      <th>event_name</th>\n",
              "      <th>details</th>\n",
              "    </tr>\n",
              "  </thead>\n",
              "  <tbody>\n",
              "    <tr>\n",
              "      <th>0</th>\n",
              "      <td>E1BDDCE0DAFA2679</td>\n",
              "      <td>2020-12-07 20:22:03</td>\n",
              "      <td>purchase</td>\n",
              "      <td>99.99</td>\n",
              "    </tr>\n",
              "    <tr>\n",
              "      <th>1</th>\n",
              "      <td>7B6452F081F49504</td>\n",
              "      <td>2020-12-07 09:22:53</td>\n",
              "      <td>purchase</td>\n",
              "      <td>9.99</td>\n",
              "    </tr>\n",
              "    <tr>\n",
              "      <th>2</th>\n",
              "      <td>9CD9F34546DF254C</td>\n",
              "      <td>2020-12-07 12:59:29</td>\n",
              "      <td>purchase</td>\n",
              "      <td>4.99</td>\n",
              "    </tr>\n",
              "    <tr>\n",
              "      <th>3</th>\n",
              "      <td>96F27A054B191457</td>\n",
              "      <td>2020-12-07 04:02:40</td>\n",
              "      <td>purchase</td>\n",
              "      <td>4.99</td>\n",
              "    </tr>\n",
              "    <tr>\n",
              "      <th>4</th>\n",
              "      <td>1FD7660FDF94CA1F</td>\n",
              "      <td>2020-12-07 10:15:09</td>\n",
              "      <td>purchase</td>\n",
              "      <td>4.99</td>\n",
              "    </tr>\n",
              "  </tbody>\n",
              "</table>\n",
              "</div>"
            ],
            "text/plain": [
              "            user_id             event_dt event_name  details\n",
              "0  E1BDDCE0DAFA2679  2020-12-07 20:22:03   purchase    99.99\n",
              "1  7B6452F081F49504  2020-12-07 09:22:53   purchase     9.99\n",
              "2  9CD9F34546DF254C  2020-12-07 12:59:29   purchase     4.99\n",
              "3  96F27A054B191457  2020-12-07 04:02:40   purchase     4.99\n",
              "4  1FD7660FDF94CA1F  2020-12-07 10:15:09   purchase     4.99"
            ]
          },
          "metadata": {},
          "output_type": "display_data"
        },
        {
          "name": "stdout",
          "output_type": "stream",
          "text": [
            "–––––––––––––––––––––––––––––––––––––––––––––––––\n",
            "<class 'pandas.core.frame.DataFrame'>\n",
            "RangeIndex: 440317 entries, 0 to 440316\n",
            "Data columns (total 4 columns):\n",
            " #   Column      Non-Null Count   Dtype  \n",
            "---  ------      --------------   -----  \n",
            " 0   user_id     440317 non-null  object \n",
            " 1   event_dt    440317 non-null  object \n",
            " 2   event_name  440317 non-null  object \n",
            " 3   details     62740 non-null   float64\n",
            "dtypes: float64(1), object(3)\n",
            "memory usage: 13.4+ MB\n"
          ]
        },
        {
          "data": {
            "text/plain": [
              "None"
            ]
          },
          "metadata": {},
          "output_type": "display_data"
        },
        {
          "name": "stdout",
          "output_type": "stream",
          "text": [
            "–––––––––––––––––––––––––––––––––––––––––––––––––\n"
          ]
        },
        {
          "data": {
            "text/html": [
              "<div>\n",
              "<style scoped>\n",
              "    .dataframe tbody tr th:only-of-type {\n",
              "        vertical-align: middle;\n",
              "    }\n",
              "\n",
              "    .dataframe tbody tr th {\n",
              "        vertical-align: top;\n",
              "    }\n",
              "\n",
              "    .dataframe thead th {\n",
              "        text-align: right;\n",
              "    }\n",
              "</style>\n",
              "<table border=\"1\" class=\"dataframe\">\n",
              "  <thead>\n",
              "    <tr style=\"text-align: right;\">\n",
              "      <th></th>\n",
              "      <th>user_id</th>\n",
              "      <th>event_dt</th>\n",
              "      <th>event_name</th>\n",
              "      <th>details</th>\n",
              "    </tr>\n",
              "  </thead>\n",
              "  <tbody>\n",
              "    <tr>\n",
              "      <th>count</th>\n",
              "      <td>440317</td>\n",
              "      <td>440317</td>\n",
              "      <td>440317</td>\n",
              "      <td>62740.000000</td>\n",
              "    </tr>\n",
              "    <tr>\n",
              "      <th>unique</th>\n",
              "      <td>58703</td>\n",
              "      <td>267268</td>\n",
              "      <td>4</td>\n",
              "      <td>NaN</td>\n",
              "    </tr>\n",
              "    <tr>\n",
              "      <th>top</th>\n",
              "      <td>A3917F81482141F2</td>\n",
              "      <td>2020-12-23 02:37:24</td>\n",
              "      <td>login</td>\n",
              "      <td>NaN</td>\n",
              "    </tr>\n",
              "    <tr>\n",
              "      <th>freq</th>\n",
              "      <td>36</td>\n",
              "      <td>10</td>\n",
              "      <td>189552</td>\n",
              "      <td>NaN</td>\n",
              "    </tr>\n",
              "    <tr>\n",
              "      <th>mean</th>\n",
              "      <td>NaN</td>\n",
              "      <td>NaN</td>\n",
              "      <td>NaN</td>\n",
              "      <td>23.877631</td>\n",
              "    </tr>\n",
              "    <tr>\n",
              "      <th>std</th>\n",
              "      <td>NaN</td>\n",
              "      <td>NaN</td>\n",
              "      <td>NaN</td>\n",
              "      <td>72.180465</td>\n",
              "    </tr>\n",
              "    <tr>\n",
              "      <th>min</th>\n",
              "      <td>NaN</td>\n",
              "      <td>NaN</td>\n",
              "      <td>NaN</td>\n",
              "      <td>4.990000</td>\n",
              "    </tr>\n",
              "    <tr>\n",
              "      <th>25%</th>\n",
              "      <td>NaN</td>\n",
              "      <td>NaN</td>\n",
              "      <td>NaN</td>\n",
              "      <td>4.990000</td>\n",
              "    </tr>\n",
              "    <tr>\n",
              "      <th>50%</th>\n",
              "      <td>NaN</td>\n",
              "      <td>NaN</td>\n",
              "      <td>NaN</td>\n",
              "      <td>4.990000</td>\n",
              "    </tr>\n",
              "    <tr>\n",
              "      <th>75%</th>\n",
              "      <td>NaN</td>\n",
              "      <td>NaN</td>\n",
              "      <td>NaN</td>\n",
              "      <td>9.990000</td>\n",
              "    </tr>\n",
              "    <tr>\n",
              "      <th>max</th>\n",
              "      <td>NaN</td>\n",
              "      <td>NaN</td>\n",
              "      <td>NaN</td>\n",
              "      <td>499.990000</td>\n",
              "    </tr>\n",
              "  </tbody>\n",
              "</table>\n",
              "</div>"
            ],
            "text/plain": [
              "                 user_id             event_dt event_name       details\n",
              "count             440317               440317     440317  62740.000000\n",
              "unique             58703               267268          4           NaN\n",
              "top     A3917F81482141F2  2020-12-23 02:37:24      login           NaN\n",
              "freq                  36                   10     189552           NaN\n",
              "mean                 NaN                  NaN        NaN     23.877631\n",
              "std                  NaN                  NaN        NaN     72.180465\n",
              "min                  NaN                  NaN        NaN      4.990000\n",
              "25%                  NaN                  NaN        NaN      4.990000\n",
              "50%                  NaN                  NaN        NaN      4.990000\n",
              "75%                  NaN                  NaN        NaN      9.990000\n",
              "max                  NaN                  NaN        NaN    499.990000"
            ]
          },
          "metadata": {},
          "output_type": "display_data"
        }
      ],
      "source": [
        "info(events)"
      ]
    },
    {
      "cell_type": "code",
      "execution_count": null,
      "metadata": {
        "id": "NlbUiA9AAWCA",
        "outputId": "0958f211-fd4f-4505-bdd9-c94b6ea9235b"
      },
      "outputs": [
        {
          "name": "stdout",
          "output_type": "stream",
          "text": [
            "Duplicates in events: 0\n",
            "\n",
            "Events: ['purchase' 'product_cart' 'product_page' 'login']\n"
          ]
        },
        {
          "data": {
            "text/html": [
              "<div>\n",
              "<style scoped>\n",
              "    .dataframe tbody tr th:only-of-type {\n",
              "        vertical-align: middle;\n",
              "    }\n",
              "\n",
              "    .dataframe tbody tr th {\n",
              "        vertical-align: top;\n",
              "    }\n",
              "\n",
              "    .dataframe thead th {\n",
              "        text-align: right;\n",
              "    }\n",
              "</style>\n",
              "<table border=\"1\" class=\"dataframe\">\n",
              "  <thead>\n",
              "    <tr style=\"text-align: right;\">\n",
              "      <th></th>\n",
              "      <th>event_name</th>\n",
              "      <th>details</th>\n",
              "    </tr>\n",
              "  </thead>\n",
              "  <tbody>\n",
              "    <tr>\n",
              "      <th>0</th>\n",
              "      <td>login</td>\n",
              "      <td>0</td>\n",
              "    </tr>\n",
              "    <tr>\n",
              "      <th>1</th>\n",
              "      <td>product_cart</td>\n",
              "      <td>0</td>\n",
              "    </tr>\n",
              "    <tr>\n",
              "      <th>2</th>\n",
              "      <td>product_page</td>\n",
              "      <td>0</td>\n",
              "    </tr>\n",
              "    <tr>\n",
              "      <th>3</th>\n",
              "      <td>purchase</td>\n",
              "      <td>62740</td>\n",
              "    </tr>\n",
              "  </tbody>\n",
              "</table>\n",
              "</div>"
            ],
            "text/plain": [
              "     event_name  details\n",
              "0         login        0\n",
              "1  product_cart        0\n",
              "2  product_page        0\n",
              "3      purchase    62740"
            ]
          },
          "execution_count": 9,
          "metadata": {},
          "output_type": "execute_result"
        }
      ],
      "source": [
        "events['event_dt'] = pd.to_datetime(events['event_dt'])\n",
        "\n",
        "print('Duplicates in events:' ,events.duplicated().sum())\n",
        "print()\n",
        "\n",
        "print('Events:', events['event_name'].unique())\n",
        "\n",
        "events.groupby('event_name').agg({'details':'count'}).reset_index()\n"
      ]
    },
    {
      "cell_type": "markdown",
      "metadata": {
        "id": "z16UcxCZAWCA"
      },
      "source": [
        "#### Table of test participants."
      ]
    },
    {
      "cell_type": "code",
      "execution_count": null,
      "metadata": {
        "scrolled": true,
        "id": "geVKE0tCAWCB",
        "outputId": "128b353d-1a33-4f02-a1f9-b10cccddfe83"
      },
      "outputs": [
        {
          "data": {
            "text/html": [
              "<div>\n",
              "<style scoped>\n",
              "    .dataframe tbody tr th:only-of-type {\n",
              "        vertical-align: middle;\n",
              "    }\n",
              "\n",
              "    .dataframe tbody tr th {\n",
              "        vertical-align: top;\n",
              "    }\n",
              "\n",
              "    .dataframe thead th {\n",
              "        text-align: right;\n",
              "    }\n",
              "</style>\n",
              "<table border=\"1\" class=\"dataframe\">\n",
              "  <thead>\n",
              "    <tr style=\"text-align: right;\">\n",
              "      <th></th>\n",
              "      <th>user_id</th>\n",
              "      <th>group</th>\n",
              "      <th>ab_test</th>\n",
              "    </tr>\n",
              "  </thead>\n",
              "  <tbody>\n",
              "    <tr>\n",
              "      <th>0</th>\n",
              "      <td>D1ABA3E2887B6A73</td>\n",
              "      <td>A</td>\n",
              "      <td>recommender_system_test</td>\n",
              "    </tr>\n",
              "    <tr>\n",
              "      <th>1</th>\n",
              "      <td>A7A3664BD6242119</td>\n",
              "      <td>A</td>\n",
              "      <td>recommender_system_test</td>\n",
              "    </tr>\n",
              "    <tr>\n",
              "      <th>2</th>\n",
              "      <td>DABC14FDDFADD29E</td>\n",
              "      <td>A</td>\n",
              "      <td>recommender_system_test</td>\n",
              "    </tr>\n",
              "    <tr>\n",
              "      <th>3</th>\n",
              "      <td>04988C5DF189632E</td>\n",
              "      <td>A</td>\n",
              "      <td>recommender_system_test</td>\n",
              "    </tr>\n",
              "    <tr>\n",
              "      <th>4</th>\n",
              "      <td>482F14783456D21B</td>\n",
              "      <td>B</td>\n",
              "      <td>recommender_system_test</td>\n",
              "    </tr>\n",
              "  </tbody>\n",
              "</table>\n",
              "</div>"
            ],
            "text/plain": [
              "            user_id group                  ab_test\n",
              "0  D1ABA3E2887B6A73     A  recommender_system_test\n",
              "1  A7A3664BD6242119     A  recommender_system_test\n",
              "2  DABC14FDDFADD29E     A  recommender_system_test\n",
              "3  04988C5DF189632E     A  recommender_system_test\n",
              "4  482F14783456D21B     B  recommender_system_test"
            ]
          },
          "metadata": {},
          "output_type": "display_data"
        },
        {
          "name": "stdout",
          "output_type": "stream",
          "text": [
            "–––––––––––––––––––––––––––––––––––––––––––––––––\n",
            "<class 'pandas.core.frame.DataFrame'>\n",
            "RangeIndex: 18268 entries, 0 to 18267\n",
            "Data columns (total 3 columns):\n",
            " #   Column   Non-Null Count  Dtype \n",
            "---  ------   --------------  ----- \n",
            " 0   user_id  18268 non-null  object\n",
            " 1   group    18268 non-null  object\n",
            " 2   ab_test  18268 non-null  object\n",
            "dtypes: object(3)\n",
            "memory usage: 428.3+ KB\n"
          ]
        },
        {
          "data": {
            "text/plain": [
              "None"
            ]
          },
          "metadata": {},
          "output_type": "display_data"
        },
        {
          "name": "stdout",
          "output_type": "stream",
          "text": [
            "–––––––––––––––––––––––––––––––––––––––––––––––––\n"
          ]
        },
        {
          "data": {
            "text/html": [
              "<div>\n",
              "<style scoped>\n",
              "    .dataframe tbody tr th:only-of-type {\n",
              "        vertical-align: middle;\n",
              "    }\n",
              "\n",
              "    .dataframe tbody tr th {\n",
              "        vertical-align: top;\n",
              "    }\n",
              "\n",
              "    .dataframe thead th {\n",
              "        text-align: right;\n",
              "    }\n",
              "</style>\n",
              "<table border=\"1\" class=\"dataframe\">\n",
              "  <thead>\n",
              "    <tr style=\"text-align: right;\">\n",
              "      <th></th>\n",
              "      <th>user_id</th>\n",
              "      <th>group</th>\n",
              "      <th>ab_test</th>\n",
              "    </tr>\n",
              "  </thead>\n",
              "  <tbody>\n",
              "    <tr>\n",
              "      <th>count</th>\n",
              "      <td>18268</td>\n",
              "      <td>18268</td>\n",
              "      <td>18268</td>\n",
              "    </tr>\n",
              "    <tr>\n",
              "      <th>unique</th>\n",
              "      <td>16666</td>\n",
              "      <td>2</td>\n",
              "      <td>2</td>\n",
              "    </tr>\n",
              "    <tr>\n",
              "      <th>top</th>\n",
              "      <td>0FDFDA0B2DEC2D91</td>\n",
              "      <td>A</td>\n",
              "      <td>interface_eu_test</td>\n",
              "    </tr>\n",
              "    <tr>\n",
              "      <th>freq</th>\n",
              "      <td>2</td>\n",
              "      <td>9655</td>\n",
              "      <td>11567</td>\n",
              "    </tr>\n",
              "  </tbody>\n",
              "</table>\n",
              "</div>"
            ],
            "text/plain": [
              "                 user_id  group            ab_test\n",
              "count              18268  18268              18268\n",
              "unique             16666      2                  2\n",
              "top     0FDFDA0B2DEC2D91      A  interface_eu_test\n",
              "freq                   2   9655              11567"
            ]
          },
          "metadata": {},
          "output_type": "display_data"
        }
      ],
      "source": [
        "info(participants)"
      ]
    },
    {
      "cell_type": "code",
      "execution_count": null,
      "metadata": {
        "id": "QrWGHiW8AWCB",
        "outputId": "d3ace4b6-5544-49b8-a1a7-e1d3004c2962"
      },
      "outputs": [
        {
          "name": "stdout",
          "output_type": "stream",
          "text": [
            "Duplicates in participants: 0\n"
          ]
        }
      ],
      "source": [
        "print('Duplicates in participants:' ,participants.duplicated().sum())"
      ]
    },
    {
      "cell_type": "markdown",
      "metadata": {
        "id": "RHvIu8JIAWCB"
      },
      "source": [
        "## Correctness of the test"
      ]
    },
    {
      "cell_type": "markdown",
      "metadata": {
        "id": "qAEebIqNAWCB"
      },
      "source": [
        "**Technical specification**\n",
        "\n",
        "- Test name: recommender_system_test;\n",
        "- Groups: A (control), B (new payment funnel);\n",
        "- Launch date: 2020-12-07;\n",
        "- Date of stopping the recruitment of new users: 2020-12-21;\n",
        "- Stop date: 2021-01-04;\n",
        "- Audience: 15% of new users from the EU region;\n",
        "- Purpose of the test: testing the changes associated with the introduction of an improved recommender system;\n",
        "- Expected number of test participants: 6000.\n",
        "- Expected effect: in 14 days from the moment of registration in the system, users will show an improvement in each metric by at least 10%:\n",
        "     - conversions to view product cards — product_page event\n",
        "     - cart views - product_cart\n",
        "     - purchases - purchases."
      ]
    },
    {
      "cell_type": "markdown",
      "metadata": {
        "id": "7hQHy1gPAWCB"
      },
      "source": [
        "### Compliance of data with the requirements of the terms of reference"
      ]
    },
    {
      "cell_type": "code",
      "execution_count": null,
      "metadata": {
        "id": "BJ64bwdMAWCB"
      },
      "outputs": [],
      "source": [
        "# Test filter, leave only recommender_system_test\n",
        "recommender_system_test = participants.query('ab_test== \"recommender_system_test\"')\n"
      ]
    },
    {
      "cell_type": "code",
      "execution_count": null,
      "metadata": {
        "scrolled": true,
        "id": "cJkGo3UeAWCB",
        "outputId": "de5408db-7ce8-4d3a-a4d9-a97349f7d45b"
      },
      "outputs": [
        {
          "data": {
            "text/html": [
              "<div>\n",
              "<style scoped>\n",
              "    .dataframe tbody tr th:only-of-type {\n",
              "        vertical-align: middle;\n",
              "    }\n",
              "\n",
              "    .dataframe tbody tr th {\n",
              "        vertical-align: top;\n",
              "    }\n",
              "\n",
              "    .dataframe thead th {\n",
              "        text-align: right;\n",
              "    }\n",
              "</style>\n",
              "<table border=\"1\" class=\"dataframe\">\n",
              "  <thead>\n",
              "    <tr style=\"text-align: right;\">\n",
              "      <th></th>\n",
              "      <th>user_id</th>\n",
              "    </tr>\n",
              "    <tr>\n",
              "      <th>region</th>\n",
              "      <th></th>\n",
              "    </tr>\n",
              "  </thead>\n",
              "  <tbody>\n",
              "    <tr>\n",
              "      <th>APAC</th>\n",
              "      <td>3153</td>\n",
              "    </tr>\n",
              "    <tr>\n",
              "      <th>CIS</th>\n",
              "      <td>3155</td>\n",
              "    </tr>\n",
              "    <tr>\n",
              "      <th>EU</th>\n",
              "      <td>46270</td>\n",
              "    </tr>\n",
              "    <tr>\n",
              "      <th>N.America</th>\n",
              "      <td>9155</td>\n",
              "    </tr>\n",
              "  </tbody>\n",
              "</table>\n",
              "</div>"
            ],
            "text/plain": [
              "           user_id\n",
              "region            \n",
              "APAC          3153\n",
              "CIS           3155\n",
              "EU           46270\n",
              "N.America     9155"
            ]
          },
          "execution_count": 13,
          "metadata": {},
          "output_type": "execute_result"
        }
      ],
      "source": [
        "new_users.groupby(['region']).agg({'user_id': 'nunique'})\n"
      ]
    },
    {
      "cell_type": "code",
      "execution_count": null,
      "metadata": {
        "id": "REFU6AaDAWCB"
      },
      "outputs": [],
      "source": [
        "# Leave only users from the EU\n",
        "new_users_eu = (\n",
        "    new_users.query('region == \"EU\"')\n",
        ")\n",
        "\n",
        "# Merge with new_users_eu\n",
        "recommender_system_test = recommender_system_test.merge(\n",
        "    new_users_eu[['user_id', 'first_date', 'region']],\n",
        "    on='user_id')"
      ]
    },
    {
      "cell_type": "code",
      "execution_count": null,
      "metadata": {
        "scrolled": true,
        "id": "cDpA1GzYAWCB",
        "outputId": "405d7e5d-ee1b-4a37-ae54-7599ba91c3fb"
      },
      "outputs": [
        {
          "name": "stdout",
          "output_type": "stream",
          "text": [
            "End date: 2020-12-30\n",
            "Days count: 23\n",
            "\n",
            "Enrollment start date: 2020-12-07\n",
            "End date for recruiting new users: 2020-12-21\n"
          ]
        }
      ],
      "source": [
        "# Display the date when the recruitment of new users was stopped without time\n",
        "print('End date:', events['event_dt'].max().date())\n",
        "print(\"Days count:\", (events['event_dt'].max() - events['event_dt'].min()).days)\n",
        "print()\n",
        "\n",
        "# Проверяем соответствие дат\n",
        "print('Enrollment start date:', recommender_system_test['first_date'].min().date())\n",
        "print('End date for recruiting new users:', recommender_system_test['first_date'].max().date())\n",
        "\n",
        "\n"
      ]
    },
    {
      "cell_type": "markdown",
      "metadata": {
        "id": "7w5H1n3vAWCC"
      },
      "source": []
    },
    {
      "cell_type": "markdown",
      "metadata": {
        "id": "BQRDOhhnAWCC"
      },
      "source": [
        "**Summary:**\n",
        "\n",
        "- Date of start and end of recruitment in the AV test corresponds to\n",
        "- Events were recorded only until 30.12, 5 days were not recorded."
      ]
    },
    {
      "cell_type": "code",
      "execution_count": null,
      "metadata": {
        "id": "-rlYSzBtAWCC"
      },
      "outputs": [],
      "source": [
        "users = new_users[new_users['first_date'] <= '2020-12-21']\n"
      ]
    },
    {
      "cell_type": "code",
      "execution_count": null,
      "metadata": {
        "id": "apGBfnxyAWCC",
        "outputId": "2eacb1a9-7520-43c7-87b8-3492fb0b7fea"
      },
      "outputs": [
        {
          "data": {
            "image/png": "[encoded data removed]",
            "text/plain": [
              "<Figure size 432x432 with 1 Axes>"
            ]
          },
          "metadata": {},
          "output_type": "display_data"
        }
      ],
      "source": [
        "prcnt = recommender_system_test['region'].value_counts()[0] / users['region'].value_counts()[0]\n",
        "\n",
        "labels = ['New users from EU', 'Other']\n",
        "sizes = [prcnt, 1 - prcnt]\n",
        "\n",
        "fig, ax = plt.subplots()\n",
        "ax.pie(sizes, labels=labels, autopct='%1.1f%%', startangle=90, textprops={'fontsize': 16})\n",
        "ax.set_title('Share of EU users involved in the test', fontsize=18)\n",
        "fig.set_size_inches(6, 6)\n",
        "\n",
        "plt.show()"
      ]
    },
    {
      "cell_type": "markdown",
      "metadata": {
        "id": "D8BCozygAWCC"
      },
      "source": [
        "**Summary:**\n",
        "\n",
        "- Share of users matched"
      ]
    },
    {
      "cell_type": "code",
      "execution_count": null,
      "metadata": {
        "id": "umZFmWiVAWCC",
        "outputId": "da4966e5-101c-4970-e79d-b2d54427b962"
      },
      "outputs": [
        {
          "name": "stdout",
          "output_type": "stream",
          "text": [
            "Count of participants: 6351\n"
          ]
        }
      ],
      "source": [
        "print('Count of participants:', recommender_system_test['user_id'].nunique())"
      ]
    },
    {
      "cell_type": "markdown",
      "metadata": {
        "id": "jr64oxS-AWCC"
      },
      "source": [
        "**Summary:**\n",
        "\n",
        "- The number of participants is 351 more than specified in the ToR"
      ]
    },
    {
      "cell_type": "markdown",
      "metadata": {
        "id": "4E_CKKdkAWCC"
      },
      "source": [
        "### Test time"
      ]
    },
    {
      "cell_type": "code",
      "execution_count": null,
      "metadata": {
        "id": "99nu8xZfAWCC",
        "outputId": "c5ab7bc0-4d01-4f70-8cca-d0beefb5fed3"
      },
      "outputs": [
        {
          "data": {
            "text/html": [
              "<div>\n",
              "<style scoped>\n",
              "    .dataframe tbody tr th:only-of-type {\n",
              "        vertical-align: middle;\n",
              "    }\n",
              "\n",
              "    .dataframe tbody tr th {\n",
              "        vertical-align: top;\n",
              "    }\n",
              "\n",
              "    .dataframe thead th {\n",
              "        text-align: right;\n",
              "    }\n",
              "</style>\n",
              "<table border=\"1\" class=\"dataframe\">\n",
              "  <thead>\n",
              "    <tr style=\"text-align: right;\">\n",
              "      <th></th>\n",
              "      <th>name</th>\n",
              "      <th>regions</th>\n",
              "      <th>start_dt</th>\n",
              "      <th>finish_dt</th>\n",
              "    </tr>\n",
              "  </thead>\n",
              "  <tbody>\n",
              "    <tr>\n",
              "      <th>0</th>\n",
              "      <td>Christmas&amp;New Year Promo</td>\n",
              "      <td>EU, N.America</td>\n",
              "      <td>2020-12-25</td>\n",
              "      <td>2021-01-03</td>\n",
              "    </tr>\n",
              "  </tbody>\n",
              "</table>\n",
              "</div>"
            ],
            "text/plain": [
              "                       name        regions   start_dt  finish_dt\n",
              "0  Christmas&New Year Promo  EU, N.America 2020-12-25 2021-01-03"
            ]
          },
          "execution_count": 19,
          "metadata": {},
          "output_type": "execute_result"
        }
      ],
      "source": [
        "# Overlapping Marketing Events\n",
        "marketing_events[(marketing_events['start_dt'] >= '2020-12-07') & (marketing_events['start_dt'] < '2020-12-30')]\n"
      ]
    },
    {
      "cell_type": "code",
      "execution_count": null,
      "metadata": {
        "scrolled": true,
        "id": "hkYTBOXeAWCC",
        "outputId": "fd47f0db-4440-45ff-b393-c6735b55facb"
      },
      "outputs": [
        {
          "data": {
            "image/png": "[encoded data removed]",
            "text/plain": [
              "<Figure size 1080x360 with 1 Axes>"
            ]
          },
          "metadata": {
            "needs_background": "light"
          },
          "output_type": "display_data"
        }
      ],
      "source": [
        "# Build a graph of the distribution of the number of events in groups by day.\n",
        "plt.figure(figsize=(15,5))\n",
        "sns.histplot(data=events, x='event_dt', bins=40, kde=True, multiple='stack')\n",
        "plt.xlabel('Date', fontsize=12)\n",
        "plt.ylabel('Count events', fontsize=12)\n",
        "plt.title ('Distribution of the number of events in groups by day', fontsize=14)\n",
        "plt.grid()\n",
        "plt.show()"
      ]
    },
    {
      "cell_type": "markdown",
      "metadata": {
        "id": "HCmRyhUbAWCC"
      },
      "source": [
        "**Вывод:**\n",
        "\n",
        "Events, holidays, etc. - affect the two groups equally. This is just a change in the quality of users, but the relative conversion of group B to group A will not have an impact. But this must be taken into account when studying absolute data."
      ]
    },
    {
      "cell_type": "markdown",
      "metadata": {
        "id": "Ln438z45AWCC"
      },
      "source": [
        "### Аудитория теста"
      ]
    },
    {
      "cell_type": "code",
      "execution_count": null,
      "metadata": {
        "id": "FlZhzOvVAWCC",
        "outputId": "542939d0-d848-492b-9146-2e89073304f5"
      },
      "outputs": [
        {
          "name": "stdout",
          "output_type": "stream",
          "text": [
            "Tests: ['recommender_system_test' 'interface_eu_test']\n"
          ]
        }
      ],
      "source": [
        "print('Tests:', participants['ab_test'].unique())\n"
      ]
    },
    {
      "cell_type": "code",
      "execution_count": null,
      "metadata": {
        "id": "kldVzaP1AWCC",
        "outputId": "e828a153-1728-486a-d0e8-fbb26670a600"
      },
      "outputs": [
        {
          "name": "stdout",
          "output_type": "stream",
          "text": [
            "Count of users who participated in both tests: 1602\n"
          ]
        }
      ],
      "source": [
        "count = participants.groupby('user_id').agg({'ab_test':'nunique'}).query('ab_test > 1').count()[0]\n",
        "print(f\"Count of users who participated in both tests: {count}\")"
      ]
    },
    {
      "cell_type": "code",
      "execution_count": null,
      "metadata": {
        "id": "8WbAv6RLAWCD"
      },
      "outputs": [],
      "source": [
        "interface_eu_test_users = (\n",
        "    participants\n",
        "    .query('ab_test == \"interface_eu_test\"')['user_id']\n",
        ")\n",
        "\n",
        "\n",
        "recommender_system_test = (\n",
        "    recommender_system_test\n",
        "    .query('user_id not in @interface_eu_test_users')\n",
        ")\n"
      ]
    },
    {
      "cell_type": "code",
      "execution_count": null,
      "metadata": {
        "scrolled": true,
        "id": "_fjZdUCXAWCD",
        "outputId": "a24fa726-59e5-4eda-d898-18141597766f"
      },
      "outputs": [
        {
          "data": {
            "text/html": [
              "<div>\n",
              "<style scoped>\n",
              "    .dataframe tbody tr th:only-of-type {\n",
              "        vertical-align: middle;\n",
              "    }\n",
              "\n",
              "    .dataframe tbody tr th {\n",
              "        vertical-align: top;\n",
              "    }\n",
              "\n",
              "    .dataframe thead th {\n",
              "        text-align: right;\n",
              "    }\n",
              "</style>\n",
              "<table border=\"1\" class=\"dataframe\">\n",
              "  <thead>\n",
              "    <tr style=\"text-align: right;\">\n",
              "      <th></th>\n",
              "      <th>user_id</th>\n",
              "      <th>group</th>\n",
              "      <th>ab_test</th>\n",
              "      <th>first_date</th>\n",
              "      <th>region</th>\n",
              "    </tr>\n",
              "  </thead>\n",
              "  <tbody>\n",
              "    <tr>\n",
              "      <th>0</th>\n",
              "      <td>D1ABA3E2887B6A73</td>\n",
              "      <td>A</td>\n",
              "      <td>recommender_system_test</td>\n",
              "      <td>2020-12-07</td>\n",
              "      <td>EU</td>\n",
              "    </tr>\n",
              "    <tr>\n",
              "      <th>1</th>\n",
              "      <td>A7A3664BD6242119</td>\n",
              "      <td>A</td>\n",
              "      <td>recommender_system_test</td>\n",
              "      <td>2020-12-20</td>\n",
              "      <td>EU</td>\n",
              "    </tr>\n",
              "    <tr>\n",
              "      <th>4</th>\n",
              "      <td>482F14783456D21B</td>\n",
              "      <td>B</td>\n",
              "      <td>recommender_system_test</td>\n",
              "      <td>2020-12-14</td>\n",
              "      <td>EU</td>\n",
              "    </tr>\n",
              "    <tr>\n",
              "      <th>5</th>\n",
              "      <td>4FF2998A348C484F</td>\n",
              "      <td>A</td>\n",
              "      <td>recommender_system_test</td>\n",
              "      <td>2020-12-20</td>\n",
              "      <td>EU</td>\n",
              "    </tr>\n",
              "    <tr>\n",
              "      <th>6</th>\n",
              "      <td>7473E0943673C09E</td>\n",
              "      <td>A</td>\n",
              "      <td>recommender_system_test</td>\n",
              "      <td>2020-12-16</td>\n",
              "      <td>EU</td>\n",
              "    </tr>\n",
              "    <tr>\n",
              "      <th>...</th>\n",
              "      <td>...</td>\n",
              "      <td>...</td>\n",
              "      <td>...</td>\n",
              "      <td>...</td>\n",
              "      <td>...</td>\n",
              "    </tr>\n",
              "    <tr>\n",
              "      <th>6345</th>\n",
              "      <td>A23B0A7FFF375BFF</td>\n",
              "      <td>B</td>\n",
              "      <td>recommender_system_test</td>\n",
              "      <td>2020-12-12</td>\n",
              "      <td>EU</td>\n",
              "    </tr>\n",
              "    <tr>\n",
              "      <th>6346</th>\n",
              "      <td>7C5C12FA1B5AB710</td>\n",
              "      <td>A</td>\n",
              "      <td>recommender_system_test</td>\n",
              "      <td>2020-12-21</td>\n",
              "      <td>EU</td>\n",
              "    </tr>\n",
              "    <tr>\n",
              "      <th>6347</th>\n",
              "      <td>91C3969B8A72B908</td>\n",
              "      <td>B</td>\n",
              "      <td>recommender_system_test</td>\n",
              "      <td>2020-12-09</td>\n",
              "      <td>EU</td>\n",
              "    </tr>\n",
              "    <tr>\n",
              "      <th>6348</th>\n",
              "      <td>E26F13A65CEAC6EA</td>\n",
              "      <td>A</td>\n",
              "      <td>recommender_system_test</td>\n",
              "      <td>2020-12-17</td>\n",
              "      <td>EU</td>\n",
              "    </tr>\n",
              "    <tr>\n",
              "      <th>6350</th>\n",
              "      <td>80712ED4EA1B52A5</td>\n",
              "      <td>A</td>\n",
              "      <td>recommender_system_test</td>\n",
              "      <td>2020-12-14</td>\n",
              "      <td>EU</td>\n",
              "    </tr>\n",
              "  </tbody>\n",
              "</table>\n",
              "<p>4749 rows × 5 columns</p>\n",
              "</div>"
            ],
            "text/plain": [
              "               user_id group                  ab_test first_date region\n",
              "0     D1ABA3E2887B6A73     A  recommender_system_test 2020-12-07     EU\n",
              "1     A7A3664BD6242119     A  recommender_system_test 2020-12-20     EU\n",
              "4     482F14783456D21B     B  recommender_system_test 2020-12-14     EU\n",
              "5     4FF2998A348C484F     A  recommender_system_test 2020-12-20     EU\n",
              "6     7473E0943673C09E     A  recommender_system_test 2020-12-16     EU\n",
              "...                ...   ...                      ...        ...    ...\n",
              "6345  A23B0A7FFF375BFF     B  recommender_system_test 2020-12-12     EU\n",
              "6346  7C5C12FA1B5AB710     A  recommender_system_test 2020-12-21     EU\n",
              "6347  91C3969B8A72B908     B  recommender_system_test 2020-12-09     EU\n",
              "6348  E26F13A65CEAC6EA     A  recommender_system_test 2020-12-17     EU\n",
              "6350  80712ED4EA1B52A5     A  recommender_system_test 2020-12-14     EU\n",
              "\n",
              "[4749 rows x 5 columns]"
            ]
          },
          "execution_count": 24,
          "metadata": {},
          "output_type": "execute_result"
        }
      ],
      "source": [
        "recommender_system_test"
      ]
    },
    {
      "cell_type": "markdown",
      "metadata": {
        "id": "3nZMTf6TAWCD"
      },
      "source": [
        "<div class=\"alert alert-block alert-warning\">📝\n",
        "    \n",
        "\n",
        "__Комментарий от тимлида №1__\n",
        "    \n",
        "Верное наблюдение.    \n",
        "    \n",
        "В данной ситуации, наиболее корректным решением будет проверить в какие именно группы теста interface_eu_test попали пользователи теста recommender_system_test. Ведь если они попали только в контрольную группу - это значит, что тест interface_eu_test никак на них не повлиял\n",
        "</div>"
      ]
    },
    {
      "cell_type": "code",
      "execution_count": null,
      "metadata": {
        "id": "ow0qpTw5AWCD"
      },
      "outputs": [],
      "source": [
        "recommender_system_test_events = recommender_system_test.merge(\n",
        "    events[['user_id', 'event_dt', 'event_name', 'details']],\n",
        "    on='user_id',\n",
        "    how='left')\n"
      ]
    },
    {
      "cell_type": "code",
      "execution_count": null,
      "metadata": {
        "scrolled": true,
        "id": "ucb2r4XcAWCD",
        "outputId": "07d72740-be2d-443c-e459-37e0fd0a58ce"
      },
      "outputs": [
        {
          "data": {
            "text/plain": [
              "ab_test    0\n",
              "dtype: int64"
            ]
          },
          "execution_count": 26,
          "metadata": {},
          "output_type": "execute_result"
        }
      ],
      "source": [
        "recommender_system_test_events.groupby('user_id').agg({'ab_test':'nunique'}).query('ab_test > 1').count()"
      ]
    },
    {
      "cell_type": "code",
      "execution_count": null,
      "metadata": {
        "id": "JdNdt4-NAWCD",
        "outputId": "41baf3f3-c558-4982-a48b-b661a9f9cbbf"
      },
      "outputs": [
        {
          "data": {
            "text/plain": [
              "group    0\n",
              "dtype: int64"
            ]
          },
          "execution_count": 27,
          "metadata": {},
          "output_type": "execute_result"
        }
      ],
      "source": [
        "# Users participating in two groups\n",
        "(\n",
        "    recommender_system_test_events\n",
        "    .groupby('user_id')\n",
        "    .agg({'group': 'nunique'})\n",
        "    .query('group > 1')\n",
        "    .count()\n",
        ")"
      ]
    },
    {
      "cell_type": "code",
      "execution_count": null,
      "metadata": {
        "scrolled": true,
        "id": "7a7O77FrAWCD"
      },
      "outputs": [],
      "source": [
        "# calculate the lifetime of the client.\n",
        "recommender_system_test_events['lifetime'] = \\\n",
        "        (recommender_system_test_events['event_dt'] - recommender_system_test_events['first_date']).dt.days\n",
        "\n"
      ]
    },
    {
      "cell_type": "code",
      "execution_count": null,
      "metadata": {
        "id": "ioiptWKaAWCD",
        "outputId": "ed17093d-c114-477b-8b1a-bcb187dac3f4"
      },
      "outputs": [
        {
          "name": "stdout",
          "output_type": "stream",
          "text": [
            "Count of participants: 2594\n"
          ]
        }
      ],
      "source": [
        "recommender_system_test_events = recommender_system_test_events.query('lifetime <= 14')\n",
        "print('Count of participants:', recommender_system_test_events['user_id'].nunique())"
      ]
    },
    {
      "cell_type": "code",
      "execution_count": null,
      "metadata": {
        "id": "dZl7eJWDAWCD",
        "outputId": "cc0a56fc-3c54-408f-b32f-18d4842586db"
      },
      "outputs": [
        {
          "data": {
            "text/html": [
              "<div>\n",
              "<style scoped>\n",
              "    .dataframe tbody tr th:only-of-type {\n",
              "        vertical-align: middle;\n",
              "    }\n",
              "\n",
              "    .dataframe tbody tr th {\n",
              "        vertical-align: top;\n",
              "    }\n",
              "\n",
              "    .dataframe thead th {\n",
              "        text-align: right;\n",
              "    }\n",
              "</style>\n",
              "<table border=\"1\" class=\"dataframe\">\n",
              "  <thead>\n",
              "    <tr style=\"text-align: right;\">\n",
              "      <th></th>\n",
              "      <th>user_id</th>\n",
              "      <th>group</th>\n",
              "      <th>ab_test</th>\n",
              "      <th>first_date</th>\n",
              "      <th>region</th>\n",
              "      <th>event_dt</th>\n",
              "      <th>event_name</th>\n",
              "      <th>details</th>\n",
              "      <th>lifetime</th>\n",
              "    </tr>\n",
              "  </thead>\n",
              "  <tbody>\n",
              "    <tr>\n",
              "      <th>0</th>\n",
              "      <td>D1ABA3E2887B6A73</td>\n",
              "      <td>A</td>\n",
              "      <td>recommender_system_test</td>\n",
              "      <td>2020-12-07</td>\n",
              "      <td>EU</td>\n",
              "      <td>2020-12-07 14:43:27</td>\n",
              "      <td>purchase</td>\n",
              "      <td>99.99</td>\n",
              "      <td>0.0</td>\n",
              "    </tr>\n",
              "    <tr>\n",
              "      <th>2</th>\n",
              "      <td>D1ABA3E2887B6A73</td>\n",
              "      <td>A</td>\n",
              "      <td>recommender_system_test</td>\n",
              "      <td>2020-12-07</td>\n",
              "      <td>EU</td>\n",
              "      <td>2020-12-07 14:43:29</td>\n",
              "      <td>product_cart</td>\n",
              "      <td>NaN</td>\n",
              "      <td>0.0</td>\n",
              "    </tr>\n",
              "    <tr>\n",
              "      <th>4</th>\n",
              "      <td>D1ABA3E2887B6A73</td>\n",
              "      <td>A</td>\n",
              "      <td>recommender_system_test</td>\n",
              "      <td>2020-12-07</td>\n",
              "      <td>EU</td>\n",
              "      <td>2020-12-07 14:43:27</td>\n",
              "      <td>product_page</td>\n",
              "      <td>NaN</td>\n",
              "      <td>0.0</td>\n",
              "    </tr>\n",
              "    <tr>\n",
              "      <th>6</th>\n",
              "      <td>D1ABA3E2887B6A73</td>\n",
              "      <td>A</td>\n",
              "      <td>recommender_system_test</td>\n",
              "      <td>2020-12-07</td>\n",
              "      <td>EU</td>\n",
              "      <td>2020-12-07 14:43:27</td>\n",
              "      <td>login</td>\n",
              "      <td>NaN</td>\n",
              "      <td>0.0</td>\n",
              "    </tr>\n",
              "    <tr>\n",
              "      <th>8</th>\n",
              "      <td>A7A3664BD6242119</td>\n",
              "      <td>A</td>\n",
              "      <td>recommender_system_test</td>\n",
              "      <td>2020-12-20</td>\n",
              "      <td>EU</td>\n",
              "      <td>2020-12-20 15:46:06</td>\n",
              "      <td>product_page</td>\n",
              "      <td>NaN</td>\n",
              "      <td>0.0</td>\n",
              "    </tr>\n",
              "    <tr>\n",
              "      <th>...</th>\n",
              "      <td>...</td>\n",
              "      <td>...</td>\n",
              "      <td>...</td>\n",
              "      <td>...</td>\n",
              "      <td>...</td>\n",
              "      <td>...</td>\n",
              "      <td>...</td>\n",
              "      <td>...</td>\n",
              "      <td>...</td>\n",
              "    </tr>\n",
              "    <tr>\n",
              "      <th>19676</th>\n",
              "      <td>80712ED4EA1B52A5</td>\n",
              "      <td>A</td>\n",
              "      <td>recommender_system_test</td>\n",
              "      <td>2020-12-14</td>\n",
              "      <td>EU</td>\n",
              "      <td>2020-12-15 20:10:06</td>\n",
              "      <td>product_page</td>\n",
              "      <td>NaN</td>\n",
              "      <td>1.0</td>\n",
              "    </tr>\n",
              "    <tr>\n",
              "      <th>19677</th>\n",
              "      <td>80712ED4EA1B52A5</td>\n",
              "      <td>A</td>\n",
              "      <td>recommender_system_test</td>\n",
              "      <td>2020-12-14</td>\n",
              "      <td>EU</td>\n",
              "      <td>2020-12-20 20:01:34</td>\n",
              "      <td>product_page</td>\n",
              "      <td>NaN</td>\n",
              "      <td>6.0</td>\n",
              "    </tr>\n",
              "    <tr>\n",
              "      <th>19678</th>\n",
              "      <td>80712ED4EA1B52A5</td>\n",
              "      <td>A</td>\n",
              "      <td>recommender_system_test</td>\n",
              "      <td>2020-12-14</td>\n",
              "      <td>EU</td>\n",
              "      <td>2020-12-14 05:48:50</td>\n",
              "      <td>login</td>\n",
              "      <td>NaN</td>\n",
              "      <td>0.0</td>\n",
              "    </tr>\n",
              "    <tr>\n",
              "      <th>19679</th>\n",
              "      <td>80712ED4EA1B52A5</td>\n",
              "      <td>A</td>\n",
              "      <td>recommender_system_test</td>\n",
              "      <td>2020-12-14</td>\n",
              "      <td>EU</td>\n",
              "      <td>2020-12-15 20:10:03</td>\n",
              "      <td>login</td>\n",
              "      <td>NaN</td>\n",
              "      <td>1.0</td>\n",
              "    </tr>\n",
              "    <tr>\n",
              "      <th>19680</th>\n",
              "      <td>80712ED4EA1B52A5</td>\n",
              "      <td>A</td>\n",
              "      <td>recommender_system_test</td>\n",
              "      <td>2020-12-14</td>\n",
              "      <td>EU</td>\n",
              "      <td>2020-12-20 20:01:32</td>\n",
              "      <td>login</td>\n",
              "      <td>NaN</td>\n",
              "      <td>6.0</td>\n",
              "    </tr>\n",
              "  </tbody>\n",
              "</table>\n",
              "<p>17087 rows × 9 columns</p>\n",
              "</div>"
            ],
            "text/plain": [
              "                user_id group                  ab_test first_date region  \\\n",
              "0      D1ABA3E2887B6A73     A  recommender_system_test 2020-12-07     EU   \n",
              "2      D1ABA3E2887B6A73     A  recommender_system_test 2020-12-07     EU   \n",
              "4      D1ABA3E2887B6A73     A  recommender_system_test 2020-12-07     EU   \n",
              "6      D1ABA3E2887B6A73     A  recommender_system_test 2020-12-07     EU   \n",
              "8      A7A3664BD6242119     A  recommender_system_test 2020-12-20     EU   \n",
              "...                 ...   ...                      ...        ...    ...   \n",
              "19676  80712ED4EA1B52A5     A  recommender_system_test 2020-12-14     EU   \n",
              "19677  80712ED4EA1B52A5     A  recommender_system_test 2020-12-14     EU   \n",
              "19678  80712ED4EA1B52A5     A  recommender_system_test 2020-12-14     EU   \n",
              "19679  80712ED4EA1B52A5     A  recommender_system_test 2020-12-14     EU   \n",
              "19680  80712ED4EA1B52A5     A  recommender_system_test 2020-12-14     EU   \n",
              "\n",
              "                 event_dt    event_name  details  lifetime  \n",
              "0     2020-12-07 14:43:27      purchase    99.99       0.0  \n",
              "2     2020-12-07 14:43:29  product_cart      NaN       0.0  \n",
              "4     2020-12-07 14:43:27  product_page      NaN       0.0  \n",
              "6     2020-12-07 14:43:27         login      NaN       0.0  \n",
              "8     2020-12-20 15:46:06  product_page      NaN       0.0  \n",
              "...                   ...           ...      ...       ...  \n",
              "19676 2020-12-15 20:10:06  product_page      NaN       1.0  \n",
              "19677 2020-12-20 20:01:34  product_page      NaN       6.0  \n",
              "19678 2020-12-14 05:48:50         login      NaN       0.0  \n",
              "19679 2020-12-15 20:10:03         login      NaN       1.0  \n",
              "19680 2020-12-20 20:01:32         login      NaN       6.0  \n",
              "\n",
              "[17087 rows x 9 columns]"
            ]
          },
          "execution_count": 30,
          "metadata": {},
          "output_type": "execute_result"
        }
      ],
      "source": [
        "recommender_system_test_events"
      ]
    },
    {
      "cell_type": "code",
      "execution_count": null,
      "metadata": {
        "id": "vQhm8qAQAWCD",
        "outputId": "5a318bba-adde-4037-d6d2-6d8d33b28302"
      },
      "outputs": [
        {
          "data": {
            "image/png": "[encoded data removed]",
            "text/plain": [
              "<Figure size 432x432 with 1 Axes>"
            ]
          },
          "metadata": {},
          "output_type": "display_data"
        }
      ],
      "source": [
        "unique_users = recommender_system_test_events.groupby('group')['user_id'].nunique()\n",
        "\n",
        "labels = unique_users.index\n",
        "sizes = unique_users.values\n",
        "fig, ax = plt.subplots()\n",
        "ax.pie(sizes, labels=labels, autopct='%1.0f%%', startangle=90, textprops={'fontsize': 16})\n",
        "ax.set_title('Distribution of test participants \"recommender_system_test\"', fontsize=18)\n",
        "fig.set_size_inches(6, 6)\n",
        "plt.show()"
      ]
    },
    {
      "cell_type": "code",
      "execution_count": null,
      "metadata": {
        "id": "z2kQ2oc-AWCD",
        "outputId": "a6042afe-1139-46b3-80df-759b165321c3"
      },
      "outputs": [
        {
          "data": {
            "text/plain": [
              "group\n",
              "A    1939\n",
              "B     655\n",
              "Name: user_id, dtype: int64"
            ]
          },
          "execution_count": 32,
          "metadata": {},
          "output_type": "execute_result"
        }
      ],
      "source": [
        "unique_users"
      ]
    },
    {
      "cell_type": "markdown",
      "metadata": {
        "id": "orysTgR2AWCE"
      },
      "source": [
        "**Things to consider:**\n",
        "- Control the distribution of users between groups and tests\n",
        "- Try to run tests outside of marketing campaigns\n",
        "- The samples were large, in this case at least 6000 as stated\n",
        "- Define metrics\n",
        "- Write TK\n",
        "- Define test duration\n",
        "- Take into account other additional factors that may affect"
      ]
    },
    {
      "cell_type": "markdown",
      "metadata": {
        "id": "tfZ75UC_AWCE"
      },
      "source": [
        "**Conclusion:**\n",
        "\n",
        "- In the samples, users are not evenly distributed, the ratio of A to I is 1 to 3\n",
        "- Date of start and end of recruitment in the AV test corresponds to\n",
        "- Events were recorded only until 12/30, 4 days were not recorded. Expected factor: New Year's festivities. You need to clarify the reasons for the failure\n",
        "- Share of users matched\n",
        "- The start of the marketing event had no effect\n",
        "- The number of participants in the A / B test turned out to be 2 times less than in the TK\n",
        "- 1600 users were included in 2 A/B tests"
      ]
    },
    {
      "cell_type": "markdown",
      "metadata": {
        "id": "o1-kbTqdAWCE"
      },
      "source": [
        "## EDA"
      ]
    },
    {
      "cell_type": "markdown",
      "metadata": {
        "id": "BReX_fMKAWCE"
      },
      "source": [
        "### Number of events per user"
      ]
    },
    {
      "cell_type": "code",
      "execution_count": null,
      "metadata": {
        "id": "mLeUnmL1AWCE",
        "outputId": "16986ffa-46d5-45f1-e3a5-2dbd0dbc8189"
      },
      "outputs": [
        {
          "data": {
            "image/png": "[encoded data removed]",
            "text/plain": [
              "<Figure size 1152x504 with 1 Axes>"
            ]
          },
          "metadata": {
            "needs_background": "light"
          },
          "output_type": "display_data"
        }
      ],
      "source": [
        "users_per_day = recommender_system_test_events.groupby(['group', 'event_dt'])['user_id'].nunique().reset_index()\n",
        "\n",
        "plt.figure(figsize=(16,7))\n",
        "sns.histplot(data=recommender_system_test_events.groupby(['user_id', 'group']).size().reset_index(name='event_count'), x='event_count', hue='group', multiple='stack', kde=True, bins=50)\n",
        "plt.xlabel('Count of events per user', fontsize=12)\n",
        "plt.ylabel('Count users', fontsize=12)\n",
        "plt.title('Distribution of the number of events per user in each group', fontsize=14)\n",
        "plt.grid()\n",
        "plt.show()"
      ]
    },
    {
      "cell_type": "code",
      "execution_count": null,
      "metadata": {
        "id": "zIU4xsMkAWCE",
        "outputId": "e82598d7-8f34-428e-e876-66fd970472b5"
      },
      "outputs": [
        {
          "data": {
            "image/png": "[encoded data removed]",
            "text/plain": [
              "<Figure size 1152x504 with 1 Axes>"
            ]
          },
          "metadata": {
            "needs_background": "light"
          },
          "output_type": "display_data"
        }
      ],
      "source": [
        "# Build a graph of the distribution of the number of events in groups by day.\n",
        "plt.figure(figsize=(16,7))\n",
        "sns.histplot(data=recommender_system_test_events, x='event_dt', bins=40, hue='group', kde=True, multiple='stack')\n",
        "plt.xlabel('Date', fontsize=12)\n",
        "plt.ylabel('Count of events', fontsize=12)\n",
        "plt.title ('Distribution of the number of events in groups by day', fontsize=14)\n",
        "plt.grid()\n",
        "plt.show()"
      ]
    },
    {
      "cell_type": "code",
      "execution_count": null,
      "metadata": {
        "id": "W_Dvr0aTAWCE",
        "outputId": "374b2525-24da-4e4c-c87a-46247eb4af46"
      },
      "outputs": [
        {
          "data": {
            "image/png": "[encoded data removed]",
            "text/plain": [
              "<Figure size 1152x504 with 1 Axes>"
            ]
          },
          "metadata": {
            "needs_background": "light"
          },
          "output_type": "display_data"
        }
      ],
      "source": [
        "users = recommender_system_test_events.groupby(['user_id', 'group'])['first_date'].min().reset_index()\n",
        "\n",
        "new_users_by_day = users.groupby(['first_date', 'group'])['user_id'].count().reset_index()\n",
        "\n",
        "plt.figure(figsize=(16,7))\n",
        "sns.lineplot(data=new_users_by_day, x='first_date', y='user_id', hue='group')\n",
        "plt.xlabel('Engagement date', fontsize=12)\n",
        "        \n",
        "plt.ylabel('Count new users', fontsize=12)\n",
        "plt.title('The number of new users by day, broken down by groups', fontsize=14)\n",
        "plt.grid()\n",
        "plt.show()"
      ]
    },
    {
      "cell_type": "markdown",
      "metadata": {
        "id": "F3mFs2kgAWCE"
      },
      "source": [
        "**Summary:**\n",
        "\n",
        "- Events are distributed with a significant difference, perhaps a large difference in groups affects\n",
        "- There is a general growth dynamics from December 14 to December 21 and then a gradual decline\n",
        "- from the 14th, a sharp jump in attracting new users, which influenced the jump in events in the same period"
      ]
    },
    {
      "cell_type": "markdown",
      "metadata": {
        "id": "P8vjeBp2AWCE"
      },
      "source": [
        "### Changing the conversion in the funnel in the samples at different stages"
      ]
    },
    {
      "cell_type": "code",
      "execution_count": null,
      "metadata": {
        "scrolled": true,
        "id": "QSmrzSsjAWCE",
        "outputId": "8998a705-12a6-4340-c913-c7b6ae52410f"
      },
      "outputs": [
        {
          "data": {
            "text/plain": [
              "group\n",
              "A    1939\n",
              "B     655\n",
              "Name: user_id, dtype: int64"
            ]
          },
          "execution_count": 36,
          "metadata": {},
          "output_type": "execute_result"
        }
      ],
      "source": [
        "unique_users"
      ]
    },
    {
      "cell_type": "code",
      "execution_count": null,
      "metadata": {
        "id": "H5TxKDxIAWCE",
        "outputId": "566a0808-68b6-48c7-b48a-7062842c7180"
      },
      "outputs": [
        {
          "data": {
            "text/html": [
              "<div>\n",
              "<style scoped>\n",
              "    .dataframe tbody tr th:only-of-type {\n",
              "        vertical-align: middle;\n",
              "    }\n",
              "\n",
              "    .dataframe tbody tr th {\n",
              "        vertical-align: top;\n",
              "    }\n",
              "\n",
              "    .dataframe thead th {\n",
              "        text-align: right;\n",
              "    }\n",
              "</style>\n",
              "<table border=\"1\" class=\"dataframe\">\n",
              "  <thead>\n",
              "    <tr style=\"text-align: right;\">\n",
              "      <th>group</th>\n",
              "      <th>event_name</th>\n",
              "      <th>A</th>\n",
              "      <th>B</th>\n",
              "    </tr>\n",
              "  </thead>\n",
              "  <tbody>\n",
              "    <tr>\n",
              "      <th>0</th>\n",
              "      <td>Логин</td>\n",
              "      <td>1939</td>\n",
              "      <td>654</td>\n",
              "    </tr>\n",
              "    <tr>\n",
              "      <th>1</th>\n",
              "      <td>Страница продукта</td>\n",
              "      <td>1265</td>\n",
              "      <td>367</td>\n",
              "    </tr>\n",
              "    <tr>\n",
              "      <th>2</th>\n",
              "      <td>Корзина</td>\n",
              "      <td>589</td>\n",
              "      <td>184</td>\n",
              "    </tr>\n",
              "    <tr>\n",
              "      <th>3</th>\n",
              "      <td>Покупка</td>\n",
              "      <td>613</td>\n",
              "      <td>191</td>\n",
              "    </tr>\n",
              "  </tbody>\n",
              "</table>\n",
              "</div>"
            ],
            "text/plain": [
              "group         event_name     A    B\n",
              "0                  Логин  1939  654\n",
              "1      Страница продукта  1265  367\n",
              "2                Корзина   589  184\n",
              "3                Покупка   613  191"
            ]
          },
          "execution_count": 37,
          "metadata": {},
          "output_type": "execute_result"
        }
      ],
      "source": [
        "funnel_events = recommender_system_test_events.pivot_table(index='event_name', columns='group', values='user_id', aggfunc='nunique')\\\n",
        "                             .reindex(['login', 'product_page', 'product_cart', 'purchase'])\\\n",
        "                             .reset_index()\n",
        "funnel_events['event_name'] = funnel_events['event_name'].replace({'product_page': 'Страница продукта', 'login': 'Логин',\\\n",
        "                                                'product_cart': 'Корзина','purchase': 'Покупка'})\n",
        "\n",
        "funnel_events\n"
      ]
    },
    {
      "cell_type": "code",
      "execution_count": null,
      "metadata": {
        "id": "K3gsyx2bAWCF",
        "outputId": "87550ce8-07b4-4006-8a20-2aa2a0c1e178"
      },
      "outputs": [
        {
          "data": {
            "image/png": "[encoded data removed]"
          },
          "metadata": {},
          "output_type": "display_data"
        }
      ],
      "source": [
        "# Create a funnel object for group A\n",
        "fig = go.Figure(go.Funnel(\n",
        "    name='Группа A',\n",
        "    y = funnel_events['event_name'],\n",
        "    x = funnel_events['A'],\n",
        "    textposition = 'inside',\n",
        "    textinfo = 'value+percent previous+percent initial'\n",
        "))\n",
        "\n",
        "# Add funnel object for group B\n",
        "fig.add_trace(go.Funnel(\n",
        "    name='Группа B',\n",
        "    y = funnel_events['event_name'],\n",
        "    x = funnel_events['B'],\n",
        "    textposition = 'auto',\n",
        "    textinfo = 'value+percent previous+percent initial'\n",
        "))\n",
        "\n",
        "# Set up the layout\n",
        "fig.update_layout(\n",
        "    title={\n",
        "        'text': 'Воронка по группам А/В',\n",
        "        'x': 0.5,\n",
        "        'y': 0.95,\n",
        "        'xanchor': 'center',\n",
        "        'yanchor': 'top'\n",
        "    },\n",
        "    updatemenus=[go.layout.Updatemenu(\n",
        "        buttons=list([\n",
        "            dict(\n",
        "                args=[{'visible': [True, False]}],\n",
        "                label=\"Группа A\",\n",
        "                method=\"update\"\n",
        "            ),\n",
        "            dict(\n",
        "                args=[{'visible': [False, True]}],\n",
        "                label=\"Группа B\",\n",
        "                method=\"update\"\n",
        "            ),\n",
        "            dict(\n",
        "                args=[{'visible': [True, True]}],\n",
        "                label=\"Обе группы\",\n",
        "                method=\"update\"\n",
        "            )\n",
        "        ]),\n",
        "        type=\"buttons\",\n",
        "        direction=\"right\",\n",
        "        showactive=True,\n",
        "        x=1.05,\n",
        "        y=1.1\n",
        "    )]\n",
        ")\n",
        "\n",
        "fig.update_traces(hovertemplate='%{y}: %{x:.0f} <br>Доля: %{percentInitial:.2%}')\n",
        "\n",
        "fig.show()"
      ]
    },
    {
      "cell_type": "markdown",
      "metadata": {
        "id": "voFcmzogAWCF"
      },
      "source": [
        "**Summary:**\n",
        "- The conversion in group A at all stages is higher than the conversion in group B\n",
        "- Some users immediately buy without going to the cart"
      ]
    },
    {
      "cell_type": "markdown",
      "metadata": {
        "id": "ZxTiHGQDAWCF"
      },
      "source": [
        "### Summary (What features of the data should be taken into account before proceeding with A/B testing?)"
      ]
    },
    {
      "cell_type": "markdown",
      "metadata": {
        "id": "rw_WvlpUAWCF"
      },
      "source": [
        "**Summary:**\n",
        "- Events are distributed with a significant difference, perhaps a large difference in groups affects\n",
        "- The general dynamics of growth is traced from December 13 to December 21 and then a gradual decline\n",
        "- The conversion in group A at all stages is higher than the conversion in group B\n",
        "- Do some users immediately buy without going to the cart?\n",
        "\n",
        "**Things to consider:**\n",
        "- Control the distribution of users between groups and tests\n",
        "- Try to run tests outside of marketing campaigns\n",
        "- The samples were large, in this case at least 6000 as stated\n",
        "- Define metrics\n",
        "- Write TK\n",
        "- Define test duration\n",
        "- Take into account other additional factors that may affect\n",
        "- Make sure all data is accurate\n",
        "- Do not start the test on December 31 at 10 pm"
      ]
    },
    {
      "cell_type": "markdown",
      "metadata": {
        "tags": [],
        "id": "F_pqFEYSAWCF"
      },
      "source": [
        "## A/B testing results"
      ]
    },
    {
      "cell_type": "markdown",
      "metadata": {
        "id": "gu_IQE5dAWCF"
      },
      "source": [
        "**Summary:**\n",
        "- Events are distributed with a significant difference, perhaps a large difference in groups affects\n",
        "- The general dynamics of growth is traced from December 13 to December 21 and then a gradual decline\n",
        "- The conversion in group A at all stages is higher than the conversion in group B\n",
        "- Do some users immediately buy without going to the cart?\n",
        "- Users in test groups were distributed in violation of the terms of reference.\n",
        "- Groups are unevenly divided, group A has more users.\n",
        "- The number of users for the test is very small\n",
        "- Users in group A commit more events than users in group B.\n",
        "- Since the 14th, a sharp jump in attracting new users, which influenced the jump in events in the same period"
      ]
    },
    {
      "cell_type": "markdown",
      "metadata": {
        "id": "9XEK8oIYAWCF"
      },
      "source": [
        "## Statistical difference of fractions (z-criterion)"
      ]
    },
    {
      "cell_type": "markdown",
      "metadata": {
        "id": "uzZlsdZsAWCF"
      },
      "source": [
        "**Hypotheses:**\n",
        "- H0: Group A and B conversion are equal.\n",
        "- H1: Conversion groups A and B are not equal"
      ]
    },
    {
      "cell_type": "code",
      "execution_count": null,
      "metadata": {
        "id": "gnD7FWX7AWCF"
      },
      "outputs": [],
      "source": [
        "\n",
        "def z_test(first_group, second_group, alpha_value):\n",
        "    alpha = alpha_value / 3 \n",
        "    event_name = funnel_events['event_name']\n",
        "    \n",
        "    for i, event in enumerate(event_name[1:], start=1):\n",
        "        n1, n2 = first_group[0], second_group[0]  \n",
        "        x1, x2 = first_group[i], second_group[i]  \n",
        "        \n",
        "        \n",
        "        \n",
        "        p1, p2 = x1/n1, x2/n2  \n",
        "        \n",
        "        print(x1, x2, n1, n2)\n",
        "        p_combined = (x1 + x2) / (n1 + n2)  \n",
        "        \n",
        "        z_value = (p1 - p2) / np.sqrt(p_combined * (1 - p_combined) * (1/n1 + 1/n2))\n",
        "        \n",
        "        p_value = 2 * (1 - norm.cdf(abs(z_value)))\n",
        "        \n",
        "        print(f\"Событие: {event}\")\n",
        "        print(f\"p-value = {p_value:.3f}\")\n",
        "        if p_value < alpha:\n",
        "            print(\"Отвергаем нулевую гипотезу\")\n",
        "        else:\n",
        "            print(\"Не получилось отвергнуть нулевую гипотезу\")\n",
        "        print(\"\")"
      ]
    },
    {
      "cell_type": "code",
      "execution_count": null,
      "metadata": {
        "id": "Vil2-A3yAWCF",
        "outputId": "225c22c3-ef1f-4cef-bdcc-5c8f8c1036b9"
      },
      "outputs": [
        {
          "name": "stdout",
          "output_type": "stream",
          "text": [
            "1265 367 1939 654\n",
            "Событие: Страница продукта\n",
            "p-value = 0.000\n",
            "Отвергаем нулевую гипотезу\n",
            "\n",
            "589 184 1939 654\n",
            "Событие: Корзина\n",
            "p-value = 0.278\n",
            "Не получилось отвергнуть нулевую гипотезу\n",
            "\n",
            "613 191 1939 654\n",
            "Событие: Покупка\n",
            "p-value = 0.249\n",
            "Не получилось отвергнуть нулевую гипотезу\n",
            "\n"
          ]
        }
      ],
      "source": [
        "z_test(funnel_events['A'], funnel_events['B'], 0.05)\n"
      ]
    },
    {
      "cell_type": "markdown",
      "metadata": {
        "id": "oSGhtrAPAWCF"
      },
      "source": [
        "**Sammury:**\n",
        "\n",
        "- statistical test showed a significant difference in the Product Page event\n",
        "- for the funnel steps Cart and Purchase, the statistical test showed no significant difference"
      ]
    },
    {
      "cell_type": "markdown",
      "metadata": {
        "id": "XavU9DJEAWCG"
      },
      "source": [
        "## Summary"
      ]
    },
    {
      "cell_type": "markdown",
      "metadata": {
        "id": "1zvzoWM1AWCG"
      },
      "source": [
        "**Violations:**\n",
        "- Users were unevenly distributed between groups:\n",
        "     - A 1939\n",
        "     -B655\n",
        "- Users were simultaneously in 2 tests (1602 users)\n",
        "- The test took place almost in parallel with a big marketing event\n",
        "- The test ended ahead of schedule (30.12) - 4 days are missing\n",
        "- The selection of users from different regions did not meet the requirements specification\n",
        "\n",
        "As a result of all violations, the sample remained insignificant and with a large preponderance of group A, all these violations can lead to incorrect conclusion of the test results.\n",
        "\n",
        "\n",
        "**Data exploration:**\n",
        "- In group A, the number of events per user is higher\n",
        "- Events by day are distributed differently\n",
        "- A has a higher conversion rate than B\n",
        "\n",
        "\n",
        "**Statistical analysis**\n",
        "\n",
        "- statistical test showed a significant difference in the Product Page event\n",
        "- for the funnel steps Cart and Purchase, the statistical test showed no significant difference\n",
        "\n",
        "\n",
        "Testing was not carried out in accordance with the established TOR and numerous violations, at this stage it is not worth making decisions based on the results obtained. It is necessary to re-test, in accordance with the terms of reference."
      ]
    }
  ],
  "metadata": {
    "ExecuteTimeLog": [
      {
        "duration": 5,
        "start_time": "2023-04-20T11:44:36.630Z"
      },
      {
        "duration": 1359,
        "start_time": "2023-04-20T11:45:01.323Z"
      },
      {
        "duration": 3,
        "start_time": "2023-04-20T11:47:03.319Z"
      },
      {
        "duration": 2003,
        "start_time": "2023-04-20T11:47:04.467Z"
      },
      {
        "duration": 5,
        "start_time": "2023-04-20T11:47:57.878Z"
      },
      {
        "duration": 46,
        "start_time": "2023-04-20T11:47:59.039Z"
      },
      {
        "duration": 76,
        "start_time": "2023-04-20T11:48:20.647Z"
      },
      {
        "duration": 3,
        "start_time": "2023-04-20T11:48:25.528Z"
      },
      {
        "duration": 24,
        "start_time": "2023-04-20T11:48:26.554Z"
      },
      {
        "duration": 3,
        "start_time": "2023-04-20T11:48:36.657Z"
      },
      {
        "duration": 24,
        "start_time": "2023-04-20T11:48:37.714Z"
      },
      {
        "duration": 4,
        "start_time": "2023-04-20T11:48:49.461Z"
      },
      {
        "duration": 4,
        "start_time": "2023-04-20T11:48:51.119Z"
      },
      {
        "duration": 110,
        "start_time": "2023-04-20T11:48:52.131Z"
      },
      {
        "duration": 5,
        "start_time": "2023-04-20T11:49:03.805Z"
      },
      {
        "duration": 23,
        "start_time": "2023-04-20T11:49:05.014Z"
      },
      {
        "duration": 3,
        "start_time": "2023-04-20T11:49:20.209Z"
      },
      {
        "duration": 25,
        "start_time": "2023-04-20T11:49:21.453Z"
      },
      {
        "duration": 3,
        "start_time": "2023-04-20T11:49:34.051Z"
      },
      {
        "duration": 26,
        "start_time": "2023-04-20T11:49:36.172Z"
      },
      {
        "duration": 7,
        "start_time": "2023-04-20T11:50:00.994Z"
      },
      {
        "duration": 34,
        "start_time": "2023-04-20T11:50:02.176Z"
      },
      {
        "duration": 8,
        "start_time": "2023-04-20T11:50:09.999Z"
      },
      {
        "duration": 23,
        "start_time": "2023-04-20T11:50:13.554Z"
      },
      {
        "duration": 145,
        "start_time": "2023-04-20T11:51:15.080Z"
      },
      {
        "duration": 616,
        "start_time": "2023-04-20T11:51:17.060Z"
      },
      {
        "duration": 41,
        "start_time": "2023-04-20T11:51:19.483Z"
      },
      {
        "duration": 7,
        "start_time": "2023-04-20T11:56:12.683Z"
      },
      {
        "duration": 20,
        "start_time": "2023-04-20T11:56:14.729Z"
      },
      {
        "duration": 93,
        "start_time": "2023-04-20T11:56:17.392Z"
      },
      {
        "duration": 74,
        "start_time": "2023-04-20T11:58:08.666Z"
      },
      {
        "duration": 4,
        "start_time": "2023-04-20T11:58:32.807Z"
      },
      {
        "duration": 28,
        "start_time": "2023-04-20T11:58:34.533Z"
      },
      {
        "duration": 17,
        "start_time": "2023-04-20T11:59:01.874Z"
      },
      {
        "duration": 5,
        "start_time": "2023-04-20T11:59:53.504Z"
      },
      {
        "duration": 1225,
        "start_time": "2023-04-20T12:00:10.103Z"
      },
      {
        "duration": 733,
        "start_time": "2023-04-20T12:00:11.331Z"
      },
      {
        "duration": 5,
        "start_time": "2023-04-20T12:00:12.066Z"
      },
      {
        "duration": 111,
        "start_time": "2023-04-20T12:00:12.073Z"
      },
      {
        "duration": 0,
        "start_time": "2023-04-20T12:00:12.186Z"
      },
      {
        "duration": 0,
        "start_time": "2023-04-20T12:00:12.187Z"
      },
      {
        "duration": 1,
        "start_time": "2023-04-20T12:00:12.188Z"
      },
      {
        "duration": 0,
        "start_time": "2023-04-20T12:00:12.193Z"
      },
      {
        "duration": 0,
        "start_time": "2023-04-20T12:00:12.194Z"
      },
      {
        "duration": 0,
        "start_time": "2023-04-20T12:00:12.195Z"
      },
      {
        "duration": 0,
        "start_time": "2023-04-20T12:00:12.196Z"
      },
      {
        "duration": 9,
        "start_time": "2023-04-20T12:00:20.193Z"
      },
      {
        "duration": 3,
        "start_time": "2023-04-20T12:01:55.322Z"
      },
      {
        "duration": 29,
        "start_time": "2023-04-20T12:01:56.897Z"
      },
      {
        "duration": 8,
        "start_time": "2023-04-20T12:03:39.339Z"
      },
      {
        "duration": 8,
        "start_time": "2023-04-20T12:03:45.686Z"
      },
      {
        "duration": 18,
        "start_time": "2023-04-20T12:03:53.917Z"
      },
      {
        "duration": 45,
        "start_time": "2023-04-20T12:04:00.354Z"
      },
      {
        "duration": 307,
        "start_time": "2023-04-20T12:04:09.868Z"
      },
      {
        "duration": 12,
        "start_time": "2023-04-20T12:04:22.898Z"
      },
      {
        "duration": 100,
        "start_time": "2023-04-20T12:05:25.868Z"
      },
      {
        "duration": 59,
        "start_time": "2023-04-20T12:05:33.022Z"
      },
      {
        "duration": 320,
        "start_time": "2023-04-20T12:05:34.760Z"
      },
      {
        "duration": 4,
        "start_time": "2023-04-20T12:05:59.338Z"
      },
      {
        "duration": 45,
        "start_time": "2023-04-20T12:06:00.399Z"
      },
      {
        "duration": 4,
        "start_time": "2023-04-20T12:06:06.910Z"
      },
      {
        "duration": 34,
        "start_time": "2023-04-20T12:06:08.340Z"
      },
      {
        "duration": 5,
        "start_time": "2023-04-20T12:06:18.200Z"
      },
      {
        "duration": 56,
        "start_time": "2023-04-20T12:06:19.540Z"
      },
      {
        "duration": 6,
        "start_time": "2023-04-20T12:06:25.068Z"
      },
      {
        "duration": 35,
        "start_time": "2023-04-20T12:06:26.290Z"
      },
      {
        "duration": 91,
        "start_time": "2023-04-20T12:06:47.327Z"
      },
      {
        "duration": 1340,
        "start_time": "2023-04-20T12:06:55.093Z"
      },
      {
        "duration": 670,
        "start_time": "2023-04-20T12:06:56.435Z"
      },
      {
        "duration": 4,
        "start_time": "2023-04-20T12:06:57.108Z"
      },
      {
        "duration": 58,
        "start_time": "2023-04-20T12:06:57.113Z"
      },
      {
        "duration": 8,
        "start_time": "2023-04-20T12:06:57.174Z"
      },
      {
        "duration": 128,
        "start_time": "2023-04-20T12:06:57.194Z"
      },
      {
        "duration": 44,
        "start_time": "2023-04-20T12:06:57.325Z"
      },
      {
        "duration": 750,
        "start_time": "2023-04-20T12:06:57.371Z"
      },
      {
        "duration": 364,
        "start_time": "2023-04-20T12:06:58.123Z"
      },
      {
        "duration": 41,
        "start_time": "2023-04-20T12:06:58.493Z"
      },
      {
        "duration": 13,
        "start_time": "2023-04-20T12:06:58.537Z"
      },
      {
        "duration": 342,
        "start_time": "2023-04-20T12:10:34.506Z"
      },
      {
        "duration": 264,
        "start_time": "2023-04-20T12:10:40.129Z"
      },
      {
        "duration": 273,
        "start_time": "2023-04-20T12:13:38.855Z"
      },
      {
        "duration": 241,
        "start_time": "2023-04-20T12:13:46.651Z"
      },
      {
        "duration": 228,
        "start_time": "2023-04-20T12:13:52.463Z"
      },
      {
        "duration": 254,
        "start_time": "2023-04-20T12:14:00.676Z"
      },
      {
        "duration": 240,
        "start_time": "2023-04-20T12:14:40.012Z"
      },
      {
        "duration": 416,
        "start_time": "2023-04-20T12:14:43.929Z"
      },
      {
        "duration": 317,
        "start_time": "2023-04-20T12:14:56.465Z"
      },
      {
        "duration": 336,
        "start_time": "2023-04-20T12:15:02.409Z"
      },
      {
        "duration": 299,
        "start_time": "2023-04-20T12:15:11.248Z"
      },
      {
        "duration": 306,
        "start_time": "2023-04-20T12:15:23.783Z"
      },
      {
        "duration": 312,
        "start_time": "2023-04-20T12:15:28.231Z"
      },
      {
        "duration": 314,
        "start_time": "2023-04-20T12:15:49.248Z"
      },
      {
        "duration": 292,
        "start_time": "2023-04-20T12:16:28.019Z"
      },
      {
        "duration": 10,
        "start_time": "2023-04-20T12:22:25.209Z"
      },
      {
        "duration": 10,
        "start_time": "2023-04-20T12:22:31.274Z"
      },
      {
        "duration": 57,
        "start_time": "2023-04-20T12:22:33.165Z"
      },
      {
        "duration": 54,
        "start_time": "2023-04-20T12:22:38.436Z"
      },
      {
        "duration": 48,
        "start_time": "2023-04-20T12:22:50.171Z"
      },
      {
        "duration": 1217,
        "start_time": "2023-04-20T12:23:10.507Z"
      },
      {
        "duration": 664,
        "start_time": "2023-04-20T12:23:11.727Z"
      },
      {
        "duration": 4,
        "start_time": "2023-04-20T12:23:12.393Z"
      },
      {
        "duration": 44,
        "start_time": "2023-04-20T12:23:12.399Z"
      },
      {
        "duration": 8,
        "start_time": "2023-04-20T12:23:12.446Z"
      },
      {
        "duration": 113,
        "start_time": "2023-04-20T12:23:12.456Z"
      },
      {
        "duration": 58,
        "start_time": "2023-04-20T12:23:12.571Z"
      },
      {
        "duration": 634,
        "start_time": "2023-04-20T12:23:12.631Z"
      },
      {
        "duration": 335,
        "start_time": "2023-04-20T12:23:13.267Z"
      },
      {
        "duration": 54,
        "start_time": "2023-04-20T12:23:13.604Z"
      },
      {
        "duration": 66,
        "start_time": "2023-04-20T12:23:13.660Z"
      },
      {
        "duration": 73,
        "start_time": "2023-04-20T12:23:13.728Z"
      },
      {
        "duration": 9,
        "start_time": "2023-04-20T12:23:13.803Z"
      },
      {
        "duration": 8,
        "start_time": "2023-04-20T12:25:46.008Z"
      },
      {
        "duration": 10,
        "start_time": "2023-04-20T12:26:04.494Z"
      },
      {
        "duration": 12,
        "start_time": "2023-04-20T12:26:15.264Z"
      },
      {
        "duration": 13,
        "start_time": "2023-04-20T12:26:22.245Z"
      },
      {
        "duration": 68,
        "start_time": "2023-04-20T12:26:45.662Z"
      },
      {
        "duration": 44,
        "start_time": "2023-04-20T12:27:03.042Z"
      },
      {
        "duration": 11,
        "start_time": "2023-04-20T12:30:35.158Z"
      },
      {
        "duration": 12,
        "start_time": "2023-04-20T12:30:42.815Z"
      },
      {
        "duration": 9,
        "start_time": "2023-04-20T12:30:48.435Z"
      },
      {
        "duration": 43,
        "start_time": "2023-04-20T12:33:13.936Z"
      },
      {
        "duration": 50,
        "start_time": "2023-04-20T12:33:19.212Z"
      },
      {
        "duration": 3,
        "start_time": "2023-04-20T12:33:59.306Z"
      },
      {
        "duration": 3,
        "start_time": "2023-04-20T12:34:14.615Z"
      },
      {
        "duration": 3,
        "start_time": "2023-04-20T12:35:33.139Z"
      },
      {
        "duration": 117,
        "start_time": "2023-04-20T12:35:47.064Z"
      },
      {
        "duration": 10,
        "start_time": "2023-04-20T12:35:53.490Z"
      },
      {
        "duration": 9,
        "start_time": "2023-04-20T12:55:45.852Z"
      },
      {
        "duration": 9,
        "start_time": "2023-04-20T12:55:53.369Z"
      },
      {
        "duration": 15,
        "start_time": "2023-04-20T12:55:55.956Z"
      },
      {
        "duration": 7,
        "start_time": "2023-04-20T12:57:55.376Z"
      },
      {
        "duration": 6,
        "start_time": "2023-04-20T12:59:05.338Z"
      },
      {
        "duration": 10,
        "start_time": "2023-04-20T12:59:09.150Z"
      },
      {
        "duration": 9,
        "start_time": "2023-04-20T12:59:49.931Z"
      },
      {
        "duration": 10,
        "start_time": "2023-04-20T13:01:25.576Z"
      },
      {
        "duration": 10,
        "start_time": "2023-04-20T13:01:29.830Z"
      },
      {
        "duration": 8,
        "start_time": "2023-04-20T13:02:59.172Z"
      },
      {
        "duration": 6,
        "start_time": "2023-04-20T13:03:14.036Z"
      },
      {
        "duration": 14,
        "start_time": "2023-04-20T13:05:52.381Z"
      },
      {
        "duration": 11,
        "start_time": "2023-04-20T13:07:00.954Z"
      },
      {
        "duration": 20,
        "start_time": "2023-04-20T13:08:38.052Z"
      },
      {
        "duration": 15,
        "start_time": "2023-04-20T13:08:46.128Z"
      },
      {
        "duration": 14,
        "start_time": "2023-04-20T13:08:57.929Z"
      },
      {
        "duration": 12,
        "start_time": "2023-04-20T13:09:12.173Z"
      },
      {
        "duration": 15,
        "start_time": "2023-04-20T13:09:30.667Z"
      },
      {
        "duration": 20,
        "start_time": "2023-04-20T13:09:42.287Z"
      },
      {
        "duration": 14,
        "start_time": "2023-04-20T13:09:46.042Z"
      },
      {
        "duration": 15,
        "start_time": "2023-04-20T13:09:52.049Z"
      },
      {
        "duration": 6,
        "start_time": "2023-04-20T13:10:14.317Z"
      },
      {
        "duration": 10,
        "start_time": "2023-04-20T13:10:15.168Z"
      },
      {
        "duration": 10,
        "start_time": "2023-04-20T13:12:57.190Z"
      },
      {
        "duration": 49,
        "start_time": "2023-04-20T13:13:48.096Z"
      },
      {
        "duration": 31,
        "start_time": "2023-04-20T13:13:57.614Z"
      },
      {
        "duration": 33,
        "start_time": "2023-04-20T13:14:04.819Z"
      },
      {
        "duration": 1508,
        "start_time": "2023-04-20T13:19:04.519Z"
      },
      {
        "duration": 38,
        "start_time": "2023-04-20T13:20:13.332Z"
      },
      {
        "duration": 17,
        "start_time": "2023-04-20T13:20:15.219Z"
      },
      {
        "duration": 182,
        "start_time": "2023-04-20T13:20:16.775Z"
      },
      {
        "duration": 123,
        "start_time": "2023-04-20T13:21:57.101Z"
      },
      {
        "duration": 121,
        "start_time": "2023-04-20T13:22:01.924Z"
      },
      {
        "duration": 189,
        "start_time": "2023-04-20T13:22:05.181Z"
      },
      {
        "duration": 105,
        "start_time": "2023-04-20T13:23:11.517Z"
      },
      {
        "duration": 112,
        "start_time": "2023-04-20T13:23:20.652Z"
      },
      {
        "duration": 111,
        "start_time": "2023-04-20T13:23:23.143Z"
      },
      {
        "duration": 113,
        "start_time": "2023-04-20T13:23:25.338Z"
      },
      {
        "duration": 6,
        "start_time": "2023-04-20T13:24:17.527Z"
      },
      {
        "duration": 6,
        "start_time": "2023-04-20T13:24:26.370Z"
      },
      {
        "duration": 9,
        "start_time": "2023-04-20T13:24:30.955Z"
      },
      {
        "duration": 136,
        "start_time": "2023-04-20T13:24:45.434Z"
      },
      {
        "duration": 111,
        "start_time": "2023-04-20T13:25:53.386Z"
      },
      {
        "duration": 126,
        "start_time": "2023-04-20T13:25:58.328Z"
      },
      {
        "duration": 132,
        "start_time": "2023-04-20T13:26:11.732Z"
      },
      {
        "duration": 118,
        "start_time": "2023-04-20T13:26:46.920Z"
      },
      {
        "duration": 134,
        "start_time": "2023-04-20T13:27:11.274Z"
      },
      {
        "duration": 122,
        "start_time": "2023-04-20T13:27:20.769Z"
      },
      {
        "duration": 118,
        "start_time": "2023-04-20T13:27:26.516Z"
      },
      {
        "duration": 15,
        "start_time": "2023-04-20T13:30:49.713Z"
      },
      {
        "duration": 107,
        "start_time": "2023-04-20T13:31:44.689Z"
      },
      {
        "duration": 12,
        "start_time": "2023-04-20T13:31:57.006Z"
      },
      {
        "duration": 12,
        "start_time": "2023-04-20T13:32:05.079Z"
      },
      {
        "duration": 12,
        "start_time": "2023-04-20T13:33:15.513Z"
      },
      {
        "duration": 81,
        "start_time": "2023-04-20T13:33:46.578Z"
      },
      {
        "duration": 30,
        "start_time": "2023-04-20T13:33:49.581Z"
      },
      {
        "duration": 83,
        "start_time": "2023-04-20T13:34:12.112Z"
      },
      {
        "duration": 17,
        "start_time": "2023-04-20T13:34:14.508Z"
      },
      {
        "duration": 19,
        "start_time": "2023-04-20T13:34:20.791Z"
      },
      {
        "duration": 16,
        "start_time": "2023-04-20T13:34:33.346Z"
      },
      {
        "duration": 22,
        "start_time": "2023-04-20T13:34:42.021Z"
      },
      {
        "duration": 18,
        "start_time": "2023-04-20T13:35:01.576Z"
      },
      {
        "duration": 19,
        "start_time": "2023-04-20T13:35:09.236Z"
      },
      {
        "duration": 18,
        "start_time": "2023-04-20T13:35:22.823Z"
      },
      {
        "duration": 30,
        "start_time": "2023-04-20T13:35:28.920Z"
      },
      {
        "duration": 19,
        "start_time": "2023-04-20T13:36:12.137Z"
      },
      {
        "duration": 1286,
        "start_time": "2023-04-20T13:36:18.857Z"
      },
      {
        "duration": 709,
        "start_time": "2023-04-20T13:36:20.146Z"
      },
      {
        "duration": 3,
        "start_time": "2023-04-20T13:36:20.857Z"
      },
      {
        "duration": 80,
        "start_time": "2023-04-20T13:36:20.862Z"
      },
      {
        "duration": 10,
        "start_time": "2023-04-20T13:36:20.945Z"
      },
      {
        "duration": 158,
        "start_time": "2023-04-20T13:36:20.957Z"
      },
      {
        "duration": 56,
        "start_time": "2023-04-20T13:36:21.118Z"
      },
      {
        "duration": 772,
        "start_time": "2023-04-20T13:36:21.176Z"
      },
      {
        "duration": 453,
        "start_time": "2023-04-20T13:36:21.950Z"
      },
      {
        "duration": 48,
        "start_time": "2023-04-20T13:36:22.405Z"
      },
      {
        "duration": 9,
        "start_time": "2023-04-20T13:36:22.455Z"
      },
      {
        "duration": 68,
        "start_time": "2023-04-20T13:36:22.466Z"
      },
      {
        "duration": 11,
        "start_time": "2023-04-20T13:36:22.536Z"
      },
      {
        "duration": 164,
        "start_time": "2023-04-20T13:36:22.550Z"
      },
      {
        "duration": 17,
        "start_time": "2023-04-20T13:36:22.725Z"
      },
      {
        "duration": 43,
        "start_time": "2023-04-20T13:36:48.751Z"
      },
      {
        "duration": 48,
        "start_time": "2023-04-20T13:37:02.883Z"
      },
      {
        "duration": 28,
        "start_time": "2023-04-20T13:39:01.527Z"
      },
      {
        "duration": 25,
        "start_time": "2023-04-20T13:39:02.534Z"
      },
      {
        "duration": 120,
        "start_time": "2023-04-20T13:40:29.938Z"
      },
      {
        "duration": 8,
        "start_time": "2023-04-20T13:40:37.221Z"
      },
      {
        "duration": 6,
        "start_time": "2023-04-20T13:40:41.431Z"
      },
      {
        "duration": 42,
        "start_time": "2023-04-20T13:41:05.290Z"
      },
      {
        "duration": 26,
        "start_time": "2023-04-20T13:41:16.259Z"
      },
      {
        "duration": 40,
        "start_time": "2023-04-20T13:41:27.489Z"
      },
      {
        "duration": 35,
        "start_time": "2023-04-20T13:41:32.119Z"
      },
      {
        "duration": 41,
        "start_time": "2023-04-20T13:41:42.684Z"
      },
      {
        "duration": 7,
        "start_time": "2023-04-20T13:41:43.850Z"
      },
      {
        "duration": 27,
        "start_time": "2023-04-20T13:41:44.945Z"
      },
      {
        "duration": 41,
        "start_time": "2023-04-20T13:43:06.185Z"
      },
      {
        "duration": 40,
        "start_time": "2023-04-20T13:43:13.883Z"
      },
      {
        "duration": 33,
        "start_time": "2023-04-20T13:43:42.038Z"
      },
      {
        "duration": 49,
        "start_time": "2023-04-20T13:45:07.193Z"
      },
      {
        "duration": 30,
        "start_time": "2023-04-20T13:45:08.415Z"
      },
      {
        "duration": 1289,
        "start_time": "2023-04-20T13:45:14.121Z"
      },
      {
        "duration": 717,
        "start_time": "2023-04-20T13:45:15.413Z"
      },
      {
        "duration": 4,
        "start_time": "2023-04-20T13:45:16.134Z"
      },
      {
        "duration": 39,
        "start_time": "2023-04-20T13:45:16.140Z"
      },
      {
        "duration": 12,
        "start_time": "2023-04-20T13:45:16.182Z"
      },
      {
        "duration": 129,
        "start_time": "2023-04-20T13:45:16.196Z"
      },
      {
        "duration": 44,
        "start_time": "2023-04-20T13:45:16.327Z"
      },
      {
        "duration": 755,
        "start_time": "2023-04-20T13:45:16.374Z"
      },
      {
        "duration": 388,
        "start_time": "2023-04-20T13:45:17.131Z"
      },
      {
        "duration": 44,
        "start_time": "2023-04-20T13:45:17.521Z"
      },
      {
        "duration": 28,
        "start_time": "2023-04-20T13:45:17.566Z"
      },
      {
        "duration": 47,
        "start_time": "2023-04-20T13:45:17.596Z"
      },
      {
        "duration": 10,
        "start_time": "2023-04-20T13:45:17.645Z"
      },
      {
        "duration": 175,
        "start_time": "2023-04-20T13:45:17.657Z"
      },
      {
        "duration": 7,
        "start_time": "2023-04-20T13:45:17.834Z"
      },
      {
        "duration": 61,
        "start_time": "2023-04-20T13:45:17.844Z"
      },
      {
        "duration": 50,
        "start_time": "2023-04-20T13:45:17.909Z"
      },
      {
        "duration": 50,
        "start_time": "2023-04-20T13:45:17.961Z"
      },
      {
        "duration": 221,
        "start_time": "2023-04-20T13:45:39.125Z"
      },
      {
        "duration": 112,
        "start_time": "2023-04-20T13:45:44.058Z"
      },
      {
        "duration": 131,
        "start_time": "2023-04-20T13:45:50.340Z"
      },
      {
        "duration": 8,
        "start_time": "2023-04-20T13:46:39.176Z"
      },
      {
        "duration": 152,
        "start_time": "2023-04-20T13:47:12.421Z"
      },
      {
        "duration": 132,
        "start_time": "2023-04-20T13:47:44.750Z"
      },
      {
        "duration": 103,
        "start_time": "2023-04-20T13:48:24.658Z"
      },
      {
        "duration": 105,
        "start_time": "2023-04-20T13:48:33.218Z"
      },
      {
        "duration": 18,
        "start_time": "2023-04-20T13:49:53.651Z"
      },
      {
        "duration": 201,
        "start_time": "2023-04-20T13:49:58.030Z"
      },
      {
        "duration": 117,
        "start_time": "2023-04-20T13:50:34.412Z"
      },
      {
        "duration": 94,
        "start_time": "2023-04-20T13:50:40.787Z"
      },
      {
        "duration": 102,
        "start_time": "2023-04-20T13:50:45.642Z"
      },
      {
        "duration": 115,
        "start_time": "2023-04-20T13:50:52.649Z"
      },
      {
        "duration": 112,
        "start_time": "2023-04-20T13:51:04.148Z"
      },
      {
        "duration": 19,
        "start_time": "2023-04-20T13:52:10.504Z"
      },
      {
        "duration": 18,
        "start_time": "2023-04-20T13:53:48.287Z"
      },
      {
        "duration": 37,
        "start_time": "2023-04-20T13:58:51.145Z"
      },
      {
        "duration": 114,
        "start_time": "2023-04-20T13:58:57.432Z"
      },
      {
        "duration": 143,
        "start_time": "2023-04-20T13:59:06.433Z"
      },
      {
        "duration": 43,
        "start_time": "2023-04-20T13:59:07.519Z"
      },
      {
        "duration": 1280,
        "start_time": "2023-04-20T13:59:13.516Z"
      },
      {
        "duration": 768,
        "start_time": "2023-04-20T13:59:14.799Z"
      },
      {
        "duration": 4,
        "start_time": "2023-04-20T13:59:15.568Z"
      },
      {
        "duration": 51,
        "start_time": "2023-04-20T13:59:15.574Z"
      },
      {
        "duration": 12,
        "start_time": "2023-04-20T13:59:15.628Z"
      },
      {
        "duration": 140,
        "start_time": "2023-04-20T13:59:15.642Z"
      },
      {
        "duration": 66,
        "start_time": "2023-04-20T13:59:15.785Z"
      },
      {
        "duration": 795,
        "start_time": "2023-04-20T13:59:15.853Z"
      },
      {
        "duration": 468,
        "start_time": "2023-04-20T13:59:16.650Z"
      },
      {
        "duration": 52,
        "start_time": "2023-04-20T13:59:17.128Z"
      },
      {
        "duration": 10,
        "start_time": "2023-04-20T13:59:17.182Z"
      },
      {
        "duration": 54,
        "start_time": "2023-04-20T13:59:17.221Z"
      },
      {
        "duration": 13,
        "start_time": "2023-04-20T13:59:17.277Z"
      },
      {
        "duration": 190,
        "start_time": "2023-04-20T13:59:17.294Z"
      },
      {
        "duration": 9,
        "start_time": "2023-04-20T13:59:17.486Z"
      },
      {
        "duration": 50,
        "start_time": "2023-04-20T13:59:17.505Z"
      },
      {
        "duration": 29,
        "start_time": "2023-04-20T13:59:17.557Z"
      },
      {
        "duration": 49,
        "start_time": "2023-04-20T13:59:17.588Z"
      },
      {
        "duration": 61,
        "start_time": "2023-04-20T13:59:17.639Z"
      },
      {
        "duration": 154,
        "start_time": "2023-04-20T13:59:17.709Z"
      },
      {
        "duration": 125,
        "start_time": "2023-04-20T13:59:47.035Z"
      },
      {
        "duration": 25,
        "start_time": "2023-04-20T13:59:54.979Z"
      },
      {
        "duration": 13,
        "start_time": "2023-04-20T14:00:10.827Z"
      },
      {
        "duration": 43,
        "start_time": "2023-04-20T14:00:24.881Z"
      },
      {
        "duration": 20,
        "start_time": "2023-04-20T14:00:28.318Z"
      },
      {
        "duration": 119,
        "start_time": "2023-04-20T14:00:31.570Z"
      },
      {
        "duration": 15,
        "start_time": "2023-04-20T14:00:39.027Z"
      },
      {
        "duration": 5,
        "start_time": "2023-04-20T14:01:50.220Z"
      },
      {
        "duration": 5,
        "start_time": "2023-04-20T14:02:03.126Z"
      },
      {
        "duration": 142,
        "start_time": "2023-04-20T14:02:40.085Z"
      },
      {
        "duration": 110,
        "start_time": "2023-04-20T14:03:23.022Z"
      },
      {
        "duration": 123,
        "start_time": "2023-04-20T14:03:25.210Z"
      },
      {
        "duration": 1308,
        "start_time": "2023-04-20T14:03:31.283Z"
      },
      {
        "duration": 650,
        "start_time": "2023-04-20T14:03:32.593Z"
      },
      {
        "duration": 4,
        "start_time": "2023-04-20T14:03:33.245Z"
      },
      {
        "duration": 47,
        "start_time": "2023-04-20T14:03:33.251Z"
      },
      {
        "duration": 12,
        "start_time": "2023-04-20T14:03:33.301Z"
      },
      {
        "duration": 126,
        "start_time": "2023-04-20T14:03:33.315Z"
      },
      {
        "duration": 56,
        "start_time": "2023-04-20T14:03:33.443Z"
      },
      {
        "duration": 679,
        "start_time": "2023-04-20T14:03:33.501Z"
      },
      {
        "duration": 387,
        "start_time": "2023-04-20T14:03:34.182Z"
      },
      {
        "duration": 58,
        "start_time": "2023-04-20T14:03:34.570Z"
      },
      {
        "duration": 10,
        "start_time": "2023-04-20T14:03:34.629Z"
      },
      {
        "duration": 57,
        "start_time": "2023-04-20T14:03:34.641Z"
      },
      {
        "duration": 23,
        "start_time": "2023-04-20T14:03:34.700Z"
      },
      {
        "duration": 150,
        "start_time": "2023-04-20T14:03:34.731Z"
      },
      {
        "duration": 16,
        "start_time": "2023-04-20T14:03:34.883Z"
      },
      {
        "duration": 47,
        "start_time": "2023-04-20T14:03:34.901Z"
      },
      {
        "duration": 27,
        "start_time": "2023-04-20T14:03:34.949Z"
      },
      {
        "duration": 42,
        "start_time": "2023-04-20T14:03:34.978Z"
      },
      {
        "duration": 32,
        "start_time": "2023-04-20T14:03:35.022Z"
      },
      {
        "duration": 15,
        "start_time": "2023-04-20T14:03:35.056Z"
      },
      {
        "duration": 112,
        "start_time": "2023-04-20T14:03:35.094Z"
      },
      {
        "duration": 50,
        "start_time": "2023-04-20T14:04:20.617Z"
      },
      {
        "duration": 1416,
        "start_time": "2023-04-20T14:04:27.739Z"
      },
      {
        "duration": 745,
        "start_time": "2023-04-20T14:04:29.157Z"
      },
      {
        "duration": 4,
        "start_time": "2023-04-20T14:04:29.904Z"
      },
      {
        "duration": 43,
        "start_time": "2023-04-20T14:04:29.909Z"
      },
      {
        "duration": 16,
        "start_time": "2023-04-20T14:04:29.955Z"
      },
      {
        "duration": 116,
        "start_time": "2023-04-20T14:04:29.994Z"
      },
      {
        "duration": 49,
        "start_time": "2023-04-20T14:04:30.112Z"
      },
      {
        "duration": 815,
        "start_time": "2023-04-20T14:04:30.163Z"
      },
      {
        "duration": 431,
        "start_time": "2023-04-20T14:04:30.979Z"
      },
      {
        "duration": 48,
        "start_time": "2023-04-20T14:04:31.413Z"
      },
      {
        "duration": 38,
        "start_time": "2023-04-20T14:04:31.462Z"
      },
      {
        "duration": 62,
        "start_time": "2023-04-20T14:04:31.503Z"
      },
      {
        "duration": 11,
        "start_time": "2023-04-20T14:04:31.567Z"
      },
      {
        "duration": 185,
        "start_time": "2023-04-20T14:04:31.582Z"
      },
      {
        "duration": 7,
        "start_time": "2023-04-20T14:04:31.770Z"
      },
      {
        "duration": 67,
        "start_time": "2023-04-20T14:04:31.779Z"
      },
      {
        "duration": 30,
        "start_time": "2023-04-20T14:04:31.848Z"
      },
      {
        "duration": 45,
        "start_time": "2023-04-20T14:04:31.880Z"
      },
      {
        "duration": 43,
        "start_time": "2023-04-20T14:04:31.928Z"
      },
      {
        "duration": 44,
        "start_time": "2023-04-20T14:04:31.972Z"
      },
      {
        "duration": 146,
        "start_time": "2023-04-20T14:04:32.019Z"
      },
      {
        "duration": 15,
        "start_time": "2023-04-20T14:04:42.715Z"
      },
      {
        "duration": 1372,
        "start_time": "2023-04-20T14:04:50.584Z"
      },
      {
        "duration": 738,
        "start_time": "2023-04-20T14:04:51.958Z"
      },
      {
        "duration": 5,
        "start_time": "2023-04-20T14:04:52.698Z"
      },
      {
        "duration": 51,
        "start_time": "2023-04-20T14:04:52.705Z"
      },
      {
        "duration": 12,
        "start_time": "2023-04-20T14:04:52.758Z"
      },
      {
        "duration": 160,
        "start_time": "2023-04-20T14:04:52.794Z"
      },
      {
        "duration": 68,
        "start_time": "2023-04-20T14:04:52.957Z"
      },
      {
        "duration": 764,
        "start_time": "2023-04-20T14:04:53.027Z"
      },
      {
        "duration": 407,
        "start_time": "2023-04-20T14:04:53.794Z"
      },
      {
        "duration": 58,
        "start_time": "2023-04-20T14:04:54.203Z"
      },
      {
        "duration": 36,
        "start_time": "2023-04-20T14:04:54.263Z"
      },
      {
        "duration": 59,
        "start_time": "2023-04-20T14:04:54.301Z"
      },
      {
        "duration": 12,
        "start_time": "2023-04-20T14:04:54.362Z"
      },
      {
        "duration": 205,
        "start_time": "2023-04-20T14:04:54.378Z"
      },
      {
        "duration": 26,
        "start_time": "2023-04-20T14:04:54.586Z"
      },
      {
        "duration": 6,
        "start_time": "2023-04-20T14:04:54.615Z"
      },
      {
        "duration": 34,
        "start_time": "2023-04-20T14:04:54.623Z"
      },
      {
        "duration": 77,
        "start_time": "2023-04-20T14:04:54.659Z"
      },
      {
        "duration": 27,
        "start_time": "2023-04-20T14:04:54.738Z"
      },
      {
        "duration": 41,
        "start_time": "2023-04-20T14:04:54.766Z"
      },
      {
        "duration": 25,
        "start_time": "2023-04-20T14:04:54.809Z"
      },
      {
        "duration": 131,
        "start_time": "2023-04-20T14:04:54.836Z"
      },
      {
        "duration": 1263,
        "start_time": "2023-04-20T14:05:29.513Z"
      },
      {
        "duration": 701,
        "start_time": "2023-04-20T14:05:30.778Z"
      },
      {
        "duration": 3,
        "start_time": "2023-04-20T14:05:31.481Z"
      },
      {
        "duration": 58,
        "start_time": "2023-04-20T14:05:31.486Z"
      },
      {
        "duration": 10,
        "start_time": "2023-04-20T14:05:31.546Z"
      },
      {
        "duration": 129,
        "start_time": "2023-04-20T14:05:31.558Z"
      },
      {
        "duration": 61,
        "start_time": "2023-04-20T14:05:31.688Z"
      },
      {
        "duration": 722,
        "start_time": "2023-04-20T14:05:31.750Z"
      },
      {
        "duration": 449,
        "start_time": "2023-04-20T14:05:32.474Z"
      },
      {
        "duration": 39,
        "start_time": "2023-04-20T14:05:32.926Z"
      },
      {
        "duration": 27,
        "start_time": "2023-04-20T14:05:32.966Z"
      },
      {
        "duration": 56,
        "start_time": "2023-04-20T14:05:32.994Z"
      },
      {
        "duration": 9,
        "start_time": "2023-04-20T14:05:33.052Z"
      },
      {
        "duration": 156,
        "start_time": "2023-04-20T14:05:33.064Z"
      },
      {
        "duration": 8,
        "start_time": "2023-04-20T14:05:33.225Z"
      },
      {
        "duration": 40,
        "start_time": "2023-04-20T14:05:33.235Z"
      },
      {
        "duration": 3,
        "start_time": "2023-04-20T14:05:33.276Z"
      },
      {
        "duration": 61,
        "start_time": "2023-04-20T14:05:33.281Z"
      },
      {
        "duration": 32,
        "start_time": "2023-04-20T14:05:33.344Z"
      },
      {
        "duration": 15,
        "start_time": "2023-04-20T14:05:33.378Z"
      },
      {
        "duration": 116,
        "start_time": "2023-04-20T14:05:33.395Z"
      },
      {
        "duration": 14,
        "start_time": "2023-04-20T14:06:20.518Z"
      },
      {
        "duration": 14,
        "start_time": "2023-04-20T14:06:24.639Z"
      },
      {
        "duration": 144,
        "start_time": "2023-04-20T14:06:28.569Z"
      },
      {
        "duration": 41,
        "start_time": "2023-04-20T14:06:48.246Z"
      },
      {
        "duration": 1939,
        "start_time": "2023-04-20T14:09:21.446Z"
      },
      {
        "duration": 1647,
        "start_time": "2023-04-20T14:09:45.517Z"
      },
      {
        "duration": 24,
        "start_time": "2023-04-20T14:10:11.099Z"
      },
      {
        "duration": 15,
        "start_time": "2023-04-20T14:10:54.275Z"
      },
      {
        "duration": 9,
        "start_time": "2023-04-20T14:13:24.956Z"
      },
      {
        "duration": 1478,
        "start_time": "2023-04-20T14:15:53.020Z"
      },
      {
        "duration": 671,
        "start_time": "2023-04-20T14:15:54.505Z"
      },
      {
        "duration": 4,
        "start_time": "2023-04-20T14:15:55.177Z"
      },
      {
        "duration": 66,
        "start_time": "2023-04-20T14:15:55.184Z"
      },
      {
        "duration": 11,
        "start_time": "2023-04-20T14:15:55.252Z"
      },
      {
        "duration": 104,
        "start_time": "2023-04-20T14:15:55.265Z"
      },
      {
        "duration": 64,
        "start_time": "2023-04-20T14:15:55.371Z"
      },
      {
        "duration": 693,
        "start_time": "2023-04-20T14:15:55.436Z"
      },
      {
        "duration": 401,
        "start_time": "2023-04-20T14:15:56.131Z"
      },
      {
        "duration": 42,
        "start_time": "2023-04-20T14:15:56.536Z"
      },
      {
        "duration": 15,
        "start_time": "2023-04-20T14:15:56.593Z"
      },
      {
        "duration": 47,
        "start_time": "2023-04-20T14:15:56.610Z"
      },
      {
        "duration": 11,
        "start_time": "2023-04-20T14:15:56.659Z"
      },
      {
        "duration": 159,
        "start_time": "2023-04-20T14:15:56.671Z"
      },
      {
        "duration": 11,
        "start_time": "2023-04-20T14:15:56.832Z"
      },
      {
        "duration": 119,
        "start_time": "2023-04-20T14:15:56.845Z"
      },
      {
        "duration": 0,
        "start_time": "2023-04-20T14:15:56.966Z"
      },
      {
        "duration": 0,
        "start_time": "2023-04-20T14:15:56.967Z"
      },
      {
        "duration": 0,
        "start_time": "2023-04-20T14:15:56.968Z"
      },
      {
        "duration": 0,
        "start_time": "2023-04-20T14:15:56.970Z"
      },
      {
        "duration": 0,
        "start_time": "2023-04-20T14:15:56.971Z"
      },
      {
        "duration": 0,
        "start_time": "2023-04-20T14:15:56.972Z"
      },
      {
        "duration": 0,
        "start_time": "2023-04-20T14:15:56.974Z"
      },
      {
        "duration": 38,
        "start_time": "2023-04-20T14:16:47.002Z"
      },
      {
        "duration": 10,
        "start_time": "2023-04-20T14:17:55.523Z"
      },
      {
        "duration": 10,
        "start_time": "2023-04-20T14:18:04.736Z"
      },
      {
        "duration": 11,
        "start_time": "2023-04-20T14:18:09.370Z"
      },
      {
        "duration": 14,
        "start_time": "2023-04-20T14:18:32.500Z"
      },
      {
        "duration": 10,
        "start_time": "2023-04-20T14:21:20.754Z"
      },
      {
        "duration": 10,
        "start_time": "2023-04-20T14:21:35.893Z"
      },
      {
        "duration": 10,
        "start_time": "2023-04-20T14:21:48.954Z"
      },
      {
        "duration": 7,
        "start_time": "2023-04-20T14:22:00.593Z"
      },
      {
        "duration": 37,
        "start_time": "2023-04-20T14:22:02.186Z"
      },
      {
        "duration": 3,
        "start_time": "2023-04-20T14:22:04.007Z"
      },
      {
        "duration": 41,
        "start_time": "2023-04-20T14:22:05.686Z"
      },
      {
        "duration": 19,
        "start_time": "2023-04-20T14:26:11.280Z"
      },
      {
        "duration": 42,
        "start_time": "2023-04-20T14:26:49.425Z"
      },
      {
        "duration": 117,
        "start_time": "2023-04-20T14:26:50.342Z"
      },
      {
        "duration": 11,
        "start_time": "2023-04-20T14:47:36.601Z"
      },
      {
        "duration": 11,
        "start_time": "2023-04-20T14:47:43.919Z"
      },
      {
        "duration": 7,
        "start_time": "2023-04-20T14:55:21.699Z"
      },
      {
        "duration": 6,
        "start_time": "2023-04-20T14:55:27.362Z"
      },
      {
        "duration": 101,
        "start_time": "2023-04-20T14:55:56.773Z"
      },
      {
        "duration": 89,
        "start_time": "2023-04-20T14:56:05.808Z"
      },
      {
        "duration": 111,
        "start_time": "2023-04-20T14:56:08.698Z"
      },
      {
        "duration": 18,
        "start_time": "2023-04-20T14:56:32.372Z"
      },
      {
        "duration": 15,
        "start_time": "2023-04-20T14:56:41.444Z"
      },
      {
        "duration": 112,
        "start_time": "2023-04-20T14:56:50.841Z"
      },
      {
        "duration": 9,
        "start_time": "2023-04-20T14:58:36.861Z"
      },
      {
        "duration": 6,
        "start_time": "2023-04-20T14:58:38.352Z"
      },
      {
        "duration": 114,
        "start_time": "2023-04-20T14:58:40.685Z"
      },
      {
        "duration": 8,
        "start_time": "2023-04-20T14:59:42.073Z"
      },
      {
        "duration": 13,
        "start_time": "2023-04-20T14:59:51.350Z"
      },
      {
        "duration": 152,
        "start_time": "2023-04-20T14:59:52.254Z"
      },
      {
        "duration": 1172,
        "start_time": "2023-04-20T14:59:57.550Z"
      },
      {
        "duration": 645,
        "start_time": "2023-04-20T14:59:58.724Z"
      },
      {
        "duration": 4,
        "start_time": "2023-04-20T14:59:59.371Z"
      },
      {
        "duration": 45,
        "start_time": "2023-04-20T14:59:59.377Z"
      },
      {
        "duration": 11,
        "start_time": "2023-04-20T14:59:59.423Z"
      },
      {
        "duration": 118,
        "start_time": "2023-04-20T14:59:59.436Z"
      },
      {
        "duration": 65,
        "start_time": "2023-04-20T14:59:59.557Z"
      },
      {
        "duration": 718,
        "start_time": "2023-04-20T14:59:59.624Z"
      },
      {
        "duration": 415,
        "start_time": "2023-04-20T15:00:00.344Z"
      },
      {
        "duration": 63,
        "start_time": "2023-04-20T15:00:00.763Z"
      },
      {
        "duration": 12,
        "start_time": "2023-04-20T15:00:00.829Z"
      },
      {
        "duration": 86,
        "start_time": "2023-04-20T15:00:00.843Z"
      },
      {
        "duration": 50,
        "start_time": "2023-04-20T15:00:00.931Z"
      },
      {
        "duration": 46,
        "start_time": "2023-04-20T15:00:00.983Z"
      },
      {
        "duration": 56,
        "start_time": "2023-04-20T15:00:01.031Z"
      },
      {
        "duration": 123,
        "start_time": "2023-04-20T15:00:01.090Z"
      },
      {
        "duration": 165,
        "start_time": "2023-04-20T15:00:01.215Z"
      },
      {
        "duration": 11,
        "start_time": "2023-04-20T15:00:01.383Z"
      },
      {
        "duration": 50,
        "start_time": "2023-04-20T15:00:01.396Z"
      },
      {
        "duration": 81,
        "start_time": "2023-04-20T15:00:01.448Z"
      },
      {
        "duration": 18,
        "start_time": "2023-04-20T15:00:01.532Z"
      },
      {
        "duration": 86,
        "start_time": "2023-04-20T15:00:01.552Z"
      },
      {
        "duration": 65,
        "start_time": "2023-04-20T15:00:01.640Z"
      },
      {
        "duration": 76,
        "start_time": "2023-04-20T15:00:01.707Z"
      },
      {
        "duration": 48,
        "start_time": "2023-04-20T15:00:01.786Z"
      },
      {
        "duration": 200,
        "start_time": "2023-04-20T15:00:01.835Z"
      },
      {
        "duration": 6,
        "start_time": "2023-04-20T15:00:30.790Z"
      },
      {
        "duration": 11,
        "start_time": "2023-04-20T15:00:42.049Z"
      },
      {
        "duration": 116,
        "start_time": "2023-04-20T15:01:06.895Z"
      },
      {
        "duration": 13,
        "start_time": "2023-04-20T15:01:10.544Z"
      },
      {
        "duration": 112,
        "start_time": "2023-04-20T15:01:11.394Z"
      },
      {
        "duration": 13,
        "start_time": "2023-04-20T15:01:46.702Z"
      },
      {
        "duration": 8,
        "start_time": "2023-04-20T15:02:26.160Z"
      },
      {
        "duration": 14,
        "start_time": "2023-04-20T15:03:07.943Z"
      },
      {
        "duration": 1306,
        "start_time": "2023-04-20T15:03:29.207Z"
      },
      {
        "duration": 10,
        "start_time": "2023-04-20T15:05:43.335Z"
      },
      {
        "duration": 15,
        "start_time": "2023-04-20T15:05:51.673Z"
      },
      {
        "duration": 38,
        "start_time": "2023-04-20T15:47:29.598Z"
      },
      {
        "duration": 5,
        "start_time": "2023-04-20T15:47:38.555Z"
      },
      {
        "duration": 1292,
        "start_time": "2023-04-20T15:47:44.573Z"
      },
      {
        "duration": 683,
        "start_time": "2023-04-20T15:47:45.867Z"
      },
      {
        "duration": 4,
        "start_time": "2023-04-20T15:47:46.552Z"
      },
      {
        "duration": 49,
        "start_time": "2023-04-20T15:47:46.558Z"
      },
      {
        "duration": 11,
        "start_time": "2023-04-20T15:47:46.610Z"
      },
      {
        "duration": 127,
        "start_time": "2023-04-20T15:47:46.623Z"
      },
      {
        "duration": 67,
        "start_time": "2023-04-20T15:47:46.752Z"
      },
      {
        "duration": 719,
        "start_time": "2023-04-20T15:47:46.821Z"
      },
      {
        "duration": 395,
        "start_time": "2023-04-20T15:47:47.542Z"
      },
      {
        "duration": 72,
        "start_time": "2023-04-20T15:47:47.940Z"
      },
      {
        "duration": 9,
        "start_time": "2023-04-20T15:47:48.015Z"
      },
      {
        "duration": 37,
        "start_time": "2023-04-20T15:47:48.026Z"
      },
      {
        "duration": 37,
        "start_time": "2023-04-20T15:47:48.065Z"
      },
      {
        "duration": 6,
        "start_time": "2023-04-20T15:47:48.106Z"
      },
      {
        "duration": 8,
        "start_time": "2023-04-20T15:47:48.116Z"
      },
      {
        "duration": 17,
        "start_time": "2023-04-20T15:47:48.126Z"
      },
      {
        "duration": 171,
        "start_time": "2023-04-20T15:47:48.145Z"
      },
      {
        "duration": 12,
        "start_time": "2023-04-20T15:47:48.317Z"
      },
      {
        "duration": 30,
        "start_time": "2023-04-20T15:47:48.331Z"
      },
      {
        "duration": 3,
        "start_time": "2023-04-20T15:47:48.363Z"
      },
      {
        "duration": 65,
        "start_time": "2023-04-20T15:47:48.368Z"
      },
      {
        "duration": 22,
        "start_time": "2023-04-20T15:47:48.435Z"
      },
      {
        "duration": 78,
        "start_time": "2023-04-20T15:47:48.459Z"
      },
      {
        "duration": 17,
        "start_time": "2023-04-20T15:47:48.539Z"
      },
      {
        "duration": 121,
        "start_time": "2023-04-20T15:47:48.558Z"
      },
      {
        "duration": 1768,
        "start_time": "2023-04-20T15:50:17.435Z"
      },
      {
        "duration": 9,
        "start_time": "2023-04-20T15:51:12.640Z"
      },
      {
        "duration": 20,
        "start_time": "2023-04-20T15:51:15.944Z"
      },
      {
        "duration": 17,
        "start_time": "2023-04-20T15:51:41.027Z"
      },
      {
        "duration": 245,
        "start_time": "2023-04-20T15:51:51.526Z"
      },
      {
        "duration": 29,
        "start_time": "2023-04-20T15:52:01.940Z"
      },
      {
        "duration": 28,
        "start_time": "2023-04-20T15:52:11.025Z"
      },
      {
        "duration": 1324,
        "start_time": "2023-04-20T15:52:16.905Z"
      },
      {
        "duration": 663,
        "start_time": "2023-04-20T15:52:18.234Z"
      },
      {
        "duration": 4,
        "start_time": "2023-04-20T15:52:18.899Z"
      },
      {
        "duration": 41,
        "start_time": "2023-04-20T15:52:18.904Z"
      },
      {
        "duration": 11,
        "start_time": "2023-04-20T15:52:18.948Z"
      },
      {
        "duration": 146,
        "start_time": "2023-04-20T15:52:18.961Z"
      },
      {
        "duration": 51,
        "start_time": "2023-04-20T15:52:19.109Z"
      },
      {
        "duration": 939,
        "start_time": "2023-04-20T15:52:19.162Z"
      },
      {
        "duration": 481,
        "start_time": "2023-04-20T15:52:20.104Z"
      },
      {
        "duration": 49,
        "start_time": "2023-04-20T15:52:20.587Z"
      },
      {
        "duration": 14,
        "start_time": "2023-04-20T15:52:20.638Z"
      },
      {
        "duration": 97,
        "start_time": "2023-04-20T15:52:20.655Z"
      },
      {
        "duration": 18,
        "start_time": "2023-04-20T15:52:20.754Z"
      },
      {
        "duration": 25,
        "start_time": "2023-04-20T15:52:20.777Z"
      },
      {
        "duration": 23,
        "start_time": "2023-04-20T15:52:20.805Z"
      },
      {
        "duration": 49,
        "start_time": "2023-04-20T15:52:20.830Z"
      },
      {
        "duration": 185,
        "start_time": "2023-04-20T15:52:20.881Z"
      },
      {
        "duration": 29,
        "start_time": "2023-04-20T15:52:21.068Z"
      },
      {
        "duration": 34,
        "start_time": "2023-04-20T15:52:21.099Z"
      },
      {
        "duration": 205,
        "start_time": "2023-04-20T15:52:21.136Z"
      },
      {
        "duration": 23,
        "start_time": "2023-04-20T15:52:21.343Z"
      },
      {
        "duration": 32,
        "start_time": "2023-04-20T15:52:21.368Z"
      },
      {
        "duration": 59,
        "start_time": "2023-04-20T15:52:21.403Z"
      },
      {
        "duration": 3,
        "start_time": "2023-04-20T15:52:21.465Z"
      },
      {
        "duration": 94,
        "start_time": "2023-04-20T15:52:21.470Z"
      },
      {
        "duration": 31,
        "start_time": "2023-04-20T15:52:21.567Z"
      },
      {
        "duration": 44,
        "start_time": "2023-04-20T15:52:21.600Z"
      },
      {
        "duration": 16,
        "start_time": "2023-04-20T15:52:21.646Z"
      },
      {
        "duration": 140,
        "start_time": "2023-04-20T15:52:21.664Z"
      },
      {
        "duration": 146,
        "start_time": "2023-04-20T15:53:27.922Z"
      },
      {
        "duration": 123,
        "start_time": "2023-04-20T15:53:38.811Z"
      },
      {
        "duration": 215,
        "start_time": "2023-04-20T15:53:59.110Z"
      },
      {
        "duration": 1424,
        "start_time": "2023-04-20T15:53:59.885Z"
      },
      {
        "duration": 204,
        "start_time": "2023-04-20T15:54:05.433Z"
      },
      {
        "duration": 26,
        "start_time": "2023-04-20T15:54:07.551Z"
      },
      {
        "duration": 1283,
        "start_time": "2023-04-20T15:54:15.794Z"
      },
      {
        "duration": 745,
        "start_time": "2023-04-20T15:54:17.080Z"
      },
      {
        "duration": 4,
        "start_time": "2023-04-20T15:54:17.827Z"
      },
      {
        "duration": 46,
        "start_time": "2023-04-20T15:54:17.833Z"
      },
      {
        "duration": 16,
        "start_time": "2023-04-20T15:54:17.881Z"
      },
      {
        "duration": 134,
        "start_time": "2023-04-20T15:54:17.899Z"
      },
      {
        "duration": 64,
        "start_time": "2023-04-20T15:54:18.035Z"
      },
      {
        "duration": 751,
        "start_time": "2023-04-20T15:54:18.102Z"
      },
      {
        "duration": 426,
        "start_time": "2023-04-20T15:54:18.854Z"
      },
      {
        "duration": 65,
        "start_time": "2023-04-20T15:54:19.284Z"
      },
      {
        "duration": 11,
        "start_time": "2023-04-20T15:54:19.350Z"
      },
      {
        "duration": 69,
        "start_time": "2023-04-20T15:54:19.363Z"
      },
      {
        "duration": 13,
        "start_time": "2023-04-20T15:54:19.434Z"
      },
      {
        "duration": 10,
        "start_time": "2023-04-20T15:54:19.449Z"
      },
      {
        "duration": 36,
        "start_time": "2023-04-20T15:54:19.462Z"
      },
      {
        "duration": 24,
        "start_time": "2023-04-20T15:54:19.500Z"
      },
      {
        "duration": 133,
        "start_time": "2023-04-20T15:54:19.526Z"
      },
      {
        "duration": 187,
        "start_time": "2023-04-20T15:54:19.662Z"
      },
      {
        "duration": 21,
        "start_time": "2023-04-20T15:54:19.851Z"
      },
      {
        "duration": 140,
        "start_time": "2023-04-20T15:54:19.875Z"
      },
      {
        "duration": 0,
        "start_time": "2023-04-20T15:54:20.017Z"
      },
      {
        "duration": 0,
        "start_time": "2023-04-20T15:54:20.018Z"
      },
      {
        "duration": 0,
        "start_time": "2023-04-20T15:54:20.019Z"
      },
      {
        "duration": 0,
        "start_time": "2023-04-20T15:54:20.022Z"
      },
      {
        "duration": 0,
        "start_time": "2023-04-20T15:54:20.023Z"
      },
      {
        "duration": 0,
        "start_time": "2023-04-20T15:54:20.024Z"
      },
      {
        "duration": 0,
        "start_time": "2023-04-20T15:54:20.026Z"
      },
      {
        "duration": 0,
        "start_time": "2023-04-20T15:54:20.027Z"
      },
      {
        "duration": 11,
        "start_time": "2023-04-20T15:55:06.242Z"
      },
      {
        "duration": 1210,
        "start_time": "2023-04-20T15:55:25.556Z"
      },
      {
        "duration": 677,
        "start_time": "2023-04-20T15:55:26.768Z"
      },
      {
        "duration": 3,
        "start_time": "2023-04-20T15:55:27.447Z"
      },
      {
        "duration": 37,
        "start_time": "2023-04-20T15:55:27.452Z"
      },
      {
        "duration": 13,
        "start_time": "2023-04-20T15:55:27.492Z"
      },
      {
        "duration": 130,
        "start_time": "2023-04-20T15:55:27.507Z"
      },
      {
        "duration": 61,
        "start_time": "2023-04-20T15:55:27.639Z"
      },
      {
        "duration": 726,
        "start_time": "2023-04-20T15:55:27.702Z"
      },
      {
        "duration": 384,
        "start_time": "2023-04-20T15:55:28.430Z"
      },
      {
        "duration": 40,
        "start_time": "2023-04-20T15:55:28.816Z"
      },
      {
        "duration": 10,
        "start_time": "2023-04-20T15:55:28.858Z"
      },
      {
        "duration": 77,
        "start_time": "2023-04-20T15:55:28.870Z"
      },
      {
        "duration": 12,
        "start_time": "2023-04-20T15:55:28.949Z"
      },
      {
        "duration": 13,
        "start_time": "2023-04-20T15:55:28.964Z"
      },
      {
        "duration": 19,
        "start_time": "2023-04-20T15:55:28.980Z"
      },
      {
        "duration": 23,
        "start_time": "2023-04-20T15:55:29.000Z"
      },
      {
        "duration": 136,
        "start_time": "2023-04-20T15:55:29.025Z"
      },
      {
        "duration": 194,
        "start_time": "2023-04-20T15:55:29.163Z"
      },
      {
        "duration": 21,
        "start_time": "2023-04-20T15:55:29.358Z"
      },
      {
        "duration": 127,
        "start_time": "2023-04-20T15:55:29.394Z"
      },
      {
        "duration": 0,
        "start_time": "2023-04-20T15:55:29.522Z"
      },
      {
        "duration": 0,
        "start_time": "2023-04-20T15:55:29.524Z"
      },
      {
        "duration": 0,
        "start_time": "2023-04-20T15:55:29.525Z"
      },
      {
        "duration": 0,
        "start_time": "2023-04-20T15:55:29.528Z"
      },
      {
        "duration": 0,
        "start_time": "2023-04-20T15:55:29.529Z"
      },
      {
        "duration": 0,
        "start_time": "2023-04-20T15:55:29.530Z"
      },
      {
        "duration": 0,
        "start_time": "2023-04-20T15:55:29.531Z"
      },
      {
        "duration": 0,
        "start_time": "2023-04-20T15:55:29.532Z"
      },
      {
        "duration": 15,
        "start_time": "2023-04-20T15:58:30.394Z"
      },
      {
        "duration": 12,
        "start_time": "2023-04-20T15:58:44.147Z"
      },
      {
        "duration": 13,
        "start_time": "2023-04-20T15:59:00.335Z"
      },
      {
        "duration": 10,
        "start_time": "2023-04-20T15:59:06.288Z"
      },
      {
        "duration": 40,
        "start_time": "2023-04-20T15:59:08.011Z"
      },
      {
        "duration": 7,
        "start_time": "2023-04-20T15:59:18.588Z"
      },
      {
        "duration": 1319,
        "start_time": "2023-04-20T15:59:28.157Z"
      },
      {
        "duration": 698,
        "start_time": "2023-04-20T15:59:29.478Z"
      },
      {
        "duration": 4,
        "start_time": "2023-04-20T15:59:30.178Z"
      },
      {
        "duration": 66,
        "start_time": "2023-04-20T15:59:30.185Z"
      },
      {
        "duration": 13,
        "start_time": "2023-04-20T15:59:30.254Z"
      },
      {
        "duration": 146,
        "start_time": "2023-04-20T15:59:30.269Z"
      },
      {
        "duration": 50,
        "start_time": "2023-04-20T15:59:30.417Z"
      },
      {
        "duration": 846,
        "start_time": "2023-04-20T15:59:30.469Z"
      },
      {
        "duration": 405,
        "start_time": "2023-04-20T15:59:31.317Z"
      },
      {
        "duration": 42,
        "start_time": "2023-04-20T15:59:31.724Z"
      },
      {
        "duration": 33,
        "start_time": "2023-04-20T15:59:31.768Z"
      },
      {
        "duration": 41,
        "start_time": "2023-04-20T15:59:31.803Z"
      },
      {
        "duration": 10,
        "start_time": "2023-04-20T15:59:31.845Z"
      },
      {
        "duration": 65,
        "start_time": "2023-04-20T15:59:31.858Z"
      },
      {
        "duration": 20,
        "start_time": "2023-04-20T15:59:31.925Z"
      },
      {
        "duration": 25,
        "start_time": "2023-04-20T15:59:31.946Z"
      },
      {
        "duration": 128,
        "start_time": "2023-04-20T15:59:31.973Z"
      },
      {
        "duration": 186,
        "start_time": "2023-04-20T15:59:32.103Z"
      },
      {
        "duration": 23,
        "start_time": "2023-04-20T15:59:32.292Z"
      },
      {
        "duration": 5,
        "start_time": "2023-04-20T15:59:32.317Z"
      },
      {
        "duration": 16,
        "start_time": "2023-04-20T15:59:32.325Z"
      },
      {
        "duration": 16,
        "start_time": "2023-04-20T15:59:32.343Z"
      },
      {
        "duration": 45,
        "start_time": "2023-04-20T15:59:32.394Z"
      },
      {
        "duration": 3,
        "start_time": "2023-04-20T15:59:32.441Z"
      },
      {
        "duration": 56,
        "start_time": "2023-04-20T15:59:32.445Z"
      },
      {
        "duration": 23,
        "start_time": "2023-04-20T15:59:32.504Z"
      },
      {
        "duration": 41,
        "start_time": "2023-04-20T15:59:32.529Z"
      },
      {
        "duration": 33,
        "start_time": "2023-04-20T15:59:32.572Z"
      },
      {
        "duration": 145,
        "start_time": "2023-04-20T15:59:32.607Z"
      },
      {
        "duration": 12,
        "start_time": "2023-04-20T16:00:06.717Z"
      },
      {
        "duration": 1344,
        "start_time": "2023-04-20T16:00:18.788Z"
      },
      {
        "duration": 654,
        "start_time": "2023-04-20T16:00:20.135Z"
      },
      {
        "duration": 5,
        "start_time": "2023-04-20T16:00:20.790Z"
      },
      {
        "duration": 49,
        "start_time": "2023-04-20T16:00:20.797Z"
      },
      {
        "duration": 13,
        "start_time": "2023-04-20T16:00:20.848Z"
      },
      {
        "duration": 139,
        "start_time": "2023-04-20T16:00:20.863Z"
      },
      {
        "duration": 52,
        "start_time": "2023-04-20T16:00:21.004Z"
      },
      {
        "duration": 748,
        "start_time": "2023-04-20T16:00:21.058Z"
      },
      {
        "duration": 460,
        "start_time": "2023-04-20T16:00:21.808Z"
      },
      {
        "duration": 60,
        "start_time": "2023-04-20T16:00:22.271Z"
      },
      {
        "duration": 11,
        "start_time": "2023-04-20T16:00:22.334Z"
      },
      {
        "duration": 75,
        "start_time": "2023-04-20T16:00:22.347Z"
      },
      {
        "duration": 12,
        "start_time": "2023-04-20T16:00:22.424Z"
      },
      {
        "duration": 6,
        "start_time": "2023-04-20T16:00:22.440Z"
      },
      {
        "duration": 9,
        "start_time": "2023-04-20T16:00:22.448Z"
      },
      {
        "duration": 49,
        "start_time": "2023-04-20T16:00:22.459Z"
      },
      {
        "duration": 138,
        "start_time": "2023-04-20T16:00:22.510Z"
      },
      {
        "duration": 176,
        "start_time": "2023-04-20T16:00:22.650Z"
      },
      {
        "duration": 8,
        "start_time": "2023-04-20T16:00:22.828Z"
      },
      {
        "duration": 33,
        "start_time": "2023-04-20T16:00:22.838Z"
      },
      {
        "duration": 23,
        "start_time": "2023-04-20T16:00:22.873Z"
      },
      {
        "duration": 14,
        "start_time": "2023-04-20T16:00:22.898Z"
      },
      {
        "duration": 37,
        "start_time": "2023-04-20T16:00:22.914Z"
      },
      {
        "duration": 3,
        "start_time": "2023-04-20T16:00:22.953Z"
      },
      {
        "duration": 58,
        "start_time": "2023-04-20T16:00:22.958Z"
      },
      {
        "duration": 16,
        "start_time": "2023-04-20T16:00:23.017Z"
      },
      {
        "duration": 33,
        "start_time": "2023-04-20T16:00:23.035Z"
      },
      {
        "duration": 39,
        "start_time": "2023-04-20T16:00:23.070Z"
      },
      {
        "duration": 133,
        "start_time": "2023-04-20T16:00:23.111Z"
      },
      {
        "duration": 9,
        "start_time": "2023-04-20T16:00:32.556Z"
      },
      {
        "duration": 10,
        "start_time": "2023-04-20T16:00:37.405Z"
      },
      {
        "duration": 1226,
        "start_time": "2023-04-20T16:00:44.912Z"
      },
      {
        "duration": 623,
        "start_time": "2023-04-20T16:00:46.140Z"
      },
      {
        "duration": 3,
        "start_time": "2023-04-20T16:00:46.765Z"
      },
      {
        "duration": 57,
        "start_time": "2023-04-20T16:00:46.770Z"
      },
      {
        "duration": 11,
        "start_time": "2023-04-20T16:00:46.830Z"
      },
      {
        "duration": 115,
        "start_time": "2023-04-20T16:00:46.843Z"
      },
      {
        "duration": 67,
        "start_time": "2023-04-20T16:00:46.960Z"
      },
      {
        "duration": 664,
        "start_time": "2023-04-20T16:00:47.029Z"
      },
      {
        "duration": 360,
        "start_time": "2023-04-20T16:00:47.695Z"
      },
      {
        "duration": 59,
        "start_time": "2023-04-20T16:00:48.057Z"
      },
      {
        "duration": 12,
        "start_time": "2023-04-20T16:00:48.117Z"
      },
      {
        "duration": 35,
        "start_time": "2023-04-20T16:00:48.131Z"
      },
      {
        "duration": 35,
        "start_time": "2023-04-20T16:00:48.168Z"
      },
      {
        "duration": 7,
        "start_time": "2023-04-20T16:00:48.206Z"
      },
      {
        "duration": 7,
        "start_time": "2023-04-20T16:00:48.215Z"
      },
      {
        "duration": 15,
        "start_time": "2023-04-20T16:00:48.224Z"
      },
      {
        "duration": 162,
        "start_time": "2023-04-20T16:00:48.240Z"
      },
      {
        "duration": 168,
        "start_time": "2023-04-20T16:00:48.405Z"
      },
      {
        "duration": 5,
        "start_time": "2023-04-20T16:00:48.576Z"
      },
      {
        "duration": 26,
        "start_time": "2023-04-20T16:00:48.583Z"
      },
      {
        "duration": 7,
        "start_time": "2023-04-20T16:00:48.610Z"
      },
      {
        "duration": 17,
        "start_time": "2023-04-20T16:00:48.619Z"
      },
      {
        "duration": 33,
        "start_time": "2023-04-20T16:00:48.638Z"
      },
      {
        "duration": 21,
        "start_time": "2023-04-20T16:00:48.673Z"
      },
      {
        "duration": 34,
        "start_time": "2023-04-20T16:00:48.696Z"
      },
      {
        "duration": 15,
        "start_time": "2023-04-20T16:00:48.732Z"
      },
      {
        "duration": 63,
        "start_time": "2023-04-20T16:00:48.749Z"
      },
      {
        "duration": 14,
        "start_time": "2023-04-20T16:00:48.814Z"
      },
      {
        "duration": 121,
        "start_time": "2023-04-20T16:00:48.830Z"
      },
      {
        "duration": 120,
        "start_time": "2023-04-20T16:01:13.856Z"
      },
      {
        "duration": 9,
        "start_time": "2023-04-20T16:01:44.536Z"
      },
      {
        "duration": 13,
        "start_time": "2023-04-20T16:01:49.792Z"
      },
      {
        "duration": 8,
        "start_time": "2023-04-20T16:01:51.788Z"
      },
      {
        "duration": 1205,
        "start_time": "2023-04-20T16:01:57.335Z"
      },
      {
        "duration": 649,
        "start_time": "2023-04-20T16:01:58.542Z"
      },
      {
        "duration": 4,
        "start_time": "2023-04-20T16:01:59.193Z"
      },
      {
        "duration": 65,
        "start_time": "2023-04-20T16:01:59.199Z"
      },
      {
        "duration": 11,
        "start_time": "2023-04-20T16:01:59.268Z"
      },
      {
        "duration": 122,
        "start_time": "2023-04-20T16:01:59.281Z"
      },
      {
        "duration": 47,
        "start_time": "2023-04-20T16:01:59.405Z"
      },
      {
        "duration": 703,
        "start_time": "2023-04-20T16:01:59.454Z"
      },
      {
        "duration": 372,
        "start_time": "2023-04-20T16:02:00.159Z"
      },
      {
        "duration": 64,
        "start_time": "2023-04-20T16:02:00.533Z"
      },
      {
        "duration": 14,
        "start_time": "2023-04-20T16:02:00.599Z"
      },
      {
        "duration": 61,
        "start_time": "2023-04-20T16:02:00.615Z"
      },
      {
        "duration": 39,
        "start_time": "2023-04-20T16:02:00.678Z"
      },
      {
        "duration": 28,
        "start_time": "2023-04-20T16:02:00.721Z"
      },
      {
        "duration": 39,
        "start_time": "2023-04-20T16:02:00.751Z"
      },
      {
        "duration": 53,
        "start_time": "2023-04-20T16:02:00.792Z"
      },
      {
        "duration": 191,
        "start_time": "2023-04-20T16:02:00.847Z"
      },
      {
        "duration": 168,
        "start_time": "2023-04-20T16:02:01.041Z"
      },
      {
        "duration": 7,
        "start_time": "2023-04-20T16:02:01.211Z"
      },
      {
        "duration": 29,
        "start_time": "2023-04-20T16:02:01.220Z"
      },
      {
        "duration": 20,
        "start_time": "2023-04-20T16:02:01.251Z"
      },
      {
        "duration": 36,
        "start_time": "2023-04-20T16:02:01.273Z"
      },
      {
        "duration": 72,
        "start_time": "2023-04-20T16:02:01.312Z"
      },
      {
        "duration": 2,
        "start_time": "2023-04-20T16:02:01.386Z"
      },
      {
        "duration": 45,
        "start_time": "2023-04-20T16:02:01.391Z"
      },
      {
        "duration": 17,
        "start_time": "2023-04-20T16:02:01.438Z"
      },
      {
        "duration": 56,
        "start_time": "2023-04-20T16:02:01.456Z"
      },
      {
        "duration": 16,
        "start_time": "2023-04-20T16:02:01.514Z"
      },
      {
        "duration": 121,
        "start_time": "2023-04-20T16:02:01.531Z"
      },
      {
        "duration": 9,
        "start_time": "2023-04-20T16:03:00.249Z"
      },
      {
        "duration": 11,
        "start_time": "2023-04-20T16:06:17.552Z"
      },
      {
        "duration": 13,
        "start_time": "2023-04-20T16:09:05.689Z"
      },
      {
        "duration": 13,
        "start_time": "2023-04-20T16:09:08.991Z"
      },
      {
        "duration": 11,
        "start_time": "2023-04-20T16:09:24.908Z"
      },
      {
        "duration": 28,
        "start_time": "2023-04-20T16:09:43.389Z"
      },
      {
        "duration": 164,
        "start_time": "2023-04-20T16:12:02.586Z"
      },
      {
        "duration": 30,
        "start_time": "2023-04-20T16:12:05.132Z"
      },
      {
        "duration": 121,
        "start_time": "2023-04-20T16:13:14.720Z"
      },
      {
        "duration": 39,
        "start_time": "2023-04-20T16:13:23.622Z"
      },
      {
        "duration": 25,
        "start_time": "2023-04-20T16:13:25.560Z"
      },
      {
        "duration": 17,
        "start_time": "2023-04-20T16:13:33.634Z"
      },
      {
        "duration": 34,
        "start_time": "2023-04-20T16:13:34.508Z"
      },
      {
        "duration": 17,
        "start_time": "2023-04-20T16:13:36.089Z"
      },
      {
        "duration": 16,
        "start_time": "2023-04-20T16:14:25.143Z"
      },
      {
        "duration": 5,
        "start_time": "2023-04-20T16:15:44.617Z"
      },
      {
        "duration": 4,
        "start_time": "2023-04-20T16:15:58.408Z"
      },
      {
        "duration": 26,
        "start_time": "2023-04-20T16:16:01.434Z"
      },
      {
        "duration": 1246,
        "start_time": "2023-04-20T16:16:09.661Z"
      },
      {
        "duration": 652,
        "start_time": "2023-04-20T16:16:10.909Z"
      },
      {
        "duration": 4,
        "start_time": "2023-04-20T16:16:11.562Z"
      },
      {
        "duration": 49,
        "start_time": "2023-04-20T16:16:11.567Z"
      },
      {
        "duration": 14,
        "start_time": "2023-04-20T16:16:11.619Z"
      },
      {
        "duration": 167,
        "start_time": "2023-04-20T16:16:11.635Z"
      },
      {
        "duration": 60,
        "start_time": "2023-04-20T16:16:11.806Z"
      },
      {
        "duration": 783,
        "start_time": "2023-04-20T16:16:11.869Z"
      },
      {
        "duration": 381,
        "start_time": "2023-04-20T16:16:12.654Z"
      },
      {
        "duration": 39,
        "start_time": "2023-04-20T16:16:13.036Z"
      },
      {
        "duration": 24,
        "start_time": "2023-04-20T16:16:13.077Z"
      },
      {
        "duration": 43,
        "start_time": "2023-04-20T16:16:13.104Z"
      },
      {
        "duration": 10,
        "start_time": "2023-04-20T16:16:13.149Z"
      },
      {
        "duration": 50,
        "start_time": "2023-04-20T16:16:13.162Z"
      },
      {
        "duration": 9,
        "start_time": "2023-04-20T16:16:13.217Z"
      },
      {
        "duration": 42,
        "start_time": "2023-04-20T16:16:13.228Z"
      },
      {
        "duration": 150,
        "start_time": "2023-04-20T16:16:13.272Z"
      },
      {
        "duration": 166,
        "start_time": "2023-04-20T16:16:13.424Z"
      },
      {
        "duration": 6,
        "start_time": "2023-04-20T16:16:13.593Z"
      },
      {
        "duration": 34,
        "start_time": "2023-04-20T16:16:13.601Z"
      },
      {
        "duration": 14,
        "start_time": "2023-04-20T16:16:13.637Z"
      },
      {
        "duration": 32,
        "start_time": "2023-04-20T16:16:13.653Z"
      },
      {
        "duration": 53,
        "start_time": "2023-04-20T16:16:13.686Z"
      },
      {
        "duration": 32,
        "start_time": "2023-04-20T16:16:13.741Z"
      },
      {
        "duration": 73,
        "start_time": "2023-04-20T16:16:13.775Z"
      },
      {
        "duration": 29,
        "start_time": "2023-04-20T16:16:13.850Z"
      },
      {
        "duration": 33,
        "start_time": "2023-04-20T16:16:13.881Z"
      },
      {
        "duration": 16,
        "start_time": "2023-04-20T16:16:13.916Z"
      },
      {
        "duration": 18,
        "start_time": "2023-04-20T16:16:13.933Z"
      },
      {
        "duration": 116,
        "start_time": "2023-04-20T16:16:13.952Z"
      },
      {
        "duration": 6,
        "start_time": "2023-04-20T16:17:04.217Z"
      },
      {
        "duration": 12,
        "start_time": "2023-04-20T16:17:06.115Z"
      },
      {
        "duration": 8,
        "start_time": "2023-04-20T16:18:53.357Z"
      },
      {
        "duration": 11,
        "start_time": "2023-04-20T16:18:56.992Z"
      },
      {
        "duration": 8,
        "start_time": "2023-04-20T16:19:09.460Z"
      },
      {
        "duration": 1217,
        "start_time": "2023-04-20T16:19:18.037Z"
      },
      {
        "duration": 659,
        "start_time": "2023-04-20T16:19:19.256Z"
      },
      {
        "duration": 4,
        "start_time": "2023-04-20T16:19:19.916Z"
      },
      {
        "duration": 44,
        "start_time": "2023-04-20T16:19:19.922Z"
      },
      {
        "duration": 34,
        "start_time": "2023-04-20T16:19:19.968Z"
      },
      {
        "duration": 118,
        "start_time": "2023-04-20T16:19:20.005Z"
      },
      {
        "duration": 43,
        "start_time": "2023-04-20T16:19:20.125Z"
      },
      {
        "duration": 709,
        "start_time": "2023-04-20T16:19:20.171Z"
      },
      {
        "duration": 394,
        "start_time": "2023-04-20T16:19:20.882Z"
      },
      {
        "duration": 54,
        "start_time": "2023-04-20T16:19:21.278Z"
      },
      {
        "duration": 10,
        "start_time": "2023-04-20T16:19:21.334Z"
      },
      {
        "duration": 66,
        "start_time": "2023-04-20T16:19:21.345Z"
      },
      {
        "duration": 11,
        "start_time": "2023-04-20T16:19:21.412Z"
      },
      {
        "duration": 8,
        "start_time": "2023-04-20T16:19:21.425Z"
      },
      {
        "duration": 11,
        "start_time": "2023-04-20T16:19:21.434Z"
      },
      {
        "duration": 26,
        "start_time": "2023-04-20T16:19:21.447Z"
      },
      {
        "duration": 143,
        "start_time": "2023-04-20T16:19:21.475Z"
      },
      {
        "duration": 164,
        "start_time": "2023-04-20T16:19:21.620Z"
      },
      {
        "duration": 13,
        "start_time": "2023-04-20T16:19:21.786Z"
      },
      {
        "duration": 24,
        "start_time": "2023-04-20T16:19:21.804Z"
      },
      {
        "duration": 8,
        "start_time": "2023-04-20T16:19:21.829Z"
      },
      {
        "duration": 13,
        "start_time": "2023-04-20T16:19:21.840Z"
      },
      {
        "duration": 48,
        "start_time": "2023-04-20T16:19:21.855Z"
      },
      {
        "duration": 6,
        "start_time": "2023-04-20T16:19:21.905Z"
      },
      {
        "duration": 38,
        "start_time": "2023-04-20T16:19:21.913Z"
      },
      {
        "duration": 9,
        "start_time": "2023-04-20T16:19:21.953Z"
      },
      {
        "duration": 64,
        "start_time": "2023-04-20T16:19:21.964Z"
      },
      {
        "duration": 8,
        "start_time": "2023-04-20T16:19:22.030Z"
      },
      {
        "duration": 93,
        "start_time": "2023-04-20T16:19:22.041Z"
      },
      {
        "duration": 0,
        "start_time": "2023-04-20T16:19:22.136Z"
      },
      {
        "duration": 0,
        "start_time": "2023-04-20T16:19:22.139Z"
      },
      {
        "duration": 0,
        "start_time": "2023-04-20T16:19:22.140Z"
      },
      {
        "duration": 0,
        "start_time": "2023-04-20T16:19:22.141Z"
      },
      {
        "duration": 116,
        "start_time": "2023-04-20T16:21:05.488Z"
      },
      {
        "duration": 17,
        "start_time": "2023-04-20T16:21:22.252Z"
      },
      {
        "duration": 12,
        "start_time": "2023-04-20T16:21:45.688Z"
      },
      {
        "duration": 13,
        "start_time": "2023-04-20T16:22:43.593Z"
      },
      {
        "duration": 1223,
        "start_time": "2023-04-20T16:22:56.910Z"
      },
      {
        "duration": 645,
        "start_time": "2023-04-20T16:22:58.135Z"
      },
      {
        "duration": 3,
        "start_time": "2023-04-20T16:22:58.782Z"
      },
      {
        "duration": 47,
        "start_time": "2023-04-20T16:22:58.786Z"
      },
      {
        "duration": 9,
        "start_time": "2023-04-20T16:22:58.835Z"
      },
      {
        "duration": 123,
        "start_time": "2023-04-20T16:22:58.846Z"
      },
      {
        "duration": 62,
        "start_time": "2023-04-20T16:22:58.971Z"
      },
      {
        "duration": 699,
        "start_time": "2023-04-20T16:22:59.035Z"
      },
      {
        "duration": 368,
        "start_time": "2023-04-20T16:22:59.736Z"
      },
      {
        "duration": 42,
        "start_time": "2023-04-20T16:23:00.107Z"
      },
      {
        "duration": 9,
        "start_time": "2023-04-20T16:23:00.151Z"
      },
      {
        "duration": 67,
        "start_time": "2023-04-20T16:23:00.162Z"
      },
      {
        "duration": 10,
        "start_time": "2023-04-20T16:23:00.231Z"
      },
      {
        "duration": 6,
        "start_time": "2023-04-20T16:23:00.244Z"
      },
      {
        "duration": 16,
        "start_time": "2023-04-20T16:23:00.251Z"
      },
      {
        "duration": 38,
        "start_time": "2023-04-20T16:23:00.269Z"
      },
      {
        "duration": 133,
        "start_time": "2023-04-20T16:23:00.310Z"
      },
      {
        "duration": 173,
        "start_time": "2023-04-20T16:23:00.445Z"
      },
      {
        "duration": 7,
        "start_time": "2023-04-20T16:23:00.620Z"
      },
      {
        "duration": 34,
        "start_time": "2023-04-20T16:23:00.629Z"
      },
      {
        "duration": 9,
        "start_time": "2023-04-20T16:23:00.664Z"
      },
      {
        "duration": 28,
        "start_time": "2023-04-20T16:23:00.675Z"
      },
      {
        "duration": 49,
        "start_time": "2023-04-20T16:23:00.705Z"
      },
      {
        "duration": 15,
        "start_time": "2023-04-20T16:23:00.756Z"
      },
      {
        "duration": 61,
        "start_time": "2023-04-20T16:23:00.773Z"
      },
      {
        "duration": 11,
        "start_time": "2023-04-20T16:23:00.836Z"
      },
      {
        "duration": 56,
        "start_time": "2023-04-20T16:23:00.849Z"
      },
      {
        "duration": 30,
        "start_time": "2023-04-20T16:23:00.907Z"
      },
      {
        "duration": 14,
        "start_time": "2023-04-20T16:23:00.938Z"
      },
      {
        "duration": 130,
        "start_time": "2023-04-20T16:23:00.954Z"
      },
      {
        "duration": 13,
        "start_time": "2023-04-20T16:23:19.412Z"
      },
      {
        "duration": 19,
        "start_time": "2023-04-20T16:23:23.513Z"
      },
      {
        "duration": 7,
        "start_time": "2023-04-20T16:23:49.093Z"
      },
      {
        "duration": 15,
        "start_time": "2023-04-20T16:24:07.859Z"
      },
      {
        "duration": 16,
        "start_time": "2023-04-20T16:24:20.492Z"
      },
      {
        "duration": 6,
        "start_time": "2023-04-20T16:24:39.001Z"
      },
      {
        "duration": 1216,
        "start_time": "2023-04-20T16:25:20.511Z"
      },
      {
        "duration": 733,
        "start_time": "2023-04-20T16:25:21.730Z"
      },
      {
        "duration": 4,
        "start_time": "2023-04-20T16:25:22.465Z"
      },
      {
        "duration": 40,
        "start_time": "2023-04-20T16:25:22.471Z"
      },
      {
        "duration": 24,
        "start_time": "2023-04-20T16:25:22.514Z"
      },
      {
        "duration": 131,
        "start_time": "2023-04-20T16:25:22.541Z"
      },
      {
        "duration": 64,
        "start_time": "2023-04-20T16:25:22.673Z"
      },
      {
        "duration": 661,
        "start_time": "2023-04-20T16:25:22.738Z"
      },
      {
        "duration": 370,
        "start_time": "2023-04-20T16:25:23.401Z"
      },
      {
        "duration": 62,
        "start_time": "2023-04-20T16:25:23.773Z"
      },
      {
        "duration": 9,
        "start_time": "2023-04-20T16:25:23.837Z"
      },
      {
        "duration": 70,
        "start_time": "2023-04-20T16:25:23.848Z"
      },
      {
        "duration": 11,
        "start_time": "2023-04-20T16:25:23.920Z"
      },
      {
        "duration": 6,
        "start_time": "2023-04-20T16:25:23.933Z"
      },
      {
        "duration": 6,
        "start_time": "2023-04-20T16:25:23.940Z"
      },
      {
        "duration": 12,
        "start_time": "2023-04-20T16:25:23.948Z"
      },
      {
        "duration": 161,
        "start_time": "2023-04-20T16:25:23.962Z"
      },
      {
        "duration": 177,
        "start_time": "2023-04-20T16:25:24.124Z"
      },
      {
        "duration": 8,
        "start_time": "2023-04-20T16:25:24.307Z"
      },
      {
        "duration": 17,
        "start_time": "2023-04-20T16:25:24.317Z"
      },
      {
        "duration": 9,
        "start_time": "2023-04-20T16:25:24.336Z"
      },
      {
        "duration": 16,
        "start_time": "2023-04-20T16:25:24.347Z"
      },
      {
        "duration": 28,
        "start_time": "2023-04-20T16:25:24.365Z"
      },
      {
        "duration": 37,
        "start_time": "2023-04-20T16:25:24.395Z"
      },
      {
        "duration": 11,
        "start_time": "2023-04-20T16:25:24.434Z"
      },
      {
        "duration": 15,
        "start_time": "2023-04-20T16:25:24.447Z"
      },
      {
        "duration": 42,
        "start_time": "2023-04-20T16:25:24.463Z"
      },
      {
        "duration": 22,
        "start_time": "2023-04-20T16:25:24.507Z"
      },
      {
        "duration": 132,
        "start_time": "2023-04-20T16:25:24.531Z"
      },
      {
        "duration": 10,
        "start_time": "2023-04-20T16:29:34.529Z"
      },
      {
        "duration": 41,
        "start_time": "2023-04-20T16:29:35.487Z"
      },
      {
        "duration": 11,
        "start_time": "2023-04-20T16:29:36.705Z"
      },
      {
        "duration": 5,
        "start_time": "2023-04-20T16:29:57.726Z"
      },
      {
        "duration": 7,
        "start_time": "2023-04-20T16:30:00.612Z"
      },
      {
        "duration": 1170,
        "start_time": "2023-04-20T16:30:05.852Z"
      },
      {
        "duration": 658,
        "start_time": "2023-04-20T16:30:07.024Z"
      },
      {
        "duration": 4,
        "start_time": "2023-04-20T16:30:07.685Z"
      },
      {
        "duration": 45,
        "start_time": "2023-04-20T16:30:07.690Z"
      },
      {
        "duration": 10,
        "start_time": "2023-04-20T16:30:07.737Z"
      },
      {
        "duration": 120,
        "start_time": "2023-04-20T16:30:07.749Z"
      },
      {
        "duration": 62,
        "start_time": "2023-04-20T16:30:07.871Z"
      },
      {
        "duration": 654,
        "start_time": "2023-04-20T16:30:07.935Z"
      },
      {
        "duration": 352,
        "start_time": "2023-04-20T16:30:08.593Z"
      },
      {
        "duration": 51,
        "start_time": "2023-04-20T16:30:08.947Z"
      },
      {
        "duration": 14,
        "start_time": "2023-04-20T16:30:08.999Z"
      },
      {
        "duration": 9,
        "start_time": "2023-04-20T16:30:09.014Z"
      },
      {
        "duration": 34,
        "start_time": "2023-04-20T16:30:09.025Z"
      },
      {
        "duration": 45,
        "start_time": "2023-04-20T16:30:09.061Z"
      },
      {
        "duration": 5,
        "start_time": "2023-04-20T16:30:09.109Z"
      },
      {
        "duration": 11,
        "start_time": "2023-04-20T16:30:09.116Z"
      },
      {
        "duration": 142,
        "start_time": "2023-04-20T16:30:09.128Z"
      },
      {
        "duration": 159,
        "start_time": "2023-04-20T16:30:09.272Z"
      },
      {
        "duration": 5,
        "start_time": "2023-04-20T16:30:09.433Z"
      },
      {
        "duration": 13,
        "start_time": "2023-04-20T16:30:09.440Z"
      },
      {
        "duration": 7,
        "start_time": "2023-04-20T16:30:09.454Z"
      },
      {
        "duration": 42,
        "start_time": "2023-04-20T16:30:09.462Z"
      },
      {
        "duration": 5,
        "start_time": "2023-04-20T16:30:09.506Z"
      },
      {
        "duration": 35,
        "start_time": "2023-04-20T16:30:09.514Z"
      },
      {
        "duration": 11,
        "start_time": "2023-04-20T16:30:09.551Z"
      },
      {
        "duration": 14,
        "start_time": "2023-04-20T16:30:09.563Z"
      },
      {
        "duration": 21,
        "start_time": "2023-04-20T16:30:09.593Z"
      },
      {
        "duration": 21,
        "start_time": "2023-04-20T16:30:09.616Z"
      },
      {
        "duration": 136,
        "start_time": "2023-04-20T16:30:09.638Z"
      },
      {
        "duration": 11,
        "start_time": "2023-04-20T16:31:37.318Z"
      },
      {
        "duration": 7,
        "start_time": "2023-04-20T16:31:40.117Z"
      },
      {
        "duration": 25,
        "start_time": "2023-04-20T16:31:54.732Z"
      },
      {
        "duration": 17,
        "start_time": "2023-04-20T16:31:55.992Z"
      },
      {
        "duration": 7,
        "start_time": "2023-04-20T16:32:02.246Z"
      },
      {
        "duration": 1251,
        "start_time": "2023-04-20T16:32:12.510Z"
      },
      {
        "duration": 639,
        "start_time": "2023-04-20T16:32:13.763Z"
      },
      {
        "duration": 4,
        "start_time": "2023-04-20T16:32:14.404Z"
      },
      {
        "duration": 56,
        "start_time": "2023-04-20T16:32:14.410Z"
      },
      {
        "duration": 10,
        "start_time": "2023-04-20T16:32:14.468Z"
      },
      {
        "duration": 108,
        "start_time": "2023-04-20T16:32:14.480Z"
      },
      {
        "duration": 53,
        "start_time": "2023-04-20T16:32:14.589Z"
      },
      {
        "duration": 698,
        "start_time": "2023-04-20T16:32:14.644Z"
      },
      {
        "duration": 371,
        "start_time": "2023-04-20T16:32:15.344Z"
      },
      {
        "duration": 42,
        "start_time": "2023-04-20T16:32:15.718Z"
      },
      {
        "duration": 9,
        "start_time": "2023-04-20T16:32:15.761Z"
      },
      {
        "duration": 16,
        "start_time": "2023-04-20T16:32:15.795Z"
      },
      {
        "duration": 28,
        "start_time": "2023-04-20T16:32:15.813Z"
      },
      {
        "duration": 10,
        "start_time": "2023-04-20T16:32:15.843Z"
      },
      {
        "duration": 8,
        "start_time": "2023-04-20T16:32:15.855Z"
      },
      {
        "duration": 11,
        "start_time": "2023-04-20T16:32:15.865Z"
      },
      {
        "duration": 139,
        "start_time": "2023-04-20T16:32:15.894Z"
      },
      {
        "duration": 177,
        "start_time": "2023-04-20T16:32:16.035Z"
      },
      {
        "duration": 10,
        "start_time": "2023-04-20T16:32:16.214Z"
      },
      {
        "duration": 13,
        "start_time": "2023-04-20T16:32:16.226Z"
      },
      {
        "duration": 7,
        "start_time": "2023-04-20T16:32:16.241Z"
      },
      {
        "duration": 12,
        "start_time": "2023-04-20T16:32:16.249Z"
      },
      {
        "duration": 27,
        "start_time": "2023-04-20T16:32:16.262Z"
      },
      {
        "duration": 42,
        "start_time": "2023-04-20T16:32:16.291Z"
      },
      {
        "duration": 19,
        "start_time": "2023-04-20T16:32:16.335Z"
      },
      {
        "duration": 14,
        "start_time": "2023-04-20T16:32:16.356Z"
      },
      {
        "duration": 34,
        "start_time": "2023-04-20T16:32:16.378Z"
      },
      {
        "duration": 25,
        "start_time": "2023-04-20T16:32:16.416Z"
      },
      {
        "duration": 130,
        "start_time": "2023-04-20T16:32:16.443Z"
      },
      {
        "duration": 10,
        "start_time": "2023-04-20T16:33:05.926Z"
      },
      {
        "duration": 8,
        "start_time": "2023-04-20T16:33:08.712Z"
      },
      {
        "duration": 14,
        "start_time": "2023-04-20T16:33:17.839Z"
      },
      {
        "duration": 8,
        "start_time": "2023-04-20T16:33:31.256Z"
      },
      {
        "duration": 25,
        "start_time": "2023-04-20T16:33:40.619Z"
      },
      {
        "duration": 4,
        "start_time": "2023-04-20T16:35:14.051Z"
      },
      {
        "duration": 4,
        "start_time": "2023-04-20T16:35:18.531Z"
      },
      {
        "duration": 129,
        "start_time": "2023-04-20T16:35:35.705Z"
      },
      {
        "duration": 113,
        "start_time": "2023-04-20T16:35:43.840Z"
      },
      {
        "duration": 5,
        "start_time": "2023-04-20T16:40:22.022Z"
      },
      {
        "duration": 11,
        "start_time": "2023-04-20T16:40:30.691Z"
      },
      {
        "duration": 4,
        "start_time": "2023-04-20T16:40:41.492Z"
      },
      {
        "duration": 1218,
        "start_time": "2023-04-20T16:40:51.209Z"
      },
      {
        "duration": 601,
        "start_time": "2023-04-20T16:40:52.429Z"
      },
      {
        "duration": 3,
        "start_time": "2023-04-20T16:40:53.032Z"
      },
      {
        "duration": 48,
        "start_time": "2023-04-20T16:40:53.037Z"
      },
      {
        "duration": 10,
        "start_time": "2023-04-20T16:40:53.088Z"
      },
      {
        "duration": 96,
        "start_time": "2023-04-20T16:40:53.099Z"
      },
      {
        "duration": 48,
        "start_time": "2023-04-20T16:40:53.197Z"
      },
      {
        "duration": 882,
        "start_time": "2023-04-20T16:40:53.247Z"
      },
      {
        "duration": 691,
        "start_time": "2023-04-20T16:40:54.131Z"
      },
      {
        "duration": 91,
        "start_time": "2023-04-20T16:40:54.823Z"
      },
      {
        "duration": 9,
        "start_time": "2023-04-20T16:40:54.916Z"
      },
      {
        "duration": 9,
        "start_time": "2023-04-20T16:40:54.926Z"
      },
      {
        "duration": 26,
        "start_time": "2023-04-20T16:40:54.993Z"
      },
      {
        "duration": 11,
        "start_time": "2023-04-20T16:40:55.022Z"
      },
      {
        "duration": 62,
        "start_time": "2023-04-20T16:40:55.035Z"
      },
      {
        "duration": 61,
        "start_time": "2023-04-20T16:40:55.099Z"
      },
      {
        "duration": 31,
        "start_time": "2023-04-20T16:40:55.162Z"
      },
      {
        "duration": 9,
        "start_time": "2023-04-20T16:40:55.196Z"
      },
      {
        "duration": 291,
        "start_time": "2023-04-20T16:40:55.207Z"
      },
      {
        "duration": 203,
        "start_time": "2023-04-20T16:40:55.500Z"
      },
      {
        "duration": 5,
        "start_time": "2023-04-20T16:40:55.705Z"
      },
      {
        "duration": 13,
        "start_time": "2023-04-20T16:40:55.712Z"
      },
      {
        "duration": 7,
        "start_time": "2023-04-20T16:40:55.726Z"
      },
      {
        "duration": 10,
        "start_time": "2023-04-20T16:40:55.734Z"
      },
      {
        "duration": 8,
        "start_time": "2023-04-20T16:40:55.746Z"
      },
      {
        "duration": 56,
        "start_time": "2023-04-20T16:40:55.756Z"
      },
      {
        "duration": 11,
        "start_time": "2023-04-20T16:40:55.814Z"
      },
      {
        "duration": 14,
        "start_time": "2023-04-20T16:40:55.827Z"
      },
      {
        "duration": 13,
        "start_time": "2023-04-20T16:40:55.842Z"
      },
      {
        "duration": 45,
        "start_time": "2023-04-20T16:40:55.857Z"
      },
      {
        "duration": 111,
        "start_time": "2023-04-20T16:40:55.904Z"
      },
      {
        "duration": 4,
        "start_time": "2023-04-20T16:41:14.908Z"
      },
      {
        "duration": 1179,
        "start_time": "2023-04-20T16:41:21.847Z"
      },
      {
        "duration": 607,
        "start_time": "2023-04-20T16:41:23.027Z"
      },
      {
        "duration": 4,
        "start_time": "2023-04-20T16:41:23.635Z"
      },
      {
        "duration": 36,
        "start_time": "2023-04-20T16:41:23.641Z"
      },
      {
        "duration": 17,
        "start_time": "2023-04-20T16:41:23.678Z"
      },
      {
        "duration": 108,
        "start_time": "2023-04-20T16:41:23.697Z"
      },
      {
        "duration": 45,
        "start_time": "2023-04-20T16:41:23.807Z"
      },
      {
        "duration": 625,
        "start_time": "2023-04-20T16:41:23.854Z"
      },
      {
        "duration": 336,
        "start_time": "2023-04-20T16:41:24.481Z"
      },
      {
        "duration": 36,
        "start_time": "2023-04-20T16:41:24.819Z"
      },
      {
        "duration": 9,
        "start_time": "2023-04-20T16:41:24.856Z"
      },
      {
        "duration": 29,
        "start_time": "2023-04-20T16:41:24.867Z"
      },
      {
        "duration": 25,
        "start_time": "2023-04-20T16:41:24.897Z"
      },
      {
        "duration": 4,
        "start_time": "2023-04-20T16:41:24.924Z"
      },
      {
        "duration": 17,
        "start_time": "2023-04-20T16:41:24.930Z"
      },
      {
        "duration": 5,
        "start_time": "2023-04-20T16:41:24.949Z"
      },
      {
        "duration": 15,
        "start_time": "2023-04-20T16:41:24.955Z"
      },
      {
        "duration": 32,
        "start_time": "2023-04-20T16:41:24.972Z"
      },
      {
        "duration": 11,
        "start_time": "2023-04-20T16:41:25.006Z"
      },
      {
        "duration": 127,
        "start_time": "2023-04-20T16:41:25.018Z"
      },
      {
        "duration": 148,
        "start_time": "2023-04-20T16:41:25.147Z"
      },
      {
        "duration": 6,
        "start_time": "2023-04-20T16:41:25.297Z"
      },
      {
        "duration": 13,
        "start_time": "2023-04-20T16:41:25.304Z"
      },
      {
        "duration": 7,
        "start_time": "2023-04-20T16:41:25.318Z"
      },
      {
        "duration": 12,
        "start_time": "2023-04-20T16:41:25.327Z"
      },
      {
        "duration": 20,
        "start_time": "2023-04-20T16:41:25.340Z"
      },
      {
        "duration": 44,
        "start_time": "2023-04-20T16:41:25.362Z"
      },
      {
        "duration": 11,
        "start_time": "2023-04-20T16:41:25.409Z"
      },
      {
        "duration": 16,
        "start_time": "2023-04-20T16:41:25.422Z"
      },
      {
        "duration": 13,
        "start_time": "2023-04-20T16:41:25.439Z"
      },
      {
        "duration": 40,
        "start_time": "2023-04-20T16:41:25.454Z"
      },
      {
        "duration": 119,
        "start_time": "2023-04-20T16:41:25.496Z"
      },
      {
        "duration": 1211,
        "start_time": "2023-04-20T16:42:24.314Z"
      },
      {
        "duration": 612,
        "start_time": "2023-04-20T16:42:25.527Z"
      },
      {
        "duration": 3,
        "start_time": "2023-04-20T16:42:26.141Z"
      },
      {
        "duration": 44,
        "start_time": "2023-04-20T16:42:26.146Z"
      },
      {
        "duration": 10,
        "start_time": "2023-04-20T16:42:26.192Z"
      },
      {
        "duration": 112,
        "start_time": "2023-04-20T16:42:26.203Z"
      },
      {
        "duration": 45,
        "start_time": "2023-04-20T16:42:26.317Z"
      },
      {
        "duration": 628,
        "start_time": "2023-04-20T16:42:26.364Z"
      },
      {
        "duration": 350,
        "start_time": "2023-04-20T16:42:26.993Z"
      },
      {
        "duration": 51,
        "start_time": "2023-04-20T16:42:27.345Z"
      },
      {
        "duration": 9,
        "start_time": "2023-04-20T16:42:27.398Z"
      },
      {
        "duration": 10,
        "start_time": "2023-04-20T16:42:27.409Z"
      },
      {
        "duration": 27,
        "start_time": "2023-04-20T16:42:27.420Z"
      },
      {
        "duration": 10,
        "start_time": "2023-04-20T16:42:27.450Z"
      },
      {
        "duration": 4,
        "start_time": "2023-04-20T16:42:27.462Z"
      },
      {
        "duration": 5,
        "start_time": "2023-04-20T16:42:27.494Z"
      },
      {
        "duration": 9,
        "start_time": "2023-04-20T16:42:27.501Z"
      },
      {
        "duration": 136,
        "start_time": "2023-04-20T16:42:27.512Z"
      },
      {
        "duration": 150,
        "start_time": "2023-04-20T16:42:27.650Z"
      },
      {
        "duration": 7,
        "start_time": "2023-04-20T16:42:27.802Z"
      },
      {
        "duration": 14,
        "start_time": "2023-04-20T16:42:27.810Z"
      },
      {
        "duration": 8,
        "start_time": "2023-04-20T16:42:27.825Z"
      },
      {
        "duration": 10,
        "start_time": "2023-04-20T16:42:27.835Z"
      },
      {
        "duration": 6,
        "start_time": "2023-04-20T16:42:27.847Z"
      },
      {
        "duration": 29,
        "start_time": "2023-04-20T16:42:27.894Z"
      },
      {
        "duration": 12,
        "start_time": "2023-04-20T16:42:27.925Z"
      },
      {
        "duration": 16,
        "start_time": "2023-04-20T16:42:27.939Z"
      },
      {
        "duration": 46,
        "start_time": "2023-04-20T16:42:27.957Z"
      },
      {
        "duration": 21,
        "start_time": "2023-04-20T16:42:28.005Z"
      },
      {
        "duration": 168,
        "start_time": "2023-04-20T16:42:28.028Z"
      },
      {
        "duration": 6,
        "start_time": "2023-04-20T16:42:57.642Z"
      },
      {
        "duration": 35,
        "start_time": "2023-04-20T16:43:20.137Z"
      },
      {
        "duration": 29,
        "start_time": "2023-04-20T16:43:32.555Z"
      },
      {
        "duration": 11,
        "start_time": "2023-04-20T16:43:33.712Z"
      },
      {
        "duration": 6,
        "start_time": "2023-04-20T16:43:35.641Z"
      },
      {
        "duration": 10,
        "start_time": "2023-04-20T16:43:51.291Z"
      },
      {
        "duration": 110,
        "start_time": "2023-04-20T16:43:54.508Z"
      },
      {
        "duration": 120,
        "start_time": "2023-04-20T16:44:01.047Z"
      },
      {
        "duration": 110,
        "start_time": "2023-04-20T16:44:03.391Z"
      },
      {
        "duration": 148,
        "start_time": "2023-04-20T16:44:20.261Z"
      },
      {
        "duration": 7,
        "start_time": "2023-04-20T16:44:22.028Z"
      },
      {
        "duration": 14,
        "start_time": "2023-04-20T16:44:23.499Z"
      },
      {
        "duration": 8,
        "start_time": "2023-04-20T16:44:25.025Z"
      },
      {
        "duration": 22,
        "start_time": "2023-04-20T16:45:36.987Z"
      },
      {
        "duration": 23,
        "start_time": "2023-04-20T16:45:44.904Z"
      },
      {
        "duration": 7,
        "start_time": "2023-04-20T16:45:53.203Z"
      },
      {
        "duration": 7,
        "start_time": "2023-04-20T16:45:54.188Z"
      },
      {
        "duration": 7,
        "start_time": "2023-04-20T16:45:56.914Z"
      },
      {
        "duration": 8,
        "start_time": "2023-04-20T16:45:58.753Z"
      },
      {
        "duration": 12,
        "start_time": "2023-04-20T16:46:03.411Z"
      },
      {
        "duration": 5,
        "start_time": "2023-04-20T16:46:16.061Z"
      },
      {
        "duration": 28,
        "start_time": "2023-04-20T16:46:23.000Z"
      },
      {
        "duration": 6,
        "start_time": "2023-04-20T16:48:04.692Z"
      },
      {
        "duration": 10,
        "start_time": "2023-04-20T16:48:11.199Z"
      },
      {
        "duration": 7,
        "start_time": "2023-04-20T16:48:38.556Z"
      },
      {
        "duration": 1222,
        "start_time": "2023-04-20T16:48:43.392Z"
      },
      {
        "duration": 605,
        "start_time": "2023-04-20T16:48:44.616Z"
      },
      {
        "duration": 4,
        "start_time": "2023-04-20T16:48:45.223Z"
      },
      {
        "duration": 166,
        "start_time": "2023-04-20T16:48:45.229Z"
      },
      {
        "duration": 10,
        "start_time": "2023-04-20T16:48:45.397Z"
      },
      {
        "duration": 103,
        "start_time": "2023-04-20T16:48:45.408Z"
      },
      {
        "duration": 46,
        "start_time": "2023-04-20T16:48:45.513Z"
      },
      {
        "duration": 685,
        "start_time": "2023-04-20T16:48:45.561Z"
      },
      {
        "duration": 366,
        "start_time": "2023-04-20T16:48:46.248Z"
      },
      {
        "duration": 40,
        "start_time": "2023-04-20T16:48:46.616Z"
      },
      {
        "duration": 36,
        "start_time": "2023-04-20T16:48:46.658Z"
      },
      {
        "duration": 9,
        "start_time": "2023-04-20T16:48:46.696Z"
      },
      {
        "duration": 31,
        "start_time": "2023-04-20T16:48:46.706Z"
      },
      {
        "duration": 11,
        "start_time": "2023-04-20T16:48:46.739Z"
      },
      {
        "duration": 6,
        "start_time": "2023-04-20T16:48:46.752Z"
      },
      {
        "duration": 142,
        "start_time": "2023-04-20T16:48:46.760Z"
      },
      {
        "duration": 118,
        "start_time": "2023-04-20T16:48:46.904Z"
      },
      {
        "duration": 0,
        "start_time": "2023-04-20T16:48:47.023Z"
      },
      {
        "duration": 0,
        "start_time": "2023-04-20T16:48:47.025Z"
      },
      {
        "duration": 0,
        "start_time": "2023-04-20T16:48:47.026Z"
      },
      {
        "duration": 0,
        "start_time": "2023-04-20T16:48:47.026Z"
      },
      {
        "duration": 0,
        "start_time": "2023-04-20T16:48:47.027Z"
      },
      {
        "duration": 0,
        "start_time": "2023-04-20T16:48:47.028Z"
      },
      {
        "duration": 0,
        "start_time": "2023-04-20T16:48:47.030Z"
      },
      {
        "duration": 0,
        "start_time": "2023-04-20T16:48:47.031Z"
      },
      {
        "duration": 0,
        "start_time": "2023-04-20T16:48:47.032Z"
      },
      {
        "duration": 0,
        "start_time": "2023-04-20T16:48:47.033Z"
      },
      {
        "duration": 0,
        "start_time": "2023-04-20T16:48:47.034Z"
      },
      {
        "duration": 0,
        "start_time": "2023-04-20T16:48:47.035Z"
      },
      {
        "duration": 0,
        "start_time": "2023-04-20T16:48:47.036Z"
      },
      {
        "duration": 174,
        "start_time": "2023-04-20T16:49:01.810Z"
      },
      {
        "duration": 5,
        "start_time": "2023-04-20T16:49:03.925Z"
      },
      {
        "duration": 13,
        "start_time": "2023-04-20T16:49:04.888Z"
      },
      {
        "duration": 8,
        "start_time": "2023-04-20T16:49:05.891Z"
      },
      {
        "duration": 7,
        "start_time": "2023-04-20T16:49:07.187Z"
      },
      {
        "duration": 20,
        "start_time": "2023-04-20T16:49:16.914Z"
      },
      {
        "duration": 146,
        "start_time": "2023-04-20T16:49:26.958Z"
      },
      {
        "duration": 6,
        "start_time": "2023-04-20T16:49:28.235Z"
      },
      {
        "duration": 9,
        "start_time": "2023-04-20T16:49:29.114Z"
      },
      {
        "duration": 9,
        "start_time": "2023-04-20T16:49:30.204Z"
      },
      {
        "duration": 6,
        "start_time": "2023-04-20T16:49:31.142Z"
      },
      {
        "duration": 1252,
        "start_time": "2023-04-20T16:49:37.190Z"
      },
      {
        "duration": 593,
        "start_time": "2023-04-20T16:49:38.444Z"
      },
      {
        "duration": 4,
        "start_time": "2023-04-20T16:49:39.038Z"
      },
      {
        "duration": 34,
        "start_time": "2023-04-20T16:49:39.043Z"
      },
      {
        "duration": 18,
        "start_time": "2023-04-20T16:49:39.079Z"
      },
      {
        "duration": 95,
        "start_time": "2023-04-20T16:49:39.099Z"
      },
      {
        "duration": 51,
        "start_time": "2023-04-20T16:49:39.196Z"
      },
      {
        "duration": 594,
        "start_time": "2023-04-20T16:49:39.249Z"
      },
      {
        "duration": 337,
        "start_time": "2023-04-20T16:49:39.845Z"
      },
      {
        "duration": 43,
        "start_time": "2023-04-20T16:49:40.183Z"
      },
      {
        "duration": 9,
        "start_time": "2023-04-20T16:49:40.228Z"
      },
      {
        "duration": 25,
        "start_time": "2023-04-20T16:49:40.238Z"
      },
      {
        "duration": 35,
        "start_time": "2023-04-20T16:49:40.264Z"
      },
      {
        "duration": 10,
        "start_time": "2023-04-20T16:49:40.301Z"
      },
      {
        "duration": 5,
        "start_time": "2023-04-20T16:49:40.312Z"
      },
      {
        "duration": 132,
        "start_time": "2023-04-20T16:49:40.319Z"
      },
      {
        "duration": 153,
        "start_time": "2023-04-20T16:49:40.453Z"
      },
      {
        "duration": 5,
        "start_time": "2023-04-20T16:49:40.608Z"
      },
      {
        "duration": 9,
        "start_time": "2023-04-20T16:49:40.615Z"
      },
      {
        "duration": 6,
        "start_time": "2023-04-20T16:49:40.626Z"
      },
      {
        "duration": 6,
        "start_time": "2023-04-20T16:49:40.634Z"
      },
      {
        "duration": 10,
        "start_time": "2023-04-20T16:49:40.642Z"
      },
      {
        "duration": 9,
        "start_time": "2023-04-20T16:49:40.653Z"
      },
      {
        "duration": 28,
        "start_time": "2023-04-20T16:49:40.694Z"
      },
      {
        "duration": 11,
        "start_time": "2023-04-20T16:49:40.723Z"
      },
      {
        "duration": 14,
        "start_time": "2023-04-20T16:49:40.736Z"
      },
      {
        "duration": 42,
        "start_time": "2023-04-20T16:49:40.752Z"
      },
      {
        "duration": 18,
        "start_time": "2023-04-20T16:49:40.796Z"
      },
      {
        "duration": 119,
        "start_time": "2023-04-20T16:49:40.816Z"
      },
      {
        "duration": 6,
        "start_time": "2023-04-20T16:50:11.500Z"
      },
      {
        "duration": 138,
        "start_time": "2023-04-20T16:50:13.315Z"
      },
      {
        "duration": 6,
        "start_time": "2023-04-20T16:50:14.307Z"
      },
      {
        "duration": 13,
        "start_time": "2023-04-20T16:50:15.398Z"
      },
      {
        "duration": 7,
        "start_time": "2023-04-20T16:50:16.404Z"
      },
      {
        "duration": 7,
        "start_time": "2023-04-20T16:50:17.735Z"
      },
      {
        "duration": 10,
        "start_time": "2023-04-20T16:50:18.705Z"
      },
      {
        "duration": 7,
        "start_time": "2023-04-20T16:50:32.252Z"
      },
      {
        "duration": 19,
        "start_time": "2023-04-20T16:50:43.400Z"
      },
      {
        "duration": 21,
        "start_time": "2023-04-20T16:50:48.343Z"
      },
      {
        "duration": 21,
        "start_time": "2023-04-20T16:50:54.397Z"
      },
      {
        "duration": 19,
        "start_time": "2023-04-20T16:51:11.711Z"
      },
      {
        "duration": 7,
        "start_time": "2023-04-20T16:51:25.737Z"
      },
      {
        "duration": 1879,
        "start_time": "2023-04-20T16:51:32.388Z"
      },
      {
        "duration": 615,
        "start_time": "2023-04-20T16:51:34.269Z"
      },
      {
        "duration": 3,
        "start_time": "2023-04-20T16:51:34.885Z"
      },
      {
        "duration": 60,
        "start_time": "2023-04-20T16:51:34.890Z"
      },
      {
        "duration": 11,
        "start_time": "2023-04-20T16:51:34.952Z"
      },
      {
        "duration": 93,
        "start_time": "2023-04-20T16:51:34.965Z"
      },
      {
        "duration": 63,
        "start_time": "2023-04-20T16:51:35.059Z"
      },
      {
        "duration": 651,
        "start_time": "2023-04-20T16:51:35.124Z"
      },
      {
        "duration": 351,
        "start_time": "2023-04-20T16:51:35.776Z"
      },
      {
        "duration": 42,
        "start_time": "2023-04-20T16:51:36.129Z"
      },
      {
        "duration": 27,
        "start_time": "2023-04-20T16:51:36.173Z"
      },
      {
        "duration": 17,
        "start_time": "2023-04-20T16:51:36.202Z"
      },
      {
        "duration": 40,
        "start_time": "2023-04-20T16:51:36.221Z"
      },
      {
        "duration": 11,
        "start_time": "2023-04-20T16:51:36.264Z"
      },
      {
        "duration": 28,
        "start_time": "2023-04-20T16:51:36.276Z"
      },
      {
        "duration": 117,
        "start_time": "2023-04-20T16:51:36.306Z"
      },
      {
        "duration": 5,
        "start_time": "2023-04-20T16:51:36.425Z"
      },
      {
        "duration": 178,
        "start_time": "2023-04-20T16:51:36.432Z"
      },
      {
        "duration": 5,
        "start_time": "2023-04-20T16:51:36.612Z"
      },
      {
        "duration": 30,
        "start_time": "2023-04-20T16:51:36.619Z"
      },
      {
        "duration": 18,
        "start_time": "2023-04-20T16:51:36.650Z"
      },
      {
        "duration": 32,
        "start_time": "2023-04-20T16:51:36.670Z"
      },
      {
        "duration": 30,
        "start_time": "2023-04-20T16:51:36.704Z"
      },
      {
        "duration": 11,
        "start_time": "2023-04-20T16:51:36.736Z"
      },
      {
        "duration": 21,
        "start_time": "2023-04-20T16:51:36.748Z"
      },
      {
        "duration": 35,
        "start_time": "2023-04-20T16:51:36.771Z"
      },
      {
        "duration": 11,
        "start_time": "2023-04-20T16:51:36.808Z"
      },
      {
        "duration": 32,
        "start_time": "2023-04-20T16:51:36.821Z"
      },
      {
        "duration": 13,
        "start_time": "2023-04-20T16:51:36.854Z"
      },
      {
        "duration": 40,
        "start_time": "2023-04-20T16:51:36.869Z"
      },
      {
        "duration": 111,
        "start_time": "2023-04-20T16:51:36.911Z"
      },
      {
        "duration": 21,
        "start_time": "2023-04-20T17:01:54.146Z"
      },
      {
        "duration": 1209,
        "start_time": "2023-04-20T17:02:06.113Z"
      },
      {
        "duration": 646,
        "start_time": "2023-04-20T17:02:07.325Z"
      },
      {
        "duration": 4,
        "start_time": "2023-04-20T17:02:07.973Z"
      },
      {
        "duration": 47,
        "start_time": "2023-04-20T17:02:07.979Z"
      },
      {
        "duration": 14,
        "start_time": "2023-04-20T17:02:08.029Z"
      },
      {
        "duration": 122,
        "start_time": "2023-04-20T17:02:08.045Z"
      },
      {
        "duration": 66,
        "start_time": "2023-04-20T17:02:08.169Z"
      },
      {
        "duration": 776,
        "start_time": "2023-04-20T17:02:08.238Z"
      },
      {
        "duration": 818,
        "start_time": "2023-04-20T17:02:09.016Z"
      },
      {
        "duration": 92,
        "start_time": "2023-04-20T17:02:09.836Z"
      },
      {
        "duration": 66,
        "start_time": "2023-04-20T17:02:09.931Z"
      },
      {
        "duration": 300,
        "start_time": "2023-04-20T17:02:09.999Z"
      },
      {
        "duration": 0,
        "start_time": "2023-04-20T17:02:10.301Z"
      },
      {
        "duration": 0,
        "start_time": "2023-04-20T17:02:10.303Z"
      },
      {
        "duration": 0,
        "start_time": "2023-04-20T17:02:10.305Z"
      },
      {
        "duration": 0,
        "start_time": "2023-04-20T17:02:10.306Z"
      },
      {
        "duration": 0,
        "start_time": "2023-04-20T17:02:10.307Z"
      },
      {
        "duration": 0,
        "start_time": "2023-04-20T17:02:10.309Z"
      },
      {
        "duration": 0,
        "start_time": "2023-04-20T17:02:10.310Z"
      },
      {
        "duration": 0,
        "start_time": "2023-04-20T17:02:10.312Z"
      },
      {
        "duration": 0,
        "start_time": "2023-04-20T17:02:10.313Z"
      },
      {
        "duration": 0,
        "start_time": "2023-04-20T17:02:10.314Z"
      },
      {
        "duration": 0,
        "start_time": "2023-04-20T17:02:10.316Z"
      },
      {
        "duration": 0,
        "start_time": "2023-04-20T17:02:10.317Z"
      },
      {
        "duration": 0,
        "start_time": "2023-04-20T17:02:10.319Z"
      },
      {
        "duration": 0,
        "start_time": "2023-04-20T17:02:10.320Z"
      },
      {
        "duration": 0,
        "start_time": "2023-04-20T17:02:10.321Z"
      },
      {
        "duration": 0,
        "start_time": "2023-04-20T17:02:10.322Z"
      },
      {
        "duration": 0,
        "start_time": "2023-04-20T17:02:10.324Z"
      },
      {
        "duration": 0,
        "start_time": "2023-04-20T17:02:10.325Z"
      },
      {
        "duration": 0,
        "start_time": "2023-04-20T17:02:10.326Z"
      },
      {
        "duration": 0,
        "start_time": "2023-04-20T17:02:10.327Z"
      },
      {
        "duration": 32,
        "start_time": "2023-04-20T17:02:15.645Z"
      },
      {
        "duration": 13,
        "start_time": "2023-04-20T17:02:18.713Z"
      },
      {
        "duration": 16,
        "start_time": "2023-04-20T17:02:31.434Z"
      },
      {
        "duration": 10,
        "start_time": "2023-04-20T17:02:34.153Z"
      },
      {
        "duration": 12,
        "start_time": "2023-04-20T17:02:42.902Z"
      },
      {
        "duration": 17,
        "start_time": "2023-04-20T17:02:48.752Z"
      },
      {
        "duration": 1208,
        "start_time": "2023-04-20T17:03:27.434Z"
      },
      {
        "duration": 757,
        "start_time": "2023-04-20T17:03:28.645Z"
      },
      {
        "duration": 5,
        "start_time": "2023-04-20T17:03:29.404Z"
      },
      {
        "duration": 107,
        "start_time": "2023-04-20T17:03:29.411Z"
      },
      {
        "duration": 13,
        "start_time": "2023-04-20T17:03:29.520Z"
      },
      {
        "duration": 375,
        "start_time": "2023-04-20T17:03:29.535Z"
      },
      {
        "duration": 97,
        "start_time": "2023-04-20T17:03:29.912Z"
      },
      {
        "duration": 1627,
        "start_time": "2023-04-20T17:03:30.011Z"
      },
      {
        "duration": 443,
        "start_time": "2023-04-20T17:03:31.640Z"
      },
      {
        "duration": 61,
        "start_time": "2023-04-20T17:03:32.088Z"
      },
      {
        "duration": 42,
        "start_time": "2023-04-20T17:03:32.151Z"
      },
      {
        "duration": 8,
        "start_time": "2023-04-20T17:03:32.196Z"
      },
      {
        "duration": 87,
        "start_time": "2023-04-20T17:03:32.206Z"
      },
      {
        "duration": 9,
        "start_time": "2023-04-20T17:03:32.298Z"
      },
      {
        "duration": 48,
        "start_time": "2023-04-20T17:03:32.309Z"
      },
      {
        "duration": 29,
        "start_time": "2023-04-20T17:03:32.360Z"
      },
      {
        "duration": 15,
        "start_time": "2023-04-20T17:03:32.391Z"
      },
      {
        "duration": 137,
        "start_time": "2023-04-20T17:03:32.408Z"
      },
      {
        "duration": 7,
        "start_time": "2023-04-20T17:03:32.547Z"
      },
      {
        "duration": 188,
        "start_time": "2023-04-20T17:03:32.556Z"
      },
      {
        "duration": 8,
        "start_time": "2023-04-20T17:03:32.746Z"
      },
      {
        "duration": 13,
        "start_time": "2023-04-20T17:03:32.756Z"
      },
      {
        "duration": 31,
        "start_time": "2023-04-20T17:03:32.772Z"
      },
      {
        "duration": 7,
        "start_time": "2023-04-20T17:03:32.805Z"
      },
      {
        "duration": 19,
        "start_time": "2023-04-20T17:03:32.814Z"
      },
      {
        "duration": 25,
        "start_time": "2023-04-20T17:03:32.836Z"
      },
      {
        "duration": 31,
        "start_time": "2023-04-20T17:03:32.862Z"
      },
      {
        "duration": 33,
        "start_time": "2023-04-20T17:03:32.897Z"
      },
      {
        "duration": 15,
        "start_time": "2023-04-20T17:03:32.932Z"
      },
      {
        "duration": 46,
        "start_time": "2023-04-20T17:03:32.949Z"
      },
      {
        "duration": 19,
        "start_time": "2023-04-20T17:03:33.000Z"
      },
      {
        "duration": 29,
        "start_time": "2023-04-20T17:03:33.021Z"
      },
      {
        "duration": 119,
        "start_time": "2023-04-20T17:03:33.052Z"
      },
      {
        "duration": 12,
        "start_time": "2023-04-20T17:03:49.402Z"
      },
      {
        "duration": 1312,
        "start_time": "2023-04-20T17:03:58.053Z"
      },
      {
        "duration": 622,
        "start_time": "2023-04-20T17:03:59.367Z"
      },
      {
        "duration": 4,
        "start_time": "2023-04-20T17:03:59.991Z"
      },
      {
        "duration": 98,
        "start_time": "2023-04-20T17:03:59.998Z"
      },
      {
        "duration": 21,
        "start_time": "2023-04-20T17:04:00.097Z"
      },
      {
        "duration": 152,
        "start_time": "2023-04-20T17:04:00.119Z"
      },
      {
        "duration": 62,
        "start_time": "2023-04-20T17:04:00.273Z"
      },
      {
        "duration": 692,
        "start_time": "2023-04-20T17:04:00.337Z"
      },
      {
        "duration": 378,
        "start_time": "2023-04-20T17:04:01.031Z"
      },
      {
        "duration": 42,
        "start_time": "2023-04-20T17:04:01.412Z"
      },
      {
        "duration": 14,
        "start_time": "2023-04-20T17:04:01.456Z"
      },
      {
        "duration": 15,
        "start_time": "2023-04-20T17:04:01.494Z"
      },
      {
        "duration": 68,
        "start_time": "2023-04-20T17:04:01.511Z"
      },
      {
        "duration": 10,
        "start_time": "2023-04-20T17:04:01.581Z"
      },
      {
        "duration": 1684,
        "start_time": "2023-04-20T17:04:01.593Z"
      },
      {
        "duration": 0,
        "start_time": "2023-04-20T17:04:03.278Z"
      },
      {
        "duration": 0,
        "start_time": "2023-04-20T17:04:03.280Z"
      },
      {
        "duration": 0,
        "start_time": "2023-04-20T17:04:03.281Z"
      },
      {
        "duration": 0,
        "start_time": "2023-04-20T17:04:03.282Z"
      },
      {
        "duration": 0,
        "start_time": "2023-04-20T17:04:03.283Z"
      },
      {
        "duration": 0,
        "start_time": "2023-04-20T17:04:03.284Z"
      },
      {
        "duration": 0,
        "start_time": "2023-04-20T17:04:03.285Z"
      },
      {
        "duration": 0,
        "start_time": "2023-04-20T17:04:03.286Z"
      },
      {
        "duration": 0,
        "start_time": "2023-04-20T17:04:03.287Z"
      },
      {
        "duration": 0,
        "start_time": "2023-04-20T17:04:03.288Z"
      },
      {
        "duration": 0,
        "start_time": "2023-04-20T17:04:03.289Z"
      },
      {
        "duration": 0,
        "start_time": "2023-04-20T17:04:03.290Z"
      },
      {
        "duration": 0,
        "start_time": "2023-04-20T17:04:03.292Z"
      },
      {
        "duration": 0,
        "start_time": "2023-04-20T17:04:03.293Z"
      },
      {
        "duration": 0,
        "start_time": "2023-04-20T17:04:03.294Z"
      },
      {
        "duration": 0,
        "start_time": "2023-04-20T17:04:03.295Z"
      },
      {
        "duration": 0,
        "start_time": "2023-04-20T17:04:03.296Z"
      },
      {
        "duration": 0,
        "start_time": "2023-04-20T17:04:03.297Z"
      },
      {
        "duration": 11,
        "start_time": "2023-04-20T17:04:10.473Z"
      },
      {
        "duration": 9,
        "start_time": "2023-04-20T17:04:24.043Z"
      },
      {
        "duration": 11,
        "start_time": "2023-04-20T17:04:25.190Z"
      },
      {
        "duration": 1216,
        "start_time": "2023-04-20T17:04:44.704Z"
      },
      {
        "duration": 628,
        "start_time": "2023-04-20T17:04:45.923Z"
      },
      {
        "duration": 4,
        "start_time": "2023-04-20T17:04:46.553Z"
      },
      {
        "duration": 45,
        "start_time": "2023-04-20T17:04:46.558Z"
      },
      {
        "duration": 10,
        "start_time": "2023-04-20T17:04:46.605Z"
      },
      {
        "duration": 106,
        "start_time": "2023-04-20T17:04:46.617Z"
      },
      {
        "duration": 44,
        "start_time": "2023-04-20T17:04:46.724Z"
      },
      {
        "duration": 1042,
        "start_time": "2023-04-20T17:04:46.770Z"
      },
      {
        "duration": 788,
        "start_time": "2023-04-20T17:04:47.814Z"
      },
      {
        "duration": 95,
        "start_time": "2023-04-20T17:04:48.604Z"
      },
      {
        "duration": 9,
        "start_time": "2023-04-20T17:04:48.700Z"
      },
      {
        "duration": 6,
        "start_time": "2023-04-20T17:04:48.711Z"
      },
      {
        "duration": 87,
        "start_time": "2023-04-20T17:04:48.719Z"
      },
      {
        "duration": 8,
        "start_time": "2023-04-20T17:04:48.810Z"
      },
      {
        "duration": 15,
        "start_time": "2023-04-20T17:04:48.820Z"
      },
      {
        "duration": 23,
        "start_time": "2023-04-20T17:04:48.893Z"
      },
      {
        "duration": 5,
        "start_time": "2023-04-20T17:04:48.918Z"
      },
      {
        "duration": 229,
        "start_time": "2023-04-20T17:04:48.925Z"
      },
      {
        "duration": 5,
        "start_time": "2023-04-20T17:04:49.156Z"
      },
      {
        "duration": 196,
        "start_time": "2023-04-20T17:04:49.163Z"
      },
      {
        "duration": 6,
        "start_time": "2023-04-20T17:04:49.361Z"
      },
      {
        "duration": 30,
        "start_time": "2023-04-20T17:04:49.369Z"
      },
      {
        "duration": 21,
        "start_time": "2023-04-20T17:04:49.401Z"
      },
      {
        "duration": 7,
        "start_time": "2023-04-20T17:04:49.424Z"
      },
      {
        "duration": 21,
        "start_time": "2023-04-20T17:04:49.432Z"
      },
      {
        "duration": 30,
        "start_time": "2023-04-20T17:04:49.455Z"
      },
      {
        "duration": 7,
        "start_time": "2023-04-20T17:04:49.486Z"
      },
      {
        "duration": 29,
        "start_time": "2023-04-20T17:04:49.495Z"
      },
      {
        "duration": 14,
        "start_time": "2023-04-20T17:04:49.526Z"
      },
      {
        "duration": 15,
        "start_time": "2023-04-20T17:04:49.542Z"
      },
      {
        "duration": 44,
        "start_time": "2023-04-20T17:04:49.558Z"
      },
      {
        "duration": 21,
        "start_time": "2023-04-20T17:04:49.604Z"
      },
      {
        "duration": 154,
        "start_time": "2023-04-20T17:04:49.627Z"
      },
      {
        "duration": 36,
        "start_time": "2023-04-20T17:07:13.690Z"
      },
      {
        "duration": 13,
        "start_time": "2023-04-20T17:07:16.077Z"
      },
      {
        "duration": 26,
        "start_time": "2023-04-20T17:07:19.395Z"
      },
      {
        "duration": 12,
        "start_time": "2023-04-20T17:07:24.452Z"
      },
      {
        "duration": 12,
        "start_time": "2023-04-20T17:07:34.554Z"
      },
      {
        "duration": 24,
        "start_time": "2023-04-20T17:08:39.875Z"
      },
      {
        "duration": 11,
        "start_time": "2023-04-20T17:08:40.890Z"
      },
      {
        "duration": 30,
        "start_time": "2023-04-20T17:08:43.376Z"
      },
      {
        "duration": 13,
        "start_time": "2023-04-20T17:08:48.798Z"
      },
      {
        "duration": 10,
        "start_time": "2023-04-20T17:09:15.563Z"
      },
      {
        "duration": 131,
        "start_time": "2023-04-20T17:09:30.514Z"
      },
      {
        "duration": 14,
        "start_time": "2023-04-20T17:12:48.847Z"
      },
      {
        "duration": 104,
        "start_time": "2023-04-20T17:17:10.812Z"
      },
      {
        "duration": 1297,
        "start_time": "2023-04-20T17:17:21.557Z"
      },
      {
        "duration": 16,
        "start_time": "2023-04-20T17:17:32.523Z"
      },
      {
        "duration": 397,
        "start_time": "2023-04-20T17:18:20.180Z"
      },
      {
        "duration": 169,
        "start_time": "2023-04-20T17:19:33.916Z"
      },
      {
        "duration": 172,
        "start_time": "2023-04-20T17:19:40.829Z"
      },
      {
        "duration": 180,
        "start_time": "2023-04-20T17:19:46.297Z"
      },
      {
        "duration": 402,
        "start_time": "2023-04-20T17:19:53.564Z"
      },
      {
        "duration": 155,
        "start_time": "2023-04-20T17:20:15.257Z"
      },
      {
        "duration": 166,
        "start_time": "2023-04-20T17:20:25.458Z"
      },
      {
        "duration": 13,
        "start_time": "2023-04-20T17:24:22.561Z"
      },
      {
        "duration": 164,
        "start_time": "2023-04-20T17:24:25.027Z"
      },
      {
        "duration": 184,
        "start_time": "2023-04-20T17:25:11.661Z"
      },
      {
        "duration": 154,
        "start_time": "2023-04-20T17:25:27.125Z"
      },
      {
        "duration": 10,
        "start_time": "2023-04-20T17:25:45.967Z"
      },
      {
        "duration": 183,
        "start_time": "2023-04-20T17:25:54.038Z"
      },
      {
        "duration": 30,
        "start_time": "2023-04-20T17:26:05.507Z"
      },
      {
        "duration": 1280,
        "start_time": "2023-04-20T17:26:11.833Z"
      },
      {
        "duration": 814,
        "start_time": "2023-04-20T17:26:13.116Z"
      },
      {
        "duration": 4,
        "start_time": "2023-04-20T17:26:13.932Z"
      },
      {
        "duration": 99,
        "start_time": "2023-04-20T17:26:13.937Z"
      },
      {
        "duration": 13,
        "start_time": "2023-04-20T17:26:14.095Z"
      },
      {
        "duration": 317,
        "start_time": "2023-04-20T17:26:14.110Z"
      },
      {
        "duration": 171,
        "start_time": "2023-04-20T17:26:14.429Z"
      },
      {
        "duration": 1220,
        "start_time": "2023-04-20T17:26:14.602Z"
      },
      {
        "duration": 361,
        "start_time": "2023-04-20T17:26:15.824Z"
      },
      {
        "duration": 40,
        "start_time": "2023-04-20T17:26:16.187Z"
      },
      {
        "duration": 9,
        "start_time": "2023-04-20T17:26:16.229Z"
      },
      {
        "duration": 17,
        "start_time": "2023-04-20T17:26:16.240Z"
      },
      {
        "duration": 58,
        "start_time": "2023-04-20T17:26:16.258Z"
      },
      {
        "duration": 9,
        "start_time": "2023-04-20T17:26:16.318Z"
      },
      {
        "duration": 29,
        "start_time": "2023-04-20T17:26:16.329Z"
      },
      {
        "duration": 10,
        "start_time": "2023-04-20T17:26:16.360Z"
      },
      {
        "duration": 126,
        "start_time": "2023-04-20T17:26:16.393Z"
      },
      {
        "duration": 5,
        "start_time": "2023-04-20T17:26:16.521Z"
      },
      {
        "duration": 179,
        "start_time": "2023-04-20T17:26:16.528Z"
      },
      {
        "duration": 11,
        "start_time": "2023-04-20T17:26:16.709Z"
      },
      {
        "duration": 23,
        "start_time": "2023-04-20T17:26:16.722Z"
      },
      {
        "duration": 272,
        "start_time": "2023-04-20T17:26:16.747Z"
      },
      {
        "duration": 6,
        "start_time": "2023-04-20T17:26:17.021Z"
      },
      {
        "duration": 8,
        "start_time": "2023-04-20T17:26:17.028Z"
      },
      {
        "duration": 20,
        "start_time": "2023-04-20T17:26:17.038Z"
      },
      {
        "duration": 8,
        "start_time": "2023-04-20T17:26:17.060Z"
      },
      {
        "duration": 40,
        "start_time": "2023-04-20T17:26:17.069Z"
      },
      {
        "duration": 15,
        "start_time": "2023-04-20T17:26:17.110Z"
      },
      {
        "duration": 41,
        "start_time": "2023-04-20T17:26:17.127Z"
      },
      {
        "duration": 23,
        "start_time": "2023-04-20T17:26:17.170Z"
      },
      {
        "duration": 18,
        "start_time": "2023-04-20T17:26:17.195Z"
      },
      {
        "duration": 17,
        "start_time": "2023-04-20T17:26:17.215Z"
      },
      {
        "duration": 22,
        "start_time": "2023-04-20T17:26:17.234Z"
      },
      {
        "duration": 135,
        "start_time": "2023-04-20T17:26:17.258Z"
      },
      {
        "duration": 128,
        "start_time": "2023-04-20T17:28:31.254Z"
      },
      {
        "duration": 377,
        "start_time": "2023-04-20T17:29:40.049Z"
      },
      {
        "duration": 30,
        "start_time": "2023-04-20T17:30:05.786Z"
      },
      {
        "duration": 279,
        "start_time": "2023-04-20T17:30:12.349Z"
      },
      {
        "duration": 805,
        "start_time": "2023-04-20T17:31:21.365Z"
      },
      {
        "duration": 640,
        "start_time": "2023-04-20T17:31:41.050Z"
      },
      {
        "duration": 895,
        "start_time": "2023-04-20T17:31:45.209Z"
      },
      {
        "duration": 479,
        "start_time": "2023-04-20T17:31:52.843Z"
      },
      {
        "duration": 701,
        "start_time": "2023-04-20T17:31:59.598Z"
      },
      {
        "duration": 311,
        "start_time": "2023-04-20T17:33:53.522Z"
      },
      {
        "duration": 6,
        "start_time": "2023-04-20T17:35:48.689Z"
      },
      {
        "duration": 6,
        "start_time": "2023-04-20T17:35:50.835Z"
      },
      {
        "duration": 6,
        "start_time": "2023-04-20T17:35:56.012Z"
      },
      {
        "duration": 162,
        "start_time": "2023-04-20T17:35:57.283Z"
      },
      {
        "duration": 10,
        "start_time": "2023-04-20T17:36:04.463Z"
      },
      {
        "duration": 1196,
        "start_time": "2023-04-20T17:36:09.609Z"
      },
      {
        "duration": 636,
        "start_time": "2023-04-20T17:36:10.807Z"
      },
      {
        "duration": 3,
        "start_time": "2023-04-20T17:36:11.445Z"
      },
      {
        "duration": 35,
        "start_time": "2023-04-20T17:36:11.449Z"
      },
      {
        "duration": 10,
        "start_time": "2023-04-20T17:36:11.492Z"
      },
      {
        "duration": 112,
        "start_time": "2023-04-20T17:36:11.504Z"
      },
      {
        "duration": 44,
        "start_time": "2023-04-20T17:36:11.618Z"
      },
      {
        "duration": 754,
        "start_time": "2023-04-20T17:36:11.664Z"
      },
      {
        "duration": 356,
        "start_time": "2023-04-20T17:36:12.420Z"
      },
      {
        "duration": 51,
        "start_time": "2023-04-20T17:36:12.778Z"
      },
      {
        "duration": 9,
        "start_time": "2023-04-20T17:36:12.830Z"
      },
      {
        "duration": 5,
        "start_time": "2023-04-20T17:36:12.841Z"
      },
      {
        "duration": 61,
        "start_time": "2023-04-20T17:36:12.848Z"
      },
      {
        "duration": 9,
        "start_time": "2023-04-20T17:36:12.912Z"
      },
      {
        "duration": 50,
        "start_time": "2023-04-20T17:36:12.923Z"
      },
      {
        "duration": 40,
        "start_time": "2023-04-20T17:36:12.974Z"
      },
      {
        "duration": 150,
        "start_time": "2023-04-20T17:36:13.016Z"
      },
      {
        "duration": 5,
        "start_time": "2023-04-20T17:36:13.168Z"
      },
      {
        "duration": 157,
        "start_time": "2023-04-20T17:36:13.175Z"
      },
      {
        "duration": 11,
        "start_time": "2023-04-20T17:36:13.334Z"
      },
      {
        "duration": 748,
        "start_time": "2023-04-20T17:36:13.346Z"
      },
      {
        "duration": 5,
        "start_time": "2023-04-20T17:36:14.095Z"
      },
      {
        "duration": 9,
        "start_time": "2023-04-20T17:36:14.102Z"
      },
      {
        "duration": 13,
        "start_time": "2023-04-20T17:36:14.112Z"
      },
      {
        "duration": 7,
        "start_time": "2023-04-20T17:36:14.127Z"
      },
      {
        "duration": 19,
        "start_time": "2023-04-20T17:36:14.135Z"
      },
      {
        "duration": 40,
        "start_time": "2023-04-20T17:36:14.155Z"
      },
      {
        "duration": 29,
        "start_time": "2023-04-20T17:36:14.196Z"
      },
      {
        "duration": 10,
        "start_time": "2023-04-20T17:36:14.227Z"
      },
      {
        "duration": 13,
        "start_time": "2023-04-20T17:36:14.239Z"
      },
      {
        "duration": 43,
        "start_time": "2023-04-20T17:36:14.253Z"
      },
      {
        "duration": 20,
        "start_time": "2023-04-20T17:36:14.297Z"
      },
      {
        "duration": 120,
        "start_time": "2023-04-20T17:36:14.319Z"
      },
      {
        "duration": 17,
        "start_time": "2023-04-20T17:39:57.906Z"
      },
      {
        "duration": 5,
        "start_time": "2023-04-20T17:41:07.090Z"
      },
      {
        "duration": 31,
        "start_time": "2023-04-20T17:41:10.473Z"
      },
      {
        "duration": 1269,
        "start_time": "2023-04-20T17:41:47.973Z"
      },
      {
        "duration": 651,
        "start_time": "2023-04-20T17:41:49.244Z"
      },
      {
        "duration": 4,
        "start_time": "2023-04-20T17:41:49.897Z"
      },
      {
        "duration": 37,
        "start_time": "2023-04-20T17:41:49.904Z"
      },
      {
        "duration": 10,
        "start_time": "2023-04-20T17:41:49.944Z"
      },
      {
        "duration": 140,
        "start_time": "2023-04-20T17:41:49.956Z"
      },
      {
        "duration": 47,
        "start_time": "2023-04-20T17:41:50.099Z"
      },
      {
        "duration": 690,
        "start_time": "2023-04-20T17:41:50.148Z"
      },
      {
        "duration": 360,
        "start_time": "2023-04-20T17:41:50.840Z"
      },
      {
        "duration": 46,
        "start_time": "2023-04-20T17:41:51.203Z"
      },
      {
        "duration": 13,
        "start_time": "2023-04-20T17:41:51.252Z"
      },
      {
        "duration": 36,
        "start_time": "2023-04-20T17:41:51.267Z"
      },
      {
        "duration": 34,
        "start_time": "2023-04-20T17:41:51.306Z"
      },
      {
        "duration": 9,
        "start_time": "2023-04-20T17:41:51.344Z"
      },
      {
        "duration": 48,
        "start_time": "2023-04-20T17:41:51.354Z"
      },
      {
        "duration": 12,
        "start_time": "2023-04-20T17:41:51.409Z"
      },
      {
        "duration": 125,
        "start_time": "2023-04-20T17:41:51.422Z"
      },
      {
        "duration": 5,
        "start_time": "2023-04-20T17:41:51.549Z"
      },
      {
        "duration": 165,
        "start_time": "2023-04-20T17:41:51.556Z"
      },
      {
        "duration": 10,
        "start_time": "2023-04-20T17:41:51.723Z"
      },
      {
        "duration": 896,
        "start_time": "2023-04-20T17:41:51.735Z"
      },
      {
        "duration": 5,
        "start_time": "2023-04-20T17:41:52.633Z"
      },
      {
        "duration": 31,
        "start_time": "2023-04-20T17:41:52.640Z"
      },
      {
        "duration": 36,
        "start_time": "2023-04-20T17:41:52.673Z"
      },
      {
        "duration": 17,
        "start_time": "2023-04-20T17:41:52.711Z"
      },
      {
        "duration": 17,
        "start_time": "2023-04-20T17:41:52.729Z"
      },
      {
        "duration": 19,
        "start_time": "2023-04-20T17:41:52.747Z"
      },
      {
        "duration": 145,
        "start_time": "2023-04-20T17:41:52.768Z"
      },
      {
        "duration": 5,
        "start_time": "2023-04-20T17:42:22.041Z"
      },
      {
        "duration": 28,
        "start_time": "2023-04-20T17:43:16.926Z"
      },
      {
        "duration": 26,
        "start_time": "2023-04-20T17:43:18.894Z"
      },
      {
        "duration": 30,
        "start_time": "2023-04-20T17:43:26.185Z"
      },
      {
        "duration": 32,
        "start_time": "2023-04-20T17:43:30.671Z"
      },
      {
        "duration": 98,
        "start_time": "2023-04-20T17:44:59.110Z"
      },
      {
        "duration": 1165,
        "start_time": "2023-04-20T17:45:08.361Z"
      },
      {
        "duration": 611,
        "start_time": "2023-04-20T17:45:09.528Z"
      },
      {
        "duration": 3,
        "start_time": "2023-04-20T17:45:10.141Z"
      },
      {
        "duration": 38,
        "start_time": "2023-04-20T17:45:10.146Z"
      },
      {
        "duration": 14,
        "start_time": "2023-04-20T17:45:10.186Z"
      },
      {
        "duration": 121,
        "start_time": "2023-04-20T17:45:10.201Z"
      },
      {
        "duration": 45,
        "start_time": "2023-04-20T17:45:10.323Z"
      },
      {
        "duration": 623,
        "start_time": "2023-04-20T17:45:10.369Z"
      },
      {
        "duration": 344,
        "start_time": "2023-04-20T17:45:10.993Z"
      },
      {
        "duration": 36,
        "start_time": "2023-04-20T17:45:11.339Z"
      },
      {
        "duration": 9,
        "start_time": "2023-04-20T17:45:11.393Z"
      },
      {
        "duration": 5,
        "start_time": "2023-04-20T17:45:11.404Z"
      },
      {
        "duration": 35,
        "start_time": "2023-04-20T17:45:11.411Z"
      },
      {
        "duration": 8,
        "start_time": "2023-04-20T17:45:11.448Z"
      },
      {
        "duration": 43,
        "start_time": "2023-04-20T17:45:11.457Z"
      },
      {
        "duration": 11,
        "start_time": "2023-04-20T17:45:11.502Z"
      },
      {
        "duration": 129,
        "start_time": "2023-04-20T17:45:11.515Z"
      },
      {
        "duration": 7,
        "start_time": "2023-04-20T17:45:11.646Z"
      },
      {
        "duration": 156,
        "start_time": "2023-04-20T17:45:11.655Z"
      },
      {
        "duration": 11,
        "start_time": "2023-04-20T17:45:11.813Z"
      },
      {
        "duration": 768,
        "start_time": "2023-04-20T17:45:11.826Z"
      },
      {
        "duration": 99,
        "start_time": "2023-04-20T17:45:12.596Z"
      },
      {
        "duration": 5,
        "start_time": "2023-04-20T17:45:12.696Z"
      },
      {
        "duration": 31,
        "start_time": "2023-04-20T17:45:12.702Z"
      },
      {
        "duration": 16,
        "start_time": "2023-04-20T17:45:12.734Z"
      },
      {
        "duration": 47,
        "start_time": "2023-04-20T17:45:12.751Z"
      },
      {
        "duration": 15,
        "start_time": "2023-04-20T17:45:12.800Z"
      },
      {
        "duration": 19,
        "start_time": "2023-04-20T17:45:12.817Z"
      },
      {
        "duration": 4,
        "start_time": "2023-04-20T17:45:12.838Z"
      },
      {
        "duration": 17,
        "start_time": "2023-04-20T17:50:35.459Z"
      },
      {
        "duration": 26,
        "start_time": "2023-04-20T17:50:37.787Z"
      },
      {
        "duration": 25,
        "start_time": "2023-04-20T17:50:39.291Z"
      },
      {
        "duration": 30,
        "start_time": "2023-04-20T17:50:52.945Z"
      },
      {
        "duration": 12,
        "start_time": "2023-04-20T17:51:27.381Z"
      },
      {
        "duration": 14,
        "start_time": "2023-04-20T17:51:29.146Z"
      },
      {
        "duration": 29,
        "start_time": "2023-04-20T17:51:34.684Z"
      },
      {
        "duration": 22,
        "start_time": "2023-04-20T17:51:46.279Z"
      },
      {
        "duration": 11,
        "start_time": "2023-04-20T17:51:58.816Z"
      },
      {
        "duration": 14,
        "start_time": "2023-04-20T17:52:12.255Z"
      },
      {
        "duration": 16,
        "start_time": "2023-04-20T17:52:13.628Z"
      },
      {
        "duration": 4,
        "start_time": "2023-04-20T17:52:26.706Z"
      },
      {
        "duration": 4,
        "start_time": "2023-04-20T17:52:36.453Z"
      },
      {
        "duration": 1289,
        "start_time": "2023-04-20T17:52:45.322Z"
      },
      {
        "duration": 613,
        "start_time": "2023-04-20T17:52:46.613Z"
      },
      {
        "duration": 5,
        "start_time": "2023-04-20T17:52:47.228Z"
      },
      {
        "duration": 37,
        "start_time": "2023-04-20T17:52:47.234Z"
      },
      {
        "duration": 21,
        "start_time": "2023-04-20T17:52:47.273Z"
      },
      {
        "duration": 107,
        "start_time": "2023-04-20T17:52:47.296Z"
      },
      {
        "duration": 45,
        "start_time": "2023-04-20T17:52:47.405Z"
      },
      {
        "duration": 684,
        "start_time": "2023-04-20T17:52:47.452Z"
      },
      {
        "duration": 365,
        "start_time": "2023-04-20T17:52:48.137Z"
      },
      {
        "duration": 38,
        "start_time": "2023-04-20T17:52:48.504Z"
      },
      {
        "duration": 10,
        "start_time": "2023-04-20T17:52:48.543Z"
      },
      {
        "duration": 6,
        "start_time": "2023-04-20T17:52:48.554Z"
      },
      {
        "duration": 58,
        "start_time": "2023-04-20T17:52:48.562Z"
      },
      {
        "duration": 17,
        "start_time": "2023-04-20T17:52:48.624Z"
      },
      {
        "duration": 26,
        "start_time": "2023-04-20T17:52:48.644Z"
      },
      {
        "duration": 28,
        "start_time": "2023-04-20T17:52:48.672Z"
      },
      {
        "duration": 145,
        "start_time": "2023-04-20T17:52:48.702Z"
      },
      {
        "duration": 5,
        "start_time": "2023-04-20T17:52:48.849Z"
      },
      {
        "duration": 180,
        "start_time": "2023-04-20T17:52:48.856Z"
      },
      {
        "duration": 10,
        "start_time": "2023-04-20T17:52:49.038Z"
      },
      {
        "duration": 839,
        "start_time": "2023-04-20T17:52:49.050Z"
      },
      {
        "duration": 5,
        "start_time": "2023-04-20T17:52:49.891Z"
      },
      {
        "duration": 34,
        "start_time": "2023-04-20T17:52:49.897Z"
      },
      {
        "duration": 5,
        "start_time": "2023-04-20T17:52:49.933Z"
      },
      {
        "duration": 21,
        "start_time": "2023-04-20T17:52:49.940Z"
      },
      {
        "duration": 36,
        "start_time": "2023-04-20T17:52:49.963Z"
      },
      {
        "duration": 15,
        "start_time": "2023-04-20T17:52:50.001Z"
      },
      {
        "duration": 112,
        "start_time": "2023-04-20T17:52:50.018Z"
      },
      {
        "duration": 5,
        "start_time": "2023-04-20T17:52:50.132Z"
      },
      {
        "duration": 5,
        "start_time": "2023-04-20T17:57:45.983Z"
      },
      {
        "duration": 22,
        "start_time": "2023-04-20T17:57:47.539Z"
      },
      {
        "duration": 7,
        "start_time": "2023-04-20T17:58:58.122Z"
      },
      {
        "duration": 30,
        "start_time": "2023-04-20T17:58:59.156Z"
      },
      {
        "duration": 11,
        "start_time": "2023-04-20T17:59:25.039Z"
      },
      {
        "duration": 11,
        "start_time": "2023-04-20T17:59:27.921Z"
      },
      {
        "duration": 729,
        "start_time": "2023-04-20T17:59:29.047Z"
      },
      {
        "duration": 4,
        "start_time": "2023-04-20T17:59:32.177Z"
      },
      {
        "duration": 28,
        "start_time": "2023-04-20T17:59:33.473Z"
      },
      {
        "duration": 5,
        "start_time": "2023-04-20T17:59:34.856Z"
      },
      {
        "duration": 11,
        "start_time": "2023-04-20T17:59:35.955Z"
      },
      {
        "duration": 15,
        "start_time": "2023-04-20T17:59:37.417Z"
      },
      {
        "duration": 14,
        "start_time": "2023-04-20T17:59:38.560Z"
      },
      {
        "duration": 99,
        "start_time": "2023-04-20T17:59:39.869Z"
      },
      {
        "duration": 1207,
        "start_time": "2023-04-20T18:08:27.922Z"
      },
      {
        "duration": 611,
        "start_time": "2023-04-20T18:08:29.131Z"
      },
      {
        "duration": 3,
        "start_time": "2023-04-20T18:08:29.744Z"
      },
      {
        "duration": 37,
        "start_time": "2023-04-20T18:08:29.750Z"
      },
      {
        "duration": 10,
        "start_time": "2023-04-20T18:08:29.793Z"
      },
      {
        "duration": 107,
        "start_time": "2023-04-20T18:08:29.805Z"
      },
      {
        "duration": 49,
        "start_time": "2023-04-20T18:08:29.914Z"
      },
      {
        "duration": 673,
        "start_time": "2023-04-20T18:08:29.965Z"
      },
      {
        "duration": 376,
        "start_time": "2023-04-20T18:08:30.640Z"
      },
      {
        "duration": 42,
        "start_time": "2023-04-20T18:08:31.018Z"
      },
      {
        "duration": 36,
        "start_time": "2023-04-20T18:08:31.062Z"
      },
      {
        "duration": 6,
        "start_time": "2023-04-20T18:08:31.099Z"
      },
      {
        "duration": 66,
        "start_time": "2023-04-20T18:08:31.106Z"
      },
      {
        "duration": 13,
        "start_time": "2023-04-20T18:08:31.173Z"
      },
      {
        "duration": 47,
        "start_time": "2023-04-20T18:08:31.187Z"
      },
      {
        "duration": 11,
        "start_time": "2023-04-20T18:08:31.236Z"
      },
      {
        "duration": 131,
        "start_time": "2023-04-20T18:08:31.249Z"
      },
      {
        "duration": 11,
        "start_time": "2023-04-20T18:08:31.382Z"
      },
      {
        "duration": 1335,
        "start_time": "2023-04-20T18:08:31.395Z"
      },
      {
        "duration": 0,
        "start_time": "2023-04-20T18:08:32.733Z"
      },
      {
        "duration": 0,
        "start_time": "2023-04-20T18:08:32.735Z"
      },
      {
        "duration": 0,
        "start_time": "2023-04-20T18:08:32.737Z"
      },
      {
        "duration": 0,
        "start_time": "2023-04-20T18:08:32.738Z"
      },
      {
        "duration": 0,
        "start_time": "2023-04-20T18:08:32.740Z"
      },
      {
        "duration": 0,
        "start_time": "2023-04-20T18:08:32.741Z"
      },
      {
        "duration": 0,
        "start_time": "2023-04-20T18:08:32.742Z"
      },
      {
        "duration": 0,
        "start_time": "2023-04-20T18:08:32.743Z"
      },
      {
        "duration": 0,
        "start_time": "2023-04-20T18:08:32.744Z"
      },
      {
        "duration": 0,
        "start_time": "2023-04-20T18:08:32.745Z"
      },
      {
        "duration": 0,
        "start_time": "2023-04-20T18:08:32.746Z"
      },
      {
        "duration": 1229,
        "start_time": "2023-04-20T18:09:04.618Z"
      },
      {
        "duration": 1255,
        "start_time": "2023-04-20T18:09:52.386Z"
      },
      {
        "duration": 640,
        "start_time": "2023-04-20T18:09:53.643Z"
      },
      {
        "duration": 3,
        "start_time": "2023-04-20T18:09:54.285Z"
      },
      {
        "duration": 39,
        "start_time": "2023-04-20T18:09:54.290Z"
      },
      {
        "duration": 10,
        "start_time": "2023-04-20T18:09:54.331Z"
      },
      {
        "duration": 107,
        "start_time": "2023-04-20T18:09:54.343Z"
      },
      {
        "duration": 59,
        "start_time": "2023-04-20T18:09:54.451Z"
      },
      {
        "duration": 635,
        "start_time": "2023-04-20T18:09:54.512Z"
      },
      {
        "duration": 358,
        "start_time": "2023-04-20T18:09:55.149Z"
      },
      {
        "duration": 40,
        "start_time": "2023-04-20T18:09:55.509Z"
      },
      {
        "duration": 11,
        "start_time": "2023-04-20T18:09:55.551Z"
      },
      {
        "duration": 35,
        "start_time": "2023-04-20T18:09:55.564Z"
      },
      {
        "duration": 37,
        "start_time": "2023-04-20T18:09:55.601Z"
      },
      {
        "duration": 10,
        "start_time": "2023-04-20T18:09:55.641Z"
      },
      {
        "duration": 44,
        "start_time": "2023-04-20T18:09:55.653Z"
      },
      {
        "duration": 11,
        "start_time": "2023-04-20T18:09:55.699Z"
      },
      {
        "duration": 134,
        "start_time": "2023-04-20T18:09:55.712Z"
      },
      {
        "duration": 6,
        "start_time": "2023-04-20T18:09:55.848Z"
      },
      {
        "duration": 11,
        "start_time": "2023-04-20T18:09:55.855Z"
      },
      {
        "duration": 130,
        "start_time": "2023-04-20T18:09:55.867Z"
      },
      {
        "duration": 0,
        "start_time": "2023-04-20T18:09:55.998Z"
      },
      {
        "duration": 0,
        "start_time": "2023-04-20T18:09:56.000Z"
      },
      {
        "duration": 0,
        "start_time": "2023-04-20T18:09:56.001Z"
      },
      {
        "duration": 0,
        "start_time": "2023-04-20T18:09:56.002Z"
      },
      {
        "duration": 0,
        "start_time": "2023-04-20T18:09:56.003Z"
      },
      {
        "duration": 0,
        "start_time": "2023-04-20T18:09:56.004Z"
      },
      {
        "duration": 0,
        "start_time": "2023-04-20T18:09:56.006Z"
      },
      {
        "duration": 0,
        "start_time": "2023-04-20T18:09:56.007Z"
      },
      {
        "duration": 0,
        "start_time": "2023-04-20T18:09:56.008Z"
      },
      {
        "duration": 0,
        "start_time": "2023-04-20T18:09:56.009Z"
      },
      {
        "duration": 5,
        "start_time": "2023-04-20T18:10:08.327Z"
      },
      {
        "duration": 28,
        "start_time": "2023-04-20T18:10:09.338Z"
      },
      {
        "duration": 11,
        "start_time": "2023-04-20T18:10:10.301Z"
      },
      {
        "duration": 148,
        "start_time": "2023-04-20T18:10:12.402Z"
      },
      {
        "duration": 17,
        "start_time": "2023-04-20T18:10:13.713Z"
      },
      {
        "duration": 21,
        "start_time": "2023-04-20T18:10:14.929Z"
      },
      {
        "duration": 113,
        "start_time": "2023-04-20T18:10:16.258Z"
      },
      {
        "duration": 7,
        "start_time": "2023-04-20T18:10:18.364Z"
      },
      {
        "duration": 31,
        "start_time": "2023-04-20T18:10:19.962Z"
      },
      {
        "duration": 5,
        "start_time": "2023-04-20T18:10:29.195Z"
      },
      {
        "duration": 28,
        "start_time": "2023-04-20T18:10:31.654Z"
      },
      {
        "duration": 22,
        "start_time": "2023-04-20T18:10:36.852Z"
      },
      {
        "duration": 12,
        "start_time": "2023-04-20T18:10:49.863Z"
      },
      {
        "duration": 24,
        "start_time": "2023-04-20T18:11:12.474Z"
      },
      {
        "duration": 18,
        "start_time": "2023-04-20T18:11:25.001Z"
      },
      {
        "duration": 2041,
        "start_time": "2023-04-20T18:11:31.842Z"
      },
      {
        "duration": 1223,
        "start_time": "2023-04-20T18:11:39.389Z"
      },
      {
        "duration": 602,
        "start_time": "2023-04-20T18:11:40.614Z"
      },
      {
        "duration": 6,
        "start_time": "2023-04-20T18:11:41.218Z"
      },
      {
        "duration": 44,
        "start_time": "2023-04-20T18:11:41.225Z"
      },
      {
        "duration": 22,
        "start_time": "2023-04-20T18:11:41.271Z"
      },
      {
        "duration": 99,
        "start_time": "2023-04-20T18:11:41.295Z"
      },
      {
        "duration": 44,
        "start_time": "2023-04-20T18:11:41.396Z"
      },
      {
        "duration": 627,
        "start_time": "2023-04-20T18:11:41.442Z"
      },
      {
        "duration": 379,
        "start_time": "2023-04-20T18:11:42.071Z"
      },
      {
        "duration": 77,
        "start_time": "2023-04-20T18:11:42.452Z"
      },
      {
        "duration": 12,
        "start_time": "2023-04-20T18:11:42.531Z"
      },
      {
        "duration": 8,
        "start_time": "2023-04-20T18:11:42.545Z"
      },
      {
        "duration": 58,
        "start_time": "2023-04-20T18:11:42.555Z"
      },
      {
        "duration": 11,
        "start_time": "2023-04-20T18:11:42.616Z"
      },
      {
        "duration": 33,
        "start_time": "2023-04-20T18:11:42.630Z"
      },
      {
        "duration": 36,
        "start_time": "2023-04-20T18:11:42.665Z"
      },
      {
        "duration": 144,
        "start_time": "2023-04-20T18:11:42.703Z"
      },
      {
        "duration": 5,
        "start_time": "2023-04-20T18:11:42.849Z"
      },
      {
        "duration": 13,
        "start_time": "2023-04-20T18:11:42.856Z"
      },
      {
        "duration": 1931,
        "start_time": "2023-04-20T18:11:42.871Z"
      },
      {
        "duration": 5,
        "start_time": "2023-04-20T18:11:44.803Z"
      },
      {
        "duration": 27,
        "start_time": "2023-04-20T18:11:44.809Z"
      },
      {
        "duration": 10,
        "start_time": "2023-04-20T18:11:44.838Z"
      },
      {
        "duration": 162,
        "start_time": "2023-04-20T18:11:44.850Z"
      },
      {
        "duration": 17,
        "start_time": "2023-04-20T18:11:45.014Z"
      },
      {
        "duration": 17,
        "start_time": "2023-04-20T18:11:45.032Z"
      },
      {
        "duration": 118,
        "start_time": "2023-04-20T18:11:45.051Z"
      },
      {
        "duration": 5,
        "start_time": "2023-04-20T18:11:45.171Z"
      },
      {
        "duration": 34,
        "start_time": "2023-04-20T18:11:45.178Z"
      },
      {
        "duration": 14,
        "start_time": "2023-04-20T18:11:45.213Z"
      },
      {
        "duration": 5,
        "start_time": "2023-04-20T18:11:45.229Z"
      },
      {
        "duration": 12,
        "start_time": "2023-04-20T18:12:33.050Z"
      },
      {
        "duration": 100,
        "start_time": "2023-04-20T18:12:39.658Z"
      },
      {
        "duration": 168,
        "start_time": "2023-04-20T18:12:42.502Z"
      },
      {
        "duration": 1190,
        "start_time": "2023-04-20T18:12:50.635Z"
      },
      {
        "duration": 644,
        "start_time": "2023-04-20T18:12:51.827Z"
      },
      {
        "duration": 3,
        "start_time": "2023-04-20T18:12:52.472Z"
      },
      {
        "duration": 35,
        "start_time": "2023-04-20T18:12:52.477Z"
      },
      {
        "duration": 10,
        "start_time": "2023-04-20T18:12:52.514Z"
      },
      {
        "duration": 113,
        "start_time": "2023-04-20T18:12:52.526Z"
      },
      {
        "duration": 57,
        "start_time": "2023-04-20T18:12:52.641Z"
      },
      {
        "duration": 707,
        "start_time": "2023-04-20T18:12:52.699Z"
      },
      {
        "duration": 722,
        "start_time": "2023-04-20T18:12:53.408Z"
      },
      {
        "duration": 92,
        "start_time": "2023-04-20T18:12:54.132Z"
      },
      {
        "duration": 9,
        "start_time": "2023-04-20T18:12:54.226Z"
      },
      {
        "duration": 9,
        "start_time": "2023-04-20T18:12:54.293Z"
      },
      {
        "duration": 39,
        "start_time": "2023-04-20T18:12:54.304Z"
      },
      {
        "duration": 20,
        "start_time": "2023-04-20T18:12:54.392Z"
      },
      {
        "duration": 25,
        "start_time": "2023-04-20T18:12:54.414Z"
      },
      {
        "duration": 56,
        "start_time": "2023-04-20T18:12:54.440Z"
      },
      {
        "duration": 215,
        "start_time": "2023-04-20T18:12:54.498Z"
      },
      {
        "duration": 6,
        "start_time": "2023-04-20T18:12:54.715Z"
      },
      {
        "duration": 11,
        "start_time": "2023-04-20T18:12:54.723Z"
      },
      {
        "duration": 3191,
        "start_time": "2023-04-20T18:12:54.735Z"
      },
      {
        "duration": 4,
        "start_time": "2023-04-20T18:12:57.928Z"
      },
      {
        "duration": 30,
        "start_time": "2023-04-20T18:12:57.934Z"
      },
      {
        "duration": 27,
        "start_time": "2023-04-20T18:12:57.966Z"
      },
      {
        "duration": 154,
        "start_time": "2023-04-20T18:12:57.995Z"
      },
      {
        "duration": 19,
        "start_time": "2023-04-20T18:12:58.151Z"
      },
      {
        "duration": 31,
        "start_time": "2023-04-20T18:12:58.171Z"
      },
      {
        "duration": 112,
        "start_time": "2023-04-20T18:12:58.204Z"
      },
      {
        "duration": 5,
        "start_time": "2023-04-20T18:12:58.318Z"
      },
      {
        "duration": 23,
        "start_time": "2023-04-20T18:12:58.325Z"
      },
      {
        "duration": 12,
        "start_time": "2023-04-20T18:12:58.349Z"
      },
      {
        "duration": 32,
        "start_time": "2023-04-20T18:12:58.362Z"
      },
      {
        "duration": 9,
        "start_time": "2023-04-20T18:13:31.385Z"
      },
      {
        "duration": 109,
        "start_time": "2023-04-20T18:13:43.931Z"
      },
      {
        "duration": 5,
        "start_time": "2023-04-20T18:13:48.949Z"
      },
      {
        "duration": 1160,
        "start_time": "2023-04-20T18:13:57.553Z"
      },
      {
        "duration": 617,
        "start_time": "2023-04-20T18:13:58.716Z"
      },
      {
        "duration": 3,
        "start_time": "2023-04-20T18:13:59.335Z"
      },
      {
        "duration": 35,
        "start_time": "2023-04-20T18:13:59.340Z"
      },
      {
        "duration": 17,
        "start_time": "2023-04-20T18:13:59.377Z"
      },
      {
        "duration": 106,
        "start_time": "2023-04-20T18:13:59.396Z"
      },
      {
        "duration": 44,
        "start_time": "2023-04-20T18:13:59.504Z"
      },
      {
        "duration": 645,
        "start_time": "2023-04-20T18:13:59.550Z"
      },
      {
        "duration": 359,
        "start_time": "2023-04-20T18:14:00.197Z"
      },
      {
        "duration": 55,
        "start_time": "2023-04-20T18:14:00.558Z"
      },
      {
        "duration": 17,
        "start_time": "2023-04-20T18:14:00.615Z"
      },
      {
        "duration": 32,
        "start_time": "2023-04-20T18:14:00.634Z"
      },
      {
        "duration": 66,
        "start_time": "2023-04-20T18:14:00.667Z"
      },
      {
        "duration": 26,
        "start_time": "2023-04-20T18:14:00.736Z"
      },
      {
        "duration": 87,
        "start_time": "2023-04-20T18:14:00.764Z"
      },
      {
        "duration": 32,
        "start_time": "2023-04-20T18:14:00.854Z"
      },
      {
        "duration": 154,
        "start_time": "2023-04-20T18:14:00.888Z"
      },
      {
        "duration": 5,
        "start_time": "2023-04-20T18:14:01.044Z"
      },
      {
        "duration": 48,
        "start_time": "2023-04-20T18:14:01.050Z"
      },
      {
        "duration": 2111,
        "start_time": "2023-04-20T18:14:01.100Z"
      },
      {
        "duration": 5,
        "start_time": "2023-04-20T18:14:03.213Z"
      },
      {
        "duration": 38,
        "start_time": "2023-04-20T18:14:03.220Z"
      },
      {
        "duration": 11,
        "start_time": "2023-04-20T18:14:03.260Z"
      },
      {
        "duration": 230,
        "start_time": "2023-04-20T18:14:03.272Z"
      },
      {
        "duration": 17,
        "start_time": "2023-04-20T18:14:03.503Z"
      },
      {
        "duration": 17,
        "start_time": "2023-04-20T18:14:03.522Z"
      },
      {
        "duration": 4,
        "start_time": "2023-04-20T18:14:03.541Z"
      },
      {
        "duration": 15,
        "start_time": "2023-04-20T18:14:03.593Z"
      },
      {
        "duration": 120,
        "start_time": "2023-04-20T18:14:03.610Z"
      },
      {
        "duration": 6,
        "start_time": "2023-04-20T18:14:52.115Z"
      },
      {
        "duration": 126,
        "start_time": "2023-04-20T18:22:03.201Z"
      },
      {
        "duration": 28,
        "start_time": "2023-04-20T18:22:42.455Z"
      },
      {
        "duration": 131,
        "start_time": "2023-04-20T18:23:56.783Z"
      },
      {
        "duration": 9,
        "start_time": "2023-04-20T18:24:06.768Z"
      },
      {
        "duration": 9,
        "start_time": "2023-04-20T18:24:14.920Z"
      },
      {
        "duration": 8,
        "start_time": "2023-04-20T18:24:26.562Z"
      },
      {
        "duration": 16,
        "start_time": "2023-04-20T18:24:56.382Z"
      },
      {
        "duration": 9,
        "start_time": "2023-04-20T18:25:03.532Z"
      },
      {
        "duration": 8,
        "start_time": "2023-04-20T18:25:04.574Z"
      },
      {
        "duration": 8,
        "start_time": "2023-04-20T18:25:21.556Z"
      },
      {
        "duration": 10,
        "start_time": "2023-04-20T18:26:18.676Z"
      },
      {
        "duration": 101,
        "start_time": "2023-04-20T18:26:24.964Z"
      },
      {
        "duration": 11,
        "start_time": "2023-04-20T18:27:20.021Z"
      },
      {
        "duration": 95,
        "start_time": "2023-04-20T18:27:26.030Z"
      },
      {
        "duration": 104,
        "start_time": "2023-04-20T18:27:40.753Z"
      },
      {
        "duration": 23,
        "start_time": "2023-04-20T18:28:53.335Z"
      },
      {
        "duration": 1097,
        "start_time": "2023-04-20T18:29:06.844Z"
      },
      {
        "duration": 657,
        "start_time": "2023-04-20T18:30:23.346Z"
      },
      {
        "duration": 677,
        "start_time": "2023-04-20T18:30:30.362Z"
      },
      {
        "duration": 11,
        "start_time": "2023-04-20T18:33:42.457Z"
      },
      {
        "duration": 13397,
        "start_time": "2023-04-20T18:33:48.674Z"
      },
      {
        "duration": 11,
        "start_time": "2023-04-20T18:35:10.374Z"
      },
      {
        "duration": 409,
        "start_time": "2023-04-20T18:35:13.957Z"
      },
      {
        "duration": 13,
        "start_time": "2023-04-20T18:38:51.923Z"
      },
      {
        "duration": 571,
        "start_time": "2023-04-20T18:38:57.509Z"
      },
      {
        "duration": 727,
        "start_time": "2023-04-20T18:39:50.744Z"
      },
      {
        "duration": 10,
        "start_time": "2023-04-20T18:40:36.713Z"
      },
      {
        "duration": 885,
        "start_time": "2023-04-20T18:40:40.969Z"
      },
      {
        "duration": 782,
        "start_time": "2023-04-20T18:41:59.378Z"
      },
      {
        "duration": 681,
        "start_time": "2023-04-20T18:42:42.979Z"
      },
      {
        "duration": 544,
        "start_time": "2023-04-20T18:43:32.629Z"
      },
      {
        "duration": 850,
        "start_time": "2023-04-20T18:59:40.232Z"
      },
      {
        "duration": 12,
        "start_time": "2023-04-20T19:00:23.991Z"
      },
      {
        "duration": 870,
        "start_time": "2023-04-20T19:00:40.636Z"
      },
      {
        "duration": 205,
        "start_time": "2023-04-20T19:01:31.026Z"
      },
      {
        "duration": 173,
        "start_time": "2023-04-20T19:01:35.072Z"
      },
      {
        "duration": 37,
        "start_time": "2023-04-20T19:02:53.011Z"
      },
      {
        "duration": 255,
        "start_time": "2023-04-20T19:03:17.373Z"
      },
      {
        "duration": 622,
        "start_time": "2023-04-20T19:03:33.423Z"
      },
      {
        "duration": 19,
        "start_time": "2023-04-20T19:04:26.115Z"
      },
      {
        "duration": 44,
        "start_time": "2023-04-20T19:04:54.406Z"
      },
      {
        "duration": 18,
        "start_time": "2023-04-20T19:05:07.617Z"
      },
      {
        "duration": 37,
        "start_time": "2023-04-20T19:05:15.725Z"
      },
      {
        "duration": 7841,
        "start_time": "2023-04-20T19:05:31.336Z"
      },
      {
        "duration": 48,
        "start_time": "2023-04-20T19:05:40.848Z"
      },
      {
        "duration": 2319,
        "start_time": "2023-04-20T19:05:46.798Z"
      },
      {
        "duration": 2573,
        "start_time": "2023-04-20T19:05:50.861Z"
      },
      {
        "duration": 51,
        "start_time": "2023-04-20T19:05:53.437Z"
      },
      {
        "duration": 25,
        "start_time": "2023-04-20T19:07:43.689Z"
      },
      {
        "duration": 23,
        "start_time": "2023-04-20T19:08:49.010Z"
      },
      {
        "duration": 11,
        "start_time": "2023-04-20T19:09:05.679Z"
      },
      {
        "duration": 1317,
        "start_time": "2023-04-20T19:09:13.273Z"
      },
      {
        "duration": 1392,
        "start_time": "2023-04-20T19:09:32.070Z"
      },
      {
        "duration": 2505,
        "start_time": "2023-04-20T19:09:33.464Z"
      },
      {
        "duration": 4,
        "start_time": "2023-04-20T19:09:35.971Z"
      },
      {
        "duration": 56,
        "start_time": "2023-04-20T19:09:35.977Z"
      },
      {
        "duration": 14,
        "start_time": "2023-04-20T19:09:36.036Z"
      },
      {
        "duration": 145,
        "start_time": "2023-04-20T19:09:36.052Z"
      },
      {
        "duration": 59,
        "start_time": "2023-04-20T19:09:36.204Z"
      },
      {
        "duration": 745,
        "start_time": "2023-04-20T19:09:36.265Z"
      },
      {
        "duration": 395,
        "start_time": "2023-04-20T19:09:37.012Z"
      },
      {
        "duration": 51,
        "start_time": "2023-04-20T19:09:37.410Z"
      },
      {
        "duration": 30,
        "start_time": "2023-04-20T19:09:37.465Z"
      },
      {
        "duration": 8,
        "start_time": "2023-04-20T19:09:37.496Z"
      },
      {
        "duration": 46,
        "start_time": "2023-04-20T19:09:37.506Z"
      },
      {
        "duration": 11,
        "start_time": "2023-04-20T19:09:37.557Z"
      },
      {
        "duration": 55,
        "start_time": "2023-04-20T19:09:37.571Z"
      },
      {
        "duration": 11,
        "start_time": "2023-04-20T19:09:37.631Z"
      },
      {
        "duration": 158,
        "start_time": "2023-04-20T19:09:37.645Z"
      },
      {
        "duration": 11,
        "start_time": "2023-04-20T19:09:37.805Z"
      },
      {
        "duration": 15,
        "start_time": "2023-04-20T19:09:37.818Z"
      },
      {
        "duration": 2295,
        "start_time": "2023-04-20T19:09:37.835Z"
      },
      {
        "duration": 4,
        "start_time": "2023-04-20T19:09:40.132Z"
      },
      {
        "duration": 30,
        "start_time": "2023-04-20T19:09:40.138Z"
      },
      {
        "duration": 34,
        "start_time": "2023-04-20T19:09:40.170Z"
      },
      {
        "duration": 170,
        "start_time": "2023-04-20T19:09:40.206Z"
      },
      {
        "duration": 27,
        "start_time": "2023-04-20T19:09:40.378Z"
      },
      {
        "duration": 20,
        "start_time": "2023-04-20T19:09:40.407Z"
      },
      {
        "duration": 6,
        "start_time": "2023-04-20T19:09:40.429Z"
      },
      {
        "duration": 16,
        "start_time": "2023-04-20T19:09:40.436Z"
      },
      {
        "duration": 53,
        "start_time": "2023-04-20T19:09:40.454Z"
      },
      {
        "duration": 115,
        "start_time": "2023-04-20T19:09:40.512Z"
      },
      {
        "duration": 127,
        "start_time": "2023-04-20T19:09:40.629Z"
      },
      {
        "duration": 0,
        "start_time": "2023-04-20T19:09:40.758Z"
      },
      {
        "duration": 0,
        "start_time": "2023-04-20T19:09:40.759Z"
      },
      {
        "duration": 0,
        "start_time": "2023-04-20T19:09:40.760Z"
      },
      {
        "duration": 0,
        "start_time": "2023-04-20T19:09:40.761Z"
      },
      {
        "duration": 0,
        "start_time": "2023-04-20T19:09:40.762Z"
      },
      {
        "duration": 0,
        "start_time": "2023-04-20T19:09:40.764Z"
      },
      {
        "duration": 1,
        "start_time": "2023-04-20T19:09:40.764Z"
      },
      {
        "duration": 0,
        "start_time": "2023-04-20T19:09:40.765Z"
      },
      {
        "duration": 5,
        "start_time": "2023-04-20T19:09:58.854Z"
      },
      {
        "duration": 544,
        "start_time": "2023-04-20T19:10:09.314Z"
      },
      {
        "duration": 674,
        "start_time": "2023-04-20T19:10:12.558Z"
      },
      {
        "duration": 12,
        "start_time": "2023-04-20T19:10:14.923Z"
      },
      {
        "duration": 1545,
        "start_time": "2023-04-20T19:10:15.896Z"
      },
      {
        "duration": 24,
        "start_time": "2023-04-20T19:10:27.420Z"
      },
      {
        "duration": 49,
        "start_time": "2023-04-20T19:10:32.458Z"
      },
      {
        "duration": 1274,
        "start_time": "2023-04-20T19:10:55.759Z"
      },
      {
        "duration": 240,
        "start_time": "2023-04-20T19:11:16.056Z"
      },
      {
        "duration": 70,
        "start_time": "2023-04-20T19:12:14.175Z"
      },
      {
        "duration": 29,
        "start_time": "2023-04-20T19:13:34.482Z"
      },
      {
        "duration": 18,
        "start_time": "2023-04-20T19:13:36.595Z"
      },
      {
        "duration": 39,
        "start_time": "2023-04-20T19:13:58.110Z"
      },
      {
        "duration": 34,
        "start_time": "2023-04-20T19:15:00.429Z"
      },
      {
        "duration": 19,
        "start_time": "2023-04-20T19:15:01.918Z"
      },
      {
        "duration": 20,
        "start_time": "2023-04-20T19:15:52.210Z"
      },
      {
        "duration": 13,
        "start_time": "2023-04-20T19:16:21.606Z"
      },
      {
        "duration": 6,
        "start_time": "2023-04-20T19:22:10.955Z"
      },
      {
        "duration": 27,
        "start_time": "2023-04-20T19:22:21.374Z"
      },
      {
        "duration": 8,
        "start_time": "2023-04-20T19:22:26.190Z"
      },
      {
        "duration": 13,
        "start_time": "2023-04-20T19:22:27.508Z"
      },
      {
        "duration": 89,
        "start_time": "2023-04-20T19:23:41.092Z"
      },
      {
        "duration": 1413,
        "start_time": "2023-04-20T19:23:47.069Z"
      },
      {
        "duration": 661,
        "start_time": "2023-04-20T19:23:48.484Z"
      },
      {
        "duration": 3,
        "start_time": "2023-04-20T19:23:49.147Z"
      },
      {
        "duration": 38,
        "start_time": "2023-04-20T19:23:49.151Z"
      },
      {
        "duration": 19,
        "start_time": "2023-04-20T19:23:49.192Z"
      },
      {
        "duration": 120,
        "start_time": "2023-04-20T19:23:49.213Z"
      },
      {
        "duration": 59,
        "start_time": "2023-04-20T19:23:49.335Z"
      },
      {
        "duration": 678,
        "start_time": "2023-04-20T19:23:49.396Z"
      },
      {
        "duration": 389,
        "start_time": "2023-04-20T19:23:50.076Z"
      },
      {
        "duration": 55,
        "start_time": "2023-04-20T19:23:50.466Z"
      },
      {
        "duration": 10,
        "start_time": "2023-04-20T19:23:50.523Z"
      },
      {
        "duration": 9,
        "start_time": "2023-04-20T19:23:50.534Z"
      },
      {
        "duration": 49,
        "start_time": "2023-04-20T19:23:50.545Z"
      },
      {
        "duration": 10,
        "start_time": "2023-04-20T19:23:50.597Z"
      },
      {
        "duration": 30,
        "start_time": "2023-04-20T19:23:50.610Z"
      },
      {
        "duration": 10,
        "start_time": "2023-04-20T19:23:50.642Z"
      },
      {
        "duration": 142,
        "start_time": "2023-04-20T19:23:50.654Z"
      },
      {
        "duration": 10,
        "start_time": "2023-04-20T19:23:50.799Z"
      },
      {
        "duration": 15,
        "start_time": "2023-04-20T19:23:50.811Z"
      },
      {
        "duration": 2300,
        "start_time": "2023-04-20T19:23:50.828Z"
      },
      {
        "duration": 5,
        "start_time": "2023-04-20T19:23:53.129Z"
      },
      {
        "duration": 30,
        "start_time": "2023-04-20T19:23:53.136Z"
      },
      {
        "duration": 39,
        "start_time": "2023-04-20T19:23:53.168Z"
      },
      {
        "duration": 177,
        "start_time": "2023-04-20T19:23:53.209Z"
      },
      {
        "duration": 24,
        "start_time": "2023-04-20T19:23:53.388Z"
      },
      {
        "duration": 17,
        "start_time": "2023-04-20T19:23:53.414Z"
      },
      {
        "duration": 5,
        "start_time": "2023-04-20T19:23:53.434Z"
      },
      {
        "duration": 135,
        "start_time": "2023-04-20T19:23:53.441Z"
      },
      {
        "duration": 26,
        "start_time": "2023-04-20T19:23:53.578Z"
      },
      {
        "duration": 122,
        "start_time": "2023-04-20T19:23:53.606Z"
      },
      {
        "duration": 494,
        "start_time": "2023-04-20T19:23:53.730Z"
      },
      {
        "duration": 908,
        "start_time": "2023-04-20T19:23:54.227Z"
      },
      {
        "duration": 6,
        "start_time": "2023-04-20T19:23:55.137Z"
      },
      {
        "duration": 27,
        "start_time": "2023-04-20T19:23:55.145Z"
      },
      {
        "duration": 1040,
        "start_time": "2023-04-20T19:23:55.174Z"
      },
      {
        "duration": 10,
        "start_time": "2023-04-20T19:23:56.217Z"
      },
      {
        "duration": 31,
        "start_time": "2023-04-20T19:23:56.229Z"
      },
      {
        "duration": 1321,
        "start_time": "2023-04-20T19:25:22.555Z"
      },
      {
        "duration": 623,
        "start_time": "2023-04-20T19:25:23.878Z"
      },
      {
        "duration": 4,
        "start_time": "2023-04-20T19:25:24.503Z"
      },
      {
        "duration": 36,
        "start_time": "2023-04-20T19:25:24.509Z"
      },
      {
        "duration": 9,
        "start_time": "2023-04-20T19:25:24.547Z"
      },
      {
        "duration": 124,
        "start_time": "2023-04-20T19:25:24.558Z"
      },
      {
        "duration": 51,
        "start_time": "2023-04-20T19:25:24.684Z"
      },
      {
        "duration": 711,
        "start_time": "2023-04-20T19:25:24.737Z"
      },
      {
        "duration": 371,
        "start_time": "2023-04-20T19:25:25.450Z"
      },
      {
        "duration": 41,
        "start_time": "2023-04-20T19:25:25.823Z"
      },
      {
        "duration": 27,
        "start_time": "2023-04-20T19:25:25.867Z"
      },
      {
        "duration": 7,
        "start_time": "2023-04-20T19:25:25.896Z"
      },
      {
        "duration": 30,
        "start_time": "2023-04-20T19:25:25.905Z"
      },
      {
        "duration": 9,
        "start_time": "2023-04-20T19:25:25.938Z"
      },
      {
        "duration": 64,
        "start_time": "2023-04-20T19:25:25.949Z"
      },
      {
        "duration": 9,
        "start_time": "2023-04-20T19:25:26.015Z"
      },
      {
        "duration": 128,
        "start_time": "2023-04-20T19:25:26.026Z"
      },
      {
        "duration": 6,
        "start_time": "2023-04-20T19:25:26.156Z"
      },
      {
        "duration": 29,
        "start_time": "2023-04-20T19:25:26.164Z"
      },
      {
        "duration": 1940,
        "start_time": "2023-04-20T19:25:26.195Z"
      },
      {
        "duration": 5,
        "start_time": "2023-04-20T19:25:28.137Z"
      },
      {
        "duration": 32,
        "start_time": "2023-04-20T19:25:28.143Z"
      },
      {
        "duration": 27,
        "start_time": "2023-04-20T19:25:28.178Z"
      },
      {
        "duration": 169,
        "start_time": "2023-04-20T19:25:28.207Z"
      },
      {
        "duration": 23,
        "start_time": "2023-04-20T19:25:28.378Z"
      },
      {
        "duration": 17,
        "start_time": "2023-04-20T19:25:28.403Z"
      },
      {
        "duration": 5,
        "start_time": "2023-04-20T19:25:28.421Z"
      },
      {
        "duration": 106,
        "start_time": "2023-04-20T19:25:28.428Z"
      },
      {
        "duration": 19,
        "start_time": "2023-04-20T19:25:28.536Z"
      },
      {
        "duration": 114,
        "start_time": "2023-04-20T19:25:28.557Z"
      },
      {
        "duration": 469,
        "start_time": "2023-04-20T19:25:28.673Z"
      },
      {
        "duration": 786,
        "start_time": "2023-04-20T19:25:29.144Z"
      },
      {
        "duration": 5,
        "start_time": "2023-04-20T19:25:29.932Z"
      },
      {
        "duration": 28,
        "start_time": "2023-04-20T19:25:29.939Z"
      },
      {
        "duration": 1052,
        "start_time": "2023-04-20T19:25:29.969Z"
      },
      {
        "duration": 8,
        "start_time": "2023-04-20T19:25:31.023Z"
      },
      {
        "duration": 25,
        "start_time": "2023-04-20T19:25:31.033Z"
      },
      {
        "duration": 58,
        "start_time": "2023-04-20T19:25:31.060Z"
      },
      {
        "duration": 6,
        "start_time": "2023-04-20T19:25:42.047Z"
      },
      {
        "duration": 6,
        "start_time": "2023-04-20T19:25:43.578Z"
      },
      {
        "duration": 85,
        "start_time": "2023-04-20T19:27:12.510Z"
      },
      {
        "duration": 83,
        "start_time": "2023-04-20T19:27:20.930Z"
      },
      {
        "duration": 110,
        "start_time": "2023-04-20T19:27:40.827Z"
      },
      {
        "duration": 1393,
        "start_time": "2023-04-20T19:28:24.083Z"
      },
      {
        "duration": 637,
        "start_time": "2023-04-20T19:28:25.478Z"
      },
      {
        "duration": 3,
        "start_time": "2023-04-20T19:28:26.117Z"
      },
      {
        "duration": 36,
        "start_time": "2023-04-20T19:28:26.122Z"
      },
      {
        "duration": 10,
        "start_time": "2023-04-20T19:28:26.160Z"
      },
      {
        "duration": 107,
        "start_time": "2023-04-20T19:28:26.171Z"
      },
      {
        "duration": 59,
        "start_time": "2023-04-20T19:28:26.280Z"
      },
      {
        "duration": 671,
        "start_time": "2023-04-20T19:28:26.341Z"
      },
      {
        "duration": 360,
        "start_time": "2023-04-20T19:28:27.013Z"
      },
      {
        "duration": 54,
        "start_time": "2023-04-20T19:28:27.375Z"
      },
      {
        "duration": 9,
        "start_time": "2023-04-20T19:28:27.431Z"
      },
      {
        "duration": 5,
        "start_time": "2023-04-20T19:28:27.442Z"
      },
      {
        "duration": 62,
        "start_time": "2023-04-20T19:28:27.449Z"
      },
      {
        "duration": 9,
        "start_time": "2023-04-20T19:28:27.515Z"
      },
      {
        "duration": 21,
        "start_time": "2023-04-20T19:28:27.526Z"
      },
      {
        "duration": 11,
        "start_time": "2023-04-20T19:28:27.549Z"
      },
      {
        "duration": 155,
        "start_time": "2023-04-20T19:28:27.562Z"
      },
      {
        "duration": 5,
        "start_time": "2023-04-20T19:28:27.719Z"
      },
      {
        "duration": 11,
        "start_time": "2023-04-20T19:28:27.726Z"
      },
      {
        "duration": 2047,
        "start_time": "2023-04-20T19:28:27.738Z"
      },
      {
        "duration": 13,
        "start_time": "2023-04-20T19:28:29.786Z"
      },
      {
        "duration": 31,
        "start_time": "2023-04-20T19:28:29.801Z"
      },
      {
        "duration": 10,
        "start_time": "2023-04-20T19:28:29.833Z"
      },
      {
        "duration": 173,
        "start_time": "2023-04-20T19:28:29.845Z"
      },
      {
        "duration": 16,
        "start_time": "2023-04-20T19:28:30.020Z"
      },
      {
        "duration": 16,
        "start_time": "2023-04-20T19:28:30.037Z"
      },
      {
        "duration": 5,
        "start_time": "2023-04-20T19:28:30.055Z"
      },
      {
        "duration": 109,
        "start_time": "2023-04-20T19:28:30.061Z"
      },
      {
        "duration": 26,
        "start_time": "2023-04-20T19:28:30.171Z"
      },
      {
        "duration": 115,
        "start_time": "2023-04-20T19:28:30.200Z"
      },
      {
        "duration": 499,
        "start_time": "2023-04-20T19:28:30.317Z"
      },
      {
        "duration": 794,
        "start_time": "2023-04-20T19:28:30.817Z"
      },
      {
        "duration": 5,
        "start_time": "2023-04-20T19:28:31.613Z"
      },
      {
        "duration": 40,
        "start_time": "2023-04-20T19:28:31.620Z"
      },
      {
        "duration": 964,
        "start_time": "2023-04-20T19:28:31.662Z"
      },
      {
        "duration": 7,
        "start_time": "2023-04-20T19:28:32.628Z"
      },
      {
        "duration": 14,
        "start_time": "2023-04-20T19:28:32.637Z"
      },
      {
        "duration": 140,
        "start_time": "2023-04-20T19:29:42.339Z"
      },
      {
        "duration": 1409,
        "start_time": "2023-04-20T19:29:57.779Z"
      },
      {
        "duration": 672,
        "start_time": "2023-04-20T19:29:59.191Z"
      },
      {
        "duration": 5,
        "start_time": "2023-04-20T19:29:59.865Z"
      },
      {
        "duration": 47,
        "start_time": "2023-04-20T19:29:59.872Z"
      },
      {
        "duration": 10,
        "start_time": "2023-04-20T19:29:59.922Z"
      },
      {
        "duration": 135,
        "start_time": "2023-04-20T19:29:59.934Z"
      },
      {
        "duration": 62,
        "start_time": "2023-04-20T19:30:00.071Z"
      },
      {
        "duration": 729,
        "start_time": "2023-04-20T19:30:00.135Z"
      },
      {
        "duration": 381,
        "start_time": "2023-04-20T19:30:00.867Z"
      },
      {
        "duration": 54,
        "start_time": "2023-04-20T19:30:01.250Z"
      },
      {
        "duration": 25,
        "start_time": "2023-04-20T19:30:01.306Z"
      },
      {
        "duration": 76,
        "start_time": "2023-04-20T19:30:01.332Z"
      },
      {
        "duration": 54,
        "start_time": "2023-04-20T19:30:01.410Z"
      },
      {
        "duration": 9,
        "start_time": "2023-04-20T19:30:01.467Z"
      },
      {
        "duration": 124,
        "start_time": "2023-04-20T19:30:01.478Z"
      },
      {
        "duration": 22,
        "start_time": "2023-04-20T19:30:01.605Z"
      },
      {
        "duration": 192,
        "start_time": "2023-04-20T19:30:01.629Z"
      },
      {
        "duration": 6,
        "start_time": "2023-04-20T19:30:01.823Z"
      },
      {
        "duration": 60,
        "start_time": "2023-04-20T19:30:01.830Z"
      },
      {
        "duration": 2170,
        "start_time": "2023-04-20T19:30:01.893Z"
      },
      {
        "duration": 4,
        "start_time": "2023-04-20T19:30:04.065Z"
      },
      {
        "duration": 52,
        "start_time": "2023-04-20T19:30:04.071Z"
      },
      {
        "duration": 11,
        "start_time": "2023-04-20T19:30:04.125Z"
      },
      {
        "duration": 173,
        "start_time": "2023-04-20T19:30:04.138Z"
      },
      {
        "duration": 19,
        "start_time": "2023-04-20T19:30:04.313Z"
      },
      {
        "duration": 18,
        "start_time": "2023-04-20T19:30:04.334Z"
      },
      {
        "duration": 13,
        "start_time": "2023-04-20T19:30:04.354Z"
      },
      {
        "duration": 108,
        "start_time": "2023-04-20T19:30:04.369Z"
      },
      {
        "duration": 31,
        "start_time": "2023-04-20T19:30:04.479Z"
      },
      {
        "duration": 122,
        "start_time": "2023-04-20T19:30:04.512Z"
      },
      {
        "duration": 1057,
        "start_time": "2023-04-20T19:30:04.636Z"
      },
      {
        "duration": 1398,
        "start_time": "2023-04-20T19:30:05.695Z"
      },
      {
        "duration": 5,
        "start_time": "2023-04-20T19:30:07.095Z"
      },
      {
        "duration": 42,
        "start_time": "2023-04-20T19:30:07.102Z"
      },
      {
        "duration": 1583,
        "start_time": "2023-04-20T19:30:07.146Z"
      },
      {
        "duration": 204,
        "start_time": "2023-04-20T19:30:08.730Z"
      },
      {
        "duration": 60,
        "start_time": "2023-04-20T19:30:08.935Z"
      },
      {
        "duration": 22,
        "start_time": "2023-04-20T19:30:08.997Z"
      },
      {
        "duration": 1349,
        "start_time": "2023-04-20T19:31:22.330Z"
      },
      {
        "duration": 639,
        "start_time": "2023-04-20T19:31:23.681Z"
      },
      {
        "duration": 4,
        "start_time": "2023-04-20T19:31:24.322Z"
      },
      {
        "duration": 44,
        "start_time": "2023-04-20T19:31:24.328Z"
      },
      {
        "duration": 10,
        "start_time": "2023-04-20T19:31:24.374Z"
      },
      {
        "duration": 102,
        "start_time": "2023-04-20T19:31:24.393Z"
      },
      {
        "duration": 46,
        "start_time": "2023-04-20T19:31:24.497Z"
      },
      {
        "duration": 645,
        "start_time": "2023-04-20T19:31:24.545Z"
      },
      {
        "duration": 375,
        "start_time": "2023-04-20T19:31:25.193Z"
      },
      {
        "duration": 54,
        "start_time": "2023-04-20T19:31:25.570Z"
      },
      {
        "duration": 9,
        "start_time": "2023-04-20T19:31:25.625Z"
      },
      {
        "duration": 8,
        "start_time": "2023-04-20T19:31:25.636Z"
      },
      {
        "duration": 50,
        "start_time": "2023-04-20T19:31:25.646Z"
      },
      {
        "duration": 11,
        "start_time": "2023-04-20T19:31:25.701Z"
      },
      {
        "duration": 21,
        "start_time": "2023-04-20T19:31:25.714Z"
      },
      {
        "duration": 9,
        "start_time": "2023-04-20T19:31:25.737Z"
      },
      {
        "duration": 148,
        "start_time": "2023-04-20T19:31:25.748Z"
      },
      {
        "duration": 6,
        "start_time": "2023-04-20T19:31:25.898Z"
      },
      {
        "duration": 11,
        "start_time": "2023-04-20T19:31:25.905Z"
      },
      {
        "duration": 2075,
        "start_time": "2023-04-20T19:31:25.918Z"
      },
      {
        "duration": 6,
        "start_time": "2023-04-20T19:31:27.995Z"
      },
      {
        "duration": 29,
        "start_time": "2023-04-20T19:31:28.002Z"
      },
      {
        "duration": 10,
        "start_time": "2023-04-20T19:31:28.033Z"
      },
      {
        "duration": 193,
        "start_time": "2023-04-20T19:31:28.044Z"
      },
      {
        "duration": 20,
        "start_time": "2023-04-20T19:31:28.239Z"
      },
      {
        "duration": 16,
        "start_time": "2023-04-20T19:31:28.260Z"
      },
      {
        "duration": 20,
        "start_time": "2023-04-20T19:31:28.277Z"
      },
      {
        "duration": 105,
        "start_time": "2023-04-20T19:31:28.299Z"
      },
      {
        "duration": 20,
        "start_time": "2023-04-20T19:31:28.406Z"
      },
      {
        "duration": 111,
        "start_time": "2023-04-20T19:31:28.427Z"
      },
      {
        "duration": 476,
        "start_time": "2023-04-20T19:31:28.540Z"
      },
      {
        "duration": 689,
        "start_time": "2023-04-20T19:31:29.017Z"
      },
      {
        "duration": 5,
        "start_time": "2023-04-20T19:31:29.708Z"
      },
      {
        "duration": 34,
        "start_time": "2023-04-20T19:31:29.715Z"
      },
      {
        "duration": 1002,
        "start_time": "2023-04-20T19:31:29.751Z"
      },
      {
        "duration": 10,
        "start_time": "2023-04-20T19:31:30.756Z"
      },
      {
        "duration": 56,
        "start_time": "2023-04-20T19:31:30.768Z"
      },
      {
        "duration": 1962,
        "start_time": "2023-04-20T19:31:39.949Z"
      },
      {
        "duration": 76,
        "start_time": "2023-04-20T19:33:14.883Z"
      },
      {
        "duration": 55,
        "start_time": "2023-04-20T19:33:19.589Z"
      },
      {
        "duration": 886,
        "start_time": "2023-04-20T19:33:24.627Z"
      },
      {
        "duration": 126,
        "start_time": "2023-04-20T19:33:30.389Z"
      },
      {
        "duration": 13,
        "start_time": "2023-04-20T20:10:39.226Z"
      },
      {
        "duration": 1883,
        "start_time": "2023-04-20T20:48:46.697Z"
      },
      {
        "duration": 1056,
        "start_time": "2023-04-20T20:48:48.582Z"
      },
      {
        "duration": 5,
        "start_time": "2023-04-20T20:48:49.641Z"
      },
      {
        "duration": 54,
        "start_time": "2023-04-20T20:48:49.649Z"
      },
      {
        "duration": 17,
        "start_time": "2023-04-20T20:48:49.709Z"
      },
      {
        "duration": 163,
        "start_time": "2023-04-20T20:48:49.732Z"
      },
      {
        "duration": 74,
        "start_time": "2023-04-20T20:48:49.901Z"
      },
      {
        "duration": 1011,
        "start_time": "2023-04-20T20:48:49.977Z"
      },
      {
        "duration": 479,
        "start_time": "2023-04-20T20:48:50.992Z"
      },
      {
        "duration": 67,
        "start_time": "2023-04-20T20:48:51.474Z"
      },
      {
        "duration": 12,
        "start_time": "2023-04-20T20:48:51.543Z"
      },
      {
        "duration": 7,
        "start_time": "2023-04-20T20:48:51.557Z"
      },
      {
        "duration": 56,
        "start_time": "2023-04-20T20:48:51.566Z"
      },
      {
        "duration": 12,
        "start_time": "2023-04-20T20:48:51.626Z"
      },
      {
        "duration": 25,
        "start_time": "2023-04-20T20:48:51.640Z"
      },
      {
        "duration": 52,
        "start_time": "2023-04-20T20:48:51.667Z"
      },
      {
        "duration": 173,
        "start_time": "2023-04-20T20:48:51.724Z"
      },
      {
        "duration": 7,
        "start_time": "2023-04-20T20:48:51.899Z"
      },
      {
        "duration": 14,
        "start_time": "2023-04-20T20:48:51.908Z"
      },
      {
        "duration": 2367,
        "start_time": "2023-04-20T20:48:51.924Z"
      },
      {
        "duration": 6,
        "start_time": "2023-04-20T20:48:54.294Z"
      },
      {
        "duration": 47,
        "start_time": "2023-04-20T20:48:54.302Z"
      },
      {
        "duration": 10,
        "start_time": "2023-04-20T20:48:54.351Z"
      },
      {
        "duration": 199,
        "start_time": "2023-04-20T20:48:54.363Z"
      },
      {
        "duration": 19,
        "start_time": "2023-04-20T20:48:54.564Z"
      },
      {
        "duration": 25,
        "start_time": "2023-04-20T20:48:54.594Z"
      },
      {
        "duration": 7,
        "start_time": "2023-04-20T20:48:54.624Z"
      },
      {
        "duration": 13,
        "start_time": "2023-04-20T20:48:54.636Z"
      },
      {
        "duration": 53,
        "start_time": "2023-04-20T20:48:54.651Z"
      },
      {
        "duration": 200,
        "start_time": "2023-04-20T20:48:54.706Z"
      },
      {
        "duration": 6,
        "start_time": "2023-04-20T20:48:54.909Z"
      },
      {
        "duration": 592,
        "start_time": "2023-04-20T20:48:54.918Z"
      },
      {
        "duration": 926,
        "start_time": "2023-04-20T20:48:55.512Z"
      },
      {
        "duration": 15,
        "start_time": "2023-04-20T20:48:56.440Z"
      },
      {
        "duration": 39,
        "start_time": "2023-04-20T20:48:56.457Z"
      },
      {
        "duration": 1253,
        "start_time": "2023-04-20T20:48:56.499Z"
      },
      {
        "duration": 7,
        "start_time": "2023-04-20T20:48:57.754Z"
      },
      {
        "duration": 10,
        "start_time": "2023-04-20T20:48:57.763Z"
      },
      {
        "duration": 1679,
        "start_time": "2023-04-20T22:55:20.692Z"
      },
      {
        "duration": 595,
        "start_time": "2023-04-20T22:55:22.373Z"
      },
      {
        "duration": 13,
        "start_time": "2023-04-20T22:55:22.969Z"
      },
      {
        "duration": 56,
        "start_time": "2023-04-20T22:55:22.983Z"
      },
      {
        "duration": 8,
        "start_time": "2023-04-20T22:55:23.041Z"
      },
      {
        "duration": 104,
        "start_time": "2023-04-20T22:55:23.051Z"
      },
      {
        "duration": 52,
        "start_time": "2023-04-20T22:55:23.156Z"
      },
      {
        "duration": 550,
        "start_time": "2023-04-20T22:55:23.210Z"
      },
      {
        "duration": 320,
        "start_time": "2023-04-20T22:55:23.762Z"
      },
      {
        "duration": 35,
        "start_time": "2023-04-20T22:55:24.085Z"
      },
      {
        "duration": 9,
        "start_time": "2023-04-20T22:55:24.122Z"
      },
      {
        "duration": 6,
        "start_time": "2023-04-20T22:55:24.133Z"
      },
      {
        "duration": 63,
        "start_time": "2023-04-20T22:55:24.140Z"
      },
      {
        "duration": 8,
        "start_time": "2023-04-20T22:55:24.206Z"
      },
      {
        "duration": 29,
        "start_time": "2023-04-20T22:55:24.215Z"
      },
      {
        "duration": 10,
        "start_time": "2023-04-20T22:55:24.245Z"
      },
      {
        "duration": 131,
        "start_time": "2023-04-20T22:55:24.257Z"
      },
      {
        "duration": 6,
        "start_time": "2023-04-20T22:55:24.393Z"
      },
      {
        "duration": 20,
        "start_time": "2023-04-20T22:55:24.403Z"
      },
      {
        "duration": 1930,
        "start_time": "2023-04-20T22:55:24.425Z"
      },
      {
        "duration": 4,
        "start_time": "2023-04-20T22:55:26.357Z"
      },
      {
        "duration": 36,
        "start_time": "2023-04-20T22:55:26.362Z"
      },
      {
        "duration": 35,
        "start_time": "2023-04-20T22:55:26.400Z"
      },
      {
        "duration": 130,
        "start_time": "2023-04-20T22:55:26.437Z"
      },
      {
        "duration": 32,
        "start_time": "2023-04-20T22:55:26.569Z"
      },
      {
        "duration": 20,
        "start_time": "2023-04-20T22:55:26.603Z"
      },
      {
        "duration": 4,
        "start_time": "2023-04-20T22:55:26.625Z"
      },
      {
        "duration": 86,
        "start_time": "2023-04-20T22:55:26.631Z"
      },
      {
        "duration": 17,
        "start_time": "2023-04-20T22:55:26.718Z"
      },
      {
        "duration": 104,
        "start_time": "2023-04-20T22:55:26.737Z"
      },
      {
        "duration": 4,
        "start_time": "2023-04-20T22:55:26.843Z"
      },
      {
        "duration": 421,
        "start_time": "2023-04-20T22:55:26.848Z"
      },
      {
        "duration": 634,
        "start_time": "2023-04-20T22:55:27.271Z"
      },
      {
        "duration": 4,
        "start_time": "2023-04-20T22:55:27.907Z"
      },
      {
        "duration": 31,
        "start_time": "2023-04-20T22:55:27.912Z"
      },
      {
        "duration": 180,
        "start_time": "2023-04-20T22:55:27.946Z"
      },
      {
        "duration": 0,
        "start_time": "2023-04-20T22:55:28.128Z"
      },
      {
        "duration": 0,
        "start_time": "2023-04-20T22:55:28.129Z"
      },
      {
        "duration": 8,
        "start_time": "2023-04-20T22:58:09.094Z"
      },
      {
        "duration": 8,
        "start_time": "2023-04-20T22:58:13.609Z"
      },
      {
        "duration": 18,
        "start_time": "2023-04-20T23:00:00.431Z"
      },
      {
        "duration": 8,
        "start_time": "2023-04-20T23:02:14.878Z"
      },
      {
        "duration": 6,
        "start_time": "2023-04-20T23:02:16.711Z"
      },
      {
        "duration": 6,
        "start_time": "2023-04-20T23:02:54.687Z"
      },
      {
        "duration": 9,
        "start_time": "2023-04-20T23:02:56.241Z"
      },
      {
        "duration": 1355,
        "start_time": "2023-04-20T23:33:38.297Z"
      },
      {
        "duration": 612,
        "start_time": "2023-04-20T23:33:39.654Z"
      },
      {
        "duration": 4,
        "start_time": "2023-04-20T23:33:40.267Z"
      },
      {
        "duration": 39,
        "start_time": "2023-04-20T23:33:40.272Z"
      },
      {
        "duration": 10,
        "start_time": "2023-04-20T23:33:40.313Z"
      },
      {
        "duration": 108,
        "start_time": "2023-04-20T23:33:40.325Z"
      },
      {
        "duration": 43,
        "start_time": "2023-04-20T23:33:40.434Z"
      },
      {
        "duration": 651,
        "start_time": "2023-04-20T23:33:40.479Z"
      },
      {
        "duration": 347,
        "start_time": "2023-04-20T23:33:41.132Z"
      },
      {
        "duration": 44,
        "start_time": "2023-04-20T23:33:41.480Z"
      },
      {
        "duration": 9,
        "start_time": "2023-04-20T23:33:41.526Z"
      },
      {
        "duration": 6,
        "start_time": "2023-04-20T23:33:41.536Z"
      },
      {
        "duration": 55,
        "start_time": "2023-04-20T23:33:41.543Z"
      },
      {
        "duration": 8,
        "start_time": "2023-04-20T23:33:41.601Z"
      },
      {
        "duration": 23,
        "start_time": "2023-04-20T23:33:41.611Z"
      },
      {
        "duration": 11,
        "start_time": "2023-04-20T23:33:41.636Z"
      },
      {
        "duration": 137,
        "start_time": "2023-04-20T23:33:41.648Z"
      },
      {
        "duration": 6,
        "start_time": "2023-04-20T23:33:41.792Z"
      },
      {
        "duration": 11,
        "start_time": "2023-04-20T23:33:41.799Z"
      },
      {
        "duration": 1958,
        "start_time": "2023-04-20T23:33:41.812Z"
      },
      {
        "duration": 4,
        "start_time": "2023-04-20T23:33:43.772Z"
      },
      {
        "duration": 39,
        "start_time": "2023-04-20T23:33:43.777Z"
      },
      {
        "duration": 9,
        "start_time": "2023-04-20T23:33:43.818Z"
      },
      {
        "duration": 167,
        "start_time": "2023-04-20T23:33:43.829Z"
      },
      {
        "duration": 18,
        "start_time": "2023-04-20T23:33:43.998Z"
      },
      {
        "duration": 15,
        "start_time": "2023-04-20T23:33:44.018Z"
      },
      {
        "duration": 5,
        "start_time": "2023-04-20T23:33:44.034Z"
      },
      {
        "duration": 110,
        "start_time": "2023-04-20T23:33:44.041Z"
      },
      {
        "duration": 20,
        "start_time": "2023-04-20T23:33:44.153Z"
      },
      {
        "duration": 128,
        "start_time": "2023-04-20T23:33:44.175Z"
      },
      {
        "duration": 5,
        "start_time": "2023-04-20T23:33:44.304Z"
      },
      {
        "duration": 444,
        "start_time": "2023-04-20T23:33:44.311Z"
      },
      {
        "duration": 736,
        "start_time": "2023-04-20T23:33:44.757Z"
      },
      {
        "duration": 4,
        "start_time": "2023-04-20T23:33:45.495Z"
      },
      {
        "duration": 27,
        "start_time": "2023-04-20T23:33:45.501Z"
      },
      {
        "duration": 982,
        "start_time": "2023-04-20T23:33:45.530Z"
      },
      {
        "duration": 7,
        "start_time": "2023-04-20T23:33:46.514Z"
      },
      {
        "duration": 20,
        "start_time": "2023-04-20T23:33:46.523Z"
      },
      {
        "duration": 113,
        "start_time": "2023-04-20T23:36:08.492Z"
      },
      {
        "duration": 100,
        "start_time": "2023-04-20T23:36:14.865Z"
      },
      {
        "duration": 105,
        "start_time": "2023-04-20T23:36:18.799Z"
      },
      {
        "duration": 105,
        "start_time": "2023-04-20T23:36:25.181Z"
      },
      {
        "duration": 8,
        "start_time": "2023-04-20T23:44:01.627Z"
      },
      {
        "duration": 210,
        "start_time": "2023-04-20T23:44:06.948Z"
      },
      {
        "duration": 1313,
        "start_time": "2023-04-20T23:46:43.045Z"
      },
      {
        "duration": 586,
        "start_time": "2023-04-20T23:46:44.359Z"
      },
      {
        "duration": 3,
        "start_time": "2023-04-20T23:46:44.946Z"
      },
      {
        "duration": 33,
        "start_time": "2023-04-20T23:46:44.951Z"
      },
      {
        "duration": 10,
        "start_time": "2023-04-20T23:46:44.993Z"
      },
      {
        "duration": 122,
        "start_time": "2023-04-20T23:46:45.004Z"
      },
      {
        "duration": 42,
        "start_time": "2023-04-20T23:46:45.128Z"
      },
      {
        "duration": 615,
        "start_time": "2023-04-20T23:46:45.171Z"
      },
      {
        "duration": 347,
        "start_time": "2023-04-20T23:46:45.788Z"
      },
      {
        "duration": 56,
        "start_time": "2023-04-20T23:46:46.138Z"
      },
      {
        "duration": 10,
        "start_time": "2023-04-20T23:46:46.197Z"
      },
      {
        "duration": 14,
        "start_time": "2023-04-20T23:46:46.209Z"
      },
      {
        "duration": 30,
        "start_time": "2023-04-20T23:46:46.224Z"
      },
      {
        "duration": 9,
        "start_time": "2023-04-20T23:46:46.256Z"
      },
      {
        "duration": 45,
        "start_time": "2023-04-20T23:46:46.267Z"
      },
      {
        "duration": 11,
        "start_time": "2023-04-20T23:46:46.314Z"
      },
      {
        "duration": 13,
        "start_time": "2023-04-20T23:46:46.327Z"
      },
      {
        "duration": 126,
        "start_time": "2023-04-20T23:46:46.342Z"
      },
      {
        "duration": 22,
        "start_time": "2023-04-20T23:46:46.471Z"
      },
      {
        "duration": 11,
        "start_time": "2023-04-20T23:46:46.495Z"
      },
      {
        "duration": 1978,
        "start_time": "2023-04-20T23:46:46.507Z"
      },
      {
        "duration": 6,
        "start_time": "2023-04-20T23:46:48.487Z"
      },
      {
        "duration": 50,
        "start_time": "2023-04-20T23:46:48.495Z"
      },
      {
        "duration": 9,
        "start_time": "2023-04-20T23:46:48.547Z"
      },
      {
        "duration": 159,
        "start_time": "2023-04-20T23:46:48.558Z"
      },
      {
        "duration": 17,
        "start_time": "2023-04-20T23:46:48.719Z"
      },
      {
        "duration": 17,
        "start_time": "2023-04-20T23:46:48.737Z"
      },
      {
        "duration": 5,
        "start_time": "2023-04-20T23:46:48.757Z"
      },
      {
        "duration": 35,
        "start_time": "2023-04-20T23:46:48.764Z"
      },
      {
        "duration": 20,
        "start_time": "2023-04-20T23:46:48.801Z"
      },
      {
        "duration": 185,
        "start_time": "2023-04-20T23:46:48.823Z"
      },
      {
        "duration": 5,
        "start_time": "2023-04-20T23:46:49.010Z"
      },
      {
        "duration": 449,
        "start_time": "2023-04-20T23:46:49.017Z"
      },
      {
        "duration": 724,
        "start_time": "2023-04-20T23:46:49.468Z"
      },
      {
        "duration": 4,
        "start_time": "2023-04-20T23:46:50.194Z"
      },
      {
        "duration": 24,
        "start_time": "2023-04-20T23:46:50.200Z"
      },
      {
        "duration": 947,
        "start_time": "2023-04-20T23:46:50.226Z"
      },
      {
        "duration": 20,
        "start_time": "2023-04-20T23:46:51.176Z"
      },
      {
        "duration": 11,
        "start_time": "2023-04-20T23:46:51.199Z"
      },
      {
        "duration": 8769,
        "start_time": "2023-04-21T07:45:47.370Z"
      },
      {
        "duration": 4487,
        "start_time": "2023-04-21T07:45:58.610Z"
      },
      {
        "duration": 2042,
        "start_time": "2023-04-21T07:46:03.100Z"
      },
      {
        "duration": 3,
        "start_time": "2023-04-21T07:46:05.144Z"
      },
      {
        "duration": 61,
        "start_time": "2023-04-21T07:46:05.149Z"
      },
      {
        "duration": 10,
        "start_time": "2023-04-21T07:46:05.212Z"
      },
      {
        "duration": 134,
        "start_time": "2023-04-21T07:46:05.224Z"
      },
      {
        "duration": 43,
        "start_time": "2023-04-21T07:46:05.359Z"
      },
      {
        "duration": 628,
        "start_time": "2023-04-21T07:46:05.412Z"
      },
      {
        "duration": 330,
        "start_time": "2023-04-21T07:46:06.042Z"
      },
      {
        "duration": 53,
        "start_time": "2023-04-21T07:46:06.374Z"
      },
      {
        "duration": 9,
        "start_time": "2023-04-21T07:46:06.429Z"
      },
      {
        "duration": 5,
        "start_time": "2023-04-21T07:46:06.440Z"
      },
      {
        "duration": 27,
        "start_time": "2023-04-21T07:46:06.447Z"
      },
      {
        "duration": 7,
        "start_time": "2023-04-21T07:46:06.476Z"
      },
      {
        "duration": 49,
        "start_time": "2023-04-21T07:46:06.484Z"
      },
      {
        "duration": 11,
        "start_time": "2023-04-21T07:46:06.534Z"
      },
      {
        "duration": 12,
        "start_time": "2023-04-21T07:46:06.547Z"
      },
      {
        "duration": 137,
        "start_time": "2023-04-21T07:46:06.561Z"
      },
      {
        "duration": 11,
        "start_time": "2023-04-21T07:46:06.700Z"
      },
      {
        "duration": 10,
        "start_time": "2023-04-21T07:46:06.713Z"
      },
      {
        "duration": 1909,
        "start_time": "2023-04-21T07:46:06.725Z"
      },
      {
        "duration": 4,
        "start_time": "2023-04-21T07:46:08.636Z"
      },
      {
        "duration": 47,
        "start_time": "2023-04-21T07:46:08.642Z"
      },
      {
        "duration": 20,
        "start_time": "2023-04-21T07:46:08.691Z"
      },
      {
        "duration": 172,
        "start_time": "2023-04-21T07:46:08.714Z"
      },
      {
        "duration": 31,
        "start_time": "2023-04-21T07:46:08.888Z"
      },
      {
        "duration": 21,
        "start_time": "2023-04-21T07:46:08.921Z"
      },
      {
        "duration": 7,
        "start_time": "2023-04-21T07:46:08.946Z"
      },
      {
        "duration": 14,
        "start_time": "2023-04-21T07:46:08.955Z"
      },
      {
        "duration": 54,
        "start_time": "2023-04-21T07:46:08.971Z"
      },
      {
        "duration": 201,
        "start_time": "2023-04-21T07:46:09.027Z"
      },
      {
        "duration": 5,
        "start_time": "2023-04-21T07:46:09.230Z"
      },
      {
        "duration": 437,
        "start_time": "2023-04-21T07:46:09.236Z"
      },
      {
        "duration": 733,
        "start_time": "2023-04-21T07:46:09.675Z"
      },
      {
        "duration": 5,
        "start_time": "2023-04-21T07:46:10.411Z"
      },
      {
        "duration": 34,
        "start_time": "2023-04-21T07:46:10.417Z"
      },
      {
        "duration": 988,
        "start_time": "2023-04-21T07:46:10.453Z"
      },
      {
        "duration": 7,
        "start_time": "2023-04-21T07:46:11.443Z"
      },
      {
        "duration": 13,
        "start_time": "2023-04-21T07:46:11.452Z"
      },
      {
        "duration": 15,
        "start_time": "2023-04-21T07:51:23.209Z"
      },
      {
        "duration": 111,
        "start_time": "2023-04-21T07:54:37.914Z"
      },
      {
        "duration": 34,
        "start_time": "2023-04-21T07:55:29.804Z"
      },
      {
        "duration": 28,
        "start_time": "2023-04-21T07:56:02.637Z"
      },
      {
        "duration": 3553,
        "start_time": "2023-04-21T07:56:38.485Z"
      },
      {
        "duration": 596,
        "start_time": "2023-04-21T07:56:42.041Z"
      },
      {
        "duration": 4,
        "start_time": "2023-04-21T07:56:42.639Z"
      },
      {
        "duration": 39,
        "start_time": "2023-04-21T07:56:42.645Z"
      },
      {
        "duration": 24,
        "start_time": "2023-04-21T07:56:42.688Z"
      },
      {
        "duration": 106,
        "start_time": "2023-04-21T07:56:42.714Z"
      },
      {
        "duration": 58,
        "start_time": "2023-04-21T07:56:42.822Z"
      },
      {
        "duration": 653,
        "start_time": "2023-04-21T07:56:42.881Z"
      },
      {
        "duration": 353,
        "start_time": "2023-04-21T07:56:43.536Z"
      },
      {
        "duration": 61,
        "start_time": "2023-04-21T07:56:43.891Z"
      },
      {
        "duration": 10,
        "start_time": "2023-04-21T07:56:43.953Z"
      },
      {
        "duration": 8,
        "start_time": "2023-04-21T07:56:43.964Z"
      },
      {
        "duration": 54,
        "start_time": "2023-04-21T07:56:43.974Z"
      },
      {
        "duration": 9,
        "start_time": "2023-04-21T07:56:44.031Z"
      },
      {
        "duration": 34,
        "start_time": "2023-04-21T07:56:44.041Z"
      },
      {
        "duration": 9,
        "start_time": "2023-04-21T07:56:44.077Z"
      },
      {
        "duration": 16,
        "start_time": "2023-04-21T07:56:44.088Z"
      },
      {
        "duration": 136,
        "start_time": "2023-04-21T07:56:44.106Z"
      },
      {
        "duration": 6,
        "start_time": "2023-04-21T07:56:44.243Z"
      },
      {
        "duration": 10,
        "start_time": "2023-04-21T07:56:44.250Z"
      },
      {
        "duration": 1966,
        "start_time": "2023-04-21T07:56:44.261Z"
      },
      {
        "duration": 4,
        "start_time": "2023-04-21T07:56:46.228Z"
      },
      {
        "duration": 36,
        "start_time": "2023-04-21T07:56:46.234Z"
      },
      {
        "duration": 153,
        "start_time": "2023-04-21T07:56:46.271Z"
      },
      {
        "duration": 0,
        "start_time": "2023-04-21T07:56:46.426Z"
      },
      {
        "duration": 0,
        "start_time": "2023-04-21T07:56:46.428Z"
      },
      {
        "duration": 0,
        "start_time": "2023-04-21T07:56:46.429Z"
      },
      {
        "duration": 0,
        "start_time": "2023-04-21T07:56:46.430Z"
      },
      {
        "duration": 0,
        "start_time": "2023-04-21T07:56:46.431Z"
      },
      {
        "duration": 0,
        "start_time": "2023-04-21T07:56:46.432Z"
      },
      {
        "duration": 0,
        "start_time": "2023-04-21T07:56:46.519Z"
      },
      {
        "duration": 0,
        "start_time": "2023-04-21T07:56:46.520Z"
      },
      {
        "duration": 0,
        "start_time": "2023-04-21T07:56:46.520Z"
      },
      {
        "duration": 0,
        "start_time": "2023-04-21T07:56:46.521Z"
      },
      {
        "duration": 0,
        "start_time": "2023-04-21T07:56:46.522Z"
      },
      {
        "duration": 0,
        "start_time": "2023-04-21T07:56:46.522Z"
      },
      {
        "duration": 0,
        "start_time": "2023-04-21T07:56:46.523Z"
      },
      {
        "duration": 0,
        "start_time": "2023-04-21T07:56:46.527Z"
      },
      {
        "duration": 0,
        "start_time": "2023-04-21T07:56:46.528Z"
      },
      {
        "duration": 0,
        "start_time": "2023-04-21T07:56:46.530Z"
      },
      {
        "duration": 0,
        "start_time": "2023-04-21T07:56:46.531Z"
      },
      {
        "duration": 3487,
        "start_time": "2023-04-21T07:57:35.874Z"
      },
      {
        "duration": 592,
        "start_time": "2023-04-21T07:57:39.366Z"
      },
      {
        "duration": 4,
        "start_time": "2023-04-21T07:57:39.960Z"
      },
      {
        "duration": 35,
        "start_time": "2023-04-21T07:57:39.966Z"
      },
      {
        "duration": 12,
        "start_time": "2023-04-21T07:57:40.011Z"
      },
      {
        "duration": 112,
        "start_time": "2023-04-21T07:57:40.025Z"
      },
      {
        "duration": 42,
        "start_time": "2023-04-21T07:57:40.139Z"
      },
      {
        "duration": 623,
        "start_time": "2023-04-21T07:57:40.183Z"
      },
      {
        "duration": 330,
        "start_time": "2023-04-21T07:57:40.808Z"
      },
      {
        "duration": 38,
        "start_time": "2023-04-21T07:57:41.140Z"
      },
      {
        "duration": 9,
        "start_time": "2023-04-21T07:57:41.179Z"
      },
      {
        "duration": 8,
        "start_time": "2023-04-21T07:57:41.211Z"
      },
      {
        "duration": 33,
        "start_time": "2023-04-21T07:57:41.221Z"
      },
      {
        "duration": 8,
        "start_time": "2023-04-21T07:57:41.256Z"
      },
      {
        "duration": 21,
        "start_time": "2023-04-21T07:57:41.265Z"
      },
      {
        "duration": 11,
        "start_time": "2023-04-21T07:57:41.312Z"
      },
      {
        "duration": 6,
        "start_time": "2023-04-21T07:57:41.324Z"
      },
      {
        "duration": 127,
        "start_time": "2023-04-21T07:57:41.332Z"
      },
      {
        "duration": 5,
        "start_time": "2023-04-21T07:57:41.461Z"
      },
      {
        "duration": 9,
        "start_time": "2023-04-21T07:57:41.468Z"
      },
      {
        "duration": 1939,
        "start_time": "2023-04-21T07:57:41.479Z"
      },
      {
        "duration": 5,
        "start_time": "2023-04-21T07:57:43.421Z"
      },
      {
        "duration": 35,
        "start_time": "2023-04-21T07:57:43.428Z"
      },
      {
        "duration": 11,
        "start_time": "2023-04-21T07:57:43.465Z"
      },
      {
        "duration": 39,
        "start_time": "2023-04-21T07:57:43.478Z"
      },
      {
        "duration": 161,
        "start_time": "2023-04-21T07:57:43.519Z"
      },
      {
        "duration": 16,
        "start_time": "2023-04-21T07:57:43.683Z"
      },
      {
        "duration": 25,
        "start_time": "2023-04-21T07:57:43.701Z"
      },
      {
        "duration": 5,
        "start_time": "2023-04-21T07:57:43.728Z"
      },
      {
        "duration": 11,
        "start_time": "2023-04-21T07:57:43.735Z"
      },
      {
        "duration": 20,
        "start_time": "2023-04-21T07:57:43.747Z"
      },
      {
        "duration": 219,
        "start_time": "2023-04-21T07:57:43.769Z"
      },
      {
        "duration": 5,
        "start_time": "2023-04-21T07:57:43.990Z"
      },
      {
        "duration": 420,
        "start_time": "2023-04-21T07:57:43.997Z"
      },
      {
        "duration": 668,
        "start_time": "2023-04-21T07:57:44.418Z"
      },
      {
        "duration": 4,
        "start_time": "2023-04-21T07:57:45.088Z"
      },
      {
        "duration": 37,
        "start_time": "2023-04-21T07:57:45.094Z"
      },
      {
        "duration": 913,
        "start_time": "2023-04-21T07:57:45.133Z"
      },
      {
        "duration": 6,
        "start_time": "2023-04-21T07:57:46.048Z"
      },
      {
        "duration": 13,
        "start_time": "2023-04-21T07:57:46.055Z"
      },
      {
        "duration": 128,
        "start_time": "2023-04-21T08:00:15.013Z"
      },
      {
        "duration": 766,
        "start_time": "2023-04-21T08:00:25.138Z"
      },
      {
        "duration": 756,
        "start_time": "2023-04-21T08:01:26.392Z"
      },
      {
        "duration": 22,
        "start_time": "2023-04-21T08:01:57.512Z"
      },
      {
        "duration": 234,
        "start_time": "2023-04-21T08:03:02.617Z"
      },
      {
        "duration": 48,
        "start_time": "2023-04-21T08:03:44.126Z"
      },
      {
        "duration": 271,
        "start_time": "2023-04-21T08:04:56.162Z"
      },
      {
        "duration": 297,
        "start_time": "2023-04-21T08:05:37.440Z"
      },
      {
        "duration": 876,
        "start_time": "2023-04-21T08:06:01.002Z"
      },
      {
        "duration": 667,
        "start_time": "2023-04-21T08:06:06.808Z"
      },
      {
        "duration": 746,
        "start_time": "2023-04-21T08:06:56.973Z"
      },
      {
        "duration": 506,
        "start_time": "2023-04-21T08:07:14.020Z"
      },
      {
        "duration": 271,
        "start_time": "2023-04-21T08:07:22.540Z"
      },
      {
        "duration": 28,
        "start_time": "2023-04-21T08:07:26.557Z"
      },
      {
        "duration": 702,
        "start_time": "2023-04-21T08:07:32.600Z"
      },
      {
        "duration": 293,
        "start_time": "2023-04-21T08:07:42.229Z"
      },
      {
        "duration": 731,
        "start_time": "2023-04-21T08:08:39.971Z"
      },
      {
        "duration": 3460,
        "start_time": "2023-04-21T08:08:50.548Z"
      },
      {
        "duration": 609,
        "start_time": "2023-04-21T08:08:54.010Z"
      },
      {
        "duration": 4,
        "start_time": "2023-04-21T08:08:54.622Z"
      },
      {
        "duration": 46,
        "start_time": "2023-04-21T08:08:54.627Z"
      },
      {
        "duration": 10,
        "start_time": "2023-04-21T08:08:54.675Z"
      },
      {
        "duration": 109,
        "start_time": "2023-04-21T08:08:54.687Z"
      },
      {
        "duration": 56,
        "start_time": "2023-04-21T08:08:54.798Z"
      },
      {
        "duration": 632,
        "start_time": "2023-04-21T08:08:54.856Z"
      },
      {
        "duration": 342,
        "start_time": "2023-04-21T08:08:55.489Z"
      },
      {
        "duration": 40,
        "start_time": "2023-04-21T08:08:55.832Z"
      },
      {
        "duration": 9,
        "start_time": "2023-04-21T08:08:55.874Z"
      },
      {
        "duration": 6,
        "start_time": "2023-04-21T08:08:55.911Z"
      },
      {
        "duration": 33,
        "start_time": "2023-04-21T08:08:55.919Z"
      },
      {
        "duration": 7,
        "start_time": "2023-04-21T08:08:55.955Z"
      },
      {
        "duration": 26,
        "start_time": "2023-04-21T08:08:55.964Z"
      },
      {
        "duration": 25,
        "start_time": "2023-04-21T08:08:55.992Z"
      },
      {
        "duration": 6,
        "start_time": "2023-04-21T08:08:56.018Z"
      },
      {
        "duration": 143,
        "start_time": "2023-04-21T08:08:56.026Z"
      },
      {
        "duration": 6,
        "start_time": "2023-04-21T08:08:56.170Z"
      },
      {
        "duration": 11,
        "start_time": "2023-04-21T08:08:56.178Z"
      },
      {
        "duration": 1915,
        "start_time": "2023-04-21T08:08:56.191Z"
      },
      {
        "duration": 4,
        "start_time": "2023-04-21T08:08:58.111Z"
      },
      {
        "duration": 28,
        "start_time": "2023-04-21T08:08:58.117Z"
      },
      {
        "duration": 10,
        "start_time": "2023-04-21T08:08:58.147Z"
      },
      {
        "duration": 13,
        "start_time": "2023-04-21T08:08:58.159Z"
      },
      {
        "duration": 195,
        "start_time": "2023-04-21T08:08:58.174Z"
      },
      {
        "duration": 106,
        "start_time": "2023-04-21T08:08:58.371Z"
      },
      {
        "duration": 17,
        "start_time": "2023-04-21T08:08:58.479Z"
      },
      {
        "duration": 17,
        "start_time": "2023-04-21T08:08:58.497Z"
      },
      {
        "duration": 14,
        "start_time": "2023-04-21T08:08:58.516Z"
      },
      {
        "duration": 19,
        "start_time": "2023-04-21T08:08:58.531Z"
      },
      {
        "duration": 112,
        "start_time": "2023-04-21T08:08:58.552Z"
      },
      {
        "duration": 4,
        "start_time": "2023-04-21T08:08:58.666Z"
      },
      {
        "duration": 514,
        "start_time": "2023-04-21T08:08:58.672Z"
      },
      {
        "duration": 796,
        "start_time": "2023-04-21T08:08:59.188Z"
      },
      {
        "duration": 19,
        "start_time": "2023-04-21T08:08:59.986Z"
      },
      {
        "duration": 276,
        "start_time": "2023-04-21T08:09:00.012Z"
      },
      {
        "duration": 818,
        "start_time": "2023-04-21T08:09:00.290Z"
      },
      {
        "duration": 5,
        "start_time": "2023-04-21T08:09:01.111Z"
      },
      {
        "duration": 50,
        "start_time": "2023-04-21T08:09:01.118Z"
      },
      {
        "duration": 913,
        "start_time": "2023-04-21T08:09:01.171Z"
      },
      {
        "duration": 26,
        "start_time": "2023-04-21T08:09:02.086Z"
      },
      {
        "duration": 37,
        "start_time": "2023-04-21T08:09:02.114Z"
      },
      {
        "duration": 450,
        "start_time": "2023-04-21T08:09:31.274Z"
      },
      {
        "duration": 769,
        "start_time": "2023-04-21T08:09:57.031Z"
      },
      {
        "duration": 384,
        "start_time": "2023-04-21T08:12:04.567Z"
      },
      {
        "duration": 3646,
        "start_time": "2023-04-21T08:21:39.198Z"
      },
      {
        "duration": 673,
        "start_time": "2023-04-21T08:21:42.847Z"
      },
      {
        "duration": 6,
        "start_time": "2023-04-21T08:21:43.522Z"
      },
      {
        "duration": 46,
        "start_time": "2023-04-21T08:21:43.530Z"
      },
      {
        "duration": 11,
        "start_time": "2023-04-21T08:21:43.578Z"
      },
      {
        "duration": 147,
        "start_time": "2023-04-21T08:21:43.590Z"
      },
      {
        "duration": 48,
        "start_time": "2023-04-21T08:21:43.739Z"
      },
      {
        "duration": 730,
        "start_time": "2023-04-21T08:21:43.789Z"
      },
      {
        "duration": 394,
        "start_time": "2023-04-21T08:21:44.521Z"
      },
      {
        "duration": 44,
        "start_time": "2023-04-21T08:21:44.919Z"
      },
      {
        "duration": 9,
        "start_time": "2023-04-21T08:21:44.965Z"
      },
      {
        "duration": 6,
        "start_time": "2023-04-21T08:21:44.976Z"
      },
      {
        "duration": 40,
        "start_time": "2023-04-21T08:21:45.016Z"
      },
      {
        "duration": 9,
        "start_time": "2023-04-21T08:21:45.057Z"
      },
      {
        "duration": 23,
        "start_time": "2023-04-21T08:21:45.067Z"
      },
      {
        "duration": 27,
        "start_time": "2023-04-21T08:21:45.092Z"
      },
      {
        "duration": 26,
        "start_time": "2023-04-21T08:21:45.121Z"
      },
      {
        "duration": 161,
        "start_time": "2023-04-21T08:21:45.150Z"
      },
      {
        "duration": 6,
        "start_time": "2023-04-21T08:21:45.313Z"
      },
      {
        "duration": 24,
        "start_time": "2023-04-21T08:21:45.321Z"
      },
      {
        "duration": 1960,
        "start_time": "2023-04-21T08:21:45.347Z"
      },
      {
        "duration": 5,
        "start_time": "2023-04-21T08:21:47.312Z"
      },
      {
        "duration": 63,
        "start_time": "2023-04-21T08:21:47.319Z"
      },
      {
        "duration": 11,
        "start_time": "2023-04-21T08:21:47.384Z"
      },
      {
        "duration": 20,
        "start_time": "2023-04-21T08:21:47.397Z"
      },
      {
        "duration": 219,
        "start_time": "2023-04-21T08:21:47.419Z"
      },
      {
        "duration": 117,
        "start_time": "2023-04-21T08:21:47.640Z"
      },
      {
        "duration": 18,
        "start_time": "2023-04-21T08:21:47.762Z"
      },
      {
        "duration": 5,
        "start_time": "2023-04-21T08:21:47.781Z"
      },
      {
        "duration": 34,
        "start_time": "2023-04-21T08:21:47.788Z"
      },
      {
        "duration": 23,
        "start_time": "2023-04-21T08:21:47.824Z"
      },
      {
        "duration": 144,
        "start_time": "2023-04-21T08:21:47.848Z"
      },
      {
        "duration": 6,
        "start_time": "2023-04-21T08:21:47.993Z"
      },
      {
        "duration": 466,
        "start_time": "2023-04-21T08:21:48.012Z"
      },
      {
        "duration": 864,
        "start_time": "2023-04-21T08:21:48.479Z"
      },
      {
        "duration": 331,
        "start_time": "2023-04-21T08:21:49.345Z"
      },
      {
        "duration": 6,
        "start_time": "2023-04-21T08:21:49.678Z"
      },
      {
        "duration": 46,
        "start_time": "2023-04-21T08:21:49.686Z"
      },
      {
        "duration": 1197,
        "start_time": "2023-04-21T08:21:49.734Z"
      },
      {
        "duration": 8,
        "start_time": "2023-04-21T08:21:50.933Z"
      },
      {
        "duration": 20,
        "start_time": "2023-04-21T08:21:50.943Z"
      },
      {
        "duration": 3686,
        "start_time": "2023-04-21T08:22:14.376Z"
      },
      {
        "duration": 642,
        "start_time": "2023-04-21T08:22:18.065Z"
      },
      {
        "duration": 4,
        "start_time": "2023-04-21T08:22:18.710Z"
      },
      {
        "duration": 52,
        "start_time": "2023-04-21T08:22:18.717Z"
      },
      {
        "duration": 11,
        "start_time": "2023-04-21T08:22:18.770Z"
      },
      {
        "duration": 185,
        "start_time": "2023-04-21T08:22:18.783Z"
      },
      {
        "duration": 72,
        "start_time": "2023-04-21T08:22:18.970Z"
      },
      {
        "duration": 808,
        "start_time": "2023-04-21T08:22:19.044Z"
      },
      {
        "duration": 404,
        "start_time": "2023-04-21T08:22:19.854Z"
      },
      {
        "duration": 85,
        "start_time": "2023-04-21T08:22:20.261Z"
      },
      {
        "duration": 14,
        "start_time": "2023-04-21T08:22:20.348Z"
      },
      {
        "duration": 26,
        "start_time": "2023-04-21T08:22:20.364Z"
      },
      {
        "duration": 60,
        "start_time": "2023-04-21T08:22:20.391Z"
      },
      {
        "duration": 9,
        "start_time": "2023-04-21T08:22:20.455Z"
      },
      {
        "duration": 35,
        "start_time": "2023-04-21T08:22:20.466Z"
      },
      {
        "duration": 52,
        "start_time": "2023-04-21T08:22:20.503Z"
      },
      {
        "duration": 26,
        "start_time": "2023-04-21T08:22:20.556Z"
      },
      {
        "duration": 222,
        "start_time": "2023-04-21T08:22:20.583Z"
      },
      {
        "duration": 9,
        "start_time": "2023-04-21T08:22:20.807Z"
      },
      {
        "duration": 60,
        "start_time": "2023-04-21T08:22:20.818Z"
      },
      {
        "duration": 2271,
        "start_time": "2023-04-21T08:22:20.880Z"
      },
      {
        "duration": 7,
        "start_time": "2023-04-21T08:22:23.154Z"
      },
      {
        "duration": 61,
        "start_time": "2023-04-21T08:22:23.163Z"
      },
      {
        "duration": 19,
        "start_time": "2023-04-21T08:22:23.226Z"
      },
      {
        "duration": 42,
        "start_time": "2023-04-21T08:22:23.247Z"
      },
      {
        "duration": 192,
        "start_time": "2023-04-21T08:22:23.292Z"
      },
      {
        "duration": 27,
        "start_time": "2023-04-21T08:22:23.486Z"
      },
      {
        "duration": 28,
        "start_time": "2023-04-21T08:22:23.518Z"
      },
      {
        "duration": 7,
        "start_time": "2023-04-21T08:22:23.548Z"
      },
      {
        "duration": 24,
        "start_time": "2023-04-21T08:22:23.556Z"
      },
      {
        "duration": 46,
        "start_time": "2023-04-21T08:22:23.583Z"
      },
      {
        "duration": 141,
        "start_time": "2023-04-21T08:22:23.632Z"
      },
      {
        "duration": 5,
        "start_time": "2023-04-21T08:22:23.775Z"
      },
      {
        "duration": 624,
        "start_time": "2023-04-21T08:22:23.782Z"
      },
      {
        "duration": 768,
        "start_time": "2023-04-21T08:22:24.411Z"
      },
      {
        "duration": 332,
        "start_time": "2023-04-21T08:22:25.182Z"
      },
      {
        "duration": 5,
        "start_time": "2023-04-21T08:22:25.516Z"
      },
      {
        "duration": 39,
        "start_time": "2023-04-21T08:22:25.523Z"
      },
      {
        "duration": 1065,
        "start_time": "2023-04-21T08:22:25.565Z"
      },
      {
        "duration": 15,
        "start_time": "2023-04-21T08:22:26.633Z"
      },
      {
        "duration": 56,
        "start_time": "2023-04-21T08:22:26.651Z"
      },
      {
        "duration": 3489,
        "start_time": "2023-04-21T08:30:32.199Z"
      },
      {
        "duration": 585,
        "start_time": "2023-04-21T08:30:35.691Z"
      },
      {
        "duration": 3,
        "start_time": "2023-04-21T08:30:36.278Z"
      },
      {
        "duration": 37,
        "start_time": "2023-04-21T08:30:36.283Z"
      },
      {
        "duration": 9,
        "start_time": "2023-04-21T08:30:36.322Z"
      },
      {
        "duration": 121,
        "start_time": "2023-04-21T08:30:36.333Z"
      },
      {
        "duration": 42,
        "start_time": "2023-04-21T08:30:36.456Z"
      },
      {
        "duration": 606,
        "start_time": "2023-04-21T08:30:36.513Z"
      },
      {
        "duration": 329,
        "start_time": "2023-04-21T08:30:37.121Z"
      },
      {
        "duration": 36,
        "start_time": "2023-04-21T08:30:37.453Z"
      },
      {
        "duration": 30,
        "start_time": "2023-04-21T08:30:37.490Z"
      },
      {
        "duration": 15,
        "start_time": "2023-04-21T08:30:37.521Z"
      },
      {
        "duration": 30,
        "start_time": "2023-04-21T08:30:37.537Z"
      },
      {
        "duration": 7,
        "start_time": "2023-04-21T08:30:37.569Z"
      },
      {
        "duration": 34,
        "start_time": "2023-04-21T08:30:37.578Z"
      },
      {
        "duration": 12,
        "start_time": "2023-04-21T08:30:37.613Z"
      },
      {
        "duration": 6,
        "start_time": "2023-04-21T08:30:37.626Z"
      },
      {
        "duration": 131,
        "start_time": "2023-04-21T08:30:37.633Z"
      },
      {
        "duration": 6,
        "start_time": "2023-04-21T08:30:37.765Z"
      },
      {
        "duration": 69,
        "start_time": "2023-04-21T08:30:37.772Z"
      },
      {
        "duration": 1993,
        "start_time": "2023-04-21T08:30:37.843Z"
      },
      {
        "duration": 5,
        "start_time": "2023-04-21T08:30:39.839Z"
      },
      {
        "duration": 30,
        "start_time": "2023-04-21T08:30:39.845Z"
      },
      {
        "duration": 37,
        "start_time": "2023-04-21T08:30:39.878Z"
      },
      {
        "duration": 19,
        "start_time": "2023-04-21T08:30:39.917Z"
      },
      {
        "duration": 148,
        "start_time": "2023-04-21T08:30:39.938Z"
      },
      {
        "duration": 24,
        "start_time": "2023-04-21T08:30:40.088Z"
      },
      {
        "duration": 16,
        "start_time": "2023-04-21T08:30:40.115Z"
      },
      {
        "duration": 7,
        "start_time": "2023-04-21T08:30:40.133Z"
      },
      {
        "duration": 12,
        "start_time": "2023-04-21T08:30:40.141Z"
      },
      {
        "duration": 19,
        "start_time": "2023-04-21T08:30:40.154Z"
      },
      {
        "duration": 120,
        "start_time": "2023-04-21T08:30:40.175Z"
      },
      {
        "duration": 14,
        "start_time": "2023-04-21T08:30:40.297Z"
      },
      {
        "duration": 501,
        "start_time": "2023-04-21T08:30:40.313Z"
      },
      {
        "duration": 686,
        "start_time": "2023-04-21T08:30:40.816Z"
      },
      {
        "duration": 276,
        "start_time": "2023-04-21T08:30:41.511Z"
      },
      {
        "duration": 5,
        "start_time": "2023-04-21T08:30:41.788Z"
      },
      {
        "duration": 36,
        "start_time": "2023-04-21T08:30:41.795Z"
      },
      {
        "duration": 943,
        "start_time": "2023-04-21T08:30:41.834Z"
      },
      {
        "duration": 6,
        "start_time": "2023-04-21T08:30:42.780Z"
      },
      {
        "duration": 37,
        "start_time": "2023-04-21T08:30:42.788Z"
      },
      {
        "duration": 8733,
        "start_time": "2023-04-21T13:13:57.909Z"
      },
      {
        "duration": 571,
        "start_time": "2023-04-21T13:14:06.644Z"
      },
      {
        "duration": 3,
        "start_time": "2023-04-21T13:14:07.216Z"
      },
      {
        "duration": 36,
        "start_time": "2023-04-21T13:14:07.221Z"
      },
      {
        "duration": 9,
        "start_time": "2023-04-21T13:14:07.258Z"
      },
      {
        "duration": 100,
        "start_time": "2023-04-21T13:14:07.269Z"
      },
      {
        "duration": 45,
        "start_time": "2023-04-21T13:14:07.370Z"
      },
      {
        "duration": 620,
        "start_time": "2023-04-21T13:14:07.416Z"
      },
      {
        "duration": 334,
        "start_time": "2023-04-21T13:14:08.038Z"
      },
      {
        "duration": 37,
        "start_time": "2023-04-21T13:14:08.374Z"
      },
      {
        "duration": 9,
        "start_time": "2023-04-21T13:14:08.413Z"
      },
      {
        "duration": 33,
        "start_time": "2023-04-21T13:14:08.424Z"
      },
      {
        "duration": 28,
        "start_time": "2023-04-21T13:14:08.458Z"
      },
      {
        "duration": 7,
        "start_time": "2023-04-21T13:14:08.489Z"
      },
      {
        "duration": 21,
        "start_time": "2023-04-21T13:14:08.498Z"
      },
      {
        "duration": 9,
        "start_time": "2023-04-21T13:14:08.521Z"
      },
      {
        "duration": 28,
        "start_time": "2023-04-21T13:14:08.531Z"
      },
      {
        "duration": 119,
        "start_time": "2023-04-21T13:14:08.561Z"
      },
      {
        "duration": 5,
        "start_time": "2023-04-21T13:14:08.682Z"
      },
      {
        "duration": 11,
        "start_time": "2023-04-21T13:14:08.689Z"
      },
      {
        "duration": 1780,
        "start_time": "2023-04-21T13:14:08.701Z"
      },
      {
        "duration": 4,
        "start_time": "2023-04-21T13:14:10.482Z"
      },
      {
        "duration": 44,
        "start_time": "2023-04-21T13:14:10.488Z"
      },
      {
        "duration": 10,
        "start_time": "2023-04-21T13:14:10.534Z"
      },
      {
        "duration": 20,
        "start_time": "2023-04-21T13:14:10.546Z"
      },
      {
        "duration": 159,
        "start_time": "2023-04-21T13:14:10.568Z"
      },
      {
        "duration": 19,
        "start_time": "2023-04-21T13:14:10.728Z"
      },
      {
        "duration": 17,
        "start_time": "2023-04-21T13:14:10.756Z"
      },
      {
        "duration": 5,
        "start_time": "2023-04-21T13:14:10.775Z"
      },
      {
        "duration": 12,
        "start_time": "2023-04-21T13:14:10.782Z"
      },
      {
        "duration": 19,
        "start_time": "2023-04-21T13:14:10.796Z"
      },
      {
        "duration": 125,
        "start_time": "2023-04-21T13:14:10.817Z"
      },
      {
        "duration": 13,
        "start_time": "2023-04-21T13:14:10.944Z"
      },
      {
        "duration": 504,
        "start_time": "2023-04-21T13:14:10.959Z"
      },
      {
        "duration": 642,
        "start_time": "2023-04-21T13:14:11.466Z"
      },
      {
        "duration": 278,
        "start_time": "2023-04-21T13:14:12.109Z"
      },
      {
        "duration": 4,
        "start_time": "2023-04-21T13:14:12.389Z"
      },
      {
        "duration": 25,
        "start_time": "2023-04-21T13:14:12.395Z"
      },
      {
        "duration": 155,
        "start_time": "2023-04-21T13:14:12.421Z"
      },
      {
        "duration": 0,
        "start_time": "2023-04-21T13:14:12.577Z"
      },
      {
        "duration": 0,
        "start_time": "2023-04-21T13:14:12.578Z"
      },
      {
        "duration": 1898,
        "start_time": "2023-04-21T13:15:06.707Z"
      },
      {
        "duration": 27,
        "start_time": "2023-04-21T13:15:16.003Z"
      }
    ],
    "kernelspec": {
      "display_name": "Python 3 (ipykernel)",
      "language": "python",
      "name": "python3"
    },
    "language_info": {
      "codemirror_mode": {
        "name": "ipython",
        "version": 3
      },
      "file_extension": ".py",
      "mimetype": "text/x-python",
      "name": "python",
      "nbconvert_exporter": "python",
      "pygments_lexer": "ipython3",
      "version": "3.9.12"
    },
    "toc": {
      "base_numbering": 1,
      "nav_menu": {},
      "number_sections": true,
      "sideBar": true,
      "skip_h1_title": true,
      "title_cell": "Table of Contents",
      "title_sidebar": "Contents",
      "toc_cell": false,
      "toc_position": {
        "height": "calc(100% - 180px)",
        "left": "10px",
        "top": "150px",
        "width": "347.227px"
      },
      "toc_section_display": true,
      "toc_window_display": true
    },
    "toc-autonumbering": false,
    "colab": {
      "provenance": [],
      "include_colab_link": true
    }
  },
  "nbformat": 4,
  "nbformat_minor": 0
}